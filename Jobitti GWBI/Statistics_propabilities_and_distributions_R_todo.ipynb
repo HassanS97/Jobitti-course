{
 "cells": [
  {
   "cell_type": "markdown",
   "metadata": {
    "collapsed": true
   },
   "source": [
    "# Probabilities and distributions"
   ]
  },
  {
   "cell_type": "markdown",
   "metadata": {},
   "source": [
    "This jupyter notebook introduces the usage and interpretation of statistical descriptors as well as basic concept in using probabilities and probability distributions."
   ]
  },
  {
   "cell_type": "markdown",
   "metadata": {},
   "source": [
    "## Installation of libraries and necessary software"
   ]
  },
  {
   "cell_type": "markdown",
   "metadata": {},
   "source": [
    "This notebook requires an R kernel to run the R scripts. We recommend to install the latest R version (https://www.r-project.org/), open an R console and then follow the instructions in https://irkernel.github.io/installation.\n",
    "\n",
    "More features and a user-friendly environment to run R scripts outside jupyter are available through RStudio\n",
    "\n",
    "Install the necessary libraries (only needed once) by executing (shift-enter) the following cell:"
   ]
  },
  {
   "cell_type": "code",
   "execution_count": null,
   "metadata": {},
   "outputs": [],
   "source": [
    "install.packages(\"MASS\", repos='http://cran.us.r-project.org')\n",
    "install.packages(\"perm\", repos='http://cran.us.r-project.org')\n",
    "if (!requireNamespace(\"BiocManager\", quietly = TRUE))\n",
    "    install.packages(\"BiocManager\")\n",
    "BiocManager::install(\"qvalue\")"
   ]
  },
  {
   "cell_type": "markdown",
   "metadata": {},
   "source": [
    "## Loading data and libraries"
   ]
  },
  {
   "cell_type": "markdown",
   "metadata": {},
   "source": [
    "This requires that the installation above have been finished without error"
   ]
  },
  {
   "cell_type": "code",
   "execution_count": null,
   "metadata": {},
   "outputs": [],
   "source": [
    "library(\"MASS\")\n",
    "library(\"perm\")\n",
    "library(\"qvalue\")"
   ]
  },
  {
   "cell_type": "markdown",
   "metadata": {},
   "source": [
    "The following commands provide important statistical descriptors of data sets:\n",
    "\n",
    "#### Examples:\n",
    "`mean(x)` Returns average/mean of a data set\n",
    "\n",
    "`median(x)` Returns median of a data set\n",
    "\n",
    "`min(x)` Returns minimum of a data set\n",
    "\n",
    "`max(x)` Returns maximum of a data set\n",
    "\n",
    "`var(x)` Returns variance of a data set\n",
    "\n",
    "`sd(x)` Returns standard deviation of a data set"
   ]
  },
  {
   "cell_type": "markdown",
   "metadata": {},
   "source": [
    "### An example for random data x:"
   ]
  },
  {
   "cell_type": "markdown",
   "metadata": {},
   "source": [
    "The function  ```rnorm ``` generates a vector of normally distributed random numbers (the normal distribution is introduced in more detail in the next section \"Probability distributions\"). You can check the help page of the function by writing ```?rnorm```."
   ]
  },
  {
   "cell_type": "code",
   "execution_count": null,
   "metadata": {},
   "outputs": [],
   "source": [
    "# 100 random values taken from a normal distribution with mean 0 and standard deviation 1 \n",
    "# (default of rnorm function)\n",
    "x <- rnorm(100)\n",
    "paste(\"First 6 values:\")\n",
    "head(x)\n",
    "paste(\"mean(x) =\",mean(x))\n"
   ]
  },
  {
   "cell_type": "markdown",
   "metadata": {},
   "source": [
    "#### The exercises 1-6 are based on the section \"Basic concepts and statistical descriptors\" in the course material.\n"
   ]
  },
  {
   "cell_type": "markdown",
   "metadata": {},
   "source": [
    "In the exercises 1-2 we will test a really simplistic way to create a simple dataset for testing functions."
   ]
  },
  {
   "cell_type": "markdown",
   "metadata": {},
   "source": [
    "## Exercise 1"
   ]
  },
  {
   "cell_type": "markdown",
   "metadata": {},
   "source": [
    "Create a data set containing the numbers 1 to 100 (`dset <- 1:100`) and calculate _mean, median, minium, maximum, variance_ and _standard deviation_."
   ]
  },
  {
   "cell_type": "code",
   "execution_count": 3,
   "metadata": {},
   "outputs": [
    {
     "data": {
      "text/html": [
       "50.5"
      ],
      "text/latex": [
       "50.5"
      ],
      "text/markdown": [
       "50.5"
      ],
      "text/plain": [
       "[1] 50.5"
      ]
     },
     "metadata": {},
     "output_type": "display_data"
    },
    {
     "data": {
      "text/html": [
       "50.5"
      ],
      "text/latex": [
       "50.5"
      ],
      "text/markdown": [
       "50.5"
      ],
      "text/plain": [
       "[1] 50.5"
      ]
     },
     "metadata": {},
     "output_type": "display_data"
    },
    {
     "data": {
      "text/html": [
       "1"
      ],
      "text/latex": [
       "1"
      ],
      "text/markdown": [
       "1"
      ],
      "text/plain": [
       "[1] 1"
      ]
     },
     "metadata": {},
     "output_type": "display_data"
    },
    {
     "data": {
      "text/html": [
       "100"
      ],
      "text/latex": [
       "100"
      ],
      "text/markdown": [
       "100"
      ],
      "text/plain": [
       "[1] 100"
      ]
     },
     "metadata": {},
     "output_type": "display_data"
    },
    {
     "data": {
      "text/html": [
       "841.666666666667"
      ],
      "text/latex": [
       "841.666666666667"
      ],
      "text/markdown": [
       "841.666666666667"
      ],
      "text/plain": [
       "[1] 841.6667"
      ]
     },
     "metadata": {},
     "output_type": "display_data"
    },
    {
     "data": {
      "text/html": [
       "29.011491975882"
      ],
      "text/latex": [
       "29.011491975882"
      ],
      "text/markdown": [
       "29.011491975882"
      ],
      "text/plain": [
       "[1] 29.01149"
      ]
     },
     "metadata": {},
     "output_type": "display_data"
    }
   ],
   "source": [
    "dset <- 1:100\n",
    "# add your code here ...\n",
    "mean(dset)\n",
    "median(dset)\n",
    "min(dset)\n",
    "max(dset)\n",
    "var(dset)\n",
    "sd(dset)"
   ]
  },
  {
   "cell_type": "markdown",
   "metadata": {},
   "source": [
    "#### Question: Why are _mean_ and _median_ the same??"
   ]
  },
  {
   "cell_type": "markdown",
   "metadata": {},
   "source": [
    "because the distribution is symmetric and data is normally distributed without any skewness "
   ]
  },
  {
   "cell_type": "markdown",
   "metadata": {},
   "source": [
    "#### Question: What is the relationship between _variance_ and _standard deviation_?"
   ]
  },
  {
   "cell_type": "markdown",
   "metadata": {},
   "source": [
    "variance is the square of standard deviation"
   ]
  },
  {
   "cell_type": "markdown",
   "metadata": {},
   "source": [
    "## Exercise 2"
   ]
  },
  {
   "cell_type": "markdown",
   "metadata": {},
   "source": [
    "Calculate `sum(dset)/length(dset)` and compare the returned value to the ones from the previous exercise."
   ]
  },
  {
   "cell_type": "code",
   "execution_count": 4,
   "metadata": {},
   "outputs": [
    {
     "data": {
      "text/html": [
       "50.5"
      ],
      "text/latex": [
       "50.5"
      ],
      "text/markdown": [
       "50.5"
      ],
      "text/plain": [
       "[1] 50.5"
      ]
     },
     "metadata": {},
     "output_type": "display_data"
    }
   ],
   "source": [
    "# add your code here ...\n",
    "sum(dset/length(dset))"
   ]
  },
  {
   "cell_type": "markdown",
   "metadata": {},
   "source": [
    "50.5. This code calculates the mean of the numeric data set (same formula)"
   ]
  },
  {
   "cell_type": "markdown",
   "metadata": {},
   "source": [
    "In the exercises 3-4 we will test the statistical descriptors for more realistic values generated from probability distribution model that we expect real measurement data to follow."
   ]
  },
  {
   "cell_type": "markdown",
   "metadata": {},
   "source": [
    "## Exercise 3"
   ]
  },
  {
   "cell_type": "markdown",
   "metadata": {},
   "source": [
    "Try to understand what happens in the script below.\n",
    "\n",
    "Vary the number of random values (e.g. from 5000 to 1000, 100 and 10000)."
   ]
  },
  {
   "cell_type": "code",
   "execution_count": 5,
   "metadata": {},
   "outputs": [
    {
     "data": {
      "text/html": [
       "-3.50917230098921"
      ],
      "text/latex": [
       "-3.50917230098921"
      ],
      "text/markdown": [
       "-3.50917230098921"
      ],
      "text/plain": [
       "[1] -3.509172"
      ]
     },
     "metadata": {},
     "output_type": "display_data"
    },
    {
     "data": {
      "text/html": [
       "4.74154966150438"
      ],
      "text/latex": [
       "4.74154966150438"
      ],
      "text/markdown": [
       "4.74154966150438"
      ],
      "text/plain": [
       "[1] 4.74155"
      ]
     },
     "metadata": {},
     "output_type": "display_data"
    },
    {
     "data": {
      "image/jpeg": "[encoded data removed]",
      "image/png": "",
      "image/svg+xml": [
       "<?xml version=\"1.0\" encoding=\"UTF-8\"?>\n",
       "<svg xmlns=\"http://www.w3.org/2000/svg\" xmlns:xlink=\"http://www.w3.org/1999/xlink\" width=\"288pt\" height=\"216pt\" viewBox=\"0 0 288 216\" version=\"1.1\">\n",
       "<defs>\n",
       "<g>\n",
       "<symbol overflow=\"visible\" id=\"glyph0-0\">\n",
       "<path style=\"stroke:none;\" d=\"\"/>\n",
       "</symbol>\n",
       "<symbol overflow=\"visible\" id=\"glyph0-1\">\n",
       "<path style=\"stroke:none;\" d=\"M 9.84375 -0.140625 L 9.84375 -11.140625 L 7.5 -11.140625 L 7.5 -7.0625 L 3.296875 -7.0625 L 3.296875 -11.140625 L 0.953125 -11.140625 L 0.953125 0 L 3.296875 0 L 3.296875 -4.9375 L 7.5 -4.9375 L 7.5 0 L 9.84375 0 Z M 9.84375 -0.140625 \"/>\n",
       "</symbol>\n",
       "<symbol overflow=\"visible\" id=\"glyph0-2\">\n",
       "<path style=\"stroke:none;\" d=\"M 3.125 -0.140625 L 3.125 -8.3125 L 0.9375 -8.3125 L 0.9375 0 L 3.125 0 Z M 3.15625 -9.15625 L 3.15625 -11.375 L 0.96875 -11.375 L 0.96875 -9.015625 L 3.15625 -9.015625 Z M 3.15625 -9.15625 \"/>\n",
       "</symbol>\n",
       "<symbol overflow=\"visible\" id=\"glyph0-3\">\n",
       "<path style=\"stroke:none;\" d=\"M 7.796875 -2.515625 L 7.796875 -2.625 C 7.796875 -3.546875 7.234375 -4.375 6.171875 -4.6875 L 3.53125 -5.4375 C 2.953125 -5.609375 2.84375 -5.609375 2.84375 -5.9375 C 2.84375 -6.375 3.28125 -6.546875 4.015625 -6.546875 C 5.015625 -6.546875 5.4375 -6.3125 5.453125 -5.453125 L 7.578125 -5.453125 C 7.546875 -7.296875 6.1875 -8.453125 4.03125 -8.453125 C 1.984375 -8.453125 0.65625 -7.296875 0.65625 -5.640625 C 0.65625 -4.65625 0.984375 -3.984375 2.46875 -3.515625 L 4.96875 -2.75 C 5.484375 -2.578125 5.609375 -2.546875 5.609375 -2.328125 C 5.609375 -1.828125 5.078125 -1.78125 4.109375 -1.78125 C 3.15625 -1.78125 2.703125 -1.8125 2.484375 -2.8125 L 0.375 -2.8125 C 0.4375 -0.921875 1.78125 0.140625 4.234375 0.140625 C 6.5 0.140625 7.796875 -0.890625 7.796875 -2.515625 Z M 7.796875 -2.515625 \"/>\n",
       "</symbol>\n",
       "<symbol overflow=\"visible\" id=\"glyph0-4\">\n",
       "<path style=\"stroke:none;\" d=\"M 4.53125 -0.140625 L 4.53125 -1.734375 C 4.28125 -1.703125 4.15625 -1.6875 4.015625 -1.6875 C 3.453125 -1.6875 3.375 -1.71875 3.375 -2.4375 L 3.375 -6.5 L 4.53125 -6.5 L 4.53125 -8.15625 L 3.375 -8.15625 L 3.375 -10.3125 L 1.171875 -10.3125 L 1.171875 -8.15625 L 0.15625 -8.15625 L 0.15625 -6.5 L 1.171875 -6.5 L 1.171875 -1.859375 C 1.171875 -0.59375 1.90625 0.0625 3.28125 0.0625 C 3.734375 0.0625 4.109375 0.015625 4.53125 0 Z M 4.53125 -0.140625 \"/>\n",
       "</symbol>\n",
       "<symbol overflow=\"visible\" id=\"glyph0-5\">\n",
       "<path style=\"stroke:none;\" d=\"M 8.53125 -4.09375 C 8.53125 -6.828125 7 -8.453125 4.484375 -8.453125 C 2.03125 -8.453125 0.46875 -6.796875 0.46875 -4.15625 C 0.46875 -1.5 2.03125 0.140625 4.5 0.140625 C 6.953125 0.140625 8.53125 -1.515625 8.53125 -4.09375 Z M 6.328125 -4.125 C 6.328125 -2.625 5.625 -1.8125 4.5 -1.8125 C 3.375 -1.8125 2.65625 -2.625 2.65625 -4.15625 C 2.65625 -5.6875 3.375 -6.5 4.5 -6.5 C 5.65625 -6.5 6.328125 -5.703125 6.328125 -4.125 Z M 6.328125 -4.125 \"/>\n",
       "</symbol>\n",
       "<symbol overflow=\"visible\" id=\"glyph0-6\">\n",
       "<path style=\"stroke:none;\" d=\"M 8.109375 0.140625 L 8.109375 -8.3125 L 6.015625 -8.3125 L 6.015625 -7.15625 C 5.484375 -7.984375 4.765625 -8.453125 3.84375 -8.453125 C 1.9375 -8.453125 0.453125 -6.5625 0.453125 -4.0625 C 0.453125 -1.5625 1.8125 0.140625 3.796875 0.140625 C 4.734375 0.140625 5.34375 -0.171875 6.015625 -0.875 L 6.015625 0.140625 C 6.015625 1.109375 5.34375 1.640625 4.3125 1.640625 C 3.515625 1.640625 3.046875 1.453125 2.828125 0.703125 L 0.609375 0.703125 C 0.640625 2.140625 2.03125 3.25 4.234375 3.25 C 6.65625 3.25 8.109375 2.03125 8.109375 0.140625 Z M 6.046875 -4.09375 C 6.046875 -2.640625 5.34375 -1.875 4.265625 -1.875 C 3.28125 -1.875 2.640625 -2.640625 2.640625 -4.09375 C 2.640625 -5.625 3.28125 -6.4375 4.296875 -6.4375 C 5.34375 -6.4375 6.046875 -5.59375 6.046875 -4.09375 Z M 6.046875 -4.09375 \"/>\n",
       "</symbol>\n",
       "<symbol overflow=\"visible\" id=\"glyph0-7\">\n",
       "<path style=\"stroke:none;\" d=\"M 5.5625 -6.1875 L 5.5625 -8.421875 C 5.390625 -8.453125 5.328125 -8.453125 5.265625 -8.453125 C 4.3125 -8.453125 3.40625 -7.6875 3.078125 -6.828125 L 3.078125 -8.3125 L 0.875 -8.3125 L 0.875 0 L 3.078125 0 L 3.078125 -4.40625 C 3.078125 -5.640625 3.640625 -6.109375 4.859375 -6.109375 C 5.078125 -6.109375 5.234375 -6.09375 5.5625 -6.03125 Z M 5.5625 -6.1875 \"/>\n",
       "</symbol>\n",
       "<symbol overflow=\"visible\" id=\"glyph0-8\">\n",
       "<path style=\"stroke:none;\" d=\"M 7.859375 -0.140625 L 7.859375 -0.46875 C 7.46875 -0.8125 7.375 -0.953125 7.375 -1.375 L 7.375 -5.84375 C 7.375 -7.484375 6.21875 -8.453125 4.046875 -8.453125 C 1.859375 -8.453125 0.671875 -7.390625 0.53125 -5.390625 L 2.640625 -5.390625 C 2.75 -6.359375 3.0625 -6.5 4.078125 -6.5 C 4.890625 -6.5 5.234375 -6.359375 5.234375 -5.828125 C 5.234375 -4.984375 4.671875 -5.203125 3.625 -5.015625 L 2.78125 -4.875 C 1.1875 -4.59375 0.359375 -3.765625 0.359375 -2.3125 C 0.359375 -0.75 1.515625 0.140625 2.859375 0.140625 C 3.75 0.140625 4.609375 -0.28125 5.25 -0.96875 C 5.25 -0.734375 5.3125 -0.265625 5.53125 0 L 7.859375 0 Z M 5.234375 -3.578125 C 5.234375 -2.375 4.703125 -1.8125 3.640625 -1.8125 C 2.9375 -1.8125 2.546875 -1.953125 2.546875 -2.546875 C 2.546875 -3.15625 2.828125 -3.25 3.703125 -3.40625 L 4.40625 -3.546875 C 4.96875 -3.65625 5.078125 -3.71875 5.234375 -3.796875 Z M 5.234375 -3.578125 \"/>\n",
       "</symbol>\n",
       "<symbol overflow=\"visible\" id=\"glyph0-9\">\n",
       "<path style=\"stroke:none;\" d=\"M 12.328125 -0.140625 L 12.328125 -5.828125 C 12.328125 -7.390625 11.328125 -8.453125 9.71875 -8.453125 C 8.703125 -8.453125 7.9375 -8.046875 7.359375 -7.28125 C 7 -7.96875 6.171875 -8.453125 5.171875 -8.453125 C 4.25 -8.453125 3.609375 -8.09375 3.015625 -7.375 L 3.015625 -8.3125 L 0.828125 -8.3125 L 0.828125 0 L 3.03125 0 L 3.03125 -4.96875 C 3.03125 -5.953125 3.515625 -6.40625 4.40625 -6.40625 C 5.109375 -6.40625 5.484375 -6.140625 5.484375 -5.5 L 5.484375 0 L 7.671875 0 L 7.671875 -4.96875 C 7.671875 -5.953125 8.171875 -6.40625 9.0625 -6.40625 C 9.765625 -6.40625 10.140625 -6.140625 10.140625 -5.5 L 10.140625 0 L 12.328125 0 Z M 12.328125 -0.140625 \"/>\n",
       "</symbol>\n",
       "<symbol overflow=\"visible\" id=\"glyph0-10\">\n",
       "<path style=\"stroke:none;\" d=\"\"/>\n",
       "</symbol>\n",
       "<symbol overflow=\"visible\" id=\"glyph0-11\">\n",
       "<path style=\"stroke:none;\" d=\"M 4.703125 -6.640625 L 4.703125 -8.15625 L 3.46875 -8.15625 L 3.46875 -8.8125 C 3.46875 -9.234375 3.609375 -9.296875 4 -9.296875 C 4.171875 -9.296875 4.40625 -9.28125 4.640625 -9.234375 L 4.640625 -11.09375 C 4.203125 -11.125 3.6875 -11.140625 3.40625 -11.140625 C 2.015625 -11.140625 1.28125 -10.34375 1.28125 -8.984375 L 1.28125 -8.15625 L 0.15625 -8.15625 L 0.15625 -6.5 L 1.28125 -6.5 L 1.28125 0 L 3.46875 0 L 3.46875 -6.5 L 4.703125 -6.5 Z M 4.703125 -6.640625 \"/>\n",
       "</symbol>\n",
       "<symbol overflow=\"visible\" id=\"glyph0-12\">\n",
       "<path style=\"stroke:none;\" d=\"M 8.171875 -0.140625 L 8.171875 -11.140625 L 5.984375 -11.140625 L 5.984375 -7.34375 C 5.546875 -8.03125 4.8125 -8.453125 3.8125 -8.453125 C 1.890625 -8.453125 0.375 -6.578125 0.375 -4.140625 C 0.375 -1.859375 1.6875 0.140625 3.8125 0.140625 C 4.8125 0.140625 5.546875 -0.265625 5.984375 -0.84375 L 5.984375 0 L 8.171875 0 Z M 5.984375 -4.109375 C 5.984375 -2.65625 5.328125 -1.875 4.28125 -1.875 C 3.234375 -1.875 2.5625 -2.671875 2.5625 -4.140625 C 2.5625 -5.640625 3.234375 -6.4375 4.28125 -6.4375 C 5.34375 -6.4375 5.984375 -5.65625 5.984375 -4.109375 Z M 5.984375 -4.109375 \"/>\n",
       "</symbol>\n",
       "<symbol overflow=\"visible\" id=\"glyph1-0\">\n",
       "<path style=\"stroke:none;\" d=\"\"/>\n",
       "</symbol>\n",
       "<symbol overflow=\"visible\" id=\"glyph1-1\">\n",
       "<path style=\"stroke:none;\" d=\"M 6.3125 -0.125 L 6.3125 -9.375 L 5.015625 -9.375 L 5.015625 -5.84375 L 5.234375 -5.9375 C 4.796875 -6.59375 4.015625 -7 3.140625 -7 C 1.4375 -7 0.1875 -5.546875 0.1875 -3.46875 C 0.1875 -1.25 1.40625 0.1875 3.171875 0.1875 C 4.078125 0.1875 4.78125 -0.1875 5.34375 -1 L 5.125 -1.09375 L 5.125 0 L 6.3125 0 Z M 5.015625 -3.375 C 5.015625 -1.859375 4.421875 -1.046875 3.328125 -1.046875 C 2.171875 -1.046875 1.53125 -1.875 1.53125 -3.40625 C 1.53125 -4.921875 2.171875 -5.765625 3.3125 -5.765625 C 4.4375 -5.765625 5.015625 -4.890625 5.015625 -3.375 Z M 5.015625 -3.375 \"/>\n",
       "</symbol>\n",
       "<symbol overflow=\"visible\" id=\"glyph1-2\">\n",
       "<path style=\"stroke:none;\" d=\"M 6.8125 -0.15625 L 6.8125 -1.09375 C 6.578125 -1.046875 6.53125 -1.046875 6.46875 -1.046875 C 6.09375 -1.046875 6.03125 -1.09375 6.03125 -1.421875 L 6.03125 -5.078125 C 6.03125 -6.234375 5.046875 -7 3.4375 -7 C 1.84375 -7 0.734375 -6.25 0.65625 -4.609375 L 1.96875 -4.609375 C 2.078125 -5.53125 2.421875 -5.78125 3.40625 -5.78125 C 4.34375 -5.78125 4.71875 -5.546875 4.71875 -4.921875 L 4.71875 -4.65625 C 4.71875 -4.21875 4.59375 -4.15625 3.78125 -4.0625 C 2.296875 -3.875 2.078125 -3.828125 1.671875 -3.65625 C 0.90625 -3.34375 0.390625 -2.625 0.390625 -1.828125 C 0.390625 -0.640625 1.34375 0.1875 2.671875 0.1875 C 3.515625 0.1875 4.40625 -0.203125 4.828125 -0.640625 C 4.875 -0.40625 5.46875 0.09375 5.96875 0.09375 C 6.1875 0.09375 6.34375 0.0625 6.8125 -0.046875 Z M 4.71875 -2.390625 C 4.71875 -1.453125 3.90625 -0.984375 2.90625 -0.984375 C 2.09375 -0.984375 1.734375 -1.140625 1.734375 -1.84375 C 1.734375 -2.53125 2.078125 -2.71875 3.1875 -2.875 C 4.28125 -3.03125 4.515625 -3.078125 4.71875 -3.171875 Z M 4.71875 -2.390625 \"/>\n",
       "</symbol>\n",
       "<symbol overflow=\"visible\" id=\"glyph1-3\">\n",
       "<path style=\"stroke:none;\" d=\"M 3.296875 -0.125 L 3.296875 -1.171875 C 3.03125 -1.09375 2.875 -1.09375 2.671875 -1.09375 C 2.21875 -1.09375 2.21875 -1.078125 2.21875 -1.53125 L 2.21875 -5.703125 L 3.296875 -5.703125 L 3.296875 -6.8125 L 2.21875 -6.8125 L 2.21875 -8.609375 L 0.921875 -8.609375 L 0.921875 -6.8125 L 0.03125 -6.8125 L 0.03125 -5.703125 L 0.921875 -5.703125 L 0.921875 -1.078125 C 0.921875 -0.40625 1.515625 0.09375 2.328125 0.09375 C 2.578125 0.09375 2.828125 0.0625 3.296875 -0.015625 Z M 3.296875 -0.125 \"/>\n",
       "</symbol>\n",
       "<symbol overflow=\"visible\" id=\"glyph1-4\">\n",
       "<path style=\"stroke:none;\" d=\"M 3.671875 -3.125 L 3.671875 -4.15625 L 0.4375 -4.15625 L 0.4375 -3 L 3.671875 -3 Z M 3.671875 -3.125 \"/>\n",
       "</symbol>\n",
       "<symbol overflow=\"visible\" id=\"glyph1-5\">\n",
       "<path style=\"stroke:none;\" d=\"M 6.515625 -6.390625 C 6.515625 -7.890625 5.21875 -9.125 3.546875 -9.125 C 1.734375 -9.125 0.546875 -8.0625 0.484375 -5.78125 L 1.84375 -5.78125 C 1.9375 -7.40625 2.421875 -7.90625 3.515625 -7.90625 C 4.515625 -7.90625 5.125 -7.3125 5.125 -6.359375 C 5.125 -5.65625 4.75 -5.15625 3.96875 -4.703125 L 2.8125 -4.046875 C 0.96875 -3 0.390625 -2.078125 0.28125 0 L 6.453125 0 L 6.453125 -1.34375 L 1.8125 -1.34375 C 1.90625 -1.9375 2.265625 -2.3125 3.34375 -2.953125 L 4.59375 -3.625 C 5.84375 -4.28125 6.515625 -5.296875 6.515625 -6.390625 Z M 6.515625 -6.390625 \"/>\n",
       "</symbol>\n",
       "<symbol overflow=\"visible\" id=\"glyph1-6\">\n",
       "<path style=\"stroke:none;\" d=\"M 6.46875 -4.390625 C 6.46875 -7.46875 5.359375 -9.125 3.4375 -9.125 C 1.53125 -9.125 0.40625 -7.4375 0.40625 -4.46875 C 0.40625 -1.46875 1.53125 0.1875 3.4375 0.1875 C 5.3125 0.1875 6.46875 -1.46875 6.46875 -4.390625 Z M 5.078125 -4.484375 C 5.078125 -1.96875 4.640625 -0.984375 3.40625 -0.984375 C 2.25 -0.984375 1.78125 -2.03125 1.78125 -4.453125 C 1.78125 -6.875 2.25 -7.890625 3.4375 -7.890625 C 4.625 -7.890625 5.078125 -6.859375 5.078125 -4.484375 Z M 5.078125 -4.484375 \"/>\n",
       "</symbol>\n",
       "<symbol overflow=\"visible\" id=\"glyph1-7\">\n",
       "<path style=\"stroke:none;\" d=\"M 6.625 -2.25 L 6.625 -3.375 L 5.3125 -3.375 L 5.3125 -9.125 L 4.296875 -9.125 L 0.21875 -3.453125 L 0.21875 -2.125 L 3.953125 -2.125 L 3.953125 0 L 5.3125 0 L 5.3125 -2.125 L 6.625 -2.125 Z M 4.09375 -3.375 L 1.5625 -3.375 L 4.171875 -7.03125 L 3.953125 -7.109375 L 3.953125 -3.375 Z M 4.09375 -3.375 \"/>\n",
       "</symbol>\n",
       "<symbol overflow=\"visible\" id=\"glyph2-0\">\n",
       "<path style=\"stroke:none;\" d=\"\"/>\n",
       "</symbol>\n",
       "<symbol overflow=\"visible\" id=\"glyph2-1\">\n",
       "<path style=\"stroke:none;\" d=\"M -8.21875 -7.359375 L -9.375 -7.359375 L -9.375 -0.984375 L 0 -0.984375 L 0 -2.40625 L -4.15625 -2.40625 L -4.15625 -6.765625 L -5.4375 -6.765625 L -5.4375 -2.40625 L -8.09375 -2.40625 L -8.09375 -7.359375 Z M -8.21875 -7.359375 \"/>\n",
       "</symbol>\n",
       "<symbol overflow=\"visible\" id=\"glyph2-2\">\n",
       "<path style=\"stroke:none;\" d=\"M -5.765625 -4.140625 L -6.9375 -4.140625 C -6.984375 -3.84375 -7 -3.75 -7 -3.609375 C -7 -2.9375 -6.546875 -2.328125 -5.578125 -1.71875 L -5.484375 -1.953125 L -6.8125 -1.953125 L -6.8125 -0.734375 L 0 -0.734375 L 0 -2.03125 L -3.53125 -2.03125 C -5 -2.03125 -5.609375 -2.40625 -5.640625 -4.140625 Z M -5.765625 -4.140625 \"/>\n",
       "</symbol>\n",
       "<symbol overflow=\"visible\" id=\"glyph2-3\">\n",
       "<path style=\"stroke:none;\" d=\"M -3.09375 -6.53125 C -4.046875 -6.53125 -4.65625 -6.46875 -5.140625 -6.28125 C -6.21875 -5.84375 -7 -4.71875 -7 -3.5 C -7 -1.671875 -5.515625 -0.359375 -3.359375 -0.359375 C -1.21875 -0.359375 0.1875 -1.640625 0.1875 -3.46875 C 0.1875 -4.96875 -0.78125 -6.140625 -2.25 -6.421875 L -2.25 -5.125 C -1.25 -4.796875 -1.03125 -4.34375 -1.03125 -3.515625 C -1.03125 -2.421875 -1.59375 -1.734375 -2.96875 -1.71875 L -2.96875 -6.53125 Z M -3.9375 -5.390625 C -3.9375 -5.390625 -4.0625 -5.203125 -4.09375 -5.21875 L -4.09375 -1.75 C -5.109375 -1.828125 -5.78125 -2.4375 -5.78125 -3.484375 C -5.78125 -4.515625 -5.046875 -5.15625 -4.03125 -5.15625 Z M -3.9375 -5.390625 \"/>\n",
       "</symbol>\n",
       "<symbol overflow=\"visible\" id=\"glyph2-4\">\n",
       "<path style=\"stroke:none;\" d=\"M 2.59375 -6.3125 L -6.8125 -6.3125 L -6.8125 -5.125 L -5.796875 -5.125 L -5.890625 -5.34375 C -6.578125 -4.859375 -7 -4.03125 -7 -3.171875 C -7 -1.453125 -5.5 -0.1875 -3.328125 -0.1875 C -1.203125 -0.1875 0.1875 -1.40625 0.1875 -3.125 C 0.1875 -4.03125 -0.171875 -4.75 -0.890625 -5.234375 L -0.96875 -5.015625 L 2.71875 -5.015625 L 2.71875 -6.3125 Z M -3.359375 -5.015625 C -1.859375 -5.015625 -1.046875 -4.421875 -1.046875 -3.328125 C -1.046875 -2.171875 -1.875 -1.53125 -3.40625 -1.53125 C -4.90625 -1.53125 -5.765625 -2.171875 -5.765625 -3.328125 C -5.765625 -4.4375 -4.890625 -5.015625 -3.359375 -5.015625 Z M -3.359375 -5.015625 \"/>\n",
       "</symbol>\n",
       "<symbol overflow=\"visible\" id=\"glyph2-5\">\n",
       "<path style=\"stroke:none;\" d=\"M -0.125 -6.15625 L -6.8125 -6.15625 L -6.8125 -4.84375 L -3.0625 -4.84375 C -1.71875 -4.84375 -0.984375 -4.28125 -0.984375 -3.203125 C -0.984375 -2.375 -1.34375 -1.96875 -2.140625 -1.96875 L -6.8125 -1.96875 L -6.8125 -0.671875 L -1.71875 -0.671875 C -0.640625 -0.671875 0.1875 -1.625 0.1875 -2.90625 C 0.1875 -3.859375 -0.1875 -4.5625 -1.046875 -5.171875 L -1.140625 -4.953125 L 0 -4.953125 L 0 -6.15625 Z M -0.125 -6.15625 \"/>\n",
       "</symbol>\n",
       "<symbol overflow=\"visible\" id=\"glyph2-6\">\n",
       "<path style=\"stroke:none;\" d=\"M -0.125 -6.21875 L -5.078125 -6.21875 C -6.15625 -6.21875 -7 -5.28125 -7 -4.015625 C -7 -3.03125 -6.578125 -2.3125 -5.65625 -1.734375 L -5.578125 -1.96875 L -6.8125 -1.96875 L -6.8125 -0.734375 L 0 -0.734375 L 0 -2.03125 L -3.734375 -2.03125 C -5.078125 -2.03125 -5.828125 -2.640625 -5.828125 -3.703125 C -5.828125 -4.53125 -5.453125 -4.90625 -4.65625 -4.90625 L 0 -4.90625 L 0 -6.21875 Z M -0.125 -6.21875 \"/>\n",
       "</symbol>\n",
       "<symbol overflow=\"visible\" id=\"glyph2-7\">\n",
       "<path style=\"stroke:none;\" d=\"M -2.515625 -5.96875 L -2.515625 -4.796875 C -1.328125 -4.59375 -1.03125 -4.203125 -1.03125 -3.3125 C -1.03125 -2.15625 -1.78125 -1.59375 -3.34375 -1.59375 C -4.96875 -1.59375 -5.78125 -2.15625 -5.78125 -3.28125 C -5.78125 -4.15625 -5.390625 -4.578125 -4.34375 -4.71875 L -4.34375 -6.03125 C -6.078125 -5.890625 -7 -4.765625 -7 -3.296875 C -7 -1.53125 -5.515625 -0.25 -3.34375 -0.25 C -1.21875 -0.25 0.1875 -1.515625 0.1875 -3.28125 C 0.1875 -4.84375 -0.875 -5.96875 -2.515625 -6.09375 Z M -2.515625 -5.96875 \"/>\n",
       "</symbol>\n",
       "<symbol overflow=\"visible\" id=\"glyph2-8\">\n",
       "<path style=\"stroke:none;\" d=\"M -6.8125 -5.96875 L -6.8125 -4.765625 L -1.578125 -2.90625 L -1.578125 -3.15625 L -6.8125 -1.453125 L -6.8125 -0.0625 L -0.09375 -2.328125 L 0.9375 -1.921875 C 1.40625 -1.75 1.4375 -1.671875 1.4375 -1.21875 C 1.4375 -1.078125 1.40625 -0.90625 1.34375 -0.53125 L 2.515625 -0.53125 C 2.640625 -0.78125 2.71875 -1.09375 2.71875 -1.375 C 2.71875 -2.109375 2.1875 -2.84375 1.25 -3.1875 L -6.8125 -6.15625 Z M -6.8125 -5.96875 \"/>\n",
       "</symbol>\n",
       "<symbol overflow=\"visible\" id=\"glyph2-9\">\n",
       "<path style=\"stroke:none;\" d=\"M -4.390625 -6.46875 C -7.46875 -6.46875 -9.125 -5.359375 -9.125 -3.4375 C -9.125 -1.53125 -7.4375 -0.40625 -4.46875 -0.40625 C -1.46875 -0.40625 0.1875 -1.53125 0.1875 -3.4375 C 0.1875 -5.3125 -1.46875 -6.46875 -4.390625 -6.46875 Z M -4.484375 -5.078125 C -1.96875 -5.078125 -0.984375 -4.640625 -0.984375 -3.40625 C -0.984375 -2.25 -2.03125 -1.78125 -4.453125 -1.78125 C -6.875 -1.78125 -7.890625 -2.25 -7.890625 -3.4375 C -7.890625 -4.625 -6.859375 -5.078125 -4.484375 -5.078125 Z M -4.484375 -5.078125 \"/>\n",
       "</symbol>\n",
       "<symbol overflow=\"visible\" id=\"glyph2-10\">\n",
       "<path style=\"stroke:none;\" d=\"M -6.390625 -6.515625 C -7.890625 -6.515625 -9.125 -5.21875 -9.125 -3.546875 C -9.125 -1.734375 -8.0625 -0.546875 -5.78125 -0.484375 L -5.78125 -1.84375 C -7.40625 -1.9375 -7.90625 -2.421875 -7.90625 -3.515625 C -7.90625 -4.515625 -7.3125 -5.125 -6.359375 -5.125 C -5.65625 -5.125 -5.15625 -4.75 -4.703125 -3.96875 L -4.046875 -2.8125 C -3 -0.96875 -2.078125 -0.390625 0 -0.28125 L 0 -6.453125 L -1.34375 -6.453125 L -1.34375 -1.8125 C -1.9375 -1.90625 -2.3125 -2.265625 -2.953125 -3.34375 L -3.625 -4.59375 C -4.28125 -5.84375 -5.296875 -6.515625 -6.390625 -6.515625 Z M -6.390625 -6.515625 \"/>\n",
       "</symbol>\n",
       "<symbol overflow=\"visible\" id=\"glyph2-11\">\n",
       "<path style=\"stroke:none;\" d=\"M -2.25 -6.625 L -3.375 -6.625 L -3.375 -5.3125 L -9.125 -5.3125 L -9.125 -4.296875 L -3.453125 -0.21875 L -2.125 -0.21875 L -2.125 -3.953125 L 0 -3.953125 L 0 -5.3125 L -2.125 -5.3125 L -2.125 -6.625 Z M -3.375 -4.09375 L -3.375 -1.5625 L -7.03125 -4.171875 L -7.109375 -3.953125 L -3.375 -3.953125 Z M -3.375 -4.09375 \"/>\n",
       "</symbol>\n",
       "</g>\n",
       "<clipPath id=\"clip1\">\n",
       "  <path d=\"M 166 59.039062 L 168 59.039062 L 168 143.558594 L 166 143.558594 Z M 166 59.039062 \"/>\n",
       "</clipPath>\n",
       "<clipPath id=\"clip2\">\n",
       "  <path d=\"M 67 59.039062 L 69 59.039062 L 69 143.558594 L 67 143.558594 Z M 67 59.039062 \"/>\n",
       "</clipPath>\n",
       "<clipPath id=\"clip3\">\n",
       "  <path d=\"M 248 59.039062 L 250 59.039062 L 250 143.558594 L 248 143.558594 Z M 248 59.039062 \"/>\n",
       "</clipPath>\n",
       "<clipPath id=\"clip4\">\n",
       "  <path d=\"M 188 59.039062 L 190 59.039062 L 190 143.558594 L 188 143.558594 Z M 188 59.039062 \"/>\n",
       "</clipPath>\n",
       "<clipPath id=\"clip5\">\n",
       "  <path d=\"M 144 59.039062 L 146 59.039062 L 146 143.558594 L 144 143.558594 Z M 144 59.039062 \"/>\n",
       "</clipPath>\n",
       "</defs>\n",
       "<g id=\"surface107\">\n",
       "<rect x=\"0\" y=\"0\" width=\"288\" height=\"216\" style=\"fill:rgb(100%,100%,100%);fill-opacity:1;stroke:none;\"/>\n",
       "<g style=\"fill:rgb(0%,0%,0%);fill-opacity:1;\">\n",
       "  <use xlink:href=\"#glyph0-1\" x=\"95.039062\" y=\"35.089844\"/>\n",
       "  <use xlink:href=\"#glyph0-2\" x=\"105.801315\" y=\"35.089844\"/>\n",
       "  <use xlink:href=\"#glyph0-3\" x=\"109.945236\" y=\"35.089844\"/>\n",
       "  <use xlink:href=\"#glyph0-4\" x=\"118.233063\" y=\"35.089844\"/>\n",
       "  <use xlink:href=\"#glyph0-5\" x=\"123.196823\" y=\"35.089844\"/>\n",
       "  <use xlink:href=\"#glyph0-6\" x=\"132.304489\" y=\"35.089844\"/>\n",
       "  <use xlink:href=\"#glyph0-7\" x=\"141.412155\" y=\"35.089844\"/>\n",
       "  <use xlink:href=\"#glyph0-8\" x=\"147.210648\" y=\"35.089844\"/>\n",
       "  <use xlink:href=\"#glyph0-9\" x=\"155.498474\" y=\"35.089844\"/>\n",
       "  <use xlink:href=\"#glyph0-10\" x=\"168.750061\" y=\"35.089844\"/>\n",
       "  <use xlink:href=\"#glyph0-5\" x=\"172.893982\" y=\"35.089844\"/>\n",
       "  <use xlink:href=\"#glyph0-11\" x=\"182.001648\" y=\"35.089844\"/>\n",
       "  <use xlink:href=\"#glyph0-10\" x=\"186.965408\" y=\"35.089844\"/>\n",
       "  <use xlink:href=\"#glyph0-12\" x=\"191.109329\" y=\"35.089844\"/>\n",
       "  <use xlink:href=\"#glyph0-8\" x=\"200.216995\" y=\"35.089844\"/>\n",
       "  <use xlink:href=\"#glyph0-4\" x=\"208.504822\" y=\"35.089844\"/>\n",
       "  <use xlink:href=\"#glyph0-8\" x=\"213.468582\" y=\"35.089844\"/>\n",
       "</g>\n",
       "<g style=\"fill:rgb(0%,0%,0%);fill-opacity:1;\">\n",
       "  <use xlink:href=\"#glyph1-1\" x=\"146.234375\" y=\"198.71875\"/>\n",
       "  <use xlink:href=\"#glyph1-2\" x=\"153.184402\" y=\"198.71875\"/>\n",
       "  <use xlink:href=\"#glyph1-3\" x=\"160.13443\" y=\"198.71875\"/>\n",
       "  <use xlink:href=\"#glyph1-2\" x=\"163.609436\" y=\"198.71875\"/>\n",
       "</g>\n",
       "<g style=\"fill:rgb(0%,0%,0%);fill-opacity:1;\">\n",
       "  <use xlink:href=\"#glyph2-1\" x=\"14.398438\" y=\"130.324219\"/>\n",
       "  <use xlink:href=\"#glyph2-2\" x=\"14.398438\" y=\"122.686691\"/>\n",
       "  <use xlink:href=\"#glyph2-3\" x=\"14.398438\" y=\"118.52417\"/>\n",
       "  <use xlink:href=\"#glyph2-4\" x=\"14.398438\" y=\"111.574142\"/>\n",
       "  <use xlink:href=\"#glyph2-5\" x=\"14.398438\" y=\"104.624115\"/>\n",
       "  <use xlink:href=\"#glyph2-3\" x=\"14.398438\" y=\"97.674088\"/>\n",
       "  <use xlink:href=\"#glyph2-6\" x=\"14.398438\" y=\"90.72406\"/>\n",
       "  <use xlink:href=\"#glyph2-7\" x=\"14.398438\" y=\"83.774033\"/>\n",
       "  <use xlink:href=\"#glyph2-8\" x=\"14.398438\" y=\"77.524002\"/>\n",
       "</g>\n",
       "<path style=\"fill:none;stroke-width:1;stroke-linecap:round;stroke-linejoin:round;stroke:rgb(0%,0%,0%);stroke-opacity:1;stroke-miterlimit:10;\" d=\"M 101.449219 142.558594 L 232.875 142.558594 \"/>\n",
       "<path style=\"fill:none;stroke-width:1;stroke-linecap:round;stroke-linejoin:round;stroke:rgb(0%,0%,0%);stroke-opacity:1;stroke-miterlimit:10;\" d=\"M 101.449219 142.558594 L 101.449219 149.761719 \"/>\n",
       "<path style=\"fill:none;stroke-width:1;stroke-linecap:round;stroke-linejoin:round;stroke:rgb(0%,0%,0%);stroke-opacity:1;stroke-miterlimit:10;\" d=\"M 145.257812 142.558594 L 145.257812 149.761719 \"/>\n",
       "<path style=\"fill:none;stroke-width:1;stroke-linecap:round;stroke-linejoin:round;stroke:rgb(0%,0%,0%);stroke-opacity:1;stroke-miterlimit:10;\" d=\"M 189.066406 142.558594 L 189.066406 149.761719 \"/>\n",
       "<path style=\"fill:none;stroke-width:1;stroke-linecap:round;stroke-linejoin:round;stroke:rgb(0%,0%,0%);stroke-opacity:1;stroke-miterlimit:10;\" d=\"M 232.875 142.558594 L 232.875 149.761719 \"/>\n",
       "<g style=\"fill:rgb(0%,0%,0%);fill-opacity:1;\">\n",
       "  <use xlink:href=\"#glyph1-4\" x=\"95.894531\" y=\"169.921875\"/>\n",
       "  <use xlink:href=\"#glyph1-5\" x=\"100.057053\" y=\"169.921875\"/>\n",
       "</g>\n",
       "<g style=\"fill:rgb(0%,0%,0%);fill-opacity:1;\">\n",
       "  <use xlink:href=\"#glyph1-6\" x=\"141.78125\" y=\"169.921875\"/>\n",
       "</g>\n",
       "<g style=\"fill:rgb(0%,0%,0%);fill-opacity:1;\">\n",
       "  <use xlink:href=\"#glyph1-5\" x=\"185.589844\" y=\"169.921875\"/>\n",
       "</g>\n",
       "<g style=\"fill:rgb(0%,0%,0%);fill-opacity:1;\">\n",
       "  <use xlink:href=\"#glyph1-7\" x=\"229.398438\" y=\"169.921875\"/>\n",
       "</g>\n",
       "<path style=\"fill:none;stroke-width:1;stroke-linecap:round;stroke-linejoin:round;stroke:rgb(0%,0%,0%);stroke-opacity:1;stroke-miterlimit:10;\" d=\"M 59.039062 139.464844 L 59.039062 68.027344 \"/>\n",
       "<path style=\"fill:none;stroke-width:1;stroke-linecap:round;stroke-linejoin:round;stroke:rgb(0%,0%,0%);stroke-opacity:1;stroke-miterlimit:10;\" d=\"M 59.039062 139.464844 L 51.839844 139.464844 \"/>\n",
       "<path style=\"fill:none;stroke-width:1;stroke-linecap:round;stroke-linejoin:round;stroke:rgb(0%,0%,0%);stroke-opacity:1;stroke-miterlimit:10;\" d=\"M 59.039062 121.605469 L 51.839844 121.605469 \"/>\n",
       "<path style=\"fill:none;stroke-width:1;stroke-linecap:round;stroke-linejoin:round;stroke:rgb(0%,0%,0%);stroke-opacity:1;stroke-miterlimit:10;\" d=\"M 59.039062 103.746094 L 51.839844 103.746094 \"/>\n",
       "<path style=\"fill:none;stroke-width:1;stroke-linecap:round;stroke-linejoin:round;stroke:rgb(0%,0%,0%);stroke-opacity:1;stroke-miterlimit:10;\" d=\"M 59.039062 85.886719 L 51.839844 85.886719 \"/>\n",
       "<path style=\"fill:none;stroke-width:1;stroke-linecap:round;stroke-linejoin:round;stroke:rgb(0%,0%,0%);stroke-opacity:1;stroke-miterlimit:10;\" d=\"M 59.039062 68.027344 L 51.839844 68.027344 \"/>\n",
       "<g style=\"fill:rgb(0%,0%,0%);fill-opacity:1;\">\n",
       "  <use xlink:href=\"#glyph2-9\" x=\"43.199219\" y=\"142.941406\"/>\n",
       "</g>\n",
       "<g style=\"fill:rgb(0%,0%,0%);fill-opacity:1;\">\n",
       "  <use xlink:href=\"#glyph2-10\" x=\"43.199219\" y=\"114.171875\"/>\n",
       "  <use xlink:href=\"#glyph2-9\" x=\"43.199219\" y=\"107.221848\"/>\n",
       "  <use xlink:href=\"#glyph2-9\" x=\"43.199219\" y=\"100.27182\"/>\n",
       "</g>\n",
       "<g style=\"fill:rgb(0%,0%,0%);fill-opacity:1;\">\n",
       "  <use xlink:href=\"#glyph2-11\" x=\"43.199219\" y=\"78.453125\"/>\n",
       "  <use xlink:href=\"#glyph2-9\" x=\"43.199219\" y=\"71.503098\"/>\n",
       "  <use xlink:href=\"#glyph2-9\" x=\"43.199219\" y=\"64.55307\"/>\n",
       "</g>\n",
       "<path style=\"fill-rule:nonzero;fill:rgb(40%,40%,40%);fill-opacity:1;stroke-width:1;stroke-linecap:round;stroke-linejoin:round;stroke:rgb(100%,100%,100%);stroke-opacity:1;stroke-miterlimit:10;\" d=\"M 66.398438 139.289062 L 70.78125 139.289062 L 70.78125 139.46875 L 66.398438 139.46875 Z M 66.398438 139.289062 \"/>\n",
       "<path style=\"fill:none;stroke-width:1;stroke-linecap:round;stroke-linejoin:round;stroke:rgb(100%,100%,100%);stroke-opacity:1;stroke-miterlimit:10;\" d=\"M 70.78125 139.464844 L 75.164062 139.464844 Z M 70.78125 139.464844 \"/>\n",
       "<path style=\"fill:none;stroke-width:1;stroke-linecap:round;stroke-linejoin:round;stroke:rgb(100%,100%,100%);stroke-opacity:1;stroke-miterlimit:10;\" d=\"M 75.160156 139.464844 L 79.542969 139.464844 Z M 75.160156 139.464844 \"/>\n",
       "<path style=\"fill:none;stroke-width:1;stroke-linecap:round;stroke-linejoin:round;stroke:rgb(100%,100%,100%);stroke-opacity:1;stroke-miterlimit:10;\" d=\"M 79.542969 139.464844 L 83.925781 139.464844 Z M 79.542969 139.464844 \"/>\n",
       "<path style=\"fill:none;stroke-width:1;stroke-linecap:round;stroke-linejoin:round;stroke:rgb(100%,100%,100%);stroke-opacity:1;stroke-miterlimit:10;\" d=\"M 83.921875 139.464844 L 88.304688 139.464844 Z M 83.921875 139.464844 \"/>\n",
       "<path style=\"fill-rule:nonzero;fill:rgb(40%,40%,40%);fill-opacity:1;stroke-width:1;stroke-linecap:round;stroke-linejoin:round;stroke:rgb(100%,100%,100%);stroke-opacity:1;stroke-miterlimit:10;\" d=\"M 88.304688 139.289062 L 92.6875 139.289062 L 92.6875 139.46875 L 88.304688 139.46875 Z M 88.304688 139.289062 \"/>\n",
       "<path style=\"fill-rule:nonzero;fill:rgb(40%,40%,40%);fill-opacity:1;stroke-width:1;stroke-linecap:round;stroke-linejoin:round;stroke:rgb(100%,100%,100%);stroke-opacity:1;stroke-miterlimit:10;\" d=\"M 92.6875 138.929688 L 97.070312 138.929688 L 97.070312 139.464844 L 92.6875 139.464844 Z M 92.6875 138.929688 \"/>\n",
       "<path style=\"fill-rule:nonzero;fill:rgb(40%,40%,40%);fill-opacity:1;stroke-width:1;stroke-linecap:round;stroke-linejoin:round;stroke:rgb(100%,100%,100%);stroke-opacity:1;stroke-miterlimit:10;\" d=\"M 97.066406 138.574219 L 101.449219 138.574219 L 101.449219 139.46875 L 97.066406 139.46875 Z M 97.066406 138.574219 \"/>\n",
       "<path style=\"fill-rule:nonzero;fill:rgb(40%,40%,40%);fill-opacity:1;stroke-width:1;stroke-linecap:round;stroke-linejoin:round;stroke:rgb(100%,100%,100%);stroke-opacity:1;stroke-miterlimit:10;\" d=\"M 101.449219 137.679688 L 105.832031 137.679688 L 105.832031 139.464844 L 101.449219 139.464844 Z M 101.449219 137.679688 \"/>\n",
       "<path style=\"fill-rule:nonzero;fill:rgb(40%,40%,40%);fill-opacity:1;stroke-width:1;stroke-linecap:round;stroke-linejoin:round;stroke:rgb(100%,100%,100%);stroke-opacity:1;stroke-miterlimit:10;\" d=\"M 105.828125 138.394531 L 110.210938 138.394531 L 110.210938 139.464844 L 105.828125 139.464844 Z M 105.828125 138.394531 \"/>\n",
       "<path style=\"fill-rule:nonzero;fill:rgb(40%,40%,40%);fill-opacity:1;stroke-width:1;stroke-linecap:round;stroke-linejoin:round;stroke:rgb(100%,100%,100%);stroke-opacity:1;stroke-miterlimit:10;\" d=\"M 110.210938 135.714844 L 114.59375 135.714844 L 114.59375 139.464844 L 110.210938 139.464844 Z M 110.210938 135.714844 \"/>\n",
       "<path style=\"fill-rule:nonzero;fill:rgb(40%,40%,40%);fill-opacity:1;stroke-width:1;stroke-linecap:round;stroke-linejoin:round;stroke:rgb(100%,100%,100%);stroke-opacity:1;stroke-miterlimit:10;\" d=\"M 114.589844 136.609375 L 118.972656 136.609375 L 118.972656 139.46875 L 114.589844 139.46875 Z M 114.589844 136.609375 \"/>\n",
       "<path style=\"fill-rule:nonzero;fill:rgb(40%,40%,40%);fill-opacity:1;stroke-width:1;stroke-linecap:round;stroke-linejoin:round;stroke:rgb(100%,100%,100%);stroke-opacity:1;stroke-miterlimit:10;\" d=\"M 118.972656 130.359375 L 123.355469 130.359375 L 123.355469 139.46875 L 118.972656 139.46875 Z M 118.972656 130.359375 \"/>\n",
       "<path style=\"fill-rule:nonzero;fill:rgb(40%,40%,40%);fill-opacity:1;stroke-width:1;stroke-linecap:round;stroke-linejoin:round;stroke:rgb(100%,100%,100%);stroke-opacity:1;stroke-miterlimit:10;\" d=\"M 123.351562 128.394531 L 127.734375 128.394531 L 127.734375 139.46875 L 123.351562 139.46875 Z M 123.351562 128.394531 \"/>\n",
       "<path style=\"fill-rule:nonzero;fill:rgb(40%,40%,40%);fill-opacity:1;stroke-width:1;stroke-linecap:round;stroke-linejoin:round;stroke:rgb(100%,100%,100%);stroke-opacity:1;stroke-miterlimit:10;\" d=\"M 127.734375 123.394531 L 132.117188 123.394531 L 132.117188 139.46875 L 127.734375 139.46875 Z M 127.734375 123.394531 \"/>\n",
       "<path style=\"fill-rule:nonzero;fill:rgb(40%,40%,40%);fill-opacity:1;stroke-width:1;stroke-linecap:round;stroke-linejoin:round;stroke:rgb(100%,100%,100%);stroke-opacity:1;stroke-miterlimit:10;\" d=\"M 132.113281 116.425781 L 136.496094 116.425781 L 136.496094 139.464844 L 132.113281 139.464844 Z M 132.113281 116.425781 \"/>\n",
       "<path style=\"fill-rule:nonzero;fill:rgb(40%,40%,40%);fill-opacity:1;stroke-width:1;stroke-linecap:round;stroke-linejoin:round;stroke:rgb(100%,100%,100%);stroke-opacity:1;stroke-miterlimit:10;\" d=\"M 136.496094 111.070312 L 140.878906 111.070312 L 140.878906 139.46875 L 136.496094 139.46875 Z M 136.496094 111.070312 \"/>\n",
       "<path style=\"fill-rule:nonzero;fill:rgb(40%,40%,40%);fill-opacity:1;stroke-width:1;stroke-linecap:round;stroke-linejoin:round;stroke:rgb(100%,100%,100%);stroke-opacity:1;stroke-miterlimit:10;\" d=\"M 140.875 103.746094 L 145.257812 103.746094 L 145.257812 139.464844 L 140.875 139.464844 Z M 140.875 103.746094 \"/>\n",
       "<path style=\"fill-rule:nonzero;fill:rgb(40%,40%,40%);fill-opacity:1;stroke-width:1;stroke-linecap:round;stroke-linejoin:round;stroke:rgb(100%,100%,100%);stroke-opacity:1;stroke-miterlimit:10;\" d=\"M 145.257812 87.136719 L 149.640625 87.136719 L 149.640625 139.464844 L 145.257812 139.464844 Z M 145.257812 87.136719 \"/>\n",
       "<path style=\"fill-rule:nonzero;fill:rgb(40%,40%,40%);fill-opacity:1;stroke-width:1;stroke-linecap:round;stroke-linejoin:round;stroke:rgb(100%,100%,100%);stroke-opacity:1;stroke-miterlimit:10;\" d=\"M 149.636719 84.816406 L 154.019531 84.816406 L 154.019531 139.46875 L 149.636719 139.46875 Z M 149.636719 84.816406 \"/>\n",
       "<path style=\"fill-rule:nonzero;fill:rgb(40%,40%,40%);fill-opacity:1;stroke-width:1;stroke-linecap:round;stroke-linejoin:round;stroke:rgb(100%,100%,100%);stroke-opacity:1;stroke-miterlimit:10;\" d=\"M 154.019531 77.3125 L 158.402344 77.3125 L 158.402344 139.464844 L 154.019531 139.464844 Z M 154.019531 77.3125 \"/>\n",
       "<path style=\"fill-rule:nonzero;fill:rgb(40%,40%,40%);fill-opacity:1;stroke-width:1;stroke-linecap:round;stroke-linejoin:round;stroke:rgb(100%,100%,100%);stroke-opacity:1;stroke-miterlimit:10;\" d=\"M 158.398438 69.457031 L 162.78125 69.457031 L 162.78125 139.46875 L 158.398438 139.46875 Z M 158.398438 69.457031 \"/>\n",
       "<path style=\"fill-rule:nonzero;fill:rgb(40%,40%,40%);fill-opacity:1;stroke-width:1;stroke-linecap:round;stroke-linejoin:round;stroke:rgb(100%,100%,100%);stroke-opacity:1;stroke-miterlimit:10;\" d=\"M 162.78125 62.132812 L 167.164062 62.132812 L 167.164062 139.464844 L 162.78125 139.464844 Z M 162.78125 62.132812 \"/>\n",
       "<path style=\"fill-rule:nonzero;fill:rgb(40%,40%,40%);fill-opacity:1;stroke-width:1;stroke-linecap:round;stroke-linejoin:round;stroke:rgb(100%,100%,100%);stroke-opacity:1;stroke-miterlimit:10;\" d=\"M 167.160156 66.242188 L 171.542969 66.242188 L 171.542969 139.46875 L 167.160156 139.46875 Z M 167.160156 66.242188 \"/>\n",
       "<path style=\"fill-rule:nonzero;fill:rgb(40%,40%,40%);fill-opacity:1;stroke-width:1;stroke-linecap:round;stroke-linejoin:round;stroke:rgb(100%,100%,100%);stroke-opacity:1;stroke-miterlimit:10;\" d=\"M 171.542969 77.136719 L 175.925781 77.136719 L 175.925781 139.46875 L 171.542969 139.46875 Z M 171.542969 77.136719 \"/>\n",
       "<path style=\"fill-rule:nonzero;fill:rgb(40%,40%,40%);fill-opacity:1;stroke-width:1;stroke-linecap:round;stroke-linejoin:round;stroke:rgb(100%,100%,100%);stroke-opacity:1;stroke-miterlimit:10;\" d=\"M 175.921875 74.457031 L 180.304688 74.457031 L 180.304688 139.46875 L 175.921875 139.46875 Z M 175.921875 74.457031 \"/>\n",
       "<path style=\"fill-rule:nonzero;fill:rgb(40%,40%,40%);fill-opacity:1;stroke-width:1;stroke-linecap:round;stroke-linejoin:round;stroke:rgb(100%,100%,100%);stroke-opacity:1;stroke-miterlimit:10;\" d=\"M 180.304688 89.636719 L 184.6875 89.636719 L 184.6875 139.464844 L 180.304688 139.464844 Z M 180.304688 89.636719 \"/>\n",
       "<path style=\"fill-rule:nonzero;fill:rgb(40%,40%,40%);fill-opacity:1;stroke-width:1;stroke-linecap:round;stroke-linejoin:round;stroke:rgb(100%,100%,100%);stroke-opacity:1;stroke-miterlimit:10;\" d=\"M 184.6875 92.136719 L 189.070312 92.136719 L 189.070312 139.464844 L 184.6875 139.464844 Z M 184.6875 92.136719 \"/>\n",
       "<path style=\"fill-rule:nonzero;fill:rgb(40%,40%,40%);fill-opacity:1;stroke-width:1;stroke-linecap:round;stroke-linejoin:round;stroke:rgb(100%,100%,100%);stroke-opacity:1;stroke-miterlimit:10;\" d=\"M 189.066406 100.351562 L 193.449219 100.351562 L 193.449219 139.464844 L 189.066406 139.464844 Z M 189.066406 100.351562 \"/>\n",
       "<path style=\"fill-rule:nonzero;fill:rgb(40%,40%,40%);fill-opacity:1;stroke-width:1;stroke-linecap:round;stroke-linejoin:round;stroke:rgb(100%,100%,100%);stroke-opacity:1;stroke-miterlimit:10;\" d=\"M 193.449219 107.496094 L 197.832031 107.496094 L 197.832031 139.464844 L 193.449219 139.464844 Z M 193.449219 107.496094 \"/>\n",
       "<path style=\"fill-rule:nonzero;fill:rgb(40%,40%,40%);fill-opacity:1;stroke-width:1;stroke-linecap:round;stroke-linejoin:round;stroke:rgb(100%,100%,100%);stroke-opacity:1;stroke-miterlimit:10;\" d=\"M 197.828125 114.285156 L 202.210938 114.285156 L 202.210938 139.46875 L 197.828125 139.46875 Z M 197.828125 114.285156 \"/>\n",
       "<path style=\"fill-rule:nonzero;fill:rgb(40%,40%,40%);fill-opacity:1;stroke-width:1;stroke-linecap:round;stroke-linejoin:round;stroke:rgb(100%,100%,100%);stroke-opacity:1;stroke-miterlimit:10;\" d=\"M 202.210938 124.464844 L 206.59375 124.464844 L 206.59375 139.46875 L 202.210938 139.46875 Z M 202.210938 124.464844 \"/>\n",
       "<path style=\"fill-rule:nonzero;fill:rgb(40%,40%,40%);fill-opacity:1;stroke-width:1;stroke-linecap:round;stroke-linejoin:round;stroke:rgb(100%,100%,100%);stroke-opacity:1;stroke-miterlimit:10;\" d=\"M 206.589844 130.359375 L 210.972656 130.359375 L 210.972656 139.46875 L 206.589844 139.46875 Z M 206.589844 130.359375 \"/>\n",
       "<path style=\"fill-rule:nonzero;fill:rgb(40%,40%,40%);fill-opacity:1;stroke-width:1;stroke-linecap:round;stroke-linejoin:round;stroke:rgb(100%,100%,100%);stroke-opacity:1;stroke-miterlimit:10;\" d=\"M 210.972656 130.535156 L 215.355469 130.535156 L 215.355469 139.464844 L 210.972656 139.464844 Z M 210.972656 130.535156 \"/>\n",
       "<path style=\"fill-rule:nonzero;fill:rgb(40%,40%,40%);fill-opacity:1;stroke-width:1;stroke-linecap:round;stroke-linejoin:round;stroke:rgb(100%,100%,100%);stroke-opacity:1;stroke-miterlimit:10;\" d=\"M 215.351562 131.25 L 219.734375 131.25 L 219.734375 139.464844 L 215.351562 139.464844 Z M 215.351562 131.25 \"/>\n",
       "<path style=\"fill-rule:nonzero;fill:rgb(40%,40%,40%);fill-opacity:1;stroke-width:1;stroke-linecap:round;stroke-linejoin:round;stroke:rgb(100%,100%,100%);stroke-opacity:1;stroke-miterlimit:10;\" d=\"M 219.734375 135.894531 L 224.117188 135.894531 L 224.117188 139.464844 L 219.734375 139.464844 Z M 219.734375 135.894531 \"/>\n",
       "<path style=\"fill-rule:nonzero;fill:rgb(40%,40%,40%);fill-opacity:1;stroke-width:1;stroke-linecap:round;stroke-linejoin:round;stroke:rgb(100%,100%,100%);stroke-opacity:1;stroke-miterlimit:10;\" d=\"M 224.113281 137.859375 L 228.496094 137.859375 L 228.496094 139.464844 L 224.113281 139.464844 Z M 224.113281 137.859375 \"/>\n",
       "<path style=\"fill-rule:nonzero;fill:rgb(40%,40%,40%);fill-opacity:1;stroke-width:1;stroke-linecap:round;stroke-linejoin:round;stroke:rgb(100%,100%,100%);stroke-opacity:1;stroke-miterlimit:10;\" d=\"M 228.496094 138.753906 L 232.878906 138.753906 L 232.878906 139.46875 L 228.496094 139.46875 Z M 228.496094 138.753906 \"/>\n",
       "<path style=\"fill-rule:nonzero;fill:rgb(40%,40%,40%);fill-opacity:1;stroke-width:1;stroke-linecap:round;stroke-linejoin:round;stroke:rgb(100%,100%,100%);stroke-opacity:1;stroke-miterlimit:10;\" d=\"M 232.875 138.929688 L 237.257812 138.929688 L 237.257812 139.464844 L 232.875 139.464844 Z M 232.875 138.929688 \"/>\n",
       "<path style=\"fill:none;stroke-width:1;stroke-linecap:round;stroke-linejoin:round;stroke:rgb(100%,100%,100%);stroke-opacity:1;stroke-miterlimit:10;\" d=\"M 237.257812 139.464844 L 241.640625 139.464844 Z M 237.257812 139.464844 \"/>\n",
       "<path style=\"fill:none;stroke-width:1;stroke-linecap:round;stroke-linejoin:round;stroke:rgb(100%,100%,100%);stroke-opacity:1;stroke-miterlimit:10;\" d=\"M 241.636719 139.464844 L 246.019531 139.464844 Z M 241.636719 139.464844 \"/>\n",
       "<path style=\"fill-rule:nonzero;fill:rgb(40%,40%,40%);fill-opacity:1;stroke-width:1;stroke-linecap:round;stroke-linejoin:round;stroke:rgb(100%,100%,100%);stroke-opacity:1;stroke-miterlimit:10;\" d=\"M 246.019531 139.289062 L 250.402344 139.289062 L 250.402344 139.46875 L 246.019531 139.46875 Z M 246.019531 139.289062 \"/>\n",
       "<g clip-path=\"url(#clip1)\" clip-rule=\"nonzero\">\n",
       "<path style=\"fill:none;stroke-width:1;stroke-linecap:round;stroke-linejoin:round;stroke:rgb(100%,0%,0%);stroke-opacity:1;stroke-miterlimit:10;\" d=\"M 167.226562 142.558594 L 167.226562 59.039062 \"/>\n",
       "<path style=\"fill:none;stroke-width:1;stroke-linecap:round;stroke-linejoin:round;stroke:rgb(0%,100%,0%);stroke-opacity:1;stroke-miterlimit:10;\" d=\"M 166.851562 142.558594 L 166.851562 59.039062 \"/>\n",
       "</g>\n",
       "<g clip-path=\"url(#clip2)\" clip-rule=\"nonzero\">\n",
       "<path style=\"fill:none;stroke-width:1;stroke-linecap:round;stroke-linejoin:round;stroke:rgb(0%,0%,100%);stroke-opacity:1;stroke-miterlimit:10;\" d=\"M 68.390625 142.558594 L 68.390625 59.039062 \"/>\n",
       "</g>\n",
       "<g clip-path=\"url(#clip3)\" clip-rule=\"nonzero\">\n",
       "<path style=\"fill:none;stroke-width:1;stroke-linecap:round;stroke-linejoin:round;stroke:rgb(0%,0%,100%);stroke-opacity:1;stroke-miterlimit:10;\" d=\"M 249.121094 142.558594 L 249.121094 59.039062 \"/>\n",
       "</g>\n",
       "<g clip-path=\"url(#clip4)\" clip-rule=\"nonzero\">\n",
       "<path style=\"fill:none;stroke-width:1;stroke-linecap:round;stroke-linejoin:round;stroke:rgb(0%,0%,0%);stroke-opacity:1;stroke-miterlimit:10;\" d=\"M 189.085938 142.558594 L 189.085938 59.039062 \"/>\n",
       "</g>\n",
       "<g clip-path=\"url(#clip5)\" clip-rule=\"nonzero\">\n",
       "<path style=\"fill:none;stroke-width:1;stroke-linecap:round;stroke-linejoin:round;stroke:rgb(0%,0%,0%);stroke-opacity:1;stroke-miterlimit:10;\" d=\"M 145.367188 142.558594 L 145.367188 59.039062 \"/>\n",
       "</g>\n",
       "</g>\n",
       "</svg>\n"
      ]
     },
     "metadata": {
      "image/svg+xml": {
       "isolated": true
      }
     },
     "output_type": "display_data"
    }
   ],
   "source": [
    "# 5000 random variables from a normal distribution with mean 1 and standard deviation 1\n",
    "data <- rnorm(5000,1,1)\n",
    "# standard histogram\n",
    "hist(data, 50, col=\"#666666\", border=\"white\")\n",
    "# adding statistical descriptors\n",
    "dmean <- mean(data)\n",
    "abline(v=dmean,col=\"red\")\n",
    "dmedian <- median(data)\n",
    "abline(v=dmedian,col=\"green\")\n",
    "dmin <- min(data)\n",
    "abline(v=dmin,col=\"blue\")\n",
    "dmax <- max(data)\n",
    "abline(v=dmax,col=\"blue\")\n",
    "dsd <- sd(data)\n",
    "abline(v=dmean+dsd)\n",
    "abline(v=dmean-dsd)\n",
    "min(data)\n",
    "max(data)"
   ]
  },
  {
   "cell_type": "code",
   "execution_count": 6,
   "metadata": {},
   "outputs": [
    {
     "data": {
      "text/html": [
       "-2.58930456317478"
      ],
      "text/latex": [
       "-2.58930456317478"
      ],
      "text/markdown": [
       "-2.58930456317478"
      ],
      "text/plain": [
       "[1] -2.589305"
      ]
     },
     "metadata": {},
     "output_type": "display_data"
    },
    {
     "data": {
      "text/html": [
       "3.87794333564729"
      ],
      "text/latex": [
       "3.87794333564729"
      ],
      "text/markdown": [
       "3.87794333564729"
      ],
      "text/plain": [
       "[1] 3.877943"
      ]
     },
     "metadata": {},
     "output_type": "display_data"
    },
    {
     "data": {
      "image/jpeg": "[encoded data removed]",
      "image/png": "",
      "image/svg+xml": [
       "<?xml version=\"1.0\" encoding=\"UTF-8\"?>\n",
       "<svg xmlns=\"http://www.w3.org/2000/svg\" xmlns:xlink=\"http://www.w3.org/1999/xlink\" width=\"288pt\" height=\"216pt\" viewBox=\"0 0 288 216\" version=\"1.1\">\n",
       "<defs>\n",
       "<g>\n",
       "<symbol overflow=\"visible\" id=\"glyph0-0\">\n",
       "<path style=\"stroke:none;\" d=\"\"/>\n",
       "</symbol>\n",
       "<symbol overflow=\"visible\" id=\"glyph0-1\">\n",
       "<path style=\"stroke:none;\" d=\"M 9.84375 -0.140625 L 9.84375 -11.140625 L 7.5 -11.140625 L 7.5 -7.0625 L 3.296875 -7.0625 L 3.296875 -11.140625 L 0.953125 -11.140625 L 0.953125 0 L 3.296875 0 L 3.296875 -4.9375 L 7.5 -4.9375 L 7.5 0 L 9.84375 0 Z M 9.84375 -0.140625 \"/>\n",
       "</symbol>\n",
       "<symbol overflow=\"visible\" id=\"glyph0-2\">\n",
       "<path style=\"stroke:none;\" d=\"M 3.125 -0.140625 L 3.125 -8.3125 L 0.9375 -8.3125 L 0.9375 0 L 3.125 0 Z M 3.15625 -9.15625 L 3.15625 -11.375 L 0.96875 -11.375 L 0.96875 -9.015625 L 3.15625 -9.015625 Z M 3.15625 -9.15625 \"/>\n",
       "</symbol>\n",
       "<symbol overflow=\"visible\" id=\"glyph0-3\">\n",
       "<path style=\"stroke:none;\" d=\"M 7.796875 -2.515625 L 7.796875 -2.625 C 7.796875 -3.546875 7.234375 -4.375 6.171875 -4.6875 L 3.53125 -5.4375 C 2.953125 -5.609375 2.84375 -5.609375 2.84375 -5.9375 C 2.84375 -6.375 3.28125 -6.546875 4.015625 -6.546875 C 5.015625 -6.546875 5.4375 -6.3125 5.453125 -5.453125 L 7.578125 -5.453125 C 7.546875 -7.296875 6.1875 -8.453125 4.03125 -8.453125 C 1.984375 -8.453125 0.65625 -7.296875 0.65625 -5.640625 C 0.65625 -4.65625 0.984375 -3.984375 2.46875 -3.515625 L 4.96875 -2.75 C 5.484375 -2.578125 5.609375 -2.546875 5.609375 -2.328125 C 5.609375 -1.828125 5.078125 -1.78125 4.109375 -1.78125 C 3.15625 -1.78125 2.703125 -1.8125 2.484375 -2.8125 L 0.375 -2.8125 C 0.4375 -0.921875 1.78125 0.140625 4.234375 0.140625 C 6.5 0.140625 7.796875 -0.890625 7.796875 -2.515625 Z M 7.796875 -2.515625 \"/>\n",
       "</symbol>\n",
       "<symbol overflow=\"visible\" id=\"glyph0-4\">\n",
       "<path style=\"stroke:none;\" d=\"M 4.53125 -0.140625 L 4.53125 -1.734375 C 4.28125 -1.703125 4.15625 -1.6875 4.015625 -1.6875 C 3.453125 -1.6875 3.375 -1.71875 3.375 -2.4375 L 3.375 -6.5 L 4.53125 -6.5 L 4.53125 -8.15625 L 3.375 -8.15625 L 3.375 -10.3125 L 1.171875 -10.3125 L 1.171875 -8.15625 L 0.15625 -8.15625 L 0.15625 -6.5 L 1.171875 -6.5 L 1.171875 -1.859375 C 1.171875 -0.59375 1.90625 0.0625 3.28125 0.0625 C 3.734375 0.0625 4.109375 0.015625 4.53125 0 Z M 4.53125 -0.140625 \"/>\n",
       "</symbol>\n",
       "<symbol overflow=\"visible\" id=\"glyph0-5\">\n",
       "<path style=\"stroke:none;\" d=\"M 8.53125 -4.09375 C 8.53125 -6.828125 7 -8.453125 4.484375 -8.453125 C 2.03125 -8.453125 0.46875 -6.796875 0.46875 -4.15625 C 0.46875 -1.5 2.03125 0.140625 4.5 0.140625 C 6.953125 0.140625 8.53125 -1.515625 8.53125 -4.09375 Z M 6.328125 -4.125 C 6.328125 -2.625 5.625 -1.8125 4.5 -1.8125 C 3.375 -1.8125 2.65625 -2.625 2.65625 -4.15625 C 2.65625 -5.6875 3.375 -6.5 4.5 -6.5 C 5.65625 -6.5 6.328125 -5.703125 6.328125 -4.125 Z M 6.328125 -4.125 \"/>\n",
       "</symbol>\n",
       "<symbol overflow=\"visible\" id=\"glyph0-6\">\n",
       "<path style=\"stroke:none;\" d=\"M 8.109375 0.140625 L 8.109375 -8.3125 L 6.015625 -8.3125 L 6.015625 -7.15625 C 5.484375 -7.984375 4.765625 -8.453125 3.84375 -8.453125 C 1.9375 -8.453125 0.453125 -6.5625 0.453125 -4.0625 C 0.453125 -1.5625 1.8125 0.140625 3.796875 0.140625 C 4.734375 0.140625 5.34375 -0.171875 6.015625 -0.875 L 6.015625 0.140625 C 6.015625 1.109375 5.34375 1.640625 4.3125 1.640625 C 3.515625 1.640625 3.046875 1.453125 2.828125 0.703125 L 0.609375 0.703125 C 0.640625 2.140625 2.03125 3.25 4.234375 3.25 C 6.65625 3.25 8.109375 2.03125 8.109375 0.140625 Z M 6.046875 -4.09375 C 6.046875 -2.640625 5.34375 -1.875 4.265625 -1.875 C 3.28125 -1.875 2.640625 -2.640625 2.640625 -4.09375 C 2.640625 -5.625 3.28125 -6.4375 4.296875 -6.4375 C 5.34375 -6.4375 6.046875 -5.59375 6.046875 -4.09375 Z M 6.046875 -4.09375 \"/>\n",
       "</symbol>\n",
       "<symbol overflow=\"visible\" id=\"glyph0-7\">\n",
       "<path style=\"stroke:none;\" d=\"M 5.5625 -6.1875 L 5.5625 -8.421875 C 5.390625 -8.453125 5.328125 -8.453125 5.265625 -8.453125 C 4.3125 -8.453125 3.40625 -7.6875 3.078125 -6.828125 L 3.078125 -8.3125 L 0.875 -8.3125 L 0.875 0 L 3.078125 0 L 3.078125 -4.40625 C 3.078125 -5.640625 3.640625 -6.109375 4.859375 -6.109375 C 5.078125 -6.109375 5.234375 -6.09375 5.5625 -6.03125 Z M 5.5625 -6.1875 \"/>\n",
       "</symbol>\n",
       "<symbol overflow=\"visible\" id=\"glyph0-8\">\n",
       "<path style=\"stroke:none;\" d=\"M 7.859375 -0.140625 L 7.859375 -0.46875 C 7.46875 -0.8125 7.375 -0.953125 7.375 -1.375 L 7.375 -5.84375 C 7.375 -7.484375 6.21875 -8.453125 4.046875 -8.453125 C 1.859375 -8.453125 0.671875 -7.390625 0.53125 -5.390625 L 2.640625 -5.390625 C 2.75 -6.359375 3.0625 -6.5 4.078125 -6.5 C 4.890625 -6.5 5.234375 -6.359375 5.234375 -5.828125 C 5.234375 -4.984375 4.671875 -5.203125 3.625 -5.015625 L 2.78125 -4.875 C 1.1875 -4.59375 0.359375 -3.765625 0.359375 -2.3125 C 0.359375 -0.75 1.515625 0.140625 2.859375 0.140625 C 3.75 0.140625 4.609375 -0.28125 5.25 -0.96875 C 5.25 -0.734375 5.3125 -0.265625 5.53125 0 L 7.859375 0 Z M 5.234375 -3.578125 C 5.234375 -2.375 4.703125 -1.8125 3.640625 -1.8125 C 2.9375 -1.8125 2.546875 -1.953125 2.546875 -2.546875 C 2.546875 -3.15625 2.828125 -3.25 3.703125 -3.40625 L 4.40625 -3.546875 C 4.96875 -3.65625 5.078125 -3.71875 5.234375 -3.796875 Z M 5.234375 -3.578125 \"/>\n",
       "</symbol>\n",
       "<symbol overflow=\"visible\" id=\"glyph0-9\">\n",
       "<path style=\"stroke:none;\" d=\"M 12.328125 -0.140625 L 12.328125 -5.828125 C 12.328125 -7.390625 11.328125 -8.453125 9.71875 -8.453125 C 8.703125 -8.453125 7.9375 -8.046875 7.359375 -7.28125 C 7 -7.96875 6.171875 -8.453125 5.171875 -8.453125 C 4.25 -8.453125 3.609375 -8.09375 3.015625 -7.375 L 3.015625 -8.3125 L 0.828125 -8.3125 L 0.828125 0 L 3.03125 0 L 3.03125 -4.96875 C 3.03125 -5.953125 3.515625 -6.40625 4.40625 -6.40625 C 5.109375 -6.40625 5.484375 -6.140625 5.484375 -5.5 L 5.484375 0 L 7.671875 0 L 7.671875 -4.96875 C 7.671875 -5.953125 8.171875 -6.40625 9.0625 -6.40625 C 9.765625 -6.40625 10.140625 -6.140625 10.140625 -5.5 L 10.140625 0 L 12.328125 0 Z M 12.328125 -0.140625 \"/>\n",
       "</symbol>\n",
       "<symbol overflow=\"visible\" id=\"glyph0-10\">\n",
       "<path style=\"stroke:none;\" d=\"\"/>\n",
       "</symbol>\n",
       "<symbol overflow=\"visible\" id=\"glyph0-11\">\n",
       "<path style=\"stroke:none;\" d=\"M 4.703125 -6.640625 L 4.703125 -8.15625 L 3.46875 -8.15625 L 3.46875 -8.8125 C 3.46875 -9.234375 3.609375 -9.296875 4 -9.296875 C 4.171875 -9.296875 4.40625 -9.28125 4.640625 -9.234375 L 4.640625 -11.09375 C 4.203125 -11.125 3.6875 -11.140625 3.40625 -11.140625 C 2.015625 -11.140625 1.28125 -10.34375 1.28125 -8.984375 L 1.28125 -8.15625 L 0.15625 -8.15625 L 0.15625 -6.5 L 1.28125 -6.5 L 1.28125 0 L 3.46875 0 L 3.46875 -6.5 L 4.703125 -6.5 Z M 4.703125 -6.640625 \"/>\n",
       "</symbol>\n",
       "<symbol overflow=\"visible\" id=\"glyph0-12\">\n",
       "<path style=\"stroke:none;\" d=\"M 8.171875 -0.140625 L 8.171875 -11.140625 L 5.984375 -11.140625 L 5.984375 -7.34375 C 5.546875 -8.03125 4.8125 -8.453125 3.8125 -8.453125 C 1.890625 -8.453125 0.375 -6.578125 0.375 -4.140625 C 0.375 -1.859375 1.6875 0.140625 3.8125 0.140625 C 4.8125 0.140625 5.546875 -0.265625 5.984375 -0.84375 L 5.984375 0 L 8.171875 0 Z M 5.984375 -4.109375 C 5.984375 -2.65625 5.328125 -1.875 4.28125 -1.875 C 3.234375 -1.875 2.5625 -2.671875 2.5625 -4.140625 C 2.5625 -5.640625 3.234375 -6.4375 4.28125 -6.4375 C 5.34375 -6.4375 5.984375 -5.65625 5.984375 -4.109375 Z M 5.984375 -4.109375 \"/>\n",
       "</symbol>\n",
       "<symbol overflow=\"visible\" id=\"glyph1-0\">\n",
       "<path style=\"stroke:none;\" d=\"\"/>\n",
       "</symbol>\n",
       "<symbol overflow=\"visible\" id=\"glyph1-1\">\n",
       "<path style=\"stroke:none;\" d=\"M 6.3125 -0.125 L 6.3125 -9.375 L 5.015625 -9.375 L 5.015625 -5.84375 L 5.234375 -5.9375 C 4.796875 -6.59375 4.015625 -7 3.140625 -7 C 1.4375 -7 0.1875 -5.546875 0.1875 -3.46875 C 0.1875 -1.25 1.40625 0.1875 3.171875 0.1875 C 4.078125 0.1875 4.78125 -0.1875 5.34375 -1 L 5.125 -1.09375 L 5.125 0 L 6.3125 0 Z M 5.015625 -3.375 C 5.015625 -1.859375 4.421875 -1.046875 3.328125 -1.046875 C 2.171875 -1.046875 1.53125 -1.875 1.53125 -3.40625 C 1.53125 -4.921875 2.171875 -5.765625 3.3125 -5.765625 C 4.4375 -5.765625 5.015625 -4.890625 5.015625 -3.375 Z M 5.015625 -3.375 \"/>\n",
       "</symbol>\n",
       "<symbol overflow=\"visible\" id=\"glyph1-2\">\n",
       "<path style=\"stroke:none;\" d=\"M 6.8125 -0.15625 L 6.8125 -1.09375 C 6.578125 -1.046875 6.53125 -1.046875 6.46875 -1.046875 C 6.09375 -1.046875 6.03125 -1.09375 6.03125 -1.421875 L 6.03125 -5.078125 C 6.03125 -6.234375 5.046875 -7 3.4375 -7 C 1.84375 -7 0.734375 -6.25 0.65625 -4.609375 L 1.96875 -4.609375 C 2.078125 -5.53125 2.421875 -5.78125 3.40625 -5.78125 C 4.34375 -5.78125 4.71875 -5.546875 4.71875 -4.921875 L 4.71875 -4.65625 C 4.71875 -4.21875 4.59375 -4.15625 3.78125 -4.0625 C 2.296875 -3.875 2.078125 -3.828125 1.671875 -3.65625 C 0.90625 -3.34375 0.390625 -2.625 0.390625 -1.828125 C 0.390625 -0.640625 1.34375 0.1875 2.671875 0.1875 C 3.515625 0.1875 4.40625 -0.203125 4.828125 -0.640625 C 4.875 -0.40625 5.46875 0.09375 5.96875 0.09375 C 6.1875 0.09375 6.34375 0.0625 6.8125 -0.046875 Z M 4.71875 -2.390625 C 4.71875 -1.453125 3.90625 -0.984375 2.90625 -0.984375 C 2.09375 -0.984375 1.734375 -1.140625 1.734375 -1.84375 C 1.734375 -2.53125 2.078125 -2.71875 3.1875 -2.875 C 4.28125 -3.03125 4.515625 -3.078125 4.71875 -3.171875 Z M 4.71875 -2.390625 \"/>\n",
       "</symbol>\n",
       "<symbol overflow=\"visible\" id=\"glyph1-3\">\n",
       "<path style=\"stroke:none;\" d=\"M 3.296875 -0.125 L 3.296875 -1.171875 C 3.03125 -1.09375 2.875 -1.09375 2.671875 -1.09375 C 2.21875 -1.09375 2.21875 -1.078125 2.21875 -1.53125 L 2.21875 -5.703125 L 3.296875 -5.703125 L 3.296875 -6.8125 L 2.21875 -6.8125 L 2.21875 -8.609375 L 0.921875 -8.609375 L 0.921875 -6.8125 L 0.03125 -6.8125 L 0.03125 -5.703125 L 0.921875 -5.703125 L 0.921875 -1.078125 C 0.921875 -0.40625 1.515625 0.09375 2.328125 0.09375 C 2.578125 0.09375 2.828125 0.0625 3.296875 -0.015625 Z M 3.296875 -0.125 \"/>\n",
       "</symbol>\n",
       "<symbol overflow=\"visible\" id=\"glyph1-4\">\n",
       "<path style=\"stroke:none;\" d=\"M 3.671875 -3.125 L 3.671875 -4.15625 L 0.4375 -4.15625 L 0.4375 -3 L 3.671875 -3 Z M 3.671875 -3.125 \"/>\n",
       "</symbol>\n",
       "<symbol overflow=\"visible\" id=\"glyph1-5\">\n",
       "<path style=\"stroke:none;\" d=\"M 6.515625 -6.390625 C 6.515625 -7.890625 5.21875 -9.125 3.546875 -9.125 C 1.734375 -9.125 0.546875 -8.0625 0.484375 -5.78125 L 1.84375 -5.78125 C 1.9375 -7.40625 2.421875 -7.90625 3.515625 -7.90625 C 4.515625 -7.90625 5.125 -7.3125 5.125 -6.359375 C 5.125 -5.65625 4.75 -5.15625 3.96875 -4.703125 L 2.8125 -4.046875 C 0.96875 -3 0.390625 -2.078125 0.28125 0 L 6.453125 0 L 6.453125 -1.34375 L 1.8125 -1.34375 C 1.90625 -1.9375 2.265625 -2.3125 3.34375 -2.953125 L 4.59375 -3.625 C 5.84375 -4.28125 6.515625 -5.296875 6.515625 -6.390625 Z M 6.515625 -6.390625 \"/>\n",
       "</symbol>\n",
       "<symbol overflow=\"visible\" id=\"glyph1-6\">\n",
       "<path style=\"stroke:none;\" d=\"M 4.46875 -0.125 L 4.46875 -9.125 L 3.515625 -9.125 C 3.09375 -7.625 2.96875 -7.578125 1.140625 -7.34375 L 1.140625 -6.3125 L 3.09375 -6.3125 L 3.09375 0 L 4.46875 0 Z M 4.46875 -0.125 \"/>\n",
       "</symbol>\n",
       "<symbol overflow=\"visible\" id=\"glyph1-7\">\n",
       "<path style=\"stroke:none;\" d=\"M 6.46875 -4.390625 C 6.46875 -7.46875 5.359375 -9.125 3.4375 -9.125 C 1.53125 -9.125 0.40625 -7.4375 0.40625 -4.46875 C 0.40625 -1.46875 1.53125 0.1875 3.4375 0.1875 C 5.3125 0.1875 6.46875 -1.46875 6.46875 -4.390625 Z M 5.078125 -4.484375 C 5.078125 -1.96875 4.640625 -0.984375 3.40625 -0.984375 C 2.25 -0.984375 1.78125 -2.03125 1.78125 -4.453125 C 1.78125 -6.875 2.25 -7.890625 3.4375 -7.890625 C 4.625 -7.890625 5.078125 -6.859375 5.078125 -4.484375 Z M 5.078125 -4.484375 \"/>\n",
       "</symbol>\n",
       "<symbol overflow=\"visible\" id=\"glyph1-8\">\n",
       "<path style=\"stroke:none;\" d=\"M 6.453125 -2.703125 C 6.453125 -3.78125 5.890625 -4.53125 4.828125 -4.90625 L 4.828125 -4.640625 C 5.65625 -4.96875 6.1875 -5.65625 6.1875 -6.546875 C 6.1875 -8.078125 5.046875 -9.125 3.359375 -9.125 C 1.578125 -9.125 0.484375 -8.015625 0.453125 -6 L 1.8125 -6 C 1.84375 -7.4375 2.25 -7.90625 3.375 -7.90625 C 4.34375 -7.90625 4.796875 -7.453125 4.796875 -6.515625 C 4.796875 -5.5625 4.53125 -5.3125 2.625 -5.3125 L 2.625 -4.125 L 3.359375 -4.125 C 4.578125 -4.125 5.0625 -3.671875 5.0625 -2.6875 C 5.0625 -1.578125 4.515625 -1.046875 3.359375 -1.046875 C 2.15625 -1.046875 1.703125 -1.515625 1.609375 -2.9375 L 0.25 -2.9375 C 0.40625 -0.828125 1.515625 0.1875 3.328125 0.1875 C 5.15625 0.1875 6.453125 -1.03125 6.453125 -2.703125 Z M 6.453125 -2.703125 \"/>\n",
       "</symbol>\n",
       "<symbol overflow=\"visible\" id=\"glyph1-9\">\n",
       "<path style=\"stroke:none;\" d=\"M 6.625 -2.25 L 6.625 -3.375 L 5.3125 -3.375 L 5.3125 -9.125 L 4.296875 -9.125 L 0.21875 -3.453125 L 0.21875 -2.125 L 3.953125 -2.125 L 3.953125 0 L 5.3125 0 L 5.3125 -2.125 L 6.625 -2.125 Z M 4.09375 -3.375 L 1.5625 -3.375 L 4.171875 -7.03125 L 3.953125 -7.109375 L 3.953125 -3.375 Z M 4.09375 -3.375 \"/>\n",
       "</symbol>\n",
       "<symbol overflow=\"visible\" id=\"glyph2-0\">\n",
       "<path style=\"stroke:none;\" d=\"\"/>\n",
       "</symbol>\n",
       "<symbol overflow=\"visible\" id=\"glyph2-1\">\n",
       "<path style=\"stroke:none;\" d=\"M -8.21875 -7.359375 L -9.375 -7.359375 L -9.375 -0.984375 L 0 -0.984375 L 0 -2.40625 L -4.15625 -2.40625 L -4.15625 -6.765625 L -5.4375 -6.765625 L -5.4375 -2.40625 L -8.09375 -2.40625 L -8.09375 -7.359375 Z M -8.21875 -7.359375 \"/>\n",
       "</symbol>\n",
       "<symbol overflow=\"visible\" id=\"glyph2-2\">\n",
       "<path style=\"stroke:none;\" d=\"M -5.765625 -4.140625 L -6.9375 -4.140625 C -6.984375 -3.84375 -7 -3.75 -7 -3.609375 C -7 -2.9375 -6.546875 -2.328125 -5.578125 -1.71875 L -5.484375 -1.953125 L -6.8125 -1.953125 L -6.8125 -0.734375 L 0 -0.734375 L 0 -2.03125 L -3.53125 -2.03125 C -5 -2.03125 -5.609375 -2.40625 -5.640625 -4.140625 Z M -5.765625 -4.140625 \"/>\n",
       "</symbol>\n",
       "<symbol overflow=\"visible\" id=\"glyph2-3\">\n",
       "<path style=\"stroke:none;\" d=\"M -3.09375 -6.53125 C -4.046875 -6.53125 -4.65625 -6.46875 -5.140625 -6.28125 C -6.21875 -5.84375 -7 -4.71875 -7 -3.5 C -7 -1.671875 -5.515625 -0.359375 -3.359375 -0.359375 C -1.21875 -0.359375 0.1875 -1.640625 0.1875 -3.46875 C 0.1875 -4.96875 -0.78125 -6.140625 -2.25 -6.421875 L -2.25 -5.125 C -1.25 -4.796875 -1.03125 -4.34375 -1.03125 -3.515625 C -1.03125 -2.421875 -1.59375 -1.734375 -2.96875 -1.71875 L -2.96875 -6.53125 Z M -3.9375 -5.390625 C -3.9375 -5.390625 -4.0625 -5.203125 -4.09375 -5.21875 L -4.09375 -1.75 C -5.109375 -1.828125 -5.78125 -2.4375 -5.78125 -3.484375 C -5.78125 -4.515625 -5.046875 -5.15625 -4.03125 -5.15625 Z M -3.9375 -5.390625 \"/>\n",
       "</symbol>\n",
       "<symbol overflow=\"visible\" id=\"glyph2-4\">\n",
       "<path style=\"stroke:none;\" d=\"M 2.59375 -6.3125 L -6.8125 -6.3125 L -6.8125 -5.125 L -5.796875 -5.125 L -5.890625 -5.34375 C -6.578125 -4.859375 -7 -4.03125 -7 -3.171875 C -7 -1.453125 -5.5 -0.1875 -3.328125 -0.1875 C -1.203125 -0.1875 0.1875 -1.40625 0.1875 -3.125 C 0.1875 -4.03125 -0.171875 -4.75 -0.890625 -5.234375 L -0.96875 -5.015625 L 2.71875 -5.015625 L 2.71875 -6.3125 Z M -3.359375 -5.015625 C -1.859375 -5.015625 -1.046875 -4.421875 -1.046875 -3.328125 C -1.046875 -2.171875 -1.875 -1.53125 -3.40625 -1.53125 C -4.90625 -1.53125 -5.765625 -2.171875 -5.765625 -3.328125 C -5.765625 -4.4375 -4.890625 -5.015625 -3.359375 -5.015625 Z M -3.359375 -5.015625 \"/>\n",
       "</symbol>\n",
       "<symbol overflow=\"visible\" id=\"glyph2-5\">\n",
       "<path style=\"stroke:none;\" d=\"M -0.125 -6.15625 L -6.8125 -6.15625 L -6.8125 -4.84375 L -3.0625 -4.84375 C -1.71875 -4.84375 -0.984375 -4.28125 -0.984375 -3.203125 C -0.984375 -2.375 -1.34375 -1.96875 -2.140625 -1.96875 L -6.8125 -1.96875 L -6.8125 -0.671875 L -1.71875 -0.671875 C -0.640625 -0.671875 0.1875 -1.625 0.1875 -2.90625 C 0.1875 -3.859375 -0.1875 -4.5625 -1.046875 -5.171875 L -1.140625 -4.953125 L 0 -4.953125 L 0 -6.15625 Z M -0.125 -6.15625 \"/>\n",
       "</symbol>\n",
       "<symbol overflow=\"visible\" id=\"glyph2-6\">\n",
       "<path style=\"stroke:none;\" d=\"M -0.125 -6.21875 L -5.078125 -6.21875 C -6.15625 -6.21875 -7 -5.28125 -7 -4.015625 C -7 -3.03125 -6.578125 -2.3125 -5.65625 -1.734375 L -5.578125 -1.96875 L -6.8125 -1.96875 L -6.8125 -0.734375 L 0 -0.734375 L 0 -2.03125 L -3.734375 -2.03125 C -5.078125 -2.03125 -5.828125 -2.640625 -5.828125 -3.703125 C -5.828125 -4.53125 -5.453125 -4.90625 -4.65625 -4.90625 L 0 -4.90625 L 0 -6.21875 Z M -0.125 -6.21875 \"/>\n",
       "</symbol>\n",
       "<symbol overflow=\"visible\" id=\"glyph2-7\">\n",
       "<path style=\"stroke:none;\" d=\"M -2.515625 -5.96875 L -2.515625 -4.796875 C -1.328125 -4.59375 -1.03125 -4.203125 -1.03125 -3.3125 C -1.03125 -2.15625 -1.78125 -1.59375 -3.34375 -1.59375 C -4.96875 -1.59375 -5.78125 -2.15625 -5.78125 -3.28125 C -5.78125 -4.15625 -5.390625 -4.578125 -4.34375 -4.71875 L -4.34375 -6.03125 C -6.078125 -5.890625 -7 -4.765625 -7 -3.296875 C -7 -1.53125 -5.515625 -0.25 -3.34375 -0.25 C -1.21875 -0.25 0.1875 -1.515625 0.1875 -3.28125 C 0.1875 -4.84375 -0.875 -5.96875 -2.515625 -6.09375 Z M -2.515625 -5.96875 \"/>\n",
       "</symbol>\n",
       "<symbol overflow=\"visible\" id=\"glyph2-8\">\n",
       "<path style=\"stroke:none;\" d=\"M -6.8125 -5.96875 L -6.8125 -4.765625 L -1.578125 -2.90625 L -1.578125 -3.15625 L -6.8125 -1.453125 L -6.8125 -0.0625 L -0.09375 -2.328125 L 0.9375 -1.921875 C 1.40625 -1.75 1.4375 -1.671875 1.4375 -1.21875 C 1.4375 -1.078125 1.40625 -0.90625 1.34375 -0.53125 L 2.515625 -0.53125 C 2.640625 -0.78125 2.71875 -1.09375 2.71875 -1.375 C 2.71875 -2.109375 2.1875 -2.84375 1.25 -3.1875 L -6.8125 -6.15625 Z M -6.8125 -5.96875 \"/>\n",
       "</symbol>\n",
       "<symbol overflow=\"visible\" id=\"glyph2-9\">\n",
       "<path style=\"stroke:none;\" d=\"M -4.390625 -6.46875 C -7.46875 -6.46875 -9.125 -5.359375 -9.125 -3.4375 C -9.125 -1.53125 -7.4375 -0.40625 -4.46875 -0.40625 C -1.46875 -0.40625 0.1875 -1.53125 0.1875 -3.4375 C 0.1875 -5.3125 -1.46875 -6.46875 -4.390625 -6.46875 Z M -4.484375 -5.078125 C -1.96875 -5.078125 -0.984375 -4.640625 -0.984375 -3.40625 C -0.984375 -2.25 -2.03125 -1.78125 -4.453125 -1.78125 C -6.875 -1.78125 -7.890625 -2.25 -7.890625 -3.4375 C -7.890625 -4.625 -6.859375 -5.078125 -4.484375 -5.078125 Z M -4.484375 -5.078125 \"/>\n",
       "</symbol>\n",
       "<symbol overflow=\"visible\" id=\"glyph2-10\">\n",
       "<path style=\"stroke:none;\" d=\"M -6.390625 -6.515625 C -7.890625 -6.515625 -9.125 -5.21875 -9.125 -3.546875 C -9.125 -1.734375 -8.0625 -0.546875 -5.78125 -0.484375 L -5.78125 -1.84375 C -7.40625 -1.9375 -7.90625 -2.421875 -7.90625 -3.515625 C -7.90625 -4.515625 -7.3125 -5.125 -6.359375 -5.125 C -5.65625 -5.125 -5.15625 -4.75 -4.703125 -3.96875 L -4.046875 -2.8125 C -3 -0.96875 -2.078125 -0.390625 0 -0.28125 L 0 -6.453125 L -1.34375 -6.453125 L -1.34375 -1.8125 C -1.9375 -1.90625 -2.3125 -2.265625 -2.953125 -3.34375 L -3.625 -4.59375 C -4.28125 -5.84375 -5.296875 -6.515625 -6.390625 -6.515625 Z M -6.390625 -6.515625 \"/>\n",
       "</symbol>\n",
       "<symbol overflow=\"visible\" id=\"glyph2-11\">\n",
       "<path style=\"stroke:none;\" d=\"M -2.25 -6.625 L -3.375 -6.625 L -3.375 -5.3125 L -9.125 -5.3125 L -9.125 -4.296875 L -3.453125 -0.21875 L -2.125 -0.21875 L -2.125 -3.953125 L 0 -3.953125 L 0 -5.3125 L -2.125 -5.3125 L -2.125 -6.625 Z M -3.375 -4.09375 L -3.375 -1.5625 L -7.03125 -4.171875 L -7.109375 -3.953125 L -3.375 -3.953125 Z M -3.375 -4.09375 \"/>\n",
       "</symbol>\n",
       "</g>\n",
       "<clipPath id=\"clip1\">\n",
       "  <path d=\"M 167 59.039062 L 169 59.039062 L 169 143.558594 L 167 143.558594 Z M 167 59.039062 \"/>\n",
       "</clipPath>\n",
       "<clipPath id=\"clip2\">\n",
       "  <path d=\"M 168 59.039062 L 169 59.039062 L 169 143.558594 L 168 143.558594 Z M 168 59.039062 \"/>\n",
       "</clipPath>\n",
       "<clipPath id=\"clip3\">\n",
       "  <path d=\"M 66 59.039062 L 68 59.039062 L 68 143.558594 L 66 143.558594 Z M 66 59.039062 \"/>\n",
       "</clipPath>\n",
       "<clipPath id=\"clip4\">\n",
       "  <path d=\"M 249 59.039062 L 251 59.039062 L 251 143.558594 L 249 143.558594 Z M 249 59.039062 \"/>\n",
       "</clipPath>\n",
       "<clipPath id=\"clip5\">\n",
       "  <path d=\"M 194 59.039062 L 196 59.039062 L 196 143.558594 L 194 143.558594 Z M 194 59.039062 \"/>\n",
       "</clipPath>\n",
       "<clipPath id=\"clip6\">\n",
       "  <path d=\"M 139 59.039062 L 141 59.039062 L 141 143.558594 L 139 143.558594 Z M 139 59.039062 \"/>\n",
       "</clipPath>\n",
       "</defs>\n",
       "<g id=\"surface163\">\n",
       "<rect x=\"0\" y=\"0\" width=\"288\" height=\"216\" style=\"fill:rgb(100%,100%,100%);fill-opacity:1;stroke:none;\"/>\n",
       "<g style=\"fill:rgb(0%,0%,0%);fill-opacity:1;\">\n",
       "  <use xlink:href=\"#glyph0-1\" x=\"95.039062\" y=\"35.089844\"/>\n",
       "  <use xlink:href=\"#glyph0-2\" x=\"105.801315\" y=\"35.089844\"/>\n",
       "  <use xlink:href=\"#glyph0-3\" x=\"109.945236\" y=\"35.089844\"/>\n",
       "  <use xlink:href=\"#glyph0-4\" x=\"118.233063\" y=\"35.089844\"/>\n",
       "  <use xlink:href=\"#glyph0-5\" x=\"123.196823\" y=\"35.089844\"/>\n",
       "  <use xlink:href=\"#glyph0-6\" x=\"132.304489\" y=\"35.089844\"/>\n",
       "  <use xlink:href=\"#glyph0-7\" x=\"141.412155\" y=\"35.089844\"/>\n",
       "  <use xlink:href=\"#glyph0-8\" x=\"147.210648\" y=\"35.089844\"/>\n",
       "  <use xlink:href=\"#glyph0-9\" x=\"155.498474\" y=\"35.089844\"/>\n",
       "  <use xlink:href=\"#glyph0-10\" x=\"168.750061\" y=\"35.089844\"/>\n",
       "  <use xlink:href=\"#glyph0-5\" x=\"172.893982\" y=\"35.089844\"/>\n",
       "  <use xlink:href=\"#glyph0-11\" x=\"182.001648\" y=\"35.089844\"/>\n",
       "  <use xlink:href=\"#glyph0-10\" x=\"186.965408\" y=\"35.089844\"/>\n",
       "  <use xlink:href=\"#glyph0-12\" x=\"191.109329\" y=\"35.089844\"/>\n",
       "  <use xlink:href=\"#glyph0-8\" x=\"200.216995\" y=\"35.089844\"/>\n",
       "  <use xlink:href=\"#glyph0-4\" x=\"208.504822\" y=\"35.089844\"/>\n",
       "  <use xlink:href=\"#glyph0-8\" x=\"213.468582\" y=\"35.089844\"/>\n",
       "</g>\n",
       "<g style=\"fill:rgb(0%,0%,0%);fill-opacity:1;\">\n",
       "  <use xlink:href=\"#glyph1-1\" x=\"146.234375\" y=\"198.71875\"/>\n",
       "  <use xlink:href=\"#glyph1-2\" x=\"153.184402\" y=\"198.71875\"/>\n",
       "  <use xlink:href=\"#glyph1-3\" x=\"160.13443\" y=\"198.71875\"/>\n",
       "  <use xlink:href=\"#glyph1-2\" x=\"163.609436\" y=\"198.71875\"/>\n",
       "</g>\n",
       "<g style=\"fill:rgb(0%,0%,0%);fill-opacity:1;\">\n",
       "  <use xlink:href=\"#glyph2-1\" x=\"14.398438\" y=\"130.324219\"/>\n",
       "  <use xlink:href=\"#glyph2-2\" x=\"14.398438\" y=\"122.686691\"/>\n",
       "  <use xlink:href=\"#glyph2-3\" x=\"14.398438\" y=\"118.52417\"/>\n",
       "  <use xlink:href=\"#glyph2-4\" x=\"14.398438\" y=\"111.574142\"/>\n",
       "  <use xlink:href=\"#glyph2-5\" x=\"14.398438\" y=\"104.624115\"/>\n",
       "  <use xlink:href=\"#glyph2-3\" x=\"14.398438\" y=\"97.674088\"/>\n",
       "  <use xlink:href=\"#glyph2-6\" x=\"14.398438\" y=\"90.72406\"/>\n",
       "  <use xlink:href=\"#glyph2-7\" x=\"14.398438\" y=\"83.774033\"/>\n",
       "  <use xlink:href=\"#glyph2-8\" x=\"14.398438\" y=\"77.524002\"/>\n",
       "</g>\n",
       "<path style=\"fill:none;stroke-width:1;stroke-linecap:round;stroke-linejoin:round;stroke:rgb(0%,0%,0%);stroke-opacity:1;stroke-miterlimit:10;\" d=\"M 83.382812 142.558594 L 253.230469 142.558594 \"/>\n",
       "<path style=\"fill:none;stroke-width:1;stroke-linecap:round;stroke-linejoin:round;stroke:rgb(0%,0%,0%);stroke-opacity:1;stroke-miterlimit:10;\" d=\"M 83.382812 142.558594 L 83.382812 149.761719 \"/>\n",
       "<path style=\"fill:none;stroke-width:1;stroke-linecap:round;stroke-linejoin:round;stroke:rgb(0%,0%,0%);stroke-opacity:1;stroke-miterlimit:10;\" d=\"M 111.691406 142.558594 L 111.691406 149.761719 \"/>\n",
       "<path style=\"fill:none;stroke-width:1;stroke-linecap:round;stroke-linejoin:round;stroke:rgb(0%,0%,0%);stroke-opacity:1;stroke-miterlimit:10;\" d=\"M 140 142.558594 L 140 149.761719 \"/>\n",
       "<path style=\"fill:none;stroke-width:1;stroke-linecap:round;stroke-linejoin:round;stroke:rgb(0%,0%,0%);stroke-opacity:1;stroke-miterlimit:10;\" d=\"M 168.308594 142.558594 L 168.308594 149.761719 \"/>\n",
       "<path style=\"fill:none;stroke-width:1;stroke-linecap:round;stroke-linejoin:round;stroke:rgb(0%,0%,0%);stroke-opacity:1;stroke-miterlimit:10;\" d=\"M 196.617188 142.558594 L 196.617188 149.761719 \"/>\n",
       "<path style=\"fill:none;stroke-width:1;stroke-linecap:round;stroke-linejoin:round;stroke:rgb(0%,0%,0%);stroke-opacity:1;stroke-miterlimit:10;\" d=\"M 224.921875 142.558594 L 224.921875 149.761719 \"/>\n",
       "<path style=\"fill:none;stroke-width:1;stroke-linecap:round;stroke-linejoin:round;stroke:rgb(0%,0%,0%);stroke-opacity:1;stroke-miterlimit:10;\" d=\"M 253.230469 142.558594 L 253.230469 149.761719 \"/>\n",
       "<g style=\"fill:rgb(0%,0%,0%);fill-opacity:1;\">\n",
       "  <use xlink:href=\"#glyph1-4\" x=\"77.828125\" y=\"169.921875\"/>\n",
       "  <use xlink:href=\"#glyph1-5\" x=\"81.990646\" y=\"169.921875\"/>\n",
       "</g>\n",
       "<g style=\"fill:rgb(0%,0%,0%);fill-opacity:1;\">\n",
       "  <use xlink:href=\"#glyph1-4\" x=\"106.136719\" y=\"169.921875\"/>\n",
       "  <use xlink:href=\"#glyph1-6\" x=\"110.29924\" y=\"169.921875\"/>\n",
       "</g>\n",
       "<g style=\"fill:rgb(0%,0%,0%);fill-opacity:1;\">\n",
       "  <use xlink:href=\"#glyph1-7\" x=\"136.523438\" y=\"169.921875\"/>\n",
       "</g>\n",
       "<g style=\"fill:rgb(0%,0%,0%);fill-opacity:1;\">\n",
       "  <use xlink:href=\"#glyph1-6\" x=\"164.832031\" y=\"169.921875\"/>\n",
       "</g>\n",
       "<g style=\"fill:rgb(0%,0%,0%);fill-opacity:1;\">\n",
       "  <use xlink:href=\"#glyph1-5\" x=\"193.140625\" y=\"169.921875\"/>\n",
       "</g>\n",
       "<g style=\"fill:rgb(0%,0%,0%);fill-opacity:1;\">\n",
       "  <use xlink:href=\"#glyph1-8\" x=\"221.445312\" y=\"169.921875\"/>\n",
       "</g>\n",
       "<g style=\"fill:rgb(0%,0%,0%);fill-opacity:1;\">\n",
       "  <use xlink:href=\"#glyph1-9\" x=\"249.753906\" y=\"169.921875\"/>\n",
       "</g>\n",
       "<path style=\"fill:none;stroke-width:1;stroke-linecap:round;stroke-linejoin:round;stroke:rgb(0%,0%,0%);stroke-opacity:1;stroke-miterlimit:10;\" d=\"M 59.039062 139.464844 L 59.039062 69.164062 \"/>\n",
       "<path style=\"fill:none;stroke-width:1;stroke-linecap:round;stroke-linejoin:round;stroke:rgb(0%,0%,0%);stroke-opacity:1;stroke-miterlimit:10;\" d=\"M 59.039062 139.464844 L 51.839844 139.464844 \"/>\n",
       "<path style=\"fill:none;stroke-width:1;stroke-linecap:round;stroke-linejoin:round;stroke:rgb(0%,0%,0%);stroke-opacity:1;stroke-miterlimit:10;\" d=\"M 59.039062 125.40625 L 51.839844 125.40625 \"/>\n",
       "<path style=\"fill:none;stroke-width:1;stroke-linecap:round;stroke-linejoin:round;stroke:rgb(0%,0%,0%);stroke-opacity:1;stroke-miterlimit:10;\" d=\"M 59.039062 111.34375 L 51.839844 111.34375 \"/>\n",
       "<path style=\"fill:none;stroke-width:1;stroke-linecap:round;stroke-linejoin:round;stroke:rgb(0%,0%,0%);stroke-opacity:1;stroke-miterlimit:10;\" d=\"M 59.039062 97.285156 L 51.839844 97.285156 \"/>\n",
       "<path style=\"fill:none;stroke-width:1;stroke-linecap:round;stroke-linejoin:round;stroke:rgb(0%,0%,0%);stroke-opacity:1;stroke-miterlimit:10;\" d=\"M 59.039062 83.222656 L 51.839844 83.222656 \"/>\n",
       "<path style=\"fill:none;stroke-width:1;stroke-linecap:round;stroke-linejoin:round;stroke:rgb(0%,0%,0%);stroke-opacity:1;stroke-miterlimit:10;\" d=\"M 59.039062 69.164062 L 51.839844 69.164062 \"/>\n",
       "<g style=\"fill:rgb(0%,0%,0%);fill-opacity:1;\">\n",
       "  <use xlink:href=\"#glyph2-9\" x=\"43.199219\" y=\"142.941406\"/>\n",
       "</g>\n",
       "<g style=\"fill:rgb(0%,0%,0%);fill-opacity:1;\">\n",
       "  <use xlink:href=\"#glyph2-10\" x=\"43.199219\" y=\"118.292969\"/>\n",
       "  <use xlink:href=\"#glyph2-9\" x=\"43.199219\" y=\"111.342941\"/>\n",
       "</g>\n",
       "<g style=\"fill:rgb(0%,0%,0%);fill-opacity:1;\">\n",
       "  <use xlink:href=\"#glyph2-11\" x=\"43.199219\" y=\"90.171875\"/>\n",
       "  <use xlink:href=\"#glyph2-9\" x=\"43.199219\" y=\"83.221848\"/>\n",
       "</g>\n",
       "<path style=\"fill-rule:nonzero;fill:rgb(40%,40%,40%);fill-opacity:1;stroke-width:1;stroke-linecap:round;stroke-linejoin:round;stroke:rgb(100%,100%,100%);stroke-opacity:1;stroke-miterlimit:10;\" d=\"M 66.398438 138.0625 L 69.230469 138.0625 L 69.230469 139.46875 L 66.398438 139.46875 Z M 66.398438 138.0625 \"/>\n",
       "<path style=\"fill:none;stroke-width:1;stroke-linecap:round;stroke-linejoin:round;stroke:rgb(100%,100%,100%);stroke-opacity:1;stroke-miterlimit:10;\" d=\"M 69.230469 139.464844 L 72.0625 139.464844 Z M 69.230469 139.464844 \"/>\n",
       "<path style=\"fill:none;stroke-width:1;stroke-linecap:round;stroke-linejoin:round;stroke:rgb(100%,100%,100%);stroke-opacity:1;stroke-miterlimit:10;\" d=\"M 72.0625 139.464844 L 74.894531 139.464844 Z M 72.0625 139.464844 \"/>\n",
       "<path style=\"fill:none;stroke-width:1;stroke-linecap:round;stroke-linejoin:round;stroke:rgb(100%,100%,100%);stroke-opacity:1;stroke-miterlimit:10;\" d=\"M 74.890625 139.464844 L 77.722656 139.464844 Z M 74.890625 139.464844 \"/>\n",
       "<path style=\"fill:none;stroke-width:1;stroke-linecap:round;stroke-linejoin:round;stroke:rgb(100%,100%,100%);stroke-opacity:1;stroke-miterlimit:10;\" d=\"M 77.722656 139.464844 L 80.554688 139.464844 Z M 77.722656 139.464844 \"/>\n",
       "<path style=\"fill:none;stroke-width:1;stroke-linecap:round;stroke-linejoin:round;stroke:rgb(100%,100%,100%);stroke-opacity:1;stroke-miterlimit:10;\" d=\"M 80.554688 139.464844 L 83.386719 139.464844 Z M 80.554688 139.464844 \"/>\n",
       "<path style=\"fill-rule:nonzero;fill:rgb(40%,40%,40%);fill-opacity:1;stroke-width:1;stroke-linecap:round;stroke-linejoin:round;stroke:rgb(100%,100%,100%);stroke-opacity:1;stroke-miterlimit:10;\" d=\"M 83.382812 138.0625 L 86.214844 138.0625 L 86.214844 139.46875 L 83.382812 139.46875 Z M 83.382812 138.0625 \"/>\n",
       "<path style=\"fill:none;stroke-width:1;stroke-linecap:round;stroke-linejoin:round;stroke:rgb(100%,100%,100%);stroke-opacity:1;stroke-miterlimit:10;\" d=\"M 86.214844 139.464844 L 89.046875 139.464844 Z M 86.214844 139.464844 \"/>\n",
       "<path style=\"fill:none;stroke-width:1;stroke-linecap:round;stroke-linejoin:round;stroke:rgb(100%,100%,100%);stroke-opacity:1;stroke-miterlimit:10;\" d=\"M 89.046875 139.464844 L 91.878906 139.464844 Z M 89.046875 139.464844 \"/>\n",
       "<path style=\"fill-rule:nonzero;fill:rgb(40%,40%,40%);fill-opacity:1;stroke-width:1;stroke-linecap:round;stroke-linejoin:round;stroke:rgb(100%,100%,100%);stroke-opacity:1;stroke-miterlimit:10;\" d=\"M 91.875 138.0625 L 94.707031 138.0625 L 94.707031 139.46875 L 91.875 139.46875 Z M 91.875 138.0625 \"/>\n",
       "<path style=\"fill-rule:nonzero;fill:rgb(40%,40%,40%);fill-opacity:1;stroke-width:1;stroke-linecap:round;stroke-linejoin:round;stroke:rgb(100%,100%,100%);stroke-opacity:1;stroke-miterlimit:10;\" d=\"M 94.707031 135.25 L 97.539062 135.25 L 97.539062 139.46875 L 94.707031 139.46875 Z M 94.707031 135.25 \"/>\n",
       "<path style=\"fill:none;stroke-width:1;stroke-linecap:round;stroke-linejoin:round;stroke:rgb(100%,100%,100%);stroke-opacity:1;stroke-miterlimit:10;\" d=\"M 97.539062 139.464844 L 100.371094 139.464844 Z M 97.539062 139.464844 \"/>\n",
       "<path style=\"fill-rule:nonzero;fill:rgb(40%,40%,40%);fill-opacity:1;stroke-width:1;stroke-linecap:round;stroke-linejoin:round;stroke:rgb(100%,100%,100%);stroke-opacity:1;stroke-miterlimit:10;\" d=\"M 100.371094 136.65625 L 103.203125 136.65625 L 103.203125 139.46875 L 100.371094 139.46875 Z M 100.371094 136.65625 \"/>\n",
       "<path style=\"fill-rule:nonzero;fill:rgb(40%,40%,40%);fill-opacity:1;stroke-width:1;stroke-linecap:round;stroke-linejoin:round;stroke:rgb(100%,100%,100%);stroke-opacity:1;stroke-miterlimit:10;\" d=\"M 103.199219 135.25 L 106.03125 135.25 L 106.03125 139.46875 L 103.199219 139.46875 Z M 103.199219 135.25 \"/>\n",
       "<path style=\"fill-rule:nonzero;fill:rgb(40%,40%,40%);fill-opacity:1;stroke-width:1;stroke-linecap:round;stroke-linejoin:round;stroke:rgb(100%,100%,100%);stroke-opacity:1;stroke-miterlimit:10;\" d=\"M 106.03125 133.84375 L 108.863281 133.84375 L 108.863281 139.46875 L 106.03125 139.46875 Z M 106.03125 133.84375 \"/>\n",
       "<path style=\"fill-rule:nonzero;fill:rgb(40%,40%,40%);fill-opacity:1;stroke-width:1;stroke-linecap:round;stroke-linejoin:round;stroke:rgb(100%,100%,100%);stroke-opacity:1;stroke-miterlimit:10;\" d=\"M 108.863281 133.84375 L 111.695312 133.84375 L 111.695312 139.46875 L 108.863281 139.46875 Z M 108.863281 133.84375 \"/>\n",
       "<path style=\"fill-rule:nonzero;fill:rgb(40%,40%,40%);fill-opacity:1;stroke-width:1;stroke-linecap:round;stroke-linejoin:round;stroke:rgb(100%,100%,100%);stroke-opacity:1;stroke-miterlimit:10;\" d=\"M 111.691406 133.84375 L 114.523438 133.84375 L 114.523438 139.46875 L 111.691406 139.46875 Z M 111.691406 133.84375 \"/>\n",
       "<path style=\"fill-rule:nonzero;fill:rgb(40%,40%,40%);fill-opacity:1;stroke-width:1;stroke-linecap:round;stroke-linejoin:round;stroke:rgb(100%,100%,100%);stroke-opacity:1;stroke-miterlimit:10;\" d=\"M 114.523438 132.4375 L 117.355469 132.4375 L 117.355469 139.46875 L 114.523438 139.46875 Z M 114.523438 132.4375 \"/>\n",
       "<path style=\"fill-rule:nonzero;fill:rgb(40%,40%,40%);fill-opacity:1;stroke-width:1;stroke-linecap:round;stroke-linejoin:round;stroke:rgb(100%,100%,100%);stroke-opacity:1;stroke-miterlimit:10;\" d=\"M 117.355469 126.8125 L 120.1875 126.8125 L 120.1875 139.46875 L 117.355469 139.46875 Z M 117.355469 126.8125 \"/>\n",
       "<path style=\"fill-rule:nonzero;fill:rgb(40%,40%,40%);fill-opacity:1;stroke-width:1;stroke-linecap:round;stroke-linejoin:round;stroke:rgb(100%,100%,100%);stroke-opacity:1;stroke-miterlimit:10;\" d=\"M 120.183594 125.40625 L 123.015625 125.40625 L 123.015625 139.46875 L 120.183594 139.46875 Z M 120.183594 125.40625 \"/>\n",
       "<path style=\"fill-rule:nonzero;fill:rgb(40%,40%,40%);fill-opacity:1;stroke-width:1;stroke-linecap:round;stroke-linejoin:round;stroke:rgb(100%,100%,100%);stroke-opacity:1;stroke-miterlimit:10;\" d=\"M 123.015625 112.75 L 125.847656 112.75 L 125.847656 139.464844 L 123.015625 139.464844 Z M 123.015625 112.75 \"/>\n",
       "<path style=\"fill-rule:nonzero;fill:rgb(40%,40%,40%);fill-opacity:1;stroke-width:1;stroke-linecap:round;stroke-linejoin:round;stroke:rgb(100%,100%,100%);stroke-opacity:1;stroke-miterlimit:10;\" d=\"M 125.847656 116.96875 L 128.679688 116.96875 L 128.679688 139.464844 L 125.847656 139.464844 Z M 125.847656 116.96875 \"/>\n",
       "<path style=\"fill-rule:nonzero;fill:rgb(40%,40%,40%);fill-opacity:1;stroke-width:1;stroke-linecap:round;stroke-linejoin:round;stroke:rgb(100%,100%,100%);stroke-opacity:1;stroke-miterlimit:10;\" d=\"M 128.675781 124 L 131.507812 124 L 131.507812 139.464844 L 128.675781 139.464844 Z M 128.675781 124 \"/>\n",
       "<path style=\"fill-rule:nonzero;fill:rgb(40%,40%,40%);fill-opacity:1;stroke-width:1;stroke-linecap:round;stroke-linejoin:round;stroke:rgb(100%,100%,100%);stroke-opacity:1;stroke-miterlimit:10;\" d=\"M 131.507812 105.722656 L 134.339844 105.722656 L 134.339844 139.46875 L 131.507812 139.46875 Z M 131.507812 105.722656 \"/>\n",
       "<path style=\"fill-rule:nonzero;fill:rgb(40%,40%,40%);fill-opacity:1;stroke-width:1;stroke-linecap:round;stroke-linejoin:round;stroke:rgb(100%,100%,100%);stroke-opacity:1;stroke-miterlimit:10;\" d=\"M 134.339844 101.503906 L 137.171875 101.503906 L 137.171875 139.46875 L 134.339844 139.46875 Z M 134.339844 101.503906 \"/>\n",
       "<path style=\"fill-rule:nonzero;fill:rgb(40%,40%,40%);fill-opacity:1;stroke-width:1;stroke-linecap:round;stroke-linejoin:round;stroke:rgb(100%,100%,100%);stroke-opacity:1;stroke-miterlimit:10;\" d=\"M 137.167969 109.9375 L 140 109.9375 L 140 139.464844 L 137.167969 139.464844 Z M 137.167969 109.9375 \"/>\n",
       "<path style=\"fill-rule:nonzero;fill:rgb(40%,40%,40%);fill-opacity:1;stroke-width:1;stroke-linecap:round;stroke-linejoin:round;stroke:rgb(100%,100%,100%);stroke-opacity:1;stroke-miterlimit:10;\" d=\"M 140 100.097656 L 142.832031 100.097656 L 142.832031 139.46875 L 140 139.46875 Z M 140 100.097656 \"/>\n",
       "<path style=\"fill-rule:nonzero;fill:rgb(40%,40%,40%);fill-opacity:1;stroke-width:1;stroke-linecap:round;stroke-linejoin:round;stroke:rgb(100%,100%,100%);stroke-opacity:1;stroke-miterlimit:10;\" d=\"M 142.832031 109.9375 L 145.664062 109.9375 L 145.664062 139.464844 L 142.832031 139.464844 Z M 142.832031 109.9375 \"/>\n",
       "<path style=\"fill-rule:nonzero;fill:rgb(40%,40%,40%);fill-opacity:1;stroke-width:1;stroke-linecap:round;stroke-linejoin:round;stroke:rgb(100%,100%,100%);stroke-opacity:1;stroke-miterlimit:10;\" d=\"M 145.660156 108.535156 L 148.492188 108.535156 L 148.492188 139.46875 L 145.660156 139.46875 Z M 145.660156 108.535156 \"/>\n",
       "<path style=\"fill-rule:nonzero;fill:rgb(40%,40%,40%);fill-opacity:1;stroke-width:1;stroke-linecap:round;stroke-linejoin:round;stroke:rgb(100%,100%,100%);stroke-opacity:1;stroke-miterlimit:10;\" d=\"M 148.492188 87.441406 L 151.324219 87.441406 L 151.324219 139.464844 L 148.492188 139.464844 Z M 148.492188 87.441406 \"/>\n",
       "<path style=\"fill-rule:nonzero;fill:rgb(40%,40%,40%);fill-opacity:1;stroke-width:1;stroke-linecap:round;stroke-linejoin:round;stroke:rgb(100%,100%,100%);stroke-opacity:1;stroke-miterlimit:10;\" d=\"M 151.324219 91.660156 L 154.15625 91.660156 L 154.15625 139.464844 L 151.324219 139.464844 Z M 151.324219 91.660156 \"/>\n",
       "<path style=\"fill-rule:nonzero;fill:rgb(40%,40%,40%);fill-opacity:1;stroke-width:1;stroke-linecap:round;stroke-linejoin:round;stroke:rgb(100%,100%,100%);stroke-opacity:1;stroke-miterlimit:10;\" d=\"M 154.152344 98.691406 L 156.984375 98.691406 L 156.984375 139.46875 L 154.152344 139.46875 Z M 154.152344 98.691406 \"/>\n",
       "<path style=\"fill-rule:nonzero;fill:rgb(40%,40%,40%);fill-opacity:1;stroke-width:1;stroke-linecap:round;stroke-linejoin:round;stroke:rgb(100%,100%,100%);stroke-opacity:1;stroke-miterlimit:10;\" d=\"M 156.984375 83.222656 L 159.816406 83.222656 L 159.816406 139.464844 L 156.984375 139.464844 Z M 156.984375 83.222656 \"/>\n",
       "<path style=\"fill-rule:nonzero;fill:rgb(40%,40%,40%);fill-opacity:1;stroke-width:1;stroke-linecap:round;stroke-linejoin:round;stroke:rgb(100%,100%,100%);stroke-opacity:1;stroke-miterlimit:10;\" d=\"M 159.816406 80.414062 L 162.648438 80.414062 L 162.648438 139.46875 L 159.816406 139.46875 Z M 159.816406 80.414062 \"/>\n",
       "<path style=\"fill-rule:nonzero;fill:rgb(40%,40%,40%);fill-opacity:1;stroke-width:1;stroke-linecap:round;stroke-linejoin:round;stroke:rgb(100%,100%,100%);stroke-opacity:1;stroke-miterlimit:10;\" d=\"M 162.644531 98.691406 L 165.476562 98.691406 L 165.476562 139.46875 L 162.644531 139.46875 Z M 162.644531 98.691406 \"/>\n",
       "<path style=\"fill-rule:nonzero;fill:rgb(40%,40%,40%);fill-opacity:1;stroke-width:1;stroke-linecap:round;stroke-linejoin:round;stroke:rgb(100%,100%,100%);stroke-opacity:1;stroke-miterlimit:10;\" d=\"M 165.476562 67.757812 L 168.308594 67.757812 L 168.308594 139.46875 L 165.476562 139.46875 Z M 165.476562 67.757812 \"/>\n",
       "<path style=\"fill-rule:nonzero;fill:rgb(40%,40%,40%);fill-opacity:1;stroke-width:1;stroke-linecap:round;stroke-linejoin:round;stroke:rgb(100%,100%,100%);stroke-opacity:1;stroke-miterlimit:10;\" d=\"M 168.308594 79.007812 L 171.140625 79.007812 L 171.140625 139.46875 L 168.308594 139.46875 Z M 168.308594 79.007812 \"/>\n",
       "<path style=\"fill-rule:nonzero;fill:rgb(40%,40%,40%);fill-opacity:1;stroke-width:1;stroke-linecap:round;stroke-linejoin:round;stroke:rgb(100%,100%,100%);stroke-opacity:1;stroke-miterlimit:10;\" d=\"M 171.136719 62.132812 L 173.96875 62.132812 L 173.96875 139.464844 L 171.136719 139.464844 Z M 171.136719 62.132812 \"/>\n",
       "<path style=\"fill-rule:nonzero;fill:rgb(40%,40%,40%);fill-opacity:1;stroke-width:1;stroke-linecap:round;stroke-linejoin:round;stroke:rgb(100%,100%,100%);stroke-opacity:1;stroke-miterlimit:10;\" d=\"M 173.96875 93.066406 L 176.800781 93.066406 L 176.800781 139.464844 L 173.96875 139.464844 Z M 173.96875 93.066406 \"/>\n",
       "<path style=\"fill-rule:nonzero;fill:rgb(40%,40%,40%);fill-opacity:1;stroke-width:1;stroke-linecap:round;stroke-linejoin:round;stroke:rgb(100%,100%,100%);stroke-opacity:1;stroke-miterlimit:10;\" d=\"M 176.800781 81.816406 L 179.632812 81.816406 L 179.632812 139.464844 L 176.800781 139.464844 Z M 176.800781 81.816406 \"/>\n",
       "<path style=\"fill-rule:nonzero;fill:rgb(40%,40%,40%);fill-opacity:1;stroke-width:1;stroke-linecap:round;stroke-linejoin:round;stroke:rgb(100%,100%,100%);stroke-opacity:1;stroke-miterlimit:10;\" d=\"M 179.628906 93.066406 L 182.460938 93.066406 L 182.460938 139.464844 L 179.628906 139.464844 Z M 179.628906 93.066406 \"/>\n",
       "<path style=\"fill-rule:nonzero;fill:rgb(40%,40%,40%);fill-opacity:1;stroke-width:1;stroke-linecap:round;stroke-linejoin:round;stroke:rgb(100%,100%,100%);stroke-opacity:1;stroke-miterlimit:10;\" d=\"M 182.460938 88.847656 L 185.292969 88.847656 L 185.292969 139.464844 L 182.460938 139.464844 Z M 182.460938 88.847656 \"/>\n",
       "<path style=\"fill-rule:nonzero;fill:rgb(40%,40%,40%);fill-opacity:1;stroke-width:1;stroke-linecap:round;stroke-linejoin:round;stroke:rgb(100%,100%,100%);stroke-opacity:1;stroke-miterlimit:10;\" d=\"M 185.292969 94.472656 L 188.125 94.472656 L 188.125 139.464844 L 185.292969 139.464844 Z M 185.292969 94.472656 \"/>\n",
       "<path style=\"fill-rule:nonzero;fill:rgb(40%,40%,40%);fill-opacity:1;stroke-width:1;stroke-linecap:round;stroke-linejoin:round;stroke:rgb(100%,100%,100%);stroke-opacity:1;stroke-miterlimit:10;\" d=\"M 188.125 84.628906 L 190.957031 84.628906 L 190.957031 139.464844 L 188.125 139.464844 Z M 188.125 84.628906 \"/>\n",
       "<path style=\"fill-rule:nonzero;fill:rgb(40%,40%,40%);fill-opacity:1;stroke-width:1;stroke-linecap:round;stroke-linejoin:round;stroke:rgb(100%,100%,100%);stroke-opacity:1;stroke-miterlimit:10;\" d=\"M 190.953125 105.722656 L 193.785156 105.722656 L 193.785156 139.46875 L 190.953125 139.46875 Z M 190.953125 105.722656 \"/>\n",
       "<path style=\"fill-rule:nonzero;fill:rgb(40%,40%,40%);fill-opacity:1;stroke-width:1;stroke-linecap:round;stroke-linejoin:round;stroke:rgb(100%,100%,100%);stroke-opacity:1;stroke-miterlimit:10;\" d=\"M 193.785156 100.097656 L 196.617188 100.097656 L 196.617188 139.46875 L 193.785156 139.46875 Z M 193.785156 100.097656 \"/>\n",
       "<path style=\"fill-rule:nonzero;fill:rgb(40%,40%,40%);fill-opacity:1;stroke-width:1;stroke-linecap:round;stroke-linejoin:round;stroke:rgb(100%,100%,100%);stroke-opacity:1;stroke-miterlimit:10;\" d=\"M 196.617188 116.96875 L 199.449219 116.96875 L 199.449219 139.464844 L 196.617188 139.464844 Z M 196.617188 116.96875 \"/>\n",
       "<path style=\"fill-rule:nonzero;fill:rgb(40%,40%,40%);fill-opacity:1;stroke-width:1;stroke-linecap:round;stroke-linejoin:round;stroke:rgb(100%,100%,100%);stroke-opacity:1;stroke-miterlimit:10;\" d=\"M 199.445312 111.34375 L 202.277344 111.34375 L 202.277344 139.464844 L 199.445312 139.464844 Z M 199.445312 111.34375 \"/>\n",
       "<path style=\"fill-rule:nonzero;fill:rgb(40%,40%,40%);fill-opacity:1;stroke-width:1;stroke-linecap:round;stroke-linejoin:round;stroke:rgb(100%,100%,100%);stroke-opacity:1;stroke-miterlimit:10;\" d=\"M 202.277344 114.15625 L 205.109375 114.15625 L 205.109375 139.464844 L 202.277344 139.464844 Z M 202.277344 114.15625 \"/>\n",
       "<path style=\"fill-rule:nonzero;fill:rgb(40%,40%,40%);fill-opacity:1;stroke-width:1;stroke-linecap:round;stroke-linejoin:round;stroke:rgb(100%,100%,100%);stroke-opacity:1;stroke-miterlimit:10;\" d=\"M 205.109375 116.96875 L 207.941406 116.96875 L 207.941406 139.464844 L 205.109375 139.464844 Z M 205.109375 116.96875 \"/>\n",
       "<path style=\"fill-rule:nonzero;fill:rgb(40%,40%,40%);fill-opacity:1;stroke-width:1;stroke-linecap:round;stroke-linejoin:round;stroke:rgb(100%,100%,100%);stroke-opacity:1;stroke-miterlimit:10;\" d=\"M 207.9375 126.8125 L 210.769531 126.8125 L 210.769531 139.46875 L 207.9375 139.46875 Z M 207.9375 126.8125 \"/>\n",
       "<path style=\"fill-rule:nonzero;fill:rgb(40%,40%,40%);fill-opacity:1;stroke-width:1;stroke-linecap:round;stroke-linejoin:round;stroke:rgb(100%,100%,100%);stroke-opacity:1;stroke-miterlimit:10;\" d=\"M 210.769531 119.78125 L 213.601562 119.78125 L 213.601562 139.464844 L 210.769531 139.464844 Z M 210.769531 119.78125 \"/>\n",
       "<path style=\"fill-rule:nonzero;fill:rgb(40%,40%,40%);fill-opacity:1;stroke-width:1;stroke-linecap:round;stroke-linejoin:round;stroke:rgb(100%,100%,100%);stroke-opacity:1;stroke-miterlimit:10;\" d=\"M 213.601562 132.4375 L 216.433594 132.4375 L 216.433594 139.46875 L 213.601562 139.46875 Z M 213.601562 132.4375 \"/>\n",
       "<path style=\"fill-rule:nonzero;fill:rgb(40%,40%,40%);fill-opacity:1;stroke-width:1;stroke-linecap:round;stroke-linejoin:round;stroke:rgb(100%,100%,100%);stroke-opacity:1;stroke-miterlimit:10;\" d=\"M 216.429688 126.8125 L 219.261719 126.8125 L 219.261719 139.46875 L 216.429688 139.46875 Z M 216.429688 126.8125 \"/>\n",
       "<path style=\"fill-rule:nonzero;fill:rgb(40%,40%,40%);fill-opacity:1;stroke-width:1;stroke-linecap:round;stroke-linejoin:round;stroke:rgb(100%,100%,100%);stroke-opacity:1;stroke-miterlimit:10;\" d=\"M 219.261719 129.625 L 222.09375 129.625 L 222.09375 139.46875 L 219.261719 139.46875 Z M 219.261719 129.625 \"/>\n",
       "<path style=\"fill-rule:nonzero;fill:rgb(40%,40%,40%);fill-opacity:1;stroke-width:1;stroke-linecap:round;stroke-linejoin:round;stroke:rgb(100%,100%,100%);stroke-opacity:1;stroke-miterlimit:10;\" d=\"M 222.09375 136.65625 L 224.925781 136.65625 L 224.925781 139.46875 L 222.09375 139.46875 Z M 222.09375 136.65625 \"/>\n",
       "<path style=\"fill-rule:nonzero;fill:rgb(40%,40%,40%);fill-opacity:1;stroke-width:1;stroke-linecap:round;stroke-linejoin:round;stroke:rgb(100%,100%,100%);stroke-opacity:1;stroke-miterlimit:10;\" d=\"M 224.921875 125.40625 L 227.753906 125.40625 L 227.753906 139.46875 L 224.921875 139.46875 Z M 224.921875 125.40625 \"/>\n",
       "<path style=\"fill-rule:nonzero;fill:rgb(40%,40%,40%);fill-opacity:1;stroke-width:1;stroke-linecap:round;stroke-linejoin:round;stroke:rgb(100%,100%,100%);stroke-opacity:1;stroke-miterlimit:10;\" d=\"M 227.753906 136.65625 L 230.585938 136.65625 L 230.585938 139.46875 L 227.753906 139.46875 Z M 227.753906 136.65625 \"/>\n",
       "<path style=\"fill-rule:nonzero;fill:rgb(40%,40%,40%);fill-opacity:1;stroke-width:1;stroke-linecap:round;stroke-linejoin:round;stroke:rgb(100%,100%,100%);stroke-opacity:1;stroke-miterlimit:10;\" d=\"M 230.585938 138.0625 L 233.417969 138.0625 L 233.417969 139.46875 L 230.585938 139.46875 Z M 230.585938 138.0625 \"/>\n",
       "<path style=\"fill-rule:nonzero;fill:rgb(40%,40%,40%);fill-opacity:1;stroke-width:1;stroke-linecap:round;stroke-linejoin:round;stroke:rgb(100%,100%,100%);stroke-opacity:1;stroke-miterlimit:10;\" d=\"M 233.414062 138.0625 L 236.246094 138.0625 L 236.246094 139.46875 L 233.414062 139.46875 Z M 233.414062 138.0625 \"/>\n",
       "<path style=\"fill-rule:nonzero;fill:rgb(40%,40%,40%);fill-opacity:1;stroke-width:1;stroke-linecap:round;stroke-linejoin:round;stroke:rgb(100%,100%,100%);stroke-opacity:1;stroke-miterlimit:10;\" d=\"M 236.246094 138.0625 L 239.078125 138.0625 L 239.078125 139.46875 L 236.246094 139.46875 Z M 236.246094 138.0625 \"/>\n",
       "<path style=\"fill-rule:nonzero;fill:rgb(40%,40%,40%);fill-opacity:1;stroke-width:1;stroke-linecap:round;stroke-linejoin:round;stroke:rgb(100%,100%,100%);stroke-opacity:1;stroke-miterlimit:10;\" d=\"M 239.078125 133.84375 L 241.910156 133.84375 L 241.910156 139.46875 L 239.078125 139.46875 Z M 239.078125 133.84375 \"/>\n",
       "<path style=\"fill-rule:nonzero;fill:rgb(40%,40%,40%);fill-opacity:1;stroke-width:1;stroke-linecap:round;stroke-linejoin:round;stroke:rgb(100%,100%,100%);stroke-opacity:1;stroke-miterlimit:10;\" d=\"M 241.90625 138.0625 L 244.738281 138.0625 L 244.738281 139.46875 L 241.90625 139.46875 Z M 241.90625 138.0625 \"/>\n",
       "<path style=\"fill:none;stroke-width:1;stroke-linecap:round;stroke-linejoin:round;stroke:rgb(100%,100%,100%);stroke-opacity:1;stroke-miterlimit:10;\" d=\"M 244.738281 139.464844 L 247.570312 139.464844 Z M 244.738281 139.464844 \"/>\n",
       "<path style=\"fill-rule:nonzero;fill:rgb(40%,40%,40%);fill-opacity:1;stroke-width:1;stroke-linecap:round;stroke-linejoin:round;stroke:rgb(100%,100%,100%);stroke-opacity:1;stroke-miterlimit:10;\" d=\"M 247.570312 136.65625 L 250.402344 136.65625 L 250.402344 139.46875 L 247.570312 139.46875 Z M 247.570312 136.65625 \"/>\n",
       "<g clip-path=\"url(#clip1)\" clip-rule=\"nonzero\">\n",
       "<path style=\"fill:none;stroke-width:1;stroke-linecap:round;stroke-linejoin:round;stroke:rgb(100%,0%,0%);stroke-opacity:1;stroke-miterlimit:10;\" d=\"M 167.761719 142.558594 L 167.761719 59.039062 \"/>\n",
       "</g>\n",
       "<g clip-path=\"url(#clip2)\" clip-rule=\"nonzero\">\n",
       "<path style=\"fill:none;stroke-width:1;stroke-linecap:round;stroke-linejoin:round;stroke:rgb(0%,100%,0%);stroke-opacity:1;stroke-miterlimit:10;\" d=\"M 168.5 142.558594 L 168.5 59.039062 \"/>\n",
       "</g>\n",
       "<g clip-path=\"url(#clip3)\" clip-rule=\"nonzero\">\n",
       "<path style=\"fill:none;stroke-width:1;stroke-linecap:round;stroke-linejoin:round;stroke:rgb(0%,0%,100%);stroke-opacity:1;stroke-miterlimit:10;\" d=\"M 66.703125 142.558594 L 66.703125 59.039062 \"/>\n",
       "</g>\n",
       "<g clip-path=\"url(#clip4)\" clip-rule=\"nonzero\">\n",
       "<path style=\"fill:none;stroke-width:1;stroke-linecap:round;stroke-linejoin:round;stroke:rgb(0%,0%,100%);stroke-opacity:1;stroke-miterlimit:10;\" d=\"M 249.777344 142.558594 L 249.777344 59.039062 \"/>\n",
       "</g>\n",
       "<g clip-path=\"url(#clip5)\" clip-rule=\"nonzero\">\n",
       "<path style=\"fill:none;stroke-width:1;stroke-linecap:round;stroke-linejoin:round;stroke:rgb(0%,0%,0%);stroke-opacity:1;stroke-miterlimit:10;\" d=\"M 195.101562 142.558594 L 195.101562 59.039062 \"/>\n",
       "</g>\n",
       "<g clip-path=\"url(#clip6)\" clip-rule=\"nonzero\">\n",
       "<path style=\"fill:none;stroke-width:1;stroke-linecap:round;stroke-linejoin:round;stroke:rgb(0%,0%,0%);stroke-opacity:1;stroke-miterlimit:10;\" d=\"M 140.421875 142.558594 L 140.421875 59.039062 \"/>\n",
       "</g>\n",
       "</g>\n",
       "</svg>\n"
      ]
     },
     "metadata": {
      "image/svg+xml": {
       "isolated": true
      }
     },
     "output_type": "display_data"
    }
   ],
   "source": [
    "# add your code here (1000 ) ...\n",
    "data <- rnorm(1000,1,1)\n",
    "hist(data, 50, col=\"#666666\", border=\"white\")\n",
    "dmean <- mean(data)\n",
    "abline(v=dmean,col=\"red\")\n",
    "dmedian <- median(data)\n",
    "abline(v=dmedian,col=\"green\")\n",
    "dmin <- min(data)\n",
    "abline(v=dmin,col=\"blue\")\n",
    "dmax <- max(data)\n",
    "abline(v=dmax,col=\"blue\")\n",
    "dsd <- sd(data)\n",
    "abline(v=dmean+dsd)\n",
    "abline(v=dmean-dsd)\n",
    "min(data)\n",
    "max(data)"
   ]
  },
  {
   "cell_type": "code",
   "execution_count": 7,
   "metadata": {},
   "outputs": [
    {
     "data": {
      "text/html": [
       "-2.07419491596334"
      ],
      "text/latex": [
       "-2.07419491596334"
      ],
      "text/markdown": [
       "-2.07419491596334"
      ],
      "text/plain": [
       "[1] -2.074195"
      ]
     },
     "metadata": {},
     "output_type": "display_data"
    },
    {
     "data": {
      "text/html": [
       "3.81856754115913"
      ],
      "text/latex": [
       "3.81856754115913"
      ],
      "text/markdown": [
       "3.81856754115913"
      ],
      "text/plain": [
       "[1] 3.818568"
      ]
     },
     "metadata": {},
     "output_type": "display_data"
    },
    {
     "data": {
      "image/jpeg": "[encoded data removed]",
      "image/png": "",
      "image/svg+xml": [
       "<?xml version=\"1.0\" encoding=\"UTF-8\"?>\n",
       "<svg xmlns=\"http://www.w3.org/2000/svg\" xmlns:xlink=\"http://www.w3.org/1999/xlink\" width=\"288pt\" height=\"216pt\" viewBox=\"0 0 288 216\" version=\"1.1\">\n",
       "<defs>\n",
       "<g>\n",
       "<symbol overflow=\"visible\" id=\"glyph0-0\">\n",
       "<path style=\"stroke:none;\" d=\"\"/>\n",
       "</symbol>\n",
       "<symbol overflow=\"visible\" id=\"glyph0-1\">\n",
       "<path style=\"stroke:none;\" d=\"M 9.84375 -0.140625 L 9.84375 -11.140625 L 7.5 -11.140625 L 7.5 -7.0625 L 3.296875 -7.0625 L 3.296875 -11.140625 L 0.953125 -11.140625 L 0.953125 0 L 3.296875 0 L 3.296875 -4.9375 L 7.5 -4.9375 L 7.5 0 L 9.84375 0 Z M 9.84375 -0.140625 \"/>\n",
       "</symbol>\n",
       "<symbol overflow=\"visible\" id=\"glyph0-2\">\n",
       "<path style=\"stroke:none;\" d=\"M 3.125 -0.140625 L 3.125 -8.3125 L 0.9375 -8.3125 L 0.9375 0 L 3.125 0 Z M 3.15625 -9.15625 L 3.15625 -11.375 L 0.96875 -11.375 L 0.96875 -9.015625 L 3.15625 -9.015625 Z M 3.15625 -9.15625 \"/>\n",
       "</symbol>\n",
       "<symbol overflow=\"visible\" id=\"glyph0-3\">\n",
       "<path style=\"stroke:none;\" d=\"M 7.796875 -2.515625 L 7.796875 -2.625 C 7.796875 -3.546875 7.234375 -4.375 6.171875 -4.6875 L 3.53125 -5.4375 C 2.953125 -5.609375 2.84375 -5.609375 2.84375 -5.9375 C 2.84375 -6.375 3.28125 -6.546875 4.015625 -6.546875 C 5.015625 -6.546875 5.4375 -6.3125 5.453125 -5.453125 L 7.578125 -5.453125 C 7.546875 -7.296875 6.1875 -8.453125 4.03125 -8.453125 C 1.984375 -8.453125 0.65625 -7.296875 0.65625 -5.640625 C 0.65625 -4.65625 0.984375 -3.984375 2.46875 -3.515625 L 4.96875 -2.75 C 5.484375 -2.578125 5.609375 -2.546875 5.609375 -2.328125 C 5.609375 -1.828125 5.078125 -1.78125 4.109375 -1.78125 C 3.15625 -1.78125 2.703125 -1.8125 2.484375 -2.8125 L 0.375 -2.8125 C 0.4375 -0.921875 1.78125 0.140625 4.234375 0.140625 C 6.5 0.140625 7.796875 -0.890625 7.796875 -2.515625 Z M 7.796875 -2.515625 \"/>\n",
       "</symbol>\n",
       "<symbol overflow=\"visible\" id=\"glyph0-4\">\n",
       "<path style=\"stroke:none;\" d=\"M 4.53125 -0.140625 L 4.53125 -1.734375 C 4.28125 -1.703125 4.15625 -1.6875 4.015625 -1.6875 C 3.453125 -1.6875 3.375 -1.71875 3.375 -2.4375 L 3.375 -6.5 L 4.53125 -6.5 L 4.53125 -8.15625 L 3.375 -8.15625 L 3.375 -10.3125 L 1.171875 -10.3125 L 1.171875 -8.15625 L 0.15625 -8.15625 L 0.15625 -6.5 L 1.171875 -6.5 L 1.171875 -1.859375 C 1.171875 -0.59375 1.90625 0.0625 3.28125 0.0625 C 3.734375 0.0625 4.109375 0.015625 4.53125 0 Z M 4.53125 -0.140625 \"/>\n",
       "</symbol>\n",
       "<symbol overflow=\"visible\" id=\"glyph0-5\">\n",
       "<path style=\"stroke:none;\" d=\"M 8.53125 -4.09375 C 8.53125 -6.828125 7 -8.453125 4.484375 -8.453125 C 2.03125 -8.453125 0.46875 -6.796875 0.46875 -4.15625 C 0.46875 -1.5 2.03125 0.140625 4.5 0.140625 C 6.953125 0.140625 8.53125 -1.515625 8.53125 -4.09375 Z M 6.328125 -4.125 C 6.328125 -2.625 5.625 -1.8125 4.5 -1.8125 C 3.375 -1.8125 2.65625 -2.625 2.65625 -4.15625 C 2.65625 -5.6875 3.375 -6.5 4.5 -6.5 C 5.65625 -6.5 6.328125 -5.703125 6.328125 -4.125 Z M 6.328125 -4.125 \"/>\n",
       "</symbol>\n",
       "<symbol overflow=\"visible\" id=\"glyph0-6\">\n",
       "<path style=\"stroke:none;\" d=\"M 8.109375 0.140625 L 8.109375 -8.3125 L 6.015625 -8.3125 L 6.015625 -7.15625 C 5.484375 -7.984375 4.765625 -8.453125 3.84375 -8.453125 C 1.9375 -8.453125 0.453125 -6.5625 0.453125 -4.0625 C 0.453125 -1.5625 1.8125 0.140625 3.796875 0.140625 C 4.734375 0.140625 5.34375 -0.171875 6.015625 -0.875 L 6.015625 0.140625 C 6.015625 1.109375 5.34375 1.640625 4.3125 1.640625 C 3.515625 1.640625 3.046875 1.453125 2.828125 0.703125 L 0.609375 0.703125 C 0.640625 2.140625 2.03125 3.25 4.234375 3.25 C 6.65625 3.25 8.109375 2.03125 8.109375 0.140625 Z M 6.046875 -4.09375 C 6.046875 -2.640625 5.34375 -1.875 4.265625 -1.875 C 3.28125 -1.875 2.640625 -2.640625 2.640625 -4.09375 C 2.640625 -5.625 3.28125 -6.4375 4.296875 -6.4375 C 5.34375 -6.4375 6.046875 -5.59375 6.046875 -4.09375 Z M 6.046875 -4.09375 \"/>\n",
       "</symbol>\n",
       "<symbol overflow=\"visible\" id=\"glyph0-7\">\n",
       "<path style=\"stroke:none;\" d=\"M 5.5625 -6.1875 L 5.5625 -8.421875 C 5.390625 -8.453125 5.328125 -8.453125 5.265625 -8.453125 C 4.3125 -8.453125 3.40625 -7.6875 3.078125 -6.828125 L 3.078125 -8.3125 L 0.875 -8.3125 L 0.875 0 L 3.078125 0 L 3.078125 -4.40625 C 3.078125 -5.640625 3.640625 -6.109375 4.859375 -6.109375 C 5.078125 -6.109375 5.234375 -6.09375 5.5625 -6.03125 Z M 5.5625 -6.1875 \"/>\n",
       "</symbol>\n",
       "<symbol overflow=\"visible\" id=\"glyph0-8\">\n",
       "<path style=\"stroke:none;\" d=\"M 7.859375 -0.140625 L 7.859375 -0.46875 C 7.46875 -0.8125 7.375 -0.953125 7.375 -1.375 L 7.375 -5.84375 C 7.375 -7.484375 6.21875 -8.453125 4.046875 -8.453125 C 1.859375 -8.453125 0.671875 -7.390625 0.53125 -5.390625 L 2.640625 -5.390625 C 2.75 -6.359375 3.0625 -6.5 4.078125 -6.5 C 4.890625 -6.5 5.234375 -6.359375 5.234375 -5.828125 C 5.234375 -4.984375 4.671875 -5.203125 3.625 -5.015625 L 2.78125 -4.875 C 1.1875 -4.59375 0.359375 -3.765625 0.359375 -2.3125 C 0.359375 -0.75 1.515625 0.140625 2.859375 0.140625 C 3.75 0.140625 4.609375 -0.28125 5.25 -0.96875 C 5.25 -0.734375 5.3125 -0.265625 5.53125 0 L 7.859375 0 Z M 5.234375 -3.578125 C 5.234375 -2.375 4.703125 -1.8125 3.640625 -1.8125 C 2.9375 -1.8125 2.546875 -1.953125 2.546875 -2.546875 C 2.546875 -3.15625 2.828125 -3.25 3.703125 -3.40625 L 4.40625 -3.546875 C 4.96875 -3.65625 5.078125 -3.71875 5.234375 -3.796875 Z M 5.234375 -3.578125 \"/>\n",
       "</symbol>\n",
       "<symbol overflow=\"visible\" id=\"glyph0-9\">\n",
       "<path style=\"stroke:none;\" d=\"M 12.328125 -0.140625 L 12.328125 -5.828125 C 12.328125 -7.390625 11.328125 -8.453125 9.71875 -8.453125 C 8.703125 -8.453125 7.9375 -8.046875 7.359375 -7.28125 C 7 -7.96875 6.171875 -8.453125 5.171875 -8.453125 C 4.25 -8.453125 3.609375 -8.09375 3.015625 -7.375 L 3.015625 -8.3125 L 0.828125 -8.3125 L 0.828125 0 L 3.03125 0 L 3.03125 -4.96875 C 3.03125 -5.953125 3.515625 -6.40625 4.40625 -6.40625 C 5.109375 -6.40625 5.484375 -6.140625 5.484375 -5.5 L 5.484375 0 L 7.671875 0 L 7.671875 -4.96875 C 7.671875 -5.953125 8.171875 -6.40625 9.0625 -6.40625 C 9.765625 -6.40625 10.140625 -6.140625 10.140625 -5.5 L 10.140625 0 L 12.328125 0 Z M 12.328125 -0.140625 \"/>\n",
       "</symbol>\n",
       "<symbol overflow=\"visible\" id=\"glyph0-10\">\n",
       "<path style=\"stroke:none;\" d=\"\"/>\n",
       "</symbol>\n",
       "<symbol overflow=\"visible\" id=\"glyph0-11\">\n",
       "<path style=\"stroke:none;\" d=\"M 4.703125 -6.640625 L 4.703125 -8.15625 L 3.46875 -8.15625 L 3.46875 -8.8125 C 3.46875 -9.234375 3.609375 -9.296875 4 -9.296875 C 4.171875 -9.296875 4.40625 -9.28125 4.640625 -9.234375 L 4.640625 -11.09375 C 4.203125 -11.125 3.6875 -11.140625 3.40625 -11.140625 C 2.015625 -11.140625 1.28125 -10.34375 1.28125 -8.984375 L 1.28125 -8.15625 L 0.15625 -8.15625 L 0.15625 -6.5 L 1.28125 -6.5 L 1.28125 0 L 3.46875 0 L 3.46875 -6.5 L 4.703125 -6.5 Z M 4.703125 -6.640625 \"/>\n",
       "</symbol>\n",
       "<symbol overflow=\"visible\" id=\"glyph0-12\">\n",
       "<path style=\"stroke:none;\" d=\"M 8.171875 -0.140625 L 8.171875 -11.140625 L 5.984375 -11.140625 L 5.984375 -7.34375 C 5.546875 -8.03125 4.8125 -8.453125 3.8125 -8.453125 C 1.890625 -8.453125 0.375 -6.578125 0.375 -4.140625 C 0.375 -1.859375 1.6875 0.140625 3.8125 0.140625 C 4.8125 0.140625 5.546875 -0.265625 5.984375 -0.84375 L 5.984375 0 L 8.171875 0 Z M 5.984375 -4.109375 C 5.984375 -2.65625 5.328125 -1.875 4.28125 -1.875 C 3.234375 -1.875 2.5625 -2.671875 2.5625 -4.140625 C 2.5625 -5.640625 3.234375 -6.4375 4.28125 -6.4375 C 5.34375 -6.4375 5.984375 -5.65625 5.984375 -4.109375 Z M 5.984375 -4.109375 \"/>\n",
       "</symbol>\n",
       "<symbol overflow=\"visible\" id=\"glyph1-0\">\n",
       "<path style=\"stroke:none;\" d=\"\"/>\n",
       "</symbol>\n",
       "<symbol overflow=\"visible\" id=\"glyph1-1\">\n",
       "<path style=\"stroke:none;\" d=\"M 6.3125 -0.125 L 6.3125 -9.375 L 5.015625 -9.375 L 5.015625 -5.84375 L 5.234375 -5.9375 C 4.796875 -6.59375 4.015625 -7 3.140625 -7 C 1.4375 -7 0.1875 -5.546875 0.1875 -3.46875 C 0.1875 -1.25 1.40625 0.1875 3.171875 0.1875 C 4.078125 0.1875 4.78125 -0.1875 5.34375 -1 L 5.125 -1.09375 L 5.125 0 L 6.3125 0 Z M 5.015625 -3.375 C 5.015625 -1.859375 4.421875 -1.046875 3.328125 -1.046875 C 2.171875 -1.046875 1.53125 -1.875 1.53125 -3.40625 C 1.53125 -4.921875 2.171875 -5.765625 3.3125 -5.765625 C 4.4375 -5.765625 5.015625 -4.890625 5.015625 -3.375 Z M 5.015625 -3.375 \"/>\n",
       "</symbol>\n",
       "<symbol overflow=\"visible\" id=\"glyph1-2\">\n",
       "<path style=\"stroke:none;\" d=\"M 6.8125 -0.15625 L 6.8125 -1.09375 C 6.578125 -1.046875 6.53125 -1.046875 6.46875 -1.046875 C 6.09375 -1.046875 6.03125 -1.09375 6.03125 -1.421875 L 6.03125 -5.078125 C 6.03125 -6.234375 5.046875 -7 3.4375 -7 C 1.84375 -7 0.734375 -6.25 0.65625 -4.609375 L 1.96875 -4.609375 C 2.078125 -5.53125 2.421875 -5.78125 3.40625 -5.78125 C 4.34375 -5.78125 4.71875 -5.546875 4.71875 -4.921875 L 4.71875 -4.65625 C 4.71875 -4.21875 4.59375 -4.15625 3.78125 -4.0625 C 2.296875 -3.875 2.078125 -3.828125 1.671875 -3.65625 C 0.90625 -3.34375 0.390625 -2.625 0.390625 -1.828125 C 0.390625 -0.640625 1.34375 0.1875 2.671875 0.1875 C 3.515625 0.1875 4.40625 -0.203125 4.828125 -0.640625 C 4.875 -0.40625 5.46875 0.09375 5.96875 0.09375 C 6.1875 0.09375 6.34375 0.0625 6.8125 -0.046875 Z M 4.71875 -2.390625 C 4.71875 -1.453125 3.90625 -0.984375 2.90625 -0.984375 C 2.09375 -0.984375 1.734375 -1.140625 1.734375 -1.84375 C 1.734375 -2.53125 2.078125 -2.71875 3.1875 -2.875 C 4.28125 -3.03125 4.515625 -3.078125 4.71875 -3.171875 Z M 4.71875 -2.390625 \"/>\n",
       "</symbol>\n",
       "<symbol overflow=\"visible\" id=\"glyph1-3\">\n",
       "<path style=\"stroke:none;\" d=\"M 3.296875 -0.125 L 3.296875 -1.171875 C 3.03125 -1.09375 2.875 -1.09375 2.671875 -1.09375 C 2.21875 -1.09375 2.21875 -1.078125 2.21875 -1.53125 L 2.21875 -5.703125 L 3.296875 -5.703125 L 3.296875 -6.8125 L 2.21875 -6.8125 L 2.21875 -8.609375 L 0.921875 -8.609375 L 0.921875 -6.8125 L 0.03125 -6.8125 L 0.03125 -5.703125 L 0.921875 -5.703125 L 0.921875 -1.078125 C 0.921875 -0.40625 1.515625 0.09375 2.328125 0.09375 C 2.578125 0.09375 2.828125 0.0625 3.296875 -0.015625 Z M 3.296875 -0.125 \"/>\n",
       "</symbol>\n",
       "<symbol overflow=\"visible\" id=\"glyph1-4\">\n",
       "<path style=\"stroke:none;\" d=\"M 3.671875 -3.125 L 3.671875 -4.15625 L 0.4375 -4.15625 L 0.4375 -3 L 3.671875 -3 Z M 3.671875 -3.125 \"/>\n",
       "</symbol>\n",
       "<symbol overflow=\"visible\" id=\"glyph1-5\">\n",
       "<path style=\"stroke:none;\" d=\"M 6.515625 -6.390625 C 6.515625 -7.890625 5.21875 -9.125 3.546875 -9.125 C 1.734375 -9.125 0.546875 -8.0625 0.484375 -5.78125 L 1.84375 -5.78125 C 1.9375 -7.40625 2.421875 -7.90625 3.515625 -7.90625 C 4.515625 -7.90625 5.125 -7.3125 5.125 -6.359375 C 5.125 -5.65625 4.75 -5.15625 3.96875 -4.703125 L 2.8125 -4.046875 C 0.96875 -3 0.390625 -2.078125 0.28125 0 L 6.453125 0 L 6.453125 -1.34375 L 1.8125 -1.34375 C 1.90625 -1.9375 2.265625 -2.3125 3.34375 -2.953125 L 4.59375 -3.625 C 5.84375 -4.28125 6.515625 -5.296875 6.515625 -6.390625 Z M 6.515625 -6.390625 \"/>\n",
       "</symbol>\n",
       "<symbol overflow=\"visible\" id=\"glyph1-6\">\n",
       "<path style=\"stroke:none;\" d=\"M 4.46875 -0.125 L 4.46875 -9.125 L 3.515625 -9.125 C 3.09375 -7.625 2.96875 -7.578125 1.140625 -7.34375 L 1.140625 -6.3125 L 3.09375 -6.3125 L 3.09375 0 L 4.46875 0 Z M 4.46875 -0.125 \"/>\n",
       "</symbol>\n",
       "<symbol overflow=\"visible\" id=\"glyph1-7\">\n",
       "<path style=\"stroke:none;\" d=\"M 6.46875 -4.390625 C 6.46875 -7.46875 5.359375 -9.125 3.4375 -9.125 C 1.53125 -9.125 0.40625 -7.4375 0.40625 -4.46875 C 0.40625 -1.46875 1.53125 0.1875 3.4375 0.1875 C 5.3125 0.1875 6.46875 -1.46875 6.46875 -4.390625 Z M 5.078125 -4.484375 C 5.078125 -1.96875 4.640625 -0.984375 3.40625 -0.984375 C 2.25 -0.984375 1.78125 -2.03125 1.78125 -4.453125 C 1.78125 -6.875 2.25 -7.890625 3.4375 -7.890625 C 4.625 -7.890625 5.078125 -6.859375 5.078125 -4.484375 Z M 5.078125 -4.484375 \"/>\n",
       "</symbol>\n",
       "<symbol overflow=\"visible\" id=\"glyph1-8\">\n",
       "<path style=\"stroke:none;\" d=\"M 6.453125 -2.703125 C 6.453125 -3.78125 5.890625 -4.53125 4.828125 -4.90625 L 4.828125 -4.640625 C 5.65625 -4.96875 6.1875 -5.65625 6.1875 -6.546875 C 6.1875 -8.078125 5.046875 -9.125 3.359375 -9.125 C 1.578125 -9.125 0.484375 -8.015625 0.453125 -6 L 1.8125 -6 C 1.84375 -7.4375 2.25 -7.90625 3.375 -7.90625 C 4.34375 -7.90625 4.796875 -7.453125 4.796875 -6.515625 C 4.796875 -5.5625 4.53125 -5.3125 2.625 -5.3125 L 2.625 -4.125 L 3.359375 -4.125 C 4.578125 -4.125 5.0625 -3.671875 5.0625 -2.6875 C 5.0625 -1.578125 4.515625 -1.046875 3.359375 -1.046875 C 2.15625 -1.046875 1.703125 -1.515625 1.609375 -2.9375 L 0.25 -2.9375 C 0.40625 -0.828125 1.515625 0.1875 3.328125 0.1875 C 5.15625 0.1875 6.453125 -1.03125 6.453125 -2.703125 Z M 6.453125 -2.703125 \"/>\n",
       "</symbol>\n",
       "<symbol overflow=\"visible\" id=\"glyph1-9\">\n",
       "<path style=\"stroke:none;\" d=\"M 6.625 -2.25 L 6.625 -3.375 L 5.3125 -3.375 L 5.3125 -9.125 L 4.296875 -9.125 L 0.21875 -3.453125 L 0.21875 -2.125 L 3.953125 -2.125 L 3.953125 0 L 5.3125 0 L 5.3125 -2.125 L 6.625 -2.125 Z M 4.09375 -3.375 L 1.5625 -3.375 L 4.171875 -7.03125 L 3.953125 -7.109375 L 3.953125 -3.375 Z M 4.09375 -3.375 \"/>\n",
       "</symbol>\n",
       "<symbol overflow=\"visible\" id=\"glyph2-0\">\n",
       "<path style=\"stroke:none;\" d=\"\"/>\n",
       "</symbol>\n",
       "<symbol overflow=\"visible\" id=\"glyph2-1\">\n",
       "<path style=\"stroke:none;\" d=\"M -8.21875 -7.359375 L -9.375 -7.359375 L -9.375 -0.984375 L 0 -0.984375 L 0 -2.40625 L -4.15625 -2.40625 L -4.15625 -6.765625 L -5.4375 -6.765625 L -5.4375 -2.40625 L -8.09375 -2.40625 L -8.09375 -7.359375 Z M -8.21875 -7.359375 \"/>\n",
       "</symbol>\n",
       "<symbol overflow=\"visible\" id=\"glyph2-2\">\n",
       "<path style=\"stroke:none;\" d=\"M -5.765625 -4.140625 L -6.9375 -4.140625 C -6.984375 -3.84375 -7 -3.75 -7 -3.609375 C -7 -2.9375 -6.546875 -2.328125 -5.578125 -1.71875 L -5.484375 -1.953125 L -6.8125 -1.953125 L -6.8125 -0.734375 L 0 -0.734375 L 0 -2.03125 L -3.53125 -2.03125 C -5 -2.03125 -5.609375 -2.40625 -5.640625 -4.140625 Z M -5.765625 -4.140625 \"/>\n",
       "</symbol>\n",
       "<symbol overflow=\"visible\" id=\"glyph2-3\">\n",
       "<path style=\"stroke:none;\" d=\"M -3.09375 -6.53125 C -4.046875 -6.53125 -4.65625 -6.46875 -5.140625 -6.28125 C -6.21875 -5.84375 -7 -4.71875 -7 -3.5 C -7 -1.671875 -5.515625 -0.359375 -3.359375 -0.359375 C -1.21875 -0.359375 0.1875 -1.640625 0.1875 -3.46875 C 0.1875 -4.96875 -0.78125 -6.140625 -2.25 -6.421875 L -2.25 -5.125 C -1.25 -4.796875 -1.03125 -4.34375 -1.03125 -3.515625 C -1.03125 -2.421875 -1.59375 -1.734375 -2.96875 -1.71875 L -2.96875 -6.53125 Z M -3.9375 -5.390625 C -3.9375 -5.390625 -4.0625 -5.203125 -4.09375 -5.21875 L -4.09375 -1.75 C -5.109375 -1.828125 -5.78125 -2.4375 -5.78125 -3.484375 C -5.78125 -4.515625 -5.046875 -5.15625 -4.03125 -5.15625 Z M -3.9375 -5.390625 \"/>\n",
       "</symbol>\n",
       "<symbol overflow=\"visible\" id=\"glyph2-4\">\n",
       "<path style=\"stroke:none;\" d=\"M 2.59375 -6.3125 L -6.8125 -6.3125 L -6.8125 -5.125 L -5.796875 -5.125 L -5.890625 -5.34375 C -6.578125 -4.859375 -7 -4.03125 -7 -3.171875 C -7 -1.453125 -5.5 -0.1875 -3.328125 -0.1875 C -1.203125 -0.1875 0.1875 -1.40625 0.1875 -3.125 C 0.1875 -4.03125 -0.171875 -4.75 -0.890625 -5.234375 L -0.96875 -5.015625 L 2.71875 -5.015625 L 2.71875 -6.3125 Z M -3.359375 -5.015625 C -1.859375 -5.015625 -1.046875 -4.421875 -1.046875 -3.328125 C -1.046875 -2.171875 -1.875 -1.53125 -3.40625 -1.53125 C -4.90625 -1.53125 -5.765625 -2.171875 -5.765625 -3.328125 C -5.765625 -4.4375 -4.890625 -5.015625 -3.359375 -5.015625 Z M -3.359375 -5.015625 \"/>\n",
       "</symbol>\n",
       "<symbol overflow=\"visible\" id=\"glyph2-5\">\n",
       "<path style=\"stroke:none;\" d=\"M -0.125 -6.15625 L -6.8125 -6.15625 L -6.8125 -4.84375 L -3.0625 -4.84375 C -1.71875 -4.84375 -0.984375 -4.28125 -0.984375 -3.203125 C -0.984375 -2.375 -1.34375 -1.96875 -2.140625 -1.96875 L -6.8125 -1.96875 L -6.8125 -0.671875 L -1.71875 -0.671875 C -0.640625 -0.671875 0.1875 -1.625 0.1875 -2.90625 C 0.1875 -3.859375 -0.1875 -4.5625 -1.046875 -5.171875 L -1.140625 -4.953125 L 0 -4.953125 L 0 -6.15625 Z M -0.125 -6.15625 \"/>\n",
       "</symbol>\n",
       "<symbol overflow=\"visible\" id=\"glyph2-6\">\n",
       "<path style=\"stroke:none;\" d=\"M -0.125 -6.21875 L -5.078125 -6.21875 C -6.15625 -6.21875 -7 -5.28125 -7 -4.015625 C -7 -3.03125 -6.578125 -2.3125 -5.65625 -1.734375 L -5.578125 -1.96875 L -6.8125 -1.96875 L -6.8125 -0.734375 L 0 -0.734375 L 0 -2.03125 L -3.734375 -2.03125 C -5.078125 -2.03125 -5.828125 -2.640625 -5.828125 -3.703125 C -5.828125 -4.53125 -5.453125 -4.90625 -4.65625 -4.90625 L 0 -4.90625 L 0 -6.21875 Z M -0.125 -6.21875 \"/>\n",
       "</symbol>\n",
       "<symbol overflow=\"visible\" id=\"glyph2-7\">\n",
       "<path style=\"stroke:none;\" d=\"M -2.515625 -5.96875 L -2.515625 -4.796875 C -1.328125 -4.59375 -1.03125 -4.203125 -1.03125 -3.3125 C -1.03125 -2.15625 -1.78125 -1.59375 -3.34375 -1.59375 C -4.96875 -1.59375 -5.78125 -2.15625 -5.78125 -3.28125 C -5.78125 -4.15625 -5.390625 -4.578125 -4.34375 -4.71875 L -4.34375 -6.03125 C -6.078125 -5.890625 -7 -4.765625 -7 -3.296875 C -7 -1.53125 -5.515625 -0.25 -3.34375 -0.25 C -1.21875 -0.25 0.1875 -1.515625 0.1875 -3.28125 C 0.1875 -4.84375 -0.875 -5.96875 -2.515625 -6.09375 Z M -2.515625 -5.96875 \"/>\n",
       "</symbol>\n",
       "<symbol overflow=\"visible\" id=\"glyph2-8\">\n",
       "<path style=\"stroke:none;\" d=\"M -6.8125 -5.96875 L -6.8125 -4.765625 L -1.578125 -2.90625 L -1.578125 -3.15625 L -6.8125 -1.453125 L -6.8125 -0.0625 L -0.09375 -2.328125 L 0.9375 -1.921875 C 1.40625 -1.75 1.4375 -1.671875 1.4375 -1.21875 C 1.4375 -1.078125 1.40625 -0.90625 1.34375 -0.53125 L 2.515625 -0.53125 C 2.640625 -0.78125 2.71875 -1.09375 2.71875 -1.375 C 2.71875 -2.109375 2.1875 -2.84375 1.25 -3.1875 L -6.8125 -6.15625 Z M -6.8125 -5.96875 \"/>\n",
       "</symbol>\n",
       "<symbol overflow=\"visible\" id=\"glyph2-9\">\n",
       "<path style=\"stroke:none;\" d=\"M -4.390625 -6.46875 C -7.46875 -6.46875 -9.125 -5.359375 -9.125 -3.4375 C -9.125 -1.53125 -7.4375 -0.40625 -4.46875 -0.40625 C -1.46875 -0.40625 0.1875 -1.53125 0.1875 -3.4375 C 0.1875 -5.3125 -1.46875 -6.46875 -4.390625 -6.46875 Z M -4.484375 -5.078125 C -1.96875 -5.078125 -0.984375 -4.640625 -0.984375 -3.40625 C -0.984375 -2.25 -2.03125 -1.78125 -4.453125 -1.78125 C -6.875 -1.78125 -7.890625 -2.25 -7.890625 -3.4375 C -7.890625 -4.625 -6.859375 -5.078125 -4.484375 -5.078125 Z M -4.484375 -5.078125 \"/>\n",
       "</symbol>\n",
       "<symbol overflow=\"visible\" id=\"glyph2-10\">\n",
       "<path style=\"stroke:none;\" d=\"M -6.390625 -6.515625 C -7.890625 -6.515625 -9.125 -5.21875 -9.125 -3.546875 C -9.125 -1.734375 -8.0625 -0.546875 -5.78125 -0.484375 L -5.78125 -1.84375 C -7.40625 -1.9375 -7.90625 -2.421875 -7.90625 -3.515625 C -7.90625 -4.515625 -7.3125 -5.125 -6.359375 -5.125 C -5.65625 -5.125 -5.15625 -4.75 -4.703125 -3.96875 L -4.046875 -2.8125 C -3 -0.96875 -2.078125 -0.390625 0 -0.28125 L 0 -6.453125 L -1.34375 -6.453125 L -1.34375 -1.8125 C -1.9375 -1.90625 -2.3125 -2.265625 -2.953125 -3.34375 L -3.625 -4.59375 C -4.28125 -5.84375 -5.296875 -6.515625 -6.390625 -6.515625 Z M -6.390625 -6.515625 \"/>\n",
       "</symbol>\n",
       "<symbol overflow=\"visible\" id=\"glyph2-11\">\n",
       "<path style=\"stroke:none;\" d=\"M -2.25 -6.625 L -3.375 -6.625 L -3.375 -5.3125 L -9.125 -5.3125 L -9.125 -4.296875 L -3.453125 -0.21875 L -2.125 -0.21875 L -2.125 -3.953125 L 0 -3.953125 L 0 -5.3125 L -2.125 -5.3125 L -2.125 -6.625 Z M -3.375 -4.09375 L -3.375 -1.5625 L -7.03125 -4.171875 L -7.109375 -3.953125 L -3.375 -3.953125 Z M -3.375 -4.09375 \"/>\n",
       "</symbol>\n",
       "<symbol overflow=\"visible\" id=\"glyph2-12\">\n",
       "<path style=\"stroke:none;\" d=\"M -2.875 -6.53125 C -4.53125 -6.53125 -5.78125 -5.28125 -5.78125 -3.703125 C -5.78125 -2.828125 -5.390625 -2.03125 -4.734375 -1.5625 L -4.65625 -1.78125 C -6.8125 -1.796875 -7.890625 -2.375 -7.890625 -3.640625 C -7.890625 -4.40625 -7.53125 -4.8125 -6.546875 -5.015625 L -6.546875 -6.375 C -8.125 -6.140625 -9.125 -5.0625 -9.125 -3.71875 C -9.125 -1.65625 -7.25 -0.40625 -4.15625 -0.40625 C -1.40625 -0.40625 0.1875 -1.484375 0.1875 -3.515625 C 0.1875 -5.203125 -1.140625 -6.53125 -2.875 -6.53125 Z M -2.78125 -5.15625 C -1.671875 -5.15625 -1.046875 -4.53125 -1.046875 -3.53125 C -1.046875 -2.5 -1.71875 -1.84375 -2.84375 -1.84375 C -3.953125 -1.84375 -4.53125 -2.46875 -4.53125 -3.5625 C -4.53125 -4.625 -3.96875 -5.15625 -2.78125 -5.15625 Z M -2.78125 -5.15625 \"/>\n",
       "</symbol>\n",
       "</g>\n",
       "<clipPath id=\"clip1\">\n",
       "  <path d=\"M 160 59.039062 L 162 59.039062 L 162 143.558594 L 160 143.558594 Z M 160 59.039062 \"/>\n",
       "</clipPath>\n",
       "<clipPath id=\"clip2\">\n",
       "  <path d=\"M 161 59.039062 L 163 59.039062 L 163 143.558594 L 161 143.558594 Z M 161 59.039062 \"/>\n",
       "</clipPath>\n",
       "<clipPath id=\"clip3\">\n",
       "  <path d=\"M 66 59.039062 L 68 59.039062 L 68 143.558594 L 66 143.558594 Z M 66 59.039062 \"/>\n",
       "</clipPath>\n",
       "<clipPath id=\"clip4\">\n",
       "  <path d=\"M 247 59.039062 L 249 59.039062 L 249 143.558594 L 247 143.558594 Z M 247 59.039062 \"/>\n",
       "</clipPath>\n",
       "<clipPath id=\"clip5\">\n",
       "  <path d=\"M 190 59.039062 L 192 59.039062 L 192 143.558594 L 190 143.558594 Z M 190 59.039062 \"/>\n",
       "</clipPath>\n",
       "<clipPath id=\"clip6\">\n",
       "  <path d=\"M 130 59.039062 L 132 59.039062 L 132 143.558594 L 130 143.558594 Z M 130 59.039062 \"/>\n",
       "</clipPath>\n",
       "</defs>\n",
       "<g id=\"surface219\">\n",
       "<rect x=\"0\" y=\"0\" width=\"288\" height=\"216\" style=\"fill:rgb(100%,100%,100%);fill-opacity:1;stroke:none;\"/>\n",
       "<g style=\"fill:rgb(0%,0%,0%);fill-opacity:1;\">\n",
       "  <use xlink:href=\"#glyph0-1\" x=\"95.039062\" y=\"35.089844\"/>\n",
       "  <use xlink:href=\"#glyph0-2\" x=\"105.801315\" y=\"35.089844\"/>\n",
       "  <use xlink:href=\"#glyph0-3\" x=\"109.945236\" y=\"35.089844\"/>\n",
       "  <use xlink:href=\"#glyph0-4\" x=\"118.233063\" y=\"35.089844\"/>\n",
       "  <use xlink:href=\"#glyph0-5\" x=\"123.196823\" y=\"35.089844\"/>\n",
       "  <use xlink:href=\"#glyph0-6\" x=\"132.304489\" y=\"35.089844\"/>\n",
       "  <use xlink:href=\"#glyph0-7\" x=\"141.412155\" y=\"35.089844\"/>\n",
       "  <use xlink:href=\"#glyph0-8\" x=\"147.210648\" y=\"35.089844\"/>\n",
       "  <use xlink:href=\"#glyph0-9\" x=\"155.498474\" y=\"35.089844\"/>\n",
       "  <use xlink:href=\"#glyph0-10\" x=\"168.750061\" y=\"35.089844\"/>\n",
       "  <use xlink:href=\"#glyph0-5\" x=\"172.893982\" y=\"35.089844\"/>\n",
       "  <use xlink:href=\"#glyph0-11\" x=\"182.001648\" y=\"35.089844\"/>\n",
       "  <use xlink:href=\"#glyph0-10\" x=\"186.965408\" y=\"35.089844\"/>\n",
       "  <use xlink:href=\"#glyph0-12\" x=\"191.109329\" y=\"35.089844\"/>\n",
       "  <use xlink:href=\"#glyph0-8\" x=\"200.216995\" y=\"35.089844\"/>\n",
       "  <use xlink:href=\"#glyph0-4\" x=\"208.504822\" y=\"35.089844\"/>\n",
       "  <use xlink:href=\"#glyph0-8\" x=\"213.468582\" y=\"35.089844\"/>\n",
       "</g>\n",
       "<g style=\"fill:rgb(0%,0%,0%);fill-opacity:1;\">\n",
       "  <use xlink:href=\"#glyph1-1\" x=\"146.234375\" y=\"198.71875\"/>\n",
       "  <use xlink:href=\"#glyph1-2\" x=\"153.184402\" y=\"198.71875\"/>\n",
       "  <use xlink:href=\"#glyph1-3\" x=\"160.13443\" y=\"198.71875\"/>\n",
       "  <use xlink:href=\"#glyph1-2\" x=\"163.609436\" y=\"198.71875\"/>\n",
       "</g>\n",
       "<g style=\"fill:rgb(0%,0%,0%);fill-opacity:1;\">\n",
       "  <use xlink:href=\"#glyph2-1\" x=\"14.398438\" y=\"130.324219\"/>\n",
       "  <use xlink:href=\"#glyph2-2\" x=\"14.398438\" y=\"122.686691\"/>\n",
       "  <use xlink:href=\"#glyph2-3\" x=\"14.398438\" y=\"118.52417\"/>\n",
       "  <use xlink:href=\"#glyph2-4\" x=\"14.398438\" y=\"111.574142\"/>\n",
       "  <use xlink:href=\"#glyph2-5\" x=\"14.398438\" y=\"104.624115\"/>\n",
       "  <use xlink:href=\"#glyph2-3\" x=\"14.398438\" y=\"97.674088\"/>\n",
       "  <use xlink:href=\"#glyph2-6\" x=\"14.398438\" y=\"90.72406\"/>\n",
       "  <use xlink:href=\"#glyph2-7\" x=\"14.398438\" y=\"83.774033\"/>\n",
       "  <use xlink:href=\"#glyph2-8\" x=\"14.398438\" y=\"77.524002\"/>\n",
       "</g>\n",
       "<path style=\"fill:none;stroke-width:1;stroke-linecap:round;stroke-linejoin:round;stroke:rgb(0%,0%,0%);stroke-opacity:1;stroke-miterlimit:10;\" d=\"M 69.464844 142.558594 L 253.464844 142.558594 \"/>\n",
       "<path style=\"fill:none;stroke-width:1;stroke-linecap:round;stroke-linejoin:round;stroke:rgb(0%,0%,0%);stroke-opacity:1;stroke-miterlimit:10;\" d=\"M 69.464844 142.558594 L 69.464844 149.761719 \"/>\n",
       "<path style=\"fill:none;stroke-width:1;stroke-linecap:round;stroke-linejoin:round;stroke:rgb(0%,0%,0%);stroke-opacity:1;stroke-miterlimit:10;\" d=\"M 100.132812 142.558594 L 100.132812 149.761719 \"/>\n",
       "<path style=\"fill:none;stroke-width:1;stroke-linecap:round;stroke-linejoin:round;stroke:rgb(0%,0%,0%);stroke-opacity:1;stroke-miterlimit:10;\" d=\"M 130.800781 142.558594 L 130.800781 149.761719 \"/>\n",
       "<path style=\"fill:none;stroke-width:1;stroke-linecap:round;stroke-linejoin:round;stroke:rgb(0%,0%,0%);stroke-opacity:1;stroke-miterlimit:10;\" d=\"M 161.464844 142.558594 L 161.464844 149.761719 \"/>\n",
       "<path style=\"fill:none;stroke-width:1;stroke-linecap:round;stroke-linejoin:round;stroke:rgb(0%,0%,0%);stroke-opacity:1;stroke-miterlimit:10;\" d=\"M 192.132812 142.558594 L 192.132812 149.761719 \"/>\n",
       "<path style=\"fill:none;stroke-width:1;stroke-linecap:round;stroke-linejoin:round;stroke:rgb(0%,0%,0%);stroke-opacity:1;stroke-miterlimit:10;\" d=\"M 222.800781 142.558594 L 222.800781 149.761719 \"/>\n",
       "<path style=\"fill:none;stroke-width:1;stroke-linecap:round;stroke-linejoin:round;stroke:rgb(0%,0%,0%);stroke-opacity:1;stroke-miterlimit:10;\" d=\"M 253.464844 142.558594 L 253.464844 149.761719 \"/>\n",
       "<g style=\"fill:rgb(0%,0%,0%);fill-opacity:1;\">\n",
       "  <use xlink:href=\"#glyph1-4\" x=\"63.910156\" y=\"169.921875\"/>\n",
       "  <use xlink:href=\"#glyph1-5\" x=\"68.072678\" y=\"169.921875\"/>\n",
       "</g>\n",
       "<g style=\"fill:rgb(0%,0%,0%);fill-opacity:1;\">\n",
       "  <use xlink:href=\"#glyph1-4\" x=\"94.578125\" y=\"169.921875\"/>\n",
       "  <use xlink:href=\"#glyph1-6\" x=\"98.740646\" y=\"169.921875\"/>\n",
       "</g>\n",
       "<g style=\"fill:rgb(0%,0%,0%);fill-opacity:1;\">\n",
       "  <use xlink:href=\"#glyph1-7\" x=\"127.324219\" y=\"169.921875\"/>\n",
       "</g>\n",
       "<g style=\"fill:rgb(0%,0%,0%);fill-opacity:1;\">\n",
       "  <use xlink:href=\"#glyph1-6\" x=\"157.988281\" y=\"169.921875\"/>\n",
       "</g>\n",
       "<g style=\"fill:rgb(0%,0%,0%);fill-opacity:1;\">\n",
       "  <use xlink:href=\"#glyph1-5\" x=\"188.65625\" y=\"169.921875\"/>\n",
       "</g>\n",
       "<g style=\"fill:rgb(0%,0%,0%);fill-opacity:1;\">\n",
       "  <use xlink:href=\"#glyph1-8\" x=\"219.324219\" y=\"169.921875\"/>\n",
       "</g>\n",
       "<g style=\"fill:rgb(0%,0%,0%);fill-opacity:1;\">\n",
       "  <use xlink:href=\"#glyph1-9\" x=\"249.988281\" y=\"169.921875\"/>\n",
       "</g>\n",
       "<path style=\"fill:none;stroke-width:1;stroke-linecap:round;stroke-linejoin:round;stroke:rgb(0%,0%,0%);stroke-opacity:1;stroke-miterlimit:10;\" d=\"M 59.039062 139.464844 L 59.039062 62.132812 \"/>\n",
       "<path style=\"fill:none;stroke-width:1;stroke-linecap:round;stroke-linejoin:round;stroke:rgb(0%,0%,0%);stroke-opacity:1;stroke-miterlimit:10;\" d=\"M 59.039062 139.464844 L 51.839844 139.464844 \"/>\n",
       "<path style=\"fill:none;stroke-width:1;stroke-linecap:round;stroke-linejoin:round;stroke:rgb(0%,0%,0%);stroke-opacity:1;stroke-miterlimit:10;\" d=\"M 59.039062 126.578125 L 51.839844 126.578125 \"/>\n",
       "<path style=\"fill:none;stroke-width:1;stroke-linecap:round;stroke-linejoin:round;stroke:rgb(0%,0%,0%);stroke-opacity:1;stroke-miterlimit:10;\" d=\"M 59.039062 113.6875 L 51.839844 113.6875 \"/>\n",
       "<path style=\"fill:none;stroke-width:1;stroke-linecap:round;stroke-linejoin:round;stroke:rgb(0%,0%,0%);stroke-opacity:1;stroke-miterlimit:10;\" d=\"M 59.039062 100.800781 L 51.839844 100.800781 \"/>\n",
       "<path style=\"fill:none;stroke-width:1;stroke-linecap:round;stroke-linejoin:round;stroke:rgb(0%,0%,0%);stroke-opacity:1;stroke-miterlimit:10;\" d=\"M 59.039062 87.910156 L 51.839844 87.910156 \"/>\n",
       "<path style=\"fill:none;stroke-width:1;stroke-linecap:round;stroke-linejoin:round;stroke:rgb(0%,0%,0%);stroke-opacity:1;stroke-miterlimit:10;\" d=\"M 59.039062 75.023438 L 51.839844 75.023438 \"/>\n",
       "<path style=\"fill:none;stroke-width:1;stroke-linecap:round;stroke-linejoin:round;stroke:rgb(0%,0%,0%);stroke-opacity:1;stroke-miterlimit:10;\" d=\"M 59.039062 62.132812 L 51.839844 62.132812 \"/>\n",
       "<g style=\"fill:rgb(0%,0%,0%);fill-opacity:1;\">\n",
       "  <use xlink:href=\"#glyph2-9\" x=\"43.199219\" y=\"142.941406\"/>\n",
       "</g>\n",
       "<g style=\"fill:rgb(0%,0%,0%);fill-opacity:1;\">\n",
       "  <use xlink:href=\"#glyph2-10\" x=\"43.199219\" y=\"117.164062\"/>\n",
       "</g>\n",
       "<g style=\"fill:rgb(0%,0%,0%);fill-opacity:1;\">\n",
       "  <use xlink:href=\"#glyph2-11\" x=\"43.199219\" y=\"91.386719\"/>\n",
       "</g>\n",
       "<g style=\"fill:rgb(0%,0%,0%);fill-opacity:1;\">\n",
       "  <use xlink:href=\"#glyph2-12\" x=\"43.199219\" y=\"65.609375\"/>\n",
       "</g>\n",
       "<path style=\"fill-rule:nonzero;fill:rgb(40%,40%,40%);fill-opacity:1;stroke-width:1;stroke-linecap:round;stroke-linejoin:round;stroke:rgb(100%,100%,100%);stroke-opacity:1;stroke-miterlimit:10;\" d=\"M 66.398438 126.578125 L 69.464844 126.578125 L 69.464844 139.46875 L 66.398438 139.46875 Z M 66.398438 126.578125 \"/>\n",
       "<path style=\"fill:none;stroke-width:1;stroke-linecap:round;stroke-linejoin:round;stroke:rgb(100%,100%,100%);stroke-opacity:1;stroke-miterlimit:10;\" d=\"M 69.464844 139.464844 L 72.53125 139.464844 Z M 69.464844 139.464844 \"/>\n",
       "<path style=\"fill:none;stroke-width:1;stroke-linecap:round;stroke-linejoin:round;stroke:rgb(100%,100%,100%);stroke-opacity:1;stroke-miterlimit:10;\" d=\"M 72.535156 139.464844 L 75.601562 139.464844 Z M 72.535156 139.464844 \"/>\n",
       "<path style=\"fill:none;stroke-width:1;stroke-linecap:round;stroke-linejoin:round;stroke:rgb(100%,100%,100%);stroke-opacity:1;stroke-miterlimit:10;\" d=\"M 75.601562 139.464844 L 78.667969 139.464844 Z M 75.601562 139.464844 \"/>\n",
       "<path style=\"fill:none;stroke-width:1;stroke-linecap:round;stroke-linejoin:round;stroke:rgb(100%,100%,100%);stroke-opacity:1;stroke-miterlimit:10;\" d=\"M 78.667969 139.464844 L 81.734375 139.464844 Z M 78.667969 139.464844 \"/>\n",
       "<path style=\"fill:none;stroke-width:1;stroke-linecap:round;stroke-linejoin:round;stroke:rgb(100%,100%,100%);stroke-opacity:1;stroke-miterlimit:10;\" d=\"M 81.734375 139.464844 L 84.800781 139.464844 Z M 81.734375 139.464844 \"/>\n",
       "<path style=\"fill:none;stroke-width:1;stroke-linecap:round;stroke-linejoin:round;stroke:rgb(100%,100%,100%);stroke-opacity:1;stroke-miterlimit:10;\" d=\"M 84.800781 139.464844 L 87.867188 139.464844 Z M 84.800781 139.464844 \"/>\n",
       "<path style=\"fill:none;stroke-width:1;stroke-linecap:round;stroke-linejoin:round;stroke:rgb(100%,100%,100%);stroke-opacity:1;stroke-miterlimit:10;\" d=\"M 87.867188 139.464844 L 90.933594 139.464844 Z M 87.867188 139.464844 \"/>\n",
       "<path style=\"fill:none;stroke-width:1;stroke-linecap:round;stroke-linejoin:round;stroke:rgb(100%,100%,100%);stroke-opacity:1;stroke-miterlimit:10;\" d=\"M 90.933594 139.464844 L 94 139.464844 Z M 90.933594 139.464844 \"/>\n",
       "<path style=\"fill:none;stroke-width:1;stroke-linecap:round;stroke-linejoin:round;stroke:rgb(100%,100%,100%);stroke-opacity:1;stroke-miterlimit:10;\" d=\"M 94 139.464844 L 97.066406 139.464844 Z M 94 139.464844 \"/>\n",
       "<path style=\"fill:none;stroke-width:1;stroke-linecap:round;stroke-linejoin:round;stroke:rgb(100%,100%,100%);stroke-opacity:1;stroke-miterlimit:10;\" d=\"M 97.066406 139.464844 L 100.132812 139.464844 Z M 97.066406 139.464844 \"/>\n",
       "<path style=\"fill-rule:nonzero;fill:rgb(40%,40%,40%);fill-opacity:1;stroke-width:1;stroke-linecap:round;stroke-linejoin:round;stroke:rgb(100%,100%,100%);stroke-opacity:1;stroke-miterlimit:10;\" d=\"M 100.132812 126.578125 L 103.199219 126.578125 L 103.199219 139.46875 L 100.132812 139.46875 Z M 100.132812 126.578125 \"/>\n",
       "<path style=\"fill:none;stroke-width:1;stroke-linecap:round;stroke-linejoin:round;stroke:rgb(100%,100%,100%);stroke-opacity:1;stroke-miterlimit:10;\" d=\"M 103.199219 139.464844 L 106.265625 139.464844 Z M 103.199219 139.464844 \"/>\n",
       "<path style=\"fill:none;stroke-width:1;stroke-linecap:round;stroke-linejoin:round;stroke:rgb(100%,100%,100%);stroke-opacity:1;stroke-miterlimit:10;\" d=\"M 106.265625 139.464844 L 109.332031 139.464844 Z M 106.265625 139.464844 \"/>\n",
       "<path style=\"fill-rule:nonzero;fill:rgb(40%,40%,40%);fill-opacity:1;stroke-width:1;stroke-linecap:round;stroke-linejoin:round;stroke:rgb(100%,100%,100%);stroke-opacity:1;stroke-miterlimit:10;\" d=\"M 109.332031 113.6875 L 112.398438 113.6875 L 112.398438 139.464844 L 109.332031 139.464844 Z M 109.332031 113.6875 \"/>\n",
       "<path style=\"fill-rule:nonzero;fill:rgb(40%,40%,40%);fill-opacity:1;stroke-width:1;stroke-linecap:round;stroke-linejoin:round;stroke:rgb(100%,100%,100%);stroke-opacity:1;stroke-miterlimit:10;\" d=\"M 112.398438 126.578125 L 115.464844 126.578125 L 115.464844 139.46875 L 112.398438 139.46875 Z M 112.398438 126.578125 \"/>\n",
       "<path style=\"fill-rule:nonzero;fill:rgb(40%,40%,40%);fill-opacity:1;stroke-width:1;stroke-linecap:round;stroke-linejoin:round;stroke:rgb(100%,100%,100%);stroke-opacity:1;stroke-miterlimit:10;\" d=\"M 115.464844 126.578125 L 118.53125 126.578125 L 118.53125 139.46875 L 115.464844 139.46875 Z M 115.464844 126.578125 \"/>\n",
       "<path style=\"fill:none;stroke-width:1;stroke-linecap:round;stroke-linejoin:round;stroke:rgb(100%,100%,100%);stroke-opacity:1;stroke-miterlimit:10;\" d=\"M 118.535156 139.464844 L 121.601562 139.464844 Z M 118.535156 139.464844 \"/>\n",
       "<path style=\"fill-rule:nonzero;fill:rgb(40%,40%,40%);fill-opacity:1;stroke-width:1;stroke-linecap:round;stroke-linejoin:round;stroke:rgb(100%,100%,100%);stroke-opacity:1;stroke-miterlimit:10;\" d=\"M 121.601562 100.800781 L 124.667969 100.800781 L 124.667969 139.46875 L 121.601562 139.46875 Z M 121.601562 100.800781 \"/>\n",
       "<path style=\"fill-rule:nonzero;fill:rgb(40%,40%,40%);fill-opacity:1;stroke-width:1;stroke-linecap:round;stroke-linejoin:round;stroke:rgb(100%,100%,100%);stroke-opacity:1;stroke-miterlimit:10;\" d=\"M 124.667969 100.800781 L 127.734375 100.800781 L 127.734375 139.46875 L 124.667969 139.46875 Z M 124.667969 100.800781 \"/>\n",
       "<path style=\"fill-rule:nonzero;fill:rgb(40%,40%,40%);fill-opacity:1;stroke-width:1;stroke-linecap:round;stroke-linejoin:round;stroke:rgb(100%,100%,100%);stroke-opacity:1;stroke-miterlimit:10;\" d=\"M 127.734375 126.578125 L 130.800781 126.578125 L 130.800781 139.46875 L 127.734375 139.46875 Z M 127.734375 126.578125 \"/>\n",
       "<path style=\"fill-rule:nonzero;fill:rgb(40%,40%,40%);fill-opacity:1;stroke-width:1;stroke-linecap:round;stroke-linejoin:round;stroke:rgb(100%,100%,100%);stroke-opacity:1;stroke-miterlimit:10;\" d=\"M 130.800781 100.800781 L 133.867188 100.800781 L 133.867188 139.46875 L 130.800781 139.46875 Z M 130.800781 100.800781 \"/>\n",
       "<path style=\"fill-rule:nonzero;fill:rgb(40%,40%,40%);fill-opacity:1;stroke-width:1;stroke-linecap:round;stroke-linejoin:round;stroke:rgb(100%,100%,100%);stroke-opacity:1;stroke-miterlimit:10;\" d=\"M 133.867188 100.800781 L 136.933594 100.800781 L 136.933594 139.46875 L 133.867188 139.46875 Z M 133.867188 100.800781 \"/>\n",
       "<path style=\"fill-rule:nonzero;fill:rgb(40%,40%,40%);fill-opacity:1;stroke-width:1;stroke-linecap:round;stroke-linejoin:round;stroke:rgb(100%,100%,100%);stroke-opacity:1;stroke-miterlimit:10;\" d=\"M 136.933594 100.800781 L 140 100.800781 L 140 139.46875 L 136.933594 139.46875 Z M 136.933594 100.800781 \"/>\n",
       "<path style=\"fill-rule:nonzero;fill:rgb(40%,40%,40%);fill-opacity:1;stroke-width:1;stroke-linecap:round;stroke-linejoin:round;stroke:rgb(100%,100%,100%);stroke-opacity:1;stroke-miterlimit:10;\" d=\"M 140 62.132812 L 143.066406 62.132812 L 143.066406 139.464844 L 140 139.464844 Z M 140 62.132812 \"/>\n",
       "<path style=\"fill-rule:nonzero;fill:rgb(40%,40%,40%);fill-opacity:1;stroke-width:1;stroke-linecap:round;stroke-linejoin:round;stroke:rgb(100%,100%,100%);stroke-opacity:1;stroke-miterlimit:10;\" d=\"M 143.066406 75.023438 L 146.132812 75.023438 L 146.132812 139.46875 L 143.066406 139.46875 Z M 143.066406 75.023438 \"/>\n",
       "<path style=\"fill-rule:nonzero;fill:rgb(40%,40%,40%);fill-opacity:1;stroke-width:1;stroke-linecap:round;stroke-linejoin:round;stroke:rgb(100%,100%,100%);stroke-opacity:1;stroke-miterlimit:10;\" d=\"M 146.132812 75.023438 L 149.199219 75.023438 L 149.199219 139.46875 L 146.132812 139.46875 Z M 146.132812 75.023438 \"/>\n",
       "<path style=\"fill-rule:nonzero;fill:rgb(40%,40%,40%);fill-opacity:1;stroke-width:1;stroke-linecap:round;stroke-linejoin:round;stroke:rgb(100%,100%,100%);stroke-opacity:1;stroke-miterlimit:10;\" d=\"M 149.199219 113.6875 L 152.265625 113.6875 L 152.265625 139.464844 L 149.199219 139.464844 Z M 149.199219 113.6875 \"/>\n",
       "<path style=\"fill-rule:nonzero;fill:rgb(40%,40%,40%);fill-opacity:1;stroke-width:1;stroke-linecap:round;stroke-linejoin:round;stroke:rgb(100%,100%,100%);stroke-opacity:1;stroke-miterlimit:10;\" d=\"M 152.265625 87.910156 L 155.332031 87.910156 L 155.332031 139.464844 L 152.265625 139.464844 Z M 152.265625 87.910156 \"/>\n",
       "<path style=\"fill-rule:nonzero;fill:rgb(40%,40%,40%);fill-opacity:1;stroke-width:1;stroke-linecap:round;stroke-linejoin:round;stroke:rgb(100%,100%,100%);stroke-opacity:1;stroke-miterlimit:10;\" d=\"M 155.332031 113.6875 L 158.398438 113.6875 L 158.398438 139.464844 L 155.332031 139.464844 Z M 155.332031 113.6875 \"/>\n",
       "<path style=\"fill-rule:nonzero;fill:rgb(40%,40%,40%);fill-opacity:1;stroke-width:1;stroke-linecap:round;stroke-linejoin:round;stroke:rgb(100%,100%,100%);stroke-opacity:1;stroke-miterlimit:10;\" d=\"M 158.398438 87.910156 L 161.464844 87.910156 L 161.464844 139.464844 L 158.398438 139.464844 Z M 158.398438 87.910156 \"/>\n",
       "<path style=\"fill-rule:nonzero;fill:rgb(40%,40%,40%);fill-opacity:1;stroke-width:1;stroke-linecap:round;stroke-linejoin:round;stroke:rgb(100%,100%,100%);stroke-opacity:1;stroke-miterlimit:10;\" d=\"M 161.464844 62.132812 L 164.53125 62.132812 L 164.53125 139.464844 L 161.464844 139.464844 Z M 161.464844 62.132812 \"/>\n",
       "<path style=\"fill-rule:nonzero;fill:rgb(40%,40%,40%);fill-opacity:1;stroke-width:1;stroke-linecap:round;stroke-linejoin:round;stroke:rgb(100%,100%,100%);stroke-opacity:1;stroke-miterlimit:10;\" d=\"M 164.535156 75.023438 L 167.601562 75.023438 L 167.601562 139.46875 L 164.535156 139.46875 Z M 164.535156 75.023438 \"/>\n",
       "<path style=\"fill-rule:nonzero;fill:rgb(40%,40%,40%);fill-opacity:1;stroke-width:1;stroke-linecap:round;stroke-linejoin:round;stroke:rgb(100%,100%,100%);stroke-opacity:1;stroke-miterlimit:10;\" d=\"M 167.601562 100.800781 L 170.667969 100.800781 L 170.667969 139.46875 L 167.601562 139.46875 Z M 167.601562 100.800781 \"/>\n",
       "<path style=\"fill-rule:nonzero;fill:rgb(40%,40%,40%);fill-opacity:1;stroke-width:1;stroke-linecap:round;stroke-linejoin:round;stroke:rgb(100%,100%,100%);stroke-opacity:1;stroke-miterlimit:10;\" d=\"M 170.667969 87.910156 L 173.734375 87.910156 L 173.734375 139.464844 L 170.667969 139.464844 Z M 170.667969 87.910156 \"/>\n",
       "<path style=\"fill-rule:nonzero;fill:rgb(40%,40%,40%);fill-opacity:1;stroke-width:1;stroke-linecap:round;stroke-linejoin:round;stroke:rgb(100%,100%,100%);stroke-opacity:1;stroke-miterlimit:10;\" d=\"M 173.734375 100.800781 L 176.800781 100.800781 L 176.800781 139.46875 L 173.734375 139.46875 Z M 173.734375 100.800781 \"/>\n",
       "<path style=\"fill-rule:nonzero;fill:rgb(40%,40%,40%);fill-opacity:1;stroke-width:1;stroke-linecap:round;stroke-linejoin:round;stroke:rgb(100%,100%,100%);stroke-opacity:1;stroke-miterlimit:10;\" d=\"M 176.800781 126.578125 L 179.867188 126.578125 L 179.867188 139.46875 L 176.800781 139.46875 Z M 176.800781 126.578125 \"/>\n",
       "<path style=\"fill-rule:nonzero;fill:rgb(40%,40%,40%);fill-opacity:1;stroke-width:1;stroke-linecap:round;stroke-linejoin:round;stroke:rgb(100%,100%,100%);stroke-opacity:1;stroke-miterlimit:10;\" d=\"M 179.867188 87.910156 L 182.933594 87.910156 L 182.933594 139.464844 L 179.867188 139.464844 Z M 179.867188 87.910156 \"/>\n",
       "<path style=\"fill-rule:nonzero;fill:rgb(40%,40%,40%);fill-opacity:1;stroke-width:1;stroke-linecap:round;stroke-linejoin:round;stroke:rgb(100%,100%,100%);stroke-opacity:1;stroke-miterlimit:10;\" d=\"M 182.933594 100.800781 L 186 100.800781 L 186 139.46875 L 182.933594 139.46875 Z M 182.933594 100.800781 \"/>\n",
       "<path style=\"fill-rule:nonzero;fill:rgb(40%,40%,40%);fill-opacity:1;stroke-width:1;stroke-linecap:round;stroke-linejoin:round;stroke:rgb(100%,100%,100%);stroke-opacity:1;stroke-miterlimit:10;\" d=\"M 186 87.910156 L 189.066406 87.910156 L 189.066406 139.464844 L 186 139.464844 Z M 186 87.910156 \"/>\n",
       "<path style=\"fill-rule:nonzero;fill:rgb(40%,40%,40%);fill-opacity:1;stroke-width:1;stroke-linecap:round;stroke-linejoin:round;stroke:rgb(100%,100%,100%);stroke-opacity:1;stroke-miterlimit:10;\" d=\"M 189.066406 100.800781 L 192.132812 100.800781 L 192.132812 139.46875 L 189.066406 139.46875 Z M 189.066406 100.800781 \"/>\n",
       "<path style=\"fill-rule:nonzero;fill:rgb(40%,40%,40%);fill-opacity:1;stroke-width:1;stroke-linecap:round;stroke-linejoin:round;stroke:rgb(100%,100%,100%);stroke-opacity:1;stroke-miterlimit:10;\" d=\"M 192.132812 126.578125 L 195.199219 126.578125 L 195.199219 139.46875 L 192.132812 139.46875 Z M 192.132812 126.578125 \"/>\n",
       "<path style=\"fill-rule:nonzero;fill:rgb(40%,40%,40%);fill-opacity:1;stroke-width:1;stroke-linecap:round;stroke-linejoin:round;stroke:rgb(100%,100%,100%);stroke-opacity:1;stroke-miterlimit:10;\" d=\"M 195.199219 113.6875 L 198.265625 113.6875 L 198.265625 139.464844 L 195.199219 139.464844 Z M 195.199219 113.6875 \"/>\n",
       "<path style=\"fill-rule:nonzero;fill:rgb(40%,40%,40%);fill-opacity:1;stroke-width:1;stroke-linecap:round;stroke-linejoin:round;stroke:rgb(100%,100%,100%);stroke-opacity:1;stroke-miterlimit:10;\" d=\"M 198.265625 126.578125 L 201.332031 126.578125 L 201.332031 139.46875 L 198.265625 139.46875 Z M 198.265625 126.578125 \"/>\n",
       "<path style=\"fill-rule:nonzero;fill:rgb(40%,40%,40%);fill-opacity:1;stroke-width:1;stroke-linecap:round;stroke-linejoin:round;stroke:rgb(100%,100%,100%);stroke-opacity:1;stroke-miterlimit:10;\" d=\"M 201.332031 113.6875 L 204.398438 113.6875 L 204.398438 139.464844 L 201.332031 139.464844 Z M 201.332031 113.6875 \"/>\n",
       "<path style=\"fill:none;stroke-width:1;stroke-linecap:round;stroke-linejoin:round;stroke:rgb(100%,100%,100%);stroke-opacity:1;stroke-miterlimit:10;\" d=\"M 204.398438 139.464844 L 207.464844 139.464844 Z M 204.398438 139.464844 \"/>\n",
       "<path style=\"fill-rule:nonzero;fill:rgb(40%,40%,40%);fill-opacity:1;stroke-width:1;stroke-linecap:round;stroke-linejoin:round;stroke:rgb(100%,100%,100%);stroke-opacity:1;stroke-miterlimit:10;\" d=\"M 207.464844 100.800781 L 210.53125 100.800781 L 210.53125 139.46875 L 207.464844 139.46875 Z M 207.464844 100.800781 \"/>\n",
       "<path style=\"fill-rule:nonzero;fill:rgb(40%,40%,40%);fill-opacity:1;stroke-width:1;stroke-linecap:round;stroke-linejoin:round;stroke:rgb(100%,100%,100%);stroke-opacity:1;stroke-miterlimit:10;\" d=\"M 210.535156 126.578125 L 213.601562 126.578125 L 213.601562 139.46875 L 210.535156 139.46875 Z M 210.535156 126.578125 \"/>\n",
       "<path style=\"fill-rule:nonzero;fill:rgb(40%,40%,40%);fill-opacity:1;stroke-width:1;stroke-linecap:round;stroke-linejoin:round;stroke:rgb(100%,100%,100%);stroke-opacity:1;stroke-miterlimit:10;\" d=\"M 213.601562 126.578125 L 216.667969 126.578125 L 216.667969 139.46875 L 213.601562 139.46875 Z M 213.601562 126.578125 \"/>\n",
       "<path style=\"fill:none;stroke-width:1;stroke-linecap:round;stroke-linejoin:round;stroke:rgb(100%,100%,100%);stroke-opacity:1;stroke-miterlimit:10;\" d=\"M 216.667969 139.464844 L 219.734375 139.464844 Z M 216.667969 139.464844 \"/>\n",
       "<path style=\"fill-rule:nonzero;fill:rgb(40%,40%,40%);fill-opacity:1;stroke-width:1;stroke-linecap:round;stroke-linejoin:round;stroke:rgb(100%,100%,100%);stroke-opacity:1;stroke-miterlimit:10;\" d=\"M 219.734375 126.578125 L 222.800781 126.578125 L 222.800781 139.46875 L 219.734375 139.46875 Z M 219.734375 126.578125 \"/>\n",
       "<path style=\"fill:none;stroke-width:1;stroke-linecap:round;stroke-linejoin:round;stroke:rgb(100%,100%,100%);stroke-opacity:1;stroke-miterlimit:10;\" d=\"M 222.800781 139.464844 L 225.867188 139.464844 Z M 222.800781 139.464844 \"/>\n",
       "<path style=\"fill:none;stroke-width:1;stroke-linecap:round;stroke-linejoin:round;stroke:rgb(100%,100%,100%);stroke-opacity:1;stroke-miterlimit:10;\" d=\"M 225.867188 139.464844 L 228.933594 139.464844 Z M 225.867188 139.464844 \"/>\n",
       "<path style=\"fill:none;stroke-width:1;stroke-linecap:round;stroke-linejoin:round;stroke:rgb(100%,100%,100%);stroke-opacity:1;stroke-miterlimit:10;\" d=\"M 228.933594 139.464844 L 232 139.464844 Z M 228.933594 139.464844 \"/>\n",
       "<path style=\"fill-rule:nonzero;fill:rgb(40%,40%,40%);fill-opacity:1;stroke-width:1;stroke-linecap:round;stroke-linejoin:round;stroke:rgb(100%,100%,100%);stroke-opacity:1;stroke-miterlimit:10;\" d=\"M 232 126.578125 L 235.066406 126.578125 L 235.066406 139.46875 L 232 139.46875 Z M 232 126.578125 \"/>\n",
       "<path style=\"fill:none;stroke-width:1;stroke-linecap:round;stroke-linejoin:round;stroke:rgb(100%,100%,100%);stroke-opacity:1;stroke-miterlimit:10;\" d=\"M 235.066406 139.464844 L 238.132812 139.464844 Z M 235.066406 139.464844 \"/>\n",
       "<path style=\"fill:none;stroke-width:1;stroke-linecap:round;stroke-linejoin:round;stroke:rgb(100%,100%,100%);stroke-opacity:1;stroke-miterlimit:10;\" d=\"M 238.132812 139.464844 L 241.199219 139.464844 Z M 238.132812 139.464844 \"/>\n",
       "<path style=\"fill:none;stroke-width:1;stroke-linecap:round;stroke-linejoin:round;stroke:rgb(100%,100%,100%);stroke-opacity:1;stroke-miterlimit:10;\" d=\"M 241.199219 139.464844 L 244.265625 139.464844 Z M 241.199219 139.464844 \"/>\n",
       "<path style=\"fill:none;stroke-width:1;stroke-linecap:round;stroke-linejoin:round;stroke:rgb(100%,100%,100%);stroke-opacity:1;stroke-miterlimit:10;\" d=\"M 244.265625 139.464844 L 247.332031 139.464844 Z M 244.265625 139.464844 \"/>\n",
       "<path style=\"fill-rule:nonzero;fill:rgb(40%,40%,40%);fill-opacity:1;stroke-width:1;stroke-linecap:round;stroke-linejoin:round;stroke:rgb(100%,100%,100%);stroke-opacity:1;stroke-miterlimit:10;\" d=\"M 247.332031 126.578125 L 250.398438 126.578125 L 250.398438 139.46875 L 247.332031 139.46875 Z M 247.332031 126.578125 \"/>\n",
       "<g clip-path=\"url(#clip1)\" clip-rule=\"nonzero\">\n",
       "<path style=\"fill:none;stroke-width:1;stroke-linecap:round;stroke-linejoin:round;stroke:rgb(100%,0%,0%);stroke-opacity:1;stroke-miterlimit:10;\" d=\"M 161.390625 142.558594 L 161.390625 59.039062 \"/>\n",
       "</g>\n",
       "<g clip-path=\"url(#clip2)\" clip-rule=\"nonzero\">\n",
       "<path style=\"fill:none;stroke-width:1;stroke-linecap:round;stroke-linejoin:round;stroke:rgb(0%,100%,0%);stroke-opacity:1;stroke-miterlimit:10;\" d=\"M 161.558594 142.558594 L 161.558594 59.039062 \"/>\n",
       "</g>\n",
       "<g clip-path=\"url(#clip3)\" clip-rule=\"nonzero\">\n",
       "<path style=\"fill:none;stroke-width:1;stroke-linecap:round;stroke-linejoin:round;stroke:rgb(0%,0%,100%);stroke-opacity:1;stroke-miterlimit:10;\" d=\"M 67.191406 142.558594 L 67.191406 59.039062 \"/>\n",
       "</g>\n",
       "<g clip-path=\"url(#clip4)\" clip-rule=\"nonzero\">\n",
       "<path style=\"fill:none;stroke-width:1;stroke-linecap:round;stroke-linejoin:round;stroke:rgb(0%,0%,100%);stroke-opacity:1;stroke-miterlimit:10;\" d=\"M 247.902344 142.558594 L 247.902344 59.039062 \"/>\n",
       "</g>\n",
       "<g clip-path=\"url(#clip5)\" clip-rule=\"nonzero\">\n",
       "<path style=\"fill:none;stroke-width:1;stroke-linecap:round;stroke-linejoin:round;stroke:rgb(0%,0%,0%);stroke-opacity:1;stroke-miterlimit:10;\" d=\"M 191.425781 142.558594 L 191.425781 59.039062 \"/>\n",
       "</g>\n",
       "<g clip-path=\"url(#clip6)\" clip-rule=\"nonzero\">\n",
       "<path style=\"fill:none;stroke-width:1;stroke-linecap:round;stroke-linejoin:round;stroke:rgb(0%,0%,0%);stroke-opacity:1;stroke-miterlimit:10;\" d=\"M 131.355469 142.558594 L 131.355469 59.039062 \"/>\n",
       "</g>\n",
       "</g>\n",
       "</svg>\n"
      ]
     },
     "metadata": {
      "image/svg+xml": {
       "isolated": true
      }
     },
     "output_type": "display_data"
    }
   ],
   "source": [
    "# add your code here (100 ) ...\n",
    "data <- rnorm(100,1,1)\n",
    "hist(data, 50, col=\"#666666\", border=\"white\")\n",
    "dmean <- mean(data)\n",
    "abline(v=dmean,col=\"red\")\n",
    "dmedian <- median(data)\n",
    "abline(v=dmedian,col=\"green\")\n",
    "dmin <- min(data)\n",
    "abline(v=dmin,col=\"blue\")\n",
    "dmax <- max(data)\n",
    "abline(v=dmax,col=\"blue\")\n",
    "dsd <- sd(data)\n",
    "abline(v=dmean+dsd)\n",
    "abline(v=dmean-dsd)\n",
    "min(data)\n",
    "max(data)"
   ]
  },
  {
   "cell_type": "code",
   "execution_count": 8,
   "metadata": {},
   "outputs": [
    {
     "data": {
      "text/html": [
       "-2.87421317522554"
      ],
      "text/latex": [
       "-2.87421317522554"
      ],
      "text/markdown": [
       "-2.87421317522554"
      ],
      "text/plain": [
       "[1] -2.874213"
      ]
     },
     "metadata": {},
     "output_type": "display_data"
    },
    {
     "data": {
      "text/html": [
       "4.85058764070977"
      ],
      "text/latex": [
       "4.85058764070977"
      ],
      "text/markdown": [
       "4.85058764070977"
      ],
      "text/plain": [
       "[1] 4.850588"
      ]
     },
     "metadata": {},
     "output_type": "display_data"
    },
    {
     "data": {
      "image/jpeg": "[encoded data removed]",
      "image/png": "",
      "image/svg+xml": [
       "<?xml version=\"1.0\" encoding=\"UTF-8\"?>\n",
       "<svg xmlns=\"http://www.w3.org/2000/svg\" xmlns:xlink=\"http://www.w3.org/1999/xlink\" width=\"288pt\" height=\"216pt\" viewBox=\"0 0 288 216\" version=\"1.1\">\n",
       "<defs>\n",
       "<g>\n",
       "<symbol overflow=\"visible\" id=\"glyph0-0\">\n",
       "<path style=\"stroke:none;\" d=\"\"/>\n",
       "</symbol>\n",
       "<symbol overflow=\"visible\" id=\"glyph0-1\">\n",
       "<path style=\"stroke:none;\" d=\"M 9.84375 -0.140625 L 9.84375 -11.140625 L 7.5 -11.140625 L 7.5 -7.0625 L 3.296875 -7.0625 L 3.296875 -11.140625 L 0.953125 -11.140625 L 0.953125 0 L 3.296875 0 L 3.296875 -4.9375 L 7.5 -4.9375 L 7.5 0 L 9.84375 0 Z M 9.84375 -0.140625 \"/>\n",
       "</symbol>\n",
       "<symbol overflow=\"visible\" id=\"glyph0-2\">\n",
       "<path style=\"stroke:none;\" d=\"M 3.125 -0.140625 L 3.125 -8.3125 L 0.9375 -8.3125 L 0.9375 0 L 3.125 0 Z M 3.15625 -9.15625 L 3.15625 -11.375 L 0.96875 -11.375 L 0.96875 -9.015625 L 3.15625 -9.015625 Z M 3.15625 -9.15625 \"/>\n",
       "</symbol>\n",
       "<symbol overflow=\"visible\" id=\"glyph0-3\">\n",
       "<path style=\"stroke:none;\" d=\"M 7.796875 -2.515625 L 7.796875 -2.625 C 7.796875 -3.546875 7.234375 -4.375 6.171875 -4.6875 L 3.53125 -5.4375 C 2.953125 -5.609375 2.84375 -5.609375 2.84375 -5.9375 C 2.84375 -6.375 3.28125 -6.546875 4.015625 -6.546875 C 5.015625 -6.546875 5.4375 -6.3125 5.453125 -5.453125 L 7.578125 -5.453125 C 7.546875 -7.296875 6.1875 -8.453125 4.03125 -8.453125 C 1.984375 -8.453125 0.65625 -7.296875 0.65625 -5.640625 C 0.65625 -4.65625 0.984375 -3.984375 2.46875 -3.515625 L 4.96875 -2.75 C 5.484375 -2.578125 5.609375 -2.546875 5.609375 -2.328125 C 5.609375 -1.828125 5.078125 -1.78125 4.109375 -1.78125 C 3.15625 -1.78125 2.703125 -1.8125 2.484375 -2.8125 L 0.375 -2.8125 C 0.4375 -0.921875 1.78125 0.140625 4.234375 0.140625 C 6.5 0.140625 7.796875 -0.890625 7.796875 -2.515625 Z M 7.796875 -2.515625 \"/>\n",
       "</symbol>\n",
       "<symbol overflow=\"visible\" id=\"glyph0-4\">\n",
       "<path style=\"stroke:none;\" d=\"M 4.53125 -0.140625 L 4.53125 -1.734375 C 4.28125 -1.703125 4.15625 -1.6875 4.015625 -1.6875 C 3.453125 -1.6875 3.375 -1.71875 3.375 -2.4375 L 3.375 -6.5 L 4.53125 -6.5 L 4.53125 -8.15625 L 3.375 -8.15625 L 3.375 -10.3125 L 1.171875 -10.3125 L 1.171875 -8.15625 L 0.15625 -8.15625 L 0.15625 -6.5 L 1.171875 -6.5 L 1.171875 -1.859375 C 1.171875 -0.59375 1.90625 0.0625 3.28125 0.0625 C 3.734375 0.0625 4.109375 0.015625 4.53125 0 Z M 4.53125 -0.140625 \"/>\n",
       "</symbol>\n",
       "<symbol overflow=\"visible\" id=\"glyph0-5\">\n",
       "<path style=\"stroke:none;\" d=\"M 8.53125 -4.09375 C 8.53125 -6.828125 7 -8.453125 4.484375 -8.453125 C 2.03125 -8.453125 0.46875 -6.796875 0.46875 -4.15625 C 0.46875 -1.5 2.03125 0.140625 4.5 0.140625 C 6.953125 0.140625 8.53125 -1.515625 8.53125 -4.09375 Z M 6.328125 -4.125 C 6.328125 -2.625 5.625 -1.8125 4.5 -1.8125 C 3.375 -1.8125 2.65625 -2.625 2.65625 -4.15625 C 2.65625 -5.6875 3.375 -6.5 4.5 -6.5 C 5.65625 -6.5 6.328125 -5.703125 6.328125 -4.125 Z M 6.328125 -4.125 \"/>\n",
       "</symbol>\n",
       "<symbol overflow=\"visible\" id=\"glyph0-6\">\n",
       "<path style=\"stroke:none;\" d=\"M 8.109375 0.140625 L 8.109375 -8.3125 L 6.015625 -8.3125 L 6.015625 -7.15625 C 5.484375 -7.984375 4.765625 -8.453125 3.84375 -8.453125 C 1.9375 -8.453125 0.453125 -6.5625 0.453125 -4.0625 C 0.453125 -1.5625 1.8125 0.140625 3.796875 0.140625 C 4.734375 0.140625 5.34375 -0.171875 6.015625 -0.875 L 6.015625 0.140625 C 6.015625 1.109375 5.34375 1.640625 4.3125 1.640625 C 3.515625 1.640625 3.046875 1.453125 2.828125 0.703125 L 0.609375 0.703125 C 0.640625 2.140625 2.03125 3.25 4.234375 3.25 C 6.65625 3.25 8.109375 2.03125 8.109375 0.140625 Z M 6.046875 -4.09375 C 6.046875 -2.640625 5.34375 -1.875 4.265625 -1.875 C 3.28125 -1.875 2.640625 -2.640625 2.640625 -4.09375 C 2.640625 -5.625 3.28125 -6.4375 4.296875 -6.4375 C 5.34375 -6.4375 6.046875 -5.59375 6.046875 -4.09375 Z M 6.046875 -4.09375 \"/>\n",
       "</symbol>\n",
       "<symbol overflow=\"visible\" id=\"glyph0-7\">\n",
       "<path style=\"stroke:none;\" d=\"M 5.5625 -6.1875 L 5.5625 -8.421875 C 5.390625 -8.453125 5.328125 -8.453125 5.265625 -8.453125 C 4.3125 -8.453125 3.40625 -7.6875 3.078125 -6.828125 L 3.078125 -8.3125 L 0.875 -8.3125 L 0.875 0 L 3.078125 0 L 3.078125 -4.40625 C 3.078125 -5.640625 3.640625 -6.109375 4.859375 -6.109375 C 5.078125 -6.109375 5.234375 -6.09375 5.5625 -6.03125 Z M 5.5625 -6.1875 \"/>\n",
       "</symbol>\n",
       "<symbol overflow=\"visible\" id=\"glyph0-8\">\n",
       "<path style=\"stroke:none;\" d=\"M 7.859375 -0.140625 L 7.859375 -0.46875 C 7.46875 -0.8125 7.375 -0.953125 7.375 -1.375 L 7.375 -5.84375 C 7.375 -7.484375 6.21875 -8.453125 4.046875 -8.453125 C 1.859375 -8.453125 0.671875 -7.390625 0.53125 -5.390625 L 2.640625 -5.390625 C 2.75 -6.359375 3.0625 -6.5 4.078125 -6.5 C 4.890625 -6.5 5.234375 -6.359375 5.234375 -5.828125 C 5.234375 -4.984375 4.671875 -5.203125 3.625 -5.015625 L 2.78125 -4.875 C 1.1875 -4.59375 0.359375 -3.765625 0.359375 -2.3125 C 0.359375 -0.75 1.515625 0.140625 2.859375 0.140625 C 3.75 0.140625 4.609375 -0.28125 5.25 -0.96875 C 5.25 -0.734375 5.3125 -0.265625 5.53125 0 L 7.859375 0 Z M 5.234375 -3.578125 C 5.234375 -2.375 4.703125 -1.8125 3.640625 -1.8125 C 2.9375 -1.8125 2.546875 -1.953125 2.546875 -2.546875 C 2.546875 -3.15625 2.828125 -3.25 3.703125 -3.40625 L 4.40625 -3.546875 C 4.96875 -3.65625 5.078125 -3.71875 5.234375 -3.796875 Z M 5.234375 -3.578125 \"/>\n",
       "</symbol>\n",
       "<symbol overflow=\"visible\" id=\"glyph0-9\">\n",
       "<path style=\"stroke:none;\" d=\"M 12.328125 -0.140625 L 12.328125 -5.828125 C 12.328125 -7.390625 11.328125 -8.453125 9.71875 -8.453125 C 8.703125 -8.453125 7.9375 -8.046875 7.359375 -7.28125 C 7 -7.96875 6.171875 -8.453125 5.171875 -8.453125 C 4.25 -8.453125 3.609375 -8.09375 3.015625 -7.375 L 3.015625 -8.3125 L 0.828125 -8.3125 L 0.828125 0 L 3.03125 0 L 3.03125 -4.96875 C 3.03125 -5.953125 3.515625 -6.40625 4.40625 -6.40625 C 5.109375 -6.40625 5.484375 -6.140625 5.484375 -5.5 L 5.484375 0 L 7.671875 0 L 7.671875 -4.96875 C 7.671875 -5.953125 8.171875 -6.40625 9.0625 -6.40625 C 9.765625 -6.40625 10.140625 -6.140625 10.140625 -5.5 L 10.140625 0 L 12.328125 0 Z M 12.328125 -0.140625 \"/>\n",
       "</symbol>\n",
       "<symbol overflow=\"visible\" id=\"glyph0-10\">\n",
       "<path style=\"stroke:none;\" d=\"\"/>\n",
       "</symbol>\n",
       "<symbol overflow=\"visible\" id=\"glyph0-11\">\n",
       "<path style=\"stroke:none;\" d=\"M 4.703125 -6.640625 L 4.703125 -8.15625 L 3.46875 -8.15625 L 3.46875 -8.8125 C 3.46875 -9.234375 3.609375 -9.296875 4 -9.296875 C 4.171875 -9.296875 4.40625 -9.28125 4.640625 -9.234375 L 4.640625 -11.09375 C 4.203125 -11.125 3.6875 -11.140625 3.40625 -11.140625 C 2.015625 -11.140625 1.28125 -10.34375 1.28125 -8.984375 L 1.28125 -8.15625 L 0.15625 -8.15625 L 0.15625 -6.5 L 1.28125 -6.5 L 1.28125 0 L 3.46875 0 L 3.46875 -6.5 L 4.703125 -6.5 Z M 4.703125 -6.640625 \"/>\n",
       "</symbol>\n",
       "<symbol overflow=\"visible\" id=\"glyph0-12\">\n",
       "<path style=\"stroke:none;\" d=\"M 8.171875 -0.140625 L 8.171875 -11.140625 L 5.984375 -11.140625 L 5.984375 -7.34375 C 5.546875 -8.03125 4.8125 -8.453125 3.8125 -8.453125 C 1.890625 -8.453125 0.375 -6.578125 0.375 -4.140625 C 0.375 -1.859375 1.6875 0.140625 3.8125 0.140625 C 4.8125 0.140625 5.546875 -0.265625 5.984375 -0.84375 L 5.984375 0 L 8.171875 0 Z M 5.984375 -4.109375 C 5.984375 -2.65625 5.328125 -1.875 4.28125 -1.875 C 3.234375 -1.875 2.5625 -2.671875 2.5625 -4.140625 C 2.5625 -5.640625 3.234375 -6.4375 4.28125 -6.4375 C 5.34375 -6.4375 5.984375 -5.65625 5.984375 -4.109375 Z M 5.984375 -4.109375 \"/>\n",
       "</symbol>\n",
       "<symbol overflow=\"visible\" id=\"glyph1-0\">\n",
       "<path style=\"stroke:none;\" d=\"\"/>\n",
       "</symbol>\n",
       "<symbol overflow=\"visible\" id=\"glyph1-1\">\n",
       "<path style=\"stroke:none;\" d=\"M 6.3125 -0.125 L 6.3125 -9.375 L 5.015625 -9.375 L 5.015625 -5.84375 L 5.234375 -5.9375 C 4.796875 -6.59375 4.015625 -7 3.140625 -7 C 1.4375 -7 0.1875 -5.546875 0.1875 -3.46875 C 0.1875 -1.25 1.40625 0.1875 3.171875 0.1875 C 4.078125 0.1875 4.78125 -0.1875 5.34375 -1 L 5.125 -1.09375 L 5.125 0 L 6.3125 0 Z M 5.015625 -3.375 C 5.015625 -1.859375 4.421875 -1.046875 3.328125 -1.046875 C 2.171875 -1.046875 1.53125 -1.875 1.53125 -3.40625 C 1.53125 -4.921875 2.171875 -5.765625 3.3125 -5.765625 C 4.4375 -5.765625 5.015625 -4.890625 5.015625 -3.375 Z M 5.015625 -3.375 \"/>\n",
       "</symbol>\n",
       "<symbol overflow=\"visible\" id=\"glyph1-2\">\n",
       "<path style=\"stroke:none;\" d=\"M 6.8125 -0.15625 L 6.8125 -1.09375 C 6.578125 -1.046875 6.53125 -1.046875 6.46875 -1.046875 C 6.09375 -1.046875 6.03125 -1.09375 6.03125 -1.421875 L 6.03125 -5.078125 C 6.03125 -6.234375 5.046875 -7 3.4375 -7 C 1.84375 -7 0.734375 -6.25 0.65625 -4.609375 L 1.96875 -4.609375 C 2.078125 -5.53125 2.421875 -5.78125 3.40625 -5.78125 C 4.34375 -5.78125 4.71875 -5.546875 4.71875 -4.921875 L 4.71875 -4.65625 C 4.71875 -4.21875 4.59375 -4.15625 3.78125 -4.0625 C 2.296875 -3.875 2.078125 -3.828125 1.671875 -3.65625 C 0.90625 -3.34375 0.390625 -2.625 0.390625 -1.828125 C 0.390625 -0.640625 1.34375 0.1875 2.671875 0.1875 C 3.515625 0.1875 4.40625 -0.203125 4.828125 -0.640625 C 4.875 -0.40625 5.46875 0.09375 5.96875 0.09375 C 6.1875 0.09375 6.34375 0.0625 6.8125 -0.046875 Z M 4.71875 -2.390625 C 4.71875 -1.453125 3.90625 -0.984375 2.90625 -0.984375 C 2.09375 -0.984375 1.734375 -1.140625 1.734375 -1.84375 C 1.734375 -2.53125 2.078125 -2.71875 3.1875 -2.875 C 4.28125 -3.03125 4.515625 -3.078125 4.71875 -3.171875 Z M 4.71875 -2.390625 \"/>\n",
       "</symbol>\n",
       "<symbol overflow=\"visible\" id=\"glyph1-3\">\n",
       "<path style=\"stroke:none;\" d=\"M 3.296875 -0.125 L 3.296875 -1.171875 C 3.03125 -1.09375 2.875 -1.09375 2.671875 -1.09375 C 2.21875 -1.09375 2.21875 -1.078125 2.21875 -1.53125 L 2.21875 -5.703125 L 3.296875 -5.703125 L 3.296875 -6.8125 L 2.21875 -6.8125 L 2.21875 -8.609375 L 0.921875 -8.609375 L 0.921875 -6.8125 L 0.03125 -6.8125 L 0.03125 -5.703125 L 0.921875 -5.703125 L 0.921875 -1.078125 C 0.921875 -0.40625 1.515625 0.09375 2.328125 0.09375 C 2.578125 0.09375 2.828125 0.0625 3.296875 -0.015625 Z M 3.296875 -0.125 \"/>\n",
       "</symbol>\n",
       "<symbol overflow=\"visible\" id=\"glyph1-4\">\n",
       "<path style=\"stroke:none;\" d=\"M 3.671875 -3.125 L 3.671875 -4.15625 L 0.4375 -4.15625 L 0.4375 -3 L 3.671875 -3 Z M 3.671875 -3.125 \"/>\n",
       "</symbol>\n",
       "<symbol overflow=\"visible\" id=\"glyph1-5\">\n",
       "<path style=\"stroke:none;\" d=\"M 6.515625 -6.390625 C 6.515625 -7.890625 5.21875 -9.125 3.546875 -9.125 C 1.734375 -9.125 0.546875 -8.0625 0.484375 -5.78125 L 1.84375 -5.78125 C 1.9375 -7.40625 2.421875 -7.90625 3.515625 -7.90625 C 4.515625 -7.90625 5.125 -7.3125 5.125 -6.359375 C 5.125 -5.65625 4.75 -5.15625 3.96875 -4.703125 L 2.8125 -4.046875 C 0.96875 -3 0.390625 -2.078125 0.28125 0 L 6.453125 0 L 6.453125 -1.34375 L 1.8125 -1.34375 C 1.90625 -1.9375 2.265625 -2.3125 3.34375 -2.953125 L 4.59375 -3.625 C 5.84375 -4.28125 6.515625 -5.296875 6.515625 -6.390625 Z M 6.515625 -6.390625 \"/>\n",
       "</symbol>\n",
       "<symbol overflow=\"visible\" id=\"glyph1-6\">\n",
       "<path style=\"stroke:none;\" d=\"M 6.46875 -4.390625 C 6.46875 -7.46875 5.359375 -9.125 3.4375 -9.125 C 1.53125 -9.125 0.40625 -7.4375 0.40625 -4.46875 C 0.40625 -1.46875 1.53125 0.1875 3.4375 0.1875 C 5.3125 0.1875 6.46875 -1.46875 6.46875 -4.390625 Z M 5.078125 -4.484375 C 5.078125 -1.96875 4.640625 -0.984375 3.40625 -0.984375 C 2.25 -0.984375 1.78125 -2.03125 1.78125 -4.453125 C 1.78125 -6.875 2.25 -7.890625 3.4375 -7.890625 C 4.625 -7.890625 5.078125 -6.859375 5.078125 -4.484375 Z M 5.078125 -4.484375 \"/>\n",
       "</symbol>\n",
       "<symbol overflow=\"visible\" id=\"glyph1-7\">\n",
       "<path style=\"stroke:none;\" d=\"M 6.625 -2.25 L 6.625 -3.375 L 5.3125 -3.375 L 5.3125 -9.125 L 4.296875 -9.125 L 0.21875 -3.453125 L 0.21875 -2.125 L 3.953125 -2.125 L 3.953125 0 L 5.3125 0 L 5.3125 -2.125 L 6.625 -2.125 Z M 4.09375 -3.375 L 1.5625 -3.375 L 4.171875 -7.03125 L 3.953125 -7.109375 L 3.953125 -3.375 Z M 4.09375 -3.375 \"/>\n",
       "</symbol>\n",
       "<symbol overflow=\"visible\" id=\"glyph2-0\">\n",
       "<path style=\"stroke:none;\" d=\"\"/>\n",
       "</symbol>\n",
       "<symbol overflow=\"visible\" id=\"glyph2-1\">\n",
       "<path style=\"stroke:none;\" d=\"M -8.21875 -7.359375 L -9.375 -7.359375 L -9.375 -0.984375 L 0 -0.984375 L 0 -2.40625 L -4.15625 -2.40625 L -4.15625 -6.765625 L -5.4375 -6.765625 L -5.4375 -2.40625 L -8.09375 -2.40625 L -8.09375 -7.359375 Z M -8.21875 -7.359375 \"/>\n",
       "</symbol>\n",
       "<symbol overflow=\"visible\" id=\"glyph2-2\">\n",
       "<path style=\"stroke:none;\" d=\"M -5.765625 -4.140625 L -6.9375 -4.140625 C -6.984375 -3.84375 -7 -3.75 -7 -3.609375 C -7 -2.9375 -6.546875 -2.328125 -5.578125 -1.71875 L -5.484375 -1.953125 L -6.8125 -1.953125 L -6.8125 -0.734375 L 0 -0.734375 L 0 -2.03125 L -3.53125 -2.03125 C -5 -2.03125 -5.609375 -2.40625 -5.640625 -4.140625 Z M -5.765625 -4.140625 \"/>\n",
       "</symbol>\n",
       "<symbol overflow=\"visible\" id=\"glyph2-3\">\n",
       "<path style=\"stroke:none;\" d=\"M -3.09375 -6.53125 C -4.046875 -6.53125 -4.65625 -6.46875 -5.140625 -6.28125 C -6.21875 -5.84375 -7 -4.71875 -7 -3.5 C -7 -1.671875 -5.515625 -0.359375 -3.359375 -0.359375 C -1.21875 -0.359375 0.1875 -1.640625 0.1875 -3.46875 C 0.1875 -4.96875 -0.78125 -6.140625 -2.25 -6.421875 L -2.25 -5.125 C -1.25 -4.796875 -1.03125 -4.34375 -1.03125 -3.515625 C -1.03125 -2.421875 -1.59375 -1.734375 -2.96875 -1.71875 L -2.96875 -6.53125 Z M -3.9375 -5.390625 C -3.9375 -5.390625 -4.0625 -5.203125 -4.09375 -5.21875 L -4.09375 -1.75 C -5.109375 -1.828125 -5.78125 -2.4375 -5.78125 -3.484375 C -5.78125 -4.515625 -5.046875 -5.15625 -4.03125 -5.15625 Z M -3.9375 -5.390625 \"/>\n",
       "</symbol>\n",
       "<symbol overflow=\"visible\" id=\"glyph2-4\">\n",
       "<path style=\"stroke:none;\" d=\"M 2.59375 -6.3125 L -6.8125 -6.3125 L -6.8125 -5.125 L -5.796875 -5.125 L -5.890625 -5.34375 C -6.578125 -4.859375 -7 -4.03125 -7 -3.171875 C -7 -1.453125 -5.5 -0.1875 -3.328125 -0.1875 C -1.203125 -0.1875 0.1875 -1.40625 0.1875 -3.125 C 0.1875 -4.03125 -0.171875 -4.75 -0.890625 -5.234375 L -0.96875 -5.015625 L 2.71875 -5.015625 L 2.71875 -6.3125 Z M -3.359375 -5.015625 C -1.859375 -5.015625 -1.046875 -4.421875 -1.046875 -3.328125 C -1.046875 -2.171875 -1.875 -1.53125 -3.40625 -1.53125 C -4.90625 -1.53125 -5.765625 -2.171875 -5.765625 -3.328125 C -5.765625 -4.4375 -4.890625 -5.015625 -3.359375 -5.015625 Z M -3.359375 -5.015625 \"/>\n",
       "</symbol>\n",
       "<symbol overflow=\"visible\" id=\"glyph2-5\">\n",
       "<path style=\"stroke:none;\" d=\"M -0.125 -6.15625 L -6.8125 -6.15625 L -6.8125 -4.84375 L -3.0625 -4.84375 C -1.71875 -4.84375 -0.984375 -4.28125 -0.984375 -3.203125 C -0.984375 -2.375 -1.34375 -1.96875 -2.140625 -1.96875 L -6.8125 -1.96875 L -6.8125 -0.671875 L -1.71875 -0.671875 C -0.640625 -0.671875 0.1875 -1.625 0.1875 -2.90625 C 0.1875 -3.859375 -0.1875 -4.5625 -1.046875 -5.171875 L -1.140625 -4.953125 L 0 -4.953125 L 0 -6.15625 Z M -0.125 -6.15625 \"/>\n",
       "</symbol>\n",
       "<symbol overflow=\"visible\" id=\"glyph2-6\">\n",
       "<path style=\"stroke:none;\" d=\"M -0.125 -6.21875 L -5.078125 -6.21875 C -6.15625 -6.21875 -7 -5.28125 -7 -4.015625 C -7 -3.03125 -6.578125 -2.3125 -5.65625 -1.734375 L -5.578125 -1.96875 L -6.8125 -1.96875 L -6.8125 -0.734375 L 0 -0.734375 L 0 -2.03125 L -3.734375 -2.03125 C -5.078125 -2.03125 -5.828125 -2.640625 -5.828125 -3.703125 C -5.828125 -4.53125 -5.453125 -4.90625 -4.65625 -4.90625 L 0 -4.90625 L 0 -6.21875 Z M -0.125 -6.21875 \"/>\n",
       "</symbol>\n",
       "<symbol overflow=\"visible\" id=\"glyph2-7\">\n",
       "<path style=\"stroke:none;\" d=\"M -2.515625 -5.96875 L -2.515625 -4.796875 C -1.328125 -4.59375 -1.03125 -4.203125 -1.03125 -3.3125 C -1.03125 -2.15625 -1.78125 -1.59375 -3.34375 -1.59375 C -4.96875 -1.59375 -5.78125 -2.15625 -5.78125 -3.28125 C -5.78125 -4.15625 -5.390625 -4.578125 -4.34375 -4.71875 L -4.34375 -6.03125 C -6.078125 -5.890625 -7 -4.765625 -7 -3.296875 C -7 -1.53125 -5.515625 -0.25 -3.34375 -0.25 C -1.21875 -0.25 0.1875 -1.515625 0.1875 -3.28125 C 0.1875 -4.84375 -0.875 -5.96875 -2.515625 -6.09375 Z M -2.515625 -5.96875 \"/>\n",
       "</symbol>\n",
       "<symbol overflow=\"visible\" id=\"glyph2-8\">\n",
       "<path style=\"stroke:none;\" d=\"M -6.8125 -5.96875 L -6.8125 -4.765625 L -1.578125 -2.90625 L -1.578125 -3.15625 L -6.8125 -1.453125 L -6.8125 -0.0625 L -0.09375 -2.328125 L 0.9375 -1.921875 C 1.40625 -1.75 1.4375 -1.671875 1.4375 -1.21875 C 1.4375 -1.078125 1.40625 -0.90625 1.34375 -0.53125 L 2.515625 -0.53125 C 2.640625 -0.78125 2.71875 -1.09375 2.71875 -1.375 C 2.71875 -2.109375 2.1875 -2.84375 1.25 -3.1875 L -6.8125 -6.15625 Z M -6.8125 -5.96875 \"/>\n",
       "</symbol>\n",
       "<symbol overflow=\"visible\" id=\"glyph2-9\">\n",
       "<path style=\"stroke:none;\" d=\"M -4.390625 -6.46875 C -7.46875 -6.46875 -9.125 -5.359375 -9.125 -3.4375 C -9.125 -1.53125 -7.4375 -0.40625 -4.46875 -0.40625 C -1.46875 -0.40625 0.1875 -1.53125 0.1875 -3.4375 C 0.1875 -5.3125 -1.46875 -6.46875 -4.390625 -6.46875 Z M -4.484375 -5.078125 C -1.96875 -5.078125 -0.984375 -4.640625 -0.984375 -3.40625 C -0.984375 -2.25 -2.03125 -1.78125 -4.453125 -1.78125 C -6.875 -1.78125 -7.890625 -2.25 -7.890625 -3.4375 C -7.890625 -4.625 -6.859375 -5.078125 -4.484375 -5.078125 Z M -4.484375 -5.078125 \"/>\n",
       "</symbol>\n",
       "<symbol overflow=\"visible\" id=\"glyph2-10\">\n",
       "<path style=\"stroke:none;\" d=\"M -2.25 -6.625 L -3.375 -6.625 L -3.375 -5.3125 L -9.125 -5.3125 L -9.125 -4.296875 L -3.453125 -0.21875 L -2.125 -0.21875 L -2.125 -3.953125 L 0 -3.953125 L 0 -5.3125 L -2.125 -5.3125 L -2.125 -6.625 Z M -3.375 -4.09375 L -3.375 -1.5625 L -7.03125 -4.171875 L -7.109375 -3.953125 L -3.375 -3.953125 Z M -3.375 -4.09375 \"/>\n",
       "</symbol>\n",
       "<symbol overflow=\"visible\" id=\"glyph2-11\">\n",
       "<path style=\"stroke:none;\" d=\"M -2.625 -6.53125 C -3.609375 -6.53125 -4.4375 -5.90625 -4.796875 -5.140625 C -5.25 -5.890625 -5.78125 -6.21875 -6.625 -6.21875 C -8.015625 -6.21875 -9.125 -5.015625 -9.125 -3.4375 C -9.125 -1.875 -8.015625 -0.640625 -6.625 -0.640625 C -5.796875 -0.640625 -5.265625 -0.96875 -4.796875 -1.71875 C -4.4375 -0.96875 -3.609375 -0.328125 -2.640625 -0.328125 C -1.015625 -0.328125 0.1875 -1.6875 0.1875 -3.4375 C 0.1875 -5.1875 -1.015625 -6.53125 -2.625 -6.53125 Z M -6.59375 -4.84375 C -5.78125 -4.84375 -5.359375 -4.359375 -5.359375 -3.4375 C -5.359375 -2.515625 -5.78125 -2.03125 -6.609375 -2.03125 C -7.46875 -2.03125 -7.890625 -2.515625 -7.890625 -3.4375 C -7.890625 -4.375 -7.46875 -4.84375 -6.59375 -4.84375 Z M -2.609375 -5.15625 C -1.5625 -5.15625 -1.046875 -4.53125 -1.046875 -3.40625 C -1.046875 -2.34375 -1.578125 -1.71875 -2.609375 -1.71875 C -3.65625 -1.71875 -4.171875 -2.34375 -4.171875 -3.4375 C -4.171875 -4.53125 -3.65625 -5.15625 -2.609375 -5.15625 Z M -2.609375 -5.15625 \"/>\n",
       "</symbol>\n",
       "</g>\n",
       "<clipPath id=\"clip1\">\n",
       "  <path d=\"M 157 59.039062 L 159 59.039062 L 159 143.558594 L 157 143.558594 Z M 157 59.039062 \"/>\n",
       "</clipPath>\n",
       "<clipPath id=\"clip2\">\n",
       "  <path d=\"M 68 59.039062 L 70 59.039062 L 70 143.558594 L 68 143.558594 Z M 68 59.039062 \"/>\n",
       "</clipPath>\n",
       "<clipPath id=\"clip3\">\n",
       "  <path d=\"M 246 59.039062 L 248 59.039062 L 248 143.558594 L 246 143.558594 Z M 246 59.039062 \"/>\n",
       "</clipPath>\n",
       "<clipPath id=\"clip4\">\n",
       "  <path d=\"M 180 59.039062 L 182 59.039062 L 182 143.558594 L 180 143.558594 Z M 180 59.039062 \"/>\n",
       "</clipPath>\n",
       "<clipPath id=\"clip5\">\n",
       "  <path d=\"M 134 59.039062 L 136 59.039062 L 136 143.558594 L 134 143.558594 Z M 134 59.039062 \"/>\n",
       "</clipPath>\n",
       "</defs>\n",
       "<g id=\"surface262\">\n",
       "<rect x=\"0\" y=\"0\" width=\"288\" height=\"216\" style=\"fill:rgb(100%,100%,100%);fill-opacity:1;stroke:none;\"/>\n",
       "<g style=\"fill:rgb(0%,0%,0%);fill-opacity:1;\">\n",
       "  <use xlink:href=\"#glyph0-1\" x=\"95.039062\" y=\"35.089844\"/>\n",
       "  <use xlink:href=\"#glyph0-2\" x=\"105.801315\" y=\"35.089844\"/>\n",
       "  <use xlink:href=\"#glyph0-3\" x=\"109.945236\" y=\"35.089844\"/>\n",
       "  <use xlink:href=\"#glyph0-4\" x=\"118.233063\" y=\"35.089844\"/>\n",
       "  <use xlink:href=\"#glyph0-5\" x=\"123.196823\" y=\"35.089844\"/>\n",
       "  <use xlink:href=\"#glyph0-6\" x=\"132.304489\" y=\"35.089844\"/>\n",
       "  <use xlink:href=\"#glyph0-7\" x=\"141.412155\" y=\"35.089844\"/>\n",
       "  <use xlink:href=\"#glyph0-8\" x=\"147.210648\" y=\"35.089844\"/>\n",
       "  <use xlink:href=\"#glyph0-9\" x=\"155.498474\" y=\"35.089844\"/>\n",
       "  <use xlink:href=\"#glyph0-10\" x=\"168.750061\" y=\"35.089844\"/>\n",
       "  <use xlink:href=\"#glyph0-5\" x=\"172.893982\" y=\"35.089844\"/>\n",
       "  <use xlink:href=\"#glyph0-11\" x=\"182.001648\" y=\"35.089844\"/>\n",
       "  <use xlink:href=\"#glyph0-10\" x=\"186.965408\" y=\"35.089844\"/>\n",
       "  <use xlink:href=\"#glyph0-12\" x=\"191.109329\" y=\"35.089844\"/>\n",
       "  <use xlink:href=\"#glyph0-8\" x=\"200.216995\" y=\"35.089844\"/>\n",
       "  <use xlink:href=\"#glyph0-4\" x=\"208.504822\" y=\"35.089844\"/>\n",
       "  <use xlink:href=\"#glyph0-8\" x=\"213.468582\" y=\"35.089844\"/>\n",
       "</g>\n",
       "<g style=\"fill:rgb(0%,0%,0%);fill-opacity:1;\">\n",
       "  <use xlink:href=\"#glyph1-1\" x=\"146.234375\" y=\"198.71875\"/>\n",
       "  <use xlink:href=\"#glyph1-2\" x=\"153.184402\" y=\"198.71875\"/>\n",
       "  <use xlink:href=\"#glyph1-3\" x=\"160.13443\" y=\"198.71875\"/>\n",
       "  <use xlink:href=\"#glyph1-2\" x=\"163.609436\" y=\"198.71875\"/>\n",
       "</g>\n",
       "<g style=\"fill:rgb(0%,0%,0%);fill-opacity:1;\">\n",
       "  <use xlink:href=\"#glyph2-1\" x=\"14.398438\" y=\"130.324219\"/>\n",
       "  <use xlink:href=\"#glyph2-2\" x=\"14.398438\" y=\"122.686691\"/>\n",
       "  <use xlink:href=\"#glyph2-3\" x=\"14.398438\" y=\"118.52417\"/>\n",
       "  <use xlink:href=\"#glyph2-4\" x=\"14.398438\" y=\"111.574142\"/>\n",
       "  <use xlink:href=\"#glyph2-5\" x=\"14.398438\" y=\"104.624115\"/>\n",
       "  <use xlink:href=\"#glyph2-3\" x=\"14.398438\" y=\"97.674088\"/>\n",
       "  <use xlink:href=\"#glyph2-6\" x=\"14.398438\" y=\"90.72406\"/>\n",
       "  <use xlink:href=\"#glyph2-7\" x=\"14.398438\" y=\"83.774033\"/>\n",
       "  <use xlink:href=\"#glyph2-8\" x=\"14.398438\" y=\"77.524002\"/>\n",
       "</g>\n",
       "<path style=\"fill:none;stroke-width:1;stroke-linecap:round;stroke-linejoin:round;stroke:rgb(0%,0%,0%);stroke-opacity:1;stroke-miterlimit:10;\" d=\"M 89.398438 142.558594 L 227.398438 142.558594 \"/>\n",
       "<path style=\"fill:none;stroke-width:1;stroke-linecap:round;stroke-linejoin:round;stroke:rgb(0%,0%,0%);stroke-opacity:1;stroke-miterlimit:10;\" d=\"M 89.398438 142.558594 L 89.398438 149.761719 \"/>\n",
       "<path style=\"fill:none;stroke-width:1;stroke-linecap:round;stroke-linejoin:round;stroke:rgb(0%,0%,0%);stroke-opacity:1;stroke-miterlimit:10;\" d=\"M 135.398438 142.558594 L 135.398438 149.761719 \"/>\n",
       "<path style=\"fill:none;stroke-width:1;stroke-linecap:round;stroke-linejoin:round;stroke:rgb(0%,0%,0%);stroke-opacity:1;stroke-miterlimit:10;\" d=\"M 181.398438 142.558594 L 181.398438 149.761719 \"/>\n",
       "<path style=\"fill:none;stroke-width:1;stroke-linecap:round;stroke-linejoin:round;stroke:rgb(0%,0%,0%);stroke-opacity:1;stroke-miterlimit:10;\" d=\"M 227.398438 142.558594 L 227.398438 149.761719 \"/>\n",
       "<g style=\"fill:rgb(0%,0%,0%);fill-opacity:1;\">\n",
       "  <use xlink:href=\"#glyph1-4\" x=\"83.84375\" y=\"169.921875\"/>\n",
       "  <use xlink:href=\"#glyph1-5\" x=\"88.006271\" y=\"169.921875\"/>\n",
       "</g>\n",
       "<g style=\"fill:rgb(0%,0%,0%);fill-opacity:1;\">\n",
       "  <use xlink:href=\"#glyph1-6\" x=\"131.921875\" y=\"169.921875\"/>\n",
       "</g>\n",
       "<g style=\"fill:rgb(0%,0%,0%);fill-opacity:1;\">\n",
       "  <use xlink:href=\"#glyph1-5\" x=\"177.921875\" y=\"169.921875\"/>\n",
       "</g>\n",
       "<g style=\"fill:rgb(0%,0%,0%);fill-opacity:1;\">\n",
       "  <use xlink:href=\"#glyph1-7\" x=\"223.921875\" y=\"169.921875\"/>\n",
       "</g>\n",
       "<path style=\"fill:none;stroke-width:1;stroke-linecap:round;stroke-linejoin:round;stroke:rgb(0%,0%,0%);stroke-opacity:1;stroke-miterlimit:10;\" d=\"M 59.039062 139.464844 L 59.039062 63.464844 \"/>\n",
       "<path style=\"fill:none;stroke-width:1;stroke-linecap:round;stroke-linejoin:round;stroke:rgb(0%,0%,0%);stroke-opacity:1;stroke-miterlimit:10;\" d=\"M 59.039062 139.464844 L 51.839844 139.464844 \"/>\n",
       "<path style=\"fill:none;stroke-width:1;stroke-linecap:round;stroke-linejoin:round;stroke:rgb(0%,0%,0%);stroke-opacity:1;stroke-miterlimit:10;\" d=\"M 59.039062 120.464844 L 51.839844 120.464844 \"/>\n",
       "<path style=\"fill:none;stroke-width:1;stroke-linecap:round;stroke-linejoin:round;stroke:rgb(0%,0%,0%);stroke-opacity:1;stroke-miterlimit:10;\" d=\"M 59.039062 101.464844 L 51.839844 101.464844 \"/>\n",
       "<path style=\"fill:none;stroke-width:1;stroke-linecap:round;stroke-linejoin:round;stroke:rgb(0%,0%,0%);stroke-opacity:1;stroke-miterlimit:10;\" d=\"M 59.039062 82.464844 L 51.839844 82.464844 \"/>\n",
       "<path style=\"fill:none;stroke-width:1;stroke-linecap:round;stroke-linejoin:round;stroke:rgb(0%,0%,0%);stroke-opacity:1;stroke-miterlimit:10;\" d=\"M 59.039062 63.464844 L 51.839844 63.464844 \"/>\n",
       "<g style=\"fill:rgb(0%,0%,0%);fill-opacity:1;\">\n",
       "  <use xlink:href=\"#glyph2-9\" x=\"43.199219\" y=\"142.941406\"/>\n",
       "</g>\n",
       "<g style=\"fill:rgb(0%,0%,0%);fill-opacity:1;\">\n",
       "  <use xlink:href=\"#glyph2-10\" x=\"43.199219\" y=\"111.890625\"/>\n",
       "  <use xlink:href=\"#glyph2-9\" x=\"43.199219\" y=\"104.940598\"/>\n",
       "  <use xlink:href=\"#glyph2-9\" x=\"43.199219\" y=\"97.99057\"/>\n",
       "</g>\n",
       "<g style=\"fill:rgb(0%,0%,0%);fill-opacity:1;\">\n",
       "  <use xlink:href=\"#glyph2-11\" x=\"43.199219\" y=\"73.890625\"/>\n",
       "  <use xlink:href=\"#glyph2-9\" x=\"43.199219\" y=\"66.940598\"/>\n",
       "  <use xlink:href=\"#glyph2-9\" x=\"43.199219\" y=\"59.99057\"/>\n",
       "</g>\n",
       "<path style=\"fill-rule:nonzero;fill:rgb(40%,40%,40%);fill-opacity:1;stroke-width:1;stroke-linecap:round;stroke-linejoin:round;stroke:rgb(100%,100%,100%);stroke-opacity:1;stroke-miterlimit:10;\" d=\"M 66.398438 139.371094 L 71 139.371094 L 71 139.464844 L 66.398438 139.464844 Z M 66.398438 139.371094 \"/>\n",
       "<path style=\"fill-rule:nonzero;fill:rgb(40%,40%,40%);fill-opacity:1;stroke-width:1;stroke-linecap:round;stroke-linejoin:round;stroke:rgb(100%,100%,100%);stroke-opacity:1;stroke-miterlimit:10;\" d=\"M 71 139.371094 L 75.601562 139.371094 L 75.601562 139.464844 L 71 139.464844 Z M 71 139.371094 \"/>\n",
       "<path style=\"fill-rule:nonzero;fill:rgb(40%,40%,40%);fill-opacity:1;stroke-width:1;stroke-linecap:round;stroke-linejoin:round;stroke:rgb(100%,100%,100%);stroke-opacity:1;stroke-miterlimit:10;\" d=\"M 75.601562 139.277344 L 80.203125 139.277344 L 80.203125 139.46875 L 75.601562 139.46875 Z M 75.601562 139.277344 \"/>\n",
       "<path style=\"fill-rule:nonzero;fill:rgb(40%,40%,40%);fill-opacity:1;stroke-width:1;stroke-linecap:round;stroke-linejoin:round;stroke:rgb(100%,100%,100%);stroke-opacity:1;stroke-miterlimit:10;\" d=\"M 80.199219 139.277344 L 84.800781 139.277344 L 84.800781 139.46875 L 80.199219 139.46875 Z M 80.199219 139.277344 \"/>\n",
       "<path style=\"fill-rule:nonzero;fill:rgb(40%,40%,40%);fill-opacity:1;stroke-width:1;stroke-linecap:round;stroke-linejoin:round;stroke:rgb(100%,100%,100%);stroke-opacity:1;stroke-miterlimit:10;\" d=\"M 84.800781 138.992188 L 89.402344 138.992188 L 89.402344 139.46875 L 84.800781 139.46875 Z M 84.800781 138.992188 \"/>\n",
       "<path style=\"fill-rule:nonzero;fill:rgb(40%,40%,40%);fill-opacity:1;stroke-width:1;stroke-linecap:round;stroke-linejoin:round;stroke:rgb(100%,100%,100%);stroke-opacity:1;stroke-miterlimit:10;\" d=\"M 89.398438 138.613281 L 94 138.613281 L 94 139.46875 L 89.398438 139.46875 Z M 89.398438 138.613281 \"/>\n",
       "<path style=\"fill-rule:nonzero;fill:rgb(40%,40%,40%);fill-opacity:1;stroke-width:1;stroke-linecap:round;stroke-linejoin:round;stroke:rgb(100%,100%,100%);stroke-opacity:1;stroke-miterlimit:10;\" d=\"M 94 137.757812 L 98.601562 137.757812 L 98.601562 139.46875 L 94 139.46875 Z M 94 137.757812 \"/>\n",
       "<path style=\"fill-rule:nonzero;fill:rgb(40%,40%,40%);fill-opacity:1;stroke-width:1;stroke-linecap:round;stroke-linejoin:round;stroke:rgb(100%,100%,100%);stroke-opacity:1;stroke-miterlimit:10;\" d=\"M 98.601562 135.570312 L 103.203125 135.570312 L 103.203125 139.464844 L 98.601562 139.464844 Z M 98.601562 135.570312 \"/>\n",
       "<path style=\"fill-rule:nonzero;fill:rgb(40%,40%,40%);fill-opacity:1;stroke-width:1;stroke-linecap:round;stroke-linejoin:round;stroke:rgb(100%,100%,100%);stroke-opacity:1;stroke-miterlimit:10;\" d=\"M 103.199219 134.242188 L 107.800781 134.242188 L 107.800781 139.46875 L 103.199219 139.46875 Z M 103.199219 134.242188 \"/>\n",
       "<path style=\"fill-rule:nonzero;fill:rgb(40%,40%,40%);fill-opacity:1;stroke-width:1;stroke-linecap:round;stroke-linejoin:round;stroke:rgb(100%,100%,100%);stroke-opacity:1;stroke-miterlimit:10;\" d=\"M 107.800781 130.0625 L 112.402344 130.0625 L 112.402344 139.46875 L 107.800781 139.46875 Z M 107.800781 130.0625 \"/>\n",
       "<path style=\"fill-rule:nonzero;fill:rgb(40%,40%,40%);fill-opacity:1;stroke-width:1;stroke-linecap:round;stroke-linejoin:round;stroke:rgb(100%,100%,100%);stroke-opacity:1;stroke-miterlimit:10;\" d=\"M 112.398438 126.167969 L 117 126.167969 L 117 139.46875 L 112.398438 139.46875 Z M 112.398438 126.167969 \"/>\n",
       "<path style=\"fill-rule:nonzero;fill:rgb(40%,40%,40%);fill-opacity:1;stroke-width:1;stroke-linecap:round;stroke-linejoin:round;stroke:rgb(100%,100%,100%);stroke-opacity:1;stroke-miterlimit:10;\" d=\"M 117 119.992188 L 121.601562 119.992188 L 121.601562 139.46875 L 117 139.46875 Z M 117 119.992188 \"/>\n",
       "<path style=\"fill-rule:nonzero;fill:rgb(40%,40%,40%);fill-opacity:1;stroke-width:1;stroke-linecap:round;stroke-linejoin:round;stroke:rgb(100%,100%,100%);stroke-opacity:1;stroke-miterlimit:10;\" d=\"M 121.601562 114.859375 L 126.203125 114.859375 L 126.203125 139.464844 L 121.601562 139.464844 Z M 121.601562 114.859375 \"/>\n",
       "<path style=\"fill-rule:nonzero;fill:rgb(40%,40%,40%);fill-opacity:1;stroke-width:1;stroke-linecap:round;stroke-linejoin:round;stroke:rgb(100%,100%,100%);stroke-opacity:1;stroke-miterlimit:10;\" d=\"M 126.199219 108.496094 L 130.800781 108.496094 L 130.800781 139.46875 L 126.199219 139.46875 Z M 126.199219 108.496094 \"/>\n",
       "<path style=\"fill-rule:nonzero;fill:rgb(40%,40%,40%);fill-opacity:1;stroke-width:1;stroke-linecap:round;stroke-linejoin:round;stroke:rgb(100%,100%,100%);stroke-opacity:1;stroke-miterlimit:10;\" d=\"M 130.800781 96.808594 L 135.402344 96.808594 L 135.402344 139.464844 L 130.800781 139.464844 Z M 130.800781 96.808594 \"/>\n",
       "<path style=\"fill-rule:nonzero;fill:rgb(40%,40%,40%);fill-opacity:1;stroke-width:1;stroke-linecap:round;stroke-linejoin:round;stroke:rgb(100%,100%,100%);stroke-opacity:1;stroke-miterlimit:10;\" d=\"M 135.398438 86.453125 L 140 86.453125 L 140 139.464844 L 135.398438 139.464844 Z M 135.398438 86.453125 \"/>\n",
       "<path style=\"fill-rule:nonzero;fill:rgb(40%,40%,40%);fill-opacity:1;stroke-width:1;stroke-linecap:round;stroke-linejoin:round;stroke:rgb(100%,100%,100%);stroke-opacity:1;stroke-miterlimit:10;\" d=\"M 140 82.085938 L 144.601562 82.085938 L 144.601562 139.46875 L 140 139.46875 Z M 140 82.085938 \"/>\n",
       "<path style=\"fill-rule:nonzero;fill:rgb(40%,40%,40%);fill-opacity:1;stroke-width:1;stroke-linecap:round;stroke-linejoin:round;stroke:rgb(100%,100%,100%);stroke-opacity:1;stroke-miterlimit:10;\" d=\"M 144.601562 74.007812 L 149.203125 74.007812 L 149.203125 139.464844 L 144.601562 139.464844 Z M 144.601562 74.007812 \"/>\n",
       "<path style=\"fill-rule:nonzero;fill:rgb(40%,40%,40%);fill-opacity:1;stroke-width:1;stroke-linecap:round;stroke-linejoin:round;stroke:rgb(100%,100%,100%);stroke-opacity:1;stroke-miterlimit:10;\" d=\"M 149.199219 72.203125 L 153.800781 72.203125 L 153.800781 139.464844 L 149.199219 139.464844 Z M 149.199219 72.203125 \"/>\n",
       "<path style=\"fill-rule:nonzero;fill:rgb(40%,40%,40%);fill-opacity:1;stroke-width:1;stroke-linecap:round;stroke-linejoin:round;stroke:rgb(100%,100%,100%);stroke-opacity:1;stroke-miterlimit:10;\" d=\"M 153.800781 62.132812 L 158.402344 62.132812 L 158.402344 139.464844 L 153.800781 139.464844 Z M 153.800781 62.132812 \"/>\n",
       "<path style=\"fill-rule:nonzero;fill:rgb(40%,40%,40%);fill-opacity:1;stroke-width:1;stroke-linecap:round;stroke-linejoin:round;stroke:rgb(100%,100%,100%);stroke-opacity:1;stroke-miterlimit:10;\" d=\"M 158.398438 64.601562 L 163 64.601562 L 163 139.464844 L 158.398438 139.464844 Z M 158.398438 64.601562 \"/>\n",
       "<path style=\"fill-rule:nonzero;fill:rgb(40%,40%,40%);fill-opacity:1;stroke-width:1;stroke-linecap:round;stroke-linejoin:round;stroke:rgb(100%,100%,100%);stroke-opacity:1;stroke-miterlimit:10;\" d=\"M 163 63.464844 L 167.601562 63.464844 L 167.601562 139.46875 L 163 139.46875 Z M 163 63.464844 \"/>\n",
       "<path style=\"fill-rule:nonzero;fill:rgb(40%,40%,40%);fill-opacity:1;stroke-width:1;stroke-linecap:round;stroke-linejoin:round;stroke:rgb(100%,100%,100%);stroke-opacity:1;stroke-miterlimit:10;\" d=\"M 167.601562 72.203125 L 172.203125 72.203125 L 172.203125 139.464844 L 167.601562 139.464844 Z M 167.601562 72.203125 \"/>\n",
       "<path style=\"fill-rule:nonzero;fill:rgb(40%,40%,40%);fill-opacity:1;stroke-width:1;stroke-linecap:round;stroke-linejoin:round;stroke:rgb(100%,100%,100%);stroke-opacity:1;stroke-miterlimit:10;\" d=\"M 172.199219 80.660156 L 176.800781 80.660156 L 176.800781 139.46875 L 172.199219 139.46875 Z M 172.199219 80.660156 \"/>\n",
       "<path style=\"fill-rule:nonzero;fill:rgb(40%,40%,40%);fill-opacity:1;stroke-width:1;stroke-linecap:round;stroke-linejoin:round;stroke:rgb(100%,100%,100%);stroke-opacity:1;stroke-miterlimit:10;\" d=\"M 176.800781 91.015625 L 181.402344 91.015625 L 181.402344 139.46875 L 176.800781 139.46875 Z M 176.800781 91.015625 \"/>\n",
       "<path style=\"fill-rule:nonzero;fill:rgb(40%,40%,40%);fill-opacity:1;stroke-width:1;stroke-linecap:round;stroke-linejoin:round;stroke:rgb(100%,100%,100%);stroke-opacity:1;stroke-miterlimit:10;\" d=\"M 181.398438 96.523438 L 186 96.523438 L 186 139.464844 L 181.398438 139.464844 Z M 181.398438 96.523438 \"/>\n",
       "<path style=\"fill-rule:nonzero;fill:rgb(40%,40%,40%);fill-opacity:1;stroke-width:1;stroke-linecap:round;stroke-linejoin:round;stroke:rgb(100%,100%,100%);stroke-opacity:1;stroke-miterlimit:10;\" d=\"M 186 106.878906 L 190.601562 106.878906 L 190.601562 139.464844 L 186 139.464844 Z M 186 106.878906 \"/>\n",
       "<path style=\"fill-rule:nonzero;fill:rgb(40%,40%,40%);fill-opacity:1;stroke-width:1;stroke-linecap:round;stroke-linejoin:round;stroke:rgb(100%,100%,100%);stroke-opacity:1;stroke-miterlimit:10;\" d=\"M 190.601562 116.378906 L 195.203125 116.378906 L 195.203125 139.464844 L 190.601562 139.464844 Z M 190.601562 116.378906 \"/>\n",
       "<path style=\"fill-rule:nonzero;fill:rgb(40%,40%,40%);fill-opacity:1;stroke-width:1;stroke-linecap:round;stroke-linejoin:round;stroke:rgb(100%,100%,100%);stroke-opacity:1;stroke-miterlimit:10;\" d=\"M 195.199219 120.5625 L 199.800781 120.5625 L 199.800781 139.46875 L 195.199219 139.46875 Z M 195.199219 120.5625 \"/>\n",
       "<path style=\"fill-rule:nonzero;fill:rgb(40%,40%,40%);fill-opacity:1;stroke-width:1;stroke-linecap:round;stroke-linejoin:round;stroke:rgb(100%,100%,100%);stroke-opacity:1;stroke-miterlimit:10;\" d=\"M 199.800781 128.066406 L 204.402344 128.066406 L 204.402344 139.46875 L 199.800781 139.46875 Z M 199.800781 128.066406 \"/>\n",
       "<path style=\"fill-rule:nonzero;fill:rgb(40%,40%,40%);fill-opacity:1;stroke-width:1;stroke-linecap:round;stroke-linejoin:round;stroke:rgb(100%,100%,100%);stroke-opacity:1;stroke-miterlimit:10;\" d=\"M 204.398438 129.394531 L 209 129.394531 L 209 139.464844 L 204.398438 139.464844 Z M 204.398438 129.394531 \"/>\n",
       "<path style=\"fill-rule:nonzero;fill:rgb(40%,40%,40%);fill-opacity:1;stroke-width:1;stroke-linecap:round;stroke-linejoin:round;stroke:rgb(100%,100%,100%);stroke-opacity:1;stroke-miterlimit:10;\" d=\"M 209 133.480469 L 213.601562 133.480469 L 213.601562 139.464844 L 209 139.464844 Z M 209 133.480469 \"/>\n",
       "<path style=\"fill-rule:nonzero;fill:rgb(40%,40%,40%);fill-opacity:1;stroke-width:1;stroke-linecap:round;stroke-linejoin:round;stroke:rgb(100%,100%,100%);stroke-opacity:1;stroke-miterlimit:10;\" d=\"M 213.601562 137.1875 L 218.203125 137.1875 L 218.203125 139.46875 L 213.601562 139.46875 Z M 213.601562 137.1875 \"/>\n",
       "<path style=\"fill-rule:nonzero;fill:rgb(40%,40%,40%);fill-opacity:1;stroke-width:1;stroke-linecap:round;stroke-linejoin:round;stroke:rgb(100%,100%,100%);stroke-opacity:1;stroke-miterlimit:10;\" d=\"M 218.199219 137.566406 L 222.800781 137.566406 L 222.800781 139.464844 L 218.199219 139.464844 Z M 218.199219 137.566406 \"/>\n",
       "<path style=\"fill-rule:nonzero;fill:rgb(40%,40%,40%);fill-opacity:1;stroke-width:1;stroke-linecap:round;stroke-linejoin:round;stroke:rgb(100%,100%,100%);stroke-opacity:1;stroke-miterlimit:10;\" d=\"M 222.800781 138.800781 L 227.402344 138.800781 L 227.402344 139.464844 L 222.800781 139.464844 Z M 222.800781 138.800781 \"/>\n",
       "<path style=\"fill-rule:nonzero;fill:rgb(40%,40%,40%);fill-opacity:1;stroke-width:1;stroke-linecap:round;stroke-linejoin:round;stroke:rgb(100%,100%,100%);stroke-opacity:1;stroke-miterlimit:10;\" d=\"M 227.398438 138.898438 L 232 138.898438 L 232 139.46875 L 227.398438 139.46875 Z M 227.398438 138.898438 \"/>\n",
       "<path style=\"fill-rule:nonzero;fill:rgb(40%,40%,40%);fill-opacity:1;stroke-width:1;stroke-linecap:round;stroke-linejoin:round;stroke:rgb(100%,100%,100%);stroke-opacity:1;stroke-miterlimit:10;\" d=\"M 232 139.371094 L 236.601562 139.371094 L 236.601562 139.464844 L 232 139.464844 Z M 232 139.371094 \"/>\n",
       "<path style=\"fill-rule:nonzero;fill:rgb(40%,40%,40%);fill-opacity:1;stroke-width:1;stroke-linecap:round;stroke-linejoin:round;stroke:rgb(100%,100%,100%);stroke-opacity:1;stroke-miterlimit:10;\" d=\"M 236.601562 139.277344 L 241.203125 139.277344 L 241.203125 139.46875 L 236.601562 139.46875 Z M 236.601562 139.277344 \"/>\n",
       "<path style=\"fill-rule:nonzero;fill:rgb(40%,40%,40%);fill-opacity:1;stroke-width:1;stroke-linecap:round;stroke-linejoin:round;stroke:rgb(100%,100%,100%);stroke-opacity:1;stroke-miterlimit:10;\" d=\"M 241.199219 139.277344 L 245.800781 139.277344 L 245.800781 139.46875 L 241.199219 139.46875 Z M 241.199219 139.277344 \"/>\n",
       "<path style=\"fill-rule:nonzero;fill:rgb(40%,40%,40%);fill-opacity:1;stroke-width:1;stroke-linecap:round;stroke-linejoin:round;stroke:rgb(100%,100%,100%);stroke-opacity:1;stroke-miterlimit:10;\" d=\"M 245.800781 139.277344 L 250.402344 139.277344 L 250.402344 139.46875 L 245.800781 139.46875 Z M 245.800781 139.277344 \"/>\n",
       "<g clip-path=\"url(#clip1)\" clip-rule=\"nonzero\">\n",
       "<path style=\"fill:none;stroke-width:1;stroke-linecap:round;stroke-linejoin:round;stroke:rgb(100%,0%,0%);stroke-opacity:1;stroke-miterlimit:10;\" d=\"M 158.265625 142.558594 L 158.265625 59.039062 \"/>\n",
       "<path style=\"fill:none;stroke-width:1;stroke-linecap:round;stroke-linejoin:round;stroke:rgb(0%,100%,0%);stroke-opacity:1;stroke-miterlimit:10;\" d=\"M 158.484375 142.558594 L 158.484375 59.039062 \"/>\n",
       "</g>\n",
       "<g clip-path=\"url(#clip2)\" clip-rule=\"nonzero\">\n",
       "<path style=\"fill:none;stroke-width:1;stroke-linecap:round;stroke-linejoin:round;stroke:rgb(0%,0%,100%);stroke-opacity:1;stroke-miterlimit:10;\" d=\"M 69.292969 142.558594 L 69.292969 59.039062 \"/>\n",
       "</g>\n",
       "<g clip-path=\"url(#clip3)\" clip-rule=\"nonzero\">\n",
       "<path style=\"fill:none;stroke-width:1;stroke-linecap:round;stroke-linejoin:round;stroke:rgb(0%,0%,100%);stroke-opacity:1;stroke-miterlimit:10;\" d=\"M 246.964844 142.558594 L 246.964844 59.039062 \"/>\n",
       "</g>\n",
       "<g clip-path=\"url(#clip4)\" clip-rule=\"nonzero\">\n",
       "<path style=\"fill:none;stroke-width:1;stroke-linecap:round;stroke-linejoin:round;stroke:rgb(0%,0%,0%);stroke-opacity:1;stroke-miterlimit:10;\" d=\"M 181.269531 142.558594 L 181.269531 59.039062 \"/>\n",
       "</g>\n",
       "<g clip-path=\"url(#clip5)\" clip-rule=\"nonzero\">\n",
       "<path style=\"fill:none;stroke-width:1;stroke-linecap:round;stroke-linejoin:round;stroke:rgb(0%,0%,0%);stroke-opacity:1;stroke-miterlimit:10;\" d=\"M 135.261719 142.558594 L 135.261719 59.039062 \"/>\n",
       "</g>\n",
       "</g>\n",
       "</svg>\n"
      ]
     },
     "metadata": {
      "image/svg+xml": {
       "isolated": true
      }
     },
     "output_type": "display_data"
    }
   ],
   "source": [
    "# add your code here (10000 ) ...\n",
    "data <- rnorm(10000,1,1)\n",
    "hist(data, 50, col=\"#666666\", border=\"white\")\n",
    "dmean <- mean(data)\n",
    "abline(v=dmean,col=\"red\")\n",
    "dmedian <- median(data)\n",
    "abline(v=dmedian,col=\"green\")\n",
    "dmin <- min(data)\n",
    "abline(v=dmin,col=\"blue\")\n",
    "dmax <- max(data)\n",
    "abline(v=dmax,col=\"blue\")\n",
    "dsd <- sd(data)\n",
    "abline(v=dmean+dsd)\n",
    "abline(v=dmean-dsd)\n",
    "min(data)\n",
    "max(data)"
   ]
  },
  {
   "cell_type": "markdown",
   "metadata": {},
   "source": [
    "#### Question: Are minimum and maximum good descriptors of this data set?"
   ]
  },
  {
   "cell_type": "markdown",
   "metadata": {},
   "source": [
    "No they are not."
   ]
  },
  {
   "cell_type": "markdown",
   "metadata": {},
   "source": [
    "## Exercise 4"
   ]
  },
  {
   "cell_type": "markdown",
   "metadata": {},
   "source": [
    "Apply the same analysis on `data <- rlnorm(5000)`"
   ]
  },
  {
   "cell_type": "code",
   "execution_count": 9,
   "metadata": {},
   "outputs": [
    {
     "data": {
      "text/html": [
       "0.0221073997799019"
      ],
      "text/latex": [
       "0.0221073997799019"
      ],
      "text/markdown": [
       "0.0221073997799019"
      ],
      "text/plain": [
       "[1] 0.0221074"
      ]
     },
     "metadata": {},
     "output_type": "display_data"
    },
    {
     "data": {
      "text/html": [
       "46.2884296692672"
      ],
      "text/latex": [
       "46.2884296692672"
      ],
      "text/markdown": [
       "46.2884296692672"
      ],
      "text/plain": [
       "[1] 46.28843"
      ]
     },
     "metadata": {},
     "output_type": "display_data"
    },
    {
     "data": {
      "image/jpeg": "[encoded data removed]",
      "image/png": "",
      "image/svg+xml": [
       "<?xml version=\"1.0\" encoding=\"UTF-8\"?>\n",
       "<svg xmlns=\"http://www.w3.org/2000/svg\" xmlns:xlink=\"http://www.w3.org/1999/xlink\" width=\"288pt\" height=\"216pt\" viewBox=\"0 0 288 216\" version=\"1.1\">\n",
       "<defs>\n",
       "<g>\n",
       "<symbol overflow=\"visible\" id=\"glyph0-0\">\n",
       "<path style=\"stroke:none;\" d=\"\"/>\n",
       "</symbol>\n",
       "<symbol overflow=\"visible\" id=\"glyph0-1\">\n",
       "<path style=\"stroke:none;\" d=\"M 9.84375 -0.140625 L 9.84375 -11.140625 L 7.5 -11.140625 L 7.5 -7.0625 L 3.296875 -7.0625 L 3.296875 -11.140625 L 0.953125 -11.140625 L 0.953125 0 L 3.296875 0 L 3.296875 -4.9375 L 7.5 -4.9375 L 7.5 0 L 9.84375 0 Z M 9.84375 -0.140625 \"/>\n",
       "</symbol>\n",
       "<symbol overflow=\"visible\" id=\"glyph0-2\">\n",
       "<path style=\"stroke:none;\" d=\"M 3.125 -0.140625 L 3.125 -8.3125 L 0.9375 -8.3125 L 0.9375 0 L 3.125 0 Z M 3.15625 -9.15625 L 3.15625 -11.375 L 0.96875 -11.375 L 0.96875 -9.015625 L 3.15625 -9.015625 Z M 3.15625 -9.15625 \"/>\n",
       "</symbol>\n",
       "<symbol overflow=\"visible\" id=\"glyph0-3\">\n",
       "<path style=\"stroke:none;\" d=\"M 7.796875 -2.515625 L 7.796875 -2.625 C 7.796875 -3.546875 7.234375 -4.375 6.171875 -4.6875 L 3.53125 -5.4375 C 2.953125 -5.609375 2.84375 -5.609375 2.84375 -5.9375 C 2.84375 -6.375 3.28125 -6.546875 4.015625 -6.546875 C 5.015625 -6.546875 5.4375 -6.3125 5.453125 -5.453125 L 7.578125 -5.453125 C 7.546875 -7.296875 6.1875 -8.453125 4.03125 -8.453125 C 1.984375 -8.453125 0.65625 -7.296875 0.65625 -5.640625 C 0.65625 -4.65625 0.984375 -3.984375 2.46875 -3.515625 L 4.96875 -2.75 C 5.484375 -2.578125 5.609375 -2.546875 5.609375 -2.328125 C 5.609375 -1.828125 5.078125 -1.78125 4.109375 -1.78125 C 3.15625 -1.78125 2.703125 -1.8125 2.484375 -2.8125 L 0.375 -2.8125 C 0.4375 -0.921875 1.78125 0.140625 4.234375 0.140625 C 6.5 0.140625 7.796875 -0.890625 7.796875 -2.515625 Z M 7.796875 -2.515625 \"/>\n",
       "</symbol>\n",
       "<symbol overflow=\"visible\" id=\"glyph0-4\">\n",
       "<path style=\"stroke:none;\" d=\"M 4.53125 -0.140625 L 4.53125 -1.734375 C 4.28125 -1.703125 4.15625 -1.6875 4.015625 -1.6875 C 3.453125 -1.6875 3.375 -1.71875 3.375 -2.4375 L 3.375 -6.5 L 4.53125 -6.5 L 4.53125 -8.15625 L 3.375 -8.15625 L 3.375 -10.3125 L 1.171875 -10.3125 L 1.171875 -8.15625 L 0.15625 -8.15625 L 0.15625 -6.5 L 1.171875 -6.5 L 1.171875 -1.859375 C 1.171875 -0.59375 1.90625 0.0625 3.28125 0.0625 C 3.734375 0.0625 4.109375 0.015625 4.53125 0 Z M 4.53125 -0.140625 \"/>\n",
       "</symbol>\n",
       "<symbol overflow=\"visible\" id=\"glyph0-5\">\n",
       "<path style=\"stroke:none;\" d=\"M 8.53125 -4.09375 C 8.53125 -6.828125 7 -8.453125 4.484375 -8.453125 C 2.03125 -8.453125 0.46875 -6.796875 0.46875 -4.15625 C 0.46875 -1.5 2.03125 0.140625 4.5 0.140625 C 6.953125 0.140625 8.53125 -1.515625 8.53125 -4.09375 Z M 6.328125 -4.125 C 6.328125 -2.625 5.625 -1.8125 4.5 -1.8125 C 3.375 -1.8125 2.65625 -2.625 2.65625 -4.15625 C 2.65625 -5.6875 3.375 -6.5 4.5 -6.5 C 5.65625 -6.5 6.328125 -5.703125 6.328125 -4.125 Z M 6.328125 -4.125 \"/>\n",
       "</symbol>\n",
       "<symbol overflow=\"visible\" id=\"glyph0-6\">\n",
       "<path style=\"stroke:none;\" d=\"M 8.109375 0.140625 L 8.109375 -8.3125 L 6.015625 -8.3125 L 6.015625 -7.15625 C 5.484375 -7.984375 4.765625 -8.453125 3.84375 -8.453125 C 1.9375 -8.453125 0.453125 -6.5625 0.453125 -4.0625 C 0.453125 -1.5625 1.8125 0.140625 3.796875 0.140625 C 4.734375 0.140625 5.34375 -0.171875 6.015625 -0.875 L 6.015625 0.140625 C 6.015625 1.109375 5.34375 1.640625 4.3125 1.640625 C 3.515625 1.640625 3.046875 1.453125 2.828125 0.703125 L 0.609375 0.703125 C 0.640625 2.140625 2.03125 3.25 4.234375 3.25 C 6.65625 3.25 8.109375 2.03125 8.109375 0.140625 Z M 6.046875 -4.09375 C 6.046875 -2.640625 5.34375 -1.875 4.265625 -1.875 C 3.28125 -1.875 2.640625 -2.640625 2.640625 -4.09375 C 2.640625 -5.625 3.28125 -6.4375 4.296875 -6.4375 C 5.34375 -6.4375 6.046875 -5.59375 6.046875 -4.09375 Z M 6.046875 -4.09375 \"/>\n",
       "</symbol>\n",
       "<symbol overflow=\"visible\" id=\"glyph0-7\">\n",
       "<path style=\"stroke:none;\" d=\"M 5.5625 -6.1875 L 5.5625 -8.421875 C 5.390625 -8.453125 5.328125 -8.453125 5.265625 -8.453125 C 4.3125 -8.453125 3.40625 -7.6875 3.078125 -6.828125 L 3.078125 -8.3125 L 0.875 -8.3125 L 0.875 0 L 3.078125 0 L 3.078125 -4.40625 C 3.078125 -5.640625 3.640625 -6.109375 4.859375 -6.109375 C 5.078125 -6.109375 5.234375 -6.09375 5.5625 -6.03125 Z M 5.5625 -6.1875 \"/>\n",
       "</symbol>\n",
       "<symbol overflow=\"visible\" id=\"glyph0-8\">\n",
       "<path style=\"stroke:none;\" d=\"M 7.859375 -0.140625 L 7.859375 -0.46875 C 7.46875 -0.8125 7.375 -0.953125 7.375 -1.375 L 7.375 -5.84375 C 7.375 -7.484375 6.21875 -8.453125 4.046875 -8.453125 C 1.859375 -8.453125 0.671875 -7.390625 0.53125 -5.390625 L 2.640625 -5.390625 C 2.75 -6.359375 3.0625 -6.5 4.078125 -6.5 C 4.890625 -6.5 5.234375 -6.359375 5.234375 -5.828125 C 5.234375 -4.984375 4.671875 -5.203125 3.625 -5.015625 L 2.78125 -4.875 C 1.1875 -4.59375 0.359375 -3.765625 0.359375 -2.3125 C 0.359375 -0.75 1.515625 0.140625 2.859375 0.140625 C 3.75 0.140625 4.609375 -0.28125 5.25 -0.96875 C 5.25 -0.734375 5.3125 -0.265625 5.53125 0 L 7.859375 0 Z M 5.234375 -3.578125 C 5.234375 -2.375 4.703125 -1.8125 3.640625 -1.8125 C 2.9375 -1.8125 2.546875 -1.953125 2.546875 -2.546875 C 2.546875 -3.15625 2.828125 -3.25 3.703125 -3.40625 L 4.40625 -3.546875 C 4.96875 -3.65625 5.078125 -3.71875 5.234375 -3.796875 Z M 5.234375 -3.578125 \"/>\n",
       "</symbol>\n",
       "<symbol overflow=\"visible\" id=\"glyph0-9\">\n",
       "<path style=\"stroke:none;\" d=\"M 12.328125 -0.140625 L 12.328125 -5.828125 C 12.328125 -7.390625 11.328125 -8.453125 9.71875 -8.453125 C 8.703125 -8.453125 7.9375 -8.046875 7.359375 -7.28125 C 7 -7.96875 6.171875 -8.453125 5.171875 -8.453125 C 4.25 -8.453125 3.609375 -8.09375 3.015625 -7.375 L 3.015625 -8.3125 L 0.828125 -8.3125 L 0.828125 0 L 3.03125 0 L 3.03125 -4.96875 C 3.03125 -5.953125 3.515625 -6.40625 4.40625 -6.40625 C 5.109375 -6.40625 5.484375 -6.140625 5.484375 -5.5 L 5.484375 0 L 7.671875 0 L 7.671875 -4.96875 C 7.671875 -5.953125 8.171875 -6.40625 9.0625 -6.40625 C 9.765625 -6.40625 10.140625 -6.140625 10.140625 -5.5 L 10.140625 0 L 12.328125 0 Z M 12.328125 -0.140625 \"/>\n",
       "</symbol>\n",
       "<symbol overflow=\"visible\" id=\"glyph0-10\">\n",
       "<path style=\"stroke:none;\" d=\"\"/>\n",
       "</symbol>\n",
       "<symbol overflow=\"visible\" id=\"glyph0-11\">\n",
       "<path style=\"stroke:none;\" d=\"M 4.703125 -6.640625 L 4.703125 -8.15625 L 3.46875 -8.15625 L 3.46875 -8.8125 C 3.46875 -9.234375 3.609375 -9.296875 4 -9.296875 C 4.171875 -9.296875 4.40625 -9.28125 4.640625 -9.234375 L 4.640625 -11.09375 C 4.203125 -11.125 3.6875 -11.140625 3.40625 -11.140625 C 2.015625 -11.140625 1.28125 -10.34375 1.28125 -8.984375 L 1.28125 -8.15625 L 0.15625 -8.15625 L 0.15625 -6.5 L 1.28125 -6.5 L 1.28125 0 L 3.46875 0 L 3.46875 -6.5 L 4.703125 -6.5 Z M 4.703125 -6.640625 \"/>\n",
       "</symbol>\n",
       "<symbol overflow=\"visible\" id=\"glyph0-12\">\n",
       "<path style=\"stroke:none;\" d=\"M 8.171875 -0.140625 L 8.171875 -11.140625 L 5.984375 -11.140625 L 5.984375 -7.34375 C 5.546875 -8.03125 4.8125 -8.453125 3.8125 -8.453125 C 1.890625 -8.453125 0.375 -6.578125 0.375 -4.140625 C 0.375 -1.859375 1.6875 0.140625 3.8125 0.140625 C 4.8125 0.140625 5.546875 -0.265625 5.984375 -0.84375 L 5.984375 0 L 8.171875 0 Z M 5.984375 -4.109375 C 5.984375 -2.65625 5.328125 -1.875 4.28125 -1.875 C 3.234375 -1.875 2.5625 -2.671875 2.5625 -4.140625 C 2.5625 -5.640625 3.234375 -6.4375 4.28125 -6.4375 C 5.34375 -6.4375 5.984375 -5.65625 5.984375 -4.109375 Z M 5.984375 -4.109375 \"/>\n",
       "</symbol>\n",
       "<symbol overflow=\"visible\" id=\"glyph1-0\">\n",
       "<path style=\"stroke:none;\" d=\"\"/>\n",
       "</symbol>\n",
       "<symbol overflow=\"visible\" id=\"glyph1-1\">\n",
       "<path style=\"stroke:none;\" d=\"M 6.3125 -0.125 L 6.3125 -9.375 L 5.015625 -9.375 L 5.015625 -5.84375 L 5.234375 -5.9375 C 4.796875 -6.59375 4.015625 -7 3.140625 -7 C 1.4375 -7 0.1875 -5.546875 0.1875 -3.46875 C 0.1875 -1.25 1.40625 0.1875 3.171875 0.1875 C 4.078125 0.1875 4.78125 -0.1875 5.34375 -1 L 5.125 -1.09375 L 5.125 0 L 6.3125 0 Z M 5.015625 -3.375 C 5.015625 -1.859375 4.421875 -1.046875 3.328125 -1.046875 C 2.171875 -1.046875 1.53125 -1.875 1.53125 -3.40625 C 1.53125 -4.921875 2.171875 -5.765625 3.3125 -5.765625 C 4.4375 -5.765625 5.015625 -4.890625 5.015625 -3.375 Z M 5.015625 -3.375 \"/>\n",
       "</symbol>\n",
       "<symbol overflow=\"visible\" id=\"glyph1-2\">\n",
       "<path style=\"stroke:none;\" d=\"M 6.8125 -0.15625 L 6.8125 -1.09375 C 6.578125 -1.046875 6.53125 -1.046875 6.46875 -1.046875 C 6.09375 -1.046875 6.03125 -1.09375 6.03125 -1.421875 L 6.03125 -5.078125 C 6.03125 -6.234375 5.046875 -7 3.4375 -7 C 1.84375 -7 0.734375 -6.25 0.65625 -4.609375 L 1.96875 -4.609375 C 2.078125 -5.53125 2.421875 -5.78125 3.40625 -5.78125 C 4.34375 -5.78125 4.71875 -5.546875 4.71875 -4.921875 L 4.71875 -4.65625 C 4.71875 -4.21875 4.59375 -4.15625 3.78125 -4.0625 C 2.296875 -3.875 2.078125 -3.828125 1.671875 -3.65625 C 0.90625 -3.34375 0.390625 -2.625 0.390625 -1.828125 C 0.390625 -0.640625 1.34375 0.1875 2.671875 0.1875 C 3.515625 0.1875 4.40625 -0.203125 4.828125 -0.640625 C 4.875 -0.40625 5.46875 0.09375 5.96875 0.09375 C 6.1875 0.09375 6.34375 0.0625 6.8125 -0.046875 Z M 4.71875 -2.390625 C 4.71875 -1.453125 3.90625 -0.984375 2.90625 -0.984375 C 2.09375 -0.984375 1.734375 -1.140625 1.734375 -1.84375 C 1.734375 -2.53125 2.078125 -2.71875 3.1875 -2.875 C 4.28125 -3.03125 4.515625 -3.078125 4.71875 -3.171875 Z M 4.71875 -2.390625 \"/>\n",
       "</symbol>\n",
       "<symbol overflow=\"visible\" id=\"glyph1-3\">\n",
       "<path style=\"stroke:none;\" d=\"M 3.296875 -0.125 L 3.296875 -1.171875 C 3.03125 -1.09375 2.875 -1.09375 2.671875 -1.09375 C 2.21875 -1.09375 2.21875 -1.078125 2.21875 -1.53125 L 2.21875 -5.703125 L 3.296875 -5.703125 L 3.296875 -6.8125 L 2.21875 -6.8125 L 2.21875 -8.609375 L 0.921875 -8.609375 L 0.921875 -6.8125 L 0.03125 -6.8125 L 0.03125 -5.703125 L 0.921875 -5.703125 L 0.921875 -1.078125 C 0.921875 -0.40625 1.515625 0.09375 2.328125 0.09375 C 2.578125 0.09375 2.828125 0.0625 3.296875 -0.015625 Z M 3.296875 -0.125 \"/>\n",
       "</symbol>\n",
       "<symbol overflow=\"visible\" id=\"glyph1-4\">\n",
       "<path style=\"stroke:none;\" d=\"M 6.46875 -4.390625 C 6.46875 -7.46875 5.359375 -9.125 3.4375 -9.125 C 1.53125 -9.125 0.40625 -7.4375 0.40625 -4.46875 C 0.40625 -1.46875 1.53125 0.1875 3.4375 0.1875 C 5.3125 0.1875 6.46875 -1.46875 6.46875 -4.390625 Z M 5.078125 -4.484375 C 5.078125 -1.96875 4.640625 -0.984375 3.40625 -0.984375 C 2.25 -0.984375 1.78125 -2.03125 1.78125 -4.453125 C 1.78125 -6.875 2.25 -7.890625 3.4375 -7.890625 C 4.625 -7.890625 5.078125 -6.859375 5.078125 -4.484375 Z M 5.078125 -4.484375 \"/>\n",
       "</symbol>\n",
       "<symbol overflow=\"visible\" id=\"glyph1-5\">\n",
       "<path style=\"stroke:none;\" d=\"M 4.46875 -0.125 L 4.46875 -9.125 L 3.515625 -9.125 C 3.09375 -7.625 2.96875 -7.578125 1.140625 -7.34375 L 1.140625 -6.3125 L 3.09375 -6.3125 L 3.09375 0 L 4.46875 0 Z M 4.46875 -0.125 \"/>\n",
       "</symbol>\n",
       "<symbol overflow=\"visible\" id=\"glyph1-6\">\n",
       "<path style=\"stroke:none;\" d=\"M 6.515625 -6.390625 C 6.515625 -7.890625 5.21875 -9.125 3.546875 -9.125 C 1.734375 -9.125 0.546875 -8.0625 0.484375 -5.78125 L 1.84375 -5.78125 C 1.9375 -7.40625 2.421875 -7.90625 3.515625 -7.90625 C 4.515625 -7.90625 5.125 -7.3125 5.125 -6.359375 C 5.125 -5.65625 4.75 -5.15625 3.96875 -4.703125 L 2.8125 -4.046875 C 0.96875 -3 0.390625 -2.078125 0.28125 0 L 6.453125 0 L 6.453125 -1.34375 L 1.8125 -1.34375 C 1.90625 -1.9375 2.265625 -2.3125 3.34375 -2.953125 L 4.59375 -3.625 C 5.84375 -4.28125 6.515625 -5.296875 6.515625 -6.390625 Z M 6.515625 -6.390625 \"/>\n",
       "</symbol>\n",
       "<symbol overflow=\"visible\" id=\"glyph1-7\">\n",
       "<path style=\"stroke:none;\" d=\"M 6.453125 -2.703125 C 6.453125 -3.78125 5.890625 -4.53125 4.828125 -4.90625 L 4.828125 -4.640625 C 5.65625 -4.96875 6.1875 -5.65625 6.1875 -6.546875 C 6.1875 -8.078125 5.046875 -9.125 3.359375 -9.125 C 1.578125 -9.125 0.484375 -8.015625 0.453125 -6 L 1.8125 -6 C 1.84375 -7.4375 2.25 -7.90625 3.375 -7.90625 C 4.34375 -7.90625 4.796875 -7.453125 4.796875 -6.515625 C 4.796875 -5.5625 4.53125 -5.3125 2.625 -5.3125 L 2.625 -4.125 L 3.359375 -4.125 C 4.578125 -4.125 5.0625 -3.671875 5.0625 -2.6875 C 5.0625 -1.578125 4.515625 -1.046875 3.359375 -1.046875 C 2.15625 -1.046875 1.703125 -1.515625 1.609375 -2.9375 L 0.25 -2.9375 C 0.40625 -0.828125 1.515625 0.1875 3.328125 0.1875 C 5.15625 0.1875 6.453125 -1.03125 6.453125 -2.703125 Z M 6.453125 -2.703125 \"/>\n",
       "</symbol>\n",
       "<symbol overflow=\"visible\" id=\"glyph1-8\">\n",
       "<path style=\"stroke:none;\" d=\"M 6.625 -2.25 L 6.625 -3.375 L 5.3125 -3.375 L 5.3125 -9.125 L 4.296875 -9.125 L 0.21875 -3.453125 L 0.21875 -2.125 L 3.953125 -2.125 L 3.953125 0 L 5.3125 0 L 5.3125 -2.125 L 6.625 -2.125 Z M 4.09375 -3.375 L 1.5625 -3.375 L 4.171875 -7.03125 L 3.953125 -7.109375 L 3.953125 -3.375 Z M 4.09375 -3.375 \"/>\n",
       "</symbol>\n",
       "<symbol overflow=\"visible\" id=\"glyph2-0\">\n",
       "<path style=\"stroke:none;\" d=\"\"/>\n",
       "</symbol>\n",
       "<symbol overflow=\"visible\" id=\"glyph2-1\">\n",
       "<path style=\"stroke:none;\" d=\"M -8.21875 -7.359375 L -9.375 -7.359375 L -9.375 -0.984375 L 0 -0.984375 L 0 -2.40625 L -4.15625 -2.40625 L -4.15625 -6.765625 L -5.4375 -6.765625 L -5.4375 -2.40625 L -8.09375 -2.40625 L -8.09375 -7.359375 Z M -8.21875 -7.359375 \"/>\n",
       "</symbol>\n",
       "<symbol overflow=\"visible\" id=\"glyph2-2\">\n",
       "<path style=\"stroke:none;\" d=\"M -5.765625 -4.140625 L -6.9375 -4.140625 C -6.984375 -3.84375 -7 -3.75 -7 -3.609375 C -7 -2.9375 -6.546875 -2.328125 -5.578125 -1.71875 L -5.484375 -1.953125 L -6.8125 -1.953125 L -6.8125 -0.734375 L 0 -0.734375 L 0 -2.03125 L -3.53125 -2.03125 C -5 -2.03125 -5.609375 -2.40625 -5.640625 -4.140625 Z M -5.765625 -4.140625 \"/>\n",
       "</symbol>\n",
       "<symbol overflow=\"visible\" id=\"glyph2-3\">\n",
       "<path style=\"stroke:none;\" d=\"M -3.09375 -6.53125 C -4.046875 -6.53125 -4.65625 -6.46875 -5.140625 -6.28125 C -6.21875 -5.84375 -7 -4.71875 -7 -3.5 C -7 -1.671875 -5.515625 -0.359375 -3.359375 -0.359375 C -1.21875 -0.359375 0.1875 -1.640625 0.1875 -3.46875 C 0.1875 -4.96875 -0.78125 -6.140625 -2.25 -6.421875 L -2.25 -5.125 C -1.25 -4.796875 -1.03125 -4.34375 -1.03125 -3.515625 C -1.03125 -2.421875 -1.59375 -1.734375 -2.96875 -1.71875 L -2.96875 -6.53125 Z M -3.9375 -5.390625 C -3.9375 -5.390625 -4.0625 -5.203125 -4.09375 -5.21875 L -4.09375 -1.75 C -5.109375 -1.828125 -5.78125 -2.4375 -5.78125 -3.484375 C -5.78125 -4.515625 -5.046875 -5.15625 -4.03125 -5.15625 Z M -3.9375 -5.390625 \"/>\n",
       "</symbol>\n",
       "<symbol overflow=\"visible\" id=\"glyph2-4\">\n",
       "<path style=\"stroke:none;\" d=\"M 2.59375 -6.3125 L -6.8125 -6.3125 L -6.8125 -5.125 L -5.796875 -5.125 L -5.890625 -5.34375 C -6.578125 -4.859375 -7 -4.03125 -7 -3.171875 C -7 -1.453125 -5.5 -0.1875 -3.328125 -0.1875 C -1.203125 -0.1875 0.1875 -1.40625 0.1875 -3.125 C 0.1875 -4.03125 -0.171875 -4.75 -0.890625 -5.234375 L -0.96875 -5.015625 L 2.71875 -5.015625 L 2.71875 -6.3125 Z M -3.359375 -5.015625 C -1.859375 -5.015625 -1.046875 -4.421875 -1.046875 -3.328125 C -1.046875 -2.171875 -1.875 -1.53125 -3.40625 -1.53125 C -4.90625 -1.53125 -5.765625 -2.171875 -5.765625 -3.328125 C -5.765625 -4.4375 -4.890625 -5.015625 -3.359375 -5.015625 Z M -3.359375 -5.015625 \"/>\n",
       "</symbol>\n",
       "<symbol overflow=\"visible\" id=\"glyph2-5\">\n",
       "<path style=\"stroke:none;\" d=\"M -0.125 -6.15625 L -6.8125 -6.15625 L -6.8125 -4.84375 L -3.0625 -4.84375 C -1.71875 -4.84375 -0.984375 -4.28125 -0.984375 -3.203125 C -0.984375 -2.375 -1.34375 -1.96875 -2.140625 -1.96875 L -6.8125 -1.96875 L -6.8125 -0.671875 L -1.71875 -0.671875 C -0.640625 -0.671875 0.1875 -1.625 0.1875 -2.90625 C 0.1875 -3.859375 -0.1875 -4.5625 -1.046875 -5.171875 L -1.140625 -4.953125 L 0 -4.953125 L 0 -6.15625 Z M -0.125 -6.15625 \"/>\n",
       "</symbol>\n",
       "<symbol overflow=\"visible\" id=\"glyph2-6\">\n",
       "<path style=\"stroke:none;\" d=\"M -0.125 -6.21875 L -5.078125 -6.21875 C -6.15625 -6.21875 -7 -5.28125 -7 -4.015625 C -7 -3.03125 -6.578125 -2.3125 -5.65625 -1.734375 L -5.578125 -1.96875 L -6.8125 -1.96875 L -6.8125 -0.734375 L 0 -0.734375 L 0 -2.03125 L -3.734375 -2.03125 C -5.078125 -2.03125 -5.828125 -2.640625 -5.828125 -3.703125 C -5.828125 -4.53125 -5.453125 -4.90625 -4.65625 -4.90625 L 0 -4.90625 L 0 -6.21875 Z M -0.125 -6.21875 \"/>\n",
       "</symbol>\n",
       "<symbol overflow=\"visible\" id=\"glyph2-7\">\n",
       "<path style=\"stroke:none;\" d=\"M -2.515625 -5.96875 L -2.515625 -4.796875 C -1.328125 -4.59375 -1.03125 -4.203125 -1.03125 -3.3125 C -1.03125 -2.15625 -1.78125 -1.59375 -3.34375 -1.59375 C -4.96875 -1.59375 -5.78125 -2.15625 -5.78125 -3.28125 C -5.78125 -4.15625 -5.390625 -4.578125 -4.34375 -4.71875 L -4.34375 -6.03125 C -6.078125 -5.890625 -7 -4.765625 -7 -3.296875 C -7 -1.53125 -5.515625 -0.25 -3.34375 -0.25 C -1.21875 -0.25 0.1875 -1.515625 0.1875 -3.28125 C 0.1875 -4.84375 -0.875 -5.96875 -2.515625 -6.09375 Z M -2.515625 -5.96875 \"/>\n",
       "</symbol>\n",
       "<symbol overflow=\"visible\" id=\"glyph2-8\">\n",
       "<path style=\"stroke:none;\" d=\"M -6.8125 -5.96875 L -6.8125 -4.765625 L -1.578125 -2.90625 L -1.578125 -3.15625 L -6.8125 -1.453125 L -6.8125 -0.0625 L -0.09375 -2.328125 L 0.9375 -1.921875 C 1.40625 -1.75 1.4375 -1.671875 1.4375 -1.21875 C 1.4375 -1.078125 1.40625 -0.90625 1.34375 -0.53125 L 2.515625 -0.53125 C 2.640625 -0.78125 2.71875 -1.09375 2.71875 -1.375 C 2.71875 -2.109375 2.1875 -2.84375 1.25 -3.1875 L -6.8125 -6.15625 Z M -6.8125 -5.96875 \"/>\n",
       "</symbol>\n",
       "<symbol overflow=\"visible\" id=\"glyph2-9\">\n",
       "<path style=\"stroke:none;\" d=\"M -4.390625 -6.46875 C -7.46875 -6.46875 -9.125 -5.359375 -9.125 -3.4375 C -9.125 -1.53125 -7.4375 -0.40625 -4.46875 -0.40625 C -1.46875 -0.40625 0.1875 -1.53125 0.1875 -3.4375 C 0.1875 -5.3125 -1.46875 -6.46875 -4.390625 -6.46875 Z M -4.484375 -5.078125 C -1.96875 -5.078125 -0.984375 -4.640625 -0.984375 -3.40625 C -0.984375 -2.25 -2.03125 -1.78125 -4.453125 -1.78125 C -6.875 -1.78125 -7.890625 -2.25 -7.890625 -3.4375 C -7.890625 -4.625 -6.859375 -5.078125 -4.484375 -5.078125 Z M -4.484375 -5.078125 \"/>\n",
       "</symbol>\n",
       "<symbol overflow=\"visible\" id=\"glyph2-10\">\n",
       "<path style=\"stroke:none;\" d=\"M -0.125 -4.46875 L -9.125 -4.46875 L -9.125 -3.515625 C -7.625 -3.09375 -7.578125 -2.96875 -7.34375 -1.140625 L -6.3125 -1.140625 L -6.3125 -3.09375 L 0 -3.09375 L 0 -4.46875 Z M -0.125 -4.46875 \"/>\n",
       "</symbol>\n",
       "<symbol overflow=\"visible\" id=\"glyph2-11\">\n",
       "<path style=\"stroke:none;\" d=\"M -6.390625 -6.515625 C -7.890625 -6.515625 -9.125 -5.21875 -9.125 -3.546875 C -9.125 -1.734375 -8.0625 -0.546875 -5.78125 -0.484375 L -5.78125 -1.84375 C -7.40625 -1.9375 -7.90625 -2.421875 -7.90625 -3.515625 C -7.90625 -4.515625 -7.3125 -5.125 -6.359375 -5.125 C -5.65625 -5.125 -5.15625 -4.75 -4.703125 -3.96875 L -4.046875 -2.8125 C -3 -0.96875 -2.078125 -0.390625 0 -0.28125 L 0 -6.453125 L -1.34375 -6.453125 L -1.34375 -1.8125 C -1.9375 -1.90625 -2.3125 -2.265625 -2.953125 -3.34375 L -3.625 -4.59375 C -4.28125 -5.84375 -5.296875 -6.515625 -6.390625 -6.515625 Z M -6.390625 -6.515625 \"/>\n",
       "</symbol>\n",
       "<symbol overflow=\"visible\" id=\"glyph2-12\">\n",
       "<path style=\"stroke:none;\" d=\"M -3.0625 -6.53125 C -4.8125 -6.53125 -6.09375 -5.25 -6.09375 -3.546875 C -6.09375 -2.921875 -5.890625 -2.328125 -5.71875 -2.09375 L -7.59375 -2.359375 L -7.59375 -6.078125 L -8.9375 -6.078125 L -8.9375 -1.25 L -4.03125 -0.546875 L -4.03125 -1.78125 C -4.6875 -2.328125 -4.859375 -2.65625 -4.859375 -3.34375 C -4.859375 -4.53125 -4.21875 -5.15625 -2.90625 -5.15625 C -1.640625 -5.15625 -1.046875 -4.546875 -1.046875 -3.34375 C -1.046875 -2.390625 -1.40625 -1.921875 -2.53125 -1.625 L -2.53125 -0.28125 C -0.640625 -0.65625 0.1875 -1.796875 0.1875 -3.375 C 0.1875 -5.15625 -1.1875 -6.53125 -3.0625 -6.53125 Z M -3.0625 -6.53125 \"/>\n",
       "</symbol>\n",
       "</g>\n",
       "<clipPath id=\"clip1\">\n",
       "  <path d=\"M 72 59.039062 L 74 59.039062 L 74 143.558594 L 72 143.558594 Z M 72 59.039062 \"/>\n",
       "</clipPath>\n",
       "<clipPath id=\"clip2\">\n",
       "  <path d=\"M 69 59.039062 L 71 59.039062 L 71 143.558594 L 69 143.558594 Z M 69 59.039062 \"/>\n",
       "</clipPath>\n",
       "<clipPath id=\"clip3\">\n",
       "  <path d=\"M 65 59.039062 L 67 59.039062 L 67 143.558594 L 65 143.558594 Z M 65 59.039062 \"/>\n",
       "</clipPath>\n",
       "<clipPath id=\"clip4\">\n",
       "  <path d=\"M 247 59.039062 L 249 59.039062 L 249 143.558594 L 247 143.558594 Z M 247 59.039062 \"/>\n",
       "</clipPath>\n",
       "<clipPath id=\"clip5\">\n",
       "  <path d=\"M 81 59.039062 L 83 59.039062 L 83 143.558594 L 81 143.558594 Z M 81 59.039062 \"/>\n",
       "</clipPath>\n",
       "<clipPath id=\"clip6\">\n",
       "  <path d=\"M 63 59.039062 L 65 59.039062 L 65 143.558594 L 63 143.558594 Z M 63 59.039062 \"/>\n",
       "</clipPath>\n",
       "</defs>\n",
       "<g id=\"surface309\">\n",
       "<rect x=\"0\" y=\"0\" width=\"288\" height=\"216\" style=\"fill:rgb(100%,100%,100%);fill-opacity:1;stroke:none;\"/>\n",
       "<g style=\"fill:rgb(0%,0%,0%);fill-opacity:1;\">\n",
       "  <use xlink:href=\"#glyph0-1\" x=\"95.039062\" y=\"35.089844\"/>\n",
       "  <use xlink:href=\"#glyph0-2\" x=\"105.801315\" y=\"35.089844\"/>\n",
       "  <use xlink:href=\"#glyph0-3\" x=\"109.945236\" y=\"35.089844\"/>\n",
       "  <use xlink:href=\"#glyph0-4\" x=\"118.233063\" y=\"35.089844\"/>\n",
       "  <use xlink:href=\"#glyph0-5\" x=\"123.196823\" y=\"35.089844\"/>\n",
       "  <use xlink:href=\"#glyph0-6\" x=\"132.304489\" y=\"35.089844\"/>\n",
       "  <use xlink:href=\"#glyph0-7\" x=\"141.412155\" y=\"35.089844\"/>\n",
       "  <use xlink:href=\"#glyph0-8\" x=\"147.210648\" y=\"35.089844\"/>\n",
       "  <use xlink:href=\"#glyph0-9\" x=\"155.498474\" y=\"35.089844\"/>\n",
       "  <use xlink:href=\"#glyph0-10\" x=\"168.750061\" y=\"35.089844\"/>\n",
       "  <use xlink:href=\"#glyph0-5\" x=\"172.893982\" y=\"35.089844\"/>\n",
       "  <use xlink:href=\"#glyph0-11\" x=\"182.001648\" y=\"35.089844\"/>\n",
       "  <use xlink:href=\"#glyph0-10\" x=\"186.965408\" y=\"35.089844\"/>\n",
       "  <use xlink:href=\"#glyph0-12\" x=\"191.109329\" y=\"35.089844\"/>\n",
       "  <use xlink:href=\"#glyph0-8\" x=\"200.216995\" y=\"35.089844\"/>\n",
       "  <use xlink:href=\"#glyph0-4\" x=\"208.504822\" y=\"35.089844\"/>\n",
       "  <use xlink:href=\"#glyph0-8\" x=\"213.468582\" y=\"35.089844\"/>\n",
       "</g>\n",
       "<g style=\"fill:rgb(0%,0%,0%);fill-opacity:1;\">\n",
       "  <use xlink:href=\"#glyph1-1\" x=\"146.234375\" y=\"198.71875\"/>\n",
       "  <use xlink:href=\"#glyph1-2\" x=\"153.184402\" y=\"198.71875\"/>\n",
       "  <use xlink:href=\"#glyph1-3\" x=\"160.13443\" y=\"198.71875\"/>\n",
       "  <use xlink:href=\"#glyph1-2\" x=\"163.609436\" y=\"198.71875\"/>\n",
       "</g>\n",
       "<g style=\"fill:rgb(0%,0%,0%);fill-opacity:1;\">\n",
       "  <use xlink:href=\"#glyph2-1\" x=\"14.398438\" y=\"130.324219\"/>\n",
       "  <use xlink:href=\"#glyph2-2\" x=\"14.398438\" y=\"122.686691\"/>\n",
       "  <use xlink:href=\"#glyph2-3\" x=\"14.398438\" y=\"118.52417\"/>\n",
       "  <use xlink:href=\"#glyph2-4\" x=\"14.398438\" y=\"111.574142\"/>\n",
       "  <use xlink:href=\"#glyph2-5\" x=\"14.398438\" y=\"104.624115\"/>\n",
       "  <use xlink:href=\"#glyph2-3\" x=\"14.398438\" y=\"97.674088\"/>\n",
       "  <use xlink:href=\"#glyph2-6\" x=\"14.398438\" y=\"90.72406\"/>\n",
       "  <use xlink:href=\"#glyph2-7\" x=\"14.398438\" y=\"83.774033\"/>\n",
       "  <use xlink:href=\"#glyph2-8\" x=\"14.398438\" y=\"77.524002\"/>\n",
       "</g>\n",
       "<path style=\"fill:none;stroke-width:1;stroke-linecap:round;stroke-linejoin:round;stroke:rgb(0%,0%,0%);stroke-opacity:1;stroke-miterlimit:10;\" d=\"M 66.398438 142.558594 L 222.996094 142.558594 \"/>\n",
       "<path style=\"fill:none;stroke-width:1;stroke-linecap:round;stroke-linejoin:round;stroke:rgb(0%,0%,0%);stroke-opacity:1;stroke-miterlimit:10;\" d=\"M 66.398438 142.558594 L 66.398438 149.761719 \"/>\n",
       "<path style=\"fill:none;stroke-width:1;stroke-linecap:round;stroke-linejoin:round;stroke:rgb(0%,0%,0%);stroke-opacity:1;stroke-miterlimit:10;\" d=\"M 105.550781 142.558594 L 105.550781 149.761719 \"/>\n",
       "<path style=\"fill:none;stroke-width:1;stroke-linecap:round;stroke-linejoin:round;stroke:rgb(0%,0%,0%);stroke-opacity:1;stroke-miterlimit:10;\" d=\"M 144.699219 142.558594 L 144.699219 149.761719 \"/>\n",
       "<path style=\"fill:none;stroke-width:1;stroke-linecap:round;stroke-linejoin:round;stroke:rgb(0%,0%,0%);stroke-opacity:1;stroke-miterlimit:10;\" d=\"M 183.847656 142.558594 L 183.847656 149.761719 \"/>\n",
       "<path style=\"fill:none;stroke-width:1;stroke-linecap:round;stroke-linejoin:round;stroke:rgb(0%,0%,0%);stroke-opacity:1;stroke-miterlimit:10;\" d=\"M 222.996094 142.558594 L 222.996094 149.761719 \"/>\n",
       "<g style=\"fill:rgb(0%,0%,0%);fill-opacity:1;\">\n",
       "  <use xlink:href=\"#glyph1-4\" x=\"62.921875\" y=\"169.921875\"/>\n",
       "</g>\n",
       "<g style=\"fill:rgb(0%,0%,0%);fill-opacity:1;\">\n",
       "  <use xlink:href=\"#glyph1-5\" x=\"98.601562\" y=\"169.921875\"/>\n",
       "  <use xlink:href=\"#glyph1-4\" x=\"105.55159\" y=\"169.921875\"/>\n",
       "</g>\n",
       "<g style=\"fill:rgb(0%,0%,0%);fill-opacity:1;\">\n",
       "  <use xlink:href=\"#glyph1-6\" x=\"137.75\" y=\"169.921875\"/>\n",
       "  <use xlink:href=\"#glyph1-4\" x=\"144.700027\" y=\"169.921875\"/>\n",
       "</g>\n",
       "<g style=\"fill:rgb(0%,0%,0%);fill-opacity:1;\">\n",
       "  <use xlink:href=\"#glyph1-7\" x=\"176.898438\" y=\"169.921875\"/>\n",
       "  <use xlink:href=\"#glyph1-4\" x=\"183.848465\" y=\"169.921875\"/>\n",
       "</g>\n",
       "<g style=\"fill:rgb(0%,0%,0%);fill-opacity:1;\">\n",
       "  <use xlink:href=\"#glyph1-8\" x=\"216.046875\" y=\"169.921875\"/>\n",
       "  <use xlink:href=\"#glyph1-4\" x=\"222.996902\" y=\"169.921875\"/>\n",
       "</g>\n",
       "<path style=\"fill:none;stroke-width:1;stroke-linecap:round;stroke-linejoin:round;stroke:rgb(0%,0%,0%);stroke-opacity:1;stroke-miterlimit:10;\" d=\"M 59.039062 139.464844 L 59.039062 60.941406 \"/>\n",
       "<path style=\"fill:none;stroke-width:1;stroke-linecap:round;stroke-linejoin:round;stroke:rgb(0%,0%,0%);stroke-opacity:1;stroke-miterlimit:10;\" d=\"M 59.039062 139.464844 L 51.839844 139.464844 \"/>\n",
       "<path style=\"fill:none;stroke-width:1;stroke-linecap:round;stroke-linejoin:round;stroke:rgb(0%,0%,0%);stroke-opacity:1;stroke-miterlimit:10;\" d=\"M 59.039062 123.761719 L 51.839844 123.761719 \"/>\n",
       "<path style=\"fill:none;stroke-width:1;stroke-linecap:round;stroke-linejoin:round;stroke:rgb(0%,0%,0%);stroke-opacity:1;stroke-miterlimit:10;\" d=\"M 59.039062 108.054688 L 51.839844 108.054688 \"/>\n",
       "<path style=\"fill:none;stroke-width:1;stroke-linecap:round;stroke-linejoin:round;stroke:rgb(0%,0%,0%);stroke-opacity:1;stroke-miterlimit:10;\" d=\"M 59.039062 92.351562 L 51.839844 92.351562 \"/>\n",
       "<path style=\"fill:none;stroke-width:1;stroke-linecap:round;stroke-linejoin:round;stroke:rgb(0%,0%,0%);stroke-opacity:1;stroke-miterlimit:10;\" d=\"M 59.039062 76.644531 L 51.839844 76.644531 \"/>\n",
       "<path style=\"fill:none;stroke-width:1;stroke-linecap:round;stroke-linejoin:round;stroke:rgb(0%,0%,0%);stroke-opacity:1;stroke-miterlimit:10;\" d=\"M 59.039062 60.941406 L 51.839844 60.941406 \"/>\n",
       "<g style=\"fill:rgb(0%,0%,0%);fill-opacity:1;\">\n",
       "  <use xlink:href=\"#glyph2-9\" x=\"43.199219\" y=\"142.941406\"/>\n",
       "</g>\n",
       "<g style=\"fill:rgb(0%,0%,0%);fill-opacity:1;\">\n",
       "  <use xlink:href=\"#glyph2-10\" x=\"43.199219\" y=\"121.953125\"/>\n",
       "  <use xlink:href=\"#glyph2-9\" x=\"43.199219\" y=\"115.003098\"/>\n",
       "  <use xlink:href=\"#glyph2-9\" x=\"43.199219\" y=\"108.05307\"/>\n",
       "  <use xlink:href=\"#glyph2-9\" x=\"43.199219\" y=\"101.103043\"/>\n",
       "</g>\n",
       "<g style=\"fill:rgb(0%,0%,0%);fill-opacity:1;\">\n",
       "  <use xlink:href=\"#glyph2-11\" x=\"43.199219\" y=\"74.839844\"/>\n",
       "  <use xlink:href=\"#glyph2-12\" x=\"43.199219\" y=\"67.889816\"/>\n",
       "  <use xlink:href=\"#glyph2-9\" x=\"43.199219\" y=\"60.939789\"/>\n",
       "  <use xlink:href=\"#glyph2-9\" x=\"43.199219\" y=\"53.989761\"/>\n",
       "</g>\n",
       "<path style=\"fill-rule:nonzero;fill:rgb(40%,40%,40%);fill-opacity:1;stroke-width:1;stroke-linecap:round;stroke-linejoin:round;stroke:rgb(100%,100%,100%);stroke-opacity:1;stroke-miterlimit:10;\" d=\"M 66.398438 62.132812 L 70.3125 62.132812 L 70.3125 139.464844 L 66.398438 139.464844 Z M 66.398438 62.132812 \"/>\n",
       "<path style=\"fill-rule:nonzero;fill:rgb(40%,40%,40%);fill-opacity:1;stroke-width:1;stroke-linecap:round;stroke-linejoin:round;stroke:rgb(100%,100%,100%);stroke-opacity:1;stroke-miterlimit:10;\" d=\"M 70.316406 99.480469 L 74.230469 99.480469 L 74.230469 139.464844 L 70.316406 139.464844 Z M 70.316406 99.480469 \"/>\n",
       "<path style=\"fill-rule:nonzero;fill:rgb(40%,40%,40%);fill-opacity:1;stroke-width:1;stroke-linecap:round;stroke-linejoin:round;stroke:rgb(100%,100%,100%);stroke-opacity:1;stroke-miterlimit:10;\" d=\"M 74.230469 121.152344 L 78.144531 121.152344 L 78.144531 139.464844 L 74.230469 139.464844 Z M 74.230469 121.152344 \"/>\n",
       "<path style=\"fill-rule:nonzero;fill:rgb(40%,40%,40%);fill-opacity:1;stroke-width:1;stroke-linecap:round;stroke-linejoin:round;stroke:rgb(100%,100%,100%);stroke-opacity:1;stroke-miterlimit:10;\" d=\"M 78.144531 131.078125 L 82.058594 131.078125 L 82.058594 139.464844 L 78.144531 139.464844 Z M 78.144531 131.078125 \"/>\n",
       "<path style=\"fill-rule:nonzero;fill:rgb(40%,40%,40%);fill-opacity:1;stroke-width:1;stroke-linecap:round;stroke-linejoin:round;stroke:rgb(100%,100%,100%);stroke-opacity:1;stroke-miterlimit:10;\" d=\"M 82.058594 135.039062 L 85.972656 135.039062 L 85.972656 139.46875 L 82.058594 139.46875 Z M 82.058594 135.039062 \"/>\n",
       "<path style=\"fill-rule:nonzero;fill:rgb(40%,40%,40%);fill-opacity:1;stroke-width:1;stroke-linecap:round;stroke-linejoin:round;stroke:rgb(100%,100%,100%);stroke-opacity:1;stroke-miterlimit:10;\" d=\"M 85.972656 136.640625 L 89.886719 136.640625 L 89.886719 139.46875 L 85.972656 139.46875 Z M 85.972656 136.640625 \"/>\n",
       "<path style=\"fill-rule:nonzero;fill:rgb(40%,40%,40%);fill-opacity:1;stroke-width:1;stroke-linecap:round;stroke-linejoin:round;stroke:rgb(100%,100%,100%);stroke-opacity:1;stroke-miterlimit:10;\" d=\"M 89.890625 137.425781 L 93.804688 137.425781 L 93.804688 139.46875 L 89.890625 139.46875 Z M 89.890625 137.425781 \"/>\n",
       "<path style=\"fill-rule:nonzero;fill:rgb(40%,40%,40%);fill-opacity:1;stroke-width:1;stroke-linecap:round;stroke-linejoin:round;stroke:rgb(100%,100%,100%);stroke-opacity:1;stroke-miterlimit:10;\" d=\"M 93.804688 138.460938 L 97.71875 138.460938 L 97.71875 139.464844 L 93.804688 139.464844 Z M 93.804688 138.460938 \"/>\n",
       "<path style=\"fill-rule:nonzero;fill:rgb(40%,40%,40%);fill-opacity:1;stroke-width:1;stroke-linecap:round;stroke-linejoin:round;stroke:rgb(100%,100%,100%);stroke-opacity:1;stroke-miterlimit:10;\" d=\"M 97.71875 138.554688 L 101.632812 138.554688 L 101.632812 139.464844 L 97.71875 139.464844 Z M 97.71875 138.554688 \"/>\n",
       "<path style=\"fill-rule:nonzero;fill:rgb(40%,40%,40%);fill-opacity:1;stroke-width:1;stroke-linecap:round;stroke-linejoin:round;stroke:rgb(100%,100%,100%);stroke-opacity:1;stroke-miterlimit:10;\" d=\"M 101.632812 139.214844 L 105.546875 139.214844 L 105.546875 139.464844 L 101.632812 139.464844 Z M 101.632812 139.214844 \"/>\n",
       "<path style=\"fill-rule:nonzero;fill:rgb(40%,40%,40%);fill-opacity:1;stroke-width:1;stroke-linecap:round;stroke-linejoin:round;stroke:rgb(100%,100%,100%);stroke-opacity:1;stroke-miterlimit:10;\" d=\"M 105.550781 139.214844 L 109.464844 139.214844 L 109.464844 139.464844 L 105.550781 139.464844 Z M 105.550781 139.214844 \"/>\n",
       "<path style=\"fill-rule:nonzero;fill:rgb(40%,40%,40%);fill-opacity:1;stroke-width:1;stroke-linecap:round;stroke-linejoin:round;stroke:rgb(100%,100%,100%);stroke-opacity:1;stroke-miterlimit:10;\" d=\"M 109.464844 139.121094 L 113.378906 139.121094 L 113.378906 139.464844 L 109.464844 139.464844 Z M 109.464844 139.121094 \"/>\n",
       "<path style=\"fill-rule:nonzero;fill:rgb(40%,40%,40%);fill-opacity:1;stroke-width:1;stroke-linecap:round;stroke-linejoin:round;stroke:rgb(100%,100%,100%);stroke-opacity:1;stroke-miterlimit:10;\" d=\"M 113.378906 139.339844 L 117.292969 139.339844 L 117.292969 139.464844 L 113.378906 139.464844 Z M 113.378906 139.339844 \"/>\n",
       "<path style=\"fill-rule:nonzero;fill:rgb(40%,40%,40%);fill-opacity:1;stroke-width:1;stroke-linecap:round;stroke-linejoin:round;stroke:rgb(100%,100%,100%);stroke-opacity:1;stroke-miterlimit:10;\" d=\"M 117.292969 139.308594 L 121.207031 139.308594 L 121.207031 139.464844 L 117.292969 139.464844 Z M 117.292969 139.308594 \"/>\n",
       "<path style=\"fill-rule:nonzero;fill:rgb(40%,40%,40%);fill-opacity:1;stroke-width:1;stroke-linecap:round;stroke-linejoin:round;stroke:rgb(100%,100%,100%);stroke-opacity:1;stroke-miterlimit:10;\" d=\"M 121.207031 139.246094 L 125.121094 139.246094 L 125.121094 139.464844 L 121.207031 139.464844 Z M 121.207031 139.246094 \"/>\n",
       "<path style=\"fill-rule:nonzero;fill:rgb(40%,40%,40%);fill-opacity:1;stroke-width:1;stroke-linecap:round;stroke-linejoin:round;stroke:rgb(100%,100%,100%);stroke-opacity:1;stroke-miterlimit:10;\" d=\"M 125.125 139.402344 L 129.039062 139.402344 L 129.039062 139.464844 L 125.125 139.464844 Z M 125.125 139.402344 \"/>\n",
       "<path style=\"fill:none;stroke-width:1;stroke-linecap:round;stroke-linejoin:round;stroke:rgb(100%,100%,100%);stroke-opacity:1;stroke-miterlimit:10;\" d=\"M 129.039062 139.464844 L 132.953125 139.464844 Z M 129.039062 139.464844 \"/>\n",
       "<path style=\"fill-rule:nonzero;fill:rgb(40%,40%,40%);fill-opacity:1;stroke-width:1;stroke-linecap:round;stroke-linejoin:round;stroke:rgb(100%,100%,100%);stroke-opacity:1;stroke-miterlimit:10;\" d=\"M 132.953125 139.402344 L 136.867188 139.402344 L 136.867188 139.464844 L 132.953125 139.464844 Z M 132.953125 139.402344 \"/>\n",
       "<path style=\"fill-rule:nonzero;fill:rgb(40%,40%,40%);fill-opacity:1;stroke-width:1;stroke-linecap:round;stroke-linejoin:round;stroke:rgb(100%,100%,100%);stroke-opacity:1;stroke-miterlimit:10;\" d=\"M 136.867188 139.402344 L 140.78125 139.402344 L 140.78125 139.464844 L 136.867188 139.464844 Z M 136.867188 139.402344 \"/>\n",
       "<path style=\"fill-rule:nonzero;fill:rgb(40%,40%,40%);fill-opacity:1;stroke-width:1;stroke-linecap:round;stroke-linejoin:round;stroke:rgb(100%,100%,100%);stroke-opacity:1;stroke-miterlimit:10;\" d=\"M 140.78125 139.402344 L 144.695312 139.402344 L 144.695312 139.464844 L 140.78125 139.464844 Z M 140.78125 139.402344 \"/>\n",
       "<path style=\"fill-rule:nonzero;fill:rgb(40%,40%,40%);fill-opacity:1;stroke-width:1;stroke-linecap:round;stroke-linejoin:round;stroke:rgb(100%,100%,100%);stroke-opacity:1;stroke-miterlimit:10;\" d=\"M 144.699219 139.402344 L 148.613281 139.402344 L 148.613281 139.464844 L 144.699219 139.464844 Z M 144.699219 139.402344 \"/>\n",
       "<path style=\"fill:none;stroke-width:1;stroke-linecap:round;stroke-linejoin:round;stroke:rgb(100%,100%,100%);stroke-opacity:1;stroke-miterlimit:10;\" d=\"M 148.613281 139.464844 L 152.527344 139.464844 Z M 148.613281 139.464844 \"/>\n",
       "<path style=\"fill:none;stroke-width:1;stroke-linecap:round;stroke-linejoin:round;stroke:rgb(100%,100%,100%);stroke-opacity:1;stroke-miterlimit:10;\" d=\"M 152.527344 139.464844 L 156.441406 139.464844 Z M 152.527344 139.464844 \"/>\n",
       "<path style=\"fill:none;stroke-width:1;stroke-linecap:round;stroke-linejoin:round;stroke:rgb(100%,100%,100%);stroke-opacity:1;stroke-miterlimit:10;\" d=\"M 156.441406 139.464844 L 160.355469 139.464844 Z M 156.441406 139.464844 \"/>\n",
       "<path style=\"fill:none;stroke-width:1;stroke-linecap:round;stroke-linejoin:round;stroke:rgb(100%,100%,100%);stroke-opacity:1;stroke-miterlimit:10;\" d=\"M 160.359375 139.464844 L 164.273438 139.464844 Z M 160.359375 139.464844 \"/>\n",
       "<path style=\"fill:none;stroke-width:1;stroke-linecap:round;stroke-linejoin:round;stroke:rgb(100%,100%,100%);stroke-opacity:1;stroke-miterlimit:10;\" d=\"M 164.273438 139.464844 L 168.1875 139.464844 Z M 164.273438 139.464844 \"/>\n",
       "<path style=\"fill:none;stroke-width:1;stroke-linecap:round;stroke-linejoin:round;stroke:rgb(100%,100%,100%);stroke-opacity:1;stroke-miterlimit:10;\" d=\"M 168.1875 139.464844 L 172.101562 139.464844 Z M 168.1875 139.464844 \"/>\n",
       "<path style=\"fill:none;stroke-width:1;stroke-linecap:round;stroke-linejoin:round;stroke:rgb(100%,100%,100%);stroke-opacity:1;stroke-miterlimit:10;\" d=\"M 172.101562 139.464844 L 176.015625 139.464844 Z M 172.101562 139.464844 \"/>\n",
       "<path style=\"fill:none;stroke-width:1;stroke-linecap:round;stroke-linejoin:round;stroke:rgb(100%,100%,100%);stroke-opacity:1;stroke-miterlimit:10;\" d=\"M 176.015625 139.464844 L 179.929688 139.464844 Z M 176.015625 139.464844 \"/>\n",
       "<path style=\"fill:none;stroke-width:1;stroke-linecap:round;stroke-linejoin:round;stroke:rgb(100%,100%,100%);stroke-opacity:1;stroke-miterlimit:10;\" d=\"M 179.933594 139.464844 L 183.847656 139.464844 Z M 179.933594 139.464844 \"/>\n",
       "<path style=\"fill:none;stroke-width:1;stroke-linecap:round;stroke-linejoin:round;stroke:rgb(100%,100%,100%);stroke-opacity:1;stroke-miterlimit:10;\" d=\"M 183.847656 139.464844 L 187.761719 139.464844 Z M 183.847656 139.464844 \"/>\n",
       "<path style=\"fill:none;stroke-width:1;stroke-linecap:round;stroke-linejoin:round;stroke:rgb(100%,100%,100%);stroke-opacity:1;stroke-miterlimit:10;\" d=\"M 187.761719 139.464844 L 191.675781 139.464844 Z M 187.761719 139.464844 \"/>\n",
       "<path style=\"fill-rule:nonzero;fill:rgb(40%,40%,40%);fill-opacity:1;stroke-width:1;stroke-linecap:round;stroke-linejoin:round;stroke:rgb(100%,100%,100%);stroke-opacity:1;stroke-miterlimit:10;\" d=\"M 191.675781 139.433594 L 195.589844 139.433594 L 195.589844 139.464844 L 191.675781 139.464844 Z M 191.675781 139.433594 \"/>\n",
       "<path style=\"fill:none;stroke-width:1;stroke-linecap:round;stroke-linejoin:round;stroke:rgb(100%,100%,100%);stroke-opacity:1;stroke-miterlimit:10;\" d=\"M 195.589844 139.464844 L 199.503906 139.464844 Z M 195.589844 139.464844 \"/>\n",
       "<path style=\"fill:none;stroke-width:1;stroke-linecap:round;stroke-linejoin:round;stroke:rgb(100%,100%,100%);stroke-opacity:1;stroke-miterlimit:10;\" d=\"M 199.507812 139.464844 L 203.421875 139.464844 Z M 199.507812 139.464844 \"/>\n",
       "<path style=\"fill-rule:nonzero;fill:rgb(40%,40%,40%);fill-opacity:1;stroke-width:1;stroke-linecap:round;stroke-linejoin:round;stroke:rgb(100%,100%,100%);stroke-opacity:1;stroke-miterlimit:10;\" d=\"M 203.421875 139.433594 L 207.335938 139.433594 L 207.335938 139.464844 L 203.421875 139.464844 Z M 203.421875 139.433594 \"/>\n",
       "<path style=\"fill-rule:nonzero;fill:rgb(40%,40%,40%);fill-opacity:1;stroke-width:1;stroke-linecap:round;stroke-linejoin:round;stroke:rgb(100%,100%,100%);stroke-opacity:1;stroke-miterlimit:10;\" d=\"M 207.335938 139.433594 L 211.25 139.433594 L 211.25 139.464844 L 207.335938 139.464844 Z M 207.335938 139.433594 \"/>\n",
       "<path style=\"fill:none;stroke-width:1;stroke-linecap:round;stroke-linejoin:round;stroke:rgb(100%,100%,100%);stroke-opacity:1;stroke-miterlimit:10;\" d=\"M 211.25 139.464844 L 215.164062 139.464844 Z M 211.25 139.464844 \"/>\n",
       "<path style=\"fill:none;stroke-width:1;stroke-linecap:round;stroke-linejoin:round;stroke:rgb(100%,100%,100%);stroke-opacity:1;stroke-miterlimit:10;\" d=\"M 215.164062 139.464844 L 219.078125 139.464844 Z M 215.164062 139.464844 \"/>\n",
       "<path style=\"fill:none;stroke-width:1;stroke-linecap:round;stroke-linejoin:round;stroke:rgb(100%,100%,100%);stroke-opacity:1;stroke-miterlimit:10;\" d=\"M 219.082031 139.464844 L 222.996094 139.464844 Z M 219.082031 139.464844 \"/>\n",
       "<path style=\"fill:none;stroke-width:1;stroke-linecap:round;stroke-linejoin:round;stroke:rgb(100%,100%,100%);stroke-opacity:1;stroke-miterlimit:10;\" d=\"M 222.996094 139.464844 L 226.910156 139.464844 Z M 222.996094 139.464844 \"/>\n",
       "<path style=\"fill-rule:nonzero;fill:rgb(40%,40%,40%);fill-opacity:1;stroke-width:1;stroke-linecap:round;stroke-linejoin:round;stroke:rgb(100%,100%,100%);stroke-opacity:1;stroke-miterlimit:10;\" d=\"M 226.910156 139.433594 L 230.824219 139.433594 L 230.824219 139.464844 L 226.910156 139.464844 Z M 226.910156 139.433594 \"/>\n",
       "<path style=\"fill:none;stroke-width:1;stroke-linecap:round;stroke-linejoin:round;stroke:rgb(100%,100%,100%);stroke-opacity:1;stroke-miterlimit:10;\" d=\"M 230.824219 139.464844 L 234.738281 139.464844 Z M 230.824219 139.464844 \"/>\n",
       "<path style=\"fill:none;stroke-width:1;stroke-linecap:round;stroke-linejoin:round;stroke:rgb(100%,100%,100%);stroke-opacity:1;stroke-miterlimit:10;\" d=\"M 234.742188 139.464844 L 238.65625 139.464844 Z M 234.742188 139.464844 \"/>\n",
       "<path style=\"fill:none;stroke-width:1;stroke-linecap:round;stroke-linejoin:round;stroke:rgb(100%,100%,100%);stroke-opacity:1;stroke-miterlimit:10;\" d=\"M 238.65625 139.464844 L 242.570312 139.464844 Z M 238.65625 139.464844 \"/>\n",
       "<path style=\"fill:none;stroke-width:1;stroke-linecap:round;stroke-linejoin:round;stroke:rgb(100%,100%,100%);stroke-opacity:1;stroke-miterlimit:10;\" d=\"M 242.570312 139.464844 L 246.484375 139.464844 Z M 242.570312 139.464844 \"/>\n",
       "<path style=\"fill-rule:nonzero;fill:rgb(40%,40%,40%);fill-opacity:1;stroke-width:1;stroke-linecap:round;stroke-linejoin:round;stroke:rgb(100%,100%,100%);stroke-opacity:1;stroke-miterlimit:10;\" d=\"M 246.484375 139.433594 L 250.398438 139.433594 L 250.398438 139.464844 L 246.484375 139.464844 Z M 246.484375 139.433594 \"/>\n",
       "<g clip-path=\"url(#clip1)\" clip-rule=\"nonzero\">\n",
       "<path style=\"fill:none;stroke-width:1;stroke-linecap:round;stroke-linejoin:round;stroke:rgb(100%,0%,0%);stroke-opacity:1;stroke-miterlimit:10;\" d=\"M 72.929688 142.558594 L 72.929688 59.039062 \"/>\n",
       "</g>\n",
       "<g clip-path=\"url(#clip2)\" clip-rule=\"nonzero\">\n",
       "<path style=\"fill:none;stroke-width:1;stroke-linecap:round;stroke-linejoin:round;stroke:rgb(0%,100%,0%);stroke-opacity:1;stroke-miterlimit:10;\" d=\"M 70.398438 142.558594 L 70.398438 59.039062 \"/>\n",
       "</g>\n",
       "<g clip-path=\"url(#clip3)\" clip-rule=\"nonzero\">\n",
       "<path style=\"fill:none;stroke-width:1;stroke-linecap:round;stroke-linejoin:round;stroke:rgb(0%,0%,100%);stroke-opacity:1;stroke-miterlimit:10;\" d=\"M 66.488281 142.558594 L 66.488281 59.039062 \"/>\n",
       "</g>\n",
       "<g clip-path=\"url(#clip4)\" clip-rule=\"nonzero\">\n",
       "<path style=\"fill:none;stroke-width:1;stroke-linecap:round;stroke-linejoin:round;stroke:rgb(0%,0%,100%);stroke-opacity:1;stroke-miterlimit:10;\" d=\"M 247.613281 142.558594 L 247.613281 59.039062 \"/>\n",
       "</g>\n",
       "<g clip-path=\"url(#clip5)\" clip-rule=\"nonzero\">\n",
       "<path style=\"fill:none;stroke-width:1;stroke-linecap:round;stroke-linejoin:round;stroke:rgb(0%,0%,0%);stroke-opacity:1;stroke-miterlimit:10;\" d=\"M 81.746094 142.558594 L 81.746094 59.039062 \"/>\n",
       "</g>\n",
       "<g clip-path=\"url(#clip6)\" clip-rule=\"nonzero\">\n",
       "<path style=\"fill:none;stroke-width:1;stroke-linecap:round;stroke-linejoin:round;stroke:rgb(0%,0%,0%);stroke-opacity:1;stroke-miterlimit:10;\" d=\"M 64.113281 142.558594 L 64.113281 59.039062 \"/>\n",
       "</g>\n",
       "</g>\n",
       "</svg>\n"
      ]
     },
     "metadata": {
      "image/svg+xml": {
       "isolated": true
      }
     },
     "output_type": "display_data"
    }
   ],
   "source": [
    "# Add your code here ...\n",
    "data <- rlnorm(5000)\n",
    "hist(data, 50, col=\"#666666\", border=\"white\")\n",
    "dmean <- mean(data)\n",
    "abline(v=dmean,col=\"red\")\n",
    "dmedian <- median(data)\n",
    "abline(v=dmedian,col=\"green\")\n",
    "dmin <- min(data)\n",
    "abline(v=dmin,col=\"blue\")\n",
    "dmax <- max(data)\n",
    "abline(v=dmax,col=\"blue\")\n",
    "dsd <- sd(data)\n",
    "abline(v=dmean+dsd)\n",
    "abline(v=dmean-dsd)\n",
    "min(data)\n",
    "max(data)"
   ]
  },
  {
   "cell_type": "markdown",
   "metadata": {},
   "source": [
    "#### Question: What is different?"
   ]
  },
  {
   "cell_type": "markdown",
   "metadata": {},
   "source": [
    "the bars have been skewed to the left and the data seem to have been transformed."
   ]
  },
  {
   "cell_type": "markdown",
   "metadata": {},
   "source": [
    "#### Question: Do the statistical descriptors provide useful information?"
   ]
  },
  {
   "cell_type": "markdown",
   "metadata": {},
   "source": [
    "Yes they do, it is helpful to compare medians and other parameters for analysing data from different groups and for deciding if the data is normal."
   ]
  },
  {
   "cell_type": "markdown",
   "metadata": {},
   "source": [
    "In the exercises 5-6 we will calculate the statistical descriptors and draw some simple plots of real measurement data."
   ]
  },
  {
   "cell_type": "markdown",
   "metadata": {},
   "source": [
    "## Exercise 5"
   ]
  },
  {
   "cell_type": "markdown",
   "metadata": {},
   "source": [
    "Calculate the statistical descriptors for flow cytometry data of RNA molecules (from paper https://www.ncbi.nlm.nih.gov/pmc/articles/PMC3575505/#s2).\n",
    "\n",
    "You can get the processed table from http://computproteomics.bmb.sdu.dk/BMB539Data/FlowCytoData.csv (use `read.csv()` on the web page and write it into the object `FlowCyt`).\n",
    "\n",
    "The columns _X18s.RNA, abl_ and _bcr_ denote the different molecules. Rows correspond to quantifications in different cells. Apply the statistical descriptors on the values in the columns with the additional arguent `na.rm=T` (e.g. `mean(FlowCyt$bcr, na.rm=T)`)."
   ]
  },
  {
   "cell_type": "code",
   "execution_count": 22,
   "metadata": {},
   "outputs": [
    {
     "data": {
      "text/html": [
       "7.5491414214111"
      ],
      "text/latex": [
       "7.5491414214111"
      ],
      "text/markdown": [
       "7.5491414214111"
      ],
      "text/plain": [
       "[1] 7.549141"
      ]
     },
     "metadata": {},
     "output_type": "display_data"
    },
    {
     "data": {
      "text/html": [
       "7.32442164109382"
      ],
      "text/latex": [
       "7.32442164109382"
      ],
      "text/markdown": [
       "7.32442164109382"
      ],
      "text/plain": [
       "[1] 7.324422"
      ]
     },
     "metadata": {},
     "output_type": "display_data"
    },
    {
     "data": {
      "text/html": [
       "-0.0635892251425375"
      ],
      "text/latex": [
       "-0.0635892251425375"
      ],
      "text/markdown": [
       "-0.0635892251425375"
      ],
      "text/plain": [
       "[1] -0.06358923"
      ]
     },
     "metadata": {},
     "output_type": "display_data"
    },
    {
     "data": {
      "text/html": [
       "14.5455317875267"
      ],
      "text/latex": [
       "14.5455317875267"
      ],
      "text/markdown": [
       "14.5455317875267"
      ],
      "text/plain": [
       "[1] 14.54553"
      ]
     },
     "metadata": {},
     "output_type": "display_data"
    },
    {
     "data": {
      "text/html": [
       "1.97180596721802"
      ],
      "text/latex": [
       "1.97180596721802"
      ],
      "text/markdown": [
       "1.97180596721802"
      ],
      "text/plain": [
       "[1] 1.971806"
      ]
     },
     "metadata": {},
     "output_type": "display_data"
    },
    {
     "data": {
      "text/html": [
       "1.40421008656754"
      ],
      "text/latex": [
       "1.40421008656754"
      ],
      "text/markdown": [
       "1.40421008656754"
      ],
      "text/plain": [
       "[1] 1.40421"
      ]
     },
     "metadata": {},
     "output_type": "display_data"
    },
    {
     "data": {
      "text/html": [
       "6.83199890833413"
      ],
      "text/latex": [
       "6.83199890833413"
      ],
      "text/markdown": [
       "6.83199890833413"
      ],
      "text/plain": [
       "[1] 6.831999"
      ]
     },
     "metadata": {},
     "output_type": "display_data"
    },
    {
     "data": {
      "text/html": [
       "6.32790783593931"
      ],
      "text/latex": [
       "6.32790783593931"
      ],
      "text/markdown": [
       "6.32790783593931"
      ],
      "text/plain": [
       "[1] 6.327908"
      ]
     },
     "metadata": {},
     "output_type": "display_data"
    },
    {
     "data": {
      "text/html": [
       "-0.147825612154212"
      ],
      "text/latex": [
       "-0.147825612154212"
      ],
      "text/markdown": [
       "-0.147825612154212"
      ],
      "text/plain": [
       "[1] -0.1478256"
      ]
     },
     "metadata": {},
     "output_type": "display_data"
    },
    {
     "data": {
      "text/html": [
       "16.4110434831263"
      ],
      "text/latex": [
       "16.4110434831263"
      ],
      "text/markdown": [
       "16.4110434831263"
      ],
      "text/plain": [
       "[1] 16.41104"
      ]
     },
     "metadata": {},
     "output_type": "display_data"
    },
    {
     "data": {
      "text/html": [
       "6.96320247235782"
      ],
      "text/latex": [
       "6.96320247235782"
      ],
      "text/markdown": [
       "6.96320247235782"
      ],
      "text/plain": [
       "[1] 6.963202"
      ]
     },
     "metadata": {},
     "output_type": "display_data"
    },
    {
     "data": {
      "text/html": [
       "2.63878806885999"
      ],
      "text/latex": [
       "2.63878806885999"
      ],
      "text/markdown": [
       "2.63878806885999"
      ],
      "text/plain": [
       "[1] 2.638788"
      ]
     },
     "metadata": {},
     "output_type": "display_data"
    },
    {
     "data": {
      "text/html": [
       "9.77815532650037"
      ],
      "text/latex": [
       "9.77815532650037"
      ],
      "text/markdown": [
       "9.77815532650037"
      ],
      "text/plain": [
       "[1] 9.778155"
      ]
     },
     "metadata": {},
     "output_type": "display_data"
    },
    {
     "data": {
      "text/html": [
       "9.26006183577452"
      ],
      "text/latex": [
       "9.26006183577452"
      ],
      "text/markdown": [
       "9.26006183577452"
      ],
      "text/plain": [
       "[1] 9.260062"
      ]
     },
     "metadata": {},
     "output_type": "display_data"
    },
    {
     "data": {
      "text/html": [
       "3.93138686847575"
      ],
      "text/latex": [
       "3.93138686847575"
      ],
      "text/markdown": [
       "3.93138686847575"
      ],
      "text/plain": [
       "[1] 3.931387"
      ]
     },
     "metadata": {},
     "output_type": "display_data"
    },
    {
     "data": {
      "text/html": [
       "17.4528186055539"
      ],
      "text/latex": [
       "17.4528186055539"
      ],
      "text/markdown": [
       "17.4528186055539"
      ],
      "text/plain": [
       "[1] 17.45282"
      ]
     },
     "metadata": {},
     "output_type": "display_data"
    },
    {
     "data": {
      "text/html": [
       "2.10237191007335"
      ],
      "text/latex": [
       "2.10237191007335"
      ],
      "text/markdown": [
       "2.10237191007335"
      ],
      "text/plain": [
       "[1] 2.102372"
      ]
     },
     "metadata": {},
     "output_type": "display_data"
    },
    {
     "data": {
      "text/html": [
       "1.44995583038703"
      ],
      "text/latex": [
       "1.44995583038703"
      ],
      "text/markdown": [
       "1.44995583038703"
      ],
      "text/plain": [
       "[1] 1.449956"
      ]
     },
     "metadata": {},
     "output_type": "display_data"
    }
   ],
   "source": [
    "#A <- read.csv(url(\"http://computproteomics.bmb.sdu.dk/BMB539Data/FlowCytoData.csv\"))\n",
    "FlowCyt <- read.csv(\"FlowCytoData.csv\")\n",
    "# add your code here ...\n",
    "mean(FlowCyt$X18s.RNA, na.rm=T)\n",
    "median(FlowCyt$X18s.RNA, na.rm=T)\n",
    "min(FlowCyt$X18s.RNA, na.rm=T)\n",
    "max(FlowCyt$X18s.RNA, na.rm=T)\n",
    "var(FlowCyt$X18s.RNA, na.rm=T)\n",
    "sd(FlowCyt$X18s.RNA, na.rm=T)  \n",
    "\n",
    "mean(FlowCyt$abl, na.rm=T)\n",
    "median(FlowCyt$abl, na.rm=T)\n",
    "min(FlowCyt$abl, na.rm=T)\n",
    "max(FlowCyt$abl, na.rm=T)\n",
    "var(FlowCyt$abl, na.rm=T)\n",
    "sd(FlowCyt$abl, na.rm=T)  \n",
    "\n",
    "mean(FlowCyt$bcr, na.rm=T)\n",
    "median(FlowCyt$bcr, na.rm=T)\n",
    "min(FlowCyt$bcr, na.rm=T)\n",
    "max(FlowCyt$bcr, na.rm=T)\n",
    "var(FlowCyt$bcr, na.rm=T)\n",
    "sd(FlowCyt$bcr, na.rm=T)"
   ]
  },
  {
   "cell_type": "markdown",
   "metadata": {},
   "source": [
    "#### Question:  Do the statistical descriptors describe all molecules accurately?"
   ]
  },
  {
   "cell_type": "markdown",
   "metadata": {},
   "source": [
    "Yes they do."
   ]
  },
  {
   "cell_type": "markdown",
   "metadata": {},
   "source": [
    "#### Question: Would you trust a report that provides only mean and standard deviation when you compare them to the distributions?"
   ]
  },
  {
   "cell_type": "markdown",
   "metadata": {},
   "source": [
    "Well if the data is normally distributed, these descriptors would be sufficient. However, Median would be an added advantage and more trustworthy descriptor."
   ]
  },
  {
   "cell_type": "markdown",
   "metadata": {},
   "source": [
    "## Exercise 6 (Advanced, optional)"
   ]
  },
  {
   "cell_type": "markdown",
   "metadata": {},
   "source": [
    "Download _Supplementary Dataset 1_ (first sheet _Cell extract (CE)_) from a study investigating bladder cancer cells T24 to detect changes between the cancer cells and their metastatic subtype. Link to paper: http://www.nature.com/articles/srep25619\n",
    "\n",
    "Open the table with Excel/Libreoffice and save as csv-file.\n",
    "\n",
    "Import the table into R\n",
    "\n",
    "`prot_dat <- read.csv(\"TableName\",row.names=1, skip=1)` (you need to upload the file to your jupyter notebook folder)\n",
    "\n",
    "If you get an error, try\n",
    "\n",
    "`prot_dat <- read.csv(\"TableName\",row.names=1, sep=\";\", digits=\",\", skip=1)`\n",
    "\n",
    "And if you still don't manage to read the csv-file, you can directly import the data from http://computproteomics.bmb.sdu.dk/BMB539Data/ProtTable.csv and apply\n",
    "\n",
    "`prot_dat <- read.csv(\"ProtTable.csv\",row.names=1, skip=1)`\n",
    "\n",
    "View the table and discuss its content: `View(prot_dat)`.\n",
    "\n",
    "Convert the expression values to numerical values (ignore the warnings):\n",
    "`for (i in 13:22) prot_dat[,i] <- as.numeric(as.character(prot_dat[,i]))`\n",
    "\n",
    "Plot the column `prot_dat$Area.T24_T1.normalized` as boxplot (`boxplot(...)`) and histogram (`hist(...)`).\n",
    "\n",
    "Plot all columns with intensities (access them by `prot_dat[,13:22]`) as boxplot.\n",
    "\n",
    "Calculate _mean, median, sum_ and _standard deviation_ of one of the columns. Missing values will be dismissed by the argument _na.rm=T,_ e.g. `mean(prot_dat[,13], na.rm=T)`\n",
    "\n",
    "Transform all protein abundances to their logarithm `lprot_dat <- as.matrix(log2(prot_dat[,13:22]))`\n",
    "`lprot_dat[!is.finite(lprot_dat)] <- NA` and make again boxplots and histogram: `boxplot(lprot_dat)`.\n",
    "\n",
    "Calculate _mean, median_ and _standard deviation_ of one of the columns and try to locate the values in the boxplot."
   ]
  },
  {
   "cell_type": "code",
   "execution_count": 61,
   "metadata": {},
   "outputs": [
    {
     "name": "stderr",
     "output_type": "stream",
     "text": [
      "Warning message in eval(expr, envir, enclos):\n",
      "“NAs introduced by coercion”Warning message in eval(expr, envir, enclos):\n",
      "“NAs introduced by coercion”Warning message in eval(expr, envir, enclos):\n",
      "“NAs introduced by coercion”Warning message in eval(expr, envir, enclos):\n",
      "“NAs introduced by coercion”Warning message in eval(expr, envir, enclos):\n",
      "“NAs introduced by coercion”Warning message in eval(expr, envir, enclos):\n",
      "“NAs introduced by coercion”Warning message in eval(expr, envir, enclos):\n",
      "“NAs introduced by coercion”Warning message in eval(expr, envir, enclos):\n",
      "“NAs introduced by coercion”Warning message in eval(expr, envir, enclos):\n",
      "“NAs introduced by coercion”Warning message in eval(expr, envir, enclos):\n",
      "“NAs introduced by coercion”"
     ]
    },
    {
     "data": {
      "image/jpeg": "[encoded data removed]",
      "image/png": "",
      "image/svg+xml": [
       "<?xml version=\"1.0\" encoding=\"UTF-8\"?>\n",
       "<svg xmlns=\"http://www.w3.org/2000/svg\" xmlns:xlink=\"http://www.w3.org/1999/xlink\" width=\"288pt\" height=\"216pt\" viewBox=\"0 0 288 216\" version=\"1.1\">\n",
       "<defs>\n",
       "<g>\n",
       "<symbol overflow=\"visible\" id=\"glyph0-0\">\n",
       "<path style=\"stroke:none;\" d=\"\"/>\n",
       "</symbol>\n",
       "<symbol overflow=\"visible\" id=\"glyph0-1\">\n",
       "<path style=\"stroke:none;\" d=\"M -4.390625 -6.46875 C -7.46875 -6.46875 -9.125 -5.359375 -9.125 -3.4375 C -9.125 -1.53125 -7.4375 -0.40625 -4.46875 -0.40625 C -1.46875 -0.40625 0.1875 -1.53125 0.1875 -3.4375 C 0.1875 -5.3125 -1.46875 -6.46875 -4.390625 -6.46875 Z M -4.484375 -5.078125 C -1.96875 -5.078125 -0.984375 -4.640625 -0.984375 -3.40625 C -0.984375 -2.25 -2.03125 -1.78125 -4.453125 -1.78125 C -6.875 -1.78125 -7.890625 -2.25 -7.890625 -3.4375 C -7.890625 -4.625 -6.859375 -5.078125 -4.484375 -5.078125 Z M -4.484375 -5.078125 \"/>\n",
       "</symbol>\n",
       "<symbol overflow=\"visible\" id=\"glyph0-2\">\n",
       "<path style=\"stroke:none;\" d=\"M -2.25 -6.625 L -3.375 -6.625 L -3.375 -5.3125 L -9.125 -5.3125 L -9.125 -4.296875 L -3.453125 -0.21875 L -2.125 -0.21875 L -2.125 -3.953125 L 0 -3.953125 L 0 -5.3125 L -2.125 -5.3125 L -2.125 -6.625 Z M -3.375 -4.09375 L -3.375 -1.5625 L -7.03125 -4.171875 L -7.109375 -3.953125 L -3.375 -3.953125 Z M -3.375 -4.09375 \"/>\n",
       "</symbol>\n",
       "<symbol overflow=\"visible\" id=\"glyph0-3\">\n",
       "<path style=\"stroke:none;\" d=\"M -0.125 -4.46875 L -9.125 -4.46875 L -9.125 -3.515625 C -7.625 -3.09375 -7.578125 -2.96875 -7.34375 -1.140625 L -6.3125 -1.140625 L -6.3125 -3.09375 L 0 -3.09375 L 0 -4.46875 Z M -0.125 -4.46875 \"/>\n",
       "</symbol>\n",
       "</g>\n",
       "<clipPath id=\"clip1\">\n",
       "  <path d=\"M 154 59.039062 L 163 59.039062 L 163 68 L 154 68 Z M 154 59.039062 \"/>\n",
       "</clipPath>\n",
       "<clipPath id=\"clip2\">\n",
       "  <path d=\"M 154 59.039062 L 163 59.039062 L 163 67 L 154 67 Z M 154 59.039062 \"/>\n",
       "</clipPath>\n",
       "<clipPath id=\"clip3\">\n",
       "  <path d=\"M 154 59.039062 L 163 59.039062 L 163 68 L 154 68 Z M 154 59.039062 \"/>\n",
       "</clipPath>\n",
       "<clipPath id=\"clip4\">\n",
       "  <path d=\"M 154 59.039062 L 163 59.039062 L 163 66 L 154 66 Z M 154 59.039062 \"/>\n",
       "</clipPath>\n",
       "<clipPath id=\"clip5\">\n",
       "  <path d=\"M 154 59.039062 L 163 59.039062 L 163 67 L 154 67 Z M 154 59.039062 \"/>\n",
       "</clipPath>\n",
       "<clipPath id=\"clip6\">\n",
       "  <path d=\"M 154 59.039062 L 163 59.039062 L 163 68 L 154 68 Z M 154 59.039062 \"/>\n",
       "</clipPath>\n",
       "</defs>\n",
       "<g id=\"surface1652\">\n",
       "<rect x=\"0\" y=\"0\" width=\"288\" height=\"216\" style=\"fill:rgb(100%,100%,100%);fill-opacity:1;stroke:none;\"/>\n",
       "<path style=\" stroke:none;fill-rule:nonzero;fill:rgb(100%,100%,100%);fill-opacity:1;\" d=\"M 121.601562 133.59375 L 195.199219 133.59375 L 195.199219 109.871094 L 121.601562 109.871094 Z M 121.601562 133.59375 \"/>\n",
       "<path style=\"fill:none;stroke-width:3;stroke-linecap:butt;stroke-linejoin:round;stroke:rgb(0%,0%,0%);stroke-opacity:1;stroke-miterlimit:10;\" d=\"M 121.601562 123.996094 L 195.199219 123.996094 \"/>\n",
       "<path style=\"fill:none;stroke-width:1;stroke-linecap:round;stroke-linejoin:round;stroke:rgb(0%,0%,0%);stroke-opacity:1;stroke-dasharray:4,4;stroke-miterlimit:10;\" d=\"M 158.398438 139.464844 L 158.398438 133.59375 \"/>\n",
       "<path style=\"fill:none;stroke-width:1;stroke-linecap:round;stroke-linejoin:round;stroke:rgb(0%,0%,0%);stroke-opacity:1;stroke-dasharray:4,4;stroke-miterlimit:10;\" d=\"M 158.398438 74.304688 L 158.398438 109.871094 \"/>\n",
       "<path style=\"fill:none;stroke-width:1;stroke-linecap:round;stroke-linejoin:round;stroke:rgb(0%,0%,0%);stroke-opacity:1;stroke-miterlimit:10;\" d=\"M 140 139.464844 L 176.800781 139.464844 \"/>\n",
       "<path style=\"fill:none;stroke-width:1;stroke-linecap:round;stroke-linejoin:round;stroke:rgb(0%,0%,0%);stroke-opacity:1;stroke-miterlimit:10;\" d=\"M 140 74.304688 L 176.800781 74.304688 \"/>\n",
       "<path style=\"fill:none;stroke-width:1;stroke-linecap:round;stroke-linejoin:round;stroke:rgb(0%,0%,0%);stroke-opacity:1;stroke-miterlimit:10;\" d=\"M 121.601562 133.59375 L 195.199219 133.59375 L 195.199219 109.871094 L 121.601562 109.871094 L 121.601562 133.59375 \"/>\n",
       "<path style=\"fill:none;stroke-width:1;stroke-linecap:round;stroke-linejoin:round;stroke:rgb(0%,0%,0%);stroke-opacity:1;stroke-miterlimit:10;\" d=\"M 161.601562 70.433594 C 161.601562 74.703125 155.199219 74.703125 155.199219 70.433594 C 155.199219 66.167969 161.601562 66.167969 161.601562 70.433594 \"/>\n",
       "<path style=\"fill:none;stroke-width:1;stroke-linecap:round;stroke-linejoin:round;stroke:rgb(0%,0%,0%);stroke-opacity:1;stroke-miterlimit:10;\" d=\"M 161.601562 69.078125 C 161.601562 73.34375 155.199219 73.34375 155.199219 69.078125 C 155.199219 64.8125 161.601562 64.8125 161.601562 69.078125 \"/>\n",
       "<path style=\"fill:none;stroke-width:1;stroke-linecap:round;stroke-linejoin:round;stroke:rgb(0%,0%,0%);stroke-opacity:1;stroke-miterlimit:10;\" d=\"M 161.601562 66.296875 C 161.601562 70.566406 155.199219 70.566406 155.199219 66.296875 C 155.199219 62.03125 161.601562 62.03125 161.601562 66.296875 \"/>\n",
       "<path style=\"fill:none;stroke-width:1;stroke-linecap:round;stroke-linejoin:round;stroke:rgb(0%,0%,0%);stroke-opacity:1;stroke-miterlimit:10;\" d=\"M 161.601562 70.46875 C 161.601562 74.738281 155.199219 74.738281 155.199219 70.46875 C 155.199219 66.203125 161.601562 66.203125 161.601562 70.46875 \"/>\n",
       "<path style=\"fill:none;stroke-width:1;stroke-linecap:round;stroke-linejoin:round;stroke:rgb(0%,0%,0%);stroke-opacity:1;stroke-miterlimit:10;\" d=\"M 161.601562 70.773438 C 161.601562 75.039062 155.199219 75.039062 155.199219 70.773438 C 155.199219 66.503906 161.601562 66.503906 161.601562 70.773438 \"/>\n",
       "<path style=\"fill:none;stroke-width:1;stroke-linecap:round;stroke-linejoin:round;stroke:rgb(0%,0%,0%);stroke-opacity:1;stroke-miterlimit:10;\" d=\"M 161.601562 66.375 C 161.601562 70.640625 155.199219 70.640625 155.199219 66.375 C 155.199219 62.109375 161.601562 62.109375 161.601562 66.375 \"/>\n",
       "<g clip-path=\"url(#clip1)\" clip-rule=\"nonzero\">\n",
       "<path style=\"fill:none;stroke-width:1;stroke-linecap:round;stroke-linejoin:round;stroke:rgb(0%,0%,0%);stroke-opacity:1;stroke-miterlimit:10;\" d=\"M 161.601562 63.421875 C 161.601562 67.6875 155.199219 67.6875 155.199219 63.421875 C 155.199219 59.15625 161.601562 59.15625 161.601562 63.421875 \"/>\n",
       "</g>\n",
       "<path style=\"fill:none;stroke-width:1;stroke-linecap:round;stroke-linejoin:round;stroke:rgb(0%,0%,0%);stroke-opacity:1;stroke-miterlimit:10;\" d=\"M 161.601562 70.773438 C 161.601562 75.039062 155.199219 75.039062 155.199219 70.773438 C 155.199219 66.503906 161.601562 66.503906 161.601562 70.773438 \"/>\n",
       "<path style=\"fill:none;stroke-width:1;stroke-linecap:round;stroke-linejoin:round;stroke:rgb(0%,0%,0%);stroke-opacity:1;stroke-miterlimit:10;\" d=\"M 161.601562 74.261719 C 161.601562 78.527344 155.199219 78.527344 155.199219 74.261719 C 155.199219 69.996094 161.601562 69.996094 161.601562 74.261719 \"/>\n",
       "<path style=\"fill:none;stroke-width:1;stroke-linecap:round;stroke-linejoin:round;stroke:rgb(0%,0%,0%);stroke-opacity:1;stroke-miterlimit:10;\" d=\"M 161.601562 70.609375 C 161.601562 74.875 155.199219 74.875 155.199219 70.609375 C 155.199219 66.339844 161.601562 66.339844 161.601562 70.609375 \"/>\n",
       "<path style=\"fill:none;stroke-width:1;stroke-linecap:round;stroke-linejoin:round;stroke:rgb(0%,0%,0%);stroke-opacity:1;stroke-miterlimit:10;\" d=\"M 161.601562 68.429688 C 161.601562 72.699219 155.199219 72.699219 155.199219 68.429688 C 155.199219 64.164062 161.601562 64.164062 161.601562 68.429688 \"/>\n",
       "<path style=\"fill:none;stroke-width:1;stroke-linecap:round;stroke-linejoin:round;stroke:rgb(0%,0%,0%);stroke-opacity:1;stroke-miterlimit:10;\" d=\"M 161.601562 72.015625 C 161.601562 76.28125 155.199219 76.28125 155.199219 72.015625 C 155.199219 67.75 161.601562 67.75 161.601562 72.015625 \"/>\n",
       "<path style=\"fill:none;stroke-width:1;stroke-linecap:round;stroke-linejoin:round;stroke:rgb(0%,0%,0%);stroke-opacity:1;stroke-miterlimit:10;\" d=\"M 161.601562 67.179688 C 161.601562 71.445312 155.199219 71.445312 155.199219 67.179688 C 155.199219 62.914062 161.601562 62.914062 161.601562 67.179688 \"/>\n",
       "<path style=\"fill:none;stroke-width:1;stroke-linecap:round;stroke-linejoin:round;stroke:rgb(0%,0%,0%);stroke-opacity:1;stroke-miterlimit:10;\" d=\"M 161.601562 72.292969 C 161.601562 76.558594 155.199219 76.558594 155.199219 72.292969 C 155.199219 68.027344 161.601562 68.027344 161.601562 72.292969 \"/>\n",
       "<path style=\"fill:none;stroke-width:1;stroke-linecap:round;stroke-linejoin:round;stroke:rgb(0%,0%,0%);stroke-opacity:1;stroke-miterlimit:10;\" d=\"M 161.601562 72.464844 C 161.601562 76.734375 155.199219 76.734375 155.199219 72.464844 C 155.199219 68.199219 161.601562 68.199219 161.601562 72.464844 \"/>\n",
       "<path style=\"fill:none;stroke-width:1;stroke-linecap:round;stroke-linejoin:round;stroke:rgb(0%,0%,0%);stroke-opacity:1;stroke-miterlimit:10;\" d=\"M 161.601562 74.046875 C 161.601562 78.3125 155.199219 78.3125 155.199219 74.046875 C 155.199219 69.78125 161.601562 69.78125 161.601562 74.046875 \"/>\n",
       "<path style=\"fill:none;stroke-width:1;stroke-linecap:round;stroke-linejoin:round;stroke:rgb(0%,0%,0%);stroke-opacity:1;stroke-miterlimit:10;\" d=\"M 161.601562 70.597656 C 161.601562 74.867188 155.199219 74.867188 155.199219 70.597656 C 155.199219 66.332031 161.601562 66.332031 161.601562 70.597656 \"/>\n",
       "<path style=\"fill:none;stroke-width:1;stroke-linecap:round;stroke-linejoin:round;stroke:rgb(0%,0%,0%);stroke-opacity:1;stroke-miterlimit:10;\" d=\"M 161.601562 71.238281 C 161.601562 75.503906 155.199219 75.503906 155.199219 71.238281 C 155.199219 66.972656 161.601562 66.972656 161.601562 71.238281 \"/>\n",
       "<g clip-path=\"url(#clip2)\" clip-rule=\"nonzero\">\n",
       "<path style=\"fill:none;stroke-width:1;stroke-linecap:round;stroke-linejoin:round;stroke:rgb(0%,0%,0%);stroke-opacity:1;stroke-miterlimit:10;\" d=\"M 161.601562 62.644531 C 161.601562 66.910156 155.199219 66.910156 155.199219 62.644531 C 155.199219 58.375 161.601562 58.375 161.601562 62.644531 \"/>\n",
       "<path style=\"fill:none;stroke-width:1;stroke-linecap:round;stroke-linejoin:round;stroke:rgb(0%,0%,0%);stroke-opacity:1;stroke-miterlimit:10;\" d=\"M 161.601562 63.015625 C 161.601562 67.28125 155.199219 67.28125 155.199219 63.015625 C 155.199219 58.75 161.601562 58.75 161.601562 63.015625 \"/>\n",
       "</g>\n",
       "<path style=\"fill:none;stroke-width:1;stroke-linecap:round;stroke-linejoin:round;stroke:rgb(0%,0%,0%);stroke-opacity:1;stroke-miterlimit:10;\" d=\"M 161.601562 73.785156 C 161.601562 78.054688 155.199219 78.054688 155.199219 73.785156 C 155.199219 69.519531 161.601562 69.519531 161.601562 73.785156 \"/>\n",
       "<g clip-path=\"url(#clip3)\" clip-rule=\"nonzero\">\n",
       "<path style=\"fill:none;stroke-width:1;stroke-linecap:round;stroke-linejoin:round;stroke:rgb(0%,0%,0%);stroke-opacity:1;stroke-miterlimit:10;\" d=\"M 161.601562 63.472656 C 161.601562 67.738281 155.199219 67.738281 155.199219 63.472656 C 155.199219 59.207031 161.601562 59.207031 161.601562 63.472656 \"/>\n",
       "</g>\n",
       "<path style=\"fill:none;stroke-width:1;stroke-linecap:round;stroke-linejoin:round;stroke:rgb(0%,0%,0%);stroke-opacity:1;stroke-miterlimit:10;\" d=\"M 161.601562 67.480469 C 161.601562 71.746094 155.199219 71.746094 155.199219 67.480469 C 155.199219 63.214844 161.601562 63.214844 161.601562 67.480469 \"/>\n",
       "<path style=\"fill:none;stroke-width:1;stroke-linecap:round;stroke-linejoin:round;stroke:rgb(0%,0%,0%);stroke-opacity:1;stroke-miterlimit:10;\" d=\"M 161.601562 71.257812 C 161.601562 75.523438 155.199219 75.523438 155.199219 71.257812 C 155.199219 66.988281 161.601562 66.988281 161.601562 71.257812 \"/>\n",
       "<path style=\"fill:none;stroke-width:1;stroke-linecap:round;stroke-linejoin:round;stroke:rgb(0%,0%,0%);stroke-opacity:1;stroke-miterlimit:10;\" d=\"M 161.601562 73.785156 C 161.601562 78.054688 155.199219 78.054688 155.199219 73.785156 C 155.199219 69.519531 161.601562 69.519531 161.601562 73.785156 \"/>\n",
       "<path style=\"fill:none;stroke-width:1;stroke-linecap:round;stroke-linejoin:round;stroke:rgb(0%,0%,0%);stroke-opacity:1;stroke-miterlimit:10;\" d=\"M 161.601562 66.011719 C 161.601562 70.28125 155.199219 70.28125 155.199219 66.011719 C 155.199219 61.746094 161.601562 61.746094 161.601562 66.011719 \"/>\n",
       "<path style=\"fill:none;stroke-width:1;stroke-linecap:round;stroke-linejoin:round;stroke:rgb(0%,0%,0%);stroke-opacity:1;stroke-miterlimit:10;\" d=\"M 161.601562 74.246094 C 161.601562 78.511719 155.199219 78.511719 155.199219 74.246094 C 155.199219 69.976562 161.601562 69.976562 161.601562 74.246094 \"/>\n",
       "<path style=\"fill:none;stroke-width:1;stroke-linecap:round;stroke-linejoin:round;stroke:rgb(0%,0%,0%);stroke-opacity:1;stroke-miterlimit:10;\" d=\"M 161.601562 64.492188 C 161.601562 68.757812 155.199219 68.757812 155.199219 64.492188 C 155.199219 60.226562 161.601562 60.226562 161.601562 64.492188 \"/>\n",
       "<g clip-path=\"url(#clip4)\" clip-rule=\"nonzero\">\n",
       "<path style=\"fill:none;stroke-width:1;stroke-linecap:round;stroke-linejoin:round;stroke:rgb(0%,0%,0%);stroke-opacity:1;stroke-miterlimit:10;\" d=\"M 161.601562 62.132812 C 161.601562 66.398438 155.199219 66.398438 155.199219 62.132812 C 155.199219 57.867188 161.601562 57.867188 161.601562 62.132812 \"/>\n",
       "</g>\n",
       "<path style=\"fill:none;stroke-width:1;stroke-linecap:round;stroke-linejoin:round;stroke:rgb(0%,0%,0%);stroke-opacity:1;stroke-miterlimit:10;\" d=\"M 161.601562 68.835938 C 161.601562 73.105469 155.199219 73.105469 155.199219 68.835938 C 155.199219 64.570312 161.601562 64.570312 161.601562 68.835938 \"/>\n",
       "<path style=\"fill:none;stroke-width:1;stroke-linecap:round;stroke-linejoin:round;stroke:rgb(0%,0%,0%);stroke-opacity:1;stroke-miterlimit:10;\" d=\"M 161.601562 65.296875 C 161.601562 69.5625 155.199219 69.5625 155.199219 65.296875 C 155.199219 61.027344 161.601562 61.027344 161.601562 65.296875 \"/>\n",
       "<g clip-path=\"url(#clip5)\" clip-rule=\"nonzero\">\n",
       "<path style=\"fill:none;stroke-width:1;stroke-linecap:round;stroke-linejoin:round;stroke:rgb(0%,0%,0%);stroke-opacity:1;stroke-miterlimit:10;\" d=\"M 161.601562 62.425781 C 161.601562 66.695312 155.199219 66.695312 155.199219 62.425781 C 155.199219 58.160156 161.601562 58.160156 161.601562 62.425781 \"/>\n",
       "</g>\n",
       "<path style=\"fill:none;stroke-width:1;stroke-linecap:round;stroke-linejoin:round;stroke:rgb(0%,0%,0%);stroke-opacity:1;stroke-miterlimit:10;\" d=\"M 161.601562 67.332031 C 161.601562 71.601562 155.199219 71.601562 155.199219 67.332031 C 155.199219 63.066406 161.601562 63.066406 161.601562 67.332031 \"/>\n",
       "<path style=\"fill:none;stroke-width:1;stroke-linecap:round;stroke-linejoin:round;stroke:rgb(0%,0%,0%);stroke-opacity:1;stroke-miterlimit:10;\" d=\"M 161.601562 73.148438 C 161.601562 77.414062 155.199219 77.414062 155.199219 73.148438 C 155.199219 68.882812 161.601562 68.882812 161.601562 73.148438 \"/>\n",
       "<g clip-path=\"url(#clip6)\" clip-rule=\"nonzero\">\n",
       "<path style=\"fill:none;stroke-width:1;stroke-linecap:round;stroke-linejoin:round;stroke:rgb(0%,0%,0%);stroke-opacity:1;stroke-miterlimit:10;\" d=\"M 161.601562 63.652344 C 161.601562 67.921875 155.199219 67.921875 155.199219 63.652344 C 155.199219 59.386719 161.601562 59.386719 161.601562 63.652344 \"/>\n",
       "</g>\n",
       "<path style=\"fill:none;stroke-width:1;stroke-linecap:round;stroke-linejoin:round;stroke:rgb(0%,0%,0%);stroke-opacity:1;stroke-miterlimit:10;\" d=\"M 161.601562 65.078125 C 161.601562 69.347656 155.199219 69.347656 155.199219 65.078125 C 155.199219 60.8125 161.601562 60.8125 161.601562 65.078125 \"/>\n",
       "<path style=\"fill:none;stroke-width:1;stroke-linecap:round;stroke-linejoin:round;stroke:rgb(0%,0%,0%);stroke-opacity:1;stroke-miterlimit:10;\" d=\"M 161.601562 72.636719 C 161.601562 76.90625 155.199219 76.90625 155.199219 72.636719 C 155.199219 68.371094 161.601562 68.371094 161.601562 72.636719 \"/>\n",
       "<path style=\"fill:none;stroke-width:1;stroke-linecap:round;stroke-linejoin:round;stroke:rgb(0%,0%,0%);stroke-opacity:1;stroke-miterlimit:10;\" d=\"M 161.601562 69.691406 C 161.601562 73.960938 155.199219 73.960938 155.199219 69.691406 C 155.199219 65.425781 161.601562 65.425781 161.601562 69.691406 \"/>\n",
       "<path style=\"fill:none;stroke-width:1;stroke-linecap:round;stroke-linejoin:round;stroke:rgb(0%,0%,0%);stroke-opacity:1;stroke-miterlimit:10;\" d=\"M 161.601562 66.722656 C 161.601562 70.988281 155.199219 70.988281 155.199219 66.722656 C 155.199219 62.453125 161.601562 62.453125 161.601562 66.722656 \"/>\n",
       "<path style=\"fill:none;stroke-width:1;stroke-linecap:round;stroke-linejoin:round;stroke:rgb(0%,0%,0%);stroke-opacity:1;stroke-miterlimit:10;\" d=\"M 161.601562 69.078125 C 161.601562 73.34375 155.199219 73.34375 155.199219 69.078125 C 155.199219 64.8125 161.601562 64.8125 161.601562 69.078125 \"/>\n",
       "<path style=\"fill:none;stroke-width:1;stroke-linecap:round;stroke-linejoin:round;stroke:rgb(0%,0%,0%);stroke-opacity:1;stroke-miterlimit:10;\" d=\"M 161.601562 72.257812 C 161.601562 76.523438 155.199219 76.523438 155.199219 72.257812 C 155.199219 67.992188 161.601562 67.992188 161.601562 72.257812 \"/>\n",
       "<path style=\"fill:none;stroke-width:1;stroke-linecap:round;stroke-linejoin:round;stroke:rgb(0%,0%,0%);stroke-opacity:1;stroke-miterlimit:10;\" d=\"M 161.601562 67.914062 C 161.601562 72.179688 155.199219 72.179688 155.199219 67.914062 C 155.199219 63.644531 161.601562 63.644531 161.601562 67.914062 \"/>\n",
       "<path style=\"fill:none;stroke-width:1;stroke-linecap:round;stroke-linejoin:round;stroke:rgb(0%,0%,0%);stroke-opacity:1;stroke-miterlimit:10;\" d=\"M 161.601562 70.046875 C 161.601562 74.3125 155.199219 74.3125 155.199219 70.046875 C 155.199219 65.78125 161.601562 65.78125 161.601562 70.046875 \"/>\n",
       "<path style=\"fill:none;stroke-width:1;stroke-linecap:round;stroke-linejoin:round;stroke:rgb(0%,0%,0%);stroke-opacity:1;stroke-miterlimit:10;\" d=\"M 161.601562 70.78125 C 161.601562 75.046875 155.199219 75.046875 155.199219 70.78125 C 155.199219 66.515625 161.601562 66.515625 161.601562 70.78125 \"/>\n",
       "<path style=\"fill:none;stroke-width:1;stroke-linecap:round;stroke-linejoin:round;stroke:rgb(0%,0%,0%);stroke-opacity:1;stroke-miterlimit:10;\" d=\"M 161.601562 69.164062 C 161.601562 73.433594 155.199219 73.433594 155.199219 69.164062 C 155.199219 64.898438 161.601562 64.898438 161.601562 69.164062 \"/>\n",
       "<path style=\"fill:none;stroke-width:1;stroke-linecap:round;stroke-linejoin:round;stroke:rgb(0%,0%,0%);stroke-opacity:1;stroke-miterlimit:10;\" d=\"M 161.601562 64.128906 C 161.601562 68.394531 155.199219 68.394531 155.199219 64.128906 C 155.199219 59.863281 161.601562 59.863281 161.601562 64.128906 \"/>\n",
       "<path style=\"fill:none;stroke-width:1;stroke-linecap:round;stroke-linejoin:round;stroke:rgb(0%,0%,0%);stroke-opacity:1;stroke-miterlimit:10;\" d=\"M 59.039062 139.464844 L 59.039062 61.566406 \"/>\n",
       "<path style=\"fill:none;stroke-width:1;stroke-linecap:round;stroke-linejoin:round;stroke:rgb(0%,0%,0%);stroke-opacity:1;stroke-miterlimit:10;\" d=\"M 59.039062 139.464844 L 51.839844 139.464844 \"/>\n",
       "<path style=\"fill:none;stroke-width:1;stroke-linecap:round;stroke-linejoin:round;stroke:rgb(0%,0%,0%);stroke-opacity:1;stroke-miterlimit:10;\" d=\"M 59.039062 123.886719 L 51.839844 123.886719 \"/>\n",
       "<path style=\"fill:none;stroke-width:1;stroke-linecap:round;stroke-linejoin:round;stroke:rgb(0%,0%,0%);stroke-opacity:1;stroke-miterlimit:10;\" d=\"M 59.039062 108.308594 L 51.839844 108.308594 \"/>\n",
       "<path style=\"fill:none;stroke-width:1;stroke-linecap:round;stroke-linejoin:round;stroke:rgb(0%,0%,0%);stroke-opacity:1;stroke-miterlimit:10;\" d=\"M 59.039062 92.726562 L 51.839844 92.726562 \"/>\n",
       "<path style=\"fill:none;stroke-width:1;stroke-linecap:round;stroke-linejoin:round;stroke:rgb(0%,0%,0%);stroke-opacity:1;stroke-miterlimit:10;\" d=\"M 59.039062 77.148438 L 51.839844 77.148438 \"/>\n",
       "<path style=\"fill:none;stroke-width:1;stroke-linecap:round;stroke-linejoin:round;stroke:rgb(0%,0%,0%);stroke-opacity:1;stroke-miterlimit:10;\" d=\"M 59.039062 61.566406 L 51.839844 61.566406 \"/>\n",
       "<g style=\"fill:rgb(0%,0%,0%);fill-opacity:1;\">\n",
       "  <use xlink:href=\"#glyph0-1\" x=\"43.199219\" y=\"142.941406\"/>\n",
       "</g>\n",
       "<g style=\"fill:rgb(0%,0%,0%);fill-opacity:1;\">\n",
       "  <use xlink:href=\"#glyph0-2\" x=\"43.199219\" y=\"118.734375\"/>\n",
       "  <use xlink:href=\"#glyph0-1\" x=\"43.199219\" y=\"111.784348\"/>\n",
       "  <use xlink:href=\"#glyph0-1\" x=\"43.199219\" y=\"104.83432\"/>\n",
       "</g>\n",
       "<g style=\"fill:rgb(0%,0%,0%);fill-opacity:1;\">\n",
       "  <use xlink:href=\"#glyph0-3\" x=\"43.199219\" y=\"75.464844\"/>\n",
       "  <use xlink:href=\"#glyph0-1\" x=\"43.199219\" y=\"68.514816\"/>\n",
       "  <use xlink:href=\"#glyph0-1\" x=\"43.199219\" y=\"61.564789\"/>\n",
       "  <use xlink:href=\"#glyph0-1\" x=\"43.199219\" y=\"54.614761\"/>\n",
       "</g>\n",
       "<path style=\"fill:none;stroke-width:1;stroke-linecap:round;stroke-linejoin:round;stroke:rgb(0%,0%,0%);stroke-opacity:1;stroke-miterlimit:10;\" d=\"M 59.039062 142.558594 L 257.761719 142.558594 L 257.761719 59.039062 L 59.039062 59.039062 L 59.039062 142.558594 \"/>\n",
       "</g>\n",
       "</svg>\n"
      ]
     },
     "metadata": {
      "image/svg+xml": {
       "isolated": true
      }
     },
     "output_type": "display_data"
    },
    {
     "data": {
      "image/jpeg": "[encoded data removed]",
      "image/png": "",
      "image/svg+xml": [
       "<?xml version=\"1.0\" encoding=\"UTF-8\"?>\n",
       "<svg xmlns=\"http://www.w3.org/2000/svg\" xmlns:xlink=\"http://www.w3.org/1999/xlink\" width=\"288pt\" height=\"216pt\" viewBox=\"0 0 288 216\" version=\"1.1\">\n",
       "<defs>\n",
       "<g>\n",
       "<symbol overflow=\"visible\" id=\"glyph0-0\">\n",
       "<path style=\"stroke:none;\" d=\"\"/>\n",
       "</symbol>\n",
       "<symbol overflow=\"visible\" id=\"glyph0-1\">\n",
       "<path style=\"stroke:none;\" d=\"M 9.84375 -0.140625 L 9.84375 -11.140625 L 7.5 -11.140625 L 7.5 -7.0625 L 3.296875 -7.0625 L 3.296875 -11.140625 L 0.953125 -11.140625 L 0.953125 0 L 3.296875 0 L 3.296875 -4.9375 L 7.5 -4.9375 L 7.5 0 L 9.84375 0 Z M 9.84375 -0.140625 \"/>\n",
       "</symbol>\n",
       "<symbol overflow=\"visible\" id=\"glyph0-2\">\n",
       "<path style=\"stroke:none;\" d=\"M 3.125 -0.140625 L 3.125 -8.3125 L 0.9375 -8.3125 L 0.9375 0 L 3.125 0 Z M 3.15625 -9.15625 L 3.15625 -11.375 L 0.96875 -11.375 L 0.96875 -9.015625 L 3.15625 -9.015625 Z M 3.15625 -9.15625 \"/>\n",
       "</symbol>\n",
       "<symbol overflow=\"visible\" id=\"glyph0-3\">\n",
       "<path style=\"stroke:none;\" d=\"M 7.796875 -2.515625 L 7.796875 -2.625 C 7.796875 -3.546875 7.234375 -4.375 6.171875 -4.6875 L 3.53125 -5.4375 C 2.953125 -5.609375 2.84375 -5.609375 2.84375 -5.9375 C 2.84375 -6.375 3.28125 -6.546875 4.015625 -6.546875 C 5.015625 -6.546875 5.4375 -6.3125 5.453125 -5.453125 L 7.578125 -5.453125 C 7.546875 -7.296875 6.1875 -8.453125 4.03125 -8.453125 C 1.984375 -8.453125 0.65625 -7.296875 0.65625 -5.640625 C 0.65625 -4.65625 0.984375 -3.984375 2.46875 -3.515625 L 4.96875 -2.75 C 5.484375 -2.578125 5.609375 -2.546875 5.609375 -2.328125 C 5.609375 -1.828125 5.078125 -1.78125 4.109375 -1.78125 C 3.15625 -1.78125 2.703125 -1.8125 2.484375 -2.8125 L 0.375 -2.8125 C 0.4375 -0.921875 1.78125 0.140625 4.234375 0.140625 C 6.5 0.140625 7.796875 -0.890625 7.796875 -2.515625 Z M 7.796875 -2.515625 \"/>\n",
       "</symbol>\n",
       "<symbol overflow=\"visible\" id=\"glyph0-4\">\n",
       "<path style=\"stroke:none;\" d=\"M 4.53125 -0.140625 L 4.53125 -1.734375 C 4.28125 -1.703125 4.15625 -1.6875 4.015625 -1.6875 C 3.453125 -1.6875 3.375 -1.71875 3.375 -2.4375 L 3.375 -6.5 L 4.53125 -6.5 L 4.53125 -8.15625 L 3.375 -8.15625 L 3.375 -10.3125 L 1.171875 -10.3125 L 1.171875 -8.15625 L 0.15625 -8.15625 L 0.15625 -6.5 L 1.171875 -6.5 L 1.171875 -1.859375 C 1.171875 -0.59375 1.90625 0.0625 3.28125 0.0625 C 3.734375 0.0625 4.109375 0.015625 4.53125 0 Z M 4.53125 -0.140625 \"/>\n",
       "</symbol>\n",
       "<symbol overflow=\"visible\" id=\"glyph0-5\">\n",
       "<path style=\"stroke:none;\" d=\"M 8.53125 -4.09375 C 8.53125 -6.828125 7 -8.453125 4.484375 -8.453125 C 2.03125 -8.453125 0.46875 -6.796875 0.46875 -4.15625 C 0.46875 -1.5 2.03125 0.140625 4.5 0.140625 C 6.953125 0.140625 8.53125 -1.515625 8.53125 -4.09375 Z M 6.328125 -4.125 C 6.328125 -2.625 5.625 -1.8125 4.5 -1.8125 C 3.375 -1.8125 2.65625 -2.625 2.65625 -4.15625 C 2.65625 -5.6875 3.375 -6.5 4.5 -6.5 C 5.65625 -6.5 6.328125 -5.703125 6.328125 -4.125 Z M 6.328125 -4.125 \"/>\n",
       "</symbol>\n",
       "<symbol overflow=\"visible\" id=\"glyph0-6\">\n",
       "<path style=\"stroke:none;\" d=\"M 8.109375 0.140625 L 8.109375 -8.3125 L 6.015625 -8.3125 L 6.015625 -7.15625 C 5.484375 -7.984375 4.765625 -8.453125 3.84375 -8.453125 C 1.9375 -8.453125 0.453125 -6.5625 0.453125 -4.0625 C 0.453125 -1.5625 1.8125 0.140625 3.796875 0.140625 C 4.734375 0.140625 5.34375 -0.171875 6.015625 -0.875 L 6.015625 0.140625 C 6.015625 1.109375 5.34375 1.640625 4.3125 1.640625 C 3.515625 1.640625 3.046875 1.453125 2.828125 0.703125 L 0.609375 0.703125 C 0.640625 2.140625 2.03125 3.25 4.234375 3.25 C 6.65625 3.25 8.109375 2.03125 8.109375 0.140625 Z M 6.046875 -4.09375 C 6.046875 -2.640625 5.34375 -1.875 4.265625 -1.875 C 3.28125 -1.875 2.640625 -2.640625 2.640625 -4.09375 C 2.640625 -5.625 3.28125 -6.4375 4.296875 -6.4375 C 5.34375 -6.4375 6.046875 -5.59375 6.046875 -4.09375 Z M 6.046875 -4.09375 \"/>\n",
       "</symbol>\n",
       "<symbol overflow=\"visible\" id=\"glyph0-7\">\n",
       "<path style=\"stroke:none;\" d=\"M 5.5625 -6.1875 L 5.5625 -8.421875 C 5.390625 -8.453125 5.328125 -8.453125 5.265625 -8.453125 C 4.3125 -8.453125 3.40625 -7.6875 3.078125 -6.828125 L 3.078125 -8.3125 L 0.875 -8.3125 L 0.875 0 L 3.078125 0 L 3.078125 -4.40625 C 3.078125 -5.640625 3.640625 -6.109375 4.859375 -6.109375 C 5.078125 -6.109375 5.234375 -6.09375 5.5625 -6.03125 Z M 5.5625 -6.1875 \"/>\n",
       "</symbol>\n",
       "<symbol overflow=\"visible\" id=\"glyph0-8\">\n",
       "<path style=\"stroke:none;\" d=\"M 7.859375 -0.140625 L 7.859375 -0.46875 C 7.46875 -0.8125 7.375 -0.953125 7.375 -1.375 L 7.375 -5.84375 C 7.375 -7.484375 6.21875 -8.453125 4.046875 -8.453125 C 1.859375 -8.453125 0.671875 -7.390625 0.53125 -5.390625 L 2.640625 -5.390625 C 2.75 -6.359375 3.0625 -6.5 4.078125 -6.5 C 4.890625 -6.5 5.234375 -6.359375 5.234375 -5.828125 C 5.234375 -4.984375 4.671875 -5.203125 3.625 -5.015625 L 2.78125 -4.875 C 1.1875 -4.59375 0.359375 -3.765625 0.359375 -2.3125 C 0.359375 -0.75 1.515625 0.140625 2.859375 0.140625 C 3.75 0.140625 4.609375 -0.28125 5.25 -0.96875 C 5.25 -0.734375 5.3125 -0.265625 5.53125 0 L 7.859375 0 Z M 5.234375 -3.578125 C 5.234375 -2.375 4.703125 -1.8125 3.640625 -1.8125 C 2.9375 -1.8125 2.546875 -1.953125 2.546875 -2.546875 C 2.546875 -3.15625 2.828125 -3.25 3.703125 -3.40625 L 4.40625 -3.546875 C 4.96875 -3.65625 5.078125 -3.71875 5.234375 -3.796875 Z M 5.234375 -3.578125 \"/>\n",
       "</symbol>\n",
       "<symbol overflow=\"visible\" id=\"glyph0-9\">\n",
       "<path style=\"stroke:none;\" d=\"M 12.328125 -0.140625 L 12.328125 -5.828125 C 12.328125 -7.390625 11.328125 -8.453125 9.71875 -8.453125 C 8.703125 -8.453125 7.9375 -8.046875 7.359375 -7.28125 C 7 -7.96875 6.171875 -8.453125 5.171875 -8.453125 C 4.25 -8.453125 3.609375 -8.09375 3.015625 -7.375 L 3.015625 -8.3125 L 0.828125 -8.3125 L 0.828125 0 L 3.03125 0 L 3.03125 -4.96875 C 3.03125 -5.953125 3.515625 -6.40625 4.40625 -6.40625 C 5.109375 -6.40625 5.484375 -6.140625 5.484375 -5.5 L 5.484375 0 L 7.671875 0 L 7.671875 -4.96875 C 7.671875 -5.953125 8.171875 -6.40625 9.0625 -6.40625 C 9.765625 -6.40625 10.140625 -6.140625 10.140625 -5.5 L 10.140625 0 L 12.328125 0 Z M 12.328125 -0.140625 \"/>\n",
       "</symbol>\n",
       "<symbol overflow=\"visible\" id=\"glyph0-10\">\n",
       "<path style=\"stroke:none;\" d=\"\"/>\n",
       "</symbol>\n",
       "<symbol overflow=\"visible\" id=\"glyph0-11\">\n",
       "<path style=\"stroke:none;\" d=\"M 4.703125 -6.640625 L 4.703125 -8.15625 L 3.46875 -8.15625 L 3.46875 -8.8125 C 3.46875 -9.234375 3.609375 -9.296875 4 -9.296875 C 4.171875 -9.296875 4.40625 -9.28125 4.640625 -9.234375 L 4.640625 -11.09375 C 4.203125 -11.125 3.6875 -11.140625 3.40625 -11.140625 C 2.015625 -11.140625 1.28125 -10.34375 1.28125 -8.984375 L 1.28125 -8.15625 L 0.15625 -8.15625 L 0.15625 -6.5 L 1.28125 -6.5 L 1.28125 0 L 3.46875 0 L 3.46875 -6.5 L 4.703125 -6.5 Z M 4.703125 -6.640625 \"/>\n",
       "</symbol>\n",
       "<symbol overflow=\"visible\" id=\"glyph0-12\">\n",
       "<path style=\"stroke:none;\" d=\"M 8.59375 -4.15625 C 8.59375 -6.546875 7.296875 -8.453125 5.1875 -8.453125 C 4.171875 -8.453125 3.40625 -7.96875 3 -7.234375 L 3 -8.3125 L 0.8125 -8.3125 L 0.8125 3.25 L 3 3.25 L 3 -0.96875 C 3.40625 -0.203125 4.171875 0.140625 5.1875 0.140625 C 7.125 0.140625 8.59375 -1.71875 8.59375 -4.15625 Z M 6.40625 -4.125 C 6.40625 -2.671875 5.734375 -1.875 4.703125 -1.875 C 3.671875 -1.875 3 -2.65625 3 -4.15625 C 3 -5.671875 3.671875 -6.4375 4.703125 -6.4375 C 5.765625 -6.4375 6.40625 -5.671875 6.40625 -4.125 Z M 6.40625 -4.125 \"/>\n",
       "</symbol>\n",
       "<symbol overflow=\"visible\" id=\"glyph0-13\">\n",
       "<path style=\"stroke:none;\" d=\"M 8.65625 2.6875 L 8.65625 1.515625 L -0.390625 1.515625 L -0.390625 2.8125 L 8.65625 2.8125 Z M 8.65625 2.6875 \"/>\n",
       "</symbol>\n",
       "<symbol overflow=\"visible\" id=\"glyph0-14\">\n",
       "<path style=\"stroke:none;\" d=\"M 8.171875 -0.140625 L 8.171875 -11.140625 L 5.984375 -11.140625 L 5.984375 -7.34375 C 5.546875 -8.03125 4.8125 -8.453125 3.8125 -8.453125 C 1.890625 -8.453125 0.375 -6.578125 0.375 -4.140625 C 0.375 -1.859375 1.6875 0.140625 3.8125 0.140625 C 4.8125 0.140625 5.546875 -0.265625 5.984375 -0.84375 L 5.984375 0 L 8.171875 0 Z M 5.984375 -4.109375 C 5.984375 -2.65625 5.328125 -1.875 4.28125 -1.875 C 3.234375 -1.875 2.5625 -2.671875 2.5625 -4.140625 C 2.5625 -5.640625 3.234375 -6.4375 4.28125 -6.4375 C 5.34375 -6.4375 5.984375 -5.65625 5.984375 -4.109375 Z M 5.984375 -4.109375 \"/>\n",
       "</symbol>\n",
       "<symbol overflow=\"visible\" id=\"glyph0-15\">\n",
       "<path style=\"stroke:none;\" d=\"M 7.90625 -3.046875 C 7.90625 -4.6875 6.953125 -5.6875 4.6875 -6.3125 L 4.6875 -9.046875 C 5.390625 -8.953125 5.734375 -8.46875 5.734375 -7.421875 L 7.75 -7.421875 C 7.75 -9.421875 6.515625 -10.734375 4.6875 -10.84375 L 4.6875 -11.640625 L 3.5625 -11.640625 L 3.5625 -10.84375 C 1.703125 -10.65625 0.515625 -9.4375 0.515625 -7.765625 C 0.515625 -6.109375 1.609375 -4.921875 3.5625 -4.453125 L 3.5625 -1.546875 C 2.78125 -1.703125 2.375 -2.171875 2.3125 -3.359375 L 0.265625 -3.359375 L 0.265625 -3.078125 C 0.265625 -2 0.734375 -1 1.5625 -0.40625 C 2.125 0 2.734375 0.21875 3.5625 0.3125 L 3.5625 1.875 L 4.6875 1.875 L 4.6875 0.3125 C 5.453125 0.21875 6.109375 -0.015625 6.609375 -0.328125 C 7.40625 -0.84375 7.90625 -1.921875 7.90625 -3.046875 Z M 3.625 -6.640625 C 2.78125 -6.90625 2.453125 -7.171875 2.453125 -7.828125 C 2.453125 -8.59375 2.796875 -8.90625 3.5625 -9.046875 L 3.5625 -6.640625 Z M 5.828125 -2.859375 C 5.828125 -2.109375 5.46875 -1.765625 4.6875 -1.5625 L 4.6875 -4.1875 C 5.46875 -3.953125 5.828125 -3.578125 5.828125 -2.859375 Z M 5.828125 -2.859375 \"/>\n",
       "</symbol>\n",
       "<symbol overflow=\"visible\" id=\"glyph0-16\">\n",
       "<path style=\"stroke:none;\" d=\"M 10.53125 -0.140625 L 6.71875 -11.140625 L 4.25 -11.140625 L 0.28125 0 L 2.671875 0 L 3.40625 -2.1875 L 7.453125 -2.1875 L 8.171875 0 L 10.5625 0 Z M 6.859375 -4.328125 L 4.109375 -4.328125 L 5.4375 -8.28125 L 6.75 -4.328125 Z M 6.859375 -4.328125 \"/>\n",
       "</symbol>\n",
       "<symbol overflow=\"visible\" id=\"glyph0-17\">\n",
       "<path style=\"stroke:none;\" d=\"M 7.875 -3.859375 C 7.875 -6.640625 6.421875 -8.453125 4.046875 -8.453125 C 1.75 -8.453125 0.265625 -6.75 0.265625 -4.046875 C 0.265625 -1.46875 1.734375 0.140625 4.015625 0.140625 C 5.8125 0.140625 7.3125 -0.8125 7.8125 -2.53125 L 5.671875 -2.53125 C 5.4375 -1.8125 4.84375 -1.734375 4.078125 -1.734375 C 3.09375 -1.734375 2.515625 -2.046875 2.453125 -3.46875 L 7.84375 -3.46875 Z M 5.65625 -5.125 L 2.5 -5.125 C 2.625 -6.109375 3.09375 -6.59375 4.03125 -6.59375 C 4.921875 -6.59375 5.484375 -6.140625 5.578125 -5.125 Z M 5.65625 -5.125 \"/>\n",
       "</symbol>\n",
       "<symbol overflow=\"visible\" id=\"glyph0-18\">\n",
       "<path style=\"stroke:none;\" d=\"M 3.234375 -0.140625 L 3.234375 -2.4375 L 0.890625 -2.4375 L 0.890625 0 L 3.234375 0 Z M 3.234375 -0.140625 \"/>\n",
       "</symbol>\n",
       "<symbol overflow=\"visible\" id=\"glyph0-19\">\n",
       "<path style=\"stroke:none;\" d=\"M 8.953125 -9.140625 L 8.953125 -11.140625 L 0.15625 -11.140625 L 0.15625 -9 L 3.4375 -9 L 3.4375 0 L 5.78125 0 L 5.78125 -9 L 8.953125 -9 Z M 8.953125 -9.140625 \"/>\n",
       "</symbol>\n",
       "<symbol overflow=\"visible\" id=\"glyph0-20\">\n",
       "<path style=\"stroke:none;\" d=\"M 7.71875 -7.578125 C 7.71875 -9.609375 6.28125 -11.0625 4.046875 -11.0625 C 1.859375 -11.0625 0.515625 -9.625 0.515625 -7.390625 C 0.515625 -7.296875 0.515625 -7.1875 0.546875 -6.890625 L 2.640625 -6.890625 L 2.640625 -7.359375 C 2.640625 -8.546875 3.140625 -9.09375 4.09375 -9.09375 C 5.015625 -9.09375 5.53125 -8.59375 5.53125 -7.53125 C 5.53125 -6.359375 5.171875 -6 2.84375 -4.34375 C 1.0625 -3.109375 0.484375 -2.09375 0.390625 0 L 7.671875 0 L 7.671875 -2.125 L 3.265625 -2.125 C 3.46875 -2.5625 3.78125 -2.75 5.34375 -3.890625 C 7.171875 -5.234375 7.71875 -6.140625 7.71875 -7.578125 Z M 7.71875 -7.578125 \"/>\n",
       "</symbol>\n",
       "<symbol overflow=\"visible\" id=\"glyph0-21\">\n",
       "<path style=\"stroke:none;\" d=\"M 7.828125 -2.46875 L 7.828125 -4.34375 L 6.71875 -4.34375 L 6.71875 -10.84375 L 4.203125 -10.84375 L 0.296875 -4.296875 L 0.296875 -2.34375 L 4.53125 -2.34375 L 4.53125 0 L 6.71875 0 L 6.71875 -2.34375 L 7.828125 -2.34375 Z M 4.59375 -4.34375 L 2 -4.34375 L 4.53125 -8.484375 L 4.53125 -4.34375 Z M 4.59375 -4.34375 \"/>\n",
       "</symbol>\n",
       "<symbol overflow=\"visible\" id=\"glyph0-22\">\n",
       "<path style=\"stroke:none;\" d=\"M 5.671875 -0.140625 L 5.671875 -10.84375 L 4.234375 -10.84375 C 3.859375 -9.453125 2.828125 -8.9375 0.953125 -8.9375 L 0.953125 -7.296875 L 3.484375 -7.296875 L 3.484375 0 L 5.671875 0 Z M 5.671875 -0.140625 \"/>\n",
       "</symbol>\n",
       "<symbol overflow=\"visible\" id=\"glyph0-23\">\n",
       "<path style=\"stroke:none;\" d=\"M 8.1875 -0.140625 L 8.1875 -5.53125 C 8.1875 -7.296875 7.15625 -8.453125 5.4375 -8.453125 C 4.359375 -8.453125 3.578125 -8 3.078125 -7.234375 L 3.078125 -8.3125 L 0.875 -8.3125 L 0.875 0 L 3.078125 0 L 3.078125 -4.96875 C 3.078125 -5.921875 3.703125 -6.40625 4.703125 -6.40625 C 5.609375 -6.40625 6 -6.046875 6 -5.09375 L 6 0 L 8.1875 0 Z M 8.1875 -0.140625 \"/>\n",
       "</symbol>\n",
       "<symbol overflow=\"visible\" id=\"glyph0-24\">\n",
       "<path style=\"stroke:none;\" d=\"M 3.125 -0.140625 L 3.125 -11.140625 L 0.9375 -11.140625 L 0.9375 0 L 3.125 0 Z M 3.125 -0.140625 \"/>\n",
       "</symbol>\n",
       "<symbol overflow=\"visible\" id=\"glyph0-25\">\n",
       "<path style=\"stroke:none;\" d=\"M 7.015625 -0.140625 L 7.015625 -1.953125 L 3.109375 -1.953125 L 6.890625 -6.40625 L 6.890625 -8.3125 L 0.515625 -8.3125 L 0.515625 -6.359375 L 4.046875 -6.359375 L 0.25 -1.890625 L 0.25 0 L 7.015625 0 Z M 7.015625 -0.140625 \"/>\n",
       "</symbol>\n",
       "<symbol overflow=\"visible\" id=\"glyph1-0\">\n",
       "<path style=\"stroke:none;\" d=\"\"/>\n",
       "</symbol>\n",
       "<symbol overflow=\"visible\" id=\"glyph1-1\">\n",
       "<path style=\"stroke:none;\" d=\"M 6.65625 -3.34375 C 6.65625 -5.53125 5.46875 -7 3.71875 -7 C 2.84375 -7 2.03125 -6.546875 1.53125 -5.78125 L 1.765625 -5.6875 L 1.765625 -6.8125 L 0.546875 -6.8125 L 0.546875 2.71875 L 1.84375 2.71875 L 1.84375 -0.90625 L 1.625 -0.828125 C 2.171875 -0.15625 2.890625 0.1875 3.734375 0.1875 C 5.421875 0.1875 6.65625 -1.25 6.65625 -3.34375 Z M 5.3125 -3.359375 C 5.3125 -1.875 4.6875 -1.046875 3.546875 -1.046875 C 2.453125 -1.046875 1.84375 -1.8125 1.84375 -3.34375 C 1.84375 -4.890625 2.453125 -5.765625 3.546875 -5.765625 C 4.703125 -5.765625 5.3125 -4.921875 5.3125 -3.359375 Z M 5.3125 -3.359375 \"/>\n",
       "</symbol>\n",
       "<symbol overflow=\"visible\" id=\"glyph1-2\">\n",
       "<path style=\"stroke:none;\" d=\"M 4.140625 -5.765625 L 4.140625 -6.9375 C 3.84375 -6.984375 3.75 -7 3.609375 -7 C 2.9375 -7 2.328125 -6.546875 1.71875 -5.578125 L 1.953125 -5.484375 L 1.953125 -6.8125 L 0.734375 -6.8125 L 0.734375 0 L 2.03125 0 L 2.03125 -3.53125 C 2.03125 -5 2.40625 -5.609375 4.140625 -5.640625 Z M 4.140625 -5.765625 \"/>\n",
       "</symbol>\n",
       "<symbol overflow=\"visible\" id=\"glyph1-3\">\n",
       "<path style=\"stroke:none;\" d=\"M 6.5 -3.34375 C 6.5 -5.609375 5.28125 -7 3.40625 -7 C 1.5625 -7 0.3125 -5.59375 0.3125 -3.40625 C 0.3125 -1.203125 1.546875 0.1875 3.40625 0.1875 C 5.25 0.1875 6.5 -1.203125 6.5 -3.34375 Z M 5.15625 -3.359375 C 5.15625 -1.828125 4.5625 -1.03125 3.40625 -1.03125 C 2.25 -1.03125 1.65625 -1.8125 1.65625 -3.40625 C 1.65625 -4.96875 2.25 -5.78125 3.40625 -5.78125 C 4.59375 -5.78125 5.15625 -4.984375 5.15625 -3.359375 Z M 5.15625 -3.359375 \"/>\n",
       "</symbol>\n",
       "<symbol overflow=\"visible\" id=\"glyph1-4\">\n",
       "<path style=\"stroke:none;\" d=\"M 3.296875 -0.125 L 3.296875 -1.171875 C 3.03125 -1.09375 2.875 -1.09375 2.671875 -1.09375 C 2.21875 -1.09375 2.21875 -1.078125 2.21875 -1.53125 L 2.21875 -5.703125 L 3.296875 -5.703125 L 3.296875 -6.8125 L 2.21875 -6.8125 L 2.21875 -8.609375 L 0.921875 -8.609375 L 0.921875 -6.8125 L 0.03125 -6.8125 L 0.03125 -5.703125 L 0.921875 -5.703125 L 0.921875 -1.078125 C 0.921875 -0.40625 1.515625 0.09375 2.328125 0.09375 C 2.578125 0.09375 2.828125 0.0625 3.296875 -0.015625 Z M 3.296875 -0.125 \"/>\n",
       "</symbol>\n",
       "<symbol overflow=\"visible\" id=\"glyph1-5\">\n",
       "<path style=\"stroke:none;\" d=\"M 7.34375 2.09375 L 7.34375 1.328125 L -0.40625 1.328125 L -0.40625 2.21875 L 7.34375 2.21875 Z M 7.34375 2.09375 \"/>\n",
       "</symbol>\n",
       "<symbol overflow=\"visible\" id=\"glyph1-6\">\n",
       "<path style=\"stroke:none;\" d=\"M 6.3125 -0.125 L 6.3125 -9.375 L 5.015625 -9.375 L 5.015625 -5.84375 L 5.234375 -5.9375 C 4.796875 -6.59375 4.015625 -7 3.140625 -7 C 1.4375 -7 0.1875 -5.546875 0.1875 -3.46875 C 0.1875 -1.25 1.40625 0.1875 3.171875 0.1875 C 4.078125 0.1875 4.78125 -0.1875 5.34375 -1 L 5.125 -1.09375 L 5.125 0 L 6.3125 0 Z M 5.015625 -3.375 C 5.015625 -1.859375 4.421875 -1.046875 3.328125 -1.046875 C 2.171875 -1.046875 1.53125 -1.875 1.53125 -3.40625 C 1.53125 -4.921875 2.171875 -5.765625 3.3125 -5.765625 C 4.4375 -5.765625 5.015625 -4.890625 5.015625 -3.375 Z M 5.015625 -3.375 \"/>\n",
       "</symbol>\n",
       "<symbol overflow=\"visible\" id=\"glyph1-7\">\n",
       "<path style=\"stroke:none;\" d=\"M 6.8125 -0.15625 L 6.8125 -1.09375 C 6.578125 -1.046875 6.53125 -1.046875 6.46875 -1.046875 C 6.09375 -1.046875 6.03125 -1.09375 6.03125 -1.421875 L 6.03125 -5.078125 C 6.03125 -6.234375 5.046875 -7 3.4375 -7 C 1.84375 -7 0.734375 -6.25 0.65625 -4.609375 L 1.96875 -4.609375 C 2.078125 -5.53125 2.421875 -5.78125 3.40625 -5.78125 C 4.34375 -5.78125 4.71875 -5.546875 4.71875 -4.921875 L 4.71875 -4.65625 C 4.71875 -4.21875 4.59375 -4.15625 3.78125 -4.0625 C 2.296875 -3.875 2.078125 -3.828125 1.671875 -3.65625 C 0.90625 -3.34375 0.390625 -2.625 0.390625 -1.828125 C 0.390625 -0.640625 1.34375 0.1875 2.671875 0.1875 C 3.515625 0.1875 4.40625 -0.203125 4.828125 -0.640625 C 4.875 -0.40625 5.46875 0.09375 5.96875 0.09375 C 6.1875 0.09375 6.34375 0.0625 6.8125 -0.046875 Z M 4.71875 -2.390625 C 4.71875 -1.453125 3.90625 -0.984375 2.90625 -0.984375 C 2.09375 -0.984375 1.734375 -1.140625 1.734375 -1.84375 C 1.734375 -2.53125 2.078125 -2.71875 3.1875 -2.875 C 4.28125 -3.03125 4.515625 -3.078125 4.71875 -3.171875 Z M 4.71875 -2.390625 \"/>\n",
       "</symbol>\n",
       "<symbol overflow=\"visible\" id=\"glyph1-8\">\n",
       "<path style=\"stroke:none;\" d=\"M 6.59375 -2.5625 C 6.59375 -3.453125 6.21875 -4.15625 5.5 -4.578125 C 5.171875 -4.765625 4.921875 -4.875 3.90625 -5.171875 L 3.90625 -8.0625 C 4.609375 -8.03125 5.0625 -7.53125 5.078125 -6.484375 L 6.328125 -6.484375 C 6.328125 -8.03125 5.28125 -9.09375 3.90625 -9.203125 L 3.90625 -9.890625 L 2.90625 -9.890625 L 2.90625 -9.1875 C 1.4375 -9.015625 0.4375 -8 0.4375 -6.578125 C 0.4375 -5.78125 0.78125 -5.09375 1.359375 -4.65625 C 1.6875 -4.421875 2.125 -4.25 2.90625 -4.015625 L 2.90625 -0.84375 C 2.484375 -0.90625 2.078125 -1.109375 1.796875 -1.5 C 1.59375 -1.78125 1.609375 -1.90625 1.515625 -2.859375 L 0.28125 -2.859375 C 0.28125 -2.65625 0.265625 -2.578125 0.265625 -2.515625 C 0.265625 -0.90625 1.34375 0.1875 2.90625 0.28125 L 2.90625 1.578125 L 3.90625 1.578125 L 3.90625 0.28125 C 5.53125 0.15625 6.59375 -0.984375 6.59375 -2.5625 Z M 3.03125 -5.328125 C 2.046875 -5.59375 1.71875 -5.9375 1.71875 -6.703125 C 1.71875 -7.53125 2.109375 -7.9375 2.90625 -8.03125 L 2.90625 -5.34375 Z M 5.3125 -2.40625 C 5.3125 -1.53125 4.890625 -0.96875 3.90625 -0.84375 L 3.90625 -3.8125 C 5.046875 -3.484375 5.3125 -3.234375 5.3125 -2.40625 Z M 5.3125 -2.40625 \"/>\n",
       "</symbol>\n",
       "<symbol overflow=\"visible\" id=\"glyph1-9\">\n",
       "<path style=\"stroke:none;\" d=\"M 8.28125 -0.125 L 5.03125 -9.375 L 3.375 -9.375 L 0.03125 0 L 1.53125 0 L 2.484375 -2.734375 L 5.84375 -2.734375 L 6.78125 0 L 8.34375 0 Z M 5.59375 -3.96875 L 2.875 -3.96875 L 4.328125 -7.984375 L 4.0625 -7.984375 L 5.40625 -3.96875 Z M 5.59375 -3.96875 \"/>\n",
       "</symbol>\n",
       "<symbol overflow=\"visible\" id=\"glyph1-10\">\n",
       "<path style=\"stroke:none;\" d=\"M 6.53125 -3.09375 C 6.53125 -4.046875 6.46875 -4.65625 6.28125 -5.140625 C 5.84375 -6.21875 4.71875 -7 3.5 -7 C 1.671875 -7 0.359375 -5.515625 0.359375 -3.359375 C 0.359375 -1.21875 1.640625 0.1875 3.46875 0.1875 C 4.96875 0.1875 6.140625 -0.78125 6.421875 -2.25 L 5.125 -2.25 C 4.796875 -1.25 4.34375 -1.03125 3.515625 -1.03125 C 2.421875 -1.03125 1.734375 -1.59375 1.71875 -2.96875 L 6.53125 -2.96875 Z M 5.390625 -3.9375 C 5.390625 -3.9375 5.203125 -4.0625 5.21875 -4.09375 L 1.75 -4.09375 C 1.828125 -5.109375 2.4375 -5.78125 3.484375 -5.78125 C 4.515625 -5.78125 5.15625 -5.046875 5.15625 -4.03125 Z M 5.390625 -3.9375 \"/>\n",
       "</symbol>\n",
       "<symbol overflow=\"visible\" id=\"glyph1-11\">\n",
       "<path style=\"stroke:none;\" d=\"M 2.515625 -0.125 L 2.515625 -1.5625 L 0.953125 -1.5625 L 0.953125 0 L 2.515625 0 Z M 2.515625 -0.125 \"/>\n",
       "</symbol>\n",
       "<symbol overflow=\"visible\" id=\"glyph1-12\">\n",
       "<path style=\"stroke:none;\" d=\"M 7.53125 -8.21875 L 7.53125 -9.375 L 0.125 -9.375 L 0.125 -8.09375 L 3.125 -8.09375 L 3.125 0 L 4.546875 0 L 4.546875 -8.09375 L 7.53125 -8.09375 Z M 7.53125 -8.21875 \"/>\n",
       "</symbol>\n",
       "<symbol overflow=\"visible\" id=\"glyph1-13\">\n",
       "<path style=\"stroke:none;\" d=\"M 6.515625 -6.390625 C 6.515625 -7.890625 5.21875 -9.125 3.546875 -9.125 C 1.734375 -9.125 0.546875 -8.0625 0.484375 -5.78125 L 1.84375 -5.78125 C 1.9375 -7.40625 2.421875 -7.90625 3.515625 -7.90625 C 4.515625 -7.90625 5.125 -7.3125 5.125 -6.359375 C 5.125 -5.65625 4.75 -5.15625 3.96875 -4.703125 L 2.8125 -4.046875 C 0.96875 -3 0.390625 -2.078125 0.28125 0 L 6.453125 0 L 6.453125 -1.34375 L 1.8125 -1.34375 C 1.90625 -1.9375 2.265625 -2.3125 3.34375 -2.953125 L 4.59375 -3.625 C 5.84375 -4.28125 6.515625 -5.296875 6.515625 -6.390625 Z M 6.515625 -6.390625 \"/>\n",
       "</symbol>\n",
       "<symbol overflow=\"visible\" id=\"glyph1-14\">\n",
       "<path style=\"stroke:none;\" d=\"M 6.625 -2.25 L 6.625 -3.375 L 5.3125 -3.375 L 5.3125 -9.125 L 4.296875 -9.125 L 0.21875 -3.453125 L 0.21875 -2.125 L 3.953125 -2.125 L 3.953125 0 L 5.3125 0 L 5.3125 -2.125 L 6.625 -2.125 Z M 4.09375 -3.375 L 1.5625 -3.375 L 4.171875 -7.03125 L 3.953125 -7.109375 L 3.953125 -3.375 Z M 4.09375 -3.375 \"/>\n",
       "</symbol>\n",
       "<symbol overflow=\"visible\" id=\"glyph1-15\">\n",
       "<path style=\"stroke:none;\" d=\"M 4.46875 -0.125 L 4.46875 -9.125 L 3.515625 -9.125 C 3.09375 -7.625 2.96875 -7.578125 1.140625 -7.34375 L 1.140625 -6.3125 L 3.09375 -6.3125 L 3.09375 0 L 4.46875 0 Z M 4.46875 -0.125 \"/>\n",
       "</symbol>\n",
       "<symbol overflow=\"visible\" id=\"glyph1-16\">\n",
       "<path style=\"stroke:none;\" d=\"M 6.21875 -0.125 L 6.21875 -5.078125 C 6.21875 -6.15625 5.28125 -7 4.015625 -7 C 3.03125 -7 2.3125 -6.578125 1.734375 -5.65625 L 1.96875 -5.578125 L 1.96875 -6.8125 L 0.734375 -6.8125 L 0.734375 0 L 2.03125 0 L 2.03125 -3.734375 C 2.03125 -5.078125 2.640625 -5.828125 3.703125 -5.828125 C 4.53125 -5.828125 4.90625 -5.453125 4.90625 -4.65625 L 4.90625 0 L 6.21875 0 Z M 6.21875 -0.125 \"/>\n",
       "</symbol>\n",
       "<symbol overflow=\"visible\" id=\"glyph1-17\">\n",
       "<path style=\"stroke:none;\" d=\"M 9.625 -0.125 L 9.625 -5.03125 C 9.625 -6.21875 8.84375 -7 7.625 -7 C 6.75 -7 6.125 -6.6875 5.625 -6.09375 C 5.3125 -6.65625 4.703125 -7 3.84375 -7 C 2.96875 -7 2.296875 -6.625 1.734375 -5.84375 L 1.96875 -5.75 L 1.96875 -6.8125 L 0.75 -6.8125 L 0.75 0 L 2.046875 0 L 2.046875 -4.234375 C 2.046875 -5.1875 2.609375 -5.828125 3.46875 -5.828125 C 4.234375 -5.828125 4.53125 -5.46875 4.53125 -4.640625 L 4.53125 0 L 5.84375 0 L 5.84375 -4.234375 C 5.84375 -5.1875 6.40625 -5.828125 7.265625 -5.828125 C 8.03125 -5.828125 8.328125 -5.46875 8.328125 -4.640625 L 8.328125 0 L 9.625 0 Z M 9.625 -0.125 \"/>\n",
       "</symbol>\n",
       "<symbol overflow=\"visible\" id=\"glyph1-18\">\n",
       "<path style=\"stroke:none;\" d=\"M 2.015625 -0.125 L 2.015625 -9.375 L 0.71875 -9.375 L 0.71875 0 L 2.015625 0 Z M 2.015625 -0.125 \"/>\n",
       "</symbol>\n",
       "<symbol overflow=\"visible\" id=\"glyph1-19\">\n",
       "<path style=\"stroke:none;\" d=\"M 2.03125 -0.125 L 2.03125 -6.8125 L 0.734375 -6.8125 L 0.734375 0 L 2.03125 0 Z M 2.171875 -7.65625 L 2.171875 -9.09375 L 0.609375 -9.09375 L 0.609375 -7.53125 L 2.171875 -7.53125 Z M 2.171875 -7.65625 \"/>\n",
       "</symbol>\n",
       "<symbol overflow=\"visible\" id=\"glyph1-20\">\n",
       "<path style=\"stroke:none;\" d=\"M 5.84375 -0.125 L 5.84375 -1.171875 L 1.921875 -1.171875 L 5.65625 -5.71875 L 5.65625 -6.8125 L 0.515625 -6.8125 L 0.515625 -5.640625 L 4.015625 -5.640625 L 0.25 -1.109375 L 0.25 0 L 5.84375 0 Z M 5.84375 -0.125 \"/>\n",
       "</symbol>\n",
       "<symbol overflow=\"visible\" id=\"glyph1-21\">\n",
       "<path style=\"stroke:none;\" d=\"M 6.46875 -4.390625 C 6.46875 -7.46875 5.359375 -9.125 3.4375 -9.125 C 1.53125 -9.125 0.40625 -7.4375 0.40625 -4.46875 C 0.40625 -1.46875 1.53125 0.1875 3.4375 0.1875 C 5.3125 0.1875 6.46875 -1.46875 6.46875 -4.390625 Z M 5.078125 -4.484375 C 5.078125 -1.96875 4.640625 -0.984375 3.40625 -0.984375 C 2.25 -0.984375 1.78125 -2.03125 1.78125 -4.453125 C 1.78125 -6.875 2.25 -7.890625 3.4375 -7.890625 C 4.625 -7.890625 5.078125 -6.859375 5.078125 -4.484375 Z M 5.078125 -4.484375 \"/>\n",
       "</symbol>\n",
       "<symbol overflow=\"visible\" id=\"glyph1-22\">\n",
       "<path style=\"stroke:none;\" d=\"M 6.53125 -2.875 C 6.53125 -4.53125 5.28125 -5.78125 3.703125 -5.78125 C 2.828125 -5.78125 2.03125 -5.390625 1.5625 -4.734375 L 1.78125 -4.65625 C 1.796875 -6.8125 2.375 -7.890625 3.640625 -7.890625 C 4.40625 -7.890625 4.8125 -7.53125 5.015625 -6.546875 L 6.375 -6.546875 C 6.140625 -8.125 5.0625 -9.125 3.71875 -9.125 C 1.65625 -9.125 0.40625 -7.25 0.40625 -4.15625 C 0.40625 -1.40625 1.484375 0.1875 3.515625 0.1875 C 5.203125 0.1875 6.53125 -1.140625 6.53125 -2.875 Z M 5.15625 -2.78125 C 5.15625 -1.671875 4.53125 -1.046875 3.53125 -1.046875 C 2.5 -1.046875 1.84375 -1.71875 1.84375 -2.84375 C 1.84375 -3.953125 2.46875 -4.53125 3.5625 -4.53125 C 4.625 -4.53125 5.15625 -3.96875 5.15625 -2.78125 Z M 5.15625 -2.78125 \"/>\n",
       "</symbol>\n",
       "<symbol overflow=\"visible\" id=\"glyph1-23\">\n",
       "<path style=\"stroke:none;\" d=\"M 6.53125 -2.625 C 6.53125 -3.609375 5.90625 -4.4375 5.140625 -4.796875 C 5.890625 -5.25 6.21875 -5.78125 6.21875 -6.625 C 6.21875 -8.015625 5.015625 -9.125 3.4375 -9.125 C 1.875 -9.125 0.640625 -8.015625 0.640625 -6.625 C 0.640625 -5.796875 0.96875 -5.265625 1.71875 -4.796875 C 0.96875 -4.4375 0.328125 -3.609375 0.328125 -2.640625 C 0.328125 -1.015625 1.6875 0.1875 3.4375 0.1875 C 5.1875 0.1875 6.53125 -1.015625 6.53125 -2.625 Z M 4.84375 -6.59375 C 4.84375 -5.78125 4.359375 -5.359375 3.4375 -5.359375 C 2.515625 -5.359375 2.03125 -5.78125 2.03125 -6.609375 C 2.03125 -7.46875 2.515625 -7.890625 3.4375 -7.890625 C 4.375 -7.890625 4.84375 -7.46875 4.84375 -6.59375 Z M 5.15625 -2.609375 C 5.15625 -1.5625 4.53125 -1.046875 3.40625 -1.046875 C 2.34375 -1.046875 1.71875 -1.578125 1.71875 -2.609375 C 1.71875 -3.65625 2.34375 -4.171875 3.4375 -4.171875 C 4.53125 -4.171875 5.15625 -3.65625 5.15625 -2.609375 Z M 5.15625 -2.609375 \"/>\n",
       "</symbol>\n",
       "<symbol overflow=\"visible\" id=\"glyph2-0\">\n",
       "<path style=\"stroke:none;\" d=\"\"/>\n",
       "</symbol>\n",
       "<symbol overflow=\"visible\" id=\"glyph2-1\">\n",
       "<path style=\"stroke:none;\" d=\"M -8.21875 -7.359375 L -9.375 -7.359375 L -9.375 -0.984375 L 0 -0.984375 L 0 -2.40625 L -4.15625 -2.40625 L -4.15625 -6.765625 L -5.4375 -6.765625 L -5.4375 -2.40625 L -8.09375 -2.40625 L -8.09375 -7.359375 Z M -8.21875 -7.359375 \"/>\n",
       "</symbol>\n",
       "<symbol overflow=\"visible\" id=\"glyph2-2\">\n",
       "<path style=\"stroke:none;\" d=\"M -5.765625 -4.140625 L -6.9375 -4.140625 C -6.984375 -3.84375 -7 -3.75 -7 -3.609375 C -7 -2.9375 -6.546875 -2.328125 -5.578125 -1.71875 L -5.484375 -1.953125 L -6.8125 -1.953125 L -6.8125 -0.734375 L 0 -0.734375 L 0 -2.03125 L -3.53125 -2.03125 C -5 -2.03125 -5.609375 -2.40625 -5.640625 -4.140625 Z M -5.765625 -4.140625 \"/>\n",
       "</symbol>\n",
       "<symbol overflow=\"visible\" id=\"glyph2-3\">\n",
       "<path style=\"stroke:none;\" d=\"M -3.09375 -6.53125 C -4.046875 -6.53125 -4.65625 -6.46875 -5.140625 -6.28125 C -6.21875 -5.84375 -7 -4.71875 -7 -3.5 C -7 -1.671875 -5.515625 -0.359375 -3.359375 -0.359375 C -1.21875 -0.359375 0.1875 -1.640625 0.1875 -3.46875 C 0.1875 -4.96875 -0.78125 -6.140625 -2.25 -6.421875 L -2.25 -5.125 C -1.25 -4.796875 -1.03125 -4.34375 -1.03125 -3.515625 C -1.03125 -2.421875 -1.59375 -1.734375 -2.96875 -1.71875 L -2.96875 -6.53125 Z M -3.9375 -5.390625 C -3.9375 -5.390625 -4.0625 -5.203125 -4.09375 -5.21875 L -4.09375 -1.75 C -5.109375 -1.828125 -5.78125 -2.4375 -5.78125 -3.484375 C -5.78125 -4.515625 -5.046875 -5.15625 -4.03125 -5.15625 Z M -3.9375 -5.390625 \"/>\n",
       "</symbol>\n",
       "<symbol overflow=\"visible\" id=\"glyph2-4\">\n",
       "<path style=\"stroke:none;\" d=\"M 2.59375 -6.3125 L -6.8125 -6.3125 L -6.8125 -5.125 L -5.796875 -5.125 L -5.890625 -5.34375 C -6.578125 -4.859375 -7 -4.03125 -7 -3.171875 C -7 -1.453125 -5.5 -0.1875 -3.328125 -0.1875 C -1.203125 -0.1875 0.1875 -1.40625 0.1875 -3.125 C 0.1875 -4.03125 -0.171875 -4.75 -0.890625 -5.234375 L -0.96875 -5.015625 L 2.71875 -5.015625 L 2.71875 -6.3125 Z M -3.359375 -5.015625 C -1.859375 -5.015625 -1.046875 -4.421875 -1.046875 -3.328125 C -1.046875 -2.171875 -1.875 -1.53125 -3.40625 -1.53125 C -4.90625 -1.53125 -5.765625 -2.171875 -5.765625 -3.328125 C -5.765625 -4.4375 -4.890625 -5.015625 -3.359375 -5.015625 Z M -3.359375 -5.015625 \"/>\n",
       "</symbol>\n",
       "<symbol overflow=\"visible\" id=\"glyph2-5\">\n",
       "<path style=\"stroke:none;\" d=\"M -0.125 -6.15625 L -6.8125 -6.15625 L -6.8125 -4.84375 L -3.0625 -4.84375 C -1.71875 -4.84375 -0.984375 -4.28125 -0.984375 -3.203125 C -0.984375 -2.375 -1.34375 -1.96875 -2.140625 -1.96875 L -6.8125 -1.96875 L -6.8125 -0.671875 L -1.71875 -0.671875 C -0.640625 -0.671875 0.1875 -1.625 0.1875 -2.90625 C 0.1875 -3.859375 -0.1875 -4.5625 -1.046875 -5.171875 L -1.140625 -4.953125 L 0 -4.953125 L 0 -6.15625 Z M -0.125 -6.15625 \"/>\n",
       "</symbol>\n",
       "<symbol overflow=\"visible\" id=\"glyph2-6\">\n",
       "<path style=\"stroke:none;\" d=\"M -0.125 -6.21875 L -5.078125 -6.21875 C -6.15625 -6.21875 -7 -5.28125 -7 -4.015625 C -7 -3.03125 -6.578125 -2.3125 -5.65625 -1.734375 L -5.578125 -1.96875 L -6.8125 -1.96875 L -6.8125 -0.734375 L 0 -0.734375 L 0 -2.03125 L -3.734375 -2.03125 C -5.078125 -2.03125 -5.828125 -2.640625 -5.828125 -3.703125 C -5.828125 -4.53125 -5.453125 -4.90625 -4.65625 -4.90625 L 0 -4.90625 L 0 -6.21875 Z M -0.125 -6.21875 \"/>\n",
       "</symbol>\n",
       "<symbol overflow=\"visible\" id=\"glyph2-7\">\n",
       "<path style=\"stroke:none;\" d=\"M -2.515625 -5.96875 L -2.515625 -4.796875 C -1.328125 -4.59375 -1.03125 -4.203125 -1.03125 -3.3125 C -1.03125 -2.15625 -1.78125 -1.59375 -3.34375 -1.59375 C -4.96875 -1.59375 -5.78125 -2.15625 -5.78125 -3.28125 C -5.78125 -4.15625 -5.390625 -4.578125 -4.34375 -4.71875 L -4.34375 -6.03125 C -6.078125 -5.890625 -7 -4.765625 -7 -3.296875 C -7 -1.53125 -5.515625 -0.25 -3.34375 -0.25 C -1.21875 -0.25 0.1875 -1.515625 0.1875 -3.28125 C 0.1875 -4.84375 -0.875 -5.96875 -2.515625 -6.09375 Z M -2.515625 -5.96875 \"/>\n",
       "</symbol>\n",
       "<symbol overflow=\"visible\" id=\"glyph2-8\">\n",
       "<path style=\"stroke:none;\" d=\"M -6.8125 -5.96875 L -6.8125 -4.765625 L -1.578125 -2.90625 L -1.578125 -3.15625 L -6.8125 -1.453125 L -6.8125 -0.0625 L -0.09375 -2.328125 L 0.9375 -1.921875 C 1.40625 -1.75 1.4375 -1.671875 1.4375 -1.21875 C 1.4375 -1.078125 1.40625 -0.90625 1.34375 -0.53125 L 2.515625 -0.53125 C 2.640625 -0.78125 2.71875 -1.09375 2.71875 -1.375 C 2.71875 -2.109375 2.1875 -2.84375 1.25 -3.1875 L -6.8125 -6.15625 Z M -6.8125 -5.96875 \"/>\n",
       "</symbol>\n",
       "<symbol overflow=\"visible\" id=\"glyph2-9\">\n",
       "<path style=\"stroke:none;\" d=\"M -4.390625 -6.46875 C -7.46875 -6.46875 -9.125 -5.359375 -9.125 -3.4375 C -9.125 -1.53125 -7.4375 -0.40625 -4.46875 -0.40625 C -1.46875 -0.40625 0.1875 -1.53125 0.1875 -3.4375 C 0.1875 -5.3125 -1.46875 -6.46875 -4.390625 -6.46875 Z M -4.484375 -5.078125 C -1.96875 -5.078125 -0.984375 -4.640625 -0.984375 -3.40625 C -0.984375 -2.25 -2.03125 -1.78125 -4.453125 -1.78125 C -6.875 -1.78125 -7.890625 -2.25 -7.890625 -3.4375 C -7.890625 -4.625 -6.859375 -5.078125 -4.484375 -5.078125 Z M -4.484375 -5.078125 \"/>\n",
       "</symbol>\n",
       "<symbol overflow=\"visible\" id=\"glyph2-10\">\n",
       "<path style=\"stroke:none;\" d=\"M -0.125 -4.46875 L -9.125 -4.46875 L -9.125 -3.515625 C -7.625 -3.09375 -7.578125 -2.96875 -7.34375 -1.140625 L -6.3125 -1.140625 L -6.3125 -3.09375 L 0 -3.09375 L 0 -4.46875 Z M -0.125 -4.46875 \"/>\n",
       "</symbol>\n",
       "<symbol overflow=\"visible\" id=\"glyph2-11\">\n",
       "<path style=\"stroke:none;\" d=\"M -3.0625 -6.53125 C -4.8125 -6.53125 -6.09375 -5.25 -6.09375 -3.546875 C -6.09375 -2.921875 -5.890625 -2.328125 -5.71875 -2.09375 L -7.59375 -2.359375 L -7.59375 -6.078125 L -8.9375 -6.078125 L -8.9375 -1.25 L -4.03125 -0.546875 L -4.03125 -1.78125 C -4.6875 -2.328125 -4.859375 -2.65625 -4.859375 -3.34375 C -4.859375 -4.53125 -4.21875 -5.15625 -2.90625 -5.15625 C -1.640625 -5.15625 -1.046875 -4.546875 -1.046875 -3.34375 C -1.046875 -2.390625 -1.40625 -1.921875 -2.53125 -1.625 L -2.53125 -0.28125 C -0.640625 -0.65625 0.1875 -1.796875 0.1875 -3.375 C 0.1875 -5.15625 -1.1875 -6.53125 -3.0625 -6.53125 Z M -3.0625 -6.53125 \"/>\n",
       "</symbol>\n",
       "<symbol overflow=\"visible\" id=\"glyph2-12\">\n",
       "<path style=\"stroke:none;\" d=\"M -2.703125 -6.453125 C -3.78125 -6.453125 -4.53125 -5.890625 -4.90625 -4.828125 L -4.640625 -4.828125 C -4.96875 -5.65625 -5.65625 -6.1875 -6.546875 -6.1875 C -8.078125 -6.1875 -9.125 -5.046875 -9.125 -3.359375 C -9.125 -1.578125 -8.015625 -0.484375 -6 -0.453125 L -6 -1.8125 C -7.4375 -1.84375 -7.90625 -2.25 -7.90625 -3.375 C -7.90625 -4.34375 -7.453125 -4.796875 -6.515625 -4.796875 C -5.5625 -4.796875 -5.3125 -4.53125 -5.3125 -2.625 L -4.125 -2.625 L -4.125 -3.359375 C -4.125 -4.578125 -3.671875 -5.0625 -2.6875 -5.0625 C -1.578125 -5.0625 -1.046875 -4.515625 -1.046875 -3.359375 C -1.046875 -2.15625 -1.515625 -1.703125 -2.9375 -1.609375 L -2.9375 -0.25 C -0.828125 -0.40625 0.1875 -1.515625 0.1875 -3.328125 C 0.1875 -5.15625 -1.03125 -6.453125 -2.703125 -6.453125 Z M -2.703125 -6.453125 \"/>\n",
       "</symbol>\n",
       "</g>\n",
       "</defs>\n",
       "<g id=\"surface1691\">\n",
       "<rect x=\"0\" y=\"0\" width=\"288\" height=\"216\" style=\"fill:rgb(100%,100%,100%);fill-opacity:1;stroke:none;\"/>\n",
       "<g style=\"fill:rgb(0%,0%,0%);fill-opacity:1;\">\n",
       "  <use xlink:href=\"#glyph0-1\" x=\"-9.332031\" y=\"35.089844\"/>\n",
       "  <use xlink:href=\"#glyph0-2\" x=\"1.430222\" y=\"35.089844\"/>\n",
       "  <use xlink:href=\"#glyph0-3\" x=\"5.574142\" y=\"35.089844\"/>\n",
       "  <use xlink:href=\"#glyph0-4\" x=\"13.861969\" y=\"35.089844\"/>\n",
       "  <use xlink:href=\"#glyph0-5\" x=\"18.825729\" y=\"35.089844\"/>\n",
       "  <use xlink:href=\"#glyph0-6\" x=\"27.933395\" y=\"35.089844\"/>\n",
       "  <use xlink:href=\"#glyph0-7\" x=\"37.041061\" y=\"35.089844\"/>\n",
       "  <use xlink:href=\"#glyph0-8\" x=\"42.839554\" y=\"35.089844\"/>\n",
       "  <use xlink:href=\"#glyph0-9\" x=\"51.12738\" y=\"35.089844\"/>\n",
       "  <use xlink:href=\"#glyph0-10\" x=\"64.378967\" y=\"35.089844\"/>\n",
       "  <use xlink:href=\"#glyph0-5\" x=\"68.522888\" y=\"35.089844\"/>\n",
       "  <use xlink:href=\"#glyph0-11\" x=\"77.630554\" y=\"35.089844\"/>\n",
       "  <use xlink:href=\"#glyph0-10\" x=\"82.594315\" y=\"35.089844\"/>\n",
       "  <use xlink:href=\"#glyph0-12\" x=\"86.738235\" y=\"35.089844\"/>\n",
       "  <use xlink:href=\"#glyph0-7\" x=\"95.845901\" y=\"35.089844\"/>\n",
       "  <use xlink:href=\"#glyph0-5\" x=\"101.644394\" y=\"35.089844\"/>\n",
       "  <use xlink:href=\"#glyph0-4\" x=\"110.75206\" y=\"35.089844\"/>\n",
       "  <use xlink:href=\"#glyph0-13\" x=\"115.71582\" y=\"35.089844\"/>\n",
       "  <use xlink:href=\"#glyph0-14\" x=\"124.003647\" y=\"35.089844\"/>\n",
       "  <use xlink:href=\"#glyph0-8\" x=\"133.111313\" y=\"35.089844\"/>\n",
       "  <use xlink:href=\"#glyph0-4\" x=\"141.399139\" y=\"35.089844\"/>\n",
       "  <use xlink:href=\"#glyph0-15\" x=\"146.3629\" y=\"35.089844\"/>\n",
       "  <use xlink:href=\"#glyph0-16\" x=\"154.650726\" y=\"35.089844\"/>\n",
       "  <use xlink:href=\"#glyph0-7\" x=\"165.412979\" y=\"35.089844\"/>\n",
       "  <use xlink:href=\"#glyph0-17\" x=\"171.211472\" y=\"35.089844\"/>\n",
       "  <use xlink:href=\"#glyph0-8\" x=\"179.499298\" y=\"35.089844\"/>\n",
       "  <use xlink:href=\"#glyph0-18\" x=\"187.787125\" y=\"35.089844\"/>\n",
       "  <use xlink:href=\"#glyph0-19\" x=\"191.931046\" y=\"35.089844\"/>\n",
       "  <use xlink:href=\"#glyph0-20\" x=\"201.038712\" y=\"35.089844\"/>\n",
       "  <use xlink:href=\"#glyph0-21\" x=\"209.326538\" y=\"35.089844\"/>\n",
       "  <use xlink:href=\"#glyph0-13\" x=\"217.614365\" y=\"35.089844\"/>\n",
       "  <use xlink:href=\"#glyph0-19\" x=\"225.902191\" y=\"35.089844\"/>\n",
       "  <use xlink:href=\"#glyph0-22\" x=\"235.009857\" y=\"35.089844\"/>\n",
       "  <use xlink:href=\"#glyph0-18\" x=\"243.297684\" y=\"35.089844\"/>\n",
       "  <use xlink:href=\"#glyph0-23\" x=\"247.441605\" y=\"35.089844\"/>\n",
       "  <use xlink:href=\"#glyph0-5\" x=\"256.549271\" y=\"35.089844\"/>\n",
       "  <use xlink:href=\"#glyph0-7\" x=\"265.656937\" y=\"35.089844\"/>\n",
       "  <use xlink:href=\"#glyph0-9\" x=\"271.455429\" y=\"35.089844\"/>\n",
       "  <use xlink:href=\"#glyph0-8\" x=\"284.707016\" y=\"35.089844\"/>\n",
       "  <use xlink:href=\"#glyph0-24\" x=\"292.994843\" y=\"35.089844\"/>\n",
       "  <use xlink:href=\"#glyph0-2\" x=\"297.138763\" y=\"35.089844\"/>\n",
       "  <use xlink:href=\"#glyph0-25\" x=\"301.282684\" y=\"35.089844\"/>\n",
       "  <use xlink:href=\"#glyph0-17\" x=\"308.735764\" y=\"35.089844\"/>\n",
       "  <use xlink:href=\"#glyph0-14\" x=\"317.02359\" y=\"35.089844\"/>\n",
       "</g>\n",
       "<g style=\"fill:rgb(0%,0%,0%);fill-opacity:1;\">\n",
       "  <use xlink:href=\"#glyph1-1\" x=\"63.21875\" y=\"198.71875\"/>\n",
       "  <use xlink:href=\"#glyph1-2\" x=\"70.168777\" y=\"198.71875\"/>\n",
       "  <use xlink:href=\"#glyph1-3\" x=\"74.331299\" y=\"198.71875\"/>\n",
       "  <use xlink:href=\"#glyph1-4\" x=\"81.281326\" y=\"198.71875\"/>\n",
       "  <use xlink:href=\"#glyph1-5\" x=\"84.756332\" y=\"198.71875\"/>\n",
       "  <use xlink:href=\"#glyph1-6\" x=\"91.70636\" y=\"198.71875\"/>\n",
       "  <use xlink:href=\"#glyph1-7\" x=\"98.656387\" y=\"198.71875\"/>\n",
       "  <use xlink:href=\"#glyph1-4\" x=\"105.606415\" y=\"198.71875\"/>\n",
       "  <use xlink:href=\"#glyph1-8\" x=\"109.081421\" y=\"198.71875\"/>\n",
       "  <use xlink:href=\"#glyph1-9\" x=\"116.031448\" y=\"198.71875\"/>\n",
       "  <use xlink:href=\"#glyph1-2\" x=\"124.368973\" y=\"198.71875\"/>\n",
       "  <use xlink:href=\"#glyph1-10\" x=\"128.531494\" y=\"198.71875\"/>\n",
       "  <use xlink:href=\"#glyph1-7\" x=\"135.481522\" y=\"198.71875\"/>\n",
       "  <use xlink:href=\"#glyph1-11\" x=\"142.431549\" y=\"198.71875\"/>\n",
       "  <use xlink:href=\"#glyph1-12\" x=\"145.906555\" y=\"198.71875\"/>\n",
       "  <use xlink:href=\"#glyph1-13\" x=\"153.544083\" y=\"198.71875\"/>\n",
       "  <use xlink:href=\"#glyph1-14\" x=\"160.49411\" y=\"198.71875\"/>\n",
       "  <use xlink:href=\"#glyph1-5\" x=\"167.444138\" y=\"198.71875\"/>\n",
       "  <use xlink:href=\"#glyph1-12\" x=\"174.394165\" y=\"198.71875\"/>\n",
       "  <use xlink:href=\"#glyph1-15\" x=\"182.031693\" y=\"198.71875\"/>\n",
       "  <use xlink:href=\"#glyph1-11\" x=\"188.98172\" y=\"198.71875\"/>\n",
       "  <use xlink:href=\"#glyph1-16\" x=\"192.456726\" y=\"198.71875\"/>\n",
       "  <use xlink:href=\"#glyph1-3\" x=\"199.406754\" y=\"198.71875\"/>\n",
       "  <use xlink:href=\"#glyph1-2\" x=\"206.356781\" y=\"198.71875\"/>\n",
       "  <use xlink:href=\"#glyph1-17\" x=\"210.519302\" y=\"198.71875\"/>\n",
       "  <use xlink:href=\"#glyph1-7\" x=\"220.931839\" y=\"198.71875\"/>\n",
       "  <use xlink:href=\"#glyph1-18\" x=\"227.881866\" y=\"198.71875\"/>\n",
       "  <use xlink:href=\"#glyph1-19\" x=\"230.656876\" y=\"198.71875\"/>\n",
       "  <use xlink:href=\"#glyph1-20\" x=\"233.431885\" y=\"198.71875\"/>\n",
       "  <use xlink:href=\"#glyph1-10\" x=\"239.681915\" y=\"198.71875\"/>\n",
       "  <use xlink:href=\"#glyph1-6\" x=\"246.631943\" y=\"198.71875\"/>\n",
       "</g>\n",
       "<g style=\"fill:rgb(0%,0%,0%);fill-opacity:1;\">\n",
       "  <use xlink:href=\"#glyph2-1\" x=\"14.398438\" y=\"130.324219\"/>\n",
       "  <use xlink:href=\"#glyph2-2\" x=\"14.398438\" y=\"122.686691\"/>\n",
       "  <use xlink:href=\"#glyph2-3\" x=\"14.398438\" y=\"118.52417\"/>\n",
       "  <use xlink:href=\"#glyph2-4\" x=\"14.398438\" y=\"111.574142\"/>\n",
       "  <use xlink:href=\"#glyph2-5\" x=\"14.398438\" y=\"104.624115\"/>\n",
       "  <use xlink:href=\"#glyph2-3\" x=\"14.398438\" y=\"97.674088\"/>\n",
       "  <use xlink:href=\"#glyph2-6\" x=\"14.398438\" y=\"90.72406\"/>\n",
       "  <use xlink:href=\"#glyph2-7\" x=\"14.398438\" y=\"83.774033\"/>\n",
       "  <use xlink:href=\"#glyph2-8\" x=\"14.398438\" y=\"77.524002\"/>\n",
       "</g>\n",
       "<path style=\"fill:none;stroke-width:1;stroke-linecap:round;stroke-linejoin:round;stroke:rgb(0%,0%,0%);stroke-opacity:1;stroke-miterlimit:10;\" d=\"M 66.398438 142.558594 L 250.398438 142.558594 \"/>\n",
       "<path style=\"fill:none;stroke-width:1;stroke-linecap:round;stroke-linejoin:round;stroke:rgb(0%,0%,0%);stroke-opacity:1;stroke-miterlimit:10;\" d=\"M 66.398438 142.558594 L 66.398438 149.761719 \"/>\n",
       "<path style=\"fill:none;stroke-width:1;stroke-linecap:round;stroke-linejoin:round;stroke:rgb(0%,0%,0%);stroke-opacity:1;stroke-miterlimit:10;\" d=\"M 103.199219 142.558594 L 103.199219 149.761719 \"/>\n",
       "<path style=\"fill:none;stroke-width:1;stroke-linecap:round;stroke-linejoin:round;stroke:rgb(0%,0%,0%);stroke-opacity:1;stroke-miterlimit:10;\" d=\"M 140 142.558594 L 140 149.761719 \"/>\n",
       "<path style=\"fill:none;stroke-width:1;stroke-linecap:round;stroke-linejoin:round;stroke:rgb(0%,0%,0%);stroke-opacity:1;stroke-miterlimit:10;\" d=\"M 176.800781 142.558594 L 176.800781 149.761719 \"/>\n",
       "<path style=\"fill:none;stroke-width:1;stroke-linecap:round;stroke-linejoin:round;stroke:rgb(0%,0%,0%);stroke-opacity:1;stroke-miterlimit:10;\" d=\"M 213.601562 142.558594 L 213.601562 149.761719 \"/>\n",
       "<path style=\"fill:none;stroke-width:1;stroke-linecap:round;stroke-linejoin:round;stroke:rgb(0%,0%,0%);stroke-opacity:1;stroke-miterlimit:10;\" d=\"M 250.398438 142.558594 L 250.398438 149.761719 \"/>\n",
       "<g style=\"fill:rgb(0%,0%,0%);fill-opacity:1;\">\n",
       "  <use xlink:href=\"#glyph1-21\" x=\"62.921875\" y=\"169.921875\"/>\n",
       "</g>\n",
       "<g style=\"fill:rgb(0%,0%,0%);fill-opacity:1;\">\n",
       "  <use xlink:href=\"#glyph1-13\" x=\"92.773438\" y=\"169.921875\"/>\n",
       "  <use xlink:href=\"#glyph1-21\" x=\"99.723465\" y=\"169.921875\"/>\n",
       "  <use xlink:href=\"#glyph1-21\" x=\"106.673492\" y=\"169.921875\"/>\n",
       "</g>\n",
       "<g style=\"fill:rgb(0%,0%,0%);fill-opacity:1;\">\n",
       "  <use xlink:href=\"#glyph1-14\" x=\"129.574219\" y=\"169.921875\"/>\n",
       "  <use xlink:href=\"#glyph1-21\" x=\"136.524246\" y=\"169.921875\"/>\n",
       "  <use xlink:href=\"#glyph1-21\" x=\"143.474274\" y=\"169.921875\"/>\n",
       "</g>\n",
       "<g style=\"fill:rgb(0%,0%,0%);fill-opacity:1;\">\n",
       "  <use xlink:href=\"#glyph1-22\" x=\"166.375\" y=\"169.921875\"/>\n",
       "  <use xlink:href=\"#glyph1-21\" x=\"173.325027\" y=\"169.921875\"/>\n",
       "  <use xlink:href=\"#glyph1-21\" x=\"180.275055\" y=\"169.921875\"/>\n",
       "</g>\n",
       "<g style=\"fill:rgb(0%,0%,0%);fill-opacity:1;\">\n",
       "  <use xlink:href=\"#glyph1-23\" x=\"203.175781\" y=\"169.921875\"/>\n",
       "  <use xlink:href=\"#glyph1-21\" x=\"210.125809\" y=\"169.921875\"/>\n",
       "  <use xlink:href=\"#glyph1-21\" x=\"217.075836\" y=\"169.921875\"/>\n",
       "</g>\n",
       "<g style=\"fill:rgb(0%,0%,0%);fill-opacity:1;\">\n",
       "  <use xlink:href=\"#glyph1-15\" x=\"236.5\" y=\"169.921875\"/>\n",
       "  <use xlink:href=\"#glyph1-21\" x=\"243.450027\" y=\"169.921875\"/>\n",
       "  <use xlink:href=\"#glyph1-21\" x=\"250.400055\" y=\"169.921875\"/>\n",
       "  <use xlink:href=\"#glyph1-21\" x=\"257.350082\" y=\"169.921875\"/>\n",
       "</g>\n",
       "<path style=\"fill:none;stroke-width:1;stroke-linecap:round;stroke-linejoin:round;stroke:rgb(0%,0%,0%);stroke-opacity:1;stroke-miterlimit:10;\" d=\"M 59.039062 139.464844 L 59.039062 69.375 \"/>\n",
       "<path style=\"fill:none;stroke-width:1;stroke-linecap:round;stroke-linejoin:round;stroke:rgb(0%,0%,0%);stroke-opacity:1;stroke-miterlimit:10;\" d=\"M 59.039062 139.464844 L 51.839844 139.464844 \"/>\n",
       "<path style=\"fill:none;stroke-width:1;stroke-linecap:round;stroke-linejoin:round;stroke:rgb(0%,0%,0%);stroke-opacity:1;stroke-miterlimit:10;\" d=\"M 59.039062 127.785156 L 51.839844 127.785156 \"/>\n",
       "<path style=\"fill:none;stroke-width:1;stroke-linecap:round;stroke-linejoin:round;stroke:rgb(0%,0%,0%);stroke-opacity:1;stroke-miterlimit:10;\" d=\"M 59.039062 116.101562 L 51.839844 116.101562 \"/>\n",
       "<path style=\"fill:none;stroke-width:1;stroke-linecap:round;stroke-linejoin:round;stroke:rgb(0%,0%,0%);stroke-opacity:1;stroke-miterlimit:10;\" d=\"M 59.039062 104.421875 L 51.839844 104.421875 \"/>\n",
       "<path style=\"fill:none;stroke-width:1;stroke-linecap:round;stroke-linejoin:round;stroke:rgb(0%,0%,0%);stroke-opacity:1;stroke-miterlimit:10;\" d=\"M 59.039062 92.738281 L 51.839844 92.738281 \"/>\n",
       "<path style=\"fill:none;stroke-width:1;stroke-linecap:round;stroke-linejoin:round;stroke:rgb(0%,0%,0%);stroke-opacity:1;stroke-miterlimit:10;\" d=\"M 59.039062 81.058594 L 51.839844 81.058594 \"/>\n",
       "<path style=\"fill:none;stroke-width:1;stroke-linecap:round;stroke-linejoin:round;stroke:rgb(0%,0%,0%);stroke-opacity:1;stroke-miterlimit:10;\" d=\"M 59.039062 69.375 L 51.839844 69.375 \"/>\n",
       "<g style=\"fill:rgb(0%,0%,0%);fill-opacity:1;\">\n",
       "  <use xlink:href=\"#glyph2-9\" x=\"43.199219\" y=\"142.941406\"/>\n",
       "</g>\n",
       "<g style=\"fill:rgb(0%,0%,0%);fill-opacity:1;\">\n",
       "  <use xlink:href=\"#glyph2-10\" x=\"43.199219\" y=\"114.847656\"/>\n",
       "  <use xlink:href=\"#glyph2-11\" x=\"43.199219\" y=\"107.897629\"/>\n",
       "  <use xlink:href=\"#glyph2-9\" x=\"43.199219\" y=\"100.947601\"/>\n",
       "</g>\n",
       "<g style=\"fill:rgb(0%,0%,0%);fill-opacity:1;\">\n",
       "  <use xlink:href=\"#glyph2-12\" x=\"43.199219\" y=\"79.800781\"/>\n",
       "  <use xlink:href=\"#glyph2-9\" x=\"43.199219\" y=\"72.850754\"/>\n",
       "  <use xlink:href=\"#glyph2-9\" x=\"43.199219\" y=\"65.900726\"/>\n",
       "</g>\n",
       "<path style=\"fill:none;stroke-width:1;stroke-linecap:round;stroke-linejoin:round;stroke:rgb(0%,0%,0%);stroke-opacity:1;stroke-miterlimit:10;\" d=\"M 66.398438 62.132812 L 84.796875 62.132812 L 84.796875 139.464844 L 66.398438 139.464844 Z M 66.398438 62.132812 \"/>\n",
       "<path style=\"fill:none;stroke-width:1;stroke-linecap:round;stroke-linejoin:round;stroke:rgb(0%,0%,0%);stroke-opacity:1;stroke-miterlimit:10;\" d=\"M 84.800781 81.058594 L 103.199219 81.058594 L 103.199219 139.46875 L 84.800781 139.46875 Z M 84.800781 81.058594 \"/>\n",
       "<path style=\"fill:none;stroke-width:1;stroke-linecap:round;stroke-linejoin:round;stroke:rgb(0%,0%,0%);stroke-opacity:1;stroke-miterlimit:10;\" d=\"M 103.199219 97.179688 L 121.597656 97.179688 L 121.597656 139.46875 L 103.199219 139.46875 Z M 103.199219 97.179688 \"/>\n",
       "<path style=\"fill:none;stroke-width:1;stroke-linecap:round;stroke-linejoin:round;stroke:rgb(0%,0%,0%);stroke-opacity:1;stroke-miterlimit:10;\" d=\"M 121.601562 110.730469 L 140 110.730469 L 140 139.46875 L 121.601562 139.46875 Z M 121.601562 110.730469 \"/>\n",
       "<path style=\"fill:none;stroke-width:1;stroke-linecap:round;stroke-linejoin:round;stroke:rgb(0%,0%,0%);stroke-opacity:1;stroke-miterlimit:10;\" d=\"M 140 118.671875 L 158.398438 118.671875 L 158.398438 139.464844 L 140 139.464844 Z M 140 118.671875 \"/>\n",
       "<path style=\"fill:none;stroke-width:1;stroke-linecap:round;stroke-linejoin:round;stroke:rgb(0%,0%,0%);stroke-opacity:1;stroke-miterlimit:10;\" d=\"M 158.398438 123.347656 L 176.796875 123.347656 L 176.796875 139.46875 L 158.398438 139.46875 Z M 158.398438 123.347656 \"/>\n",
       "<path style=\"fill:none;stroke-width:1;stroke-linecap:round;stroke-linejoin:round;stroke:rgb(0%,0%,0%);stroke-opacity:1;stroke-miterlimit:10;\" d=\"M 176.800781 131.757812 L 195.199219 131.757812 L 195.199219 139.46875 L 176.800781 139.46875 Z M 176.800781 131.757812 \"/>\n",
       "<path style=\"fill:none;stroke-width:1;stroke-linecap:round;stroke-linejoin:round;stroke:rgb(0%,0%,0%);stroke-opacity:1;stroke-miterlimit:10;\" d=\"M 195.199219 132.691406 L 213.597656 132.691406 L 213.597656 139.46875 L 195.199219 139.46875 Z M 195.199219 132.691406 \"/>\n",
       "<path style=\"fill:none;stroke-width:1;stroke-linecap:round;stroke-linejoin:round;stroke:rgb(0%,0%,0%);stroke-opacity:1;stroke-miterlimit:10;\" d=\"M 213.601562 132.691406 L 232 132.691406 L 232 139.46875 L 213.601562 139.46875 Z M 213.601562 132.691406 \"/>\n",
       "<path style=\"fill:none;stroke-width:1;stroke-linecap:round;stroke-linejoin:round;stroke:rgb(0%,0%,0%);stroke-opacity:1;stroke-miterlimit:10;\" d=\"M 232 133.859375 L 250.398438 133.859375 L 250.398438 139.464844 L 232 139.464844 Z M 232 133.859375 \"/>\n",
       "</g>\n",
       "</svg>\n"
      ]
     },
     "metadata": {
      "image/svg+xml": {
       "isolated": true
      }
     },
     "output_type": "display_data"
    },
    {
     "data": {
      "text/html": [
       "261.520928632846"
      ],
      "text/latex": [
       "261.520928632846"
      ],
      "text/markdown": [
       "261.520928632846"
      ],
      "text/plain": [
       "[1] 261.5209"
      ]
     },
     "metadata": {},
     "output_type": "display_data"
    },
    {
     "data": {
      "text/html": [
       "203.76"
      ],
      "text/latex": [
       "203.76"
      ],
      "text/markdown": [
       "203.76"
      ],
      "text/plain": [
       "[1] 203.76"
      ]
     },
     "metadata": {},
     "output_type": "display_data"
    },
    {
     "data": {
      "text/html": [
       "304148.84"
      ],
      "text/latex": [
       "304148.84"
      ],
      "text/markdown": [
       "304148.84"
      ],
      "text/plain": [
       "[1] 304148.8"
      ]
     },
     "metadata": {},
     "output_type": "display_data"
    },
    {
     "data": {
      "text/html": [
       "229.366670780403"
      ],
      "text/latex": [
       "229.366670780403"
      ],
      "text/markdown": [
       "229.366670780403"
      ],
      "text/plain": [
       "[1] 229.3667"
      ]
     },
     "metadata": {},
     "output_type": "display_data"
    },
    {
     "data": {
      "image/jpeg": "[encoded data removed]",
      "image/png": "",
      "image/svg+xml": [
       "<?xml version=\"1.0\" encoding=\"UTF-8\"?>\n",
       "<svg xmlns=\"http://www.w3.org/2000/svg\" xmlns:xlink=\"http://www.w3.org/1999/xlink\" width=\"288pt\" height=\"216pt\" viewBox=\"0 0 288 216\" version=\"1.1\">\n",
       "<defs>\n",
       "<g>\n",
       "<symbol overflow=\"visible\" id=\"glyph0-0\">\n",
       "<path style=\"stroke:none;\" d=\"\"/>\n",
       "</symbol>\n",
       "<symbol overflow=\"visible\" id=\"glyph0-1\">\n",
       "<path style=\"stroke:none;\" d=\"M 8.28125 -0.125 L 5.03125 -9.375 L 3.375 -9.375 L 0.03125 0 L 1.53125 0 L 2.484375 -2.734375 L 5.84375 -2.734375 L 6.78125 0 L 8.34375 0 Z M 5.59375 -3.96875 L 2.875 -3.96875 L 4.328125 -7.984375 L 4.0625 -7.984375 L 5.40625 -3.96875 Z M 5.59375 -3.96875 \"/>\n",
       "</symbol>\n",
       "<symbol overflow=\"visible\" id=\"glyph0-2\">\n",
       "<path style=\"stroke:none;\" d=\"M 4.140625 -5.765625 L 4.140625 -6.9375 C 3.84375 -6.984375 3.75 -7 3.609375 -7 C 2.9375 -7 2.328125 -6.546875 1.71875 -5.578125 L 1.953125 -5.484375 L 1.953125 -6.8125 L 0.734375 -6.8125 L 0.734375 0 L 2.03125 0 L 2.03125 -3.53125 C 2.03125 -5 2.40625 -5.609375 4.140625 -5.640625 Z M 4.140625 -5.765625 \"/>\n",
       "</symbol>\n",
       "<symbol overflow=\"visible\" id=\"glyph0-3\">\n",
       "<path style=\"stroke:none;\" d=\"M 6.53125 -3.09375 C 6.53125 -4.046875 6.46875 -4.65625 6.28125 -5.140625 C 5.84375 -6.21875 4.71875 -7 3.5 -7 C 1.671875 -7 0.359375 -5.515625 0.359375 -3.359375 C 0.359375 -1.21875 1.640625 0.1875 3.46875 0.1875 C 4.96875 0.1875 6.140625 -0.78125 6.421875 -2.25 L 5.125 -2.25 C 4.796875 -1.25 4.34375 -1.03125 3.515625 -1.03125 C 2.421875 -1.03125 1.734375 -1.59375 1.71875 -2.96875 L 6.53125 -2.96875 Z M 5.390625 -3.9375 C 5.390625 -3.9375 5.203125 -4.0625 5.21875 -4.09375 L 1.75 -4.09375 C 1.828125 -5.109375 2.4375 -5.78125 3.484375 -5.78125 C 4.515625 -5.78125 5.15625 -5.046875 5.15625 -4.03125 Z M 5.390625 -3.9375 \"/>\n",
       "</symbol>\n",
       "<symbol overflow=\"visible\" id=\"glyph0-4\">\n",
       "<path style=\"stroke:none;\" d=\"M 6.8125 -0.15625 L 6.8125 -1.09375 C 6.578125 -1.046875 6.53125 -1.046875 6.46875 -1.046875 C 6.09375 -1.046875 6.03125 -1.09375 6.03125 -1.421875 L 6.03125 -5.078125 C 6.03125 -6.234375 5.046875 -7 3.4375 -7 C 1.84375 -7 0.734375 -6.25 0.65625 -4.609375 L 1.96875 -4.609375 C 2.078125 -5.53125 2.421875 -5.78125 3.40625 -5.78125 C 4.34375 -5.78125 4.71875 -5.546875 4.71875 -4.921875 L 4.71875 -4.65625 C 4.71875 -4.21875 4.59375 -4.15625 3.78125 -4.0625 C 2.296875 -3.875 2.078125 -3.828125 1.671875 -3.65625 C 0.90625 -3.34375 0.390625 -2.625 0.390625 -1.828125 C 0.390625 -0.640625 1.34375 0.1875 2.671875 0.1875 C 3.515625 0.1875 4.40625 -0.203125 4.828125 -0.640625 C 4.875 -0.40625 5.46875 0.09375 5.96875 0.09375 C 6.1875 0.09375 6.34375 0.0625 6.8125 -0.046875 Z M 4.71875 -2.390625 C 4.71875 -1.453125 3.90625 -0.984375 2.90625 -0.984375 C 2.09375 -0.984375 1.734375 -1.140625 1.734375 -1.84375 C 1.734375 -2.53125 2.078125 -2.71875 3.1875 -2.875 C 4.28125 -3.03125 4.515625 -3.078125 4.71875 -3.171875 Z M 4.71875 -2.390625 \"/>\n",
       "</symbol>\n",
       "<symbol overflow=\"visible\" id=\"glyph0-5\">\n",
       "<path style=\"stroke:none;\" d=\"M 2.515625 -0.125 L 2.515625 -1.5625 L 0.953125 -1.5625 L 0.953125 0 L 2.515625 0 Z M 2.515625 -0.125 \"/>\n",
       "</symbol>\n",
       "<symbol overflow=\"visible\" id=\"glyph0-6\">\n",
       "<path style=\"stroke:none;\" d=\"M 7.53125 -8.21875 L 7.53125 -9.375 L 0.125 -9.375 L 0.125 -8.09375 L 3.125 -8.09375 L 3.125 0 L 4.546875 0 L 4.546875 -8.09375 L 7.53125 -8.09375 Z M 7.53125 -8.21875 \"/>\n",
       "</symbol>\n",
       "<symbol overflow=\"visible\" id=\"glyph0-7\">\n",
       "<path style=\"stroke:none;\" d=\"M 6.515625 -6.390625 C 6.515625 -7.890625 5.21875 -9.125 3.546875 -9.125 C 1.734375 -9.125 0.546875 -8.0625 0.484375 -5.78125 L 1.84375 -5.78125 C 1.9375 -7.40625 2.421875 -7.90625 3.515625 -7.90625 C 4.515625 -7.90625 5.125 -7.3125 5.125 -6.359375 C 5.125 -5.65625 4.75 -5.15625 3.96875 -4.703125 L 2.8125 -4.046875 C 0.96875 -3 0.390625 -2.078125 0.28125 0 L 6.453125 0 L 6.453125 -1.34375 L 1.8125 -1.34375 C 1.90625 -1.9375 2.265625 -2.3125 3.34375 -2.953125 L 4.59375 -3.625 C 5.84375 -4.28125 6.515625 -5.296875 6.515625 -6.390625 Z M 6.515625 -6.390625 \"/>\n",
       "</symbol>\n",
       "<symbol overflow=\"visible\" id=\"glyph0-8\">\n",
       "<path style=\"stroke:none;\" d=\"M 6.625 -2.25 L 6.625 -3.375 L 5.3125 -3.375 L 5.3125 -9.125 L 4.296875 -9.125 L 0.21875 -3.453125 L 0.21875 -2.125 L 3.953125 -2.125 L 3.953125 0 L 5.3125 0 L 5.3125 -2.125 L 6.625 -2.125 Z M 4.09375 -3.375 L 1.5625 -3.375 L 4.171875 -7.03125 L 3.953125 -7.109375 L 3.953125 -3.375 Z M 4.09375 -3.375 \"/>\n",
       "</symbol>\n",
       "<symbol overflow=\"visible\" id=\"glyph0-9\">\n",
       "<path style=\"stroke:none;\" d=\"M 7.34375 2.09375 L 7.34375 1.328125 L -0.40625 1.328125 L -0.40625 2.21875 L 7.34375 2.21875 Z M 7.34375 2.09375 \"/>\n",
       "</symbol>\n",
       "<symbol overflow=\"visible\" id=\"glyph0-10\">\n",
       "<path style=\"stroke:none;\" d=\"M 4.46875 -0.125 L 4.46875 -9.125 L 3.515625 -9.125 C 3.09375 -7.625 2.96875 -7.578125 1.140625 -7.34375 L 1.140625 -6.3125 L 3.09375 -6.3125 L 3.09375 0 L 4.46875 0 Z M 4.46875 -0.125 \"/>\n",
       "</symbol>\n",
       "<symbol overflow=\"visible\" id=\"glyph0-11\">\n",
       "<path style=\"stroke:none;\" d=\"M 6.21875 -0.125 L 6.21875 -5.078125 C 6.21875 -6.15625 5.28125 -7 4.015625 -7 C 3.03125 -7 2.3125 -6.578125 1.734375 -5.65625 L 1.96875 -5.578125 L 1.96875 -6.8125 L 0.734375 -6.8125 L 0.734375 0 L 2.03125 0 L 2.03125 -3.734375 C 2.03125 -5.078125 2.640625 -5.828125 3.703125 -5.828125 C 4.53125 -5.828125 4.90625 -5.453125 4.90625 -4.65625 L 4.90625 0 L 6.21875 0 Z M 6.21875 -0.125 \"/>\n",
       "</symbol>\n",
       "<symbol overflow=\"visible\" id=\"glyph0-12\">\n",
       "<path style=\"stroke:none;\" d=\"M 6.5 -3.34375 C 6.5 -5.609375 5.28125 -7 3.40625 -7 C 1.5625 -7 0.3125 -5.59375 0.3125 -3.40625 C 0.3125 -1.203125 1.546875 0.1875 3.40625 0.1875 C 5.25 0.1875 6.5 -1.203125 6.5 -3.34375 Z M 5.15625 -3.359375 C 5.15625 -1.828125 4.5625 -1.03125 3.40625 -1.03125 C 2.25 -1.03125 1.65625 -1.8125 1.65625 -3.40625 C 1.65625 -4.96875 2.25 -5.78125 3.40625 -5.78125 C 4.59375 -5.78125 5.15625 -4.984375 5.15625 -3.359375 Z M 5.15625 -3.359375 \"/>\n",
       "</symbol>\n",
       "<symbol overflow=\"visible\" id=\"glyph0-13\">\n",
       "<path style=\"stroke:none;\" d=\"M 9.625 -0.125 L 9.625 -5.03125 C 9.625 -6.21875 8.84375 -7 7.625 -7 C 6.75 -7 6.125 -6.6875 5.625 -6.09375 C 5.3125 -6.65625 4.703125 -7 3.84375 -7 C 2.96875 -7 2.296875 -6.625 1.734375 -5.84375 L 1.96875 -5.75 L 1.96875 -6.8125 L 0.75 -6.8125 L 0.75 0 L 2.046875 0 L 2.046875 -4.234375 C 2.046875 -5.1875 2.609375 -5.828125 3.46875 -5.828125 C 4.234375 -5.828125 4.53125 -5.46875 4.53125 -4.640625 L 4.53125 0 L 5.84375 0 L 5.84375 -4.234375 C 5.84375 -5.1875 6.40625 -5.828125 7.265625 -5.828125 C 8.03125 -5.828125 8.328125 -5.46875 8.328125 -4.640625 L 8.328125 0 L 9.625 0 Z M 9.625 -0.125 \"/>\n",
       "</symbol>\n",
       "<symbol overflow=\"visible\" id=\"glyph0-14\">\n",
       "<path style=\"stroke:none;\" d=\"M 2.015625 -0.125 L 2.015625 -9.375 L 0.71875 -9.375 L 0.71875 0 L 2.015625 0 Z M 2.015625 -0.125 \"/>\n",
       "</symbol>\n",
       "<symbol overflow=\"visible\" id=\"glyph0-15\">\n",
       "<path style=\"stroke:none;\" d=\"M 2.03125 -0.125 L 2.03125 -6.8125 L 0.734375 -6.8125 L 0.734375 0 L 2.03125 0 Z M 2.171875 -7.65625 L 2.171875 -9.09375 L 0.609375 -9.09375 L 0.609375 -7.53125 L 2.171875 -7.53125 Z M 2.171875 -7.65625 \"/>\n",
       "</symbol>\n",
       "<symbol overflow=\"visible\" id=\"glyph0-16\">\n",
       "<path style=\"stroke:none;\" d=\"M 5.84375 -0.125 L 5.84375 -1.171875 L 1.921875 -1.171875 L 5.65625 -5.71875 L 5.65625 -6.8125 L 0.515625 -6.8125 L 0.515625 -5.640625 L 4.015625 -5.640625 L 0.25 -1.109375 L 0.25 0 L 5.84375 0 Z M 5.84375 -0.125 \"/>\n",
       "</symbol>\n",
       "<symbol overflow=\"visible\" id=\"glyph0-17\">\n",
       "<path style=\"stroke:none;\" d=\"M 6.3125 -0.125 L 6.3125 -9.375 L 5.015625 -9.375 L 5.015625 -5.84375 L 5.234375 -5.9375 C 4.796875 -6.59375 4.015625 -7 3.140625 -7 C 1.4375 -7 0.1875 -5.546875 0.1875 -3.46875 C 0.1875 -1.25 1.40625 0.1875 3.171875 0.1875 C 4.078125 0.1875 4.78125 -0.1875 5.34375 -1 L 5.125 -1.09375 L 5.125 0 L 6.3125 0 Z M 5.015625 -3.375 C 5.015625 -1.859375 4.421875 -1.046875 3.328125 -1.046875 C 2.171875 -1.046875 1.53125 -1.875 1.53125 -3.40625 C 1.53125 -4.921875 2.171875 -5.765625 3.3125 -5.765625 C 4.4375 -5.765625 5.015625 -4.890625 5.015625 -3.375 Z M 5.015625 -3.375 \"/>\n",
       "</symbol>\n",
       "<symbol overflow=\"visible\" id=\"glyph0-18\">\n",
       "<path style=\"stroke:none;\" d=\"M 9.640625 -0.125 L 9.640625 -9.375 L 7.796875 -9.375 L 5.109375 -1.296875 L 5.375 -1.296875 L 2.625 -9.375 L 0.796875 -9.375 L 0.796875 0 L 2.15625 0 L 2.15625 -7.765625 L 1.90625 -7.765625 L 4.53125 0 L 5.9375 0 L 8.53125 -7.765625 L 8.28125 -7.765625 L 8.28125 0 L 9.640625 0 Z M 9.640625 -0.125 \"/>\n",
       "</symbol>\n",
       "<symbol overflow=\"visible\" id=\"glyph0-19\">\n",
       "<path style=\"stroke:none;\" d=\"M 6.46875 -4.390625 C 6.46875 -7.46875 5.359375 -9.125 3.4375 -9.125 C 1.53125 -9.125 0.40625 -7.4375 0.40625 -4.46875 C 0.40625 -1.46875 1.53125 0.1875 3.4375 0.1875 C 5.3125 0.1875 6.46875 -1.46875 6.46875 -4.390625 Z M 5.078125 -4.484375 C 5.078125 -1.96875 4.640625 -0.984375 3.40625 -0.984375 C 2.25 -0.984375 1.78125 -2.03125 1.78125 -4.453125 C 1.78125 -6.875 2.25 -7.890625 3.4375 -7.890625 C 4.625 -7.890625 5.078125 -6.859375 5.078125 -4.484375 Z M 5.078125 -4.484375 \"/>\n",
       "</symbol>\n",
       "<symbol overflow=\"visible\" id=\"glyph1-0\">\n",
       "<path style=\"stroke:none;\" d=\"\"/>\n",
       "</symbol>\n",
       "<symbol overflow=\"visible\" id=\"glyph1-1\">\n",
       "<path style=\"stroke:none;\" d=\"M -4.390625 -6.46875 C -7.46875 -6.46875 -9.125 -5.359375 -9.125 -3.4375 C -9.125 -1.53125 -7.4375 -0.40625 -4.46875 -0.40625 C -1.46875 -0.40625 0.1875 -1.53125 0.1875 -3.4375 C 0.1875 -5.3125 -1.46875 -6.46875 -4.390625 -6.46875 Z M -4.484375 -5.078125 C -1.96875 -5.078125 -0.984375 -4.640625 -0.984375 -3.40625 C -0.984375 -2.25 -2.03125 -1.78125 -4.453125 -1.78125 C -6.875 -1.78125 -7.890625 -2.25 -7.890625 -3.4375 C -7.890625 -4.625 -6.859375 -5.078125 -4.484375 -5.078125 Z M -4.484375 -5.078125 \"/>\n",
       "</symbol>\n",
       "<symbol overflow=\"visible\" id=\"glyph1-2\">\n",
       "<path style=\"stroke:none;\" d=\"M -2.25 -6.625 L -3.375 -6.625 L -3.375 -5.3125 L -9.125 -5.3125 L -9.125 -4.296875 L -3.453125 -0.21875 L -2.125 -0.21875 L -2.125 -3.953125 L 0 -3.953125 L 0 -5.3125 L -2.125 -5.3125 L -2.125 -6.625 Z M -3.375 -4.09375 L -3.375 -1.5625 L -7.03125 -4.171875 L -7.109375 -3.953125 L -3.375 -3.953125 Z M -3.375 -4.09375 \"/>\n",
       "</symbol>\n",
       "<symbol overflow=\"visible\" id=\"glyph1-3\">\n",
       "<path style=\"stroke:none;\" d=\"M -0.125 -4.46875 L -9.125 -4.46875 L -9.125 -3.515625 C -7.625 -3.09375 -7.578125 -2.96875 -7.34375 -1.140625 L -6.3125 -1.140625 L -6.3125 -3.09375 L 0 -3.09375 L 0 -4.46875 Z M -0.125 -4.46875 \"/>\n",
       "</symbol>\n",
       "</g>\n",
       "<clipPath id=\"clip1\">\n",
       "  <path d=\"M 71 59.039062 L 80 59.039062 L 80 67 L 71 67 Z M 71 59.039062 \"/>\n",
       "</clipPath>\n",
       "<clipPath id=\"clip2\">\n",
       "  <path d=\"M 71 59.039062 L 80 59.039062 L 80 68 L 71 68 Z M 71 59.039062 \"/>\n",
       "</clipPath>\n",
       "<clipPath id=\"clip3\">\n",
       "  <path d=\"M 71 59.039062 L 80 59.039062 L 80 67 L 71 67 Z M 71 59.039062 \"/>\n",
       "</clipPath>\n",
       "<clipPath id=\"clip4\">\n",
       "  <path d=\"M 71 59.039062 L 80 59.039062 L 80 67 L 71 67 Z M 71 59.039062 \"/>\n",
       "</clipPath>\n",
       "<clipPath id=\"clip5\">\n",
       "  <path d=\"M 90 59.039062 L 98 59.039062 L 98 66 L 90 66 Z M 90 59.039062 \"/>\n",
       "</clipPath>\n",
       "<clipPath id=\"clip6\">\n",
       "  <path d=\"M 90 59.039062 L 98 59.039062 L 98 67 L 90 67 Z M 90 59.039062 \"/>\n",
       "</clipPath>\n",
       "<clipPath id=\"clip7\">\n",
       "  <path d=\"M 90 59.039062 L 98 59.039062 L 98 68 L 90 68 Z M 90 59.039062 \"/>\n",
       "</clipPath>\n",
       "<clipPath id=\"clip8\">\n",
       "  <path d=\"M 108 59.039062 L 117 59.039062 L 117 68 L 108 68 Z M 108 59.039062 \"/>\n",
       "</clipPath>\n",
       "<clipPath id=\"clip9\">\n",
       "  <path d=\"M 108 59.039062 L 117 59.039062 L 117 67 L 108 67 Z M 108 59.039062 \"/>\n",
       "</clipPath>\n",
       "<clipPath id=\"clip10\">\n",
       "  <path d=\"M 108 59.039062 L 117 59.039062 L 117 67 L 108 67 Z M 108 59.039062 \"/>\n",
       "</clipPath>\n",
       "<clipPath id=\"clip11\">\n",
       "  <path d=\"M 108 59.039062 L 117 59.039062 L 117 68 L 108 68 Z M 108 59.039062 \"/>\n",
       "</clipPath>\n",
       "<clipPath id=\"clip12\">\n",
       "  <path d=\"M 108 59.039062 L 117 59.039062 L 117 68 L 108 68 Z M 108 59.039062 \"/>\n",
       "</clipPath>\n",
       "<clipPath id=\"clip13\">\n",
       "  <path d=\"M 108 59.039062 L 117 59.039062 L 117 66 L 108 66 Z M 108 59.039062 \"/>\n",
       "</clipPath>\n",
       "<clipPath id=\"clip14\">\n",
       "  <path d=\"M 127 59.039062 L 135 59.039062 L 135 67 L 127 67 Z M 127 59.039062 \"/>\n",
       "</clipPath>\n",
       "<clipPath id=\"clip15\">\n",
       "  <path d=\"M 127 59.039062 L 135 59.039062 L 135 67 L 127 67 Z M 127 59.039062 \"/>\n",
       "</clipPath>\n",
       "<clipPath id=\"clip16\">\n",
       "  <path d=\"M 127 59.039062 L 135 59.039062 L 135 67 L 127 67 Z M 127 59.039062 \"/>\n",
       "</clipPath>\n",
       "<clipPath id=\"clip17\">\n",
       "  <path d=\"M 127 59.039062 L 135 59.039062 L 135 67 L 127 67 Z M 127 59.039062 \"/>\n",
       "</clipPath>\n",
       "<clipPath id=\"clip18\">\n",
       "  <path d=\"M 127 59.039062 L 135 59.039062 L 135 67 L 127 67 Z M 127 59.039062 \"/>\n",
       "</clipPath>\n",
       "<clipPath id=\"clip19\">\n",
       "  <path d=\"M 145 59.039062 L 153 59.039062 L 153 68 L 145 68 Z M 145 59.039062 \"/>\n",
       "</clipPath>\n",
       "<clipPath id=\"clip20\">\n",
       "  <path d=\"M 145 59.039062 L 153 59.039062 L 153 66 L 145 66 Z M 145 59.039062 \"/>\n",
       "</clipPath>\n",
       "<clipPath id=\"clip21\">\n",
       "  <path d=\"M 145 59.039062 L 153 59.039062 L 153 67 L 145 67 Z M 145 59.039062 \"/>\n",
       "</clipPath>\n",
       "<clipPath id=\"clip22\">\n",
       "  <path d=\"M 163 59.039062 L 172 59.039062 L 172 67 L 163 67 Z M 163 59.039062 \"/>\n",
       "</clipPath>\n",
       "<clipPath id=\"clip23\">\n",
       "  <path d=\"M 163 59.039062 L 172 59.039062 L 172 67 L 163 67 Z M 163 59.039062 \"/>\n",
       "</clipPath>\n",
       "<clipPath id=\"clip24\">\n",
       "  <path d=\"M 182 59.039062 L 190 59.039062 L 190 66 L 182 66 Z M 182 59.039062 \"/>\n",
       "</clipPath>\n",
       "<clipPath id=\"clip25\">\n",
       "  <path d=\"M 182 59.039062 L 190 59.039062 L 190 67 L 182 67 Z M 182 59.039062 \"/>\n",
       "</clipPath>\n",
       "<clipPath id=\"clip26\">\n",
       "  <path d=\"M 182 59.039062 L 190 59.039062 L 190 68 L 182 68 Z M 182 59.039062 \"/>\n",
       "</clipPath>\n",
       "<clipPath id=\"clip27\">\n",
       "  <path d=\"M 182 59.039062 L 190 59.039062 L 190 67 L 182 67 Z M 182 59.039062 \"/>\n",
       "</clipPath>\n",
       "<clipPath id=\"clip28\">\n",
       "  <path d=\"M 182 59.039062 L 190 59.039062 L 190 67 L 182 67 Z M 182 59.039062 \"/>\n",
       "</clipPath>\n",
       "<clipPath id=\"clip29\">\n",
       "  <path d=\"M 200 59.039062 L 209 59.039062 L 209 68 L 200 68 Z M 200 59.039062 \"/>\n",
       "</clipPath>\n",
       "<clipPath id=\"clip30\">\n",
       "  <path d=\"M 200 59.039062 L 209 59.039062 L 209 67 L 200 67 Z M 200 59.039062 \"/>\n",
       "</clipPath>\n",
       "<clipPath id=\"clip31\">\n",
       "  <path d=\"M 200 59.039062 L 209 59.039062 L 209 67 L 200 67 Z M 200 59.039062 \"/>\n",
       "</clipPath>\n",
       "<clipPath id=\"clip32\">\n",
       "  <path d=\"M 219 59.039062 L 227 59.039062 L 227 67 L 219 67 Z M 219 59.039062 \"/>\n",
       "</clipPath>\n",
       "<clipPath id=\"clip33\">\n",
       "  <path d=\"M 219 59.039062 L 227 59.039062 L 227 67 L 219 67 Z M 219 59.039062 \"/>\n",
       "</clipPath>\n",
       "<clipPath id=\"clip34\">\n",
       "  <path d=\"M 219 59.039062 L 227 59.039062 L 227 67 L 219 67 Z M 219 59.039062 \"/>\n",
       "</clipPath>\n",
       "<clipPath id=\"clip35\">\n",
       "  <path d=\"M 219 59.039062 L 227 59.039062 L 227 68 L 219 68 Z M 219 59.039062 \"/>\n",
       "</clipPath>\n",
       "<clipPath id=\"clip36\">\n",
       "  <path d=\"M 219 59.039062 L 227 59.039062 L 227 68 L 219 68 Z M 219 59.039062 \"/>\n",
       "</clipPath>\n",
       "<clipPath id=\"clip37\">\n",
       "  <path d=\"M 237 59.039062 L 245 59.039062 L 245 68 L 237 68 Z M 237 59.039062 \"/>\n",
       "</clipPath>\n",
       "<clipPath id=\"clip38\">\n",
       "  <path d=\"M 237 59.039062 L 245 59.039062 L 245 67 L 237 67 Z M 237 59.039062 \"/>\n",
       "</clipPath>\n",
       "<clipPath id=\"clip39\">\n",
       "  <path d=\"M 237 59.039062 L 245 59.039062 L 245 68 L 237 68 Z M 237 59.039062 \"/>\n",
       "</clipPath>\n",
       "<clipPath id=\"clip40\">\n",
       "  <path d=\"M 237 59.039062 L 245 59.039062 L 245 67 L 237 67 Z M 237 59.039062 \"/>\n",
       "</clipPath>\n",
       "<clipPath id=\"clip41\">\n",
       "  <path d=\"M 237 59.039062 L 245 59.039062 L 245 67 L 237 67 Z M 237 59.039062 \"/>\n",
       "</clipPath>\n",
       "</defs>\n",
       "<g id=\"surface1708\">\n",
       "<rect x=\"0\" y=\"0\" width=\"288\" height=\"216\" style=\"fill:rgb(100%,100%,100%);fill-opacity:1;stroke:none;\"/>\n",
       "<path style=\" stroke:none;fill-rule:nonzero;fill:rgb(100%,100%,100%);fill-opacity:1;\" d=\"M 68.238281 133.628906 L 82.960938 133.628906 L 82.960938 110.0625 L 68.238281 110.0625 Z M 68.238281 133.628906 \"/>\n",
       "<path style=\"fill:none;stroke-width:3;stroke-linecap:butt;stroke-linejoin:round;stroke:rgb(0%,0%,0%);stroke-opacity:1;stroke-miterlimit:10;\" d=\"M 68.238281 124.09375 L 82.960938 124.09375 \"/>\n",
       "<path style=\"fill:none;stroke-width:1;stroke-linecap:round;stroke-linejoin:round;stroke:rgb(0%,0%,0%);stroke-opacity:1;stroke-dasharray:4,4;stroke-miterlimit:10;\" d=\"M 75.601562 139.464844 L 75.601562 133.628906 \"/>\n",
       "<path style=\"fill:none;stroke-width:1;stroke-linecap:round;stroke-linejoin:round;stroke:rgb(0%,0%,0%);stroke-opacity:1;stroke-dasharray:4,4;stroke-miterlimit:10;\" d=\"M 75.601562 74.726562 L 75.601562 110.0625 \"/>\n",
       "<path style=\"fill:none;stroke-width:1;stroke-linecap:round;stroke-linejoin:round;stroke:rgb(0%,0%,0%);stroke-opacity:1;stroke-miterlimit:10;\" d=\"M 71.921875 139.464844 L 79.28125 139.464844 \"/>\n",
       "<path style=\"fill:none;stroke-width:1;stroke-linecap:round;stroke-linejoin:round;stroke:rgb(0%,0%,0%);stroke-opacity:1;stroke-miterlimit:10;\" d=\"M 71.921875 74.726562 L 79.28125 74.726562 \"/>\n",
       "<path style=\"fill:none;stroke-width:1;stroke-linecap:round;stroke-linejoin:round;stroke:rgb(0%,0%,0%);stroke-opacity:1;stroke-miterlimit:10;\" d=\"M 68.238281 133.628906 L 82.960938 133.628906 L 82.960938 110.0625 L 68.238281 110.0625 L 68.238281 133.628906 \"/>\n",
       "<path style=\"fill:none;stroke-width:1;stroke-linecap:round;stroke-linejoin:round;stroke:rgb(0%,0%,0%);stroke-opacity:1;stroke-miterlimit:10;\" d=\"M 78.800781 70.878906 C 78.800781 75.148438 72.398438 75.148438 72.398438 70.878906 C 72.398438 66.613281 78.800781 66.613281 78.800781 70.878906 \"/>\n",
       "<path style=\"fill:none;stroke-width:1;stroke-linecap:round;stroke-linejoin:round;stroke:rgb(0%,0%,0%);stroke-opacity:1;stroke-miterlimit:10;\" d=\"M 78.800781 69.53125 C 78.800781 73.800781 72.398438 73.800781 72.398438 69.53125 C 72.398438 65.265625 78.800781 65.265625 78.800781 69.53125 \"/>\n",
       "<path style=\"fill:none;stroke-width:1;stroke-linecap:round;stroke-linejoin:round;stroke:rgb(0%,0%,0%);stroke-opacity:1;stroke-miterlimit:10;\" d=\"M 78.800781 66.769531 C 78.800781 71.035156 72.398438 71.035156 72.398438 66.769531 C 72.398438 62.503906 78.800781 62.503906 78.800781 66.769531 \"/>\n",
       "<path style=\"fill:none;stroke-width:1;stroke-linecap:round;stroke-linejoin:round;stroke:rgb(0%,0%,0%);stroke-opacity:1;stroke-miterlimit:10;\" d=\"M 78.800781 70.914062 C 78.800781 75.179688 72.398438 75.179688 72.398438 70.914062 C 72.398438 66.648438 78.800781 66.648438 78.800781 70.914062 \"/>\n",
       "<path style=\"fill:none;stroke-width:1;stroke-linecap:round;stroke-linejoin:round;stroke:rgb(0%,0%,0%);stroke-opacity:1;stroke-miterlimit:10;\" d=\"M 78.800781 71.214844 C 78.800781 75.480469 72.398438 75.480469 72.398438 71.214844 C 72.398438 66.949219 78.800781 66.949219 78.800781 71.214844 \"/>\n",
       "<path style=\"fill:none;stroke-width:1;stroke-linecap:round;stroke-linejoin:round;stroke:rgb(0%,0%,0%);stroke-opacity:1;stroke-miterlimit:10;\" d=\"M 78.800781 66.847656 C 78.800781 71.113281 72.398438 71.113281 72.398438 66.847656 C 72.398438 62.578125 78.800781 62.578125 78.800781 66.847656 \"/>\n",
       "<path style=\"fill:none;stroke-width:1;stroke-linecap:round;stroke-linejoin:round;stroke:rgb(0%,0%,0%);stroke-opacity:1;stroke-miterlimit:10;\" d=\"M 78.800781 63.910156 C 78.800781 68.179688 72.398438 68.179688 72.398438 63.910156 C 72.398438 59.644531 78.800781 59.644531 78.800781 63.910156 \"/>\n",
       "<path style=\"fill:none;stroke-width:1;stroke-linecap:round;stroke-linejoin:round;stroke:rgb(0%,0%,0%);stroke-opacity:1;stroke-miterlimit:10;\" d=\"M 78.800781 71.214844 C 78.800781 75.480469 72.398438 75.480469 72.398438 71.214844 C 72.398438 66.949219 78.800781 66.949219 78.800781 71.214844 \"/>\n",
       "<path style=\"fill:none;stroke-width:1;stroke-linecap:round;stroke-linejoin:round;stroke:rgb(0%,0%,0%);stroke-opacity:1;stroke-miterlimit:10;\" d=\"M 78.800781 74.683594 C 78.800781 78.949219 72.398438 78.949219 72.398438 74.683594 C 72.398438 70.414062 78.800781 70.414062 78.800781 74.683594 \"/>\n",
       "<path style=\"fill:none;stroke-width:1;stroke-linecap:round;stroke-linejoin:round;stroke:rgb(0%,0%,0%);stroke-opacity:1;stroke-miterlimit:10;\" d=\"M 78.800781 71.050781 C 78.800781 75.320312 72.398438 75.320312 72.398438 71.050781 C 72.398438 66.785156 78.800781 66.785156 78.800781 71.050781 \"/>\n",
       "<path style=\"fill:none;stroke-width:1;stroke-linecap:round;stroke-linejoin:round;stroke:rgb(0%,0%,0%);stroke-opacity:1;stroke-miterlimit:10;\" d=\"M 78.800781 68.890625 C 78.800781 73.15625 72.398438 73.15625 72.398438 68.890625 C 72.398438 64.621094 78.800781 64.621094 78.800781 68.890625 \"/>\n",
       "<path style=\"fill:none;stroke-width:1;stroke-linecap:round;stroke-linejoin:round;stroke:rgb(0%,0%,0%);stroke-opacity:1;stroke-miterlimit:10;\" d=\"M 78.800781 72.449219 C 78.800781 76.71875 72.398438 76.71875 72.398438 72.449219 C 72.398438 68.183594 78.800781 68.183594 78.800781 72.449219 \"/>\n",
       "<path style=\"fill:none;stroke-width:1;stroke-linecap:round;stroke-linejoin:round;stroke:rgb(0%,0%,0%);stroke-opacity:1;stroke-miterlimit:10;\" d=\"M 78.800781 67.644531 C 78.800781 71.910156 72.398438 71.910156 72.398438 67.644531 C 72.398438 63.378906 78.800781 63.378906 78.800781 67.644531 \"/>\n",
       "<path style=\"fill:none;stroke-width:1;stroke-linecap:round;stroke-linejoin:round;stroke:rgb(0%,0%,0%);stroke-opacity:1;stroke-miterlimit:10;\" d=\"M 78.800781 72.726562 C 78.800781 76.992188 72.398438 76.992188 72.398438 72.726562 C 72.398438 68.460938 78.800781 68.460938 78.800781 72.726562 \"/>\n",
       "<path style=\"fill:none;stroke-width:1;stroke-linecap:round;stroke-linejoin:round;stroke:rgb(0%,0%,0%);stroke-opacity:1;stroke-miterlimit:10;\" d=\"M 78.800781 72.898438 C 78.800781 77.164062 72.398438 77.164062 72.398438 72.898438 C 72.398438 68.632812 78.800781 68.632812 78.800781 72.898438 \"/>\n",
       "<path style=\"fill:none;stroke-width:1;stroke-linecap:round;stroke-linejoin:round;stroke:rgb(0%,0%,0%);stroke-opacity:1;stroke-miterlimit:10;\" d=\"M 78.800781 74.46875 C 78.800781 78.734375 72.398438 78.734375 72.398438 74.46875 C 72.398438 70.203125 78.800781 70.203125 78.800781 74.46875 \"/>\n",
       "<path style=\"fill:none;stroke-width:1;stroke-linecap:round;stroke-linejoin:round;stroke:rgb(0%,0%,0%);stroke-opacity:1;stroke-miterlimit:10;\" d=\"M 78.800781 71.042969 C 78.800781 75.308594 72.398438 75.308594 72.398438 71.042969 C 72.398438 66.777344 78.800781 66.777344 78.800781 71.042969 \"/>\n",
       "<path style=\"fill:none;stroke-width:1;stroke-linecap:round;stroke-linejoin:round;stroke:rgb(0%,0%,0%);stroke-opacity:1;stroke-miterlimit:10;\" d=\"M 78.800781 71.679688 C 78.800781 75.945312 72.398438 75.945312 72.398438 71.679688 C 72.398438 67.410156 78.800781 67.410156 78.800781 71.679688 \"/>\n",
       "<g clip-path=\"url(#clip1)\" clip-rule=\"nonzero\">\n",
       "<path style=\"fill:none;stroke-width:1;stroke-linecap:round;stroke-linejoin:round;stroke:rgb(0%,0%,0%);stroke-opacity:1;stroke-miterlimit:10;\" d=\"M 78.800781 63.140625 C 78.800781 67.40625 72.398438 67.40625 72.398438 63.140625 C 72.398438 58.871094 78.800781 58.871094 78.800781 63.140625 \"/>\n",
       "</g>\n",
       "<g clip-path=\"url(#clip2)\" clip-rule=\"nonzero\">\n",
       "<path style=\"fill:none;stroke-width:1;stroke-linecap:round;stroke-linejoin:round;stroke:rgb(0%,0%,0%);stroke-opacity:1;stroke-miterlimit:10;\" d=\"M 78.800781 63.507812 C 78.800781 67.773438 72.398438 67.773438 72.398438 63.507812 C 72.398438 59.242188 78.800781 59.242188 78.800781 63.507812 \"/>\n",
       "</g>\n",
       "<path style=\"fill:none;stroke-width:1;stroke-linecap:round;stroke-linejoin:round;stroke:rgb(0%,0%,0%);stroke-opacity:1;stroke-miterlimit:10;\" d=\"M 78.800781 74.210938 C 78.800781 78.476562 72.398438 78.476562 72.398438 74.210938 C 72.398438 69.945312 78.800781 69.945312 78.800781 74.210938 \"/>\n",
       "<path style=\"fill:none;stroke-width:1;stroke-linecap:round;stroke-linejoin:round;stroke:rgb(0%,0%,0%);stroke-opacity:1;stroke-miterlimit:10;\" d=\"M 78.800781 63.960938 C 78.800781 68.230469 72.398438 68.230469 72.398438 63.960938 C 72.398438 59.695312 78.800781 59.695312 78.800781 63.960938 \"/>\n",
       "<path style=\"fill:none;stroke-width:1;stroke-linecap:round;stroke-linejoin:round;stroke:rgb(0%,0%,0%);stroke-opacity:1;stroke-miterlimit:10;\" d=\"M 78.800781 67.945312 C 78.800781 72.210938 72.398438 72.210938 72.398438 67.945312 C 72.398438 63.679688 78.800781 63.679688 78.800781 67.945312 \"/>\n",
       "<path style=\"fill:none;stroke-width:1;stroke-linecap:round;stroke-linejoin:round;stroke:rgb(0%,0%,0%);stroke-opacity:1;stroke-miterlimit:10;\" d=\"M 78.800781 71.695312 C 78.800781 75.960938 72.398438 75.960938 72.398438 71.695312 C 72.398438 67.429688 78.800781 67.429688 78.800781 71.695312 \"/>\n",
       "<path style=\"fill:none;stroke-width:1;stroke-linecap:round;stroke-linejoin:round;stroke:rgb(0%,0%,0%);stroke-opacity:1;stroke-miterlimit:10;\" d=\"M 78.800781 74.210938 C 78.800781 78.476562 72.398438 78.476562 72.398438 74.210938 C 72.398438 69.945312 78.800781 69.945312 78.800781 74.210938 \"/>\n",
       "<path style=\"fill:none;stroke-width:1;stroke-linecap:round;stroke-linejoin:round;stroke:rgb(0%,0%,0%);stroke-opacity:1;stroke-miterlimit:10;\" d=\"M 78.800781 66.484375 C 78.800781 70.753906 72.398438 70.753906 72.398438 66.484375 C 72.398438 62.21875 78.800781 62.21875 78.800781 66.484375 \"/>\n",
       "<path style=\"fill:none;stroke-width:1;stroke-linecap:round;stroke-linejoin:round;stroke:rgb(0%,0%,0%);stroke-opacity:1;stroke-miterlimit:10;\" d=\"M 78.800781 74.664062 C 78.800781 78.933594 72.398438 78.933594 72.398438 74.664062 C 72.398438 70.398438 78.800781 70.398438 78.800781 74.664062 \"/>\n",
       "<path style=\"fill:none;stroke-width:1;stroke-linecap:round;stroke-linejoin:round;stroke:rgb(0%,0%,0%);stroke-opacity:1;stroke-miterlimit:10;\" d=\"M 78.800781 64.976562 C 78.800781 69.242188 72.398438 69.242188 72.398438 64.976562 C 72.398438 60.707031 78.800781 60.707031 78.800781 64.976562 \"/>\n",
       "<g clip-path=\"url(#clip3)\" clip-rule=\"nonzero\">\n",
       "<path style=\"fill:none;stroke-width:1;stroke-linecap:round;stroke-linejoin:round;stroke:rgb(0%,0%,0%);stroke-opacity:1;stroke-miterlimit:10;\" d=\"M 78.800781 62.632812 C 78.800781 66.898438 72.398438 66.898438 72.398438 62.632812 C 72.398438 58.363281 78.800781 58.363281 78.800781 62.632812 \"/>\n",
       "</g>\n",
       "<path style=\"fill:none;stroke-width:1;stroke-linecap:round;stroke-linejoin:round;stroke:rgb(0%,0%,0%);stroke-opacity:1;stroke-miterlimit:10;\" d=\"M 78.800781 69.292969 C 78.800781 73.558594 72.398438 73.558594 72.398438 69.292969 C 72.398438 65.027344 78.800781 65.027344 78.800781 69.292969 \"/>\n",
       "<path style=\"fill:none;stroke-width:1;stroke-linecap:round;stroke-linejoin:round;stroke:rgb(0%,0%,0%);stroke-opacity:1;stroke-miterlimit:10;\" d=\"M 78.800781 65.773438 C 78.800781 70.039062 72.398438 70.039062 72.398438 65.773438 C 72.398438 61.507812 78.800781 61.507812 78.800781 65.773438 \"/>\n",
       "<g clip-path=\"url(#clip4)\" clip-rule=\"nonzero\">\n",
       "<path style=\"fill:none;stroke-width:1;stroke-linecap:round;stroke-linejoin:round;stroke:rgb(0%,0%,0%);stroke-opacity:1;stroke-miterlimit:10;\" d=\"M 78.800781 62.921875 C 78.800781 67.191406 72.398438 67.191406 72.398438 62.921875 C 72.398438 58.65625 78.800781 58.65625 78.800781 62.921875 \"/>\n",
       "</g>\n",
       "<path style=\"fill:none;stroke-width:1;stroke-linecap:round;stroke-linejoin:round;stroke:rgb(0%,0%,0%);stroke-opacity:1;stroke-miterlimit:10;\" d=\"M 78.800781 67.796875 C 78.800781 72.066406 72.398438 72.066406 72.398438 67.796875 C 72.398438 63.53125 78.800781 63.53125 78.800781 67.796875 \"/>\n",
       "<path style=\"fill:none;stroke-width:1;stroke-linecap:round;stroke-linejoin:round;stroke:rgb(0%,0%,0%);stroke-opacity:1;stroke-miterlimit:10;\" d=\"M 78.800781 73.574219 C 78.800781 77.84375 72.398438 77.84375 72.398438 73.574219 C 72.398438 69.308594 78.800781 69.308594 78.800781 73.574219 \"/>\n",
       "<path style=\"fill:none;stroke-width:1;stroke-linecap:round;stroke-linejoin:round;stroke:rgb(0%,0%,0%);stroke-opacity:1;stroke-miterlimit:10;\" d=\"M 78.800781 64.140625 C 78.800781 68.410156 72.398438 68.410156 72.398438 64.140625 C 72.398438 59.875 78.800781 59.875 78.800781 64.140625 \"/>\n",
       "<path style=\"fill:none;stroke-width:1;stroke-linecap:round;stroke-linejoin:round;stroke:rgb(0%,0%,0%);stroke-opacity:1;stroke-miterlimit:10;\" d=\"M 78.800781 65.558594 C 78.800781 69.824219 72.398438 69.824219 72.398438 65.558594 C 72.398438 61.292969 78.800781 61.292969 78.800781 65.558594 \"/>\n",
       "<path style=\"fill:none;stroke-width:1;stroke-linecap:round;stroke-linejoin:round;stroke:rgb(0%,0%,0%);stroke-opacity:1;stroke-miterlimit:10;\" d=\"M 78.800781 73.070312 C 78.800781 77.335938 72.398438 77.335938 72.398438 73.070312 C 72.398438 68.800781 78.800781 68.800781 78.800781 73.070312 \"/>\n",
       "<path style=\"fill:none;stroke-width:1;stroke-linecap:round;stroke-linejoin:round;stroke:rgb(0%,0%,0%);stroke-opacity:1;stroke-miterlimit:10;\" d=\"M 78.800781 70.140625 C 78.800781 74.410156 72.398438 74.410156 72.398438 70.140625 C 72.398438 65.875 78.800781 65.875 78.800781 70.140625 \"/>\n",
       "<path style=\"fill:none;stroke-width:1;stroke-linecap:round;stroke-linejoin:round;stroke:rgb(0%,0%,0%);stroke-opacity:1;stroke-miterlimit:10;\" d=\"M 78.800781 67.191406 C 78.800781 71.457031 72.398438 71.457031 72.398438 67.191406 C 72.398438 62.921875 78.800781 62.921875 78.800781 67.191406 \"/>\n",
       "<path style=\"fill:none;stroke-width:1;stroke-linecap:round;stroke-linejoin:round;stroke:rgb(0%,0%,0%);stroke-opacity:1;stroke-miterlimit:10;\" d=\"M 78.800781 69.53125 C 78.800781 73.800781 72.398438 73.800781 72.398438 69.53125 C 72.398438 65.265625 78.800781 65.265625 78.800781 69.53125 \"/>\n",
       "<path style=\"fill:none;stroke-width:1;stroke-linecap:round;stroke-linejoin:round;stroke:rgb(0%,0%,0%);stroke-opacity:1;stroke-miterlimit:10;\" d=\"M 78.800781 72.691406 C 78.800781 76.957031 72.398438 76.957031 72.398438 72.691406 C 72.398438 68.425781 78.800781 68.425781 78.800781 72.691406 \"/>\n",
       "<path style=\"fill:none;stroke-width:1;stroke-linecap:round;stroke-linejoin:round;stroke:rgb(0%,0%,0%);stroke-opacity:1;stroke-miterlimit:10;\" d=\"M 78.800781 68.375 C 78.800781 72.640625 72.398438 72.640625 72.398438 68.375 C 72.398438 64.105469 78.800781 64.105469 78.800781 68.375 \"/>\n",
       "<path style=\"fill:none;stroke-width:1;stroke-linecap:round;stroke-linejoin:round;stroke:rgb(0%,0%,0%);stroke-opacity:1;stroke-miterlimit:10;\" d=\"M 78.800781 70.492188 C 78.800781 74.761719 72.398438 74.761719 72.398438 70.492188 C 72.398438 66.226562 78.800781 66.226562 78.800781 70.492188 \"/>\n",
       "<path style=\"fill:none;stroke-width:1;stroke-linecap:round;stroke-linejoin:round;stroke:rgb(0%,0%,0%);stroke-opacity:1;stroke-miterlimit:10;\" d=\"M 78.800781 71.222656 C 78.800781 75.492188 72.398438 75.492188 72.398438 71.222656 C 72.398438 66.957031 78.800781 66.957031 78.800781 71.222656 \"/>\n",
       "<path style=\"fill:none;stroke-width:1;stroke-linecap:round;stroke-linejoin:round;stroke:rgb(0%,0%,0%);stroke-opacity:1;stroke-miterlimit:10;\" d=\"M 78.800781 69.617188 C 78.800781 73.886719 72.398438 73.886719 72.398438 69.617188 C 72.398438 65.351562 78.800781 65.351562 78.800781 69.617188 \"/>\n",
       "<path style=\"fill:none;stroke-width:1;stroke-linecap:round;stroke-linejoin:round;stroke:rgb(0%,0%,0%);stroke-opacity:1;stroke-miterlimit:10;\" d=\"M 78.800781 64.613281 C 78.800781 68.882812 72.398438 68.882812 72.398438 64.613281 C 72.398438 60.347656 78.800781 60.347656 78.800781 64.613281 \"/>\n",
       "<path style=\" stroke:none;fill-rule:nonzero;fill:rgb(100%,100%,100%);fill-opacity:1;\" d=\"M 86.640625 131.601562 L 101.359375 131.601562 L 101.359375 109.996094 L 86.640625 109.996094 Z M 86.640625 131.601562 \"/>\n",
       "<path style=\"fill:none;stroke-width:3;stroke-linecap:butt;stroke-linejoin:round;stroke:rgb(0%,0%,0%);stroke-opacity:1;stroke-miterlimit:10;\" d=\"M 86.640625 123.785156 L 101.359375 123.785156 \"/>\n",
       "<path style=\"fill:none;stroke-width:1;stroke-linecap:round;stroke-linejoin:round;stroke:rgb(0%,0%,0%);stroke-opacity:1;stroke-dasharray:4,4;stroke-miterlimit:10;\" d=\"M 94 139.464844 L 94 131.601562 \"/>\n",
       "<path style=\"fill:none;stroke-width:1;stroke-linecap:round;stroke-linejoin:round;stroke:rgb(0%,0%,0%);stroke-opacity:1;stroke-dasharray:4,4;stroke-miterlimit:10;\" d=\"M 94 77.679688 L 94 109.996094 \"/>\n",
       "<path style=\"fill:none;stroke-width:1;stroke-linecap:round;stroke-linejoin:round;stroke:rgb(0%,0%,0%);stroke-opacity:1;stroke-miterlimit:10;\" d=\"M 90.320312 139.464844 L 97.679688 139.464844 \"/>\n",
       "<path style=\"fill:none;stroke-width:1;stroke-linecap:round;stroke-linejoin:round;stroke:rgb(0%,0%,0%);stroke-opacity:1;stroke-miterlimit:10;\" d=\"M 90.320312 77.679688 L 97.679688 77.679688 \"/>\n",
       "<path style=\"fill:none;stroke-width:1;stroke-linecap:round;stroke-linejoin:round;stroke:rgb(0%,0%,0%);stroke-opacity:1;stroke-miterlimit:10;\" d=\"M 86.640625 131.601562 L 101.359375 131.601562 L 101.359375 109.996094 L 86.640625 109.996094 L 86.640625 131.601562 \"/>\n",
       "<path style=\"fill:none;stroke-width:1;stroke-linecap:round;stroke-linejoin:round;stroke:rgb(0%,0%,0%);stroke-opacity:1;stroke-miterlimit:10;\" d=\"M 97.199219 76.605469 C 97.199219 80.871094 90.800781 80.871094 90.800781 76.605469 C 90.800781 72.339844 97.199219 72.339844 97.199219 76.605469 \"/>\n",
       "<path style=\"fill:none;stroke-width:1;stroke-linecap:round;stroke-linejoin:round;stroke:rgb(0%,0%,0%);stroke-opacity:1;stroke-miterlimit:10;\" d=\"M 97.199219 64.453125 C 97.199219 68.71875 90.800781 68.71875 90.800781 64.453125 C 90.800781 60.183594 97.199219 60.183594 97.199219 64.453125 \"/>\n",
       "<path style=\"fill:none;stroke-width:1;stroke-linecap:round;stroke-linejoin:round;stroke:rgb(0%,0%,0%);stroke-opacity:1;stroke-miterlimit:10;\" d=\"M 97.199219 74.289062 C 97.199219 78.554688 90.800781 78.554688 90.800781 74.289062 C 90.800781 70.019531 97.199219 70.019531 97.199219 74.289062 \"/>\n",
       "<path style=\"fill:none;stroke-width:1;stroke-linecap:round;stroke-linejoin:round;stroke:rgb(0%,0%,0%);stroke-opacity:1;stroke-miterlimit:10;\" d=\"M 97.199219 67.222656 C 97.199219 71.488281 90.800781 71.488281 90.800781 67.222656 C 90.800781 62.953125 97.199219 62.953125 97.199219 67.222656 \"/>\n",
       "<path style=\"fill:none;stroke-width:1;stroke-linecap:round;stroke-linejoin:round;stroke:rgb(0%,0%,0%);stroke-opacity:1;stroke-miterlimit:10;\" d=\"M 97.199219 76.210938 C 97.199219 80.476562 90.800781 80.476562 90.800781 76.210938 C 90.800781 71.941406 97.199219 71.941406 97.199219 76.210938 \"/>\n",
       "<path style=\"fill:none;stroke-width:1;stroke-linecap:round;stroke-linejoin:round;stroke:rgb(0%,0%,0%);stroke-opacity:1;stroke-miterlimit:10;\" d=\"M 97.199219 76.152344 C 97.199219 80.417969 90.800781 80.417969 90.800781 76.152344 C 90.800781 71.886719 97.199219 71.886719 97.199219 76.152344 \"/>\n",
       "<path style=\"fill:none;stroke-width:1;stroke-linecap:round;stroke-linejoin:round;stroke:rgb(0%,0%,0%);stroke-opacity:1;stroke-miterlimit:10;\" d=\"M 97.199219 64.847656 C 97.199219 69.113281 90.800781 69.113281 90.800781 64.847656 C 90.800781 60.582031 97.199219 60.582031 97.199219 64.847656 \"/>\n",
       "<path style=\"fill:none;stroke-width:1;stroke-linecap:round;stroke-linejoin:round;stroke:rgb(0%,0%,0%);stroke-opacity:1;stroke-miterlimit:10;\" d=\"M 97.199219 64.394531 C 97.199219 68.660156 90.800781 68.660156 90.800781 64.394531 C 90.800781 60.128906 97.199219 60.128906 97.199219 64.394531 \"/>\n",
       "<path style=\"fill:none;stroke-width:1;stroke-linecap:round;stroke-linejoin:round;stroke:rgb(0%,0%,0%);stroke-opacity:1;stroke-miterlimit:10;\" d=\"M 97.199219 69.480469 C 97.199219 73.75 90.800781 73.75 90.800781 69.480469 C 90.800781 65.214844 97.199219 65.214844 97.199219 69.480469 \"/>\n",
       "<path style=\"fill:none;stroke-width:1;stroke-linecap:round;stroke-linejoin:round;stroke:rgb(0%,0%,0%);stroke-opacity:1;stroke-miterlimit:10;\" d=\"M 97.199219 69.933594 C 97.199219 74.203125 90.800781 74.203125 90.800781 69.933594 C 90.800781 65.667969 97.199219 65.667969 97.199219 69.933594 \"/>\n",
       "<path style=\"fill:none;stroke-width:1;stroke-linecap:round;stroke-linejoin:round;stroke:rgb(0%,0%,0%);stroke-opacity:1;stroke-miterlimit:10;\" d=\"M 97.199219 70.160156 C 97.199219 74.425781 90.800781 74.425781 90.800781 70.160156 C 90.800781 65.894531 97.199219 65.894531 97.199219 70.160156 \"/>\n",
       "<path style=\"fill:none;stroke-width:1;stroke-linecap:round;stroke-linejoin:round;stroke:rgb(0%,0%,0%);stroke-opacity:1;stroke-miterlimit:10;\" d=\"M 97.199219 67.335938 C 97.199219 71.601562 90.800781 71.601562 90.800781 67.335938 C 90.800781 63.066406 97.199219 63.066406 97.199219 67.335938 \"/>\n",
       "<path style=\"fill:none;stroke-width:1;stroke-linecap:round;stroke-linejoin:round;stroke:rgb(0%,0%,0%);stroke-opacity:1;stroke-miterlimit:10;\" d=\"M 97.199219 72.648438 C 97.199219 76.914062 90.800781 76.914062 90.800781 72.648438 C 90.800781 68.382812 97.199219 68.382812 97.199219 72.648438 \"/>\n",
       "<path style=\"fill:none;stroke-width:1;stroke-linecap:round;stroke-linejoin:round;stroke:rgb(0%,0%,0%);stroke-opacity:1;stroke-miterlimit:10;\" d=\"M 97.199219 68.917969 C 97.199219 73.183594 90.800781 73.183594 90.800781 68.917969 C 90.800781 64.652344 97.199219 64.652344 97.199219 68.917969 \"/>\n",
       "<g clip-path=\"url(#clip5)\" clip-rule=\"nonzero\">\n",
       "<path style=\"fill:none;stroke-width:1;stroke-linecap:round;stroke-linejoin:round;stroke:rgb(0%,0%,0%);stroke-opacity:1;stroke-miterlimit:10;\" d=\"M 97.199219 62.132812 C 97.199219 66.398438 90.800781 66.398438 90.800781 62.132812 C 90.800781 57.867188 97.199219 57.867188 97.199219 62.132812 \"/>\n",
       "</g>\n",
       "<path style=\"fill:none;stroke-width:1;stroke-linecap:round;stroke-linejoin:round;stroke:rgb(0%,0%,0%);stroke-opacity:1;stroke-miterlimit:10;\" d=\"M 97.199219 67.898438 C 97.199219 72.167969 90.800781 72.167969 90.800781 67.898438 C 90.800781 63.632812 97.199219 63.632812 97.199219 67.898438 \"/>\n",
       "<g clip-path=\"url(#clip6)\" clip-rule=\"nonzero\">\n",
       "<path style=\"fill:none;stroke-width:1;stroke-linecap:round;stroke-linejoin:round;stroke:rgb(0%,0%,0%);stroke-opacity:1;stroke-miterlimit:10;\" d=\"M 97.199219 62.417969 C 97.199219 66.683594 90.800781 66.683594 90.800781 62.417969 C 90.800781 58.148438 97.199219 58.148438 97.199219 62.417969 \"/>\n",
       "</g>\n",
       "<path style=\"fill:none;stroke-width:1;stroke-linecap:round;stroke-linejoin:round;stroke:rgb(0%,0%,0%);stroke-opacity:1;stroke-miterlimit:10;\" d=\"M 97.199219 75.191406 C 97.199219 79.457031 90.800781 79.457031 90.800781 75.191406 C 90.800781 70.925781 97.199219 70.925781 97.199219 75.191406 \"/>\n",
       "<path style=\"fill:none;stroke-width:1;stroke-linecap:round;stroke-linejoin:round;stroke:rgb(0%,0%,0%);stroke-opacity:1;stroke-miterlimit:10;\" d=\"M 97.199219 70.953125 C 97.199219 75.21875 90.800781 75.21875 90.800781 70.953125 C 90.800781 66.683594 97.199219 66.683594 97.199219 70.953125 \"/>\n",
       "<path style=\"fill:none;stroke-width:1;stroke-linecap:round;stroke-linejoin:round;stroke:rgb(0%,0%,0%);stroke-opacity:1;stroke-miterlimit:10;\" d=\"M 97.199219 74.851562 C 97.199219 79.121094 90.800781 79.121094 90.800781 74.851562 C 90.800781 70.585938 97.199219 70.585938 97.199219 74.851562 \"/>\n",
       "<path style=\"fill:none;stroke-width:1;stroke-linecap:round;stroke-linejoin:round;stroke:rgb(0%,0%,0%);stroke-opacity:1;stroke-miterlimit:10;\" d=\"M 97.199219 64.675781 C 97.199219 68.945312 90.800781 68.945312 90.800781 64.675781 C 90.800781 60.410156 97.199219 60.410156 97.199219 64.675781 \"/>\n",
       "<path style=\"fill:none;stroke-width:1;stroke-linecap:round;stroke-linejoin:round;stroke:rgb(0%,0%,0%);stroke-opacity:1;stroke-miterlimit:10;\" d=\"M 97.199219 77.113281 C 97.199219 81.382812 90.800781 81.382812 90.800781 77.113281 C 90.800781 72.847656 97.199219 72.847656 97.199219 77.113281 \"/>\n",
       "<path style=\"fill:none;stroke-width:1;stroke-linecap:round;stroke-linejoin:round;stroke:rgb(0%,0%,0%);stroke-opacity:1;stroke-miterlimit:10;\" d=\"M 97.199219 75.8125 C 97.199219 80.082031 90.800781 80.082031 90.800781 75.8125 C 90.800781 71.546875 97.199219 71.546875 97.199219 75.8125 \"/>\n",
       "<path style=\"fill:none;stroke-width:1;stroke-linecap:round;stroke-linejoin:round;stroke:rgb(0%,0%,0%);stroke-opacity:1;stroke-miterlimit:10;\" d=\"M 97.199219 72.875 C 97.199219 77.140625 90.800781 77.140625 90.800781 72.875 C 90.800781 68.609375 97.199219 68.609375 97.199219 72.875 \"/>\n",
       "<path style=\"fill:none;stroke-width:1;stroke-linecap:round;stroke-linejoin:round;stroke:rgb(0%,0%,0%);stroke-opacity:1;stroke-miterlimit:10;\" d=\"M 97.199219 74.230469 C 97.199219 78.496094 90.800781 78.496094 90.800781 74.230469 C 90.800781 69.964844 97.199219 69.964844 97.199219 74.230469 \"/>\n",
       "<path style=\"fill:none;stroke-width:1;stroke-linecap:round;stroke-linejoin:round;stroke:rgb(0%,0%,0%);stroke-opacity:1;stroke-miterlimit:10;\" d=\"M 97.199219 72.59375 C 97.199219 76.859375 90.800781 76.859375 90.800781 72.59375 C 90.800781 68.324219 97.199219 68.324219 97.199219 72.59375 \"/>\n",
       "<path style=\"fill:none;stroke-width:1;stroke-linecap:round;stroke-linejoin:round;stroke:rgb(0%,0%,0%);stroke-opacity:1;stroke-miterlimit:10;\" d=\"M 97.199219 75.925781 C 97.199219 80.195312 90.800781 80.195312 90.800781 75.925781 C 90.800781 71.660156 97.199219 71.660156 97.199219 75.925781 \"/>\n",
       "<g clip-path=\"url(#clip7)\" clip-rule=\"nonzero\">\n",
       "<path style=\"fill:none;stroke-width:1;stroke-linecap:round;stroke-linejoin:round;stroke:rgb(0%,0%,0%);stroke-opacity:1;stroke-miterlimit:10;\" d=\"M 97.199219 63.433594 C 97.199219 67.699219 90.800781 67.699219 90.800781 63.433594 C 90.800781 59.167969 97.199219 59.167969 97.199219 63.433594 \"/>\n",
       "</g>\n",
       "<path style=\"fill:none;stroke-width:1;stroke-linecap:round;stroke-linejoin:round;stroke:rgb(0%,0%,0%);stroke-opacity:1;stroke-miterlimit:10;\" d=\"M 97.199219 64.789062 C 97.199219 69.058594 90.800781 69.058594 90.800781 64.789062 C 90.800781 60.523438 97.199219 60.523438 97.199219 64.789062 \"/>\n",
       "<path style=\"fill:none;stroke-width:1;stroke-linecap:round;stroke-linejoin:round;stroke:rgb(0%,0%,0%);stroke-opacity:1;stroke-miterlimit:10;\" d=\"M 97.199219 71.914062 C 97.199219 76.179688 90.800781 76.179688 90.800781 71.914062 C 90.800781 67.648438 97.199219 67.648438 97.199219 71.914062 \"/>\n",
       "<path style=\"fill:none;stroke-width:1;stroke-linecap:round;stroke-linejoin:round;stroke:rgb(0%,0%,0%);stroke-opacity:1;stroke-miterlimit:10;\" d=\"M 97.199219 75.304688 C 97.199219 79.570312 90.800781 79.570312 90.800781 75.304688 C 90.800781 71.039062 97.199219 71.039062 97.199219 75.304688 \"/>\n",
       "<path style=\"fill:none;stroke-width:1;stroke-linecap:round;stroke-linejoin:round;stroke:rgb(0%,0%,0%);stroke-opacity:1;stroke-miterlimit:10;\" d=\"M 97.199219 73.214844 C 97.199219 77.480469 90.800781 77.480469 90.800781 73.214844 C 90.800781 68.945312 97.199219 68.945312 97.199219 73.214844 \"/>\n",
       "<path style=\"fill:none;stroke-width:1;stroke-linecap:round;stroke-linejoin:round;stroke:rgb(0%,0%,0%);stroke-opacity:1;stroke-miterlimit:10;\" d=\"M 97.199219 65.75 C 97.199219 70.019531 90.800781 70.019531 90.800781 65.75 C 90.800781 61.484375 97.199219 61.484375 97.199219 65.75 \"/>\n",
       "<path style=\"fill:none;stroke-width:1;stroke-linecap:round;stroke-linejoin:round;stroke:rgb(0%,0%,0%);stroke-opacity:1;stroke-miterlimit:10;\" d=\"M 97.199219 65.1875 C 97.199219 69.453125 90.800781 69.453125 90.800781 65.1875 C 90.800781 60.917969 97.199219 60.917969 97.199219 65.1875 \"/>\n",
       "<path style=\" stroke:none;fill-rule:nonzero;fill:rgb(100%,100%,100%);fill-opacity:1;\" d=\"M 105.039062 131.445312 L 119.761719 131.445312 L 119.761719 110.71875 L 105.039062 110.71875 Z M 105.039062 131.445312 \"/>\n",
       "<path style=\"fill:none;stroke-width:3;stroke-linecap:butt;stroke-linejoin:round;stroke:rgb(0%,0%,0%);stroke-opacity:1;stroke-miterlimit:10;\" d=\"M 105.039062 123.695312 L 119.761719 123.695312 \"/>\n",
       "<path style=\"fill:none;stroke-width:1;stroke-linecap:round;stroke-linejoin:round;stroke:rgb(0%,0%,0%);stroke-opacity:1;stroke-dasharray:4,4;stroke-miterlimit:10;\" d=\"M 112.398438 139.464844 L 112.398438 131.445312 \"/>\n",
       "<path style=\"fill:none;stroke-width:1;stroke-linecap:round;stroke-linejoin:round;stroke:rgb(0%,0%,0%);stroke-opacity:1;stroke-dasharray:4,4;stroke-miterlimit:10;\" d=\"M 112.398438 79.710938 L 112.398438 110.71875 \"/>\n",
       "<path style=\"fill:none;stroke-width:1;stroke-linecap:round;stroke-linejoin:round;stroke:rgb(0%,0%,0%);stroke-opacity:1;stroke-miterlimit:10;\" d=\"M 108.71875 139.464844 L 116.078125 139.464844 \"/>\n",
       "<path style=\"fill:none;stroke-width:1;stroke-linecap:round;stroke-linejoin:round;stroke:rgb(0%,0%,0%);stroke-opacity:1;stroke-miterlimit:10;\" d=\"M 108.71875 79.710938 L 116.078125 79.710938 \"/>\n",
       "<path style=\"fill:none;stroke-width:1;stroke-linecap:round;stroke-linejoin:round;stroke:rgb(0%,0%,0%);stroke-opacity:1;stroke-miterlimit:10;\" d=\"M 105.039062 131.445312 L 119.761719 131.445312 L 119.761719 110.71875 L 105.039062 110.71875 L 105.039062 131.445312 \"/>\n",
       "<path style=\"fill:none;stroke-width:1;stroke-linecap:round;stroke-linejoin:round;stroke:rgb(0%,0%,0%);stroke-opacity:1;stroke-miterlimit:10;\" d=\"M 115.601562 78.011719 C 115.601562 82.277344 109.199219 82.277344 109.199219 78.011719 C 109.199219 73.746094 115.601562 73.746094 115.601562 78.011719 \"/>\n",
       "<path style=\"fill:none;stroke-width:1;stroke-linecap:round;stroke-linejoin:round;stroke:rgb(0%,0%,0%);stroke-opacity:1;stroke-miterlimit:10;\" d=\"M 115.601562 76.738281 C 115.601562 81.003906 109.199219 81.003906 109.199219 76.738281 C 109.199219 72.472656 115.601562 72.472656 115.601562 76.738281 \"/>\n",
       "<path style=\"fill:none;stroke-width:1;stroke-linecap:round;stroke-linejoin:round;stroke:rgb(0%,0%,0%);stroke-opacity:1;stroke-miterlimit:10;\" d=\"M 115.601562 74.546875 C 115.601562 78.8125 109.199219 78.8125 109.199219 74.546875 C 109.199219 70.28125 115.601562 70.28125 115.601562 74.546875 \"/>\n",
       "<path style=\"fill:none;stroke-width:1;stroke-linecap:round;stroke-linejoin:round;stroke:rgb(0%,0%,0%);stroke-opacity:1;stroke-miterlimit:10;\" d=\"M 115.601562 68.710938 C 115.601562 72.980469 109.199219 72.980469 109.199219 68.710938 C 109.199219 64.445312 115.601562 64.445312 115.601562 68.710938 \"/>\n",
       "<path style=\"fill:none;stroke-width:1;stroke-linecap:round;stroke-linejoin:round;stroke:rgb(0%,0%,0%);stroke-opacity:1;stroke-miterlimit:10;\" d=\"M 115.601562 68.21875 C 115.601562 72.484375 109.199219 72.484375 109.199219 68.21875 C 109.199219 63.949219 115.601562 63.949219 115.601562 68.21875 \"/>\n",
       "<path style=\"fill:none;stroke-width:1;stroke-linecap:round;stroke-linejoin:round;stroke:rgb(0%,0%,0%);stroke-opacity:1;stroke-miterlimit:10;\" d=\"M 115.601562 77.550781 C 115.601562 81.820312 109.199219 81.820312 109.199219 77.550781 C 109.199219 73.285156 115.601562 73.285156 115.601562 77.550781 \"/>\n",
       "<path style=\"fill:none;stroke-width:1;stroke-linecap:round;stroke-linejoin:round;stroke:rgb(0%,0%,0%);stroke-opacity:1;stroke-miterlimit:10;\" d=\"M 115.601562 77.339844 C 115.601562 81.605469 109.199219 81.605469 109.199219 77.339844 C 109.199219 73.074219 115.601562 73.074219 115.601562 77.339844 \"/>\n",
       "<path style=\"fill:none;stroke-width:1;stroke-linecap:round;stroke-linejoin:round;stroke:rgb(0%,0%,0%);stroke-opacity:1;stroke-miterlimit:10;\" d=\"M 115.601562 71.929688 C 115.601562 76.195312 109.199219 76.195312 109.199219 71.929688 C 109.199219 67.664062 115.601562 67.664062 115.601562 71.929688 \"/>\n",
       "<path style=\"fill:none;stroke-width:1;stroke-linecap:round;stroke-linejoin:round;stroke:rgb(0%,0%,0%);stroke-opacity:1;stroke-miterlimit:10;\" d=\"M 115.601562 79.355469 C 115.601562 83.621094 109.199219 83.621094 109.199219 79.355469 C 109.199219 75.089844 115.601562 75.089844 115.601562 79.355469 \"/>\n",
       "<path style=\"fill:none;stroke-width:1;stroke-linecap:round;stroke-linejoin:round;stroke:rgb(0%,0%,0%);stroke-opacity:1;stroke-miterlimit:10;\" d=\"M 115.601562 64.929688 C 115.601562 69.195312 109.199219 69.195312 109.199219 64.929688 C 109.199219 60.664062 115.601562 60.664062 115.601562 64.929688 \"/>\n",
       "<path style=\"fill:none;stroke-width:1;stroke-linecap:round;stroke-linejoin:round;stroke:rgb(0%,0%,0%);stroke-opacity:1;stroke-miterlimit:10;\" d=\"M 115.601562 79.320312 C 115.601562 83.585938 109.199219 83.585938 109.199219 79.320312 C 109.199219 75.054688 115.601562 75.054688 115.601562 79.320312 \"/>\n",
       "<path style=\"fill:none;stroke-width:1;stroke-linecap:round;stroke-linejoin:round;stroke:rgb(0%,0%,0%);stroke-opacity:1;stroke-miterlimit:10;\" d=\"M 115.601562 68.746094 C 115.601562 73.015625 109.199219 73.015625 109.199219 68.746094 C 109.199219 64.480469 115.601562 64.480469 115.601562 68.746094 \"/>\n",
       "<path style=\"fill:none;stroke-width:1;stroke-linecap:round;stroke-linejoin:round;stroke:rgb(0%,0%,0%);stroke-opacity:1;stroke-miterlimit:10;\" d=\"M 115.601562 72.425781 C 115.601562 76.691406 109.199219 76.691406 109.199219 72.425781 C 109.199219 68.15625 115.601562 68.15625 115.601562 72.425781 \"/>\n",
       "<path style=\"fill:none;stroke-width:1;stroke-linecap:round;stroke-linejoin:round;stroke:rgb(0%,0%,0%);stroke-opacity:1;stroke-miterlimit:10;\" d=\"M 115.601562 79.109375 C 115.601562 83.375 109.199219 83.375 109.199219 79.109375 C 109.199219 74.839844 115.601562 74.839844 115.601562 79.109375 \"/>\n",
       "<g clip-path=\"url(#clip8)\" clip-rule=\"nonzero\">\n",
       "<path style=\"fill:none;stroke-width:1;stroke-linecap:round;stroke-linejoin:round;stroke:rgb(0%,0%,0%);stroke-opacity:1;stroke-miterlimit:10;\" d=\"M 115.601562 63.300781 C 115.601562 67.570312 109.199219 67.570312 109.199219 63.300781 C 109.199219 59.035156 115.601562 59.035156 115.601562 63.300781 \"/>\n",
       "</g>\n",
       "<path style=\"fill:none;stroke-width:1;stroke-linecap:round;stroke-linejoin:round;stroke:rgb(0%,0%,0%);stroke-opacity:1;stroke-miterlimit:10;\" d=\"M 115.601562 71.648438 C 115.601562 75.914062 109.199219 75.914062 109.199219 71.648438 C 109.199219 67.378906 115.601562 67.378906 115.601562 71.648438 \"/>\n",
       "<path style=\"fill:none;stroke-width:1;stroke-linecap:round;stroke-linejoin:round;stroke:rgb(0%,0%,0%);stroke-opacity:1;stroke-miterlimit:10;\" d=\"M 115.601562 77.128906 C 115.601562 81.394531 109.199219 81.394531 109.199219 77.128906 C 109.199219 72.859375 115.601562 72.859375 115.601562 77.128906 \"/>\n",
       "<path style=\"fill:none;stroke-width:1;stroke-linecap:round;stroke-linejoin:round;stroke:rgb(0%,0%,0%);stroke-opacity:1;stroke-miterlimit:10;\" d=\"M 115.601562 77.871094 C 115.601562 82.136719 109.199219 82.136719 109.199219 77.871094 C 109.199219 73.605469 115.601562 73.605469 115.601562 77.871094 \"/>\n",
       "<path style=\"fill:none;stroke-width:1;stroke-linecap:round;stroke-linejoin:round;stroke:rgb(0%,0%,0%);stroke-opacity:1;stroke-miterlimit:10;\" d=\"M 115.601562 65.246094 C 115.601562 69.515625 109.199219 69.515625 109.199219 65.246094 C 109.199219 60.980469 115.601562 60.980469 115.601562 65.246094 \"/>\n",
       "<g clip-path=\"url(#clip9)\" clip-rule=\"nonzero\">\n",
       "<path style=\"fill:none;stroke-width:1;stroke-linecap:round;stroke-linejoin:round;stroke:rgb(0%,0%,0%);stroke-opacity:1;stroke-miterlimit:10;\" d=\"M 115.601562 63.019531 C 115.601562 67.285156 109.199219 67.285156 109.199219 63.019531 C 109.199219 58.753906 115.601562 58.753906 115.601562 63.019531 \"/>\n",
       "</g>\n",
       "<path style=\"fill:none;stroke-width:1;stroke-linecap:round;stroke-linejoin:round;stroke:rgb(0%,0%,0%);stroke-opacity:1;stroke-miterlimit:10;\" d=\"M 115.601562 71.503906 C 115.601562 75.773438 109.199219 75.773438 109.199219 71.503906 C 109.199219 67.238281 115.601562 67.238281 115.601562 71.503906 \"/>\n",
       "<path style=\"fill:none;stroke-width:1;stroke-linecap:round;stroke-linejoin:round;stroke:rgb(0%,0%,0%);stroke-opacity:1;stroke-miterlimit:10;\" d=\"M 115.601562 67.15625 C 115.601562 71.421875 109.199219 71.421875 109.199219 67.15625 C 109.199219 62.890625 115.601562 62.890625 115.601562 67.15625 \"/>\n",
       "<path style=\"fill:none;stroke-width:1;stroke-linecap:round;stroke-linejoin:round;stroke:rgb(0%,0%,0%);stroke-opacity:1;stroke-miterlimit:10;\" d=\"M 115.601562 71.859375 C 115.601562 76.125 109.199219 76.125 109.199219 71.859375 C 109.199219 67.59375 115.601562 67.59375 115.601562 71.859375 \"/>\n",
       "<path style=\"fill:none;stroke-width:1;stroke-linecap:round;stroke-linejoin:round;stroke:rgb(0%,0%,0%);stroke-opacity:1;stroke-miterlimit:10;\" d=\"M 115.601562 64.75 C 115.601562 69.019531 109.199219 69.019531 109.199219 64.75 C 109.199219 60.484375 115.601562 60.484375 115.601562 64.75 \"/>\n",
       "<g clip-path=\"url(#clip10)\" clip-rule=\"nonzero\">\n",
       "<path style=\"fill:none;stroke-width:1;stroke-linecap:round;stroke-linejoin:round;stroke:rgb(0%,0%,0%);stroke-opacity:1;stroke-miterlimit:10;\" d=\"M 115.601562 63.019531 C 115.601562 67.285156 109.199219 67.285156 109.199219 63.019531 C 109.199219 58.753906 115.601562 58.753906 115.601562 63.019531 \"/>\n",
       "</g>\n",
       "<path style=\"fill:none;stroke-width:1;stroke-linecap:round;stroke-linejoin:round;stroke:rgb(0%,0%,0%);stroke-opacity:1;stroke-miterlimit:10;\" d=\"M 115.601562 68.113281 C 115.601562 72.378906 109.199219 72.378906 109.199219 68.113281 C 109.199219 63.84375 115.601562 63.84375 115.601562 68.113281 \"/>\n",
       "<path style=\"fill:none;stroke-width:1;stroke-linecap:round;stroke-linejoin:round;stroke:rgb(0%,0%,0%);stroke-opacity:1;stroke-miterlimit:10;\" d=\"M 115.601562 72.777344 C 115.601562 77.046875 109.199219 77.046875 109.199219 72.777344 C 109.199219 68.511719 115.601562 68.511719 115.601562 72.777344 \"/>\n",
       "<path style=\"fill:none;stroke-width:1;stroke-linecap:round;stroke-linejoin:round;stroke:rgb(0%,0%,0%);stroke-opacity:1;stroke-miterlimit:10;\" d=\"M 115.601562 78.292969 C 115.601562 82.5625 109.199219 82.5625 109.199219 78.292969 C 109.199219 74.027344 115.601562 74.027344 115.601562 78.292969 \"/>\n",
       "<path style=\"fill:none;stroke-width:1;stroke-linecap:round;stroke-linejoin:round;stroke:rgb(0%,0%,0%);stroke-opacity:1;stroke-miterlimit:10;\" d=\"M 115.601562 70.304688 C 115.601562 74.570312 109.199219 74.570312 109.199219 70.304688 C 109.199219 66.035156 115.601562 66.035156 115.601562 70.304688 \"/>\n",
       "<path style=\"fill:none;stroke-width:1;stroke-linecap:round;stroke-linejoin:round;stroke:rgb(0%,0%,0%);stroke-opacity:1;stroke-miterlimit:10;\" d=\"M 115.601562 71.46875 C 115.601562 75.738281 109.199219 75.738281 109.199219 71.46875 C 109.199219 67.203125 115.601562 67.203125 115.601562 71.46875 \"/>\n",
       "<g clip-path=\"url(#clip11)\" clip-rule=\"nonzero\">\n",
       "<path style=\"fill:none;stroke-width:1;stroke-linecap:round;stroke-linejoin:round;stroke:rgb(0%,0%,0%);stroke-opacity:1;stroke-miterlimit:10;\" d=\"M 115.601562 63.585938 C 115.601562 67.851562 109.199219 67.851562 109.199219 63.585938 C 109.199219 59.320312 115.601562 59.320312 115.601562 63.585938 \"/>\n",
       "<path style=\"fill:none;stroke-width:1;stroke-linecap:round;stroke-linejoin:round;stroke:rgb(0%,0%,0%);stroke-opacity:1;stroke-miterlimit:10;\" d=\"M 115.601562 63.65625 C 115.601562 67.921875 109.199219 67.921875 109.199219 63.65625 C 109.199219 59.390625 115.601562 59.390625 115.601562 63.65625 \"/>\n",
       "</g>\n",
       "<path style=\"fill:none;stroke-width:1;stroke-linecap:round;stroke-linejoin:round;stroke:rgb(0%,0%,0%);stroke-opacity:1;stroke-miterlimit:10;\" d=\"M 115.601562 69.101562 C 115.601562 73.367188 109.199219 73.367188 109.199219 69.101562 C 109.199219 64.835938 115.601562 64.835938 115.601562 69.101562 \"/>\n",
       "<path style=\"fill:none;stroke-width:1;stroke-linecap:round;stroke-linejoin:round;stroke:rgb(0%,0%,0%);stroke-opacity:1;stroke-miterlimit:10;\" d=\"M 115.601562 77.339844 C 115.601562 81.605469 109.199219 81.605469 109.199219 77.339844 C 109.199219 73.074219 115.601562 73.074219 115.601562 77.339844 \"/>\n",
       "<path style=\"fill:none;stroke-width:1;stroke-linecap:round;stroke-linejoin:round;stroke:rgb(0%,0%,0%);stroke-opacity:1;stroke-miterlimit:10;\" d=\"M 115.601562 78.683594 C 115.601562 82.949219 109.199219 82.949219 109.199219 78.683594 C 109.199219 74.417969 115.601562 74.417969 115.601562 78.683594 \"/>\n",
       "<path style=\"fill:none;stroke-width:1;stroke-linecap:round;stroke-linejoin:round;stroke:rgb(0%,0%,0%);stroke-opacity:1;stroke-miterlimit:10;\" d=\"M 115.601562 67.828125 C 115.601562 72.09375 109.199219 72.09375 109.199219 67.828125 C 109.199219 63.5625 115.601562 63.5625 115.601562 67.828125 \"/>\n",
       "<path style=\"fill:none;stroke-width:1;stroke-linecap:round;stroke-linejoin:round;stroke:rgb(0%,0%,0%);stroke-opacity:1;stroke-miterlimit:10;\" d=\"M 115.601562 69.914062 C 115.601562 74.179688 109.199219 74.179688 109.199219 69.914062 C 109.199219 65.648438 115.601562 65.648438 115.601562 69.914062 \"/>\n",
       "<path style=\"fill:none;stroke-width:1;stroke-linecap:round;stroke-linejoin:round;stroke:rgb(0%,0%,0%);stroke-opacity:1;stroke-miterlimit:10;\" d=\"M 115.601562 79.53125 C 115.601562 83.796875 109.199219 83.796875 109.199219 79.53125 C 109.199219 75.265625 115.601562 75.265625 115.601562 79.53125 \"/>\n",
       "<path style=\"fill:none;stroke-width:1;stroke-linecap:round;stroke-linejoin:round;stroke:rgb(0%,0%,0%);stroke-opacity:1;stroke-miterlimit:10;\" d=\"M 115.601562 66.695312 C 115.601562 70.964844 109.199219 70.964844 109.199219 66.695312 C 109.199219 62.429688 115.601562 62.429688 115.601562 66.695312 \"/>\n",
       "<path style=\"fill:none;stroke-width:1;stroke-linecap:round;stroke-linejoin:round;stroke:rgb(0%,0%,0%);stroke-opacity:1;stroke-miterlimit:10;\" d=\"M 115.601562 77.09375 C 115.601562 81.359375 109.199219 81.359375 109.199219 77.09375 C 109.199219 72.824219 115.601562 72.824219 115.601562 77.09375 \"/>\n",
       "<path style=\"fill:none;stroke-width:1;stroke-linecap:round;stroke-linejoin:round;stroke:rgb(0%,0%,0%);stroke-opacity:1;stroke-miterlimit:10;\" d=\"M 115.601562 65.421875 C 115.601562 69.691406 109.199219 69.691406 109.199219 65.421875 C 109.199219 61.15625 115.601562 61.15625 115.601562 65.421875 \"/>\n",
       "<path style=\"fill:none;stroke-width:1;stroke-linecap:round;stroke-linejoin:round;stroke:rgb(0%,0%,0%);stroke-opacity:1;stroke-miterlimit:10;\" d=\"M 115.601562 76.03125 C 115.601562 80.296875 109.199219 80.296875 109.199219 76.03125 C 109.199219 71.765625 115.601562 71.765625 115.601562 76.03125 \"/>\n",
       "<path style=\"fill:none;stroke-width:1;stroke-linecap:round;stroke-linejoin:round;stroke:rgb(0%,0%,0%);stroke-opacity:1;stroke-miterlimit:10;\" d=\"M 115.601562 79.53125 C 115.601562 83.796875 109.199219 83.796875 109.199219 79.53125 C 109.199219 75.265625 115.601562 75.265625 115.601562 79.53125 \"/>\n",
       "<g clip-path=\"url(#clip12)\" clip-rule=\"nonzero\">\n",
       "<path style=\"fill:none;stroke-width:1;stroke-linecap:round;stroke-linejoin:round;stroke:rgb(0%,0%,0%);stroke-opacity:1;stroke-miterlimit:10;\" d=\"M 115.601562 63.480469 C 115.601562 67.746094 109.199219 67.746094 109.199219 63.480469 C 109.199219 59.210938 115.601562 59.210938 115.601562 63.480469 \"/>\n",
       "</g>\n",
       "<g clip-path=\"url(#clip13)\" clip-rule=\"nonzero\">\n",
       "<path style=\"fill:none;stroke-width:1;stroke-linecap:round;stroke-linejoin:round;stroke:rgb(0%,0%,0%);stroke-opacity:1;stroke-miterlimit:10;\" d=\"M 115.601562 62.136719 C 115.601562 66.402344 109.199219 66.402344 109.199219 62.136719 C 109.199219 57.867188 115.601562 57.867188 115.601562 62.136719 \"/>\n",
       "</g>\n",
       "<path style=\"fill:none;stroke-width:1;stroke-linecap:round;stroke-linejoin:round;stroke:rgb(0%,0%,0%);stroke-opacity:1;stroke-miterlimit:10;\" d=\"M 115.601562 64.964844 C 115.601562 69.230469 109.199219 69.230469 109.199219 64.964844 C 109.199219 60.695312 115.601562 60.695312 115.601562 64.964844 \"/>\n",
       "<path style=\"fill:none;stroke-width:1;stroke-linecap:round;stroke-linejoin:round;stroke:rgb(0%,0%,0%);stroke-opacity:1;stroke-miterlimit:10;\" d=\"M 115.601562 68.675781 C 115.601562 72.945312 109.199219 72.945312 109.199219 68.675781 C 109.199219 64.410156 115.601562 64.410156 115.601562 68.675781 \"/>\n",
       "<path style=\"fill:none;stroke-width:1;stroke-linecap:round;stroke-linejoin:round;stroke:rgb(0%,0%,0%);stroke-opacity:1;stroke-miterlimit:10;\" d=\"M 115.601562 73.34375 C 115.601562 77.609375 109.199219 77.609375 109.199219 73.34375 C 109.199219 69.078125 115.601562 69.078125 115.601562 73.34375 \"/>\n",
       "<path style=\"fill:none;stroke-width:1;stroke-linecap:round;stroke-linejoin:round;stroke:rgb(0%,0%,0%);stroke-opacity:1;stroke-miterlimit:10;\" d=\"M 115.601562 78.402344 C 115.601562 82.667969 109.199219 82.667969 109.199219 78.402344 C 109.199219 74.132812 115.601562 74.132812 115.601562 78.402344 \"/>\n",
       "<path style=\"fill:none;stroke-width:1;stroke-linecap:round;stroke-linejoin:round;stroke:rgb(0%,0%,0%);stroke-opacity:1;stroke-miterlimit:10;\" d=\"M 115.601562 70.480469 C 115.601562 74.746094 109.199219 74.746094 109.199219 70.480469 C 109.199219 66.214844 115.601562 66.214844 115.601562 70.480469 \"/>\n",
       "<path style=\"fill:none;stroke-width:1;stroke-linecap:round;stroke-linejoin:round;stroke:rgb(0%,0%,0%);stroke-opacity:1;stroke-miterlimit:10;\" d=\"M 115.601562 69.066406 C 115.601562 73.332031 109.199219 73.332031 109.199219 69.066406 C 109.199219 64.800781 115.601562 64.800781 115.601562 69.066406 \"/>\n",
       "<path style=\"fill:none;stroke-width:1;stroke-linecap:round;stroke-linejoin:round;stroke:rgb(0%,0%,0%);stroke-opacity:1;stroke-miterlimit:10;\" d=\"M 115.601562 71.398438 C 115.601562 75.664062 109.199219 75.664062 109.199219 71.398438 C 109.199219 67.132812 115.601562 67.132812 115.601562 71.398438 \"/>\n",
       "<path style=\" stroke:none;fill-rule:nonzero;fill:rgb(100%,100%,100%);fill-opacity:1;\" d=\"M 123.441406 132.9375 L 138.160156 132.9375 L 138.160156 111.328125 L 123.441406 111.328125 Z M 123.441406 132.9375 \"/>\n",
       "<path style=\"fill:none;stroke-width:3;stroke-linecap:butt;stroke-linejoin:round;stroke:rgb(0%,0%,0%);stroke-opacity:1;stroke-miterlimit:10;\" d=\"M 123.441406 125.042969 L 138.160156 125.042969 \"/>\n",
       "<path style=\"fill:none;stroke-width:1;stroke-linecap:round;stroke-linejoin:round;stroke:rgb(0%,0%,0%);stroke-opacity:1;stroke-dasharray:4,4;stroke-miterlimit:10;\" d=\"M 130.800781 139.464844 L 130.800781 132.9375 \"/>\n",
       "<path style=\"fill:none;stroke-width:1;stroke-linecap:round;stroke-linejoin:round;stroke:rgb(0%,0%,0%);stroke-opacity:1;stroke-dasharray:4,4;stroke-miterlimit:10;\" d=\"M 130.800781 79.824219 L 130.800781 111.328125 \"/>\n",
       "<path style=\"fill:none;stroke-width:1;stroke-linecap:round;stroke-linejoin:round;stroke:rgb(0%,0%,0%);stroke-opacity:1;stroke-miterlimit:10;\" d=\"M 127.121094 139.464844 L 134.480469 139.464844 \"/>\n",
       "<path style=\"fill:none;stroke-width:1;stroke-linecap:round;stroke-linejoin:round;stroke:rgb(0%,0%,0%);stroke-opacity:1;stroke-miterlimit:10;\" d=\"M 127.121094 79.824219 L 134.480469 79.824219 \"/>\n",
       "<path style=\"fill:none;stroke-width:1;stroke-linecap:round;stroke-linejoin:round;stroke:rgb(0%,0%,0%);stroke-opacity:1;stroke-miterlimit:10;\" d=\"M 123.441406 132.9375 L 138.160156 132.9375 L 138.160156 111.328125 L 123.441406 111.328125 L 123.441406 132.9375 \"/>\n",
       "<path style=\"fill:none;stroke-width:1;stroke-linecap:round;stroke-linejoin:round;stroke:rgb(0%,0%,0%);stroke-opacity:1;stroke-miterlimit:10;\" d=\"M 134 64.546875 C 134 68.8125 127.601562 68.8125 127.601562 64.546875 C 127.601562 60.28125 134 60.28125 134 64.546875 \"/>\n",
       "<path style=\"fill:none;stroke-width:1;stroke-linecap:round;stroke-linejoin:round;stroke:rgb(0%,0%,0%);stroke-opacity:1;stroke-miterlimit:10;\" d=\"M 134 70.207031 C 134 74.476562 127.601562 74.476562 127.601562 70.207031 C 127.601562 65.941406 134 65.941406 134 70.207031 \"/>\n",
       "<path style=\"fill:none;stroke-width:1;stroke-linecap:round;stroke-linejoin:round;stroke:rgb(0%,0%,0%);stroke-opacity:1;stroke-miterlimit:10;\" d=\"M 134 68.695312 C 134 72.964844 127.601562 72.964844 127.601562 68.695312 C 127.601562 64.429688 134 64.429688 134 68.695312 \"/>\n",
       "<path style=\"fill:none;stroke-width:1;stroke-linecap:round;stroke-linejoin:round;stroke:rgb(0%,0%,0%);stroke-opacity:1;stroke-miterlimit:10;\" d=\"M 134 69.867188 C 134 74.132812 127.601562 74.132812 127.601562 69.867188 C 127.601562 65.601562 134 65.601562 134 69.867188 \"/>\n",
       "<path style=\"fill:none;stroke-width:1;stroke-linecap:round;stroke-linejoin:round;stroke:rgb(0%,0%,0%);stroke-opacity:1;stroke-miterlimit:10;\" d=\"M 134 71.574219 C 134 75.84375 127.601562 75.84375 127.601562 71.574219 C 127.601562 67.308594 134 67.308594 134 71.574219 \"/>\n",
       "<path style=\"fill:none;stroke-width:1;stroke-linecap:round;stroke-linejoin:round;stroke:rgb(0%,0%,0%);stroke-opacity:1;stroke-miterlimit:10;\" d=\"M 134 70.015625 C 134 74.28125 127.601562 74.28125 127.601562 70.015625 C 127.601562 65.746094 134 65.746094 134 70.015625 \"/>\n",
       "<path style=\"fill:none;stroke-width:1;stroke-linecap:round;stroke-linejoin:round;stroke:rgb(0%,0%,0%);stroke-opacity:1;stroke-miterlimit:10;\" d=\"M 134 78.359375 C 134 82.628906 127.601562 82.628906 127.601562 78.359375 C 127.601562 74.09375 134 74.09375 134 78.359375 \"/>\n",
       "<path style=\"fill:none;stroke-width:1;stroke-linecap:round;stroke-linejoin:round;stroke:rgb(0%,0%,0%);stroke-opacity:1;stroke-miterlimit:10;\" d=\"M 134 77.628906 C 134 81.894531 127.601562 81.894531 127.601562 77.628906 C 127.601562 73.363281 134 73.363281 134 77.628906 \"/>\n",
       "<path style=\"fill:none;stroke-width:1;stroke-linecap:round;stroke-linejoin:round;stroke:rgb(0%,0%,0%);stroke-opacity:1;stroke-miterlimit:10;\" d=\"M 134 72.941406 C 134 77.210938 127.601562 77.210938 127.601562 72.941406 C 127.601562 68.675781 134 68.675781 134 72.941406 \"/>\n",
       "<path style=\"fill:none;stroke-width:1;stroke-linecap:round;stroke-linejoin:round;stroke:rgb(0%,0%,0%);stroke-opacity:1;stroke-miterlimit:10;\" d=\"M 134 77.628906 C 134 81.894531 127.601562 81.894531 127.601562 77.628906 C 127.601562 73.363281 134 73.363281 134 77.628906 \"/>\n",
       "<path style=\"fill:none;stroke-width:1;stroke-linecap:round;stroke-linejoin:round;stroke:rgb(0%,0%,0%);stroke-opacity:1;stroke-miterlimit:10;\" d=\"M 134 64.109375 C 134 68.375 127.601562 68.375 127.601562 64.109375 C 127.601562 59.84375 134 59.84375 134 64.109375 \"/>\n",
       "<path style=\"fill:none;stroke-width:1;stroke-linecap:round;stroke-linejoin:round;stroke:rgb(0%,0%,0%);stroke-opacity:1;stroke-miterlimit:10;\" d=\"M 134 75.921875 C 134 80.1875 127.601562 80.1875 127.601562 75.921875 C 127.601562 71.652344 134 71.652344 134 75.921875 \"/>\n",
       "<path style=\"fill:none;stroke-width:1;stroke-linecap:round;stroke-linejoin:round;stroke:rgb(0%,0%,0%);stroke-opacity:1;stroke-miterlimit:10;\" d=\"M 134 77.238281 C 134 81.503906 127.601562 81.503906 127.601562 77.238281 C 127.601562 72.96875 134 72.96875 134 77.238281 \"/>\n",
       "<path style=\"fill:none;stroke-width:1;stroke-linecap:round;stroke-linejoin:round;stroke:rgb(0%,0%,0%);stroke-opacity:1;stroke-miterlimit:10;\" d=\"M 134 78.261719 C 134 82.53125 127.601562 82.53125 127.601562 78.261719 C 127.601562 73.996094 134 73.996094 134 78.261719 \"/>\n",
       "<path style=\"fill:none;stroke-width:1;stroke-linecap:round;stroke-linejoin:round;stroke:rgb(0%,0%,0%);stroke-opacity:1;stroke-miterlimit:10;\" d=\"M 134 63.71875 C 134 67.984375 127.601562 67.984375 127.601562 63.71875 C 127.601562 59.449219 134 59.449219 134 63.71875 \"/>\n",
       "<path style=\"fill:none;stroke-width:1;stroke-linecap:round;stroke-linejoin:round;stroke:rgb(0%,0%,0%);stroke-opacity:1;stroke-miterlimit:10;\" d=\"M 134 66.15625 C 134 70.425781 127.601562 70.425781 127.601562 66.15625 C 127.601562 61.890625 134 61.890625 134 66.15625 \"/>\n",
       "<path style=\"fill:none;stroke-width:1;stroke-linecap:round;stroke-linejoin:round;stroke:rgb(0%,0%,0%);stroke-opacity:1;stroke-miterlimit:10;\" d=\"M 134 68.355469 C 134 72.621094 127.601562 72.621094 127.601562 68.355469 C 127.601562 64.085938 134 64.085938 134 68.355469 \"/>\n",
       "<path style=\"fill:none;stroke-width:1;stroke-linecap:round;stroke-linejoin:round;stroke:rgb(0%,0%,0%);stroke-opacity:1;stroke-miterlimit:10;\" d=\"M 134 77.96875 C 134 82.234375 127.601562 82.234375 127.601562 77.96875 C 127.601562 73.703125 134 73.703125 134 77.96875 \"/>\n",
       "<path style=\"fill:none;stroke-width:1;stroke-linecap:round;stroke-linejoin:round;stroke:rgb(0%,0%,0%);stroke-opacity:1;stroke-miterlimit:10;\" d=\"M 134 78.410156 C 134 82.675781 127.601562 82.675781 127.601562 78.410156 C 127.601562 74.140625 134 74.140625 134 78.410156 \"/>\n",
       "<path style=\"fill:none;stroke-width:1;stroke-linecap:round;stroke-linejoin:round;stroke:rgb(0%,0%,0%);stroke-opacity:1;stroke-miterlimit:10;\" d=\"M 134 67.523438 C 134 71.792969 127.601562 71.792969 127.601562 67.523438 C 127.601562 63.257812 134 63.257812 134 67.523438 \"/>\n",
       "<path style=\"fill:none;stroke-width:1;stroke-linecap:round;stroke-linejoin:round;stroke:rgb(0%,0%,0%);stroke-opacity:1;stroke-miterlimit:10;\" d=\"M 134 72.84375 C 134 77.113281 127.601562 77.113281 127.601562 72.84375 C 127.601562 68.578125 134 68.578125 134 72.84375 \"/>\n",
       "<path style=\"fill:none;stroke-width:1;stroke-linecap:round;stroke-linejoin:round;stroke:rgb(0%,0%,0%);stroke-opacity:1;stroke-miterlimit:10;\" d=\"M 134 64.9375 C 134 69.203125 127.601562 69.203125 127.601562 64.9375 C 127.601562 60.671875 134 60.671875 134 64.9375 \"/>\n",
       "<path style=\"fill:none;stroke-width:1;stroke-linecap:round;stroke-linejoin:round;stroke:rgb(0%,0%,0%);stroke-opacity:1;stroke-miterlimit:10;\" d=\"M 134 66.644531 C 134 70.914062 127.601562 70.914062 127.601562 66.644531 C 127.601562 62.378906 134 62.378906 134 66.644531 \"/>\n",
       "<g clip-path=\"url(#clip14)\" clip-rule=\"nonzero\">\n",
       "<path style=\"fill:none;stroke-width:1;stroke-linecap:round;stroke-linejoin:round;stroke:rgb(0%,0%,0%);stroke-opacity:1;stroke-miterlimit:10;\" d=\"M 134 62.691406 C 134 66.960938 127.601562 66.960938 127.601562 62.691406 C 127.601562 58.425781 134 58.425781 134 62.691406 \"/>\n",
       "</g>\n",
       "<path style=\"fill:none;stroke-width:1;stroke-linecap:round;stroke-linejoin:round;stroke:rgb(0%,0%,0%);stroke-opacity:1;stroke-miterlimit:10;\" d=\"M 134 64.9375 C 134 69.203125 127.601562 69.203125 127.601562 64.9375 C 127.601562 60.671875 134 60.671875 134 64.9375 \"/>\n",
       "<g clip-path=\"url(#clip15)\" clip-rule=\"nonzero\">\n",
       "<path style=\"fill:none;stroke-width:1;stroke-linecap:round;stroke-linejoin:round;stroke:rgb(0%,0%,0%);stroke-opacity:1;stroke-miterlimit:10;\" d=\"M 134 62.546875 C 134 66.8125 127.601562 66.8125 127.601562 62.546875 C 127.601562 58.28125 134 58.28125 134 62.546875 \"/>\n",
       "</g>\n",
       "<path style=\"fill:none;stroke-width:1;stroke-linecap:round;stroke-linejoin:round;stroke:rgb(0%,0%,0%);stroke-opacity:1;stroke-miterlimit:10;\" d=\"M 134 65.914062 C 134 70.179688 127.601562 70.179688 127.601562 65.914062 C 127.601562 61.648438 134 61.648438 134 65.914062 \"/>\n",
       "<path style=\"fill:none;stroke-width:1;stroke-linecap:round;stroke-linejoin:round;stroke:rgb(0%,0%,0%);stroke-opacity:1;stroke-miterlimit:10;\" d=\"M 134 68.355469 C 134 72.621094 127.601562 72.621094 127.601562 68.355469 C 127.601562 64.085938 134 64.085938 134 68.355469 \"/>\n",
       "<path style=\"fill:none;stroke-width:1;stroke-linecap:round;stroke-linejoin:round;stroke:rgb(0%,0%,0%);stroke-opacity:1;stroke-miterlimit:10;\" d=\"M 134 69.136719 C 134 73.402344 127.601562 73.402344 127.601562 69.136719 C 127.601562 64.867188 134 64.867188 134 69.136719 \"/>\n",
       "<path style=\"fill:none;stroke-width:1;stroke-linecap:round;stroke-linejoin:round;stroke:rgb(0%,0%,0%);stroke-opacity:1;stroke-miterlimit:10;\" d=\"M 134 72.015625 C 134 76.28125 127.601562 76.28125 127.601562 72.015625 C 127.601562 67.75 134 67.75 134 72.015625 \"/>\n",
       "<path style=\"fill:none;stroke-width:1;stroke-linecap:round;stroke-linejoin:round;stroke:rgb(0%,0%,0%);stroke-opacity:1;stroke-miterlimit:10;\" d=\"M 134 74.359375 C 134 78.625 127.601562 78.625 127.601562 74.359375 C 127.601562 70.089844 134 70.089844 134 74.359375 \"/>\n",
       "<g clip-path=\"url(#clip16)\" clip-rule=\"nonzero\">\n",
       "<path style=\"fill:none;stroke-width:1;stroke-linecap:round;stroke-linejoin:round;stroke:rgb(0%,0%,0%);stroke-opacity:1;stroke-miterlimit:10;\" d=\"M 134 63.230469 C 134 67.496094 127.601562 67.496094 127.601562 63.230469 C 127.601562 58.964844 134 58.964844 134 63.230469 \"/>\n",
       "</g>\n",
       "<path style=\"fill:none;stroke-width:1;stroke-linecap:round;stroke-linejoin:round;stroke:rgb(0%,0%,0%);stroke-opacity:1;stroke-miterlimit:10;\" d=\"M 134 78.3125 C 134 82.578125 127.601562 82.578125 127.601562 78.3125 C 127.601562 74.042969 134 74.042969 134 78.3125 \"/>\n",
       "<g clip-path=\"url(#clip17)\" clip-rule=\"nonzero\">\n",
       "<path style=\"fill:none;stroke-width:1;stroke-linecap:round;stroke-linejoin:round;stroke:rgb(0%,0%,0%);stroke-opacity:1;stroke-miterlimit:10;\" d=\"M 134 62.496094 C 134 66.765625 127.601562 66.765625 127.601562 62.496094 C 127.601562 58.230469 134 58.230469 134 62.496094 \"/>\n",
       "</g>\n",
       "<path style=\"fill:none;stroke-width:1;stroke-linecap:round;stroke-linejoin:round;stroke:rgb(0%,0%,0%);stroke-opacity:1;stroke-miterlimit:10;\" d=\"M 134 73.820312 C 134 78.085938 127.601562 78.085938 127.601562 73.820312 C 127.601562 69.554688 134 69.554688 134 73.820312 \"/>\n",
       "<path style=\"fill:none;stroke-width:1;stroke-linecap:round;stroke-linejoin:round;stroke:rgb(0%,0%,0%);stroke-opacity:1;stroke-miterlimit:10;\" d=\"M 134 73.234375 C 134 77.5 127.601562 77.5 127.601562 73.234375 C 127.601562 68.96875 134 68.96875 134 73.234375 \"/>\n",
       "<path style=\"fill:none;stroke-width:1;stroke-linecap:round;stroke-linejoin:round;stroke:rgb(0%,0%,0%);stroke-opacity:1;stroke-miterlimit:10;\" d=\"M 134 71.378906 C 134 75.648438 127.601562 75.648438 127.601562 71.378906 C 127.601562 67.113281 134 67.113281 134 71.378906 \"/>\n",
       "<g clip-path=\"url(#clip18)\" clip-rule=\"nonzero\">\n",
       "<path style=\"fill:none;stroke-width:1;stroke-linecap:round;stroke-linejoin:round;stroke:rgb(0%,0%,0%);stroke-opacity:1;stroke-miterlimit:10;\" d=\"M 134 63.230469 C 134 67.496094 127.601562 67.496094 127.601562 63.230469 C 127.601562 58.964844 134 58.964844 134 63.230469 \"/>\n",
       "</g>\n",
       "<path style=\"fill:none;stroke-width:1;stroke-linecap:round;stroke-linejoin:round;stroke:rgb(0%,0%,0%);stroke-opacity:1;stroke-miterlimit:10;\" d=\"M 134 64.839844 C 134 69.105469 127.601562 69.105469 127.601562 64.839844 C 127.601562 60.574219 134 60.574219 134 64.839844 \"/>\n",
       "<path style=\"fill:none;stroke-width:1;stroke-linecap:round;stroke-linejoin:round;stroke:rgb(0%,0%,0%);stroke-opacity:1;stroke-miterlimit:10;\" d=\"M 134 78.75 C 134 83.015625 127.601562 83.015625 127.601562 78.75 C 127.601562 74.484375 134 74.484375 134 78.75 \"/>\n",
       "<path style=\"fill:none;stroke-width:1;stroke-linecap:round;stroke-linejoin:round;stroke:rgb(0%,0%,0%);stroke-opacity:1;stroke-miterlimit:10;\" d=\"M 134 70.941406 C 134 75.207031 127.601562 75.207031 127.601562 70.941406 C 127.601562 66.675781 134 66.675781 134 70.941406 \"/>\n",
       "<path style=\"fill:none;stroke-width:1;stroke-linecap:round;stroke-linejoin:round;stroke:rgb(0%,0%,0%);stroke-opacity:1;stroke-miterlimit:10;\" d=\"M 134 68.355469 C 134 72.621094 127.601562 72.621094 127.601562 68.355469 C 127.601562 64.085938 134 64.085938 134 68.355469 \"/>\n",
       "<path style=\"fill:none;stroke-width:1;stroke-linecap:round;stroke-linejoin:round;stroke:rgb(0%,0%,0%);stroke-opacity:1;stroke-miterlimit:10;\" d=\"M 134 64.695312 C 134 68.960938 127.601562 68.960938 127.601562 64.695312 C 127.601562 60.425781 134 60.425781 134 64.695312 \"/>\n",
       "<path style=\"fill:none;stroke-width:1;stroke-linecap:round;stroke-linejoin:round;stroke:rgb(0%,0%,0%);stroke-opacity:1;stroke-miterlimit:10;\" d=\"M 134 76.601562 C 134 80.871094 127.601562 80.871094 127.601562 76.601562 C 127.601562 72.335938 134 72.335938 134 76.601562 \"/>\n",
       "<path style=\"fill:none;stroke-width:1;stroke-linecap:round;stroke-linejoin:round;stroke:rgb(0%,0%,0%);stroke-opacity:1;stroke-miterlimit:10;\" d=\"M 134 78.457031 C 134 82.722656 127.601562 82.722656 127.601562 78.457031 C 127.601562 74.191406 134 74.191406 134 78.457031 \"/>\n",
       "<path style=\"fill:none;stroke-width:1;stroke-linecap:round;stroke-linejoin:round;stroke:rgb(0%,0%,0%);stroke-opacity:1;stroke-miterlimit:10;\" d=\"M 134 63.914062 C 134 68.179688 127.601562 68.179688 127.601562 63.914062 C 127.601562 59.648438 134 59.648438 134 63.914062 \"/>\n",
       "<path style=\"fill:none;stroke-width:1;stroke-linecap:round;stroke-linejoin:round;stroke:rgb(0%,0%,0%);stroke-opacity:1;stroke-miterlimit:10;\" d=\"M 134 64.597656 C 134 68.863281 127.601562 68.863281 127.601562 64.597656 C 127.601562 60.328125 134 60.328125 134 64.597656 \"/>\n",
       "<path style=\"fill:none;stroke-width:1;stroke-linecap:round;stroke-linejoin:round;stroke:rgb(0%,0%,0%);stroke-opacity:1;stroke-miterlimit:10;\" d=\"M 134 78.800781 C 134 83.066406 127.601562 83.066406 127.601562 78.800781 C 127.601562 74.53125 134 74.53125 134 78.800781 \"/>\n",
       "<path style=\"fill:none;stroke-width:1;stroke-linecap:round;stroke-linejoin:round;stroke:rgb(0%,0%,0%);stroke-opacity:1;stroke-miterlimit:10;\" d=\"M 134 69.964844 C 134 74.230469 127.601562 74.230469 127.601562 69.964844 C 127.601562 65.699219 134 65.699219 134 69.964844 \"/>\n",
       "<path style=\"fill:none;stroke-width:1;stroke-linecap:round;stroke-linejoin:round;stroke:rgb(0%,0%,0%);stroke-opacity:1;stroke-miterlimit:10;\" d=\"M 134 71.429688 C 134 75.695312 127.601562 75.695312 127.601562 71.429688 C 127.601562 67.164062 134 67.164062 134 71.429688 \"/>\n",
       "<path style=\"fill:none;stroke-width:1;stroke-linecap:round;stroke-linejoin:round;stroke:rgb(0%,0%,0%);stroke-opacity:1;stroke-miterlimit:10;\" d=\"M 134 67.039062 C 134 71.304688 127.601562 71.304688 127.601562 67.039062 C 127.601562 62.769531 134 62.769531 134 67.039062 \"/>\n",
       "<path style=\"fill:none;stroke-width:1;stroke-linecap:round;stroke-linejoin:round;stroke:rgb(0%,0%,0%);stroke-opacity:1;stroke-miterlimit:10;\" d=\"M 134 76.945312 C 134 81.210938 127.601562 81.210938 127.601562 76.945312 C 127.601562 72.679688 134 72.679688 134 76.945312 \"/>\n",
       "<path style=\"fill:none;stroke-width:1;stroke-linecap:round;stroke-linejoin:round;stroke:rgb(0%,0%,0%);stroke-opacity:1;stroke-miterlimit:10;\" d=\"M 134 69.820312 C 134 74.085938 127.601562 74.085938 127.601562 69.820312 C 127.601562 65.550781 134 65.550781 134 69.820312 \"/>\n",
       "<path style=\" stroke:none;fill-rule:nonzero;fill:rgb(100%,100%,100%);fill-opacity:1;\" d=\"M 141.839844 131.933594 L 156.558594 131.933594 L 156.558594 110.808594 L 141.839844 110.808594 Z M 141.839844 131.933594 \"/>\n",
       "<path style=\"fill:none;stroke-width:3;stroke-linecap:butt;stroke-linejoin:round;stroke:rgb(0%,0%,0%);stroke-opacity:1;stroke-miterlimit:10;\" d=\"M 141.839844 123.742188 L 156.558594 123.742188 \"/>\n",
       "<path style=\"fill:none;stroke-width:1;stroke-linecap:round;stroke-linejoin:round;stroke:rgb(0%,0%,0%);stroke-opacity:1;stroke-dasharray:4,4;stroke-miterlimit:10;\" d=\"M 149.199219 139.464844 L 149.199219 131.933594 \"/>\n",
       "<path style=\"fill:none;stroke-width:1;stroke-linecap:round;stroke-linejoin:round;stroke:rgb(0%,0%,0%);stroke-opacity:1;stroke-dasharray:4,4;stroke-miterlimit:10;\" d=\"M 149.199219 79.21875 L 149.199219 110.808594 \"/>\n",
       "<path style=\"fill:none;stroke-width:1;stroke-linecap:round;stroke-linejoin:round;stroke:rgb(0%,0%,0%);stroke-opacity:1;stroke-miterlimit:10;\" d=\"M 145.519531 139.464844 L 152.878906 139.464844 \"/>\n",
       "<path style=\"fill:none;stroke-width:1;stroke-linecap:round;stroke-linejoin:round;stroke:rgb(0%,0%,0%);stroke-opacity:1;stroke-miterlimit:10;\" d=\"M 145.519531 79.21875 L 152.878906 79.21875 \"/>\n",
       "<path style=\"fill:none;stroke-width:1;stroke-linecap:round;stroke-linejoin:round;stroke:rgb(0%,0%,0%);stroke-opacity:1;stroke-miterlimit:10;\" d=\"M 141.839844 131.933594 L 156.558594 131.933594 L 156.558594 110.808594 L 141.839844 110.808594 L 141.839844 131.933594 \"/>\n",
       "<path style=\"fill:none;stroke-width:1;stroke-linecap:round;stroke-linejoin:round;stroke:rgb(0%,0%,0%);stroke-opacity:1;stroke-miterlimit:10;\" d=\"M 152.398438 76.59375 C 152.398438 80.859375 146 80.859375 146 76.59375 C 146 72.324219 152.398438 72.324219 152.398438 76.59375 \"/>\n",
       "<path style=\"fill:none;stroke-width:1;stroke-linecap:round;stroke-linejoin:round;stroke:rgb(0%,0%,0%);stroke-opacity:1;stroke-miterlimit:10;\" d=\"M 152.398438 74.015625 C 152.398438 78.28125 146 78.28125 146 74.015625 C 146 69.746094 152.398438 69.746094 152.398438 74.015625 \"/>\n",
       "<path style=\"fill:none;stroke-width:1;stroke-linecap:round;stroke-linejoin:round;stroke:rgb(0%,0%,0%);stroke-opacity:1;stroke-miterlimit:10;\" d=\"M 152.398438 76.40625 C 152.398438 80.671875 146 80.671875 146 76.40625 C 146 72.136719 152.398438 72.136719 152.398438 76.40625 \"/>\n",
       "<path style=\"fill:none;stroke-width:1;stroke-linecap:round;stroke-linejoin:round;stroke:rgb(0%,0%,0%);stroke-opacity:1;stroke-miterlimit:10;\" d=\"M 152.398438 74.0625 C 152.398438 78.328125 146 78.328125 146 74.0625 C 146 69.792969 152.398438 69.792969 152.398438 74.0625 \"/>\n",
       "<path style=\"fill:none;stroke-width:1;stroke-linecap:round;stroke-linejoin:round;stroke:rgb(0%,0%,0%);stroke-opacity:1;stroke-miterlimit:10;\" d=\"M 152.398438 65.667969 C 152.398438 69.933594 146 69.933594 146 65.667969 C 146 61.402344 152.398438 61.402344 152.398438 65.667969 \"/>\n",
       "<path style=\"fill:none;stroke-width:1;stroke-linecap:round;stroke-linejoin:round;stroke:rgb(0%,0%,0%);stroke-opacity:1;stroke-miterlimit:10;\" d=\"M 152.398438 75.984375 C 152.398438 80.25 146 80.25 146 75.984375 C 146 71.714844 152.398438 71.714844 152.398438 75.984375 \"/>\n",
       "<path style=\"fill:none;stroke-width:1;stroke-linecap:round;stroke-linejoin:round;stroke:rgb(0%,0%,0%);stroke-opacity:1;stroke-miterlimit:10;\" d=\"M 152.398438 65.011719 C 152.398438 69.277344 146 69.277344 146 65.011719 C 146 60.746094 152.398438 60.746094 152.398438 65.011719 \"/>\n",
       "<path style=\"fill:none;stroke-width:1;stroke-linecap:round;stroke-linejoin:round;stroke:rgb(0%,0%,0%);stroke-opacity:1;stroke-miterlimit:10;\" d=\"M 152.398438 75.375 C 152.398438 79.640625 146 79.640625 146 75.375 C 146 71.105469 152.398438 71.105469 152.398438 75.375 \"/>\n",
       "<path style=\"fill:none;stroke-width:1;stroke-linecap:round;stroke-linejoin:round;stroke:rgb(0%,0%,0%);stroke-opacity:1;stroke-miterlimit:10;\" d=\"M 152.398438 66.417969 C 152.398438 70.683594 146 70.683594 146 66.417969 C 146 62.152344 152.398438 62.152344 152.398438 66.417969 \"/>\n",
       "<path style=\"fill:none;stroke-width:1;stroke-linecap:round;stroke-linejoin:round;stroke:rgb(0%,0%,0%);stroke-opacity:1;stroke-miterlimit:10;\" d=\"M 152.398438 78.703125 C 152.398438 82.96875 146 82.96875 146 78.703125 C 146 74.4375 152.398438 74.4375 152.398438 78.703125 \"/>\n",
       "<path style=\"fill:none;stroke-width:1;stroke-linecap:round;stroke-linejoin:round;stroke:rgb(0%,0%,0%);stroke-opacity:1;stroke-miterlimit:10;\" d=\"M 152.398438 72.609375 C 152.398438 76.875 146 76.875 146 72.609375 C 146 68.339844 152.398438 68.339844 152.398438 72.609375 \"/>\n",
       "<path style=\"fill:none;stroke-width:1;stroke-linecap:round;stroke-linejoin:round;stroke:rgb(0%,0%,0%);stroke-opacity:1;stroke-miterlimit:10;\" d=\"M 152.398438 78.46875 C 152.398438 82.734375 146 82.734375 146 78.46875 C 146 74.203125 152.398438 74.203125 152.398438 78.46875 \"/>\n",
       "<path style=\"fill:none;stroke-width:1;stroke-linecap:round;stroke-linejoin:round;stroke:rgb(0%,0%,0%);stroke-opacity:1;stroke-miterlimit:10;\" d=\"M 152.398438 67.871094 C 152.398438 72.136719 146 72.136719 146 67.871094 C 146 63.605469 152.398438 63.605469 152.398438 67.871094 \"/>\n",
       "<path style=\"fill:none;stroke-width:1;stroke-linecap:round;stroke-linejoin:round;stroke:rgb(0%,0%,0%);stroke-opacity:1;stroke-miterlimit:10;\" d=\"M 152.398438 71.574219 C 152.398438 75.84375 146 75.84375 146 71.574219 C 146 67.308594 152.398438 67.308594 152.398438 71.574219 \"/>\n",
       "<path style=\"fill:none;stroke-width:1;stroke-linecap:round;stroke-linejoin:round;stroke:rgb(0%,0%,0%);stroke-opacity:1;stroke-miterlimit:10;\" d=\"M 152.398438 65.292969 C 152.398438 69.558594 146 69.558594 146 65.292969 C 146 61.027344 152.398438 61.027344 152.398438 65.292969 \"/>\n",
       "<path style=\"fill:none;stroke-width:1;stroke-linecap:round;stroke-linejoin:round;stroke:rgb(0%,0%,0%);stroke-opacity:1;stroke-miterlimit:10;\" d=\"M 152.398438 65.761719 C 152.398438 70.027344 146 70.027344 146 65.761719 C 146 61.496094 152.398438 61.496094 152.398438 65.761719 \"/>\n",
       "<path style=\"fill:none;stroke-width:1;stroke-linecap:round;stroke-linejoin:round;stroke:rgb(0%,0%,0%);stroke-opacity:1;stroke-miterlimit:10;\" d=\"M 152.398438 69.746094 C 152.398438 74.011719 146 74.011719 146 69.746094 C 146 65.480469 152.398438 65.480469 152.398438 69.746094 \"/>\n",
       "<g clip-path=\"url(#clip19)\" clip-rule=\"nonzero\">\n",
       "<path style=\"fill:none;stroke-width:1;stroke-linecap:round;stroke-linejoin:round;stroke:rgb(0%,0%,0%);stroke-opacity:1;stroke-miterlimit:10;\" d=\"M 152.398438 63.652344 C 152.398438 67.917969 146 67.917969 146 63.652344 C 146 59.386719 152.398438 59.386719 152.398438 63.652344 \"/>\n",
       "</g>\n",
       "<path style=\"fill:none;stroke-width:1;stroke-linecap:round;stroke-linejoin:round;stroke:rgb(0%,0%,0%);stroke-opacity:1;stroke-miterlimit:10;\" d=\"M 152.398438 66.417969 C 152.398438 70.683594 146 70.683594 146 66.417969 C 146 62.152344 152.398438 62.152344 152.398438 66.417969 \"/>\n",
       "<path style=\"fill:none;stroke-width:1;stroke-linecap:round;stroke-linejoin:round;stroke:rgb(0%,0%,0%);stroke-opacity:1;stroke-miterlimit:10;\" d=\"M 152.398438 66.183594 C 152.398438 70.449219 146 70.449219 146 66.183594 C 146 61.917969 152.398438 61.917969 152.398438 66.183594 \"/>\n",
       "<path style=\"fill:none;stroke-width:1;stroke-linecap:round;stroke-linejoin:round;stroke:rgb(0%,0%,0%);stroke-opacity:1;stroke-miterlimit:10;\" d=\"M 152.398438 71.949219 C 152.398438 76.21875 146 76.21875 146 71.949219 C 146 67.683594 152.398438 67.683594 152.398438 71.949219 \"/>\n",
       "<path style=\"fill:none;stroke-width:1;stroke-linecap:round;stroke-linejoin:round;stroke:rgb(0%,0%,0%);stroke-opacity:1;stroke-miterlimit:10;\" d=\"M 152.398438 75.328125 C 152.398438 79.59375 146 79.59375 146 75.328125 C 146 71.058594 152.398438 71.058594 152.398438 75.328125 \"/>\n",
       "<path style=\"fill:none;stroke-width:1;stroke-linecap:round;stroke-linejoin:round;stroke:rgb(0%,0%,0%);stroke-opacity:1;stroke-miterlimit:10;\" d=\"M 152.398438 68.152344 C 152.398438 72.421875 146 72.421875 146 68.152344 C 146 63.886719 152.398438 63.886719 152.398438 68.152344 \"/>\n",
       "<path style=\"fill:none;stroke-width:1;stroke-linecap:round;stroke-linejoin:round;stroke:rgb(0%,0%,0%);stroke-opacity:1;stroke-miterlimit:10;\" d=\"M 152.398438 70.683594 C 152.398438 74.953125 146 74.953125 146 70.683594 C 146 66.417969 152.398438 66.417969 152.398438 70.683594 \"/>\n",
       "<path style=\"fill:none;stroke-width:1;stroke-linecap:round;stroke-linejoin:round;stroke:rgb(0%,0%,0%);stroke-opacity:1;stroke-miterlimit:10;\" d=\"M 152.398438 77.765625 C 152.398438 82.03125 146 82.03125 146 77.765625 C 146 73.496094 152.398438 73.496094 152.398438 77.765625 \"/>\n",
       "<g clip-path=\"url(#clip20)\" clip-rule=\"nonzero\">\n",
       "<path style=\"fill:none;stroke-width:1;stroke-linecap:round;stroke-linejoin:round;stroke:rgb(0%,0%,0%);stroke-opacity:1;stroke-miterlimit:10;\" d=\"M 152.398438 62.152344 C 152.398438 66.417969 146 66.417969 146 62.152344 C 146 57.886719 152.398438 57.886719 152.398438 62.152344 \"/>\n",
       "</g>\n",
       "<path style=\"fill:none;stroke-width:1;stroke-linecap:round;stroke-linejoin:round;stroke:rgb(0%,0%,0%);stroke-opacity:1;stroke-miterlimit:10;\" d=\"M 152.398438 70.355469 C 152.398438 74.625 146 74.625 146 70.355469 C 146 66.089844 152.398438 66.089844 152.398438 70.355469 \"/>\n",
       "<path style=\"fill:none;stroke-width:1;stroke-linecap:round;stroke-linejoin:round;stroke:rgb(0%,0%,0%);stroke-opacity:1;stroke-miterlimit:10;\" d=\"M 152.398438 74.8125 C 152.398438 79.078125 146 79.078125 146 74.8125 C 146 70.542969 152.398438 70.542969 152.398438 74.8125 \"/>\n",
       "<path style=\"fill:none;stroke-width:1;stroke-linecap:round;stroke-linejoin:round;stroke:rgb(0%,0%,0%);stroke-opacity:1;stroke-miterlimit:10;\" d=\"M 152.398438 76.6875 C 152.398438 80.953125 146 80.953125 146 76.6875 C 146 72.417969 152.398438 72.417969 152.398438 76.6875 \"/>\n",
       "<path style=\"fill:none;stroke-width:1;stroke-linecap:round;stroke-linejoin:round;stroke:rgb(0%,0%,0%);stroke-opacity:1;stroke-miterlimit:10;\" d=\"M 152.398438 64.917969 C 152.398438 69.183594 146 69.183594 146 64.917969 C 146 60.652344 152.398438 60.652344 152.398438 64.917969 \"/>\n",
       "<path style=\"fill:none;stroke-width:1;stroke-linecap:round;stroke-linejoin:round;stroke:rgb(0%,0%,0%);stroke-opacity:1;stroke-miterlimit:10;\" d=\"M 152.398438 77.4375 C 152.398438 81.703125 146 81.703125 146 77.4375 C 146 73.167969 152.398438 73.167969 152.398438 77.4375 \"/>\n",
       "<path style=\"fill:none;stroke-width:1;stroke-linecap:round;stroke-linejoin:round;stroke:rgb(0%,0%,0%);stroke-opacity:1;stroke-miterlimit:10;\" d=\"M 152.398438 74.671875 C 152.398438 78.9375 146 78.9375 146 74.671875 C 146 70.402344 152.398438 70.402344 152.398438 74.671875 \"/>\n",
       "<path style=\"fill:none;stroke-width:1;stroke-linecap:round;stroke-linejoin:round;stroke:rgb(0%,0%,0%);stroke-opacity:1;stroke-miterlimit:10;\" d=\"M 152.398438 78.46875 C 152.398438 82.734375 146 82.734375 146 78.46875 C 146 74.203125 152.398438 74.203125 152.398438 78.46875 \"/>\n",
       "<path style=\"fill:none;stroke-width:1;stroke-linecap:round;stroke-linejoin:round;stroke:rgb(0%,0%,0%);stroke-opacity:1;stroke-miterlimit:10;\" d=\"M 152.398438 64.777344 C 152.398438 69.042969 146 69.042969 146 64.777344 C 146 60.511719 152.398438 60.511719 152.398438 64.777344 \"/>\n",
       "<path style=\"fill:none;stroke-width:1;stroke-linecap:round;stroke-linejoin:round;stroke:rgb(0%,0%,0%);stroke-opacity:1;stroke-miterlimit:10;\" d=\"M 152.398438 65.058594 C 152.398438 69.324219 146 69.324219 146 65.058594 C 146 60.792969 152.398438 60.792969 152.398438 65.058594 \"/>\n",
       "<path style=\"fill:none;stroke-width:1;stroke-linecap:round;stroke-linejoin:round;stroke:rgb(0%,0%,0%);stroke-opacity:1;stroke-miterlimit:10;\" d=\"M 152.398438 63.792969 C 152.398438 68.058594 146 68.058594 146 63.792969 C 146 59.527344 152.398438 59.527344 152.398438 63.792969 \"/>\n",
       "<path style=\"fill:none;stroke-width:1;stroke-linecap:round;stroke-linejoin:round;stroke:rgb(0%,0%,0%);stroke-opacity:1;stroke-miterlimit:10;\" d=\"M 152.398438 76.875 C 152.398438 81.140625 146 81.140625 146 76.875 C 146 72.605469 152.398438 72.605469 152.398438 76.875 \"/>\n",
       "<path style=\"fill:none;stroke-width:1;stroke-linecap:round;stroke-linejoin:round;stroke:rgb(0%,0%,0%);stroke-opacity:1;stroke-miterlimit:10;\" d=\"M 152.398438 64.589844 C 152.398438 68.855469 146 68.855469 146 64.589844 C 146 60.324219 152.398438 60.324219 152.398438 64.589844 \"/>\n",
       "<path style=\"fill:none;stroke-width:1;stroke-linecap:round;stroke-linejoin:round;stroke:rgb(0%,0%,0%);stroke-opacity:1;stroke-miterlimit:10;\" d=\"M 152.398438 64.589844 C 152.398438 68.855469 146 68.855469 146 64.589844 C 146 60.324219 152.398438 60.324219 152.398438 64.589844 \"/>\n",
       "<path style=\"fill:none;stroke-width:1;stroke-linecap:round;stroke-linejoin:round;stroke:rgb(0%,0%,0%);stroke-opacity:1;stroke-miterlimit:10;\" d=\"M 152.398438 78.65625 C 152.398438 82.921875 146 82.921875 146 78.65625 C 146 74.386719 152.398438 74.386719 152.398438 78.65625 \"/>\n",
       "<path style=\"fill:none;stroke-width:1;stroke-linecap:round;stroke-linejoin:round;stroke:rgb(0%,0%,0%);stroke-opacity:1;stroke-miterlimit:10;\" d=\"M 152.398438 72.1875 C 152.398438 76.453125 146 76.453125 146 72.1875 C 146 67.917969 152.398438 67.917969 152.398438 72.1875 \"/>\n",
       "<g clip-path=\"url(#clip21)\" clip-rule=\"nonzero\">\n",
       "<path style=\"fill:none;stroke-width:1;stroke-linecap:round;stroke-linejoin:round;stroke:rgb(0%,0%,0%);stroke-opacity:1;stroke-miterlimit:10;\" d=\"M 152.398438 62.808594 C 152.398438 67.074219 146 67.074219 146 62.808594 C 146 58.542969 152.398438 58.542969 152.398438 62.808594 \"/>\n",
       "</g>\n",
       "<path style=\"fill:none;stroke-width:1;stroke-linecap:round;stroke-linejoin:round;stroke:rgb(0%,0%,0%);stroke-opacity:1;stroke-miterlimit:10;\" d=\"M 152.398438 72.792969 C 152.398438 77.0625 146 77.0625 146 72.792969 C 146 68.527344 152.398438 68.527344 152.398438 72.792969 \"/>\n",
       "<path style=\"fill:none;stroke-width:1;stroke-linecap:round;stroke-linejoin:round;stroke:rgb(0%,0%,0%);stroke-opacity:1;stroke-miterlimit:10;\" d=\"M 152.398438 69.417969 C 152.398438 73.683594 146 73.683594 146 69.417969 C 146 65.152344 152.398438 65.152344 152.398438 69.417969 \"/>\n",
       "<path style=\"fill:none;stroke-width:1;stroke-linecap:round;stroke-linejoin:round;stroke:rgb(0%,0%,0%);stroke-opacity:1;stroke-miterlimit:10;\" d=\"M 152.398438 68.574219 C 152.398438 72.839844 146 72.839844 146 68.574219 C 146 64.308594 152.398438 64.308594 152.398438 68.574219 \"/>\n",
       "<path style=\"fill:none;stroke-width:1;stroke-linecap:round;stroke-linejoin:round;stroke:rgb(0%,0%,0%);stroke-opacity:1;stroke-miterlimit:10;\" d=\"M 152.398438 72.558594 C 152.398438 76.828125 146 76.828125 146 72.558594 C 146 68.292969 152.398438 68.292969 152.398438 72.558594 \"/>\n",
       "<path style=\"fill:none;stroke-width:1;stroke-linecap:round;stroke-linejoin:round;stroke:rgb(0%,0%,0%);stroke-opacity:1;stroke-miterlimit:10;\" d=\"M 152.398438 64.730469 C 152.398438 68.996094 146 68.996094 146 64.730469 C 146 60.464844 152.398438 60.464844 152.398438 64.730469 \"/>\n",
       "<path style=\"fill:none;stroke-width:1;stroke-linecap:round;stroke-linejoin:round;stroke:rgb(0%,0%,0%);stroke-opacity:1;stroke-miterlimit:10;\" d=\"M 152.398438 75.421875 C 152.398438 79.6875 146 79.6875 146 75.421875 C 146 71.152344 152.398438 71.152344 152.398438 75.421875 \"/>\n",
       "<path style=\"fill:none;stroke-width:1;stroke-linecap:round;stroke-linejoin:round;stroke:rgb(0%,0%,0%);stroke-opacity:1;stroke-miterlimit:10;\" d=\"M 152.398438 69.371094 C 152.398438 73.640625 146 73.640625 146 69.371094 C 146 65.105469 152.398438 65.105469 152.398438 69.371094 \"/>\n",
       "<path style=\" stroke:none;fill-rule:nonzero;fill:rgb(100%,100%,100%);fill-opacity:1;\" d=\"M 160.238281 130.597656 L 174.960938 130.597656 L 174.960938 109.199219 L 160.238281 109.199219 Z M 160.238281 130.597656 \"/>\n",
       "<path style=\"fill:none;stroke-width:3;stroke-linecap:butt;stroke-linejoin:round;stroke:rgb(0%,0%,0%);stroke-opacity:1;stroke-miterlimit:10;\" d=\"M 160.238281 123.023438 L 174.960938 123.023438 \"/>\n",
       "<path style=\"fill:none;stroke-width:1;stroke-linecap:round;stroke-linejoin:round;stroke:rgb(0%,0%,0%);stroke-opacity:1;stroke-dasharray:4,4;stroke-miterlimit:10;\" d=\"M 167.601562 139.464844 L 167.601562 130.597656 \"/>\n",
       "<path style=\"fill:none;stroke-width:1;stroke-linecap:round;stroke-linejoin:round;stroke:rgb(0%,0%,0%);stroke-opacity:1;stroke-dasharray:4,4;stroke-miterlimit:10;\" d=\"M 167.601562 77.191406 L 167.601562 109.199219 \"/>\n",
       "<path style=\"fill:none;stroke-width:1;stroke-linecap:round;stroke-linejoin:round;stroke:rgb(0%,0%,0%);stroke-opacity:1;stroke-miterlimit:10;\" d=\"M 163.921875 139.464844 L 171.28125 139.464844 \"/>\n",
       "<path style=\"fill:none;stroke-width:1;stroke-linecap:round;stroke-linejoin:round;stroke:rgb(0%,0%,0%);stroke-opacity:1;stroke-miterlimit:10;\" d=\"M 163.921875 77.191406 L 171.28125 77.191406 \"/>\n",
       "<path style=\"fill:none;stroke-width:1;stroke-linecap:round;stroke-linejoin:round;stroke:rgb(0%,0%,0%);stroke-opacity:1;stroke-miterlimit:10;\" d=\"M 160.238281 130.597656 L 174.960938 130.597656 L 174.960938 109.199219 L 160.238281 109.199219 L 160.238281 130.597656 \"/>\n",
       "<path style=\"fill:none;stroke-width:1;stroke-linecap:round;stroke-linejoin:round;stroke:rgb(0%,0%,0%);stroke-opacity:1;stroke-miterlimit:10;\" d=\"M 170.800781 66.273438 C 170.800781 70.539062 164.398438 70.539062 164.398438 66.273438 C 164.398438 62.007812 170.800781 62.007812 170.800781 66.273438 \"/>\n",
       "<g clip-path=\"url(#clip22)\" clip-rule=\"nonzero\">\n",
       "<path style=\"fill:none;stroke-width:1;stroke-linecap:round;stroke-linejoin:round;stroke:rgb(0%,0%,0%);stroke-opacity:1;stroke-miterlimit:10;\" d=\"M 170.800781 62.960938 C 170.800781 67.226562 164.398438 67.226562 164.398438 62.960938 C 164.398438 58.695312 170.800781 58.695312 170.800781 62.960938 \"/>\n",
       "</g>\n",
       "<path style=\"fill:none;stroke-width:1;stroke-linecap:round;stroke-linejoin:round;stroke:rgb(0%,0%,0%);stroke-opacity:1;stroke-miterlimit:10;\" d=\"M 170.800781 75.578125 C 170.800781 79.84375 164.398438 79.84375 164.398438 75.578125 C 164.398438 71.308594 170.800781 71.308594 170.800781 75.578125 \"/>\n",
       "<path style=\"fill:none;stroke-width:1;stroke-linecap:round;stroke-linejoin:round;stroke:rgb(0%,0%,0%);stroke-opacity:1;stroke-miterlimit:10;\" d=\"M 170.800781 69.417969 C 170.800781 73.683594 164.398438 73.683594 164.398438 69.417969 C 164.398438 65.152344 170.800781 65.152344 170.800781 69.417969 \"/>\n",
       "<path style=\"fill:none;stroke-width:1;stroke-linecap:round;stroke-linejoin:round;stroke:rgb(0%,0%,0%);stroke-opacity:1;stroke-miterlimit:10;\" d=\"M 170.800781 65.679688 C 170.800781 69.945312 164.398438 69.945312 164.398438 65.679688 C 164.398438 61.414062 170.800781 61.414062 170.800781 65.679688 \"/>\n",
       "<path style=\"fill:none;stroke-width:1;stroke-linecap:round;stroke-linejoin:round;stroke:rgb(0%,0%,0%);stroke-opacity:1;stroke-miterlimit:10;\" d=\"M 170.800781 64.914062 C 170.800781 69.179688 164.398438 69.179688 164.398438 64.914062 C 164.398438 60.648438 170.800781 60.648438 170.800781 64.914062 \"/>\n",
       "<path style=\"fill:none;stroke-width:1;stroke-linecap:round;stroke-linejoin:round;stroke:rgb(0%,0%,0%);stroke-opacity:1;stroke-miterlimit:10;\" d=\"M 170.800781 68.566406 C 170.800781 72.835938 164.398438 72.835938 164.398438 68.566406 C 164.398438 64.300781 170.800781 64.300781 170.800781 68.566406 \"/>\n",
       "<path style=\"fill:none;stroke-width:1;stroke-linecap:round;stroke-linejoin:round;stroke:rgb(0%,0%,0%);stroke-opacity:1;stroke-miterlimit:10;\" d=\"M 170.800781 71.5 C 170.800781 75.765625 164.398438 75.765625 164.398438 71.5 C 164.398438 67.234375 170.800781 67.234375 170.800781 71.5 \"/>\n",
       "<path style=\"fill:none;stroke-width:1;stroke-linecap:round;stroke-linejoin:round;stroke:rgb(0%,0%,0%);stroke-opacity:1;stroke-miterlimit:10;\" d=\"M 170.800781 75.660156 C 170.800781 79.929688 164.398438 79.929688 164.398438 75.660156 C 164.398438 71.394531 170.800781 71.394531 170.800781 75.660156 \"/>\n",
       "<path style=\"fill:none;stroke-width:1;stroke-linecap:round;stroke-linejoin:round;stroke:rgb(0%,0%,0%);stroke-opacity:1;stroke-miterlimit:10;\" d=\"M 170.800781 72.519531 C 170.800781 76.785156 164.398438 76.785156 164.398438 72.519531 C 164.398438 68.25 170.800781 68.25 170.800781 72.519531 \"/>\n",
       "<path style=\"fill:none;stroke-width:1;stroke-linecap:round;stroke-linejoin:round;stroke:rgb(0%,0%,0%);stroke-opacity:1;stroke-miterlimit:10;\" d=\"M 170.800781 74.8125 C 170.800781 79.078125 164.398438 79.078125 164.398438 74.8125 C 164.398438 70.546875 170.800781 70.546875 170.800781 74.8125 \"/>\n",
       "<path style=\"fill:none;stroke-width:1;stroke-linecap:round;stroke-linejoin:round;stroke:rgb(0%,0%,0%);stroke-opacity:1;stroke-miterlimit:10;\" d=\"M 170.800781 74.429688 C 170.800781 78.695312 164.398438 78.695312 164.398438 74.429688 C 164.398438 70.164062 170.800781 70.164062 170.800781 74.429688 \"/>\n",
       "<path style=\"fill:none;stroke-width:1;stroke-linecap:round;stroke-linejoin:round;stroke:rgb(0%,0%,0%);stroke-opacity:1;stroke-miterlimit:10;\" d=\"M 170.800781 69.542969 C 170.800781 73.8125 164.398438 73.8125 164.398438 69.542969 C 164.398438 65.277344 170.800781 65.277344 170.800781 69.542969 \"/>\n",
       "<path style=\"fill:none;stroke-width:1;stroke-linecap:round;stroke-linejoin:round;stroke:rgb(0%,0%,0%);stroke-opacity:1;stroke-miterlimit:10;\" d=\"M 170.800781 67.378906 C 170.800781 71.644531 164.398438 71.644531 164.398438 67.378906 C 164.398438 63.113281 170.800781 63.113281 170.800781 67.378906 \"/>\n",
       "<path style=\"fill:none;stroke-width:1;stroke-linecap:round;stroke-linejoin:round;stroke:rgb(0%,0%,0%);stroke-opacity:1;stroke-miterlimit:10;\" d=\"M 170.800781 65.636719 C 170.800781 69.902344 164.398438 69.902344 164.398438 65.636719 C 164.398438 61.371094 170.800781 61.371094 170.800781 65.636719 \"/>\n",
       "<path style=\"fill:none;stroke-width:1;stroke-linecap:round;stroke-linejoin:round;stroke:rgb(0%,0%,0%);stroke-opacity:1;stroke-miterlimit:10;\" d=\"M 170.800781 71.710938 C 170.800781 75.976562 164.398438 75.976562 164.398438 71.710938 C 164.398438 67.445312 170.800781 67.445312 170.800781 71.710938 \"/>\n",
       "<g clip-path=\"url(#clip23)\" clip-rule=\"nonzero\">\n",
       "<path style=\"fill:none;stroke-width:1;stroke-linecap:round;stroke-linejoin:round;stroke:rgb(0%,0%,0%);stroke-opacity:1;stroke-miterlimit:10;\" d=\"M 170.800781 63.003906 C 170.800781 67.269531 164.398438 67.269531 164.398438 63.003906 C 164.398438 58.734375 170.800781 58.734375 170.800781 63.003906 \"/>\n",
       "</g>\n",
       "<path style=\"fill:none;stroke-width:1;stroke-linecap:round;stroke-linejoin:round;stroke:rgb(0%,0%,0%);stroke-opacity:1;stroke-miterlimit:10;\" d=\"M 170.800781 76.808594 C 170.800781 81.074219 164.398438 81.074219 164.398438 76.808594 C 164.398438 72.542969 170.800781 72.542969 170.800781 76.808594 \"/>\n",
       "<path style=\"fill:none;stroke-width:1;stroke-linecap:round;stroke-linejoin:round;stroke:rgb(0%,0%,0%);stroke-opacity:1;stroke-miterlimit:10;\" d=\"M 170.800781 69.246094 C 170.800781 73.515625 164.398438 73.515625 164.398438 69.246094 C 164.398438 64.980469 170.800781 64.980469 170.800781 69.246094 \"/>\n",
       "<path style=\"fill:none;stroke-width:1;stroke-linecap:round;stroke-linejoin:round;stroke:rgb(0%,0%,0%);stroke-opacity:1;stroke-miterlimit:10;\" d=\"M 170.800781 64.660156 C 170.800781 68.925781 164.398438 68.925781 164.398438 64.660156 C 164.398438 60.394531 170.800781 60.394531 170.800781 64.660156 \"/>\n",
       "<path style=\"fill:none;stroke-width:1;stroke-linecap:round;stroke-linejoin:round;stroke:rgb(0%,0%,0%);stroke-opacity:1;stroke-miterlimit:10;\" d=\"M 170.800781 75.660156 C 170.800781 79.929688 164.398438 79.929688 164.398438 75.660156 C 164.398438 71.394531 170.800781 71.394531 170.800781 75.660156 \"/>\n",
       "<path style=\"fill:none;stroke-width:1;stroke-linecap:round;stroke-linejoin:round;stroke:rgb(0%,0%,0%);stroke-opacity:1;stroke-miterlimit:10;\" d=\"M 170.800781 69.671875 C 170.800781 73.9375 164.398438 73.9375 164.398438 69.671875 C 164.398438 65.40625 170.800781 65.40625 170.800781 69.671875 \"/>\n",
       "<path style=\"fill:none;stroke-width:1;stroke-linecap:round;stroke-linejoin:round;stroke:rgb(0%,0%,0%);stroke-opacity:1;stroke-miterlimit:10;\" d=\"M 170.800781 76.554688 C 170.800781 80.820312 164.398438 80.820312 164.398438 76.554688 C 164.398438 72.289062 170.800781 72.289062 170.800781 76.554688 \"/>\n",
       "<path style=\"fill:none;stroke-width:1;stroke-linecap:round;stroke-linejoin:round;stroke:rgb(0%,0%,0%);stroke-opacity:1;stroke-miterlimit:10;\" d=\"M 170.800781 73.707031 C 170.800781 77.976562 164.398438 77.976562 164.398438 73.707031 C 164.398438 69.441406 170.800781 69.441406 170.800781 73.707031 \"/>\n",
       "<path style=\"fill:none;stroke-width:1;stroke-linecap:round;stroke-linejoin:round;stroke:rgb(0%,0%,0%);stroke-opacity:1;stroke-miterlimit:10;\" d=\"M 170.800781 74.003906 C 170.800781 78.273438 164.398438 78.273438 164.398438 74.003906 C 164.398438 69.738281 170.800781 69.738281 170.800781 74.003906 \"/>\n",
       "<path style=\"fill:none;stroke-width:1;stroke-linecap:round;stroke-linejoin:round;stroke:rgb(0%,0%,0%);stroke-opacity:1;stroke-miterlimit:10;\" d=\"M 170.800781 68.609375 C 170.800781 72.875 164.398438 72.875 164.398438 68.609375 C 164.398438 64.34375 170.800781 64.34375 170.800781 68.609375 \"/>\n",
       "<path style=\"fill:none;stroke-width:1;stroke-linecap:round;stroke-linejoin:round;stroke:rgb(0%,0%,0%);stroke-opacity:1;stroke-miterlimit:10;\" d=\"M 170.800781 74.640625 C 170.800781 78.910156 164.398438 78.910156 164.398438 74.640625 C 164.398438 70.375 170.800781 70.375 170.800781 74.640625 \"/>\n",
       "<path style=\"fill:none;stroke-width:1;stroke-linecap:round;stroke-linejoin:round;stroke:rgb(0%,0%,0%);stroke-opacity:1;stroke-miterlimit:10;\" d=\"M 170.800781 72.476562 C 170.800781 76.742188 164.398438 76.742188 164.398438 72.476562 C 164.398438 68.210938 170.800781 68.210938 170.800781 72.476562 \"/>\n",
       "<path style=\"fill:none;stroke-width:1;stroke-linecap:round;stroke-linejoin:round;stroke:rgb(0%,0%,0%);stroke-opacity:1;stroke-miterlimit:10;\" d=\"M 170.800781 63.851562 C 170.800781 68.117188 164.398438 68.117188 164.398438 63.851562 C 164.398438 59.585938 170.800781 59.585938 170.800781 63.851562 \"/>\n",
       "<path style=\"fill:none;stroke-width:1;stroke-linecap:round;stroke-linejoin:round;stroke:rgb(0%,0%,0%);stroke-opacity:1;stroke-miterlimit:10;\" d=\"M 170.800781 73.28125 C 170.800781 77.550781 164.398438 77.550781 164.398438 73.28125 C 164.398438 69.015625 170.800781 69.015625 170.800781 73.28125 \"/>\n",
       "<path style=\"fill:none;stroke-width:1;stroke-linecap:round;stroke-linejoin:round;stroke:rgb(0%,0%,0%);stroke-opacity:1;stroke-miterlimit:10;\" d=\"M 170.800781 70.4375 C 170.800781 74.703125 164.398438 74.703125 164.398438 70.4375 C 164.398438 66.167969 170.800781 66.167969 170.800781 70.4375 \"/>\n",
       "<path style=\"fill:none;stroke-width:1;stroke-linecap:round;stroke-linejoin:round;stroke:rgb(0%,0%,0%);stroke-opacity:1;stroke-miterlimit:10;\" d=\"M 170.800781 70.4375 C 170.800781 74.703125 164.398438 74.703125 164.398438 70.4375 C 164.398438 66.167969 170.800781 66.167969 170.800781 70.4375 \"/>\n",
       "<path style=\"fill:none;stroke-width:1;stroke-linecap:round;stroke-linejoin:round;stroke:rgb(0%,0%,0%);stroke-opacity:1;stroke-miterlimit:10;\" d=\"M 170.800781 74.34375 C 170.800781 78.613281 164.398438 78.613281 164.398438 74.34375 C 164.398438 70.078125 170.800781 70.078125 170.800781 74.34375 \"/>\n",
       "<path style=\"fill:none;stroke-width:1;stroke-linecap:round;stroke-linejoin:round;stroke:rgb(0%,0%,0%);stroke-opacity:1;stroke-miterlimit:10;\" d=\"M 170.800781 72.390625 C 170.800781 76.65625 164.398438 76.65625 164.398438 72.390625 C 164.398438 68.125 170.800781 68.125 170.800781 72.390625 \"/>\n",
       "<path style=\"fill:none;stroke-width:1;stroke-linecap:round;stroke-linejoin:round;stroke:rgb(0%,0%,0%);stroke-opacity:1;stroke-miterlimit:10;\" d=\"M 170.800781 66.910156 C 170.800781 71.175781 164.398438 71.175781 164.398438 66.910156 C 164.398438 62.644531 170.800781 62.644531 170.800781 66.910156 \"/>\n",
       "<path style=\"fill:none;stroke-width:1;stroke-linecap:round;stroke-linejoin:round;stroke:rgb(0%,0%,0%);stroke-opacity:1;stroke-miterlimit:10;\" d=\"M 170.800781 72.644531 C 170.800781 76.910156 164.398438 76.910156 164.398438 72.644531 C 164.398438 68.378906 170.800781 68.378906 170.800781 72.644531 \"/>\n",
       "<path style=\"fill:none;stroke-width:1;stroke-linecap:round;stroke-linejoin:round;stroke:rgb(0%,0%,0%);stroke-opacity:1;stroke-miterlimit:10;\" d=\"M 170.800781 73.835938 C 170.800781 78.101562 164.398438 78.101562 164.398438 73.835938 C 164.398438 69.566406 170.800781 69.566406 170.800781 73.835938 \"/>\n",
       "<path style=\" stroke:none;fill-rule:nonzero;fill:rgb(100%,100%,100%);fill-opacity:1;\" d=\"M 178.640625 130.671875 L 193.359375 130.671875 L 193.359375 110.648438 L 178.640625 110.648438 Z M 178.640625 130.671875 \"/>\n",
       "<path style=\"fill:none;stroke-width:3;stroke-linecap:butt;stroke-linejoin:round;stroke:rgb(0%,0%,0%);stroke-opacity:1;stroke-miterlimit:10;\" d=\"M 178.640625 123.09375 L 193.359375 123.09375 \"/>\n",
       "<path style=\"fill:none;stroke-width:1;stroke-linecap:round;stroke-linejoin:round;stroke:rgb(0%,0%,0%);stroke-opacity:1;stroke-dasharray:4,4;stroke-miterlimit:10;\" d=\"M 186 139.464844 L 186 130.671875 \"/>\n",
       "<path style=\"fill:none;stroke-width:1;stroke-linecap:round;stroke-linejoin:round;stroke:rgb(0%,0%,0%);stroke-opacity:1;stroke-dasharray:4,4;stroke-miterlimit:10;\" d=\"M 186 80.832031 L 186 110.648438 \"/>\n",
       "<path style=\"fill:none;stroke-width:1;stroke-linecap:round;stroke-linejoin:round;stroke:rgb(0%,0%,0%);stroke-opacity:1;stroke-miterlimit:10;\" d=\"M 182.320312 139.464844 L 189.679688 139.464844 \"/>\n",
       "<path style=\"fill:none;stroke-width:1;stroke-linecap:round;stroke-linejoin:round;stroke:rgb(0%,0%,0%);stroke-opacity:1;stroke-miterlimit:10;\" d=\"M 182.320312 80.832031 L 189.679688 80.832031 \"/>\n",
       "<path style=\"fill:none;stroke-width:1;stroke-linecap:round;stroke-linejoin:round;stroke:rgb(0%,0%,0%);stroke-opacity:1;stroke-miterlimit:10;\" d=\"M 178.640625 130.671875 L 193.359375 130.671875 L 193.359375 110.648438 L 178.640625 110.648438 L 178.640625 130.671875 \"/>\n",
       "<path style=\"fill:none;stroke-width:1;stroke-linecap:round;stroke-linejoin:round;stroke:rgb(0%,0%,0%);stroke-opacity:1;stroke-miterlimit:10;\" d=\"M 189.199219 78.320312 C 189.199219 82.589844 182.800781 82.589844 182.800781 78.320312 C 182.800781 74.054688 189.199219 74.054688 189.199219 78.320312 \"/>\n",
       "<path style=\"fill:none;stroke-width:1;stroke-linecap:round;stroke-linejoin:round;stroke:rgb(0%,0%,0%);stroke-opacity:1;stroke-miterlimit:10;\" d=\"M 189.199219 75.429688 C 189.199219 79.699219 182.800781 79.699219 182.800781 75.429688 C 182.800781 71.164062 189.199219 71.164062 189.199219 75.429688 \"/>\n",
       "<path style=\"fill:none;stroke-width:1;stroke-linecap:round;stroke-linejoin:round;stroke:rgb(0%,0%,0%);stroke-opacity:1;stroke-miterlimit:10;\" d=\"M 189.199219 65.066406 C 189.199219 69.335938 182.800781 69.335938 182.800781 65.066406 C 182.800781 60.800781 189.199219 60.800781 189.199219 65.066406 \"/>\n",
       "<path style=\"fill:none;stroke-width:1;stroke-linecap:round;stroke-linejoin:round;stroke:rgb(0%,0%,0%);stroke-opacity:1;stroke-miterlimit:10;\" d=\"M 189.199219 64.738281 C 189.199219 69.007812 182.800781 69.007812 182.800781 64.738281 C 182.800781 60.472656 189.199219 60.472656 189.199219 64.738281 \"/>\n",
       "<path style=\"fill:none;stroke-width:1;stroke-linecap:round;stroke-linejoin:round;stroke:rgb(0%,0%,0%);stroke-opacity:1;stroke-miterlimit:10;\" d=\"M 189.199219 76.628906 C 189.199219 80.898438 182.800781 80.898438 182.800781 76.628906 C 182.800781 72.363281 189.199219 72.363281 189.199219 76.628906 \"/>\n",
       "<path style=\"fill:none;stroke-width:1;stroke-linecap:round;stroke-linejoin:round;stroke:rgb(0%,0%,0%);stroke-opacity:1;stroke-miterlimit:10;\" d=\"M 189.199219 68.230469 C 189.199219 72.496094 182.800781 72.496094 182.800781 68.230469 C 182.800781 63.964844 189.199219 63.964844 189.199219 68.230469 \"/>\n",
       "<path style=\"fill:none;stroke-width:1;stroke-linecap:round;stroke-linejoin:round;stroke:rgb(0%,0%,0%);stroke-opacity:1;stroke-miterlimit:10;\" d=\"M 189.199219 64.304688 C 189.199219 68.570312 182.800781 68.570312 182.800781 64.304688 C 182.800781 60.035156 189.199219 60.035156 189.199219 64.304688 \"/>\n",
       "<path style=\"fill:none;stroke-width:1;stroke-linecap:round;stroke-linejoin:round;stroke:rgb(0%,0%,0%);stroke-opacity:1;stroke-miterlimit:10;\" d=\"M 189.199219 68.339844 C 189.199219 72.605469 182.800781 72.605469 182.800781 68.339844 C 182.800781 64.074219 189.199219 64.074219 189.199219 68.339844 \"/>\n",
       "<path style=\"fill:none;stroke-width:1;stroke-linecap:round;stroke-linejoin:round;stroke:rgb(0%,0%,0%);stroke-opacity:1;stroke-miterlimit:10;\" d=\"M 189.199219 66.921875 C 189.199219 71.1875 182.800781 71.1875 182.800781 66.921875 C 182.800781 62.65625 189.199219 62.65625 189.199219 66.921875 \"/>\n",
       "<path style=\"fill:none;stroke-width:1;stroke-linecap:round;stroke-linejoin:round;stroke:rgb(0%,0%,0%);stroke-opacity:1;stroke-miterlimit:10;\" d=\"M 189.199219 76.738281 C 189.199219 81.007812 182.800781 81.007812 182.800781 76.738281 C 182.800781 72.472656 189.199219 72.472656 189.199219 76.738281 \"/>\n",
       "<path style=\"fill:none;stroke-width:1;stroke-linecap:round;stroke-linejoin:round;stroke:rgb(0%,0%,0%);stroke-opacity:1;stroke-miterlimit:10;\" d=\"M 189.199219 79.304688 C 189.199219 83.570312 182.800781 83.570312 182.800781 79.304688 C 182.800781 75.035156 189.199219 75.035156 189.199219 79.304688 \"/>\n",
       "<path style=\"fill:none;stroke-width:1;stroke-linecap:round;stroke-linejoin:round;stroke:rgb(0%,0%,0%);stroke-opacity:1;stroke-miterlimit:10;\" d=\"M 189.199219 64.195312 C 189.199219 68.460938 182.800781 68.460938 182.800781 64.195312 C 182.800781 59.929688 189.199219 59.929688 189.199219 64.195312 \"/>\n",
       "<path style=\"fill:none;stroke-width:1;stroke-linecap:round;stroke-linejoin:round;stroke:rgb(0%,0%,0%);stroke-opacity:1;stroke-miterlimit:10;\" d=\"M 189.199219 74.558594 C 189.199219 78.824219 182.800781 78.824219 182.800781 74.558594 C 182.800781 70.292969 189.199219 70.292969 189.199219 74.558594 \"/>\n",
       "<path style=\"fill:none;stroke-width:1;stroke-linecap:round;stroke-linejoin:round;stroke:rgb(0%,0%,0%);stroke-opacity:1;stroke-miterlimit:10;\" d=\"M 189.199219 76.578125 C 189.199219 80.84375 182.800781 80.84375 182.800781 76.578125 C 182.800781 72.308594 189.199219 72.308594 189.199219 76.578125 \"/>\n",
       "<path style=\"fill:none;stroke-width:1;stroke-linecap:round;stroke-linejoin:round;stroke:rgb(0%,0%,0%);stroke-opacity:1;stroke-miterlimit:10;\" d=\"M 189.199219 76.359375 C 189.199219 80.625 182.800781 80.625 182.800781 76.359375 C 182.800781 72.089844 189.199219 72.089844 189.199219 76.359375 \"/>\n",
       "<path style=\"fill:none;stroke-width:1;stroke-linecap:round;stroke-linejoin:round;stroke:rgb(0%,0%,0%);stroke-opacity:1;stroke-miterlimit:10;\" d=\"M 189.199219 72.046875 C 189.199219 76.316406 182.800781 76.316406 182.800781 72.046875 C 182.800781 67.78125 189.199219 67.78125 189.199219 72.046875 \"/>\n",
       "<path style=\"fill:none;stroke-width:1;stroke-linecap:round;stroke-linejoin:round;stroke:rgb(0%,0%,0%);stroke-opacity:1;stroke-miterlimit:10;\" d=\"M 189.199219 66.320312 C 189.199219 70.589844 182.800781 70.589844 182.800781 66.320312 C 182.800781 62.054688 189.199219 62.054688 189.199219 66.320312 \"/>\n",
       "<path style=\"fill:none;stroke-width:1;stroke-linecap:round;stroke-linejoin:round;stroke:rgb(0%,0%,0%);stroke-opacity:1;stroke-miterlimit:10;\" d=\"M 189.199219 68.121094 C 189.199219 72.386719 182.800781 72.386719 182.800781 68.121094 C 182.800781 63.855469 189.199219 63.855469 189.199219 68.121094 \"/>\n",
       "<g clip-path=\"url(#clip24)\" clip-rule=\"nonzero\">\n",
       "<path style=\"fill:none;stroke-width:1;stroke-linecap:round;stroke-linejoin:round;stroke:rgb(0%,0%,0%);stroke-opacity:1;stroke-miterlimit:10;\" d=\"M 189.199219 62.230469 C 189.199219 66.496094 182.800781 66.496094 182.800781 62.230469 C 182.800781 57.964844 189.199219 57.964844 189.199219 62.230469 \"/>\n",
       "</g>\n",
       "<path style=\"fill:none;stroke-width:1;stroke-linecap:round;stroke-linejoin:round;stroke:rgb(0%,0%,0%);stroke-opacity:1;stroke-miterlimit:10;\" d=\"M 189.199219 65.285156 C 189.199219 69.550781 182.800781 69.550781 182.800781 65.285156 C 182.800781 61.019531 189.199219 61.019531 189.199219 65.285156 \"/>\n",
       "<path style=\"fill:none;stroke-width:1;stroke-linecap:round;stroke-linejoin:round;stroke:rgb(0%,0%,0%);stroke-opacity:1;stroke-miterlimit:10;\" d=\"M 189.199219 66.105469 C 189.199219 70.371094 182.800781 70.371094 182.800781 66.105469 C 182.800781 61.835938 189.199219 61.835938 189.199219 66.105469 \"/>\n",
       "<path style=\"fill:none;stroke-width:1;stroke-linecap:round;stroke-linejoin:round;stroke:rgb(0%,0%,0%);stroke-opacity:1;stroke-miterlimit:10;\" d=\"M 189.199219 71.449219 C 189.199219 75.714844 182.800781 75.714844 182.800781 71.449219 C 182.800781 67.183594 189.199219 67.183594 189.199219 71.449219 \"/>\n",
       "<g clip-path=\"url(#clip25)\" clip-rule=\"nonzero\">\n",
       "<path style=\"fill:none;stroke-width:1;stroke-linecap:round;stroke-linejoin:round;stroke:rgb(0%,0%,0%);stroke-opacity:1;stroke-miterlimit:10;\" d=\"M 189.199219 62.558594 C 189.199219 66.824219 182.800781 66.824219 182.800781 62.558594 C 182.800781 58.292969 189.199219 58.292969 189.199219 62.558594 \"/>\n",
       "</g>\n",
       "<g clip-path=\"url(#clip26)\" clip-rule=\"nonzero\">\n",
       "<path style=\"fill:none;stroke-width:1;stroke-linecap:round;stroke-linejoin:round;stroke:rgb(0%,0%,0%);stroke-opacity:1;stroke-miterlimit:10;\" d=\"M 189.199219 63.539062 C 189.199219 67.804688 182.800781 67.804688 182.800781 63.539062 C 182.800781 59.273438 189.199219 59.273438 189.199219 63.539062 \"/>\n",
       "</g>\n",
       "<path style=\"fill:none;stroke-width:1;stroke-linecap:round;stroke-linejoin:round;stroke:rgb(0%,0%,0%);stroke-opacity:1;stroke-miterlimit:10;\" d=\"M 189.199219 77.011719 C 189.199219 81.28125 182.800781 81.28125 182.800781 77.011719 C 182.800781 72.746094 189.199219 72.746094 189.199219 77.011719 \"/>\n",
       "<path style=\"fill:none;stroke-width:1;stroke-linecap:round;stroke-linejoin:round;stroke:rgb(0%,0%,0%);stroke-opacity:1;stroke-miterlimit:10;\" d=\"M 189.199219 76.25 C 189.199219 80.515625 182.800781 80.515625 182.800781 76.25 C 182.800781 71.980469 189.199219 71.980469 189.199219 76.25 \"/>\n",
       "<path style=\"fill:none;stroke-width:1;stroke-linecap:round;stroke-linejoin:round;stroke:rgb(0%,0%,0%);stroke-opacity:1;stroke-miterlimit:10;\" d=\"M 189.199219 73.46875 C 189.199219 77.734375 182.800781 77.734375 182.800781 73.46875 C 182.800781 69.199219 189.199219 69.199219 189.199219 73.46875 \"/>\n",
       "<path style=\"fill:none;stroke-width:1;stroke-linecap:round;stroke-linejoin:round;stroke:rgb(0%,0%,0%);stroke-opacity:1;stroke-miterlimit:10;\" d=\"M 189.199219 64.738281 C 189.199219 69.007812 182.800781 69.007812 182.800781 64.738281 C 182.800781 60.472656 189.199219 60.472656 189.199219 64.738281 \"/>\n",
       "<path style=\"fill:none;stroke-width:1;stroke-linecap:round;stroke-linejoin:round;stroke:rgb(0%,0%,0%);stroke-opacity:1;stroke-miterlimit:10;\" d=\"M 189.199219 77.121094 C 189.199219 81.386719 182.800781 81.386719 182.800781 77.121094 C 182.800781 72.855469 189.199219 72.855469 189.199219 77.121094 \"/>\n",
       "<path style=\"fill:none;stroke-width:1;stroke-linecap:round;stroke-linejoin:round;stroke:rgb(0%,0%,0%);stroke-opacity:1;stroke-miterlimit:10;\" d=\"M 189.199219 65.449219 C 189.199219 69.714844 182.800781 69.714844 182.800781 65.449219 C 182.800781 61.183594 189.199219 61.183594 189.199219 65.449219 \"/>\n",
       "<path style=\"fill:none;stroke-width:1;stroke-linecap:round;stroke-linejoin:round;stroke:rgb(0%,0%,0%);stroke-opacity:1;stroke-miterlimit:10;\" d=\"M 189.199219 73.085938 C 189.199219 77.351562 182.800781 77.351562 182.800781 73.085938 C 182.800781 68.816406 189.199219 68.816406 189.199219 73.085938 \"/>\n",
       "<path style=\"fill:none;stroke-width:1;stroke-linecap:round;stroke-linejoin:round;stroke:rgb(0%,0%,0%);stroke-opacity:1;stroke-miterlimit:10;\" d=\"M 189.199219 73.359375 C 189.199219 77.625 182.800781 77.625 182.800781 73.359375 C 182.800781 69.089844 189.199219 69.089844 189.199219 73.359375 \"/>\n",
       "<path style=\"fill:none;stroke-width:1;stroke-linecap:round;stroke-linejoin:round;stroke:rgb(0%,0%,0%);stroke-opacity:1;stroke-miterlimit:10;\" d=\"M 189.199219 80.285156 C 189.199219 84.550781 182.800781 84.550781 182.800781 80.285156 C 182.800781 76.019531 189.199219 76.019531 189.199219 80.285156 \"/>\n",
       "<path style=\"fill:none;stroke-width:1;stroke-linecap:round;stroke-linejoin:round;stroke:rgb(0%,0%,0%);stroke-opacity:1;stroke-miterlimit:10;\" d=\"M 189.199219 72.648438 C 189.199219 76.914062 182.800781 76.914062 182.800781 72.648438 C 182.800781 68.382812 189.199219 68.382812 189.199219 72.648438 \"/>\n",
       "<path style=\"fill:none;stroke-width:1;stroke-linecap:round;stroke-linejoin:round;stroke:rgb(0%,0%,0%);stroke-opacity:1;stroke-miterlimit:10;\" d=\"M 189.199219 74.449219 C 189.199219 78.714844 182.800781 78.714844 182.800781 74.449219 C 182.800781 70.183594 189.199219 70.183594 189.199219 74.449219 \"/>\n",
       "<path style=\"fill:none;stroke-width:1;stroke-linecap:round;stroke-linejoin:round;stroke:rgb(0%,0%,0%);stroke-opacity:1;stroke-miterlimit:10;\" d=\"M 189.199219 64.25 C 189.199219 68.515625 182.800781 68.515625 182.800781 64.25 C 182.800781 59.980469 189.199219 59.980469 189.199219 64.25 \"/>\n",
       "<path style=\"fill:none;stroke-width:1;stroke-linecap:round;stroke-linejoin:round;stroke:rgb(0%,0%,0%);stroke-opacity:1;stroke-miterlimit:10;\" d=\"M 189.199219 66.050781 C 189.199219 70.316406 182.800781 70.316406 182.800781 66.050781 C 182.800781 61.78125 189.199219 61.78125 189.199219 66.050781 \"/>\n",
       "<path style=\"fill:none;stroke-width:1;stroke-linecap:round;stroke-linejoin:round;stroke:rgb(0%,0%,0%);stroke-opacity:1;stroke-miterlimit:10;\" d=\"M 189.199219 72.539062 C 189.199219 76.808594 182.800781 76.808594 182.800781 72.539062 C 182.800781 68.273438 189.199219 68.273438 189.199219 72.539062 \"/>\n",
       "<path style=\"fill:none;stroke-width:1;stroke-linecap:round;stroke-linejoin:round;stroke:rgb(0%,0%,0%);stroke-opacity:1;stroke-miterlimit:10;\" d=\"M 189.199219 77.175781 C 189.199219 81.441406 182.800781 81.441406 182.800781 77.175781 C 182.800781 72.910156 189.199219 72.910156 189.199219 77.175781 \"/>\n",
       "<path style=\"fill:none;stroke-width:1;stroke-linecap:round;stroke-linejoin:round;stroke:rgb(0%,0%,0%);stroke-opacity:1;stroke-miterlimit:10;\" d=\"M 189.199219 70.304688 C 189.199219 74.570312 182.800781 74.570312 182.800781 70.304688 C 182.800781 66.035156 189.199219 66.035156 189.199219 70.304688 \"/>\n",
       "<path style=\"fill:none;stroke-width:1;stroke-linecap:round;stroke-linejoin:round;stroke:rgb(0%,0%,0%);stroke-opacity:1;stroke-miterlimit:10;\" d=\"M 189.199219 76.902344 C 189.199219 81.171875 182.800781 81.171875 182.800781 76.902344 C 182.800781 72.636719 189.199219 72.636719 189.199219 76.902344 \"/>\n",
       "<path style=\"fill:none;stroke-width:1;stroke-linecap:round;stroke-linejoin:round;stroke:rgb(0%,0%,0%);stroke-opacity:1;stroke-miterlimit:10;\" d=\"M 189.199219 73.195312 C 189.199219 77.460938 182.800781 77.460938 182.800781 73.195312 C 182.800781 68.925781 189.199219 68.925781 189.199219 73.195312 \"/>\n",
       "<g clip-path=\"url(#clip27)\" clip-rule=\"nonzero\">\n",
       "<path style=\"fill:none;stroke-width:1;stroke-linecap:round;stroke-linejoin:round;stroke:rgb(0%,0%,0%);stroke-opacity:1;stroke-miterlimit:10;\" d=\"M 189.199219 62.832031 C 189.199219 67.097656 182.800781 67.097656 182.800781 62.832031 C 182.800781 58.5625 189.199219 58.5625 189.199219 62.832031 \"/>\n",
       "<path style=\"fill:none;stroke-width:1;stroke-linecap:round;stroke-linejoin:round;stroke:rgb(0%,0%,0%);stroke-opacity:1;stroke-miterlimit:10;\" d=\"M 189.199219 62.503906 C 189.199219 66.769531 182.800781 66.769531 182.800781 62.503906 C 182.800781 58.238281 189.199219 58.238281 189.199219 62.503906 \"/>\n",
       "</g>\n",
       "<path style=\"fill:none;stroke-width:1;stroke-linecap:round;stroke-linejoin:round;stroke:rgb(0%,0%,0%);stroke-opacity:1;stroke-miterlimit:10;\" d=\"M 189.199219 76.957031 C 189.199219 81.222656 182.800781 81.222656 182.800781 76.957031 C 182.800781 72.691406 189.199219 72.691406 189.199219 76.957031 \"/>\n",
       "<path style=\"fill:none;stroke-width:1;stroke-linecap:round;stroke-linejoin:round;stroke:rgb(0%,0%,0%);stroke-opacity:1;stroke-miterlimit:10;\" d=\"M 189.199219 80.066406 C 189.199219 84.332031 182.800781 84.332031 182.800781 80.066406 C 182.800781 75.800781 189.199219 75.800781 189.199219 80.066406 \"/>\n",
       "<path style=\"fill:none;stroke-width:1;stroke-linecap:round;stroke-linejoin:round;stroke:rgb(0%,0%,0%);stroke-opacity:1;stroke-miterlimit:10;\" d=\"M 189.199219 70.847656 C 189.199219 75.117188 182.800781 75.117188 182.800781 70.847656 C 182.800781 66.582031 189.199219 66.582031 189.199219 70.847656 \"/>\n",
       "<path style=\"fill:none;stroke-width:1;stroke-linecap:round;stroke-linejoin:round;stroke:rgb(0%,0%,0%);stroke-opacity:1;stroke-miterlimit:10;\" d=\"M 189.199219 79.140625 C 189.199219 83.40625 182.800781 83.40625 182.800781 79.140625 C 182.800781 74.875 189.199219 74.875 189.199219 79.140625 \"/>\n",
       "<path style=\"fill:none;stroke-width:1;stroke-linecap:round;stroke-linejoin:round;stroke:rgb(0%,0%,0%);stroke-opacity:1;stroke-miterlimit:10;\" d=\"M 189.199219 68.339844 C 189.199219 72.605469 182.800781 72.605469 182.800781 68.339844 C 182.800781 64.074219 189.199219 64.074219 189.199219 68.339844 \"/>\n",
       "<path style=\"fill:none;stroke-width:1;stroke-linecap:round;stroke-linejoin:round;stroke:rgb(0%,0%,0%);stroke-opacity:1;stroke-miterlimit:10;\" d=\"M 189.199219 74.175781 C 189.199219 78.441406 182.800781 78.441406 182.800781 74.175781 C 182.800781 69.910156 189.199219 69.910156 189.199219 74.175781 \"/>\n",
       "<path style=\"fill:none;stroke-width:1;stroke-linecap:round;stroke-linejoin:round;stroke:rgb(0%,0%,0%);stroke-opacity:1;stroke-miterlimit:10;\" d=\"M 189.199219 76.957031 C 189.199219 81.222656 182.800781 81.222656 182.800781 76.957031 C 182.800781 72.691406 189.199219 72.691406 189.199219 76.957031 \"/>\n",
       "<g clip-path=\"url(#clip28)\" clip-rule=\"nonzero\">\n",
       "<path style=\"fill:none;stroke-width:1;stroke-linecap:round;stroke-linejoin:round;stroke:rgb(0%,0%,0%);stroke-opacity:1;stroke-miterlimit:10;\" d=\"M 189.199219 62.777344 C 189.199219 67.042969 182.800781 67.042969 182.800781 62.777344 C 182.800781 58.511719 189.199219 58.511719 189.199219 62.777344 \"/>\n",
       "</g>\n",
       "<path style=\"fill:none;stroke-width:1;stroke-linecap:round;stroke-linejoin:round;stroke:rgb(0%,0%,0%);stroke-opacity:1;stroke-miterlimit:10;\" d=\"M 189.199219 77.667969 C 189.199219 81.933594 182.800781 81.933594 182.800781 77.667969 C 182.800781 73.398438 189.199219 73.398438 189.199219 77.667969 \"/>\n",
       "<path style=\"fill:none;stroke-width:1;stroke-linecap:round;stroke-linejoin:round;stroke:rgb(0%,0%,0%);stroke-opacity:1;stroke-miterlimit:10;\" d=\"M 189.199219 64.738281 C 189.199219 69.007812 182.800781 69.007812 182.800781 64.738281 C 182.800781 60.472656 189.199219 60.472656 189.199219 64.738281 \"/>\n",
       "<path style=\"fill:none;stroke-width:1;stroke-linecap:round;stroke-linejoin:round;stroke:rgb(0%,0%,0%);stroke-opacity:1;stroke-miterlimit:10;\" d=\"M 189.199219 76.085938 C 189.199219 80.351562 182.800781 80.351562 182.800781 76.085938 C 182.800781 71.816406 189.199219 71.816406 189.199219 76.085938 \"/>\n",
       "<path style=\"fill:none;stroke-width:1;stroke-linecap:round;stroke-linejoin:round;stroke:rgb(0%,0%,0%);stroke-opacity:1;stroke-miterlimit:10;\" d=\"M 189.199219 71.558594 C 189.199219 75.824219 182.800781 75.824219 182.800781 71.558594 C 182.800781 67.292969 189.199219 67.292969 189.199219 71.558594 \"/>\n",
       "<path style=\"fill:none;stroke-width:1;stroke-linecap:round;stroke-linejoin:round;stroke:rgb(0%,0%,0%);stroke-opacity:1;stroke-miterlimit:10;\" d=\"M 189.199219 80.558594 C 189.199219 84.824219 182.800781 84.824219 182.800781 80.558594 C 182.800781 76.289062 189.199219 76.289062 189.199219 80.558594 \"/>\n",
       "<path style=\"fill:none;stroke-width:1;stroke-linecap:round;stroke-linejoin:round;stroke:rgb(0%,0%,0%);stroke-opacity:1;stroke-miterlimit:10;\" d=\"M 189.199219 63.8125 C 189.199219 68.078125 182.800781 68.078125 182.800781 63.8125 C 182.800781 59.546875 189.199219 59.546875 189.199219 63.8125 \"/>\n",
       "<path style=\" stroke:none;fill-rule:nonzero;fill:rgb(100%,100%,100%);fill-opacity:1;\" d=\"M 197.039062 131.117188 L 211.761719 131.117188 L 211.761719 110.105469 L 197.039062 110.105469 Z M 197.039062 131.117188 \"/>\n",
       "<path style=\"fill:none;stroke-width:3;stroke-linecap:butt;stroke-linejoin:round;stroke:rgb(0%,0%,0%);stroke-opacity:1;stroke-miterlimit:10;\" d=\"M 197.039062 123.507812 L 211.761719 123.507812 \"/>\n",
       "<path style=\"fill:none;stroke-width:1;stroke-linecap:round;stroke-linejoin:round;stroke:rgb(0%,0%,0%);stroke-opacity:1;stroke-dasharray:4,4;stroke-miterlimit:10;\" d=\"M 204.398438 139.464844 L 204.398438 131.117188 \"/>\n",
       "<path style=\"fill:none;stroke-width:1;stroke-linecap:round;stroke-linejoin:round;stroke:rgb(0%,0%,0%);stroke-opacity:1;stroke-dasharray:4,4;stroke-miterlimit:10;\" d=\"M 204.398438 78.667969 L 204.398438 110.105469 \"/>\n",
       "<path style=\"fill:none;stroke-width:1;stroke-linecap:round;stroke-linejoin:round;stroke:rgb(0%,0%,0%);stroke-opacity:1;stroke-miterlimit:10;\" d=\"M 200.71875 139.464844 L 208.078125 139.464844 \"/>\n",
       "<path style=\"fill:none;stroke-width:1;stroke-linecap:round;stroke-linejoin:round;stroke:rgb(0%,0%,0%);stroke-opacity:1;stroke-miterlimit:10;\" d=\"M 200.71875 78.667969 L 208.078125 78.667969 \"/>\n",
       "<path style=\"fill:none;stroke-width:1;stroke-linecap:round;stroke-linejoin:round;stroke:rgb(0%,0%,0%);stroke-opacity:1;stroke-miterlimit:10;\" d=\"M 197.039062 131.117188 L 211.761719 131.117188 L 211.761719 110.105469 L 197.039062 110.105469 L 197.039062 131.117188 \"/>\n",
       "<path style=\"fill:none;stroke-width:1;stroke-linecap:round;stroke-linejoin:round;stroke:rgb(0%,0%,0%);stroke-opacity:1;stroke-miterlimit:10;\" d=\"M 207.601562 75.25 C 207.601562 79.515625 201.199219 79.515625 201.199219 75.25 C 201.199219 70.984375 207.601562 70.984375 207.601562 75.25 \"/>\n",
       "<path style=\"fill:none;stroke-width:1;stroke-linecap:round;stroke-linejoin:round;stroke:rgb(0%,0%,0%);stroke-opacity:1;stroke-miterlimit:10;\" d=\"M 207.601562 74.429688 C 207.601562 78.699219 201.199219 78.699219 201.199219 74.429688 C 201.199219 70.164062 207.601562 70.164062 207.601562 74.429688 \"/>\n",
       "<path style=\"fill:none;stroke-width:1;stroke-linecap:round;stroke-linejoin:round;stroke:rgb(0%,0%,0%);stroke-opacity:1;stroke-miterlimit:10;\" d=\"M 207.601562 76.644531 C 207.601562 80.914062 201.199219 80.914062 201.199219 76.644531 C 201.199219 72.378906 207.601562 72.378906 207.601562 76.644531 \"/>\n",
       "<path style=\"fill:none;stroke-width:1;stroke-linecap:round;stroke-linejoin:round;stroke:rgb(0%,0%,0%);stroke-opacity:1;stroke-miterlimit:10;\" d=\"M 207.601562 66.296875 C 207.601562 70.5625 201.199219 70.5625 201.199219 66.296875 C 201.199219 62.027344 207.601562 62.027344 207.601562 66.296875 \"/>\n",
       "<path style=\"fill:none;stroke-width:1;stroke-linecap:round;stroke-linejoin:round;stroke:rgb(0%,0%,0%);stroke-opacity:1;stroke-miterlimit:10;\" d=\"M 207.601562 64.175781 C 207.601562 68.445312 201.199219 68.445312 201.199219 64.175781 C 201.199219 59.910156 207.601562 59.910156 207.601562 64.175781 \"/>\n",
       "<path style=\"fill:none;stroke-width:1;stroke-linecap:round;stroke-linejoin:round;stroke:rgb(0%,0%,0%);stroke-opacity:1;stroke-miterlimit:10;\" d=\"M 207.601562 76.886719 C 207.601562 81.152344 201.199219 81.152344 201.199219 76.886719 C 201.199219 72.621094 207.601562 72.621094 207.601562 76.886719 \"/>\n",
       "<path style=\"fill:none;stroke-width:1;stroke-linecap:round;stroke-linejoin:round;stroke:rgb(0%,0%,0%);stroke-opacity:1;stroke-miterlimit:10;\" d=\"M 207.601562 78.1875 C 207.601562 82.453125 201.199219 82.453125 201.199219 78.1875 C 201.199219 73.917969 207.601562 73.917969 207.601562 78.1875 \"/>\n",
       "<path style=\"fill:none;stroke-width:1;stroke-linecap:round;stroke-linejoin:round;stroke:rgb(0%,0%,0%);stroke-opacity:1;stroke-miterlimit:10;\" d=\"M 207.601562 68.027344 C 207.601562 72.296875 201.199219 72.296875 201.199219 68.027344 C 201.199219 63.761719 207.601562 63.761719 207.601562 68.027344 \"/>\n",
       "<path style=\"fill:none;stroke-width:1;stroke-linecap:round;stroke-linejoin:round;stroke:rgb(0%,0%,0%);stroke-opacity:1;stroke-miterlimit:10;\" d=\"M 207.601562 74.769531 C 207.601562 79.035156 201.199219 79.035156 201.199219 74.769531 C 201.199219 70.5 207.601562 70.5 207.601562 74.769531 \"/>\n",
       "<path style=\"fill:none;stroke-width:1;stroke-linecap:round;stroke-linejoin:round;stroke:rgb(0%,0%,0%);stroke-opacity:1;stroke-miterlimit:10;\" d=\"M 207.601562 65.042969 C 207.601562 69.3125 201.199219 69.3125 201.199219 65.042969 C 201.199219 60.777344 207.601562 60.777344 207.601562 65.042969 \"/>\n",
       "<path style=\"fill:none;stroke-width:1;stroke-linecap:round;stroke-linejoin:round;stroke:rgb(0%,0%,0%);stroke-opacity:1;stroke-miterlimit:10;\" d=\"M 207.601562 68.414062 C 207.601562 72.679688 201.199219 72.679688 201.199219 68.414062 C 201.199219 64.148438 207.601562 64.148438 207.601562 68.414062 \"/>\n",
       "<g clip-path=\"url(#clip29)\" clip-rule=\"nonzero\">\n",
       "<path style=\"fill:none;stroke-width:1;stroke-linecap:round;stroke-linejoin:round;stroke:rgb(0%,0%,0%);stroke-opacity:1;stroke-miterlimit:10;\" d=\"M 207.601562 63.40625 C 207.601562 67.675781 201.199219 67.675781 201.199219 63.40625 C 201.199219 59.140625 207.601562 59.140625 207.601562 63.40625 \"/>\n",
       "</g>\n",
       "<path style=\"fill:none;stroke-width:1;stroke-linecap:round;stroke-linejoin:round;stroke:rgb(0%,0%,0%);stroke-opacity:1;stroke-miterlimit:10;\" d=\"M 207.601562 72.648438 C 207.601562 76.917969 201.199219 76.917969 201.199219 72.648438 C 201.199219 68.382812 207.601562 68.382812 207.601562 72.648438 \"/>\n",
       "<path style=\"fill:none;stroke-width:1;stroke-linecap:round;stroke-linejoin:round;stroke:rgb(0%,0%,0%);stroke-opacity:1;stroke-miterlimit:10;\" d=\"M 207.601562 75.007812 C 207.601562 79.277344 201.199219 79.277344 201.199219 75.007812 C 201.199219 70.742188 207.601562 70.742188 207.601562 75.007812 \"/>\n",
       "<path style=\"fill:none;stroke-width:1;stroke-linecap:round;stroke-linejoin:round;stroke:rgb(0%,0%,0%);stroke-opacity:1;stroke-miterlimit:10;\" d=\"M 207.601562 69.808594 C 207.601562 74.078125 201.199219 74.078125 201.199219 69.808594 C 201.199219 65.542969 207.601562 65.542969 207.601562 69.808594 \"/>\n",
       "<g clip-path=\"url(#clip30)\" clip-rule=\"nonzero\">\n",
       "<path style=\"fill:none;stroke-width:1;stroke-linecap:round;stroke-linejoin:round;stroke:rgb(0%,0%,0%);stroke-opacity:1;stroke-miterlimit:10;\" d=\"M 207.601562 62.636719 C 207.601562 66.902344 201.199219 66.902344 201.199219 62.636719 C 201.199219 58.371094 207.601562 58.371094 207.601562 62.636719 \"/>\n",
       "</g>\n",
       "<path style=\"fill:none;stroke-width:1;stroke-linecap:round;stroke-linejoin:round;stroke:rgb(0%,0%,0%);stroke-opacity:1;stroke-miterlimit:10;\" d=\"M 207.601562 70.050781 C 207.601562 74.316406 201.199219 74.316406 201.199219 70.050781 C 201.199219 65.785156 207.601562 65.785156 207.601562 70.050781 \"/>\n",
       "<path style=\"fill:none;stroke-width:1;stroke-linecap:round;stroke-linejoin:round;stroke:rgb(0%,0%,0%);stroke-opacity:1;stroke-miterlimit:10;\" d=\"M 207.601562 71.929688 C 207.601562 76.195312 201.199219 76.195312 201.199219 71.929688 C 201.199219 67.660156 207.601562 67.660156 207.601562 71.929688 \"/>\n",
       "<path style=\"fill:none;stroke-width:1;stroke-linecap:round;stroke-linejoin:round;stroke:rgb(0%,0%,0%);stroke-opacity:1;stroke-miterlimit:10;\" d=\"M 207.601562 72.265625 C 207.601562 76.53125 201.199219 76.53125 201.199219 72.265625 C 201.199219 68 207.601562 68 207.601562 72.265625 \"/>\n",
       "<path style=\"fill:none;stroke-width:1;stroke-linecap:round;stroke-linejoin:round;stroke:rgb(0%,0%,0%);stroke-opacity:1;stroke-miterlimit:10;\" d=\"M 207.601562 74.625 C 207.601562 78.890625 201.199219 78.890625 201.199219 74.625 C 201.199219 70.355469 207.601562 70.355469 207.601562 74.625 \"/>\n",
       "<path style=\"fill:none;stroke-width:1;stroke-linecap:round;stroke-linejoin:round;stroke:rgb(0%,0%,0%);stroke-opacity:1;stroke-miterlimit:10;\" d=\"M 207.601562 74.960938 C 207.601562 79.226562 201.199219 79.226562 201.199219 74.960938 C 201.199219 70.695312 207.601562 70.695312 207.601562 74.960938 \"/>\n",
       "<path style=\"fill:none;stroke-width:1;stroke-linecap:round;stroke-linejoin:round;stroke:rgb(0%,0%,0%);stroke-opacity:1;stroke-miterlimit:10;\" d=\"M 207.601562 73.515625 C 207.601562 77.785156 201.199219 77.785156 201.199219 73.515625 C 201.199219 69.25 207.601562 69.25 207.601562 73.515625 \"/>\n",
       "<path style=\"fill:none;stroke-width:1;stroke-linecap:round;stroke-linejoin:round;stroke:rgb(0%,0%,0%);stroke-opacity:1;stroke-miterlimit:10;\" d=\"M 207.601562 65.382812 C 207.601562 69.648438 201.199219 69.648438 201.199219 65.382812 C 201.199219 61.113281 207.601562 61.113281 207.601562 65.382812 \"/>\n",
       "<path style=\"fill:none;stroke-width:1;stroke-linecap:round;stroke-linejoin:round;stroke:rgb(0%,0%,0%);stroke-opacity:1;stroke-miterlimit:10;\" d=\"M 207.601562 64.949219 C 207.601562 69.214844 201.199219 69.214844 201.199219 64.949219 C 201.199219 60.679688 207.601562 60.679688 207.601562 64.949219 \"/>\n",
       "<path style=\"fill:none;stroke-width:1;stroke-linecap:round;stroke-linejoin:round;stroke:rgb(0%,0%,0%);stroke-opacity:1;stroke-miterlimit:10;\" d=\"M 207.601562 71.976562 C 207.601562 76.242188 201.199219 76.242188 201.199219 71.976562 C 201.199219 67.710938 207.601562 67.710938 207.601562 71.976562 \"/>\n",
       "<path style=\"fill:none;stroke-width:1;stroke-linecap:round;stroke-linejoin:round;stroke:rgb(0%,0%,0%);stroke-opacity:1;stroke-miterlimit:10;\" d=\"M 207.601562 76.117188 C 207.601562 80.382812 201.199219 80.382812 201.199219 76.117188 C 201.199219 71.847656 207.601562 71.847656 207.601562 76.117188 \"/>\n",
       "<path style=\"fill:none;stroke-width:1;stroke-linecap:round;stroke-linejoin:round;stroke:rgb(0%,0%,0%);stroke-opacity:1;stroke-miterlimit:10;\" d=\"M 207.601562 76.742188 C 207.601562 81.007812 201.199219 81.007812 201.199219 76.742188 C 201.199219 72.476562 207.601562 72.476562 207.601562 76.742188 \"/>\n",
       "<g clip-path=\"url(#clip31)\" clip-rule=\"nonzero\">\n",
       "<path style=\"fill:none;stroke-width:1;stroke-linecap:round;stroke-linejoin:round;stroke:rgb(0%,0%,0%);stroke-opacity:1;stroke-miterlimit:10;\" d=\"M 207.601562 62.542969 C 207.601562 66.808594 201.199219 66.808594 201.199219 62.542969 C 201.199219 58.273438 207.601562 58.273438 207.601562 62.542969 \"/>\n",
       "</g>\n",
       "<path style=\"fill:none;stroke-width:1;stroke-linecap:round;stroke-linejoin:round;stroke:rgb(0%,0%,0%);stroke-opacity:1;stroke-miterlimit:10;\" d=\"M 207.601562 73.324219 C 207.601562 77.589844 201.199219 77.589844 201.199219 73.324219 C 201.199219 69.058594 207.601562 69.058594 207.601562 73.324219 \"/>\n",
       "<path style=\"fill:none;stroke-width:1;stroke-linecap:round;stroke-linejoin:round;stroke:rgb(0%,0%,0%);stroke-opacity:1;stroke-miterlimit:10;\" d=\"M 207.601562 65.09375 C 207.601562 69.359375 201.199219 69.359375 201.199219 65.09375 C 201.199219 60.824219 207.601562 60.824219 207.601562 65.09375 \"/>\n",
       "<path style=\"fill:none;stroke-width:1;stroke-linecap:round;stroke-linejoin:round;stroke:rgb(0%,0%,0%);stroke-opacity:1;stroke-miterlimit:10;\" d=\"M 207.601562 77.175781 C 207.601562 81.441406 201.199219 81.441406 201.199219 77.175781 C 201.199219 72.910156 207.601562 72.910156 207.601562 77.175781 \"/>\n",
       "<path style=\"fill:none;stroke-width:1;stroke-linecap:round;stroke-linejoin:round;stroke:rgb(0%,0%,0%);stroke-opacity:1;stroke-miterlimit:10;\" d=\"M 207.601562 67.980469 C 207.601562 72.246094 201.199219 72.246094 201.199219 67.980469 C 201.199219 63.714844 207.601562 63.714844 207.601562 67.980469 \"/>\n",
       "<path style=\"fill:none;stroke-width:1;stroke-linecap:round;stroke-linejoin:round;stroke:rgb(0%,0%,0%);stroke-opacity:1;stroke-miterlimit:10;\" d=\"M 207.601562 78.136719 C 207.601562 82.40625 201.199219 82.40625 201.199219 78.136719 C 201.199219 73.871094 207.601562 73.871094 207.601562 78.136719 \"/>\n",
       "<path style=\"fill:none;stroke-width:1;stroke-linecap:round;stroke-linejoin:round;stroke:rgb(0%,0%,0%);stroke-opacity:1;stroke-miterlimit:10;\" d=\"M 207.601562 76.933594 C 207.601562 81.203125 201.199219 81.203125 201.199219 76.933594 C 201.199219 72.667969 207.601562 72.667969 207.601562 76.933594 \"/>\n",
       "<path style=\"fill:none;stroke-width:1;stroke-linecap:round;stroke-linejoin:round;stroke:rgb(0%,0%,0%);stroke-opacity:1;stroke-miterlimit:10;\" d=\"M 207.601562 67.59375 C 207.601562 71.863281 201.199219 71.863281 201.199219 67.59375 C 201.199219 63.328125 207.601562 63.328125 207.601562 67.59375 \"/>\n",
       "<path style=\"fill:none;stroke-width:1;stroke-linecap:round;stroke-linejoin:round;stroke:rgb(0%,0%,0%);stroke-opacity:1;stroke-miterlimit:10;\" d=\"M 207.601562 64.753906 C 207.601562 69.023438 201.199219 69.023438 201.199219 64.753906 C 201.199219 60.488281 207.601562 60.488281 207.601562 64.753906 \"/>\n",
       "<path style=\"fill:none;stroke-width:1;stroke-linecap:round;stroke-linejoin:round;stroke:rgb(0%,0%,0%);stroke-opacity:1;stroke-miterlimit:10;\" d=\"M 207.601562 71.976562 C 207.601562 76.242188 201.199219 76.242188 201.199219 71.976562 C 201.199219 67.710938 207.601562 67.710938 207.601562 71.976562 \"/>\n",
       "<path style=\"fill:none;stroke-width:1;stroke-linecap:round;stroke-linejoin:round;stroke:rgb(0%,0%,0%);stroke-opacity:1;stroke-miterlimit:10;\" d=\"M 207.601562 71.496094 C 207.601562 75.761719 201.199219 75.761719 201.199219 71.496094 C 201.199219 67.226562 207.601562 67.226562 207.601562 71.496094 \"/>\n",
       "<path style=\"fill:none;stroke-width:1;stroke-linecap:round;stroke-linejoin:round;stroke:rgb(0%,0%,0%);stroke-opacity:1;stroke-miterlimit:10;\" d=\"M 207.601562 71.496094 C 207.601562 75.761719 201.199219 75.761719 201.199219 71.496094 C 201.199219 67.226562 207.601562 67.226562 207.601562 71.496094 \"/>\n",
       "<path style=\"fill:none;stroke-width:1;stroke-linecap:round;stroke-linejoin:round;stroke:rgb(0%,0%,0%);stroke-opacity:1;stroke-miterlimit:10;\" d=\"M 207.601562 64.226562 C 207.601562 68.492188 201.199219 68.492188 201.199219 64.226562 C 201.199219 59.960938 207.601562 59.960938 207.601562 64.226562 \"/>\n",
       "<path style=\"fill:none;stroke-width:1;stroke-linecap:round;stroke-linejoin:round;stroke:rgb(0%,0%,0%);stroke-opacity:1;stroke-miterlimit:10;\" d=\"M 207.601562 72.359375 C 207.601562 76.628906 201.199219 76.628906 201.199219 72.359375 C 201.199219 68.09375 207.601562 68.09375 207.601562 72.359375 \"/>\n",
       "<path style=\"fill:none;stroke-width:1;stroke-linecap:round;stroke-linejoin:round;stroke:rgb(0%,0%,0%);stroke-opacity:1;stroke-miterlimit:10;\" d=\"M 207.601562 70.195312 C 207.601562 74.460938 201.199219 74.460938 201.199219 70.195312 C 201.199219 65.929688 207.601562 65.929688 207.601562 70.195312 \"/>\n",
       "<path style=\"fill:none;stroke-width:1;stroke-linecap:round;stroke-linejoin:round;stroke:rgb(0%,0%,0%);stroke-opacity:1;stroke-miterlimit:10;\" d=\"M 207.601562 72.792969 C 207.601562 77.0625 201.199219 77.0625 201.199219 72.792969 C 201.199219 68.527344 207.601562 68.527344 207.601562 72.792969 \"/>\n",
       "<path style=\"fill:none;stroke-width:1;stroke-linecap:round;stroke-linejoin:round;stroke:rgb(0%,0%,0%);stroke-opacity:1;stroke-miterlimit:10;\" d=\"M 207.601562 78.136719 C 207.601562 82.40625 201.199219 82.40625 201.199219 78.136719 C 201.199219 73.871094 207.601562 73.871094 207.601562 78.136719 \"/>\n",
       "<path style=\" stroke:none;fill-rule:nonzero;fill:rgb(100%,100%,100%);fill-opacity:1;\" d=\"M 215.441406 131.675781 L 230.160156 131.675781 L 230.160156 111.140625 L 215.441406 111.140625 Z M 215.441406 131.675781 \"/>\n",
       "<path style=\"fill:none;stroke-width:3;stroke-linecap:butt;stroke-linejoin:round;stroke:rgb(0%,0%,0%);stroke-opacity:1;stroke-miterlimit:10;\" d=\"M 215.441406 124.003906 L 230.160156 124.003906 \"/>\n",
       "<path style=\"fill:none;stroke-width:1;stroke-linecap:round;stroke-linejoin:round;stroke:rgb(0%,0%,0%);stroke-opacity:1;stroke-dasharray:4,4;stroke-miterlimit:10;\" d=\"M 222.800781 139.464844 L 222.800781 131.675781 \"/>\n",
       "<path style=\"fill:none;stroke-width:1;stroke-linecap:round;stroke-linejoin:round;stroke:rgb(0%,0%,0%);stroke-opacity:1;stroke-dasharray:4,4;stroke-miterlimit:10;\" d=\"M 222.800781 80.480469 L 222.800781 111.140625 \"/>\n",
       "<path style=\"fill:none;stroke-width:1;stroke-linecap:round;stroke-linejoin:round;stroke:rgb(0%,0%,0%);stroke-opacity:1;stroke-miterlimit:10;\" d=\"M 219.121094 139.464844 L 226.480469 139.464844 \"/>\n",
       "<path style=\"fill:none;stroke-width:1;stroke-linecap:round;stroke-linejoin:round;stroke:rgb(0%,0%,0%);stroke-opacity:1;stroke-miterlimit:10;\" d=\"M 219.121094 80.480469 L 226.480469 80.480469 \"/>\n",
       "<path style=\"fill:none;stroke-width:1;stroke-linecap:round;stroke-linejoin:round;stroke:rgb(0%,0%,0%);stroke-opacity:1;stroke-miterlimit:10;\" d=\"M 215.441406 131.675781 L 230.160156 131.675781 L 230.160156 111.140625 L 215.441406 111.140625 L 215.441406 131.675781 \"/>\n",
       "<path style=\"fill:none;stroke-width:1;stroke-linecap:round;stroke-linejoin:round;stroke:rgb(0%,0%,0%);stroke-opacity:1;stroke-miterlimit:10;\" d=\"M 226 68.261719 C 226 72.53125 219.601562 72.53125 219.601562 68.261719 C 219.601562 63.996094 226 63.996094 226 68.261719 \"/>\n",
       "<path style=\"fill:none;stroke-width:1;stroke-linecap:round;stroke-linejoin:round;stroke:rgb(0%,0%,0%);stroke-opacity:1;stroke-miterlimit:10;\" d=\"M 226 67.136719 C 226 71.40625 219.601562 71.40625 219.601562 67.136719 C 219.601562 62.871094 226 62.871094 226 67.136719 \"/>\n",
       "<path style=\"fill:none;stroke-width:1;stroke-linecap:round;stroke-linejoin:round;stroke:rgb(0%,0%,0%);stroke-opacity:1;stroke-miterlimit:10;\" d=\"M 226 63.863281 C 226 68.132812 219.601562 68.132812 219.601562 63.863281 C 219.601562 59.597656 226 59.597656 226 63.863281 \"/>\n",
       "<path style=\"fill:none;stroke-width:1;stroke-linecap:round;stroke-linejoin:round;stroke:rgb(0%,0%,0%);stroke-opacity:1;stroke-miterlimit:10;\" d=\"M 226 78.28125 C 226 82.546875 219.601562 82.546875 219.601562 78.28125 C 219.601562 74.015625 226 74.015625 226 78.28125 \"/>\n",
       "<path style=\"fill:none;stroke-width:1;stroke-linecap:round;stroke-linejoin:round;stroke:rgb(0%,0%,0%);stroke-opacity:1;stroke-miterlimit:10;\" d=\"M 226 75.203125 C 226 79.46875 219.601562 79.46875 219.601562 75.203125 C 219.601562 70.9375 226 70.9375 226 75.203125 \"/>\n",
       "<path style=\"fill:none;stroke-width:1;stroke-linecap:round;stroke-linejoin:round;stroke:rgb(0%,0%,0%);stroke-opacity:1;stroke-miterlimit:10;\" d=\"M 226 78.332031 C 226 82.597656 219.601562 82.597656 219.601562 78.332031 C 219.601562 74.0625 226 74.0625 226 78.332031 \"/>\n",
       "<path style=\"fill:none;stroke-width:1;stroke-linecap:round;stroke-linejoin:round;stroke:rgb(0%,0%,0%);stroke-opacity:1;stroke-miterlimit:10;\" d=\"M 226 67.675781 C 226 71.941406 219.601562 71.941406 219.601562 67.675781 C 219.601562 63.410156 226 63.410156 226 67.675781 \"/>\n",
       "<g clip-path=\"url(#clip32)\" clip-rule=\"nonzero\">\n",
       "<path style=\"fill:none;stroke-width:1;stroke-linecap:round;stroke-linejoin:round;stroke:rgb(0%,0%,0%);stroke-opacity:1;stroke-miterlimit:10;\" d=\"M 226 62.9375 C 226 67.203125 219.601562 67.203125 219.601562 62.9375 C 219.601562 58.667969 226 58.667969 226 62.9375 \"/>\n",
       "</g>\n",
       "<path style=\"fill:none;stroke-width:1;stroke-linecap:round;stroke-linejoin:round;stroke:rgb(0%,0%,0%);stroke-opacity:1;stroke-miterlimit:10;\" d=\"M 226 75.445312 C 226 79.714844 219.601562 79.714844 219.601562 75.445312 C 219.601562 71.179688 226 71.179688 226 75.445312 \"/>\n",
       "<path style=\"fill:none;stroke-width:1;stroke-linecap:round;stroke-linejoin:round;stroke:rgb(0%,0%,0%);stroke-opacity:1;stroke-miterlimit:10;\" d=\"M 226 66.503906 C 226 70.769531 219.601562 70.769531 219.601562 66.503906 C 219.601562 62.238281 226 62.238281 226 66.503906 \"/>\n",
       "<path style=\"fill:none;stroke-width:1;stroke-linecap:round;stroke-linejoin:round;stroke:rgb(0%,0%,0%);stroke-opacity:1;stroke-miterlimit:10;\" d=\"M 226 78.625 C 226 82.890625 219.601562 82.890625 219.601562 78.625 C 219.601562 74.355469 226 74.355469 226 78.625 \"/>\n",
       "<path style=\"fill:none;stroke-width:1;stroke-linecap:round;stroke-linejoin:round;stroke:rgb(0%,0%,0%);stroke-opacity:1;stroke-miterlimit:10;\" d=\"M 226 68.847656 C 226 73.117188 219.601562 73.117188 219.601562 68.847656 C 219.601562 64.582031 226 64.582031 226 68.847656 \"/>\n",
       "<path style=\"fill:none;stroke-width:1;stroke-linecap:round;stroke-linejoin:round;stroke:rgb(0%,0%,0%);stroke-opacity:1;stroke-miterlimit:10;\" d=\"M 226 76.03125 C 226 80.300781 219.601562 80.300781 219.601562 76.03125 C 219.601562 71.765625 226 71.765625 226 76.03125 \"/>\n",
       "<path style=\"fill:none;stroke-width:1;stroke-linecap:round;stroke-linejoin:round;stroke:rgb(0%,0%,0%);stroke-opacity:1;stroke-miterlimit:10;\" d=\"M 226 70.804688 C 226 75.070312 219.601562 75.070312 219.601562 70.804688 C 219.601562 66.539062 226 66.539062 226 70.804688 \"/>\n",
       "<path style=\"fill:none;stroke-width:1;stroke-linecap:round;stroke-linejoin:round;stroke:rgb(0%,0%,0%);stroke-opacity:1;stroke-miterlimit:10;\" d=\"M 226 75.839844 C 226 80.105469 219.601562 80.105469 219.601562 75.839844 C 219.601562 71.570312 226 71.570312 226 75.839844 \"/>\n",
       "<path style=\"fill:none;stroke-width:1;stroke-linecap:round;stroke-linejoin:round;stroke:rgb(0%,0%,0%);stroke-opacity:1;stroke-miterlimit:10;\" d=\"M 226 69.386719 C 226 73.652344 219.601562 73.652344 219.601562 69.386719 C 219.601562 65.121094 226 65.121094 226 69.386719 \"/>\n",
       "<path style=\"fill:none;stroke-width:1;stroke-linecap:round;stroke-linejoin:round;stroke:rgb(0%,0%,0%);stroke-opacity:1;stroke-miterlimit:10;\" d=\"M 226 68.996094 C 226 73.261719 219.601562 73.261719 219.601562 68.996094 C 219.601562 64.730469 226 64.730469 226 68.996094 \"/>\n",
       "<path style=\"fill:none;stroke-width:1;stroke-linecap:round;stroke-linejoin:round;stroke:rgb(0%,0%,0%);stroke-opacity:1;stroke-miterlimit:10;\" d=\"M 226 68.261719 C 226 72.53125 219.601562 72.53125 219.601562 68.261719 C 219.601562 63.996094 226 63.996094 226 68.261719 \"/>\n",
       "<path style=\"fill:none;stroke-width:1;stroke-linecap:round;stroke-linejoin:round;stroke:rgb(0%,0%,0%);stroke-opacity:1;stroke-miterlimit:10;\" d=\"M 226 69.828125 C 226 74.09375 219.601562 74.09375 219.601562 69.828125 C 219.601562 65.558594 226 65.558594 226 69.828125 \"/>\n",
       "<path style=\"fill:none;stroke-width:1;stroke-linecap:round;stroke-linejoin:round;stroke:rgb(0%,0%,0%);stroke-opacity:1;stroke-miterlimit:10;\" d=\"M 226 78.769531 C 226 83.035156 219.601562 83.035156 219.601562 78.769531 C 219.601562 74.503906 226 74.503906 226 78.769531 \"/>\n",
       "<path style=\"fill:none;stroke-width:1;stroke-linecap:round;stroke-linejoin:round;stroke:rgb(0%,0%,0%);stroke-opacity:1;stroke-miterlimit:10;\" d=\"M 226 76.328125 C 226 80.59375 219.601562 80.59375 219.601562 76.328125 C 219.601562 72.058594 226 72.058594 226 76.328125 \"/>\n",
       "<path style=\"fill:none;stroke-width:1;stroke-linecap:round;stroke-linejoin:round;stroke:rgb(0%,0%,0%);stroke-opacity:1;stroke-miterlimit:10;\" d=\"M 226 70.65625 C 226 74.925781 219.601562 74.925781 219.601562 70.65625 C 219.601562 66.390625 226 66.390625 226 70.65625 \"/>\n",
       "<path style=\"fill:none;stroke-width:1;stroke-linecap:round;stroke-linejoin:round;stroke:rgb(0%,0%,0%);stroke-opacity:1;stroke-miterlimit:10;\" d=\"M 226 73.785156 C 226 78.050781 219.601562 78.050781 219.601562 73.785156 C 219.601562 69.519531 226 69.519531 226 73.785156 \"/>\n",
       "<path style=\"fill:none;stroke-width:1;stroke-linecap:round;stroke-linejoin:round;stroke:rgb(0%,0%,0%);stroke-opacity:1;stroke-miterlimit:10;\" d=\"M 226 73.835938 C 226 78.101562 219.601562 78.101562 219.601562 73.835938 C 219.601562 69.566406 226 69.566406 226 73.835938 \"/>\n",
       "<path style=\"fill:none;stroke-width:1;stroke-linecap:round;stroke-linejoin:round;stroke:rgb(0%,0%,0%);stroke-opacity:1;stroke-miterlimit:10;\" d=\"M 226 79.941406 C 226 84.210938 219.601562 84.210938 219.601562 79.941406 C 219.601562 75.675781 226 75.675781 226 79.941406 \"/>\n",
       "<path style=\"fill:none;stroke-width:1;stroke-linecap:round;stroke-linejoin:round;stroke:rgb(0%,0%,0%);stroke-opacity:1;stroke-miterlimit:10;\" d=\"M 226 63.816406 C 226 68.082031 219.601562 68.082031 219.601562 63.816406 C 219.601562 59.550781 226 59.550781 226 63.816406 \"/>\n",
       "<path style=\"fill:none;stroke-width:1;stroke-linecap:round;stroke-linejoin:round;stroke:rgb(0%,0%,0%);stroke-opacity:1;stroke-miterlimit:10;\" d=\"M 226 68.605469 C 226 72.871094 219.601562 72.871094 219.601562 68.605469 C 219.601562 64.339844 226 64.339844 226 68.605469 \"/>\n",
       "<path style=\"fill:none;stroke-width:1;stroke-linecap:round;stroke-linejoin:round;stroke:rgb(0%,0%,0%);stroke-opacity:1;stroke-miterlimit:10;\" d=\"M 226 80.136719 C 226 84.40625 219.601562 84.40625 219.601562 80.136719 C 219.601562 75.871094 226 75.871094 226 80.136719 \"/>\n",
       "<path style=\"fill:none;stroke-width:1;stroke-linecap:round;stroke-linejoin:round;stroke:rgb(0%,0%,0%);stroke-opacity:1;stroke-miterlimit:10;\" d=\"M 226 78.964844 C 226 83.230469 219.601562 83.230469 219.601562 78.964844 C 219.601562 74.699219 226 74.699219 226 78.964844 \"/>\n",
       "<path style=\"fill:none;stroke-width:1;stroke-linecap:round;stroke-linejoin:round;stroke:rgb(0%,0%,0%);stroke-opacity:1;stroke-miterlimit:10;\" d=\"M 226 63.914062 C 226 68.179688 219.601562 68.179688 219.601562 63.914062 C 219.601562 59.648438 226 59.648438 226 63.914062 \"/>\n",
       "<path style=\"fill:none;stroke-width:1;stroke-linecap:round;stroke-linejoin:round;stroke:rgb(0%,0%,0%);stroke-opacity:1;stroke-miterlimit:10;\" d=\"M 226 76.621094 C 226 80.886719 219.601562 80.886719 219.601562 76.621094 C 219.601562 72.351562 226 72.351562 226 76.621094 \"/>\n",
       "<path style=\"fill:none;stroke-width:1;stroke-linecap:round;stroke-linejoin:round;stroke:rgb(0%,0%,0%);stroke-opacity:1;stroke-miterlimit:10;\" d=\"M 226 75.742188 C 226 80.007812 219.601562 80.007812 219.601562 75.742188 C 219.601562 71.472656 226 71.472656 226 75.742188 \"/>\n",
       "<g clip-path=\"url(#clip33)\" clip-rule=\"nonzero\">\n",
       "<path style=\"fill:none;stroke-width:1;stroke-linecap:round;stroke-linejoin:round;stroke:rgb(0%,0%,0%);stroke-opacity:1;stroke-miterlimit:10;\" d=\"M 226 62.546875 C 226 66.8125 219.601562 66.8125 219.601562 62.546875 C 219.601562 58.277344 226 58.277344 226 62.546875 \"/>\n",
       "</g>\n",
       "<path style=\"fill:none;stroke-width:1;stroke-linecap:round;stroke-linejoin:round;stroke:rgb(0%,0%,0%);stroke-opacity:1;stroke-miterlimit:10;\" d=\"M 226 67.96875 C 226 72.238281 219.601562 72.238281 219.601562 67.96875 C 219.601562 63.703125 226 63.703125 226 67.96875 \"/>\n",
       "<path style=\"fill:none;stroke-width:1;stroke-linecap:round;stroke-linejoin:round;stroke:rgb(0%,0%,0%);stroke-opacity:1;stroke-miterlimit:10;\" d=\"M 226 74.859375 C 226 79.128906 219.601562 79.128906 219.601562 74.859375 C 219.601562 70.59375 226 70.59375 226 74.859375 \"/>\n",
       "<path style=\"fill:none;stroke-width:1;stroke-linecap:round;stroke-linejoin:round;stroke:rgb(0%,0%,0%);stroke-opacity:1;stroke-miterlimit:10;\" d=\"M 226 68.3125 C 226 72.578125 219.601562 72.578125 219.601562 68.3125 C 219.601562 64.046875 226 64.046875 226 68.3125 \"/>\n",
       "<path style=\"fill:none;stroke-width:1;stroke-linecap:round;stroke-linejoin:round;stroke:rgb(0%,0%,0%);stroke-opacity:1;stroke-miterlimit:10;\" d=\"M 226 74.175781 C 226 78.441406 219.601562 78.441406 219.601562 74.175781 C 219.601562 69.910156 226 69.910156 226 74.175781 \"/>\n",
       "<g clip-path=\"url(#clip34)\" clip-rule=\"nonzero\">\n",
       "<path style=\"fill:none;stroke-width:1;stroke-linecap:round;stroke-linejoin:round;stroke:rgb(0%,0%,0%);stroke-opacity:1;stroke-miterlimit:10;\" d=\"M 226 62.886719 C 226 67.152344 219.601562 67.152344 219.601562 62.886719 C 219.601562 58.621094 226 58.621094 226 62.886719 \"/>\n",
       "</g>\n",
       "<path style=\"fill:none;stroke-width:1;stroke-linecap:round;stroke-linejoin:round;stroke:rgb(0%,0%,0%);stroke-opacity:1;stroke-miterlimit:10;\" d=\"M 226 67.1875 C 226 71.453125 219.601562 71.453125 219.601562 67.1875 C 219.601562 62.921875 226 62.921875 226 67.1875 \"/>\n",
       "<g clip-path=\"url(#clip35)\" clip-rule=\"nonzero\">\n",
       "<path style=\"fill:none;stroke-width:1;stroke-linecap:round;stroke-linejoin:round;stroke:rgb(0%,0%,0%);stroke-opacity:1;stroke-miterlimit:10;\" d=\"M 226 63.328125 C 226 67.59375 219.601562 67.59375 219.601562 63.328125 C 219.601562 59.058594 226 59.058594 226 63.328125 \"/>\n",
       "</g>\n",
       "<path style=\"fill:none;stroke-width:1;stroke-linecap:round;stroke-linejoin:round;stroke:rgb(0%,0%,0%);stroke-opacity:1;stroke-miterlimit:10;\" d=\"M 226 65.671875 C 226 69.9375 219.601562 69.9375 219.601562 65.671875 C 219.601562 61.40625 226 61.40625 226 65.671875 \"/>\n",
       "<path style=\"fill:none;stroke-width:1;stroke-linecap:round;stroke-linejoin:round;stroke:rgb(0%,0%,0%);stroke-opacity:1;stroke-miterlimit:10;\" d=\"M 226 77.351562 C 226 81.621094 219.601562 81.621094 219.601562 77.351562 C 219.601562 73.085938 226 73.085938 226 77.351562 \"/>\n",
       "<path style=\"fill:none;stroke-width:1;stroke-linecap:round;stroke-linejoin:round;stroke:rgb(0%,0%,0%);stroke-opacity:1;stroke-miterlimit:10;\" d=\"M 226 71.195312 C 226 75.460938 219.601562 75.460938 219.601562 71.195312 C 219.601562 66.929688 226 66.929688 226 71.195312 \"/>\n",
       "<path style=\"fill:none;stroke-width:1;stroke-linecap:round;stroke-linejoin:round;stroke:rgb(0%,0%,0%);stroke-opacity:1;stroke-miterlimit:10;\" d=\"M 226 71.535156 C 226 75.804688 219.601562 75.804688 219.601562 71.535156 C 219.601562 67.269531 226 67.269531 226 71.535156 \"/>\n",
       "<path style=\"fill:none;stroke-width:1;stroke-linecap:round;stroke-linejoin:round;stroke:rgb(0%,0%,0%);stroke-opacity:1;stroke-miterlimit:10;\" d=\"M 226 72.125 C 226 76.390625 219.601562 76.390625 219.601562 72.125 C 219.601562 67.855469 226 67.855469 226 72.125 \"/>\n",
       "<path style=\"fill:none;stroke-width:1;stroke-linecap:round;stroke-linejoin:round;stroke:rgb(0%,0%,0%);stroke-opacity:1;stroke-miterlimit:10;\" d=\"M 226 65.917969 C 226 70.183594 219.601562 70.183594 219.601562 65.917969 C 219.601562 61.652344 226 61.652344 226 65.917969 \"/>\n",
       "<path style=\"fill:none;stroke-width:1;stroke-linecap:round;stroke-linejoin:round;stroke:rgb(0%,0%,0%);stroke-opacity:1;stroke-miterlimit:10;\" d=\"M 226 77.792969 C 226 82.058594 219.601562 82.058594 219.601562 77.792969 C 219.601562 73.527344 226 73.527344 226 77.792969 \"/>\n",
       "<path style=\"fill:none;stroke-width:1;stroke-linecap:round;stroke-linejoin:round;stroke:rgb(0%,0%,0%);stroke-opacity:1;stroke-miterlimit:10;\" d=\"M 226 73.101562 C 226 77.367188 219.601562 77.367188 219.601562 73.101562 C 219.601562 68.835938 226 68.835938 226 73.101562 \"/>\n",
       "<g clip-path=\"url(#clip36)\" clip-rule=\"nonzero\">\n",
       "<path style=\"fill:none;stroke-width:1;stroke-linecap:round;stroke-linejoin:round;stroke:rgb(0%,0%,0%);stroke-opacity:1;stroke-miterlimit:10;\" d=\"M 226 63.472656 C 226 67.742188 219.601562 67.742188 219.601562 63.472656 C 219.601562 59.207031 226 59.207031 226 63.472656 \"/>\n",
       "</g>\n",
       "<path style=\"fill:none;stroke-width:1;stroke-linecap:round;stroke-linejoin:round;stroke:rgb(0%,0%,0%);stroke-opacity:1;stroke-miterlimit:10;\" d=\"M 226 65.769531 C 226 70.039062 219.601562 70.039062 219.601562 65.769531 C 219.601562 61.503906 226 61.503906 226 65.769531 \"/>\n",
       "<path style=\"fill:none;stroke-width:1;stroke-linecap:round;stroke-linejoin:round;stroke:rgb(0%,0%,0%);stroke-opacity:1;stroke-miterlimit:10;\" d=\"M 226 79.355469 C 226 83.625 219.601562 83.625 219.601562 79.355469 C 219.601562 75.089844 226 75.089844 226 79.355469 \"/>\n",
       "<path style=\"fill:none;stroke-width:1;stroke-linecap:round;stroke-linejoin:round;stroke:rgb(0%,0%,0%);stroke-opacity:1;stroke-miterlimit:10;\" d=\"M 226 72.660156 C 226 76.929688 219.601562 76.929688 219.601562 72.660156 C 219.601562 68.394531 226 68.394531 226 72.660156 \"/>\n",
       "<path style=\" stroke:none;fill-rule:nonzero;fill:rgb(100%,100%,100%);fill-opacity:1;\" d=\"M 233.839844 131.234375 L 248.558594 131.234375 L 248.558594 110.75 L 233.839844 110.75 Z M 233.839844 131.234375 \"/>\n",
       "<path style=\"fill:none;stroke-width:3;stroke-linecap:butt;stroke-linejoin:round;stroke:rgb(0%,0%,0%);stroke-opacity:1;stroke-miterlimit:10;\" d=\"M 233.839844 123.898438 L 248.558594 123.898438 \"/>\n",
       "<path style=\"fill:none;stroke-width:1;stroke-linecap:round;stroke-linejoin:round;stroke:rgb(0%,0%,0%);stroke-opacity:1;stroke-dasharray:4,4;stroke-miterlimit:10;\" d=\"M 241.199219 139.464844 L 241.199219 131.234375 \"/>\n",
       "<path style=\"fill:none;stroke-width:1;stroke-linecap:round;stroke-linejoin:round;stroke:rgb(0%,0%,0%);stroke-opacity:1;stroke-dasharray:4,4;stroke-miterlimit:10;\" d=\"M 241.199219 80.074219 L 241.199219 110.75 \"/>\n",
       "<path style=\"fill:none;stroke-width:1;stroke-linecap:round;stroke-linejoin:round;stroke:rgb(0%,0%,0%);stroke-opacity:1;stroke-miterlimit:10;\" d=\"M 237.519531 139.464844 L 244.878906 139.464844 \"/>\n",
       "<path style=\"fill:none;stroke-width:1;stroke-linecap:round;stroke-linejoin:round;stroke:rgb(0%,0%,0%);stroke-opacity:1;stroke-miterlimit:10;\" d=\"M 237.519531 80.074219 L 244.878906 80.074219 \"/>\n",
       "<path style=\"fill:none;stroke-width:1;stroke-linecap:round;stroke-linejoin:round;stroke:rgb(0%,0%,0%);stroke-opacity:1;stroke-miterlimit:10;\" d=\"M 233.839844 131.234375 L 248.558594 131.234375 L 248.558594 110.75 L 233.839844 110.75 L 233.839844 131.234375 \"/>\n",
       "<path style=\"fill:none;stroke-width:1;stroke-linecap:round;stroke-linejoin:round;stroke:rgb(0%,0%,0%);stroke-opacity:1;stroke-miterlimit:10;\" d=\"M 244.398438 69.835938 C 244.398438 74.101562 238 74.101562 238 69.835938 C 238 65.566406 244.398438 65.566406 244.398438 69.835938 \"/>\n",
       "<path style=\"fill:none;stroke-width:1;stroke-linecap:round;stroke-linejoin:round;stroke:rgb(0%,0%,0%);stroke-opacity:1;stroke-miterlimit:10;\" d=\"M 244.398438 65.84375 C 244.398438 70.109375 238 70.109375 238 65.84375 C 238 61.578125 244.398438 61.578125 244.398438 65.84375 \"/>\n",
       "<path style=\"fill:none;stroke-width:1;stroke-linecap:round;stroke-linejoin:round;stroke:rgb(0%,0%,0%);stroke-opacity:1;stroke-miterlimit:10;\" d=\"M 244.398438 69.519531 C 244.398438 73.785156 238 73.785156 238 69.519531 C 238 65.253906 244.398438 65.253906 244.398438 69.519531 \"/>\n",
       "<path style=\"fill:none;stroke-width:1;stroke-linecap:round;stroke-linejoin:round;stroke:rgb(0%,0%,0%);stroke-opacity:1;stroke-miterlimit:10;\" d=\"M 244.398438 65.582031 C 244.398438 69.847656 238 69.847656 238 65.582031 C 238 61.316406 244.398438 61.316406 244.398438 65.582031 \"/>\n",
       "<path style=\"fill:none;stroke-width:1;stroke-linecap:round;stroke-linejoin:round;stroke:rgb(0%,0%,0%);stroke-opacity:1;stroke-miterlimit:10;\" d=\"M 244.398438 70.203125 C 244.398438 74.46875 238 74.46875 238 70.203125 C 238 65.933594 244.398438 65.933594 244.398438 70.203125 \"/>\n",
       "<path style=\"fill:none;stroke-width:1;stroke-linecap:round;stroke-linejoin:round;stroke:rgb(0%,0%,0%);stroke-opacity:1;stroke-miterlimit:10;\" d=\"M 244.398438 71.148438 C 244.398438 75.414062 238 75.414062 238 71.148438 C 238 66.882812 244.398438 66.882812 244.398438 71.148438 \"/>\n",
       "<path style=\"fill:none;stroke-width:1;stroke-linecap:round;stroke-linejoin:round;stroke:rgb(0%,0%,0%);stroke-opacity:1;stroke-miterlimit:10;\" d=\"M 244.398438 66.527344 C 244.398438 70.792969 238 70.792969 238 66.527344 C 238 62.257812 244.398438 62.257812 244.398438 66.527344 \"/>\n",
       "<path style=\"fill:none;stroke-width:1;stroke-linecap:round;stroke-linejoin:round;stroke:rgb(0%,0%,0%);stroke-opacity:1;stroke-miterlimit:10;\" d=\"M 244.398438 72.984375 C 244.398438 77.25 238 77.25 238 72.984375 C 238 68.71875 244.398438 68.71875 244.398438 72.984375 \"/>\n",
       "<g clip-path=\"url(#clip37)\" clip-rule=\"nonzero\">\n",
       "<path style=\"fill:none;stroke-width:1;stroke-linecap:round;stroke-linejoin:round;stroke:rgb(0%,0%,0%);stroke-opacity:1;stroke-miterlimit:10;\" d=\"M 244.398438 63.324219 C 244.398438 67.589844 238 67.589844 238 63.324219 C 238 59.054688 244.398438 59.054688 244.398438 63.324219 \"/>\n",
       "</g>\n",
       "<g clip-path=\"url(#clip38)\" clip-rule=\"nonzero\">\n",
       "<path style=\"fill:none;stroke-width:1;stroke-linecap:round;stroke-linejoin:round;stroke:rgb(0%,0%,0%);stroke-opacity:1;stroke-miterlimit:10;\" d=\"M 244.398438 62.324219 C 244.398438 66.59375 238 66.59375 238 62.324219 C 238 58.058594 244.398438 58.058594 244.398438 62.324219 \"/>\n",
       "</g>\n",
       "<path style=\"fill:none;stroke-width:1;stroke-linecap:round;stroke-linejoin:round;stroke:rgb(0%,0%,0%);stroke-opacity:1;stroke-miterlimit:10;\" d=\"M 244.398438 72.144531 C 244.398438 76.410156 238 76.410156 238 72.144531 C 238 67.878906 244.398438 67.878906 244.398438 72.144531 \"/>\n",
       "<path style=\"fill:none;stroke-width:1;stroke-linecap:round;stroke-linejoin:round;stroke:rgb(0%,0%,0%);stroke-opacity:1;stroke-miterlimit:10;\" d=\"M 244.398438 65.054688 C 244.398438 69.324219 238 69.324219 238 65.054688 C 238 60.789062 244.398438 60.789062 244.398438 65.054688 \"/>\n",
       "<path style=\"fill:none;stroke-width:1;stroke-linecap:round;stroke-linejoin:round;stroke:rgb(0%,0%,0%);stroke-opacity:1;stroke-miterlimit:10;\" d=\"M 244.398438 66.105469 C 244.398438 70.371094 238 70.371094 238 66.105469 C 238 61.839844 244.398438 61.839844 244.398438 66.105469 \"/>\n",
       "<path style=\"fill:none;stroke-width:1;stroke-linecap:round;stroke-linejoin:round;stroke:rgb(0%,0%,0%);stroke-opacity:1;stroke-miterlimit:10;\" d=\"M 244.398438 65.054688 C 244.398438 69.324219 238 69.324219 238 65.054688 C 238 60.789062 244.398438 60.789062 244.398438 65.054688 \"/>\n",
       "<path style=\"fill:none;stroke-width:1;stroke-linecap:round;stroke-linejoin:round;stroke:rgb(0%,0%,0%);stroke-opacity:1;stroke-miterlimit:10;\" d=\"M 244.398438 72.460938 C 244.398438 76.726562 238 76.726562 238 72.460938 C 238 68.195312 244.398438 68.195312 244.398438 72.460938 \"/>\n",
       "<path style=\"fill:none;stroke-width:1;stroke-linecap:round;stroke-linejoin:round;stroke:rgb(0%,0%,0%);stroke-opacity:1;stroke-miterlimit:10;\" d=\"M 244.398438 68.101562 C 244.398438 72.367188 238 72.367188 238 68.101562 C 238 63.835938 244.398438 63.835938 244.398438 68.101562 \"/>\n",
       "<path style=\"fill:none;stroke-width:1;stroke-linecap:round;stroke-linejoin:round;stroke:rgb(0%,0%,0%);stroke-opacity:1;stroke-miterlimit:10;\" d=\"M 244.398438 73.25 C 244.398438 77.515625 238 77.515625 238 73.25 C 238 68.980469 244.398438 68.980469 244.398438 73.25 \"/>\n",
       "<path style=\"fill:none;stroke-width:1;stroke-linecap:round;stroke-linejoin:round;stroke:rgb(0%,0%,0%);stroke-opacity:1;stroke-miterlimit:10;\" d=\"M 244.398438 66.472656 C 244.398438 70.742188 238 70.742188 238 66.472656 C 238 62.207031 244.398438 62.207031 244.398438 66.472656 \"/>\n",
       "<path style=\"fill:none;stroke-width:1;stroke-linecap:round;stroke-linejoin:round;stroke:rgb(0%,0%,0%);stroke-opacity:1;stroke-miterlimit:10;\" d=\"M 244.398438 73.5625 C 244.398438 77.828125 238 77.828125 238 73.5625 C 238 69.296875 244.398438 69.296875 244.398438 73.5625 \"/>\n",
       "<path style=\"fill:none;stroke-width:1;stroke-linecap:round;stroke-linejoin:round;stroke:rgb(0%,0%,0%);stroke-opacity:1;stroke-miterlimit:10;\" d=\"M 244.398438 65.371094 C 244.398438 69.636719 238 69.636719 238 65.371094 C 238 61.105469 244.398438 61.105469 244.398438 65.371094 \"/>\n",
       "<path style=\"fill:none;stroke-width:1;stroke-linecap:round;stroke-linejoin:round;stroke:rgb(0%,0%,0%);stroke-opacity:1;stroke-miterlimit:10;\" d=\"M 244.398438 74.140625 C 244.398438 78.40625 238 78.40625 238 74.140625 C 238 69.875 244.398438 69.875 244.398438 74.140625 \"/>\n",
       "<path style=\"fill:none;stroke-width:1;stroke-linecap:round;stroke-linejoin:round;stroke:rgb(0%,0%,0%);stroke-opacity:1;stroke-miterlimit:10;\" d=\"M 244.398438 70.726562 C 244.398438 74.992188 238 74.992188 238 70.726562 C 238 66.460938 244.398438 66.460938 244.398438 70.726562 \"/>\n",
       "<path style=\"fill:none;stroke-width:1;stroke-linecap:round;stroke-linejoin:round;stroke:rgb(0%,0%,0%);stroke-opacity:1;stroke-miterlimit:10;\" d=\"M 244.398438 75.191406 C 244.398438 79.457031 238 79.457031 238 75.191406 C 238 70.925781 244.398438 70.925781 244.398438 75.191406 \"/>\n",
       "<path style=\"fill:none;stroke-width:1;stroke-linecap:round;stroke-linejoin:round;stroke:rgb(0%,0%,0%);stroke-opacity:1;stroke-miterlimit:10;\" d=\"M 244.398438 78.761719 C 244.398438 83.027344 238 83.027344 238 78.761719 C 238 74.496094 244.398438 74.496094 244.398438 78.761719 \"/>\n",
       "<g clip-path=\"url(#clip39)\" clip-rule=\"nonzero\">\n",
       "<path style=\"fill:none;stroke-width:1;stroke-linecap:round;stroke-linejoin:round;stroke:rgb(0%,0%,0%);stroke-opacity:1;stroke-miterlimit:10;\" d=\"M 244.398438 63.691406 C 244.398438 67.957031 238 67.957031 238 63.691406 C 238 59.425781 244.398438 59.425781 244.398438 63.691406 \"/>\n",
       "</g>\n",
       "<path style=\"fill:none;stroke-width:1;stroke-linecap:round;stroke-linejoin:round;stroke:rgb(0%,0%,0%);stroke-opacity:1;stroke-miterlimit:10;\" d=\"M 244.398438 76.136719 C 244.398438 80.402344 238 80.402344 238 76.136719 C 238 71.871094 244.398438 71.871094 244.398438 76.136719 \"/>\n",
       "<path style=\"fill:none;stroke-width:1;stroke-linecap:round;stroke-linejoin:round;stroke:rgb(0%,0%,0%);stroke-opacity:1;stroke-miterlimit:10;\" d=\"M 244.398438 73.039062 C 244.398438 77.304688 238 77.304688 238 73.039062 C 238 68.769531 244.398438 68.769531 244.398438 73.039062 \"/>\n",
       "<path style=\"fill:none;stroke-width:1;stroke-linecap:round;stroke-linejoin:round;stroke:rgb(0%,0%,0%);stroke-opacity:1;stroke-miterlimit:10;\" d=\"M 244.398438 76.292969 C 244.398438 80.558594 238 80.558594 238 76.292969 C 238 72.027344 244.398438 72.027344 244.398438 76.292969 \"/>\n",
       "<path style=\"fill:none;stroke-width:1;stroke-linecap:round;stroke-linejoin:round;stroke:rgb(0%,0%,0%);stroke-opacity:1;stroke-miterlimit:10;\" d=\"M 244.398438 79.8125 C 244.398438 84.078125 238 84.078125 238 79.8125 C 238 75.546875 244.398438 75.546875 244.398438 79.8125 \"/>\n",
       "<path style=\"fill:none;stroke-width:1;stroke-linecap:round;stroke-linejoin:round;stroke:rgb(0%,0%,0%);stroke-opacity:1;stroke-miterlimit:10;\" d=\"M 244.398438 66.734375 C 244.398438 71.003906 238 71.003906 238 66.734375 C 238 62.46875 244.398438 62.46875 244.398438 66.734375 \"/>\n",
       "<path style=\"fill:none;stroke-width:1;stroke-linecap:round;stroke-linejoin:round;stroke:rgb(0%,0%,0%);stroke-opacity:1;stroke-miterlimit:10;\" d=\"M 244.398438 72.566406 C 244.398438 76.832031 238 76.832031 238 72.566406 C 238 68.296875 244.398438 68.296875 244.398438 72.566406 \"/>\n",
       "<path style=\"fill:none;stroke-width:1;stroke-linecap:round;stroke-linejoin:round;stroke:rgb(0%,0%,0%);stroke-opacity:1;stroke-miterlimit:10;\" d=\"M 244.398438 73.511719 C 244.398438 77.777344 238 77.777344 238 73.511719 C 238 69.242188 244.398438 69.242188 244.398438 73.511719 \"/>\n",
       "<path style=\"fill:none;stroke-width:1;stroke-linecap:round;stroke-linejoin:round;stroke:rgb(0%,0%,0%);stroke-opacity:1;stroke-miterlimit:10;\" d=\"M 244.398438 78.238281 C 244.398438 82.503906 238 82.503906 238 78.238281 C 238 73.96875 244.398438 73.96875 244.398438 78.238281 \"/>\n",
       "<path style=\"fill:none;stroke-width:1;stroke-linecap:round;stroke-linejoin:round;stroke:rgb(0%,0%,0%);stroke-opacity:1;stroke-miterlimit:10;\" d=\"M 244.398438 71.042969 C 244.398438 75.308594 238 75.308594 238 71.042969 C 238 66.777344 244.398438 66.777344 244.398438 71.042969 \"/>\n",
       "<path style=\"fill:none;stroke-width:1;stroke-linecap:round;stroke-linejoin:round;stroke:rgb(0%,0%,0%);stroke-opacity:1;stroke-miterlimit:10;\" d=\"M 244.398438 78.816406 C 244.398438 83.082031 238 83.082031 238 78.816406 C 238 74.546875 244.398438 74.546875 244.398438 78.816406 \"/>\n",
       "<path style=\"fill:none;stroke-width:1;stroke-linecap:round;stroke-linejoin:round;stroke:rgb(0%,0%,0%);stroke-opacity:1;stroke-miterlimit:10;\" d=\"M 244.398438 76.871094 C 244.398438 81.136719 238 81.136719 238 76.871094 C 238 72.605469 244.398438 72.605469 244.398438 76.871094 \"/>\n",
       "<g clip-path=\"url(#clip40)\" clip-rule=\"nonzero\">\n",
       "<path style=\"fill:none;stroke-width:1;stroke-linecap:round;stroke-linejoin:round;stroke:rgb(0%,0%,0%);stroke-opacity:1;stroke-miterlimit:10;\" d=\"M 244.398438 62.957031 C 244.398438 67.222656 238 67.222656 238 62.957031 C 238 58.6875 244.398438 58.6875 244.398438 62.957031 \"/>\n",
       "</g>\n",
       "<path style=\"fill:none;stroke-width:1;stroke-linecap:round;stroke-linejoin:round;stroke:rgb(0%,0%,0%);stroke-opacity:1;stroke-miterlimit:10;\" d=\"M 244.398438 64.164062 C 244.398438 68.429688 238 68.429688 238 64.164062 C 238 59.898438 244.398438 59.898438 244.398438 64.164062 \"/>\n",
       "<path style=\"fill:none;stroke-width:1;stroke-linecap:round;stroke-linejoin:round;stroke:rgb(0%,0%,0%);stroke-opacity:1;stroke-miterlimit:10;\" d=\"M 244.398438 72.355469 C 244.398438 76.621094 238 76.621094 238 72.355469 C 238 68.089844 244.398438 68.089844 244.398438 72.355469 \"/>\n",
       "<path style=\"fill:none;stroke-width:1;stroke-linecap:round;stroke-linejoin:round;stroke:rgb(0%,0%,0%);stroke-opacity:1;stroke-miterlimit:10;\" d=\"M 244.398438 76.292969 C 244.398438 80.558594 238 80.558594 238 76.292969 C 238 72.027344 244.398438 72.027344 244.398438 76.292969 \"/>\n",
       "<path style=\"fill:none;stroke-width:1;stroke-linecap:round;stroke-linejoin:round;stroke:rgb(0%,0%,0%);stroke-opacity:1;stroke-miterlimit:10;\" d=\"M 244.398438 72.300781 C 244.398438 76.570312 238 76.570312 238 72.300781 C 238 68.035156 244.398438 68.035156 244.398438 72.300781 \"/>\n",
       "<g clip-path=\"url(#clip41)\" clip-rule=\"nonzero\">\n",
       "<path style=\"fill:none;stroke-width:1;stroke-linecap:round;stroke-linejoin:round;stroke:rgb(0%,0%,0%);stroke-opacity:1;stroke-miterlimit:10;\" d=\"M 244.398438 63.113281 C 244.398438 67.378906 238 67.378906 238 63.113281 C 238 58.847656 244.398438 58.847656 244.398438 63.113281 \"/>\n",
       "</g>\n",
       "<path style=\"fill:none;stroke-width:1;stroke-linecap:round;stroke-linejoin:round;stroke:rgb(0%,0%,0%);stroke-opacity:1;stroke-miterlimit:10;\" d=\"M 244.398438 79.496094 C 244.398438 83.765625 238 83.765625 238 79.496094 C 238 75.230469 244.398438 75.230469 244.398438 79.496094 \"/>\n",
       "<path style=\"fill:none;stroke-width:1;stroke-linecap:round;stroke-linejoin:round;stroke:rgb(0%,0%,0%);stroke-opacity:1;stroke-miterlimit:10;\" d=\"M 244.398438 71.042969 C 244.398438 75.308594 238 75.308594 238 71.042969 C 238 66.777344 244.398438 66.777344 244.398438 71.042969 \"/>\n",
       "<path style=\"fill:none;stroke-width:1;stroke-linecap:round;stroke-linejoin:round;stroke:rgb(0%,0%,0%);stroke-opacity:1;stroke-miterlimit:10;\" d=\"M 244.398438 68.996094 C 244.398438 73.261719 238 73.261719 238 68.996094 C 238 64.726562 244.398438 64.726562 244.398438 68.996094 \"/>\n",
       "<path style=\"fill:none;stroke-width:1;stroke-linecap:round;stroke-linejoin:round;stroke:rgb(0%,0%,0%);stroke-opacity:1;stroke-miterlimit:10;\" d=\"M 244.398438 79.550781 C 244.398438 83.816406 238 83.816406 238 79.550781 C 238 75.28125 244.398438 75.28125 244.398438 79.550781 \"/>\n",
       "<path style=\"fill:none;stroke-width:1;stroke-linecap:round;stroke-linejoin:round;stroke:rgb(0%,0%,0%);stroke-opacity:1;stroke-miterlimit:10;\" d=\"M 244.398438 68.363281 C 244.398438 72.632812 238 72.632812 238 68.363281 C 238 64.097656 244.398438 64.097656 244.398438 68.363281 \"/>\n",
       "<path style=\"fill:none;stroke-width:1;stroke-linecap:round;stroke-linejoin:round;stroke:rgb(0%,0%,0%);stroke-opacity:1;stroke-miterlimit:10;\" d=\"M 244.398438 65.527344 C 244.398438 69.796875 238 69.796875 238 65.527344 C 238 61.261719 244.398438 61.261719 244.398438 65.527344 \"/>\n",
       "<path style=\"fill:none;stroke-width:1;stroke-linecap:round;stroke-linejoin:round;stroke:rgb(0%,0%,0%);stroke-opacity:1;stroke-miterlimit:10;\" d=\"M 244.398438 65.527344 C 244.398438 69.796875 238 69.796875 238 65.527344 C 238 61.261719 244.398438 61.261719 244.398438 65.527344 \"/>\n",
       "<path style=\"fill:none;stroke-width:1;stroke-linecap:round;stroke-linejoin:round;stroke:rgb(0%,0%,0%);stroke-opacity:1;stroke-miterlimit:10;\" d=\"M 244.398438 66.578125 C 244.398438 70.84375 238 70.84375 238 66.578125 C 238 62.3125 244.398438 62.3125 244.398438 66.578125 \"/>\n",
       "<path style=\"fill:none;stroke-width:1;stroke-linecap:round;stroke-linejoin:round;stroke:rgb(0%,0%,0%);stroke-opacity:1;stroke-miterlimit:10;\" d=\"M 244.398438 74.613281 C 244.398438 78.878906 238 78.878906 238 74.613281 C 238 70.347656 244.398438 70.347656 244.398438 74.613281 \"/>\n",
       "<path style=\"fill:none;stroke-width:1;stroke-linecap:round;stroke-linejoin:round;stroke:rgb(0%,0%,0%);stroke-opacity:1;stroke-miterlimit:10;\" d=\"M 244.398438 75.453125 C 244.398438 79.71875 238 79.71875 238 75.453125 C 238 71.1875 244.398438 71.1875 244.398438 75.453125 \"/>\n",
       "<path style=\"fill:none;stroke-width:1;stroke-linecap:round;stroke-linejoin:round;stroke:rgb(0%,0%,0%);stroke-opacity:1;stroke-miterlimit:10;\" d=\"M 244.398438 74.824219 C 244.398438 79.089844 238 79.089844 238 74.824219 C 238 70.558594 244.398438 70.558594 244.398438 74.824219 \"/>\n",
       "<path style=\"fill:none;stroke-width:1;stroke-linecap:round;stroke-linejoin:round;stroke:rgb(0%,0%,0%);stroke-opacity:1;stroke-miterlimit:10;\" d=\"M 244.398438 78.972656 C 244.398438 83.238281 238 83.238281 238 78.972656 C 238 74.707031 244.398438 74.707031 244.398438 78.972656 \"/>\n",
       "<path style=\"fill:none;stroke-width:1;stroke-linecap:round;stroke-linejoin:round;stroke:rgb(0%,0%,0%);stroke-opacity:1;stroke-miterlimit:10;\" d=\"M 244.398438 68.574219 C 244.398438 72.839844 238 72.839844 238 68.574219 C 238 64.308594 244.398438 64.308594 244.398438 68.574219 \"/>\n",
       "<path style=\"fill:none;stroke-width:1;stroke-linecap:round;stroke-linejoin:round;stroke:rgb(0%,0%,0%);stroke-opacity:1;stroke-miterlimit:10;\" d=\"M 75.601562 142.558594 L 241.199219 142.558594 \"/>\n",
       "<path style=\"fill:none;stroke-width:1;stroke-linecap:round;stroke-linejoin:round;stroke:rgb(0%,0%,0%);stroke-opacity:1;stroke-miterlimit:10;\" d=\"M 75.601562 142.558594 L 75.601562 149.761719 \"/>\n",
       "<path style=\"fill:none;stroke-width:1;stroke-linecap:round;stroke-linejoin:round;stroke:rgb(0%,0%,0%);stroke-opacity:1;stroke-miterlimit:10;\" d=\"M 94 142.558594 L 94 149.761719 \"/>\n",
       "<path style=\"fill:none;stroke-width:1;stroke-linecap:round;stroke-linejoin:round;stroke:rgb(0%,0%,0%);stroke-opacity:1;stroke-miterlimit:10;\" d=\"M 112.398438 142.558594 L 112.398438 149.761719 \"/>\n",
       "<path style=\"fill:none;stroke-width:1;stroke-linecap:round;stroke-linejoin:round;stroke:rgb(0%,0%,0%);stroke-opacity:1;stroke-miterlimit:10;\" d=\"M 130.800781 142.558594 L 130.800781 149.761719 \"/>\n",
       "<path style=\"fill:none;stroke-width:1;stroke-linecap:round;stroke-linejoin:round;stroke:rgb(0%,0%,0%);stroke-opacity:1;stroke-miterlimit:10;\" d=\"M 149.199219 142.558594 L 149.199219 149.761719 \"/>\n",
       "<path style=\"fill:none;stroke-width:1;stroke-linecap:round;stroke-linejoin:round;stroke:rgb(0%,0%,0%);stroke-opacity:1;stroke-miterlimit:10;\" d=\"M 167.601562 142.558594 L 167.601562 149.761719 \"/>\n",
       "<path style=\"fill:none;stroke-width:1;stroke-linecap:round;stroke-linejoin:round;stroke:rgb(0%,0%,0%);stroke-opacity:1;stroke-miterlimit:10;\" d=\"M 186 142.558594 L 186 149.761719 \"/>\n",
       "<path style=\"fill:none;stroke-width:1;stroke-linecap:round;stroke-linejoin:round;stroke:rgb(0%,0%,0%);stroke-opacity:1;stroke-miterlimit:10;\" d=\"M 204.398438 142.558594 L 204.398438 149.761719 \"/>\n",
       "<path style=\"fill:none;stroke-width:1;stroke-linecap:round;stroke-linejoin:round;stroke:rgb(0%,0%,0%);stroke-opacity:1;stroke-miterlimit:10;\" d=\"M 222.800781 142.558594 L 222.800781 149.761719 \"/>\n",
       "<path style=\"fill:none;stroke-width:1;stroke-linecap:round;stroke-linejoin:round;stroke:rgb(0%,0%,0%);stroke-opacity:1;stroke-miterlimit:10;\" d=\"M 241.199219 142.558594 L 241.199219 149.761719 \"/>\n",
       "<g style=\"fill:rgb(0%,0%,0%);fill-opacity:1;\">\n",
       "  <use xlink:href=\"#glyph0-1\" x=\"6.828125\" y=\"169.921875\"/>\n",
       "  <use xlink:href=\"#glyph0-2\" x=\"15.165649\" y=\"169.921875\"/>\n",
       "  <use xlink:href=\"#glyph0-3\" x=\"19.328171\" y=\"169.921875\"/>\n",
       "  <use xlink:href=\"#glyph0-4\" x=\"26.278198\" y=\"169.921875\"/>\n",
       "  <use xlink:href=\"#glyph0-5\" x=\"33.228226\" y=\"169.921875\"/>\n",
       "  <use xlink:href=\"#glyph0-6\" x=\"36.703232\" y=\"169.921875\"/>\n",
       "  <use xlink:href=\"#glyph0-7\" x=\"44.340759\" y=\"169.921875\"/>\n",
       "  <use xlink:href=\"#glyph0-8\" x=\"51.290787\" y=\"169.921875\"/>\n",
       "  <use xlink:href=\"#glyph0-9\" x=\"58.240814\" y=\"169.921875\"/>\n",
       "  <use xlink:href=\"#glyph0-6\" x=\"65.190842\" y=\"169.921875\"/>\n",
       "  <use xlink:href=\"#glyph0-10\" x=\"72.828369\" y=\"169.921875\"/>\n",
       "  <use xlink:href=\"#glyph0-5\" x=\"79.778397\" y=\"169.921875\"/>\n",
       "  <use xlink:href=\"#glyph0-11\" x=\"83.253403\" y=\"169.921875\"/>\n",
       "  <use xlink:href=\"#glyph0-12\" x=\"90.20343\" y=\"169.921875\"/>\n",
       "  <use xlink:href=\"#glyph0-2\" x=\"97.153458\" y=\"169.921875\"/>\n",
       "  <use xlink:href=\"#glyph0-13\" x=\"101.315979\" y=\"169.921875\"/>\n",
       "  <use xlink:href=\"#glyph0-4\" x=\"111.728516\" y=\"169.921875\"/>\n",
       "  <use xlink:href=\"#glyph0-14\" x=\"118.678543\" y=\"169.921875\"/>\n",
       "  <use xlink:href=\"#glyph0-15\" x=\"121.453552\" y=\"169.921875\"/>\n",
       "  <use xlink:href=\"#glyph0-16\" x=\"124.228561\" y=\"169.921875\"/>\n",
       "  <use xlink:href=\"#glyph0-3\" x=\"130.478592\" y=\"169.921875\"/>\n",
       "  <use xlink:href=\"#glyph0-17\" x=\"137.428619\" y=\"169.921875\"/>\n",
       "</g>\n",
       "<g style=\"fill:rgb(0%,0%,0%);fill-opacity:1;\">\n",
       "  <use xlink:href=\"#glyph0-1\" x=\"163.742188\" y=\"169.921875\"/>\n",
       "  <use xlink:href=\"#glyph0-2\" x=\"172.079712\" y=\"169.921875\"/>\n",
       "  <use xlink:href=\"#glyph0-3\" x=\"176.242233\" y=\"169.921875\"/>\n",
       "  <use xlink:href=\"#glyph0-4\" x=\"183.192261\" y=\"169.921875\"/>\n",
       "  <use xlink:href=\"#glyph0-5\" x=\"190.142288\" y=\"169.921875\"/>\n",
       "  <use xlink:href=\"#glyph0-6\" x=\"193.617294\" y=\"169.921875\"/>\n",
       "  <use xlink:href=\"#glyph0-7\" x=\"201.254822\" y=\"169.921875\"/>\n",
       "  <use xlink:href=\"#glyph0-8\" x=\"208.204849\" y=\"169.921875\"/>\n",
       "  <use xlink:href=\"#glyph0-18\" x=\"215.154877\" y=\"169.921875\"/>\n",
       "  <use xlink:href=\"#glyph0-9\" x=\"225.567413\" y=\"169.921875\"/>\n",
       "  <use xlink:href=\"#glyph0-6\" x=\"232.517441\" y=\"169.921875\"/>\n",
       "  <use xlink:href=\"#glyph0-10\" x=\"240.154968\" y=\"169.921875\"/>\n",
       "  <use xlink:href=\"#glyph0-19\" x=\"247.104996\" y=\"169.921875\"/>\n",
       "  <use xlink:href=\"#glyph0-5\" x=\"254.055023\" y=\"169.921875\"/>\n",
       "  <use xlink:href=\"#glyph0-11\" x=\"257.530029\" y=\"169.921875\"/>\n",
       "  <use xlink:href=\"#glyph0-12\" x=\"264.480057\" y=\"169.921875\"/>\n",
       "  <use xlink:href=\"#glyph0-2\" x=\"271.430084\" y=\"169.921875\"/>\n",
       "  <use xlink:href=\"#glyph0-13\" x=\"275.592606\" y=\"169.921875\"/>\n",
       "  <use xlink:href=\"#glyph0-4\" x=\"286.005142\" y=\"169.921875\"/>\n",
       "  <use xlink:href=\"#glyph0-14\" x=\"292.95517\" y=\"169.921875\"/>\n",
       "  <use xlink:href=\"#glyph0-15\" x=\"295.730179\" y=\"169.921875\"/>\n",
       "  <use xlink:href=\"#glyph0-16\" x=\"298.505188\" y=\"169.921875\"/>\n",
       "  <use xlink:href=\"#glyph0-3\" x=\"304.755219\" y=\"169.921875\"/>\n",
       "  <use xlink:href=\"#glyph0-17\" x=\"311.705246\" y=\"169.921875\"/>\n",
       "</g>\n",
       "<path style=\"fill:none;stroke-width:1;stroke-linecap:round;stroke-linejoin:round;stroke:rgb(0%,0%,0%);stroke-opacity:1;stroke-miterlimit:10;\" d=\"M 59.039062 139.464844 L 59.039062 62.070312 \"/>\n",
       "<path style=\"fill:none;stroke-width:1;stroke-linecap:round;stroke-linejoin:round;stroke:rgb(0%,0%,0%);stroke-opacity:1;stroke-miterlimit:10;\" d=\"M 59.039062 139.464844 L 51.839844 139.464844 \"/>\n",
       "<path style=\"fill:none;stroke-width:1;stroke-linecap:round;stroke-linejoin:round;stroke:rgb(0%,0%,0%);stroke-opacity:1;stroke-miterlimit:10;\" d=\"M 59.039062 123.988281 L 51.839844 123.988281 \"/>\n",
       "<path style=\"fill:none;stroke-width:1;stroke-linecap:round;stroke-linejoin:round;stroke:rgb(0%,0%,0%);stroke-opacity:1;stroke-miterlimit:10;\" d=\"M 59.039062 108.507812 L 51.839844 108.507812 \"/>\n",
       "<path style=\"fill:none;stroke-width:1;stroke-linecap:round;stroke-linejoin:round;stroke:rgb(0%,0%,0%);stroke-opacity:1;stroke-miterlimit:10;\" d=\"M 59.039062 93.027344 L 51.839844 93.027344 \"/>\n",
       "<path style=\"fill:none;stroke-width:1;stroke-linecap:round;stroke-linejoin:round;stroke:rgb(0%,0%,0%);stroke-opacity:1;stroke-miterlimit:10;\" d=\"M 59.039062 77.550781 L 51.839844 77.550781 \"/>\n",
       "<path style=\"fill:none;stroke-width:1;stroke-linecap:round;stroke-linejoin:round;stroke:rgb(0%,0%,0%);stroke-opacity:1;stroke-miterlimit:10;\" d=\"M 59.039062 62.070312 L 51.839844 62.070312 \"/>\n",
       "<g style=\"fill:rgb(0%,0%,0%);fill-opacity:1;\">\n",
       "  <use xlink:href=\"#glyph1-1\" x=\"43.199219\" y=\"142.941406\"/>\n",
       "</g>\n",
       "<g style=\"fill:rgb(0%,0%,0%);fill-opacity:1;\">\n",
       "  <use xlink:href=\"#glyph1-2\" x=\"43.199219\" y=\"118.933594\"/>\n",
       "  <use xlink:href=\"#glyph1-1\" x=\"43.199219\" y=\"111.983566\"/>\n",
       "  <use xlink:href=\"#glyph1-1\" x=\"43.199219\" y=\"105.033539\"/>\n",
       "</g>\n",
       "<g style=\"fill:rgb(0%,0%,0%);fill-opacity:1;\">\n",
       "  <use xlink:href=\"#glyph1-3\" x=\"43.199219\" y=\"75.96875\"/>\n",
       "  <use xlink:href=\"#glyph1-1\" x=\"43.199219\" y=\"69.018723\"/>\n",
       "  <use xlink:href=\"#glyph1-1\" x=\"43.199219\" y=\"62.068695\"/>\n",
       "  <use xlink:href=\"#glyph1-1\" x=\"43.199219\" y=\"55.118668\"/>\n",
       "</g>\n",
       "<path style=\"fill:none;stroke-width:1;stroke-linecap:round;stroke-linejoin:round;stroke:rgb(0%,0%,0%);stroke-opacity:1;stroke-miterlimit:10;\" d=\"M 59.039062 142.558594 L 257.761719 142.558594 L 257.761719 59.039062 L 59.039062 59.039062 L 59.039062 142.558594 \"/>\n",
       "</g>\n",
       "</svg>\n"
      ]
     },
     "metadata": {
      "image/svg+xml": {
       "isolated": true
      }
     },
     "output_type": "display_data"
    }
   ],
   "source": [
    "# Add your code here...\n",
    "prot_dat <- read.csv(\"Cellextract.csv\",row.names=1, skip=1)\n",
    "for (i in 13:22) prot_dat[,i] <- as.numeric(as.character(prot_dat[,i]))\n",
    "boxplot(prot_dat$Area.T24_T1.normalized)\n",
    "hist(prot_dat$Area.T24_T1.normalized)\n",
    "boxplot(prot_dat[,13:22])\n",
    "mean(prot_dat$Area.T24_T3.normalized, na.rm=T)\n",
    "median(prot_dat$Area.T24_T3.normalized, na.rm=T)\n",
    "sum(prot_dat$Area.T24_T3.normalized, na.rm=T)\n",
    "sd(prot_dat$Area.T24_T3.normalized, na.rm=T)"
   ]
  },
  {
   "cell_type": "code",
   "execution_count": 77,
   "metadata": {},
   "outputs": [
    {
     "data": {
      "image/jpeg": "[encoded data removed]",
      "image/png": "",
      "image/svg+xml": [
       "<?xml version=\"1.0\" encoding=\"UTF-8\"?>\n",
       "<svg xmlns=\"http://www.w3.org/2000/svg\" xmlns:xlink=\"http://www.w3.org/1999/xlink\" width=\"288pt\" height=\"216pt\" viewBox=\"0 0 288 216\" version=\"1.1\">\n",
       "<defs>\n",
       "<g>\n",
       "<symbol overflow=\"visible\" id=\"glyph0-0\">\n",
       "<path style=\"stroke:none;\" d=\"\"/>\n",
       "</symbol>\n",
       "<symbol overflow=\"visible\" id=\"glyph0-1\">\n",
       "<path style=\"stroke:none;\" d=\"M 8.28125 -0.125 L 5.03125 -9.375 L 3.375 -9.375 L 0.03125 0 L 1.53125 0 L 2.484375 -2.734375 L 5.84375 -2.734375 L 6.78125 0 L 8.34375 0 Z M 5.59375 -3.96875 L 2.875 -3.96875 L 4.328125 -7.984375 L 4.0625 -7.984375 L 5.40625 -3.96875 Z M 5.59375 -3.96875 \"/>\n",
       "</symbol>\n",
       "<symbol overflow=\"visible\" id=\"glyph0-2\">\n",
       "<path style=\"stroke:none;\" d=\"M 4.140625 -5.765625 L 4.140625 -6.9375 C 3.84375 -6.984375 3.75 -7 3.609375 -7 C 2.9375 -7 2.328125 -6.546875 1.71875 -5.578125 L 1.953125 -5.484375 L 1.953125 -6.8125 L 0.734375 -6.8125 L 0.734375 0 L 2.03125 0 L 2.03125 -3.53125 C 2.03125 -5 2.40625 -5.609375 4.140625 -5.640625 Z M 4.140625 -5.765625 \"/>\n",
       "</symbol>\n",
       "<symbol overflow=\"visible\" id=\"glyph0-3\">\n",
       "<path style=\"stroke:none;\" d=\"M 6.53125 -3.09375 C 6.53125 -4.046875 6.46875 -4.65625 6.28125 -5.140625 C 5.84375 -6.21875 4.71875 -7 3.5 -7 C 1.671875 -7 0.359375 -5.515625 0.359375 -3.359375 C 0.359375 -1.21875 1.640625 0.1875 3.46875 0.1875 C 4.96875 0.1875 6.140625 -0.78125 6.421875 -2.25 L 5.125 -2.25 C 4.796875 -1.25 4.34375 -1.03125 3.515625 -1.03125 C 2.421875 -1.03125 1.734375 -1.59375 1.71875 -2.96875 L 6.53125 -2.96875 Z M 5.390625 -3.9375 C 5.390625 -3.9375 5.203125 -4.0625 5.21875 -4.09375 L 1.75 -4.09375 C 1.828125 -5.109375 2.4375 -5.78125 3.484375 -5.78125 C 4.515625 -5.78125 5.15625 -5.046875 5.15625 -4.03125 Z M 5.390625 -3.9375 \"/>\n",
       "</symbol>\n",
       "<symbol overflow=\"visible\" id=\"glyph0-4\">\n",
       "<path style=\"stroke:none;\" d=\"M 6.8125 -0.15625 L 6.8125 -1.09375 C 6.578125 -1.046875 6.53125 -1.046875 6.46875 -1.046875 C 6.09375 -1.046875 6.03125 -1.09375 6.03125 -1.421875 L 6.03125 -5.078125 C 6.03125 -6.234375 5.046875 -7 3.4375 -7 C 1.84375 -7 0.734375 -6.25 0.65625 -4.609375 L 1.96875 -4.609375 C 2.078125 -5.53125 2.421875 -5.78125 3.40625 -5.78125 C 4.34375 -5.78125 4.71875 -5.546875 4.71875 -4.921875 L 4.71875 -4.65625 C 4.71875 -4.21875 4.59375 -4.15625 3.78125 -4.0625 C 2.296875 -3.875 2.078125 -3.828125 1.671875 -3.65625 C 0.90625 -3.34375 0.390625 -2.625 0.390625 -1.828125 C 0.390625 -0.640625 1.34375 0.1875 2.671875 0.1875 C 3.515625 0.1875 4.40625 -0.203125 4.828125 -0.640625 C 4.875 -0.40625 5.46875 0.09375 5.96875 0.09375 C 6.1875 0.09375 6.34375 0.0625 6.8125 -0.046875 Z M 4.71875 -2.390625 C 4.71875 -1.453125 3.90625 -0.984375 2.90625 -0.984375 C 2.09375 -0.984375 1.734375 -1.140625 1.734375 -1.84375 C 1.734375 -2.53125 2.078125 -2.71875 3.1875 -2.875 C 4.28125 -3.03125 4.515625 -3.078125 4.71875 -3.171875 Z M 4.71875 -2.390625 \"/>\n",
       "</symbol>\n",
       "<symbol overflow=\"visible\" id=\"glyph0-5\">\n",
       "<path style=\"stroke:none;\" d=\"M 2.515625 -0.125 L 2.515625 -1.5625 L 0.953125 -1.5625 L 0.953125 0 L 2.515625 0 Z M 2.515625 -0.125 \"/>\n",
       "</symbol>\n",
       "<symbol overflow=\"visible\" id=\"glyph0-6\">\n",
       "<path style=\"stroke:none;\" d=\"M 7.53125 -8.21875 L 7.53125 -9.375 L 0.125 -9.375 L 0.125 -8.09375 L 3.125 -8.09375 L 3.125 0 L 4.546875 0 L 4.546875 -8.09375 L 7.53125 -8.09375 Z M 7.53125 -8.21875 \"/>\n",
       "</symbol>\n",
       "<symbol overflow=\"visible\" id=\"glyph0-7\">\n",
       "<path style=\"stroke:none;\" d=\"M 6.515625 -6.390625 C 6.515625 -7.890625 5.21875 -9.125 3.546875 -9.125 C 1.734375 -9.125 0.546875 -8.0625 0.484375 -5.78125 L 1.84375 -5.78125 C 1.9375 -7.40625 2.421875 -7.90625 3.515625 -7.90625 C 4.515625 -7.90625 5.125 -7.3125 5.125 -6.359375 C 5.125 -5.65625 4.75 -5.15625 3.96875 -4.703125 L 2.8125 -4.046875 C 0.96875 -3 0.390625 -2.078125 0.28125 0 L 6.453125 0 L 6.453125 -1.34375 L 1.8125 -1.34375 C 1.90625 -1.9375 2.265625 -2.3125 3.34375 -2.953125 L 4.59375 -3.625 C 5.84375 -4.28125 6.515625 -5.296875 6.515625 -6.390625 Z M 6.515625 -6.390625 \"/>\n",
       "</symbol>\n",
       "<symbol overflow=\"visible\" id=\"glyph0-8\">\n",
       "<path style=\"stroke:none;\" d=\"M 6.625 -2.25 L 6.625 -3.375 L 5.3125 -3.375 L 5.3125 -9.125 L 4.296875 -9.125 L 0.21875 -3.453125 L 0.21875 -2.125 L 3.953125 -2.125 L 3.953125 0 L 5.3125 0 L 5.3125 -2.125 L 6.625 -2.125 Z M 4.09375 -3.375 L 1.5625 -3.375 L 4.171875 -7.03125 L 3.953125 -7.109375 L 3.953125 -3.375 Z M 4.09375 -3.375 \"/>\n",
       "</symbol>\n",
       "<symbol overflow=\"visible\" id=\"glyph0-9\">\n",
       "<path style=\"stroke:none;\" d=\"M 7.34375 2.09375 L 7.34375 1.328125 L -0.40625 1.328125 L -0.40625 2.21875 L 7.34375 2.21875 Z M 7.34375 2.09375 \"/>\n",
       "</symbol>\n",
       "<symbol overflow=\"visible\" id=\"glyph0-10\">\n",
       "<path style=\"stroke:none;\" d=\"M 4.46875 -0.125 L 4.46875 -9.125 L 3.515625 -9.125 C 3.09375 -7.625 2.96875 -7.578125 1.140625 -7.34375 L 1.140625 -6.3125 L 3.09375 -6.3125 L 3.09375 0 L 4.46875 0 Z M 4.46875 -0.125 \"/>\n",
       "</symbol>\n",
       "<symbol overflow=\"visible\" id=\"glyph0-11\">\n",
       "<path style=\"stroke:none;\" d=\"M 6.21875 -0.125 L 6.21875 -5.078125 C 6.21875 -6.15625 5.28125 -7 4.015625 -7 C 3.03125 -7 2.3125 -6.578125 1.734375 -5.65625 L 1.96875 -5.578125 L 1.96875 -6.8125 L 0.734375 -6.8125 L 0.734375 0 L 2.03125 0 L 2.03125 -3.734375 C 2.03125 -5.078125 2.640625 -5.828125 3.703125 -5.828125 C 4.53125 -5.828125 4.90625 -5.453125 4.90625 -4.65625 L 4.90625 0 L 6.21875 0 Z M 6.21875 -0.125 \"/>\n",
       "</symbol>\n",
       "<symbol overflow=\"visible\" id=\"glyph0-12\">\n",
       "<path style=\"stroke:none;\" d=\"M 6.5 -3.34375 C 6.5 -5.609375 5.28125 -7 3.40625 -7 C 1.5625 -7 0.3125 -5.59375 0.3125 -3.40625 C 0.3125 -1.203125 1.546875 0.1875 3.40625 0.1875 C 5.25 0.1875 6.5 -1.203125 6.5 -3.34375 Z M 5.15625 -3.359375 C 5.15625 -1.828125 4.5625 -1.03125 3.40625 -1.03125 C 2.25 -1.03125 1.65625 -1.8125 1.65625 -3.40625 C 1.65625 -4.96875 2.25 -5.78125 3.40625 -5.78125 C 4.59375 -5.78125 5.15625 -4.984375 5.15625 -3.359375 Z M 5.15625 -3.359375 \"/>\n",
       "</symbol>\n",
       "<symbol overflow=\"visible\" id=\"glyph0-13\">\n",
       "<path style=\"stroke:none;\" d=\"M 9.625 -0.125 L 9.625 -5.03125 C 9.625 -6.21875 8.84375 -7 7.625 -7 C 6.75 -7 6.125 -6.6875 5.625 -6.09375 C 5.3125 -6.65625 4.703125 -7 3.84375 -7 C 2.96875 -7 2.296875 -6.625 1.734375 -5.84375 L 1.96875 -5.75 L 1.96875 -6.8125 L 0.75 -6.8125 L 0.75 0 L 2.046875 0 L 2.046875 -4.234375 C 2.046875 -5.1875 2.609375 -5.828125 3.46875 -5.828125 C 4.234375 -5.828125 4.53125 -5.46875 4.53125 -4.640625 L 4.53125 0 L 5.84375 0 L 5.84375 -4.234375 C 5.84375 -5.1875 6.40625 -5.828125 7.265625 -5.828125 C 8.03125 -5.828125 8.328125 -5.46875 8.328125 -4.640625 L 8.328125 0 L 9.625 0 Z M 9.625 -0.125 \"/>\n",
       "</symbol>\n",
       "<symbol overflow=\"visible\" id=\"glyph0-14\">\n",
       "<path style=\"stroke:none;\" d=\"M 2.015625 -0.125 L 2.015625 -9.375 L 0.71875 -9.375 L 0.71875 0 L 2.015625 0 Z M 2.015625 -0.125 \"/>\n",
       "</symbol>\n",
       "<symbol overflow=\"visible\" id=\"glyph0-15\">\n",
       "<path style=\"stroke:none;\" d=\"M 2.03125 -0.125 L 2.03125 -6.8125 L 0.734375 -6.8125 L 0.734375 0 L 2.03125 0 Z M 2.171875 -7.65625 L 2.171875 -9.09375 L 0.609375 -9.09375 L 0.609375 -7.53125 L 2.171875 -7.53125 Z M 2.171875 -7.65625 \"/>\n",
       "</symbol>\n",
       "<symbol overflow=\"visible\" id=\"glyph0-16\">\n",
       "<path style=\"stroke:none;\" d=\"M 5.84375 -0.125 L 5.84375 -1.171875 L 1.921875 -1.171875 L 5.65625 -5.71875 L 5.65625 -6.8125 L 0.515625 -6.8125 L 0.515625 -5.640625 L 4.015625 -5.640625 L 0.25 -1.109375 L 0.25 0 L 5.84375 0 Z M 5.84375 -0.125 \"/>\n",
       "</symbol>\n",
       "<symbol overflow=\"visible\" id=\"glyph0-17\">\n",
       "<path style=\"stroke:none;\" d=\"M 6.3125 -0.125 L 6.3125 -9.375 L 5.015625 -9.375 L 5.015625 -5.84375 L 5.234375 -5.9375 C 4.796875 -6.59375 4.015625 -7 3.140625 -7 C 1.4375 -7 0.1875 -5.546875 0.1875 -3.46875 C 0.1875 -1.25 1.40625 0.1875 3.171875 0.1875 C 4.078125 0.1875 4.78125 -0.1875 5.34375 -1 L 5.125 -1.09375 L 5.125 0 L 6.3125 0 Z M 5.015625 -3.375 C 5.015625 -1.859375 4.421875 -1.046875 3.328125 -1.046875 C 2.171875 -1.046875 1.53125 -1.875 1.53125 -3.40625 C 1.53125 -4.921875 2.171875 -5.765625 3.3125 -5.765625 C 4.4375 -5.765625 5.015625 -4.890625 5.015625 -3.375 Z M 5.015625 -3.375 \"/>\n",
       "</symbol>\n",
       "<symbol overflow=\"visible\" id=\"glyph0-18\">\n",
       "<path style=\"stroke:none;\" d=\"M 9.640625 -0.125 L 9.640625 -9.375 L 7.796875 -9.375 L 5.109375 -1.296875 L 5.375 -1.296875 L 2.625 -9.375 L 0.796875 -9.375 L 0.796875 0 L 2.15625 0 L 2.15625 -7.765625 L 1.90625 -7.765625 L 4.53125 0 L 5.9375 0 L 8.53125 -7.765625 L 8.28125 -7.765625 L 8.28125 0 L 9.640625 0 Z M 9.640625 -0.125 \"/>\n",
       "</symbol>\n",
       "<symbol overflow=\"visible\" id=\"glyph0-19\">\n",
       "<path style=\"stroke:none;\" d=\"M 6.46875 -4.390625 C 6.46875 -7.46875 5.359375 -9.125 3.4375 -9.125 C 1.53125 -9.125 0.40625 -7.4375 0.40625 -4.46875 C 0.40625 -1.46875 1.53125 0.1875 3.4375 0.1875 C 5.3125 0.1875 6.46875 -1.46875 6.46875 -4.390625 Z M 5.078125 -4.484375 C 5.078125 -1.96875 4.640625 -0.984375 3.40625 -0.984375 C 2.25 -0.984375 1.78125 -2.03125 1.78125 -4.453125 C 1.78125 -6.875 2.25 -7.890625 3.4375 -7.890625 C 4.625 -7.890625 5.078125 -6.859375 5.078125 -4.484375 Z M 5.078125 -4.484375 \"/>\n",
       "</symbol>\n",
       "<symbol overflow=\"visible\" id=\"glyph1-0\">\n",
       "<path style=\"stroke:none;\" d=\"\"/>\n",
       "</symbol>\n",
       "<symbol overflow=\"visible\" id=\"glyph1-1\">\n",
       "<path style=\"stroke:none;\" d=\"M -6.390625 -6.515625 C -7.890625 -6.515625 -9.125 -5.21875 -9.125 -3.546875 C -9.125 -1.734375 -8.0625 -0.546875 -5.78125 -0.484375 L -5.78125 -1.84375 C -7.40625 -1.9375 -7.90625 -2.421875 -7.90625 -3.515625 C -7.90625 -4.515625 -7.3125 -5.125 -6.359375 -5.125 C -5.65625 -5.125 -5.15625 -4.75 -4.703125 -3.96875 L -4.046875 -2.8125 C -3 -0.96875 -2.078125 -0.390625 0 -0.28125 L 0 -6.453125 L -1.34375 -6.453125 L -1.34375 -1.8125 C -1.9375 -1.90625 -2.3125 -2.265625 -2.953125 -3.34375 L -3.625 -4.59375 C -4.28125 -5.84375 -5.296875 -6.515625 -6.390625 -6.515625 Z M -6.390625 -6.515625 \"/>\n",
       "</symbol>\n",
       "<symbol overflow=\"visible\" id=\"glyph1-2\">\n",
       "<path style=\"stroke:none;\" d=\"M -2.25 -6.625 L -3.375 -6.625 L -3.375 -5.3125 L -9.125 -5.3125 L -9.125 -4.296875 L -3.453125 -0.21875 L -2.125 -0.21875 L -2.125 -3.953125 L 0 -3.953125 L 0 -5.3125 L -2.125 -5.3125 L -2.125 -6.625 Z M -3.375 -4.09375 L -3.375 -1.5625 L -7.03125 -4.171875 L -7.109375 -3.953125 L -3.375 -3.953125 Z M -3.375 -4.09375 \"/>\n",
       "</symbol>\n",
       "<symbol overflow=\"visible\" id=\"glyph1-3\">\n",
       "<path style=\"stroke:none;\" d=\"M -2.875 -6.53125 C -4.53125 -6.53125 -5.78125 -5.28125 -5.78125 -3.703125 C -5.78125 -2.828125 -5.390625 -2.03125 -4.734375 -1.5625 L -4.65625 -1.78125 C -6.8125 -1.796875 -7.890625 -2.375 -7.890625 -3.640625 C -7.890625 -4.40625 -7.53125 -4.8125 -6.546875 -5.015625 L -6.546875 -6.375 C -8.125 -6.140625 -9.125 -5.0625 -9.125 -3.71875 C -9.125 -1.65625 -7.25 -0.40625 -4.15625 -0.40625 C -1.40625 -0.40625 0.1875 -1.484375 0.1875 -3.515625 C 0.1875 -5.203125 -1.140625 -6.53125 -2.875 -6.53125 Z M -2.78125 -5.15625 C -1.671875 -5.15625 -1.046875 -4.53125 -1.046875 -3.53125 C -1.046875 -2.5 -1.71875 -1.84375 -2.84375 -1.84375 C -3.953125 -1.84375 -4.53125 -2.46875 -4.53125 -3.5625 C -4.53125 -4.625 -3.96875 -5.15625 -2.78125 -5.15625 Z M -2.78125 -5.15625 \"/>\n",
       "</symbol>\n",
       "<symbol overflow=\"visible\" id=\"glyph1-4\">\n",
       "<path style=\"stroke:none;\" d=\"M -2.625 -6.53125 C -3.609375 -6.53125 -4.4375 -5.90625 -4.796875 -5.140625 C -5.25 -5.890625 -5.78125 -6.21875 -6.625 -6.21875 C -8.015625 -6.21875 -9.125 -5.015625 -9.125 -3.4375 C -9.125 -1.875 -8.015625 -0.640625 -6.625 -0.640625 C -5.796875 -0.640625 -5.265625 -0.96875 -4.796875 -1.71875 C -4.4375 -0.96875 -3.609375 -0.328125 -2.640625 -0.328125 C -1.015625 -0.328125 0.1875 -1.6875 0.1875 -3.4375 C 0.1875 -5.1875 -1.015625 -6.53125 -2.625 -6.53125 Z M -6.59375 -4.84375 C -5.78125 -4.84375 -5.359375 -4.359375 -5.359375 -3.4375 C -5.359375 -2.515625 -5.78125 -2.03125 -6.609375 -2.03125 C -7.46875 -2.03125 -7.890625 -2.515625 -7.890625 -3.4375 C -7.890625 -4.375 -7.46875 -4.84375 -6.59375 -4.84375 Z M -2.609375 -5.15625 C -1.5625 -5.15625 -1.046875 -4.53125 -1.046875 -3.40625 C -1.046875 -2.34375 -1.578125 -1.71875 -2.609375 -1.71875 C -3.65625 -1.71875 -4.171875 -2.34375 -4.171875 -3.4375 C -4.171875 -4.53125 -3.65625 -5.15625 -2.609375 -5.15625 Z M -2.609375 -5.15625 \"/>\n",
       "</symbol>\n",
       "</g>\n",
       "<clipPath id=\"clip1\">\n",
       "  <path d=\"M 237 135 L 245 135 L 245 143.558594 L 237 143.558594 Z M 237 135 \"/>\n",
       "</clipPath>\n",
       "</defs>\n",
       "<g id=\"surface2254\">\n",
       "<rect x=\"0\" y=\"0\" width=\"288\" height=\"216\" style=\"fill:rgb(100%,100%,100%);fill-opacity:1;stroke:none;\"/>\n",
       "<path style=\" stroke:none;fill-rule:nonzero;fill:rgb(100%,100%,100%);fill-opacity:1;\" d=\"M 68.238281 88.109375 L 82.960938 88.109375 L 82.960938 73.480469 L 68.238281 73.480469 Z M 68.238281 88.109375 \"/>\n",
       "<path style=\"fill:none;stroke-width:3;stroke-linecap:butt;stroke-linejoin:round;stroke:rgb(0%,0%,0%);stroke-opacity:1;stroke-miterlimit:10;\" d=\"M 68.238281 81.226562 L 82.960938 81.226562 \"/>\n",
       "<path style=\"fill:none;stroke-width:1;stroke-linecap:round;stroke-linejoin:round;stroke:rgb(0%,0%,0%);stroke-opacity:1;stroke-dasharray:4,4;stroke-miterlimit:10;\" d=\"M 75.601562 108.363281 L 75.601562 88.109375 \"/>\n",
       "<path style=\"fill:none;stroke-width:1;stroke-linecap:round;stroke-linejoin:round;stroke:rgb(0%,0%,0%);stroke-opacity:1;stroke-dasharray:4,4;stroke-miterlimit:10;\" d=\"M 75.601562 62.222656 L 75.601562 73.480469 \"/>\n",
       "<path style=\"fill:none;stroke-width:1;stroke-linecap:round;stroke-linejoin:round;stroke:rgb(0%,0%,0%);stroke-opacity:1;stroke-miterlimit:10;\" d=\"M 71.921875 108.363281 L 79.28125 108.363281 \"/>\n",
       "<path style=\"fill:none;stroke-width:1;stroke-linecap:round;stroke-linejoin:round;stroke:rgb(0%,0%,0%);stroke-opacity:1;stroke-miterlimit:10;\" d=\"M 71.921875 62.222656 L 79.28125 62.222656 \"/>\n",
       "<path style=\"fill:none;stroke-width:1;stroke-linecap:round;stroke-linejoin:round;stroke:rgb(0%,0%,0%);stroke-opacity:1;stroke-miterlimit:10;\" d=\"M 68.238281 88.109375 L 82.960938 88.109375 L 82.960938 73.480469 L 68.238281 73.480469 L 68.238281 88.109375 \"/>\n",
       "<path style=\"fill:none;stroke-width:1;stroke-linecap:round;stroke-linejoin:round;stroke:rgb(0%,0%,0%);stroke-opacity:1;stroke-miterlimit:10;\" d=\"M 78.800781 113.386719 C 78.800781 117.652344 72.398438 117.652344 72.398438 113.386719 C 72.398438 109.121094 78.800781 109.121094 78.800781 113.386719 \"/>\n",
       "<path style=\"fill:none;stroke-width:1;stroke-linecap:round;stroke-linejoin:round;stroke:rgb(0%,0%,0%);stroke-opacity:1;stroke-miterlimit:10;\" d=\"M 78.800781 115.375 C 78.800781 119.640625 72.398438 119.640625 72.398438 115.375 C 72.398438 111.109375 78.800781 111.109375 78.800781 115.375 \"/>\n",
       "<path style=\"fill:none;stroke-width:1;stroke-linecap:round;stroke-linejoin:round;stroke:rgb(0%,0%,0%);stroke-opacity:1;stroke-miterlimit:10;\" d=\"M 78.800781 119.324219 C 78.800781 123.589844 72.398438 123.589844 72.398438 119.324219 C 72.398438 115.058594 78.800781 115.058594 78.800781 119.324219 \"/>\n",
       "<path style=\"fill:none;stroke-width:1;stroke-linecap:round;stroke-linejoin:round;stroke:rgb(0%,0%,0%);stroke-opacity:1;stroke-miterlimit:10;\" d=\"M 78.800781 111.265625 C 78.800781 115.53125 72.398438 115.53125 72.398438 111.265625 C 72.398438 107 78.800781 107 78.800781 111.265625 \"/>\n",
       "<path style=\"fill:none;stroke-width:1;stroke-linecap:round;stroke-linejoin:round;stroke:rgb(0%,0%,0%);stroke-opacity:1;stroke-miterlimit:10;\" d=\"M 78.800781 112.308594 C 78.800781 116.574219 72.398438 116.574219 72.398438 112.308594 C 72.398438 108.042969 78.800781 108.042969 78.800781 112.308594 \"/>\n",
       "<path style=\" stroke:none;fill-rule:nonzero;fill:rgb(100%,100%,100%);fill-opacity:1;\" d=\"M 86.640625 89.253906 L 101.359375 89.253906 L 101.359375 74.382812 L 86.640625 74.382812 Z M 86.640625 89.253906 \"/>\n",
       "<path style=\"fill:none;stroke-width:3;stroke-linecap:butt;stroke-linejoin:round;stroke:rgb(0%,0%,0%);stroke-opacity:1;stroke-miterlimit:10;\" d=\"M 86.640625 82.117188 L 101.359375 82.117188 \"/>\n",
       "<path style=\"fill:none;stroke-width:1;stroke-linecap:round;stroke-linejoin:round;stroke:rgb(0%,0%,0%);stroke-opacity:1;stroke-dasharray:4,4;stroke-miterlimit:10;\" d=\"M 94 111.066406 L 94 89.253906 \"/>\n",
       "<path style=\"fill:none;stroke-width:1;stroke-linecap:round;stroke-linejoin:round;stroke:rgb(0%,0%,0%);stroke-opacity:1;stroke-dasharray:4,4;stroke-miterlimit:10;\" d=\"M 94 62.132812 L 94 74.382812 \"/>\n",
       "<path style=\"fill:none;stroke-width:1;stroke-linecap:round;stroke-linejoin:round;stroke:rgb(0%,0%,0%);stroke-opacity:1;stroke-miterlimit:10;\" d=\"M 90.320312 111.066406 L 97.679688 111.066406 \"/>\n",
       "<path style=\"fill:none;stroke-width:1;stroke-linecap:round;stroke-linejoin:round;stroke:rgb(0%,0%,0%);stroke-opacity:1;stroke-miterlimit:10;\" d=\"M 90.320312 62.132812 L 97.679688 62.132812 \"/>\n",
       "<path style=\"fill:none;stroke-width:1;stroke-linecap:round;stroke-linejoin:round;stroke:rgb(0%,0%,0%);stroke-opacity:1;stroke-miterlimit:10;\" d=\"M 86.640625 89.253906 L 101.359375 89.253906 L 101.359375 74.382812 L 86.640625 74.382812 L 86.640625 89.253906 \"/>\n",
       "<path style=\"fill:none;stroke-width:1;stroke-linecap:round;stroke-linejoin:round;stroke:rgb(0%,0%,0%);stroke-opacity:1;stroke-miterlimit:10;\" d=\"M 97.199219 113.203125 C 97.199219 117.472656 90.800781 117.472656 90.800781 113.203125 C 90.800781 108.9375 97.199219 108.9375 97.199219 113.203125 \"/>\n",
       "<path style=\"fill:none;stroke-width:1;stroke-linecap:round;stroke-linejoin:round;stroke:rgb(0%,0%,0%);stroke-opacity:1;stroke-miterlimit:10;\" d=\"M 97.199219 116.222656 C 97.199219 120.492188 90.800781 120.492188 90.800781 116.222656 C 90.800781 111.957031 97.199219 111.957031 97.199219 116.222656 \"/>\n",
       "<path style=\"fill:none;stroke-width:1;stroke-linecap:round;stroke-linejoin:round;stroke:rgb(0%,0%,0%);stroke-opacity:1;stroke-miterlimit:10;\" d=\"M 97.199219 112.800781 C 97.199219 117.070312 90.800781 117.070312 90.800781 112.800781 C 90.800781 108.535156 97.199219 108.535156 97.199219 112.800781 \"/>\n",
       "<path style=\" stroke:none;fill-rule:nonzero;fill:rgb(100%,100%,100%);fill-opacity:1;\" d=\"M 105.039062 88.605469 L 119.761719 88.605469 L 119.761719 74.195312 L 105.039062 74.195312 Z M 105.039062 88.605469 \"/>\n",
       "<path style=\"fill:none;stroke-width:3;stroke-linecap:butt;stroke-linejoin:round;stroke:rgb(0%,0%,0%);stroke-opacity:1;stroke-miterlimit:10;\" d=\"M 105.039062 81.386719 L 119.761719 81.386719 \"/>\n",
       "<path style=\"fill:none;stroke-width:1;stroke-linecap:round;stroke-linejoin:round;stroke:rgb(0%,0%,0%);stroke-opacity:1;stroke-dasharray:4,4;stroke-miterlimit:10;\" d=\"M 112.398438 108.460938 L 112.398438 88.605469 \"/>\n",
       "<path style=\"fill:none;stroke-width:1;stroke-linecap:round;stroke-linejoin:round;stroke:rgb(0%,0%,0%);stroke-opacity:1;stroke-dasharray:4,4;stroke-miterlimit:10;\" d=\"M 112.398438 62.132812 L 112.398438 74.195312 \"/>\n",
       "<path style=\"fill:none;stroke-width:1;stroke-linecap:round;stroke-linejoin:round;stroke:rgb(0%,0%,0%);stroke-opacity:1;stroke-miterlimit:10;\" d=\"M 108.71875 108.460938 L 116.078125 108.460938 \"/>\n",
       "<path style=\"fill:none;stroke-width:1;stroke-linecap:round;stroke-linejoin:round;stroke:rgb(0%,0%,0%);stroke-opacity:1;stroke-miterlimit:10;\" d=\"M 108.71875 62.132812 L 116.078125 62.132812 \"/>\n",
       "<path style=\"fill:none;stroke-width:1;stroke-linecap:round;stroke-linejoin:round;stroke:rgb(0%,0%,0%);stroke-opacity:1;stroke-miterlimit:10;\" d=\"M 105.039062 88.605469 L 119.761719 88.605469 L 119.761719 74.195312 L 105.039062 74.195312 L 105.039062 88.605469 \"/>\n",
       "<path style=\"fill:none;stroke-width:1;stroke-linecap:round;stroke-linejoin:round;stroke:rgb(0%,0%,0%);stroke-opacity:1;stroke-miterlimit:10;\" d=\"M 115.601562 110.636719 C 115.601562 114.90625 109.199219 114.90625 109.199219 110.636719 C 109.199219 106.371094 115.601562 106.371094 115.601562 110.636719 \"/>\n",
       "<path style=\"fill:none;stroke-width:1;stroke-linecap:round;stroke-linejoin:round;stroke:rgb(0%,0%,0%);stroke-opacity:1;stroke-miterlimit:10;\" d=\"M 115.601562 111.390625 C 115.601562 115.65625 109.199219 115.65625 109.199219 111.390625 C 109.199219 107.125 115.601562 107.125 115.601562 111.390625 \"/>\n",
       "<path style=\"fill:none;stroke-width:1;stroke-linecap:round;stroke-linejoin:round;stroke:rgb(0%,0%,0%);stroke-opacity:1;stroke-miterlimit:10;\" d=\"M 115.601562 111.074219 C 115.601562 115.339844 109.199219 115.339844 109.199219 111.074219 C 109.199219 106.808594 115.601562 106.808594 115.601562 111.074219 \"/>\n",
       "<path style=\"fill:none;stroke-width:1;stroke-linecap:round;stroke-linejoin:round;stroke:rgb(0%,0%,0%);stroke-opacity:1;stroke-miterlimit:10;\" d=\"M 115.601562 123.4375 C 115.601562 127.703125 109.199219 127.703125 109.199219 123.4375 C 109.199219 119.171875 115.601562 119.171875 115.601562 123.4375 \"/>\n",
       "<path style=\"fill:none;stroke-width:1;stroke-linecap:round;stroke-linejoin:round;stroke:rgb(0%,0%,0%);stroke-opacity:1;stroke-miterlimit:10;\" d=\"M 115.601562 120.007812 C 115.601562 124.277344 109.199219 124.277344 109.199219 120.007812 C 109.199219 115.742188 115.601562 115.742188 115.601562 120.007812 \"/>\n",
       "<path style=\"fill:none;stroke-width:1;stroke-linecap:round;stroke-linejoin:round;stroke:rgb(0%,0%,0%);stroke-opacity:1;stroke-miterlimit:10;\" d=\"M 115.601562 110.515625 C 115.601562 114.78125 109.199219 114.78125 109.199219 110.515625 C 109.199219 106.25 115.601562 106.25 115.601562 110.515625 \"/>\n",
       "<path style=\"fill:none;stroke-width:1;stroke-linecap:round;stroke-linejoin:round;stroke:rgb(0%,0%,0%);stroke-opacity:1;stroke-miterlimit:10;\" d=\"M 115.601562 115.3125 C 115.601562 119.578125 109.199219 119.578125 109.199219 115.3125 C 109.199219 111.042969 115.601562 111.042969 115.601562 115.3125 \"/>\n",
       "<path style=\"fill:none;stroke-width:1;stroke-linecap:round;stroke-linejoin:round;stroke:rgb(0%,0%,0%);stroke-opacity:1;stroke-miterlimit:10;\" d=\"M 115.601562 116.0625 C 115.601562 120.328125 109.199219 120.328125 109.199219 116.0625 C 109.199219 111.792969 115.601562 111.792969 115.601562 116.0625 \"/>\n",
       "<path style=\"fill:none;stroke-width:1;stroke-linecap:round;stroke-linejoin:round;stroke:rgb(0%,0%,0%);stroke-opacity:1;stroke-miterlimit:10;\" d=\"M 115.601562 139 C 115.601562 143.265625 109.199219 143.265625 109.199219 139 C 109.199219 134.734375 115.601562 134.734375 115.601562 139 \"/>\n",
       "<path style=\"fill:none;stroke-width:1;stroke-linecap:round;stroke-linejoin:round;stroke:rgb(0%,0%,0%);stroke-opacity:1;stroke-miterlimit:10;\" d=\"M 115.601562 112.125 C 115.601562 116.390625 109.199219 116.390625 109.199219 112.125 C 109.199219 107.859375 115.601562 107.859375 115.601562 112.125 \"/>\n",
       "<path style=\" stroke:none;fill-rule:nonzero;fill:rgb(100%,100%,100%);fill-opacity:1;\" d=\"M 123.441406 89.007812 L 138.160156 89.007812 L 138.160156 74.242188 L 123.441406 74.242188 Z M 123.441406 89.007812 \"/>\n",
       "<path style=\"fill:none;stroke-width:3;stroke-linecap:butt;stroke-linejoin:round;stroke:rgb(0%,0%,0%);stroke-opacity:1;stroke-miterlimit:10;\" d=\"M 123.441406 82.105469 L 138.160156 82.105469 \"/>\n",
       "<path style=\"fill:none;stroke-width:1;stroke-linecap:round;stroke-linejoin:round;stroke:rgb(0%,0%,0%);stroke-opacity:1;stroke-dasharray:4,4;stroke-miterlimit:10;\" d=\"M 130.800781 111.144531 L 130.800781 89.007812 \"/>\n",
       "<path style=\"fill:none;stroke-width:1;stroke-linecap:round;stroke-linejoin:round;stroke:rgb(0%,0%,0%);stroke-opacity:1;stroke-dasharray:4,4;stroke-miterlimit:10;\" d=\"M 130.800781 62.199219 L 130.800781 74.242188 \"/>\n",
       "<path style=\"fill:none;stroke-width:1;stroke-linecap:round;stroke-linejoin:round;stroke:rgb(0%,0%,0%);stroke-opacity:1;stroke-miterlimit:10;\" d=\"M 127.121094 111.144531 L 134.480469 111.144531 \"/>\n",
       "<path style=\"fill:none;stroke-width:1;stroke-linecap:round;stroke-linejoin:round;stroke:rgb(0%,0%,0%);stroke-opacity:1;stroke-miterlimit:10;\" d=\"M 127.121094 62.199219 L 134.480469 62.199219 \"/>\n",
       "<path style=\"fill:none;stroke-width:1;stroke-linecap:round;stroke-linejoin:round;stroke:rgb(0%,0%,0%);stroke-opacity:1;stroke-miterlimit:10;\" d=\"M 123.441406 89.007812 L 138.160156 89.007812 L 138.160156 74.242188 L 123.441406 74.242188 L 123.441406 89.007812 \"/>\n",
       "<path style=\"fill:none;stroke-width:1;stroke-linecap:round;stroke-linejoin:round;stroke:rgb(0%,0%,0%);stroke-opacity:1;stroke-miterlimit:10;\" d=\"M 134 114.957031 C 134 119.222656 127.601562 119.222656 127.601562 114.957031 C 127.601562 110.691406 134 110.691406 134 114.957031 \"/>\n",
       "<path style=\"fill:none;stroke-width:1;stroke-linecap:round;stroke-linejoin:round;stroke:rgb(0%,0%,0%);stroke-opacity:1;stroke-miterlimit:10;\" d=\"M 134 111.554688 C 134 115.820312 127.601562 115.820312 127.601562 111.554688 C 127.601562 107.289062 134 107.289062 134 111.554688 \"/>\n",
       "<path style=\"fill:none;stroke-width:1;stroke-linecap:round;stroke-linejoin:round;stroke:rgb(0%,0%,0%);stroke-opacity:1;stroke-miterlimit:10;\" d=\"M 134 123.613281 C 134 127.878906 127.601562 127.878906 127.601562 123.613281 C 127.601562 119.34375 134 119.34375 134 123.613281 \"/>\n",
       "<path style=\"fill:none;stroke-width:1;stroke-linecap:round;stroke-linejoin:round;stroke:rgb(0%,0%,0%);stroke-opacity:1;stroke-miterlimit:10;\" d=\"M 134 136.753906 C 134 141.019531 127.601562 141.019531 127.601562 136.753906 C 127.601562 132.488281 134 132.488281 134 136.753906 \"/>\n",
       "<path style=\" stroke:none;fill-rule:nonzero;fill:rgb(100%,100%,100%);fill-opacity:1;\" d=\"M 141.839844 88.972656 L 156.558594 88.972656 L 156.558594 74.421875 L 141.839844 74.421875 Z M 141.839844 88.972656 \"/>\n",
       "<path style=\"fill:none;stroke-width:3;stroke-linecap:butt;stroke-linejoin:round;stroke:rgb(0%,0%,0%);stroke-opacity:1;stroke-miterlimit:10;\" d=\"M 141.839844 81.921875 L 156.558594 81.921875 \"/>\n",
       "<path style=\"fill:none;stroke-width:1;stroke-linecap:round;stroke-linejoin:round;stroke:rgb(0%,0%,0%);stroke-opacity:1;stroke-dasharray:4,4;stroke-miterlimit:10;\" d=\"M 149.199219 110.714844 L 149.199219 88.972656 \"/>\n",
       "<path style=\"fill:none;stroke-width:1;stroke-linecap:round;stroke-linejoin:round;stroke:rgb(0%,0%,0%);stroke-opacity:1;stroke-dasharray:4,4;stroke-miterlimit:10;\" d=\"M 149.199219 62.136719 L 149.199219 74.421875 \"/>\n",
       "<path style=\"fill:none;stroke-width:1;stroke-linecap:round;stroke-linejoin:round;stroke:rgb(0%,0%,0%);stroke-opacity:1;stroke-miterlimit:10;\" d=\"M 145.519531 110.714844 L 152.878906 110.714844 \"/>\n",
       "<path style=\"fill:none;stroke-width:1;stroke-linecap:round;stroke-linejoin:round;stroke:rgb(0%,0%,0%);stroke-opacity:1;stroke-miterlimit:10;\" d=\"M 145.519531 62.136719 L 152.878906 62.136719 \"/>\n",
       "<path style=\"fill:none;stroke-width:1;stroke-linecap:round;stroke-linejoin:round;stroke:rgb(0%,0%,0%);stroke-opacity:1;stroke-miterlimit:10;\" d=\"M 141.839844 88.972656 L 156.558594 88.972656 L 156.558594 74.421875 L 141.839844 74.421875 L 141.839844 88.972656 \"/>\n",
       "<path style=\"fill:none;stroke-width:1;stroke-linecap:round;stroke-linejoin:round;stroke:rgb(0%,0%,0%);stroke-opacity:1;stroke-miterlimit:10;\" d=\"M 152.398438 112.480469 C 152.398438 116.746094 146 116.746094 146 112.480469 C 146 108.214844 152.398438 108.214844 152.398438 112.480469 \"/>\n",
       "<path style=\"fill:none;stroke-width:1;stroke-linecap:round;stroke-linejoin:round;stroke:rgb(0%,0%,0%);stroke-opacity:1;stroke-miterlimit:10;\" d=\"M 152.398438 119.953125 C 152.398438 124.222656 146 124.222656 146 119.953125 C 146 115.6875 152.398438 115.6875 152.398438 119.953125 \"/>\n",
       "<path style=\"fill:none;stroke-width:1;stroke-linecap:round;stroke-linejoin:round;stroke:rgb(0%,0%,0%);stroke-opacity:1;stroke-miterlimit:10;\" d=\"M 152.398438 115.613281 C 152.398438 119.882812 146 119.882812 146 115.613281 C 146 111.347656 152.398438 111.347656 152.398438 115.613281 \"/>\n",
       "<path style=\"fill:none;stroke-width:1;stroke-linecap:round;stroke-linejoin:round;stroke:rgb(0%,0%,0%);stroke-opacity:1;stroke-miterlimit:10;\" d=\"M 152.398438 116.507812 C 152.398438 120.773438 146 120.773438 146 116.507812 C 146 112.242188 152.398438 112.242188 152.398438 116.507812 \"/>\n",
       "<path style=\" stroke:none;fill-rule:nonzero;fill:rgb(100%,100%,100%);fill-opacity:1;\" d=\"M 160.238281 88.308594 L 174.960938 88.308594 L 174.960938 74.171875 L 160.238281 74.171875 Z M 160.238281 88.308594 \"/>\n",
       "<path style=\"fill:none;stroke-width:3;stroke-linecap:butt;stroke-linejoin:round;stroke:rgb(0%,0%,0%);stroke-opacity:1;stroke-miterlimit:10;\" d=\"M 160.238281 81.554688 L 174.960938 81.554688 \"/>\n",
       "<path style=\"fill:none;stroke-width:1;stroke-linecap:round;stroke-linejoin:round;stroke:rgb(0%,0%,0%);stroke-opacity:1;stroke-dasharray:4,4;stroke-miterlimit:10;\" d=\"M 167.601562 109.4375 L 167.601562 88.308594 \"/>\n",
       "<path style=\"fill:none;stroke-width:1;stroke-linecap:round;stroke-linejoin:round;stroke:rgb(0%,0%,0%);stroke-opacity:1;stroke-dasharray:4,4;stroke-miterlimit:10;\" d=\"M 167.601562 62.28125 L 167.601562 74.171875 \"/>\n",
       "<path style=\"fill:none;stroke-width:1;stroke-linecap:round;stroke-linejoin:round;stroke:rgb(0%,0%,0%);stroke-opacity:1;stroke-miterlimit:10;\" d=\"M 163.921875 109.4375 L 171.28125 109.4375 \"/>\n",
       "<path style=\"fill:none;stroke-width:1;stroke-linecap:round;stroke-linejoin:round;stroke:rgb(0%,0%,0%);stroke-opacity:1;stroke-miterlimit:10;\" d=\"M 163.921875 62.28125 L 171.28125 62.28125 \"/>\n",
       "<path style=\"fill:none;stroke-width:1;stroke-linecap:round;stroke-linejoin:round;stroke:rgb(0%,0%,0%);stroke-opacity:1;stroke-miterlimit:10;\" d=\"M 160.238281 88.308594 L 174.960938 88.308594 L 174.960938 74.171875 L 160.238281 74.171875 L 160.238281 88.308594 \"/>\n",
       "<path style=\"fill:none;stroke-width:1;stroke-linecap:round;stroke-linejoin:round;stroke:rgb(0%,0%,0%);stroke-opacity:1;stroke-miterlimit:10;\" d=\"M 170.800781 114.648438 C 170.800781 118.914062 164.398438 118.914062 164.398438 114.648438 C 164.398438 110.378906 170.800781 110.378906 170.800781 114.648438 \"/>\n",
       "<path style=\"fill:none;stroke-width:1;stroke-linecap:round;stroke-linejoin:round;stroke:rgb(0%,0%,0%);stroke-opacity:1;stroke-miterlimit:10;\" d=\"M 170.800781 114.765625 C 170.800781 119.03125 164.398438 119.03125 164.398438 114.765625 C 164.398438 110.496094 170.800781 110.496094 170.800781 114.765625 \"/>\n",
       "<path style=\"fill:none;stroke-width:1;stroke-linecap:round;stroke-linejoin:round;stroke:rgb(0%,0%,0%);stroke-opacity:1;stroke-miterlimit:10;\" d=\"M 170.800781 114.363281 C 170.800781 118.628906 164.398438 118.628906 164.398438 114.363281 C 164.398438 110.097656 170.800781 110.097656 170.800781 114.363281 \"/>\n",
       "<path style=\"fill:none;stroke-width:1;stroke-linecap:round;stroke-linejoin:round;stroke:rgb(0%,0%,0%);stroke-opacity:1;stroke-miterlimit:10;\" d=\"M 170.800781 113.183594 C 170.800781 117.449219 164.398438 117.449219 164.398438 113.183594 C 164.398438 108.914062 170.800781 108.914062 170.800781 113.183594 \"/>\n",
       "<path style=\"fill:none;stroke-width:1;stroke-linecap:round;stroke-linejoin:round;stroke:rgb(0%,0%,0%);stroke-opacity:1;stroke-miterlimit:10;\" d=\"M 170.800781 111.378906 C 170.800781 115.648438 164.398438 115.648438 164.398438 111.378906 C 164.398438 107.113281 170.800781 107.113281 170.800781 111.378906 \"/>\n",
       "<path style=\"fill:none;stroke-width:1;stroke-linecap:round;stroke-linejoin:round;stroke:rgb(0%,0%,0%);stroke-opacity:1;stroke-miterlimit:10;\" d=\"M 170.800781 110.527344 C 170.800781 114.796875 164.398438 114.796875 164.398438 110.527344 C 164.398438 106.261719 170.800781 106.261719 170.800781 110.527344 \"/>\n",
       "<path style=\"fill:none;stroke-width:1;stroke-linecap:round;stroke-linejoin:round;stroke:rgb(0%,0%,0%);stroke-opacity:1;stroke-miterlimit:10;\" d=\"M 170.800781 116.375 C 170.800781 120.640625 164.398438 120.640625 164.398438 116.375 C 164.398438 112.109375 170.800781 112.109375 170.800781 116.375 \"/>\n",
       "<path style=\"fill:none;stroke-width:1;stroke-linecap:round;stroke-linejoin:round;stroke:rgb(0%,0%,0%);stroke-opacity:1;stroke-miterlimit:10;\" d=\"M 170.800781 112.59375 C 170.800781 116.863281 164.398438 116.863281 164.398438 112.59375 C 164.398438 108.328125 170.800781 108.328125 170.800781 112.59375 \"/>\n",
       "<path style=\" stroke:none;fill-rule:nonzero;fill:rgb(100%,100%,100%);fill-opacity:1;\" d=\"M 178.640625 88.730469 L 193.359375 88.730469 L 193.359375 74.296875 L 178.640625 74.296875 Z M 178.640625 88.730469 \"/>\n",
       "<path style=\"fill:none;stroke-width:3;stroke-linecap:butt;stroke-linejoin:round;stroke:rgb(0%,0%,0%);stroke-opacity:1;stroke-miterlimit:10;\" d=\"M 178.640625 81.839844 L 193.359375 81.839844 \"/>\n",
       "<path style=\"fill:none;stroke-width:1;stroke-linecap:round;stroke-linejoin:round;stroke:rgb(0%,0%,0%);stroke-opacity:1;stroke-dasharray:4,4;stroke-miterlimit:10;\" d=\"M 186 109.675781 L 186 88.730469 \"/>\n",
       "<path style=\"fill:none;stroke-width:1;stroke-linecap:round;stroke-linejoin:round;stroke:rgb(0%,0%,0%);stroke-opacity:1;stroke-dasharray:4,4;stroke-miterlimit:10;\" d=\"M 186 62.152344 L 186 74.296875 \"/>\n",
       "<path style=\"fill:none;stroke-width:1;stroke-linecap:round;stroke-linejoin:round;stroke:rgb(0%,0%,0%);stroke-opacity:1;stroke-miterlimit:10;\" d=\"M 182.320312 109.675781 L 189.679688 109.675781 \"/>\n",
       "<path style=\"fill:none;stroke-width:1;stroke-linecap:round;stroke-linejoin:round;stroke:rgb(0%,0%,0%);stroke-opacity:1;stroke-miterlimit:10;\" d=\"M 182.320312 62.152344 L 189.679688 62.152344 \"/>\n",
       "<path style=\"fill:none;stroke-width:1;stroke-linecap:round;stroke-linejoin:round;stroke:rgb(0%,0%,0%);stroke-opacity:1;stroke-miterlimit:10;\" d=\"M 178.640625 88.730469 L 193.359375 88.730469 L 193.359375 74.296875 L 178.640625 74.296875 L 178.640625 88.730469 \"/>\n",
       "<path style=\"fill:none;stroke-width:1;stroke-linecap:round;stroke-linejoin:round;stroke:rgb(0%,0%,0%);stroke-opacity:1;stroke-miterlimit:10;\" d=\"M 189.199219 114.019531 C 189.199219 118.285156 182.800781 118.285156 182.800781 114.019531 C 182.800781 109.753906 189.199219 109.753906 189.199219 114.019531 \"/>\n",
       "<path style=\"fill:none;stroke-width:1;stroke-linecap:round;stroke-linejoin:round;stroke:rgb(0%,0%,0%);stroke-opacity:1;stroke-miterlimit:10;\" d=\"M 189.199219 112.710938 C 189.199219 116.980469 182.800781 116.980469 182.800781 112.710938 C 182.800781 108.445312 189.199219 108.445312 189.199219 112.710938 \"/>\n",
       "<path style=\"fill:none;stroke-width:1;stroke-linecap:round;stroke-linejoin:round;stroke:rgb(0%,0%,0%);stroke-opacity:1;stroke-miterlimit:10;\" d=\"M 189.199219 110.6875 C 189.199219 114.953125 182.800781 114.953125 182.800781 110.6875 C 182.800781 106.421875 189.199219 106.421875 189.199219 110.6875 \"/>\n",
       "<path style=\"fill:none;stroke-width:1;stroke-linecap:round;stroke-linejoin:round;stroke:rgb(0%,0%,0%);stroke-opacity:1;stroke-miterlimit:10;\" d=\"M 189.199219 113 C 189.199219 117.269531 182.800781 117.269531 182.800781 113 C 182.800781 108.734375 189.199219 108.734375 189.199219 113 \"/>\n",
       "<path style=\" stroke:none;fill-rule:nonzero;fill:rgb(100%,100%,100%);fill-opacity:1;\" d=\"M 197.039062 88.648438 L 211.761719 88.648438 L 211.761719 74.320312 L 197.039062 74.320312 Z M 197.039062 88.648438 \"/>\n",
       "<path style=\"fill:none;stroke-width:3;stroke-linecap:butt;stroke-linejoin:round;stroke:rgb(0%,0%,0%);stroke-opacity:1;stroke-miterlimit:10;\" d=\"M 197.039062 82.160156 L 211.761719 82.160156 \"/>\n",
       "<path style=\"fill:none;stroke-width:1;stroke-linecap:round;stroke-linejoin:round;stroke:rgb(0%,0%,0%);stroke-opacity:1;stroke-dasharray:4,4;stroke-miterlimit:10;\" d=\"M 204.398438 109.648438 L 204.398438 88.648438 \"/>\n",
       "<path style=\"fill:none;stroke-width:1;stroke-linecap:round;stroke-linejoin:round;stroke:rgb(0%,0%,0%);stroke-opacity:1;stroke-dasharray:4,4;stroke-miterlimit:10;\" d=\"M 204.398438 62.207031 L 204.398438 74.320312 \"/>\n",
       "<path style=\"fill:none;stroke-width:1;stroke-linecap:round;stroke-linejoin:round;stroke:rgb(0%,0%,0%);stroke-opacity:1;stroke-miterlimit:10;\" d=\"M 200.71875 109.648438 L 208.078125 109.648438 \"/>\n",
       "<path style=\"fill:none;stroke-width:1;stroke-linecap:round;stroke-linejoin:round;stroke:rgb(0%,0%,0%);stroke-opacity:1;stroke-miterlimit:10;\" d=\"M 200.71875 62.207031 L 208.078125 62.207031 \"/>\n",
       "<path style=\"fill:none;stroke-width:1;stroke-linecap:round;stroke-linejoin:round;stroke:rgb(0%,0%,0%);stroke-opacity:1;stroke-miterlimit:10;\" d=\"M 197.039062 88.648438 L 211.761719 88.648438 L 211.761719 74.320312 L 197.039062 74.320312 L 197.039062 88.648438 \"/>\n",
       "<path style=\"fill:none;stroke-width:1;stroke-linecap:round;stroke-linejoin:round;stroke:rgb(0%,0%,0%);stroke-opacity:1;stroke-miterlimit:10;\" d=\"M 207.601562 113.101562 C 207.601562 117.367188 201.199219 117.367188 201.199219 113.101562 C 201.199219 108.832031 207.601562 108.832031 207.601562 113.101562 \"/>\n",
       "<path style=\"fill:none;stroke-width:1;stroke-linecap:round;stroke-linejoin:round;stroke:rgb(0%,0%,0%);stroke-opacity:1;stroke-miterlimit:10;\" d=\"M 207.601562 111.1875 C 207.601562 115.457031 201.199219 115.457031 201.199219 111.1875 C 201.199219 106.921875 207.601562 106.921875 207.601562 111.1875 \"/>\n",
       "<path style=\"fill:none;stroke-width:1;stroke-linecap:round;stroke-linejoin:round;stroke:rgb(0%,0%,0%);stroke-opacity:1;stroke-miterlimit:10;\" d=\"M 207.601562 116.222656 C 207.601562 120.492188 201.199219 120.492188 201.199219 116.222656 C 201.199219 111.957031 207.601562 111.957031 207.601562 116.222656 \"/>\n",
       "<path style=\"fill:none;stroke-width:1;stroke-linecap:round;stroke-linejoin:round;stroke:rgb(0%,0%,0%);stroke-opacity:1;stroke-miterlimit:10;\" d=\"M 207.601562 110.382812 C 207.601562 114.652344 201.199219 114.652344 201.199219 110.382812 C 201.199219 106.117188 207.601562 106.117188 207.601562 110.382812 \"/>\n",
       "<path style=\" stroke:none;fill-rule:nonzero;fill:rgb(100%,100%,100%);fill-opacity:1;\" d=\"M 215.441406 89.082031 L 230.160156 89.082031 L 230.160156 74.203125 L 215.441406 74.203125 Z M 215.441406 89.082031 \"/>\n",
       "<path style=\"fill:none;stroke-width:3;stroke-linecap:butt;stroke-linejoin:round;stroke:rgb(0%,0%,0%);stroke-opacity:1;stroke-miterlimit:10;\" d=\"M 215.441406 81.785156 L 230.160156 81.785156 \"/>\n",
       "<path style=\"fill:none;stroke-width:1;stroke-linecap:round;stroke-linejoin:round;stroke:rgb(0%,0%,0%);stroke-opacity:1;stroke-dasharray:4,4;stroke-miterlimit:10;\" d=\"M 222.800781 110.566406 L 222.800781 89.082031 \"/>\n",
       "<path style=\"fill:none;stroke-width:1;stroke-linecap:round;stroke-linejoin:round;stroke:rgb(0%,0%,0%);stroke-opacity:1;stroke-dasharray:4,4;stroke-miterlimit:10;\" d=\"M 222.800781 62.207031 L 222.800781 74.203125 \"/>\n",
       "<path style=\"fill:none;stroke-width:1;stroke-linecap:round;stroke-linejoin:round;stroke:rgb(0%,0%,0%);stroke-opacity:1;stroke-miterlimit:10;\" d=\"M 219.121094 110.566406 L 226.480469 110.566406 \"/>\n",
       "<path style=\"fill:none;stroke-width:1;stroke-linecap:round;stroke-linejoin:round;stroke:rgb(0%,0%,0%);stroke-opacity:1;stroke-miterlimit:10;\" d=\"M 219.121094 62.207031 L 226.480469 62.207031 \"/>\n",
       "<path style=\"fill:none;stroke-width:1;stroke-linecap:round;stroke-linejoin:round;stroke:rgb(0%,0%,0%);stroke-opacity:1;stroke-miterlimit:10;\" d=\"M 215.441406 89.082031 L 230.160156 89.082031 L 230.160156 74.203125 L 215.441406 74.203125 L 215.441406 89.082031 \"/>\n",
       "<path style=\"fill:none;stroke-width:1;stroke-linecap:round;stroke-linejoin:round;stroke:rgb(0%,0%,0%);stroke-opacity:1;stroke-miterlimit:10;\" d=\"M 226 113.117188 C 226 117.382812 219.601562 117.382812 219.601562 113.117188 C 219.601562 108.851562 226 108.851562 226 113.117188 \"/>\n",
       "<path style=\"fill:none;stroke-width:1;stroke-linecap:round;stroke-linejoin:round;stroke:rgb(0%,0%,0%);stroke-opacity:1;stroke-miterlimit:10;\" d=\"M 226 113.664062 C 226 117.929688 219.601562 117.929688 219.601562 113.664062 C 219.601562 109.394531 226 109.394531 226 113.664062 \"/>\n",
       "<path style=\"fill:none;stroke-width:1;stroke-linecap:round;stroke-linejoin:round;stroke:rgb(0%,0%,0%);stroke-opacity:1;stroke-miterlimit:10;\" d=\"M 226 112.273438 C 226 116.539062 219.601562 116.539062 219.601562 112.273438 C 219.601562 108.007812 226 108.007812 226 112.273438 \"/>\n",
       "<path style=\"fill:none;stroke-width:1;stroke-linecap:round;stroke-linejoin:round;stroke:rgb(0%,0%,0%);stroke-opacity:1;stroke-miterlimit:10;\" d=\"M 226 128.34375 C 226 132.609375 219.601562 132.609375 219.601562 128.34375 C 219.601562 124.074219 226 124.074219 226 128.34375 \"/>\n",
       "<path style=\"fill:none;stroke-width:1;stroke-linecap:round;stroke-linejoin:round;stroke:rgb(0%,0%,0%);stroke-opacity:1;stroke-miterlimit:10;\" d=\"M 226 113.347656 C 226 117.613281 219.601562 117.613281 219.601562 113.347656 C 219.601562 109.082031 226 109.082031 226 113.347656 \"/>\n",
       "<path style=\" stroke:none;fill-rule:nonzero;fill:rgb(100%,100%,100%);fill-opacity:1;\" d=\"M 233.839844 89.699219 L 248.558594 89.699219 L 248.558594 74.613281 L 233.839844 74.613281 Z M 233.839844 89.699219 \"/>\n",
       "<path style=\"fill:none;stroke-width:3;stroke-linecap:butt;stroke-linejoin:round;stroke:rgb(0%,0%,0%);stroke-opacity:1;stroke-miterlimit:10;\" d=\"M 233.839844 82.339844 L 248.558594 82.339844 \"/>\n",
       "<path style=\"fill:none;stroke-width:1;stroke-linecap:round;stroke-linejoin:round;stroke:rgb(0%,0%,0%);stroke-opacity:1;stroke-dasharray:4,4;stroke-miterlimit:10;\" d=\"M 241.199219 112.105469 L 241.199219 89.699219 \"/>\n",
       "<path style=\"fill:none;stroke-width:1;stroke-linecap:round;stroke-linejoin:round;stroke:rgb(0%,0%,0%);stroke-opacity:1;stroke-dasharray:4,4;stroke-miterlimit:10;\" d=\"M 241.199219 62.167969 L 241.199219 74.613281 \"/>\n",
       "<path style=\"fill:none;stroke-width:1;stroke-linecap:round;stroke-linejoin:round;stroke:rgb(0%,0%,0%);stroke-opacity:1;stroke-miterlimit:10;\" d=\"M 237.519531 112.105469 L 244.878906 112.105469 \"/>\n",
       "<path style=\"fill:none;stroke-width:1;stroke-linecap:round;stroke-linejoin:round;stroke:rgb(0%,0%,0%);stroke-opacity:1;stroke-miterlimit:10;\" d=\"M 237.519531 62.167969 L 244.878906 62.167969 \"/>\n",
       "<path style=\"fill:none;stroke-width:1;stroke-linecap:round;stroke-linejoin:round;stroke:rgb(0%,0%,0%);stroke-opacity:1;stroke-miterlimit:10;\" d=\"M 233.839844 89.699219 L 248.558594 89.699219 L 248.558594 74.613281 L 233.839844 74.613281 L 233.839844 89.699219 \"/>\n",
       "<g clip-path=\"url(#clip1)\" clip-rule=\"nonzero\">\n",
       "<path style=\"fill:none;stroke-width:1;stroke-linecap:round;stroke-linejoin:round;stroke:rgb(0%,0%,0%);stroke-opacity:1;stroke-miterlimit:10;\" d=\"M 244.398438 139.464844 C 244.398438 143.734375 238 143.734375 238 139.464844 C 238 135.199219 244.398438 135.199219 244.398438 139.464844 \"/>\n",
       "</g>\n",
       "<path style=\"fill:none;stroke-width:1;stroke-linecap:round;stroke-linejoin:round;stroke:rgb(0%,0%,0%);stroke-opacity:1;stroke-miterlimit:10;\" d=\"M 244.398438 112.601562 C 244.398438 116.867188 238 116.867188 238 112.601562 C 238 108.335938 244.398438 108.335938 244.398438 112.601562 \"/>\n",
       "<path style=\"fill:none;stroke-width:1;stroke-linecap:round;stroke-linejoin:round;stroke:rgb(0%,0%,0%);stroke-opacity:1;stroke-miterlimit:10;\" d=\"M 75.601562 142.558594 L 241.199219 142.558594 \"/>\n",
       "<path style=\"fill:none;stroke-width:1;stroke-linecap:round;stroke-linejoin:round;stroke:rgb(0%,0%,0%);stroke-opacity:1;stroke-miterlimit:10;\" d=\"M 75.601562 142.558594 L 75.601562 149.761719 \"/>\n",
       "<path style=\"fill:none;stroke-width:1;stroke-linecap:round;stroke-linejoin:round;stroke:rgb(0%,0%,0%);stroke-opacity:1;stroke-miterlimit:10;\" d=\"M 94 142.558594 L 94 149.761719 \"/>\n",
       "<path style=\"fill:none;stroke-width:1;stroke-linecap:round;stroke-linejoin:round;stroke:rgb(0%,0%,0%);stroke-opacity:1;stroke-miterlimit:10;\" d=\"M 112.398438 142.558594 L 112.398438 149.761719 \"/>\n",
       "<path style=\"fill:none;stroke-width:1;stroke-linecap:round;stroke-linejoin:round;stroke:rgb(0%,0%,0%);stroke-opacity:1;stroke-miterlimit:10;\" d=\"M 130.800781 142.558594 L 130.800781 149.761719 \"/>\n",
       "<path style=\"fill:none;stroke-width:1;stroke-linecap:round;stroke-linejoin:round;stroke:rgb(0%,0%,0%);stroke-opacity:1;stroke-miterlimit:10;\" d=\"M 149.199219 142.558594 L 149.199219 149.761719 \"/>\n",
       "<path style=\"fill:none;stroke-width:1;stroke-linecap:round;stroke-linejoin:round;stroke:rgb(0%,0%,0%);stroke-opacity:1;stroke-miterlimit:10;\" d=\"M 167.601562 142.558594 L 167.601562 149.761719 \"/>\n",
       "<path style=\"fill:none;stroke-width:1;stroke-linecap:round;stroke-linejoin:round;stroke:rgb(0%,0%,0%);stroke-opacity:1;stroke-miterlimit:10;\" d=\"M 186 142.558594 L 186 149.761719 \"/>\n",
       "<path style=\"fill:none;stroke-width:1;stroke-linecap:round;stroke-linejoin:round;stroke:rgb(0%,0%,0%);stroke-opacity:1;stroke-miterlimit:10;\" d=\"M 204.398438 142.558594 L 204.398438 149.761719 \"/>\n",
       "<path style=\"fill:none;stroke-width:1;stroke-linecap:round;stroke-linejoin:round;stroke:rgb(0%,0%,0%);stroke-opacity:1;stroke-miterlimit:10;\" d=\"M 222.800781 142.558594 L 222.800781 149.761719 \"/>\n",
       "<path style=\"fill:none;stroke-width:1;stroke-linecap:round;stroke-linejoin:round;stroke:rgb(0%,0%,0%);stroke-opacity:1;stroke-miterlimit:10;\" d=\"M 241.199219 142.558594 L 241.199219 149.761719 \"/>\n",
       "<g style=\"fill:rgb(0%,0%,0%);fill-opacity:1;\">\n",
       "  <use xlink:href=\"#glyph0-1\" x=\"6.828125\" y=\"169.921875\"/>\n",
       "  <use xlink:href=\"#glyph0-2\" x=\"15.165649\" y=\"169.921875\"/>\n",
       "  <use xlink:href=\"#glyph0-3\" x=\"19.328171\" y=\"169.921875\"/>\n",
       "  <use xlink:href=\"#glyph0-4\" x=\"26.278198\" y=\"169.921875\"/>\n",
       "  <use xlink:href=\"#glyph0-5\" x=\"33.228226\" y=\"169.921875\"/>\n",
       "  <use xlink:href=\"#glyph0-6\" x=\"36.703232\" y=\"169.921875\"/>\n",
       "  <use xlink:href=\"#glyph0-7\" x=\"44.340759\" y=\"169.921875\"/>\n",
       "  <use xlink:href=\"#glyph0-8\" x=\"51.290787\" y=\"169.921875\"/>\n",
       "  <use xlink:href=\"#glyph0-9\" x=\"58.240814\" y=\"169.921875\"/>\n",
       "  <use xlink:href=\"#glyph0-6\" x=\"65.190842\" y=\"169.921875\"/>\n",
       "  <use xlink:href=\"#glyph0-10\" x=\"72.828369\" y=\"169.921875\"/>\n",
       "  <use xlink:href=\"#glyph0-5\" x=\"79.778397\" y=\"169.921875\"/>\n",
       "  <use xlink:href=\"#glyph0-11\" x=\"83.253403\" y=\"169.921875\"/>\n",
       "  <use xlink:href=\"#glyph0-12\" x=\"90.20343\" y=\"169.921875\"/>\n",
       "  <use xlink:href=\"#glyph0-2\" x=\"97.153458\" y=\"169.921875\"/>\n",
       "  <use xlink:href=\"#glyph0-13\" x=\"101.315979\" y=\"169.921875\"/>\n",
       "  <use xlink:href=\"#glyph0-4\" x=\"111.728516\" y=\"169.921875\"/>\n",
       "  <use xlink:href=\"#glyph0-14\" x=\"118.678543\" y=\"169.921875\"/>\n",
       "  <use xlink:href=\"#glyph0-15\" x=\"121.453552\" y=\"169.921875\"/>\n",
       "  <use xlink:href=\"#glyph0-16\" x=\"124.228561\" y=\"169.921875\"/>\n",
       "  <use xlink:href=\"#glyph0-3\" x=\"130.478592\" y=\"169.921875\"/>\n",
       "  <use xlink:href=\"#glyph0-17\" x=\"137.428619\" y=\"169.921875\"/>\n",
       "</g>\n",
       "<g style=\"fill:rgb(0%,0%,0%);fill-opacity:1;\">\n",
       "  <use xlink:href=\"#glyph0-1\" x=\"163.742188\" y=\"169.921875\"/>\n",
       "  <use xlink:href=\"#glyph0-2\" x=\"172.079712\" y=\"169.921875\"/>\n",
       "  <use xlink:href=\"#glyph0-3\" x=\"176.242233\" y=\"169.921875\"/>\n",
       "  <use xlink:href=\"#glyph0-4\" x=\"183.192261\" y=\"169.921875\"/>\n",
       "  <use xlink:href=\"#glyph0-5\" x=\"190.142288\" y=\"169.921875\"/>\n",
       "  <use xlink:href=\"#glyph0-6\" x=\"193.617294\" y=\"169.921875\"/>\n",
       "  <use xlink:href=\"#glyph0-7\" x=\"201.254822\" y=\"169.921875\"/>\n",
       "  <use xlink:href=\"#glyph0-8\" x=\"208.204849\" y=\"169.921875\"/>\n",
       "  <use xlink:href=\"#glyph0-18\" x=\"215.154877\" y=\"169.921875\"/>\n",
       "  <use xlink:href=\"#glyph0-9\" x=\"225.567413\" y=\"169.921875\"/>\n",
       "  <use xlink:href=\"#glyph0-6\" x=\"232.517441\" y=\"169.921875\"/>\n",
       "  <use xlink:href=\"#glyph0-10\" x=\"240.154968\" y=\"169.921875\"/>\n",
       "  <use xlink:href=\"#glyph0-19\" x=\"247.104996\" y=\"169.921875\"/>\n",
       "  <use xlink:href=\"#glyph0-5\" x=\"254.055023\" y=\"169.921875\"/>\n",
       "  <use xlink:href=\"#glyph0-11\" x=\"257.530029\" y=\"169.921875\"/>\n",
       "  <use xlink:href=\"#glyph0-12\" x=\"264.480057\" y=\"169.921875\"/>\n",
       "  <use xlink:href=\"#glyph0-2\" x=\"271.430084\" y=\"169.921875\"/>\n",
       "  <use xlink:href=\"#glyph0-13\" x=\"275.592606\" y=\"169.921875\"/>\n",
       "  <use xlink:href=\"#glyph0-4\" x=\"286.005142\" y=\"169.921875\"/>\n",
       "  <use xlink:href=\"#glyph0-14\" x=\"292.95517\" y=\"169.921875\"/>\n",
       "  <use xlink:href=\"#glyph0-15\" x=\"295.730179\" y=\"169.921875\"/>\n",
       "  <use xlink:href=\"#glyph0-16\" x=\"298.505188\" y=\"169.921875\"/>\n",
       "  <use xlink:href=\"#glyph0-3\" x=\"304.755219\" y=\"169.921875\"/>\n",
       "  <use xlink:href=\"#glyph0-17\" x=\"311.705246\" y=\"169.921875\"/>\n",
       "</g>\n",
       "<path style=\"fill:none;stroke-width:1;stroke-linecap:round;stroke-linejoin:round;stroke:rgb(0%,0%,0%);stroke-opacity:1;stroke-miterlimit:10;\" d=\"M 59.039062 138.753906 L 59.039062 61.792969 \"/>\n",
       "<path style=\"fill:none;stroke-width:1;stroke-linecap:round;stroke-linejoin:round;stroke:rgb(0%,0%,0%);stroke-opacity:1;stroke-miterlimit:10;\" d=\"M 59.039062 138.753906 L 51.839844 138.753906 \"/>\n",
       "<path style=\"fill:none;stroke-width:1;stroke-linecap:round;stroke-linejoin:round;stroke:rgb(0%,0%,0%);stroke-opacity:1;stroke-miterlimit:10;\" d=\"M 59.039062 119.515625 L 51.839844 119.515625 \"/>\n",
       "<path style=\"fill:none;stroke-width:1;stroke-linecap:round;stroke-linejoin:round;stroke:rgb(0%,0%,0%);stroke-opacity:1;stroke-miterlimit:10;\" d=\"M 59.039062 100.273438 L 51.839844 100.273438 \"/>\n",
       "<path style=\"fill:none;stroke-width:1;stroke-linecap:round;stroke-linejoin:round;stroke:rgb(0%,0%,0%);stroke-opacity:1;stroke-miterlimit:10;\" d=\"M 59.039062 81.035156 L 51.839844 81.035156 \"/>\n",
       "<path style=\"fill:none;stroke-width:1;stroke-linecap:round;stroke-linejoin:round;stroke:rgb(0%,0%,0%);stroke-opacity:1;stroke-miterlimit:10;\" d=\"M 59.039062 61.792969 L 51.839844 61.792969 \"/>\n",
       "<g style=\"fill:rgb(0%,0%,0%);fill-opacity:1;\">\n",
       "  <use xlink:href=\"#glyph1-1\" x=\"43.199219\" y=\"142.230469\"/>\n",
       "</g>\n",
       "<g style=\"fill:rgb(0%,0%,0%);fill-opacity:1;\">\n",
       "  <use xlink:href=\"#glyph1-2\" x=\"43.199219\" y=\"122.992188\"/>\n",
       "</g>\n",
       "<g style=\"fill:rgb(0%,0%,0%);fill-opacity:1;\">\n",
       "  <use xlink:href=\"#glyph1-3\" x=\"43.199219\" y=\"103.75\"/>\n",
       "</g>\n",
       "<g style=\"fill:rgb(0%,0%,0%);fill-opacity:1;\">\n",
       "  <use xlink:href=\"#glyph1-4\" x=\"43.199219\" y=\"84.511719\"/>\n",
       "</g>\n",
       "<path style=\"fill:none;stroke-width:1;stroke-linecap:round;stroke-linejoin:round;stroke:rgb(0%,0%,0%);stroke-opacity:1;stroke-miterlimit:10;\" d=\"M 59.039062 142.558594 L 257.761719 142.558594 L 257.761719 59.039062 L 59.039062 59.039062 L 59.039062 142.558594 \"/>\n",
       "</g>\n",
       "</svg>\n"
      ]
     },
     "metadata": {
      "image/svg+xml": {
       "isolated": true
      }
     },
     "output_type": "display_data"
    },
    {
     "ename": "ERROR",
     "evalue": "Error in lprot_dat[[\"Area T24_T3 normalized\"]]: subscript out of bounds\n",
     "output_type": "error",
     "traceback": [
      "Error in lprot_dat[[\"Area T24_T3 normalized\"]]: subscript out of bounds\nTraceback:\n",
      "1. mean(lprot_dat[[\"Area T24_T3 normalized\"]])"
     ]
    },
    {
     "data": {
      "image/jpeg": "[encoded data removed]",
      "image/png": "",
      "image/svg+xml": [
       "<?xml version=\"1.0\" encoding=\"UTF-8\"?>\n",
       "<svg xmlns=\"http://www.w3.org/2000/svg\" xmlns:xlink=\"http://www.w3.org/1999/xlink\" width=\"288pt\" height=\"216pt\" viewBox=\"0 0 288 216\" version=\"1.1\">\n",
       "<defs>\n",
       "<g>\n",
       "<symbol overflow=\"visible\" id=\"glyph0-0\">\n",
       "<path style=\"stroke:none;\" d=\"\"/>\n",
       "</symbol>\n",
       "<symbol overflow=\"visible\" id=\"glyph0-1\">\n",
       "<path style=\"stroke:none;\" d=\"M 9.84375 -0.140625 L 9.84375 -11.140625 L 7.5 -11.140625 L 7.5 -7.0625 L 3.296875 -7.0625 L 3.296875 -11.140625 L 0.953125 -11.140625 L 0.953125 0 L 3.296875 0 L 3.296875 -4.9375 L 7.5 -4.9375 L 7.5 0 L 9.84375 0 Z M 9.84375 -0.140625 \"/>\n",
       "</symbol>\n",
       "<symbol overflow=\"visible\" id=\"glyph0-2\">\n",
       "<path style=\"stroke:none;\" d=\"M 3.125 -0.140625 L 3.125 -8.3125 L 0.9375 -8.3125 L 0.9375 0 L 3.125 0 Z M 3.15625 -9.15625 L 3.15625 -11.375 L 0.96875 -11.375 L 0.96875 -9.015625 L 3.15625 -9.015625 Z M 3.15625 -9.15625 \"/>\n",
       "</symbol>\n",
       "<symbol overflow=\"visible\" id=\"glyph0-3\">\n",
       "<path style=\"stroke:none;\" d=\"M 7.796875 -2.515625 L 7.796875 -2.625 C 7.796875 -3.546875 7.234375 -4.375 6.171875 -4.6875 L 3.53125 -5.4375 C 2.953125 -5.609375 2.84375 -5.609375 2.84375 -5.9375 C 2.84375 -6.375 3.28125 -6.546875 4.015625 -6.546875 C 5.015625 -6.546875 5.4375 -6.3125 5.453125 -5.453125 L 7.578125 -5.453125 C 7.546875 -7.296875 6.1875 -8.453125 4.03125 -8.453125 C 1.984375 -8.453125 0.65625 -7.296875 0.65625 -5.640625 C 0.65625 -4.65625 0.984375 -3.984375 2.46875 -3.515625 L 4.96875 -2.75 C 5.484375 -2.578125 5.609375 -2.546875 5.609375 -2.328125 C 5.609375 -1.828125 5.078125 -1.78125 4.109375 -1.78125 C 3.15625 -1.78125 2.703125 -1.8125 2.484375 -2.8125 L 0.375 -2.8125 C 0.4375 -0.921875 1.78125 0.140625 4.234375 0.140625 C 6.5 0.140625 7.796875 -0.890625 7.796875 -2.515625 Z M 7.796875 -2.515625 \"/>\n",
       "</symbol>\n",
       "<symbol overflow=\"visible\" id=\"glyph0-4\">\n",
       "<path style=\"stroke:none;\" d=\"M 4.53125 -0.140625 L 4.53125 -1.734375 C 4.28125 -1.703125 4.15625 -1.6875 4.015625 -1.6875 C 3.453125 -1.6875 3.375 -1.71875 3.375 -2.4375 L 3.375 -6.5 L 4.53125 -6.5 L 4.53125 -8.15625 L 3.375 -8.15625 L 3.375 -10.3125 L 1.171875 -10.3125 L 1.171875 -8.15625 L 0.15625 -8.15625 L 0.15625 -6.5 L 1.171875 -6.5 L 1.171875 -1.859375 C 1.171875 -0.59375 1.90625 0.0625 3.28125 0.0625 C 3.734375 0.0625 4.109375 0.015625 4.53125 0 Z M 4.53125 -0.140625 \"/>\n",
       "</symbol>\n",
       "<symbol overflow=\"visible\" id=\"glyph0-5\">\n",
       "<path style=\"stroke:none;\" d=\"M 8.53125 -4.09375 C 8.53125 -6.828125 7 -8.453125 4.484375 -8.453125 C 2.03125 -8.453125 0.46875 -6.796875 0.46875 -4.15625 C 0.46875 -1.5 2.03125 0.140625 4.5 0.140625 C 6.953125 0.140625 8.53125 -1.515625 8.53125 -4.09375 Z M 6.328125 -4.125 C 6.328125 -2.625 5.625 -1.8125 4.5 -1.8125 C 3.375 -1.8125 2.65625 -2.625 2.65625 -4.15625 C 2.65625 -5.6875 3.375 -6.5 4.5 -6.5 C 5.65625 -6.5 6.328125 -5.703125 6.328125 -4.125 Z M 6.328125 -4.125 \"/>\n",
       "</symbol>\n",
       "<symbol overflow=\"visible\" id=\"glyph0-6\">\n",
       "<path style=\"stroke:none;\" d=\"M 8.109375 0.140625 L 8.109375 -8.3125 L 6.015625 -8.3125 L 6.015625 -7.15625 C 5.484375 -7.984375 4.765625 -8.453125 3.84375 -8.453125 C 1.9375 -8.453125 0.453125 -6.5625 0.453125 -4.0625 C 0.453125 -1.5625 1.8125 0.140625 3.796875 0.140625 C 4.734375 0.140625 5.34375 -0.171875 6.015625 -0.875 L 6.015625 0.140625 C 6.015625 1.109375 5.34375 1.640625 4.3125 1.640625 C 3.515625 1.640625 3.046875 1.453125 2.828125 0.703125 L 0.609375 0.703125 C 0.640625 2.140625 2.03125 3.25 4.234375 3.25 C 6.65625 3.25 8.109375 2.03125 8.109375 0.140625 Z M 6.046875 -4.09375 C 6.046875 -2.640625 5.34375 -1.875 4.265625 -1.875 C 3.28125 -1.875 2.640625 -2.640625 2.640625 -4.09375 C 2.640625 -5.625 3.28125 -6.4375 4.296875 -6.4375 C 5.34375 -6.4375 6.046875 -5.59375 6.046875 -4.09375 Z M 6.046875 -4.09375 \"/>\n",
       "</symbol>\n",
       "<symbol overflow=\"visible\" id=\"glyph0-7\">\n",
       "<path style=\"stroke:none;\" d=\"M 5.5625 -6.1875 L 5.5625 -8.421875 C 5.390625 -8.453125 5.328125 -8.453125 5.265625 -8.453125 C 4.3125 -8.453125 3.40625 -7.6875 3.078125 -6.828125 L 3.078125 -8.3125 L 0.875 -8.3125 L 0.875 0 L 3.078125 0 L 3.078125 -4.40625 C 3.078125 -5.640625 3.640625 -6.109375 4.859375 -6.109375 C 5.078125 -6.109375 5.234375 -6.09375 5.5625 -6.03125 Z M 5.5625 -6.1875 \"/>\n",
       "</symbol>\n",
       "<symbol overflow=\"visible\" id=\"glyph0-8\">\n",
       "<path style=\"stroke:none;\" d=\"M 7.859375 -0.140625 L 7.859375 -0.46875 C 7.46875 -0.8125 7.375 -0.953125 7.375 -1.375 L 7.375 -5.84375 C 7.375 -7.484375 6.21875 -8.453125 4.046875 -8.453125 C 1.859375 -8.453125 0.671875 -7.390625 0.53125 -5.390625 L 2.640625 -5.390625 C 2.75 -6.359375 3.0625 -6.5 4.078125 -6.5 C 4.890625 -6.5 5.234375 -6.359375 5.234375 -5.828125 C 5.234375 -4.984375 4.671875 -5.203125 3.625 -5.015625 L 2.78125 -4.875 C 1.1875 -4.59375 0.359375 -3.765625 0.359375 -2.3125 C 0.359375 -0.75 1.515625 0.140625 2.859375 0.140625 C 3.75 0.140625 4.609375 -0.28125 5.25 -0.96875 C 5.25 -0.734375 5.3125 -0.265625 5.53125 0 L 7.859375 0 Z M 5.234375 -3.578125 C 5.234375 -2.375 4.703125 -1.8125 3.640625 -1.8125 C 2.9375 -1.8125 2.546875 -1.953125 2.546875 -2.546875 C 2.546875 -3.15625 2.828125 -3.25 3.703125 -3.40625 L 4.40625 -3.546875 C 4.96875 -3.65625 5.078125 -3.71875 5.234375 -3.796875 Z M 5.234375 -3.578125 \"/>\n",
       "</symbol>\n",
       "<symbol overflow=\"visible\" id=\"glyph0-9\">\n",
       "<path style=\"stroke:none;\" d=\"M 12.328125 -0.140625 L 12.328125 -5.828125 C 12.328125 -7.390625 11.328125 -8.453125 9.71875 -8.453125 C 8.703125 -8.453125 7.9375 -8.046875 7.359375 -7.28125 C 7 -7.96875 6.171875 -8.453125 5.171875 -8.453125 C 4.25 -8.453125 3.609375 -8.09375 3.015625 -7.375 L 3.015625 -8.3125 L 0.828125 -8.3125 L 0.828125 0 L 3.03125 0 L 3.03125 -4.96875 C 3.03125 -5.953125 3.515625 -6.40625 4.40625 -6.40625 C 5.109375 -6.40625 5.484375 -6.140625 5.484375 -5.5 L 5.484375 0 L 7.671875 0 L 7.671875 -4.96875 C 7.671875 -5.953125 8.171875 -6.40625 9.0625 -6.40625 C 9.765625 -6.40625 10.140625 -6.140625 10.140625 -5.5 L 10.140625 0 L 12.328125 0 Z M 12.328125 -0.140625 \"/>\n",
       "</symbol>\n",
       "<symbol overflow=\"visible\" id=\"glyph0-10\">\n",
       "<path style=\"stroke:none;\" d=\"\"/>\n",
       "</symbol>\n",
       "<symbol overflow=\"visible\" id=\"glyph0-11\">\n",
       "<path style=\"stroke:none;\" d=\"M 4.703125 -6.640625 L 4.703125 -8.15625 L 3.46875 -8.15625 L 3.46875 -8.8125 C 3.46875 -9.234375 3.609375 -9.296875 4 -9.296875 C 4.171875 -9.296875 4.40625 -9.28125 4.640625 -9.234375 L 4.640625 -11.09375 C 4.203125 -11.125 3.6875 -11.140625 3.40625 -11.140625 C 2.015625 -11.140625 1.28125 -10.34375 1.28125 -8.984375 L 1.28125 -8.15625 L 0.15625 -8.15625 L 0.15625 -6.5 L 1.28125 -6.5 L 1.28125 0 L 3.46875 0 L 3.46875 -6.5 L 4.703125 -6.5 Z M 4.703125 -6.640625 \"/>\n",
       "</symbol>\n",
       "<symbol overflow=\"visible\" id=\"glyph0-12\">\n",
       "<path style=\"stroke:none;\" d=\"M 3.125 -0.140625 L 3.125 -11.140625 L 0.9375 -11.140625 L 0.9375 0 L 3.125 0 Z M 3.125 -0.140625 \"/>\n",
       "</symbol>\n",
       "<symbol overflow=\"visible\" id=\"glyph0-13\">\n",
       "<path style=\"stroke:none;\" d=\"M 8.59375 -4.15625 C 8.59375 -6.546875 7.296875 -8.453125 5.1875 -8.453125 C 4.171875 -8.453125 3.40625 -7.96875 3 -7.234375 L 3 -8.3125 L 0.8125 -8.3125 L 0.8125 3.25 L 3 3.25 L 3 -0.96875 C 3.40625 -0.203125 4.171875 0.140625 5.1875 0.140625 C 7.125 0.140625 8.59375 -1.71875 8.59375 -4.15625 Z M 6.40625 -4.125 C 6.40625 -2.671875 5.734375 -1.875 4.703125 -1.875 C 3.671875 -1.875 3 -2.65625 3 -4.15625 C 3 -5.671875 3.671875 -6.4375 4.703125 -6.4375 C 5.765625 -6.4375 6.40625 -5.671875 6.40625 -4.125 Z M 6.40625 -4.125 \"/>\n",
       "</symbol>\n",
       "<symbol overflow=\"visible\" id=\"glyph0-14\">\n",
       "<path style=\"stroke:none;\" d=\"M 8.65625 2.6875 L 8.65625 1.515625 L -0.390625 1.515625 L -0.390625 2.8125 L 8.65625 2.8125 Z M 8.65625 2.6875 \"/>\n",
       "</symbol>\n",
       "<symbol overflow=\"visible\" id=\"glyph0-15\">\n",
       "<path style=\"stroke:none;\" d=\"M 8.171875 -0.140625 L 8.171875 -11.140625 L 5.984375 -11.140625 L 5.984375 -7.34375 C 5.546875 -8.03125 4.8125 -8.453125 3.8125 -8.453125 C 1.890625 -8.453125 0.375 -6.578125 0.375 -4.140625 C 0.375 -1.859375 1.6875 0.140625 3.8125 0.140625 C 4.8125 0.140625 5.546875 -0.265625 5.984375 -0.84375 L 5.984375 0 L 8.171875 0 Z M 5.984375 -4.109375 C 5.984375 -2.65625 5.328125 -1.875 4.28125 -1.875 C 3.234375 -1.875 2.5625 -2.671875 2.5625 -4.140625 C 2.5625 -5.640625 3.234375 -6.4375 4.28125 -6.4375 C 5.34375 -6.4375 5.984375 -5.65625 5.984375 -4.109375 Z M 5.984375 -4.109375 \"/>\n",
       "</symbol>\n",
       "<symbol overflow=\"visible\" id=\"glyph1-0\">\n",
       "<path style=\"stroke:none;\" d=\"\"/>\n",
       "</symbol>\n",
       "<symbol overflow=\"visible\" id=\"glyph1-1\">\n",
       "<path style=\"stroke:none;\" d=\"M 2.015625 -0.125 L 2.015625 -9.375 L 0.71875 -9.375 L 0.71875 0 L 2.015625 0 Z M 2.015625 -0.125 \"/>\n",
       "</symbol>\n",
       "<symbol overflow=\"visible\" id=\"glyph1-2\">\n",
       "<path style=\"stroke:none;\" d=\"M 6.65625 -3.34375 C 6.65625 -5.53125 5.46875 -7 3.71875 -7 C 2.84375 -7 2.03125 -6.546875 1.53125 -5.78125 L 1.765625 -5.6875 L 1.765625 -6.8125 L 0.546875 -6.8125 L 0.546875 2.71875 L 1.84375 2.71875 L 1.84375 -0.90625 L 1.625 -0.828125 C 2.171875 -0.15625 2.890625 0.1875 3.734375 0.1875 C 5.421875 0.1875 6.65625 -1.25 6.65625 -3.34375 Z M 5.3125 -3.359375 C 5.3125 -1.875 4.6875 -1.046875 3.546875 -1.046875 C 2.453125 -1.046875 1.84375 -1.8125 1.84375 -3.34375 C 1.84375 -4.890625 2.453125 -5.765625 3.546875 -5.765625 C 4.703125 -5.765625 5.3125 -4.921875 5.3125 -3.359375 Z M 5.3125 -3.359375 \"/>\n",
       "</symbol>\n",
       "<symbol overflow=\"visible\" id=\"glyph1-3\">\n",
       "<path style=\"stroke:none;\" d=\"M 4.140625 -5.765625 L 4.140625 -6.9375 C 3.84375 -6.984375 3.75 -7 3.609375 -7 C 2.9375 -7 2.328125 -6.546875 1.71875 -5.578125 L 1.953125 -5.484375 L 1.953125 -6.8125 L 0.734375 -6.8125 L 0.734375 0 L 2.03125 0 L 2.03125 -3.53125 C 2.03125 -5 2.40625 -5.609375 4.140625 -5.640625 Z M 4.140625 -5.765625 \"/>\n",
       "</symbol>\n",
       "<symbol overflow=\"visible\" id=\"glyph1-4\">\n",
       "<path style=\"stroke:none;\" d=\"M 6.5 -3.34375 C 6.5 -5.609375 5.28125 -7 3.40625 -7 C 1.5625 -7 0.3125 -5.59375 0.3125 -3.40625 C 0.3125 -1.203125 1.546875 0.1875 3.40625 0.1875 C 5.25 0.1875 6.5 -1.203125 6.5 -3.34375 Z M 5.15625 -3.359375 C 5.15625 -1.828125 4.5625 -1.03125 3.40625 -1.03125 C 2.25 -1.03125 1.65625 -1.8125 1.65625 -3.40625 C 1.65625 -4.96875 2.25 -5.78125 3.40625 -5.78125 C 4.59375 -5.78125 5.15625 -4.984375 5.15625 -3.359375 Z M 5.15625 -3.359375 \"/>\n",
       "</symbol>\n",
       "<symbol overflow=\"visible\" id=\"glyph1-5\">\n",
       "<path style=\"stroke:none;\" d=\"M 3.296875 -0.125 L 3.296875 -1.171875 C 3.03125 -1.09375 2.875 -1.09375 2.671875 -1.09375 C 2.21875 -1.09375 2.21875 -1.078125 2.21875 -1.53125 L 2.21875 -5.703125 L 3.296875 -5.703125 L 3.296875 -6.8125 L 2.21875 -6.8125 L 2.21875 -8.609375 L 0.921875 -8.609375 L 0.921875 -6.8125 L 0.03125 -6.8125 L 0.03125 -5.703125 L 0.921875 -5.703125 L 0.921875 -1.078125 C 0.921875 -0.40625 1.515625 0.09375 2.328125 0.09375 C 2.578125 0.09375 2.828125 0.0625 3.296875 -0.015625 Z M 3.296875 -0.125 \"/>\n",
       "</symbol>\n",
       "<symbol overflow=\"visible\" id=\"glyph1-6\">\n",
       "<path style=\"stroke:none;\" d=\"M 7.34375 2.09375 L 7.34375 1.328125 L -0.40625 1.328125 L -0.40625 2.21875 L 7.34375 2.21875 Z M 7.34375 2.09375 \"/>\n",
       "</symbol>\n",
       "<symbol overflow=\"visible\" id=\"glyph1-7\">\n",
       "<path style=\"stroke:none;\" d=\"M 6.3125 -0.125 L 6.3125 -9.375 L 5.015625 -9.375 L 5.015625 -5.84375 L 5.234375 -5.9375 C 4.796875 -6.59375 4.015625 -7 3.140625 -7 C 1.4375 -7 0.1875 -5.546875 0.1875 -3.46875 C 0.1875 -1.25 1.40625 0.1875 3.171875 0.1875 C 4.078125 0.1875 4.78125 -0.1875 5.34375 -1 L 5.125 -1.09375 L 5.125 0 L 6.3125 0 Z M 5.015625 -3.375 C 5.015625 -1.859375 4.421875 -1.046875 3.328125 -1.046875 C 2.171875 -1.046875 1.53125 -1.875 1.53125 -3.40625 C 1.53125 -4.921875 2.171875 -5.765625 3.3125 -5.765625 C 4.4375 -5.765625 5.015625 -4.890625 5.015625 -3.375 Z M 5.015625 -3.375 \"/>\n",
       "</symbol>\n",
       "<symbol overflow=\"visible\" id=\"glyph1-8\">\n",
       "<path style=\"stroke:none;\" d=\"M 6.8125 -0.15625 L 6.8125 -1.09375 C 6.578125 -1.046875 6.53125 -1.046875 6.46875 -1.046875 C 6.09375 -1.046875 6.03125 -1.09375 6.03125 -1.421875 L 6.03125 -5.078125 C 6.03125 -6.234375 5.046875 -7 3.4375 -7 C 1.84375 -7 0.734375 -6.25 0.65625 -4.609375 L 1.96875 -4.609375 C 2.078125 -5.53125 2.421875 -5.78125 3.40625 -5.78125 C 4.34375 -5.78125 4.71875 -5.546875 4.71875 -4.921875 L 4.71875 -4.65625 C 4.71875 -4.21875 4.59375 -4.15625 3.78125 -4.0625 C 2.296875 -3.875 2.078125 -3.828125 1.671875 -3.65625 C 0.90625 -3.34375 0.390625 -2.625 0.390625 -1.828125 C 0.390625 -0.640625 1.34375 0.1875 2.671875 0.1875 C 3.515625 0.1875 4.40625 -0.203125 4.828125 -0.640625 C 4.875 -0.40625 5.46875 0.09375 5.96875 0.09375 C 6.1875 0.09375 6.34375 0.0625 6.8125 -0.046875 Z M 4.71875 -2.390625 C 4.71875 -1.453125 3.90625 -0.984375 2.90625 -0.984375 C 2.09375 -0.984375 1.734375 -1.140625 1.734375 -1.84375 C 1.734375 -2.53125 2.078125 -2.71875 3.1875 -2.875 C 4.28125 -3.03125 4.515625 -3.078125 4.71875 -3.171875 Z M 4.71875 -2.390625 \"/>\n",
       "</symbol>\n",
       "<symbol overflow=\"visible\" id=\"glyph1-9\">\n",
       "<path style=\"stroke:none;\" d=\"M 6.515625 -6.390625 C 6.515625 -7.890625 5.21875 -9.125 3.546875 -9.125 C 1.734375 -9.125 0.546875 -8.0625 0.484375 -5.78125 L 1.84375 -5.78125 C 1.9375 -7.40625 2.421875 -7.90625 3.515625 -7.90625 C 4.515625 -7.90625 5.125 -7.3125 5.125 -6.359375 C 5.125 -5.65625 4.75 -5.15625 3.96875 -4.703125 L 2.8125 -4.046875 C 0.96875 -3 0.390625 -2.078125 0.28125 0 L 6.453125 0 L 6.453125 -1.34375 L 1.8125 -1.34375 C 1.90625 -1.9375 2.265625 -2.3125 3.34375 -2.953125 L 4.59375 -3.625 C 5.84375 -4.28125 6.515625 -5.296875 6.515625 -6.390625 Z M 6.515625 -6.390625 \"/>\n",
       "</symbol>\n",
       "<symbol overflow=\"visible\" id=\"glyph1-10\">\n",
       "<path style=\"stroke:none;\" d=\"M 6.625 -2.25 L 6.625 -3.375 L 5.3125 -3.375 L 5.3125 -9.125 L 4.296875 -9.125 L 0.21875 -3.453125 L 0.21875 -2.125 L 3.953125 -2.125 L 3.953125 0 L 5.3125 0 L 5.3125 -2.125 L 6.625 -2.125 Z M 4.09375 -3.375 L 1.5625 -3.375 L 4.171875 -7.03125 L 3.953125 -7.109375 L 3.953125 -3.375 Z M 4.09375 -3.375 \"/>\n",
       "</symbol>\n",
       "<symbol overflow=\"visible\" id=\"glyph1-11\">\n",
       "<path style=\"stroke:none;\" d=\"M 6.53125 -2.875 C 6.53125 -4.53125 5.28125 -5.78125 3.703125 -5.78125 C 2.828125 -5.78125 2.03125 -5.390625 1.5625 -4.734375 L 1.78125 -4.65625 C 1.796875 -6.8125 2.375 -7.890625 3.640625 -7.890625 C 4.40625 -7.890625 4.8125 -7.53125 5.015625 -6.546875 L 6.375 -6.546875 C 6.140625 -8.125 5.0625 -9.125 3.71875 -9.125 C 1.65625 -9.125 0.40625 -7.25 0.40625 -4.15625 C 0.40625 -1.40625 1.484375 0.1875 3.515625 0.1875 C 5.203125 0.1875 6.53125 -1.140625 6.53125 -2.875 Z M 5.15625 -2.78125 C 5.15625 -1.671875 4.53125 -1.046875 3.53125 -1.046875 C 2.5 -1.046875 1.84375 -1.71875 1.84375 -2.84375 C 1.84375 -3.953125 2.46875 -4.53125 3.5625 -4.53125 C 4.625 -4.53125 5.15625 -3.96875 5.15625 -2.78125 Z M 5.15625 -2.78125 \"/>\n",
       "</symbol>\n",
       "<symbol overflow=\"visible\" id=\"glyph1-12\">\n",
       "<path style=\"stroke:none;\" d=\"M 6.53125 -2.625 C 6.53125 -3.609375 5.90625 -4.4375 5.140625 -4.796875 C 5.890625 -5.25 6.21875 -5.78125 6.21875 -6.625 C 6.21875 -8.015625 5.015625 -9.125 3.4375 -9.125 C 1.875 -9.125 0.640625 -8.015625 0.640625 -6.625 C 0.640625 -5.796875 0.96875 -5.265625 1.71875 -4.796875 C 0.96875 -4.4375 0.328125 -3.609375 0.328125 -2.640625 C 0.328125 -1.015625 1.6875 0.1875 3.4375 0.1875 C 5.1875 0.1875 6.53125 -1.015625 6.53125 -2.625 Z M 4.84375 -6.59375 C 4.84375 -5.78125 4.359375 -5.359375 3.4375 -5.359375 C 2.515625 -5.359375 2.03125 -5.78125 2.03125 -6.609375 C 2.03125 -7.46875 2.515625 -7.890625 3.4375 -7.890625 C 4.375 -7.890625 4.84375 -7.46875 4.84375 -6.59375 Z M 5.15625 -2.609375 C 5.15625 -1.5625 4.53125 -1.046875 3.40625 -1.046875 C 2.34375 -1.046875 1.71875 -1.578125 1.71875 -2.609375 C 1.71875 -3.65625 2.34375 -4.171875 3.4375 -4.171875 C 4.53125 -4.171875 5.15625 -3.65625 5.15625 -2.609375 Z M 5.15625 -2.609375 \"/>\n",
       "</symbol>\n",
       "<symbol overflow=\"visible\" id=\"glyph1-13\">\n",
       "<path style=\"stroke:none;\" d=\"M 4.46875 -0.125 L 4.46875 -9.125 L 3.515625 -9.125 C 3.09375 -7.625 2.96875 -7.578125 1.140625 -7.34375 L 1.140625 -6.3125 L 3.09375 -6.3125 L 3.09375 0 L 4.46875 0 Z M 4.46875 -0.125 \"/>\n",
       "</symbol>\n",
       "<symbol overflow=\"visible\" id=\"glyph1-14\">\n",
       "<path style=\"stroke:none;\" d=\"M 6.46875 -4.390625 C 6.46875 -7.46875 5.359375 -9.125 3.4375 -9.125 C 1.53125 -9.125 0.40625 -7.4375 0.40625 -4.46875 C 0.40625 -1.46875 1.53125 0.1875 3.4375 0.1875 C 5.3125 0.1875 6.46875 -1.46875 6.46875 -4.390625 Z M 5.078125 -4.484375 C 5.078125 -1.96875 4.640625 -0.984375 3.40625 -0.984375 C 2.25 -0.984375 1.78125 -2.03125 1.78125 -4.453125 C 1.78125 -6.875 2.25 -7.890625 3.4375 -7.890625 C 4.625 -7.890625 5.078125 -6.859375 5.078125 -4.484375 Z M 5.078125 -4.484375 \"/>\n",
       "</symbol>\n",
       "<symbol overflow=\"visible\" id=\"glyph2-0\">\n",
       "<path style=\"stroke:none;\" d=\"\"/>\n",
       "</symbol>\n",
       "<symbol overflow=\"visible\" id=\"glyph2-1\">\n",
       "<path style=\"stroke:none;\" d=\"M -8.21875 -7.359375 L -9.375 -7.359375 L -9.375 -0.984375 L 0 -0.984375 L 0 -2.40625 L -4.15625 -2.40625 L -4.15625 -6.765625 L -5.4375 -6.765625 L -5.4375 -2.40625 L -8.09375 -2.40625 L -8.09375 -7.359375 Z M -8.21875 -7.359375 \"/>\n",
       "</symbol>\n",
       "<symbol overflow=\"visible\" id=\"glyph2-2\">\n",
       "<path style=\"stroke:none;\" d=\"M -5.765625 -4.140625 L -6.9375 -4.140625 C -6.984375 -3.84375 -7 -3.75 -7 -3.609375 C -7 -2.9375 -6.546875 -2.328125 -5.578125 -1.71875 L -5.484375 -1.953125 L -6.8125 -1.953125 L -6.8125 -0.734375 L 0 -0.734375 L 0 -2.03125 L -3.53125 -2.03125 C -5 -2.03125 -5.609375 -2.40625 -5.640625 -4.140625 Z M -5.765625 -4.140625 \"/>\n",
       "</symbol>\n",
       "<symbol overflow=\"visible\" id=\"glyph2-3\">\n",
       "<path style=\"stroke:none;\" d=\"M -3.09375 -6.53125 C -4.046875 -6.53125 -4.65625 -6.46875 -5.140625 -6.28125 C -6.21875 -5.84375 -7 -4.71875 -7 -3.5 C -7 -1.671875 -5.515625 -0.359375 -3.359375 -0.359375 C -1.21875 -0.359375 0.1875 -1.640625 0.1875 -3.46875 C 0.1875 -4.96875 -0.78125 -6.140625 -2.25 -6.421875 L -2.25 -5.125 C -1.25 -4.796875 -1.03125 -4.34375 -1.03125 -3.515625 C -1.03125 -2.421875 -1.59375 -1.734375 -2.96875 -1.71875 L -2.96875 -6.53125 Z M -3.9375 -5.390625 C -3.9375 -5.390625 -4.0625 -5.203125 -4.09375 -5.21875 L -4.09375 -1.75 C -5.109375 -1.828125 -5.78125 -2.4375 -5.78125 -3.484375 C -5.78125 -4.515625 -5.046875 -5.15625 -4.03125 -5.15625 Z M -3.9375 -5.390625 \"/>\n",
       "</symbol>\n",
       "<symbol overflow=\"visible\" id=\"glyph2-4\">\n",
       "<path style=\"stroke:none;\" d=\"M 2.59375 -6.3125 L -6.8125 -6.3125 L -6.8125 -5.125 L -5.796875 -5.125 L -5.890625 -5.34375 C -6.578125 -4.859375 -7 -4.03125 -7 -3.171875 C -7 -1.453125 -5.5 -0.1875 -3.328125 -0.1875 C -1.203125 -0.1875 0.1875 -1.40625 0.1875 -3.125 C 0.1875 -4.03125 -0.171875 -4.75 -0.890625 -5.234375 L -0.96875 -5.015625 L 2.71875 -5.015625 L 2.71875 -6.3125 Z M -3.359375 -5.015625 C -1.859375 -5.015625 -1.046875 -4.421875 -1.046875 -3.328125 C -1.046875 -2.171875 -1.875 -1.53125 -3.40625 -1.53125 C -4.90625 -1.53125 -5.765625 -2.171875 -5.765625 -3.328125 C -5.765625 -4.4375 -4.890625 -5.015625 -3.359375 -5.015625 Z M -3.359375 -5.015625 \"/>\n",
       "</symbol>\n",
       "<symbol overflow=\"visible\" id=\"glyph2-5\">\n",
       "<path style=\"stroke:none;\" d=\"M -0.125 -6.15625 L -6.8125 -6.15625 L -6.8125 -4.84375 L -3.0625 -4.84375 C -1.71875 -4.84375 -0.984375 -4.28125 -0.984375 -3.203125 C -0.984375 -2.375 -1.34375 -1.96875 -2.140625 -1.96875 L -6.8125 -1.96875 L -6.8125 -0.671875 L -1.71875 -0.671875 C -0.640625 -0.671875 0.1875 -1.625 0.1875 -2.90625 C 0.1875 -3.859375 -0.1875 -4.5625 -1.046875 -5.171875 L -1.140625 -4.953125 L 0 -4.953125 L 0 -6.15625 Z M -0.125 -6.15625 \"/>\n",
       "</symbol>\n",
       "<symbol overflow=\"visible\" id=\"glyph2-6\">\n",
       "<path style=\"stroke:none;\" d=\"M -0.125 -6.21875 L -5.078125 -6.21875 C -6.15625 -6.21875 -7 -5.28125 -7 -4.015625 C -7 -3.03125 -6.578125 -2.3125 -5.65625 -1.734375 L -5.578125 -1.96875 L -6.8125 -1.96875 L -6.8125 -0.734375 L 0 -0.734375 L 0 -2.03125 L -3.734375 -2.03125 C -5.078125 -2.03125 -5.828125 -2.640625 -5.828125 -3.703125 C -5.828125 -4.53125 -5.453125 -4.90625 -4.65625 -4.90625 L 0 -4.90625 L 0 -6.21875 Z M -0.125 -6.21875 \"/>\n",
       "</symbol>\n",
       "<symbol overflow=\"visible\" id=\"glyph2-7\">\n",
       "<path style=\"stroke:none;\" d=\"M -2.515625 -5.96875 L -2.515625 -4.796875 C -1.328125 -4.59375 -1.03125 -4.203125 -1.03125 -3.3125 C -1.03125 -2.15625 -1.78125 -1.59375 -3.34375 -1.59375 C -4.96875 -1.59375 -5.78125 -2.15625 -5.78125 -3.28125 C -5.78125 -4.15625 -5.390625 -4.578125 -4.34375 -4.71875 L -4.34375 -6.03125 C -6.078125 -5.890625 -7 -4.765625 -7 -3.296875 C -7 -1.53125 -5.515625 -0.25 -3.34375 -0.25 C -1.21875 -0.25 0.1875 -1.515625 0.1875 -3.28125 C 0.1875 -4.84375 -0.875 -5.96875 -2.515625 -6.09375 Z M -2.515625 -5.96875 \"/>\n",
       "</symbol>\n",
       "<symbol overflow=\"visible\" id=\"glyph2-8\">\n",
       "<path style=\"stroke:none;\" d=\"M -6.8125 -5.96875 L -6.8125 -4.765625 L -1.578125 -2.90625 L -1.578125 -3.15625 L -6.8125 -1.453125 L -6.8125 -0.0625 L -0.09375 -2.328125 L 0.9375 -1.921875 C 1.40625 -1.75 1.4375 -1.671875 1.4375 -1.21875 C 1.4375 -1.078125 1.40625 -0.90625 1.34375 -0.53125 L 2.515625 -0.53125 C 2.640625 -0.78125 2.71875 -1.09375 2.71875 -1.375 C 2.71875 -2.109375 2.1875 -2.84375 1.25 -3.1875 L -6.8125 -6.15625 Z M -6.8125 -5.96875 \"/>\n",
       "</symbol>\n",
       "<symbol overflow=\"visible\" id=\"glyph2-9\">\n",
       "<path style=\"stroke:none;\" d=\"M -4.390625 -6.46875 C -7.46875 -6.46875 -9.125 -5.359375 -9.125 -3.4375 C -9.125 -1.53125 -7.4375 -0.40625 -4.46875 -0.40625 C -1.46875 -0.40625 0.1875 -1.53125 0.1875 -3.4375 C 0.1875 -5.3125 -1.46875 -6.46875 -4.390625 -6.46875 Z M -4.484375 -5.078125 C -1.96875 -5.078125 -0.984375 -4.640625 -0.984375 -3.40625 C -0.984375 -2.25 -2.03125 -1.78125 -4.453125 -1.78125 C -6.875 -1.78125 -7.890625 -2.25 -7.890625 -3.4375 C -7.890625 -4.625 -6.859375 -5.078125 -4.484375 -5.078125 Z M -4.484375 -5.078125 \"/>\n",
       "</symbol>\n",
       "<symbol overflow=\"visible\" id=\"glyph2-10\">\n",
       "<path style=\"stroke:none;\" d=\"M -0.125 -4.46875 L -9.125 -4.46875 L -9.125 -3.515625 C -7.625 -3.09375 -7.578125 -2.96875 -7.34375 -1.140625 L -6.3125 -1.140625 L -6.3125 -3.09375 L 0 -3.09375 L 0 -4.46875 Z M -0.125 -4.46875 \"/>\n",
       "</symbol>\n",
       "</g>\n",
       "</defs>\n",
       "<g id=\"surface2281\">\n",
       "<rect x=\"0\" y=\"0\" width=\"288\" height=\"216\" style=\"fill:rgb(100%,100%,100%);fill-opacity:1;stroke:none;\"/>\n",
       "<g style=\"fill:rgb(0%,0%,0%);fill-opacity:1;\">\n",
       "  <use xlink:href=\"#glyph0-1\" x=\"78.480469\" y=\"35.089844\"/>\n",
       "  <use xlink:href=\"#glyph0-2\" x=\"89.242722\" y=\"35.089844\"/>\n",
       "  <use xlink:href=\"#glyph0-3\" x=\"93.386642\" y=\"35.089844\"/>\n",
       "  <use xlink:href=\"#glyph0-4\" x=\"101.674469\" y=\"35.089844\"/>\n",
       "  <use xlink:href=\"#glyph0-5\" x=\"106.638229\" y=\"35.089844\"/>\n",
       "  <use xlink:href=\"#glyph0-6\" x=\"115.745895\" y=\"35.089844\"/>\n",
       "  <use xlink:href=\"#glyph0-7\" x=\"124.853561\" y=\"35.089844\"/>\n",
       "  <use xlink:href=\"#glyph0-8\" x=\"130.652054\" y=\"35.089844\"/>\n",
       "  <use xlink:href=\"#glyph0-9\" x=\"138.93988\" y=\"35.089844\"/>\n",
       "  <use xlink:href=\"#glyph0-10\" x=\"152.191467\" y=\"35.089844\"/>\n",
       "  <use xlink:href=\"#glyph0-5\" x=\"156.335388\" y=\"35.089844\"/>\n",
       "  <use xlink:href=\"#glyph0-11\" x=\"165.443054\" y=\"35.089844\"/>\n",
       "  <use xlink:href=\"#glyph0-10\" x=\"170.406815\" y=\"35.089844\"/>\n",
       "  <use xlink:href=\"#glyph0-12\" x=\"174.550735\" y=\"35.089844\"/>\n",
       "  <use xlink:href=\"#glyph0-13\" x=\"178.694656\" y=\"35.089844\"/>\n",
       "  <use xlink:href=\"#glyph0-7\" x=\"187.802322\" y=\"35.089844\"/>\n",
       "  <use xlink:href=\"#glyph0-5\" x=\"193.600815\" y=\"35.089844\"/>\n",
       "  <use xlink:href=\"#glyph0-4\" x=\"202.708481\" y=\"35.089844\"/>\n",
       "  <use xlink:href=\"#glyph0-14\" x=\"207.672241\" y=\"35.089844\"/>\n",
       "  <use xlink:href=\"#glyph0-15\" x=\"215.960068\" y=\"35.089844\"/>\n",
       "  <use xlink:href=\"#glyph0-8\" x=\"225.067734\" y=\"35.089844\"/>\n",
       "  <use xlink:href=\"#glyph0-4\" x=\"233.35556\" y=\"35.089844\"/>\n",
       "</g>\n",
       "<g style=\"fill:rgb(0%,0%,0%);fill-opacity:1;\">\n",
       "  <use xlink:href=\"#glyph1-1\" x=\"134.078125\" y=\"198.71875\"/>\n",
       "  <use xlink:href=\"#glyph1-2\" x=\"136.853134\" y=\"198.71875\"/>\n",
       "  <use xlink:href=\"#glyph1-3\" x=\"143.803162\" y=\"198.71875\"/>\n",
       "  <use xlink:href=\"#glyph1-4\" x=\"147.965683\" y=\"198.71875\"/>\n",
       "  <use xlink:href=\"#glyph1-5\" x=\"154.91571\" y=\"198.71875\"/>\n",
       "  <use xlink:href=\"#glyph1-6\" x=\"158.390717\" y=\"198.71875\"/>\n",
       "  <use xlink:href=\"#glyph1-7\" x=\"165.340744\" y=\"198.71875\"/>\n",
       "  <use xlink:href=\"#glyph1-8\" x=\"172.290771\" y=\"198.71875\"/>\n",
       "  <use xlink:href=\"#glyph1-5\" x=\"179.240799\" y=\"198.71875\"/>\n",
       "</g>\n",
       "<g style=\"fill:rgb(0%,0%,0%);fill-opacity:1;\">\n",
       "  <use xlink:href=\"#glyph2-1\" x=\"14.398438\" y=\"130.324219\"/>\n",
       "  <use xlink:href=\"#glyph2-2\" x=\"14.398438\" y=\"122.686691\"/>\n",
       "  <use xlink:href=\"#glyph2-3\" x=\"14.398438\" y=\"118.52417\"/>\n",
       "  <use xlink:href=\"#glyph2-4\" x=\"14.398438\" y=\"111.574142\"/>\n",
       "  <use xlink:href=\"#glyph2-5\" x=\"14.398438\" y=\"104.624115\"/>\n",
       "  <use xlink:href=\"#glyph2-3\" x=\"14.398438\" y=\"97.674088\"/>\n",
       "  <use xlink:href=\"#glyph2-6\" x=\"14.398438\" y=\"90.72406\"/>\n",
       "  <use xlink:href=\"#glyph2-7\" x=\"14.398438\" y=\"83.774033\"/>\n",
       "  <use xlink:href=\"#glyph2-8\" x=\"14.398438\" y=\"77.524002\"/>\n",
       "</g>\n",
       "<path style=\"fill:none;stroke-width:1;stroke-linecap:round;stroke-linejoin:round;stroke:rgb(0%,0%,0%);stroke-opacity:1;stroke-miterlimit:10;\" d=\"M 77.222656 142.558594 L 250.398438 142.558594 \"/>\n",
       "<path style=\"fill:none;stroke-width:1;stroke-linecap:round;stroke-linejoin:round;stroke:rgb(0%,0%,0%);stroke-opacity:1;stroke-miterlimit:10;\" d=\"M 77.222656 142.558594 L 77.222656 149.761719 \"/>\n",
       "<path style=\"fill:none;stroke-width:1;stroke-linecap:round;stroke-linejoin:round;stroke:rgb(0%,0%,0%);stroke-opacity:1;stroke-miterlimit:10;\" d=\"M 120.519531 142.558594 L 120.519531 149.761719 \"/>\n",
       "<path style=\"fill:none;stroke-width:1;stroke-linecap:round;stroke-linejoin:round;stroke:rgb(0%,0%,0%);stroke-opacity:1;stroke-miterlimit:10;\" d=\"M 163.8125 142.558594 L 163.8125 149.761719 \"/>\n",
       "<path style=\"fill:none;stroke-width:1;stroke-linecap:round;stroke-linejoin:round;stroke:rgb(0%,0%,0%);stroke-opacity:1;stroke-miterlimit:10;\" d=\"M 207.105469 142.558594 L 207.105469 149.761719 \"/>\n",
       "<path style=\"fill:none;stroke-width:1;stroke-linecap:round;stroke-linejoin:round;stroke:rgb(0%,0%,0%);stroke-opacity:1;stroke-miterlimit:10;\" d=\"M 250.398438 142.558594 L 250.398438 149.761719 \"/>\n",
       "<g style=\"fill:rgb(0%,0%,0%);fill-opacity:1;\">\n",
       "  <use xlink:href=\"#glyph1-9\" x=\"73.746094\" y=\"169.921875\"/>\n",
       "</g>\n",
       "<g style=\"fill:rgb(0%,0%,0%);fill-opacity:1;\">\n",
       "  <use xlink:href=\"#glyph1-10\" x=\"117.042969\" y=\"169.921875\"/>\n",
       "</g>\n",
       "<g style=\"fill:rgb(0%,0%,0%);fill-opacity:1;\">\n",
       "  <use xlink:href=\"#glyph1-11\" x=\"160.335938\" y=\"169.921875\"/>\n",
       "</g>\n",
       "<g style=\"fill:rgb(0%,0%,0%);fill-opacity:1;\">\n",
       "  <use xlink:href=\"#glyph1-12\" x=\"203.628906\" y=\"169.921875\"/>\n",
       "</g>\n",
       "<g style=\"fill:rgb(0%,0%,0%);fill-opacity:1;\">\n",
       "  <use xlink:href=\"#glyph1-13\" x=\"243.449219\" y=\"169.921875\"/>\n",
       "  <use xlink:href=\"#glyph1-14\" x=\"250.399246\" y=\"169.921875\"/>\n",
       "</g>\n",
       "<path style=\"fill:none;stroke-width:1;stroke-linecap:round;stroke-linejoin:round;stroke:rgb(0%,0%,0%);stroke-opacity:1;stroke-miterlimit:10;\" d=\"M 59.039062 139.464844 L 59.039062 72.609375 \"/>\n",
       "<path style=\"fill:none;stroke-width:1;stroke-linecap:round;stroke-linejoin:round;stroke:rgb(0%,0%,0%);stroke-opacity:1;stroke-miterlimit:10;\" d=\"M 59.039062 139.464844 L 51.839844 139.464844 \"/>\n",
       "<path style=\"fill:none;stroke-width:1;stroke-linecap:round;stroke-linejoin:round;stroke:rgb(0%,0%,0%);stroke-opacity:1;stroke-miterlimit:10;\" d=\"M 59.039062 117.179688 L 51.839844 117.179688 \"/>\n",
       "<path style=\"fill:none;stroke-width:1;stroke-linecap:round;stroke-linejoin:round;stroke:rgb(0%,0%,0%);stroke-opacity:1;stroke-miterlimit:10;\" d=\"M 59.039062 94.894531 L 51.839844 94.894531 \"/>\n",
       "<path style=\"fill:none;stroke-width:1;stroke-linecap:round;stroke-linejoin:round;stroke:rgb(0%,0%,0%);stroke-opacity:1;stroke-miterlimit:10;\" d=\"M 59.039062 72.609375 L 51.839844 72.609375 \"/>\n",
       "<g style=\"fill:rgb(0%,0%,0%);fill-opacity:1;\">\n",
       "  <use xlink:href=\"#glyph2-9\" x=\"43.199219\" y=\"142.941406\"/>\n",
       "</g>\n",
       "<g style=\"fill:rgb(0%,0%,0%);fill-opacity:1;\">\n",
       "  <use xlink:href=\"#glyph2-10\" x=\"43.199219\" y=\"108.792969\"/>\n",
       "  <use xlink:href=\"#glyph2-9\" x=\"43.199219\" y=\"101.842941\"/>\n",
       "  <use xlink:href=\"#glyph2-9\" x=\"43.199219\" y=\"94.892914\"/>\n",
       "  <use xlink:href=\"#glyph2-9\" x=\"43.199219\" y=\"87.942886\"/>\n",
       "</g>\n",
       "<path style=\"fill:none;stroke-width:1;stroke-linecap:round;stroke-linejoin:round;stroke:rgb(0%,0%,0%);stroke-opacity:1;stroke-miterlimit:10;\" d=\"M 66.398438 139.378906 L 77.222656 139.378906 L 77.222656 139.46875 L 66.398438 139.46875 Z M 66.398438 139.378906 \"/>\n",
       "<path style=\"fill:none;stroke-width:1;stroke-linecap:round;stroke-linejoin:round;stroke:rgb(0%,0%,0%);stroke-opacity:1;stroke-miterlimit:10;\" d=\"M 77.222656 139.421875 L 88.046875 139.421875 L 88.046875 139.464844 L 77.222656 139.464844 Z M 77.222656 139.421875 \"/>\n",
       "<path style=\"fill:none;stroke-width:1;stroke-linecap:round;stroke-linejoin:round;stroke:rgb(0%,0%,0%);stroke-opacity:1;stroke-miterlimit:10;\" d=\"M 88.046875 139.464844 L 98.871094 139.464844 Z M 88.046875 139.464844 \"/>\n",
       "<path style=\"fill:none;stroke-width:1;stroke-linecap:round;stroke-linejoin:round;stroke:rgb(0%,0%,0%);stroke-opacity:1;stroke-miterlimit:10;\" d=\"M 98.871094 139.421875 L 109.695312 139.421875 L 109.695312 139.464844 L 98.871094 139.464844 Z M 98.871094 139.421875 \"/>\n",
       "<path style=\"fill:none;stroke-width:1;stroke-linecap:round;stroke-linejoin:round;stroke:rgb(0%,0%,0%);stroke-opacity:1;stroke-miterlimit:10;\" d=\"M 109.695312 139.289062 L 120.519531 139.289062 L 120.519531 139.46875 L 109.695312 139.46875 Z M 109.695312 139.289062 \"/>\n",
       "<path style=\"fill:none;stroke-width:1;stroke-linecap:round;stroke-linejoin:round;stroke:rgb(0%,0%,0%);stroke-opacity:1;stroke-miterlimit:10;\" d=\"M 120.519531 138.976562 L 131.34375 138.976562 L 131.34375 139.46875 L 120.519531 139.46875 Z M 120.519531 138.976562 \"/>\n",
       "<path style=\"fill:none;stroke-width:1;stroke-linecap:round;stroke-linejoin:round;stroke:rgb(0%,0%,0%);stroke-opacity:1;stroke-miterlimit:10;\" d=\"M 131.339844 137.640625 L 142.164062 137.640625 L 142.164062 139.46875 L 131.339844 139.46875 Z M 131.339844 137.640625 \"/>\n",
       "<path style=\"fill:none;stroke-width:1;stroke-linecap:round;stroke-linejoin:round;stroke:rgb(0%,0%,0%);stroke-opacity:1;stroke-miterlimit:10;\" d=\"M 142.164062 135.902344 L 152.988281 135.902344 L 152.988281 139.46875 L 142.164062 139.46875 Z M 142.164062 135.902344 \"/>\n",
       "<path style=\"fill:none;stroke-width:1;stroke-linecap:round;stroke-linejoin:round;stroke:rgb(0%,0%,0%);stroke-opacity:1;stroke-miterlimit:10;\" d=\"M 152.988281 130.105469 L 163.8125 130.105469 L 163.8125 139.464844 L 152.988281 139.464844 Z M 152.988281 130.105469 \"/>\n",
       "<path style=\"fill:none;stroke-width:1;stroke-linecap:round;stroke-linejoin:round;stroke:rgb(0%,0%,0%);stroke-opacity:1;stroke-miterlimit:10;\" d=\"M 163.8125 116.957031 L 174.636719 116.957031 L 174.636719 139.464844 L 163.8125 139.464844 Z M 163.8125 116.957031 \"/>\n",
       "<path style=\"fill:none;stroke-width:1;stroke-linecap:round;stroke-linejoin:round;stroke:rgb(0%,0%,0%);stroke-opacity:1;stroke-miterlimit:10;\" d=\"M 174.636719 92.84375 L 185.460938 92.84375 L 185.460938 139.464844 L 174.636719 139.464844 Z M 174.636719 92.84375 \"/>\n",
       "<path style=\"fill:none;stroke-width:1;stroke-linecap:round;stroke-linejoin:round;stroke:rgb(0%,0%,0%);stroke-opacity:1;stroke-miterlimit:10;\" d=\"M 185.457031 67.972656 L 196.28125 67.972656 L 196.28125 139.46875 L 185.457031 139.46875 Z M 185.457031 67.972656 \"/>\n",
       "<path style=\"fill:none;stroke-width:1;stroke-linecap:round;stroke-linejoin:round;stroke:rgb(0%,0%,0%);stroke-opacity:1;stroke-miterlimit:10;\" d=\"M 196.28125 62.132812 L 207.105469 62.132812 L 207.105469 139.464844 L 196.28125 139.464844 Z M 196.28125 62.132812 \"/>\n",
       "<path style=\"fill:none;stroke-width:1;stroke-linecap:round;stroke-linejoin:round;stroke:rgb(0%,0%,0%);stroke-opacity:1;stroke-miterlimit:10;\" d=\"M 207.105469 69.710938 L 217.929688 69.710938 L 217.929688 139.46875 L 207.105469 139.46875 Z M 207.105469 69.710938 \"/>\n",
       "<path style=\"fill:none;stroke-width:1;stroke-linecap:round;stroke-linejoin:round;stroke:rgb(0%,0%,0%);stroke-opacity:1;stroke-miterlimit:10;\" d=\"M 217.929688 77.199219 L 228.753906 77.199219 L 228.753906 139.46875 L 217.929688 139.46875 Z M 217.929688 77.199219 \"/>\n",
       "<path style=\"fill:none;stroke-width:1;stroke-linecap:round;stroke-linejoin:round;stroke:rgb(0%,0%,0%);stroke-opacity:1;stroke-miterlimit:10;\" d=\"M 228.753906 95.652344 L 239.578125 95.652344 L 239.578125 139.46875 L 228.753906 139.46875 Z M 228.753906 95.652344 \"/>\n",
       "<path style=\"fill:none;stroke-width:1;stroke-linecap:round;stroke-linejoin:round;stroke:rgb(0%,0%,0%);stroke-opacity:1;stroke-miterlimit:10;\" d=\"M 239.578125 109.648438 L 250.402344 109.648438 L 250.402344 139.46875 L 239.578125 139.46875 Z M 239.578125 109.648438 \"/>\n",
       "</g>\n",
       "</svg>\n"
      ]
     },
     "metadata": {
      "image/svg+xml": {
       "isolated": true
      }
     },
     "output_type": "display_data"
    }
   ],
   "source": [
    "lprot_dat <- as.matrix(log2(prot_dat[,13:22]))\n",
    "lprot_dat[!is.finite(lprot_dat)] <- NA\n",
    "boxplot(lprot_dat)\n",
    "hist(lprot_dat)\n",
    "mean(lprot_dat)\n",
    "median(lprot_dat)\n",
    "sd(lprot_dat[Area.T24_T3.normalized])"
   ]
  },
  {
   "cell_type": "markdown",
   "metadata": {},
   "source": [
    "#### Question: What information does the file contain?"
   ]
  },
  {
   "cell_type": "markdown",
   "metadata": {},
   "source": [
    "Add your answers here (double-click here to edit the cell)"
   ]
  },
  {
   "cell_type": "markdown",
   "metadata": {},
   "source": [
    "#### The exercises 7-9 are based on the section \"Probability distributions\" in the course materials."
   ]
  },
  {
   "cell_type": "markdown",
   "metadata": {},
   "source": [
    "## Exercise 7"
   ]
  },
  {
   "cell_type": "markdown",
   "metadata": {},
   "source": [
    "There are several functions to create data sets that contain random numbers: rnorm, runif, rexp (drawn from a normal, a uniform and an exponential distribution, respectively). Apply the functions to create 10, 20 and 50 random numbers."
   ]
  },
  {
   "cell_type": "code",
   "execution_count": null,
   "metadata": {},
   "outputs": [],
   "source": [
    "a=rnorm(10)\n",
    "a\n",
    "summary(a)\n",
    "hist(a)\n",
    "# add your code here ..."
   ]
  },
  {
   "cell_type": "code",
   "execution_count": null,
   "metadata": {},
   "outputs": [],
   "source": [
    "# add your code here (use runif) ..."
   ]
  },
  {
   "cell_type": "code",
   "execution_count": null,
   "metadata": {},
   "outputs": [],
   "source": [
    "# add your code here (use rexp)..."
   ]
  },
  {
   "cell_type": "markdown",
   "metadata": {},
   "source": [
    "#### Question: Do you see a basic pattern in the values for each of the distributions?"
   ]
  },
  {
   "cell_type": "markdown",
   "metadata": {},
   "source": [
    "Add your answers here (double-click here to edit the cell)"
   ]
  },
  {
   "cell_type": "markdown",
   "metadata": {},
   "source": [
    "#### Question: What are specific properties of the distributions? You can check the help pages (e.g. by writing `?rnorm`)"
   ]
  },
  {
   "cell_type": "code",
   "execution_count": null,
   "metadata": {},
   "outputs": [],
   "source": [
    "#?rnorm"
   ]
  },
  {
   "cell_type": "markdown",
   "metadata": {},
   "source": [
    "Add your answers here (double-click here to edit the cell)"
   ]
  },
  {
   "cell_type": "markdown",
   "metadata": {},
   "source": [
    "## Exercise 8"
   ]
  },
  {
   "cell_type": "markdown",
   "metadata": {},
   "source": [
    "Create 1000 random numbers that are normally distributed.\n",
    "\n",
    "The following plot shows a histogram. Try to understand the meaning of the different parts of the plot. Change the number of bins (breaks in R). Estimate which number of bins describes the data best. Repeat the same by varying how many numbers are generated.\n",
    "\n",
    "Repeat the same for random numbers that are uniformly distributed."
   ]
  },
  {
   "cell_type": "code",
   "execution_count": null,
   "metadata": {},
   "outputs": [],
   "source": [
    "unif_dat <- rnorm(1000, -10,10) \n",
    "hist(unif_dat, breaks = 10)"
   ]
  },
  {
   "cell_type": "code",
   "execution_count": null,
   "metadata": {},
   "outputs": [],
   "source": [
    "##change the amount of random numbers"
   ]
  },
  {
   "cell_type": "code",
   "execution_count": null,
   "metadata": {},
   "outputs": [],
   "source": [
    "##repeat with runif()"
   ]
  },
  {
   "cell_type": "markdown",
   "metadata": {},
   "source": [
    "#### How many values do you need to estimate the mean reliably?"
   ]
  },
  {
   "cell_type": "markdown",
   "metadata": {},
   "source": [
    "Add your answers here (double-click here to edit the cell)"
   ]
  },
  {
   "cell_type": "markdown",
   "metadata": {},
   "source": [
    "## Exercise 9"
   ]
  },
  {
   "cell_type": "markdown",
   "metadata": {},
   "source": [
    "_Probabilities_\n",
    "\n",
    "- Read the description of `dnorm(): help(dnorm)`\n",
    "- Plot the density (`dnorm()`) and the cumulative (`pnorm()`) probability distribution of a normal distribution with mean 2.5 and standard deviation 1.5.\n",
    "- Read the probability of having a number between 0.5 and 4 from the cumulative distribution. Verify this number with its calculation `pnorm(4, 2.5, 1.5) - pnorm(0.5, 2.5, 1.5)`\n",
    "- Repeat the same for the intervals (-1, 2) and (1, 2)\n"
   ]
  },
  {
   "cell_type": "code",
   "execution_count": null,
   "metadata": {},
   "outputs": [],
   "source": [
    "x <- seq(-5,10,0.01)\n",
    "#head(x)\n",
    "density <- dnorm(x, mean=2.5, sd=1.5)\n",
    "head(density)\n",
    "cumulative <- pnorm(x, mean=2.5, sd=1.5)\n"
   ]
  },
  {
   "cell_type": "code",
   "execution_count": null,
   "metadata": {},
   "outputs": [],
   "source": [
    "## plot the functions:\n",
    "plot(x,density)\n",
    "# add code for plotting cumulative distribution\n"
   ]
  },
  {
   "cell_type": "code",
   "execution_count": null,
   "metadata": {},
   "outputs": [],
   "source": [
    "# This code is related to a question III below and the sample with 1000 observations above\n",
    "plot(x, 1000*dnorm(x, mean=2.5, sd=1.5), type=\"l\",ylab=\"frequency\")\n",
    "interval <- seq(1.5,2.5,0.01)\n",
    "polygon(c(1.5,interval,2.5), c(0,1000*dnorm(interval, 2.5,1.5),0), col = \"#FF000055\")\n",
    "polygon(c(1.5,2.5,2.5,1.5), 1000*c(dnorm(2, 2.5,1.5),dnorm(2, 2.5,1.5),0,0), col = \"#00FF0055\")\n",
    "points(2,1000*dnorm(2,2.5,1.5),pch=15,col=2)\n",
    "text(2,1000*dnorm(2,2.5,1.5),pch=15,col=2,labels =1000*dnorm(2,2.5,1.5), pos=1)"
   ]
  },
  {
   "cell_type": "code",
   "execution_count": null,
   "metadata": {},
   "outputs": [],
   "source": [
    "## Repeat the same for the intervals (-1, 2) and (1, 2)"
   ]
  },
  {
   "cell_type": "markdown",
   "metadata": {},
   "source": [
    "#### Question I: What are the 3 different arguments of these functions? How are they related to the Gaussian function?"
   ]
  },
  {
   "cell_type": "markdown",
   "metadata": {},
   "source": [
    "Add your answers here (double-click here to edit the cell)"
   ]
  },
  {
   "cell_type": "markdown",
   "metadata": {},
   "source": [
    "#### Question II: What is the difference between the first argument of ```dnorm``` and ```rnorm```?"
   ]
  },
  {
   "cell_type": "markdown",
   "metadata": {},
   "source": [
    "Add your answers here (double-click here to edit the cell)"
   ]
  },
  {
   "cell_type": "markdown",
   "metadata": {},
   "source": [
    "#### Question III: How would you estimate the probability of having a number between 0.5 and 4 from the density distribution?"
   ]
  },
  {
   "cell_type": "markdown",
   "metadata": {},
   "source": [
    "Add your answers here (double-click here to edit the cell)"
   ]
  },
  {
   "cell_type": "markdown",
   "metadata": {},
   "source": [
    "#### Question IV: What is the probability to obtain the number 2?"
   ]
  },
  {
   "cell_type": "markdown",
   "metadata": {},
   "source": [
    "Add your answers here (double-click here to edit the cell)"
   ]
  },
  {
   "cell_type": "markdown",
   "metadata": {},
   "source": [
    "#### Question V: What is the difference between probability and frequency?"
   ]
  },
  {
   "cell_type": "markdown",
   "metadata": {},
   "source": [
    "Add your answers here (double-click here to edit the cell)"
   ]
  },
  {
   "cell_type": "markdown",
   "metadata": {},
   "source": [
    "#### The exercises 10-15 are based on the section \"Visualization of distributions\" in the course materials."
   ]
  },
  {
   "cell_type": "markdown",
   "metadata": {},
   "source": [
    "## Exercise 10"
   ]
  },
  {
   "cell_type": "markdown",
   "metadata": {},
   "source": [
    "Use the function `rnorm()` to draw a random sample of 25 values from a normal distribution with a mean of 0 and a standard deviation equal to 1.0. Use a histogram, with `probability=TRUE` to display the values. Overlay the histogram with: (a) an estimated density curve; (b) the theoretical density curve for a normal distribution with mean 0 and standard deviation equal to 1.0. Repeat with samples of 100, 500 and 1000 values, showing the different displays in different panels on the same graphics page (`par(mfrow=...)`)"
   ]
  },
  {
   "cell_type": "code",
   "execution_count": null,
   "metadata": {},
   "outputs": [],
   "source": [
    "rand <- rnorm(25)\n",
    "hist(rand, probability = TRUE,ylim=c(0,0.5), border=\"#FFFFFF\", col=\"#333333\")\n",
    "lines(density(rand))\n",
    "x <- seq(-5,5,0.01)\n",
    "lines(x, dnorm(x), col=2)"
   ]
  },
  {
   "cell_type": "markdown",
   "metadata": {},
   "source": [
    "#### Question I: What are the black and the red lines?"
   ]
  },
  {
   "cell_type": "markdown",
   "metadata": {},
   "source": [
    "Add your answers here (double-click here to edit the cell)"
   ]
  },
  {
   "cell_type": "markdown",
   "metadata": {},
   "source": [
    "#### Question II: What improves when you increase the number of values?"
   ]
  },
  {
   "cell_type": "markdown",
   "metadata": {},
   "source": [
    "Add your answers here (double-click here to edit the cell)"
   ]
  },
  {
   "cell_type": "markdown",
   "metadata": {},
   "source": [
    "#### Question III: What does ```#333333``` mean?"
   ]
  },
  {
   "cell_type": "markdown",
   "metadata": {},
   "source": [
    "Add your answers here (double-click here to edit the cell)"
   ]
  },
  {
   "cell_type": "markdown",
   "metadata": {},
   "source": [
    "## Exercise 11\n"
   ]
  },
  {
   "cell_type": "markdown",
   "metadata": {},
   "source": [
    "Write a script that plots an estimated density curve for a random sample of 50 values from a normal distribution:\n",
    "\n",
    "- Plot estimated density curves (`plot(density(...))`) for random samples containing 50 values\n",
    "    - the normal distribution\n",
    "    - the uniform distribution (`runif(50)`)\n",
    "    \n",
    "- Overlay the two plots and use different colors.\n",
    "- Repeat the same but now taking random samples of 500 and 5000 values\n",
    "\n",
    "We will come back to this exercise in the \"Statistical tests\" study module."
   ]
  },
  {
   "cell_type": "code",
   "execution_count": null,
   "metadata": {},
   "outputs": [],
   "source": [
    "# Add your code here:\n",
    "randvals <- rnorm(50)\n",
    "# ...\n",
    "\n",
    "x <- seq(-5,5,0.01)\n",
    "plot(density(randvals), col=\"red\", ylim=c(0,1.1))\n",
    "lines(x, dnorm(x))\n",
    "# ...\n",
    "\n"
   ]
  },
  {
   "cell_type": "code",
   "execution_count": null,
   "metadata": {},
   "outputs": [],
   "source": [
    "## repeat for 500  values\n"
   ]
  },
  {
   "cell_type": "code",
   "execution_count": null,
   "metadata": {},
   "outputs": [],
   "source": [
    "## repeat for 5000 values"
   ]
  },
  {
   "cell_type": "markdown",
   "metadata": {},
   "source": [
    "#### Question I: Why is the estimated density curve of the uniformely distiubuted values much higher?"
   ]
  },
  {
   "cell_type": "markdown",
   "metadata": {},
   "source": [
    "Add your answers here (double-click here to edit the cell)"
   ]
  },
  {
   "cell_type": "markdown",
   "metadata": {},
   "source": [
    "## Exercise 12"
   ]
  },
  {
   "cell_type": "markdown",
   "metadata": {},
   "source": [
    "There are two ways to make the estimated density smoother:\n",
    "\n",
    "- One is to increase the number of samples\n",
    "- The other one is to increase the bandwidth. For example\n",
    "\n",
    "    `plot(density(rnorm(50), bw=0.2), type=\"l\")`\n",
    "    \n",
    "    `plot(density(rnorm(50), bw=0.6), type=\"l\")`\n",
    "\n",
    "Repeat each of the plots in the previous exercise with bandwidths of 0.15, with default choice of bandwidth, and with the bandwidth set to 0.75"
   ]
  },
  {
   "cell_type": "code",
   "execution_count": null,
   "metadata": {},
   "outputs": [],
   "source": [
    "# Add your code here:\n"
   ]
  },
  {
   "cell_type": "markdown",
   "metadata": {},
   "source": [
    "## Exercise 13"
   ]
  },
  {
   "cell_type": "markdown",
   "metadata": {},
   "source": [
    "The density estimation has the issue that it depends strongly on bandwidth and choice of kernel, making it sometimes not very useful to judge normality. A much better tool is the quantile-quantile plot, which uses an output similar to cumulative probability distributions. Try the following script and compare assess how the plot characterizes normally distributed data.\n",
    "\n",
    "- See how the plot deviates when comparing the normal distribution with random variables from other distributions.\n",
    "- Increase the number of data points\n",
    "- Substitute the `rnorm()` function by random variables from other distributions (e.g. `rexp()` and `rlnorm()`)\n"
   ]
  },
  {
   "cell_type": "code",
   "execution_count": null,
   "metadata": {},
   "outputs": [],
   "source": [
    "par(mfrow=c(1,3))\n",
    "qqnorm(rnorm(10))\n",
    "qqnorm(rnorm(15))\n",
    "qqnorm(rnorm(200))"
   ]
  },
  {
   "cell_type": "code",
   "execution_count": null,
   "metadata": {},
   "outputs": [],
   "source": [
    "# Add your code here (test another distribution):"
   ]
  },
  {
   "cell_type": "code",
   "execution_count": null,
   "metadata": {},
   "outputs": [],
   "source": [
    "# Add your code here (test another distribution):"
   ]
  },
  {
   "cell_type": "markdown",
   "metadata": {},
   "source": [
    "#### Question I: How does the ```qqnorm()``` function show that the data is normally distributed?"
   ]
  },
  {
   "cell_type": "markdown",
   "metadata": {},
   "source": [
    "Add your answers here (double-click here to edit the cell)"
   ]
  },
  {
   "cell_type": "markdown",
   "metadata": {},
   "source": [
    "#### Question II: How do the other tested distributions show their difference to a normal distribution when using the ```qqnorm()``` function?"
   ]
  },
  {
   "cell_type": "markdown",
   "metadata": {},
   "source": [
    "Add your answers here (double-click here to edit the cell)"
   ]
  },
  {
   "cell_type": "markdown",
   "metadata": {},
   "source": [
    "## Exercise 14"
   ]
  },
  {
   "cell_type": "markdown",
   "metadata": {},
   "source": [
    "Take the data sets `lh` and `Animals` and check for normality using `qqnorm`. Do the same on their logarithmic values. Additionally, use `boxplot()` to get an idea about how the boxplot of a normal distribution looks."
   ]
  },
  {
   "cell_type": "code",
   "execution_count": null,
   "metadata": {},
   "outputs": [],
   "source": [
    "#library(MASS)\n",
    "data(\"Animals\")\n",
    "#head(Animals)\n",
    "data(lh)\n",
    "\n",
    "#continue here...\n"
   ]
  },
  {
   "cell_type": "code",
   "execution_count": null,
   "metadata": {},
   "outputs": [],
   "source": [
    "boxplot(Animals)\n",
    "# add your code here:"
   ]
  },
  {
   "cell_type": "markdown",
   "metadata": {},
   "source": [
    "#### Question I: Which data set is (approximately) normally distributed?"
   ]
  },
  {
   "cell_type": "markdown",
   "metadata": {},
   "source": [
    "Add your answers here (double-click here to edit the cell)"
   ]
  },
  {
   "cell_type": "markdown",
   "metadata": {},
   "source": [
    "#### Question II: Which data set is (approximately) log-normally distributed?"
   ]
  },
  {
   "cell_type": "markdown",
   "metadata": {},
   "source": [
    "Add your answers here (double-click here to edit the cell)"
   ]
  },
  {
   "cell_type": "markdown",
   "metadata": {},
   "source": [
    "## Exercise 15 (Advanced, optional)"
   ]
  },
  {
   "cell_type": "markdown",
   "metadata": {},
   "source": [
    "Data with a distribution close to lognormal are common. Size measurements of biological organisms often have this character. As an example, consider the measurements of body weight (`body`) in the data frame `Animals (MASS` package). Begin by drawing a histogram of the untransformed values, and overlay a density curve. Then\n",
    "\n",
    "- Draw an estimated density curve for the logarithms of the values.\n",
    "- Determine the mean and standard deviation of `log(Animals$body)`. Overlay the estimated density with the theoretical density for a normal distribution with the mean and standard deviation just obtained."
   ]
  },
  {
   "cell_type": "code",
   "execution_count": null,
   "metadata": {},
   "outputs": [],
   "source": [
    "# Add you code here:"
   ]
  },
  {
   "cell_type": "markdown",
   "metadata": {},
   "source": [
    "#### Question I:  Does the distribution look like a normal distribution after transformation to a logarithmic scale??"
   ]
  },
  {
   "cell_type": "markdown",
   "metadata": {},
   "source": [
    "Add your answers here (double-click here to edit the cell)"
   ]
  },
  {
   "cell_type": "code",
   "execution_count": null,
   "metadata": {},
   "outputs": [],
   "source": []
  }
 ],
 "metadata": {
  "kernelspec": {
   "display_name": "R",
   "language": "R",
   "name": "ir"
  },
  "language_info": {
   "codemirror_mode": "r",
   "file_extension": ".r",
   "mimetype": "text/x-r-source",
   "name": "R",
   "pygments_lexer": "r",
   "version": "3.6.1"
  }
 },
 "nbformat": 4,
 "nbformat_minor": 2
}
